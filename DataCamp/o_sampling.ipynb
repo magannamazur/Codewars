{
 "cells": [
  {
   "cell_type": "code",
   "execution_count": 2,
   "id": "16636c5b",
   "metadata": {},
   "outputs": [],
   "source": [
    "import pandas as pd"
   ]
  },
  {
   "cell_type": "code",
   "execution_count": 6,
   "id": "472b9260",
   "metadata": {},
   "outputs": [
    {
     "data": {
      "text/html": [
       "<div>\n",
       "<style scoped>\n",
       "    .dataframe tbody tr th:only-of-type {\n",
       "        vertical-align: middle;\n",
       "    }\n",
       "\n",
       "    .dataframe tbody tr th {\n",
       "        vertical-align: top;\n",
       "    }\n",
       "\n",
       "    .dataframe thead th {\n",
       "        text-align: right;\n",
       "    }\n",
       "</style>\n",
       "<table border=\"1\" class=\"dataframe\">\n",
       "  <thead>\n",
       "    <tr style=\"text-align: right;\">\n",
       "      <th></th>\n",
       "      <th>total_cup_points</th>\n",
       "      <th>species</th>\n",
       "      <th>owner</th>\n",
       "      <th>country_of_origin</th>\n",
       "      <th>farm_name</th>\n",
       "      <th>lot_number</th>\n",
       "      <th>mill</th>\n",
       "      <th>ico_number</th>\n",
       "      <th>company</th>\n",
       "      <th>altitude</th>\n",
       "      <th>...</th>\n",
       "      <th>color</th>\n",
       "      <th>category_two_defects</th>\n",
       "      <th>expiration</th>\n",
       "      <th>certification_body</th>\n",
       "      <th>certification_address</th>\n",
       "      <th>certification_contact</th>\n",
       "      <th>unit_of_measurement</th>\n",
       "      <th>altitude_low_meters</th>\n",
       "      <th>altitude_high_meters</th>\n",
       "      <th>altitude_mean_meters</th>\n",
       "    </tr>\n",
       "  </thead>\n",
       "  <tbody>\n",
       "    <tr>\n",
       "      <th>0</th>\n",
       "      <td>90.58</td>\n",
       "      <td>Arabica</td>\n",
       "      <td>metad plc</td>\n",
       "      <td>Ethiopia</td>\n",
       "      <td>metad plc</td>\n",
       "      <td>None</td>\n",
       "      <td>metad plc</td>\n",
       "      <td>2014/2015</td>\n",
       "      <td>metad agricultural developmet plc</td>\n",
       "      <td>1950-2200</td>\n",
       "      <td>...</td>\n",
       "      <td>Green</td>\n",
       "      <td>0.0</td>\n",
       "      <td>April 3rd, 2016</td>\n",
       "      <td>METAD Agricultural Development plc</td>\n",
       "      <td>309fcf77415a3661ae83e027f7e5f05dad786e44</td>\n",
       "      <td>19fef5a731de2db57d16da10287413f5f99bc2dd</td>\n",
       "      <td>m</td>\n",
       "      <td>1950.0</td>\n",
       "      <td>2200.0</td>\n",
       "      <td>2075.0</td>\n",
       "    </tr>\n",
       "    <tr>\n",
       "      <th>1</th>\n",
       "      <td>89.92</td>\n",
       "      <td>Arabica</td>\n",
       "      <td>metad plc</td>\n",
       "      <td>Ethiopia</td>\n",
       "      <td>metad plc</td>\n",
       "      <td>None</td>\n",
       "      <td>metad plc</td>\n",
       "      <td>2014/2015</td>\n",
       "      <td>metad agricultural developmet plc</td>\n",
       "      <td>1950-2200</td>\n",
       "      <td>...</td>\n",
       "      <td>Green</td>\n",
       "      <td>1.0</td>\n",
       "      <td>April 3rd, 2016</td>\n",
       "      <td>METAD Agricultural Development plc</td>\n",
       "      <td>309fcf77415a3661ae83e027f7e5f05dad786e44</td>\n",
       "      <td>19fef5a731de2db57d16da10287413f5f99bc2dd</td>\n",
       "      <td>m</td>\n",
       "      <td>1950.0</td>\n",
       "      <td>2200.0</td>\n",
       "      <td>2075.0</td>\n",
       "    </tr>\n",
       "    <tr>\n",
       "      <th>2</th>\n",
       "      <td>89.75</td>\n",
       "      <td>Arabica</td>\n",
       "      <td>grounds for health admin</td>\n",
       "      <td>Guatemala</td>\n",
       "      <td>san marcos barrancas \"san cristobal cuch</td>\n",
       "      <td>None</td>\n",
       "      <td>None</td>\n",
       "      <td>None</td>\n",
       "      <td>None</td>\n",
       "      <td>1600 - 1800 m</td>\n",
       "      <td>...</td>\n",
       "      <td>None</td>\n",
       "      <td>0.0</td>\n",
       "      <td>May 31st, 2011</td>\n",
       "      <td>Specialty Coffee Association</td>\n",
       "      <td>36d0d00a3724338ba7937c52a378d085f2172daa</td>\n",
       "      <td>0878a7d4b9d35ddbf0fe2ce69a2062cceb45a660</td>\n",
       "      <td>m</td>\n",
       "      <td>1600.0</td>\n",
       "      <td>1800.0</td>\n",
       "      <td>1700.0</td>\n",
       "    </tr>\n",
       "    <tr>\n",
       "      <th>3</th>\n",
       "      <td>89.00</td>\n",
       "      <td>Arabica</td>\n",
       "      <td>yidnekachew dabessa</td>\n",
       "      <td>Ethiopia</td>\n",
       "      <td>yidnekachew dabessa coffee plantation</td>\n",
       "      <td>None</td>\n",
       "      <td>wolensu</td>\n",
       "      <td>None</td>\n",
       "      <td>yidnekachew debessa coffee plantation</td>\n",
       "      <td>1800-2200</td>\n",
       "      <td>...</td>\n",
       "      <td>Green</td>\n",
       "      <td>2.0</td>\n",
       "      <td>March 25th, 2016</td>\n",
       "      <td>METAD Agricultural Development plc</td>\n",
       "      <td>309fcf77415a3661ae83e027f7e5f05dad786e44</td>\n",
       "      <td>19fef5a731de2db57d16da10287413f5f99bc2dd</td>\n",
       "      <td>m</td>\n",
       "      <td>1800.0</td>\n",
       "      <td>2200.0</td>\n",
       "      <td>2000.0</td>\n",
       "    </tr>\n",
       "    <tr>\n",
       "      <th>4</th>\n",
       "      <td>88.83</td>\n",
       "      <td>Arabica</td>\n",
       "      <td>metad plc</td>\n",
       "      <td>Ethiopia</td>\n",
       "      <td>metad plc</td>\n",
       "      <td>None</td>\n",
       "      <td>metad plc</td>\n",
       "      <td>2014/2015</td>\n",
       "      <td>metad agricultural developmet plc</td>\n",
       "      <td>1950-2200</td>\n",
       "      <td>...</td>\n",
       "      <td>Green</td>\n",
       "      <td>2.0</td>\n",
       "      <td>April 3rd, 2016</td>\n",
       "      <td>METAD Agricultural Development plc</td>\n",
       "      <td>309fcf77415a3661ae83e027f7e5f05dad786e44</td>\n",
       "      <td>19fef5a731de2db57d16da10287413f5f99bc2dd</td>\n",
       "      <td>m</td>\n",
       "      <td>1950.0</td>\n",
       "      <td>2200.0</td>\n",
       "      <td>2075.0</td>\n",
       "    </tr>\n",
       "  </tbody>\n",
       "</table>\n",
       "<p>5 rows × 43 columns</p>\n",
       "</div>"
      ],
      "text/plain": [
       "   total_cup_points  species                     owner country_of_origin  \\\n",
       "0             90.58  Arabica                 metad plc          Ethiopia   \n",
       "1             89.92  Arabica                 metad plc          Ethiopia   \n",
       "2             89.75  Arabica  grounds for health admin         Guatemala   \n",
       "3             89.00  Arabica       yidnekachew dabessa          Ethiopia   \n",
       "4             88.83  Arabica                 metad plc          Ethiopia   \n",
       "\n",
       "                                  farm_name lot_number       mill ico_number  \\\n",
       "0                                 metad plc       None  metad plc  2014/2015   \n",
       "1                                 metad plc       None  metad plc  2014/2015   \n",
       "2  san marcos barrancas \"san cristobal cuch       None       None       None   \n",
       "3     yidnekachew dabessa coffee plantation       None    wolensu       None   \n",
       "4                                 metad plc       None  metad plc  2014/2015   \n",
       "\n",
       "                                 company       altitude  ...  color  \\\n",
       "0      metad agricultural developmet plc      1950-2200  ...  Green   \n",
       "1      metad agricultural developmet plc      1950-2200  ...  Green   \n",
       "2                                   None  1600 - 1800 m  ...   None   \n",
       "3  yidnekachew debessa coffee plantation      1800-2200  ...  Green   \n",
       "4      metad agricultural developmet plc      1950-2200  ...  Green   \n",
       "\n",
       "  category_two_defects        expiration                  certification_body  \\\n",
       "0                  0.0   April 3rd, 2016  METAD Agricultural Development plc   \n",
       "1                  1.0   April 3rd, 2016  METAD Agricultural Development plc   \n",
       "2                  0.0    May 31st, 2011        Specialty Coffee Association   \n",
       "3                  2.0  March 25th, 2016  METAD Agricultural Development plc   \n",
       "4                  2.0   April 3rd, 2016  METAD Agricultural Development plc   \n",
       "\n",
       "                      certification_address  \\\n",
       "0  309fcf77415a3661ae83e027f7e5f05dad786e44   \n",
       "1  309fcf77415a3661ae83e027f7e5f05dad786e44   \n",
       "2  36d0d00a3724338ba7937c52a378d085f2172daa   \n",
       "3  309fcf77415a3661ae83e027f7e5f05dad786e44   \n",
       "4  309fcf77415a3661ae83e027f7e5f05dad786e44   \n",
       "\n",
       "                      certification_contact unit_of_measurement  \\\n",
       "0  19fef5a731de2db57d16da10287413f5f99bc2dd                   m   \n",
       "1  19fef5a731de2db57d16da10287413f5f99bc2dd                   m   \n",
       "2  0878a7d4b9d35ddbf0fe2ce69a2062cceb45a660                   m   \n",
       "3  19fef5a731de2db57d16da10287413f5f99bc2dd                   m   \n",
       "4  19fef5a731de2db57d16da10287413f5f99bc2dd                   m   \n",
       "\n",
       "  altitude_low_meters altitude_high_meters altitude_mean_meters  \n",
       "0              1950.0               2200.0               2075.0  \n",
       "1              1950.0               2200.0               2075.0  \n",
       "2              1600.0               1800.0               1700.0  \n",
       "3              1800.0               2200.0               2000.0  \n",
       "4              1950.0               2200.0               2075.0  \n",
       "\n",
       "[5 rows x 43 columns]"
      ]
     },
     "execution_count": 6,
     "metadata": {},
     "output_type": "execute_result"
    }
   ],
   "source": [
    "coffee_ratings = pd.read_feather('data/coffee_ratings_full.feather')\n",
    "coffee_ratings.head(5)"
   ]
  },
  {
   "cell_type": "code",
   "execution_count": 7,
   "id": "4a2fddae",
   "metadata": {},
   "outputs": [
    {
     "data": {
      "text/plain": [
       "Index(['total_cup_points', 'species', 'owner', 'country_of_origin',\n",
       "       'farm_name', 'lot_number', 'mill', 'ico_number', 'company', 'altitude',\n",
       "       'region', 'producer', 'number_of_bags', 'bag_weight',\n",
       "       'in_country_partner', 'harvest_year', 'grading_date', 'owner_1',\n",
       "       'variety', 'processing_method', 'aroma', 'flavor', 'aftertaste',\n",
       "       'acidity', 'body', 'balance', 'uniformity', 'clean_cup', 'sweetness',\n",
       "       'cupper_points', 'moisture', 'category_one_defects', 'quakers', 'color',\n",
       "       'category_two_defects', 'expiration', 'certification_body',\n",
       "       'certification_address', 'certification_contact', 'unit_of_measurement',\n",
       "       'altitude_low_meters', 'altitude_high_meters', 'altitude_mean_meters'],\n",
       "      dtype='object')"
      ]
     },
     "execution_count": 7,
     "metadata": {},
     "output_type": "execute_result"
    }
   ],
   "source": [
    "coffee_ratings.columns"
   ]
  },
  {
   "cell_type": "code",
   "execution_count": 9,
   "id": "9d54d40f",
   "metadata": {},
   "outputs": [
    {
     "data": {
      "text/html": [
       "<div>\n",
       "<style scoped>\n",
       "    .dataframe tbody tr th:only-of-type {\n",
       "        vertical-align: middle;\n",
       "    }\n",
       "\n",
       "    .dataframe tbody tr th {\n",
       "        vertical-align: top;\n",
       "    }\n",
       "\n",
       "    .dataframe thead th {\n",
       "        text-align: right;\n",
       "    }\n",
       "</style>\n",
       "<table border=\"1\" class=\"dataframe\">\n",
       "  <thead>\n",
       "    <tr style=\"text-align: right;\">\n",
       "      <th></th>\n",
       "      <th>total_cup_points</th>\n",
       "      <th>flavor</th>\n",
       "    </tr>\n",
       "  </thead>\n",
       "  <tbody>\n",
       "    <tr>\n",
       "      <th>0</th>\n",
       "      <td>90.58</td>\n",
       "      <td>8.83</td>\n",
       "    </tr>\n",
       "    <tr>\n",
       "      <th>1</th>\n",
       "      <td>89.92</td>\n",
       "      <td>8.67</td>\n",
       "    </tr>\n",
       "    <tr>\n",
       "      <th>2</th>\n",
       "      <td>89.75</td>\n",
       "      <td>8.50</td>\n",
       "    </tr>\n",
       "    <tr>\n",
       "      <th>3</th>\n",
       "      <td>89.00</td>\n",
       "      <td>8.58</td>\n",
       "    </tr>\n",
       "    <tr>\n",
       "      <th>4</th>\n",
       "      <td>88.83</td>\n",
       "      <td>8.50</td>\n",
       "    </tr>\n",
       "    <tr>\n",
       "      <th>...</th>\n",
       "      <td>...</td>\n",
       "      <td>...</td>\n",
       "    </tr>\n",
       "    <tr>\n",
       "      <th>1333</th>\n",
       "      <td>78.75</td>\n",
       "      <td>7.58</td>\n",
       "    </tr>\n",
       "    <tr>\n",
       "      <th>1334</th>\n",
       "      <td>78.08</td>\n",
       "      <td>7.67</td>\n",
       "    </tr>\n",
       "    <tr>\n",
       "      <th>1335</th>\n",
       "      <td>77.17</td>\n",
       "      <td>7.33</td>\n",
       "    </tr>\n",
       "    <tr>\n",
       "      <th>1336</th>\n",
       "      <td>75.08</td>\n",
       "      <td>6.83</td>\n",
       "    </tr>\n",
       "    <tr>\n",
       "      <th>1337</th>\n",
       "      <td>73.75</td>\n",
       "      <td>6.67</td>\n",
       "    </tr>\n",
       "  </tbody>\n",
       "</table>\n",
       "<p>1338 rows × 2 columns</p>\n",
       "</div>"
      ],
      "text/plain": [
       "      total_cup_points  flavor\n",
       "0                90.58    8.83\n",
       "1                89.92    8.67\n",
       "2                89.75    8.50\n",
       "3                89.00    8.58\n",
       "4                88.83    8.50\n",
       "...                ...     ...\n",
       "1333             78.75    7.58\n",
       "1334             78.08    7.67\n",
       "1335             77.17    7.33\n",
       "1336             75.08    6.83\n",
       "1337             73.75    6.67\n",
       "\n",
       "[1338 rows x 2 columns]"
      ]
     },
     "execution_count": 9,
     "metadata": {},
     "output_type": "execute_result"
    }
   ],
   "source": [
    "cup_points_vs_flavor = coffee_ratings[['total_cup_points', 'flavor']]\n",
    "cup_points_vs_flavor"
   ]
  },
  {
   "cell_type": "code",
   "execution_count": 10,
   "id": "1cc4722a",
   "metadata": {},
   "outputs": [
    {
     "data": {
      "text/html": [
       "<div>\n",
       "<style scoped>\n",
       "    .dataframe tbody tr th:only-of-type {\n",
       "        vertical-align: middle;\n",
       "    }\n",
       "\n",
       "    .dataframe tbody tr th {\n",
       "        vertical-align: top;\n",
       "    }\n",
       "\n",
       "    .dataframe thead th {\n",
       "        text-align: right;\n",
       "    }\n",
       "</style>\n",
       "<table border=\"1\" class=\"dataframe\">\n",
       "  <thead>\n",
       "    <tr style=\"text-align: right;\">\n",
       "      <th></th>\n",
       "      <th>total_cup_points</th>\n",
       "      <th>flavor</th>\n",
       "    </tr>\n",
       "  </thead>\n",
       "  <tbody>\n",
       "    <tr>\n",
       "      <th>1178</th>\n",
       "      <td>79.33</td>\n",
       "      <td>7.25</td>\n",
       "    </tr>\n",
       "    <tr>\n",
       "      <th>58</th>\n",
       "      <td>85.83</td>\n",
       "      <td>8.00</td>\n",
       "    </tr>\n",
       "    <tr>\n",
       "      <th>967</th>\n",
       "      <td>81.25</td>\n",
       "      <td>7.17</td>\n",
       "    </tr>\n",
       "    <tr>\n",
       "      <th>1312</th>\n",
       "      <td>83.25</td>\n",
       "      <td>7.83</td>\n",
       "    </tr>\n",
       "    <tr>\n",
       "      <th>204</th>\n",
       "      <td>84.25</td>\n",
       "      <td>7.50</td>\n",
       "    </tr>\n",
       "    <tr>\n",
       "      <th>1106</th>\n",
       "      <td>80.17</td>\n",
       "      <td>7.08</td>\n",
       "    </tr>\n",
       "    <tr>\n",
       "      <th>1148</th>\n",
       "      <td>79.75</td>\n",
       "      <td>7.08</td>\n",
       "    </tr>\n",
       "    <tr>\n",
       "      <th>189</th>\n",
       "      <td>84.33</td>\n",
       "      <td>7.75</td>\n",
       "    </tr>\n",
       "    <tr>\n",
       "      <th>666</th>\n",
       "      <td>82.50</td>\n",
       "      <td>7.58</td>\n",
       "    </tr>\n",
       "    <tr>\n",
       "      <th>530</th>\n",
       "      <td>83.00</td>\n",
       "      <td>7.58</td>\n",
       "    </tr>\n",
       "  </tbody>\n",
       "</table>\n",
       "</div>"
      ],
      "text/plain": [
       "      total_cup_points  flavor\n",
       "1178             79.33    7.25\n",
       "58               85.83    8.00\n",
       "967              81.25    7.17\n",
       "1312             83.25    7.83\n",
       "204              84.25    7.50\n",
       "1106             80.17    7.08\n",
       "1148             79.75    7.08\n",
       "189              84.33    7.75\n",
       "666              82.50    7.58\n",
       "530              83.00    7.58"
      ]
     },
     "execution_count": 10,
     "metadata": {},
     "output_type": "execute_result"
    }
   ],
   "source": [
    "# rows from the original dataset can't appear in the sample dataset multiple times\n",
    "cup_points_vs_flavor_sample = cup_points_vs_flavor.sample(10)\n",
    "cup_points_vs_flavor_sample"
   ]
  },
  {
   "cell_type": "code",
   "execution_count": 16,
   "id": "2d2785b4",
   "metadata": {},
   "outputs": [],
   "source": [
    "# works for series\n",
    "total_cup_points_sample = coffee_ratings['total_cup_points'].sample(10)"
   ]
  },
  {
   "cell_type": "code",
   "execution_count": 12,
   "id": "d71ec0dd",
   "metadata": {},
   "outputs": [],
   "source": [
    "import numpy as np"
   ]
  },
  {
   "cell_type": "code",
   "execution_count": 14,
   "id": "01eeaeaf",
   "metadata": {},
   "outputs": [
    {
     "data": {
      "text/plain": [
       "82.15120328849028"
      ]
     },
     "execution_count": 14,
     "metadata": {},
     "output_type": "execute_result"
    }
   ],
   "source": [
    "np.mean(coffee_ratings['total_cup_points'])"
   ]
  },
  {
   "cell_type": "code",
   "execution_count": 18,
   "id": "edf282de",
   "metadata": {},
   "outputs": [
    {
     "data": {
      "text/plain": [
       "82.557"
      ]
     },
     "execution_count": 18,
     "metadata": {},
     "output_type": "execute_result"
    }
   ],
   "source": [
    "np.mean(total_cup_points_sample)"
   ]
  },
  {
   "cell_type": "code",
   "execution_count": 20,
   "id": "72543db0",
   "metadata": {},
   "outputs": [
    {
     "data": {
      "text/plain": [
       "82.15120328849028"
      ]
     },
     "execution_count": 20,
     "metadata": {},
     "output_type": "execute_result"
    }
   ],
   "source": [
    "coffee_ratings['total_cup_points'].mean() # by pandas"
   ]
  },
  {
   "cell_type": "code",
   "execution_count": 21,
   "id": "3c864885",
   "metadata": {},
   "outputs": [
    {
     "data": {
      "text/plain": [
       "82.557"
      ]
     },
     "execution_count": 21,
     "metadata": {},
     "output_type": "execute_result"
    }
   ],
   "source": [
    "total_cup_points_sample.mean() # by pandas"
   ]
  },
  {
   "cell_type": "code",
   "execution_count": 22,
   "id": "fe210291",
   "metadata": {},
   "outputs": [],
   "source": [
    "first_ten_rows = coffee_ratings['total_cup_points'].head(10)"
   ]
  },
  {
   "cell_type": "code",
   "execution_count": 23,
   "id": "e243dc36",
   "metadata": {},
   "outputs": [
    {
     "data": {
      "text/plain": [
       "89.1"
      ]
     },
     "execution_count": 23,
     "metadata": {},
     "output_type": "execute_result"
    }
   ],
   "source": [
    "np.mean(first_ten_rows)"
   ]
  },
  {
   "cell_type": "code",
   "execution_count": 24,
   "id": "1a589769",
   "metadata": {},
   "outputs": [
    {
     "data": {
      "image/png": "[encoded data removed]",
      "text/plain": [
       "<Figure size 640x480 with 1 Axes>"
      ]
     },
     "metadata": {},
     "output_type": "display_data"
    }
   ],
   "source": [
    "import matplotlib.pyplot as plt\n",
    "coffee_ratings['total_cup_points'].hist(bins= np.arange(59,93,2))\n",
    "plt.show()"
   ]
  },
  {
   "cell_type": "code",
   "execution_count": 25,
   "id": "402f2812",
   "metadata": {},
   "outputs": [
    {
     "data": {
      "image/png": "[encoded data removed]",
      "text/plain": [
       "<Figure size 640x480 with 1 Axes>"
      ]
     },
     "metadata": {},
     "output_type": "display_data"
    }
   ],
   "source": [
    "first_ten_rows.hist(bins= np.arange(59,93,2))\n",
    "plt.show()"
   ]
  },
  {
   "cell_type": "code",
   "execution_count": 26,
   "id": "729dac59",
   "metadata": {},
   "outputs": [
    {
     "data": {
      "image/png": "[encoded data removed]",
      "text/plain": [
       "<Figure size 640x480 with 1 Axes>"
      ]
     },
     "metadata": {},
     "output_type": "display_data"
    }
   ],
   "source": [
    "total_cup_points_sample.hist(bins= np.arange(59,93,2))\n",
    "plt.show()"
   ]
  },
  {
   "cell_type": "code",
   "execution_count": 27,
   "id": "f63708ac",
   "metadata": {},
   "outputs": [
    {
     "data": {
      "image/png": "[encoded data removed]",
      "text/plain": [
       "<PIL.JpegImagePlugin.JpegImageFile image mode=RGB size=841x502>"
      ]
     },
     "metadata": {},
     "output_type": "display_data"
    }
   ],
   "source": [
    "from PIL import Image \n",
    "from IPython.display import display\n",
    "img = Image. open('random.jpg')\n",
    "display(img)"
   ]
  },
  {
   "cell_type": "code",
   "execution_count": 34,
   "id": "8e85dbf9",
   "metadata": {},
   "outputs": [
    {
     "data": {
      "text/plain": [
       "array([0.83882776, 0.30923008, 0.14406578, 0.65863162, 0.75052887,\n",
       "       0.47229767, 0.38775433, 0.51114993, 0.24832553, 0.36510106])"
      ]
     },
     "execution_count": 34,
     "metadata": {},
     "output_type": "execute_result"
    }
   ],
   "source": [
    "randoms = np.random.beta(a=2, b = 2, size=10)\n",
    "randoms\n",
    "# distributions parameters\n",
    "# comes from continous distribution\n",
    "# gets values 0-1"
   ]
  },
  {
   "cell_type": "code",
   "execution_count": 35,
   "id": "d7d50d55",
   "metadata": {},
   "outputs": [
    {
     "data": {
      "image/png": "[encoded data removed]",
      "text/plain": [
       "<Figure size 640x480 with 1 Axes>"
      ]
     },
     "metadata": {},
     "output_type": "display_data"
    }
   ],
   "source": [
    "randoms_5000 = np.random.beta(a=2, b = 2, size=5000)\n",
    "plt.hist(randoms_5000, bins = np.arange(0,1,0.05))\n",
    "plt.show()"
   ]
  },
  {
   "cell_type": "code",
   "execution_count": 37,
   "id": "dd2e3005",
   "metadata": {},
   "outputs": [],
   "source": [
    "np.random.seed(10)\n",
    "# if we set seed and run again the cell with code, the random numbers will appear the same"
   ]
  },
  {
   "cell_type": "code",
   "execution_count": 39,
   "id": "b91377dd",
   "metadata": {},
   "outputs": [
    {
     "data": {
      "text/plain": [
       "array([ 3.99737976,  3.07291846, -0.31810044,  1.98742423,  2.93200396,\n",
       "        0.91987166,  2.39826738,  2.16282279,  2.00643715,  1.73809968])"
      ]
     },
     "execution_count": 39,
     "metadata": {},
     "output_type": "execute_result"
    }
   ],
   "source": [
    "randoms_n = np.random.normal(loc=2, scale = 1.5, size=10)\n",
    "randoms_n\n",
    "# loc - mean, scale = std\n",
    "# comes from continous distribution\n",
    "# gets values 0-1"
   ]
  },
  {
   "cell_type": "code",
   "execution_count": 40,
   "id": "a8a091a4",
   "metadata": {},
   "outputs": [
    {
     "data": {
      "text/plain": [
       "1231    78.25\n",
       "768     82.17\n",
       "847     81.83\n",
       "510     83.00\n",
       "363     83.50\n",
       "825     81.92\n",
       "466     83.17\n",
       "185     84.33\n",
       "1118    80.08\n",
       "445     83.17\n",
       "Name: total_cup_points, dtype: float64"
      ]
     },
     "execution_count": 40,
     "metadata": {},
     "output_type": "execute_result"
    }
   ],
   "source": [
    "coffee_ratings['total_cup_points'].sample(10, random_state= 22)"
   ]
  },
  {
   "cell_type": "code",
   "execution_count": 42,
   "id": "c3b47c50",
   "metadata": {},
   "outputs": [
    {
     "data": {
      "text/plain": [
       "1338"
      ]
     },
     "execution_count": 42,
     "metadata": {},
     "output_type": "execute_result"
    }
   ],
   "source": [
    "# Systematic sampling, ample every each interval\n",
    "sample_size = 5\n",
    "pop_size = len(coffee_ratings)\n",
    "pop_size"
   ]
  },
  {
   "cell_type": "code",
   "execution_count": 43,
   "id": "c49429f6",
   "metadata": {},
   "outputs": [
    {
     "data": {
      "text/plain": [
       "267"
      ]
     },
     "execution_count": 43,
     "metadata": {},
     "output_type": "execute_result"
    }
   ],
   "source": [
    "interval = pop_size//sample_size\n",
    "interval"
   ]
  },
  {
   "cell_type": "code",
   "execution_count": 44,
   "id": "6d2ee0ff",
   "metadata": {},
   "outputs": [
    {
     "data": {
      "text/html": [
       "<div>\n",
       "<style scoped>\n",
       "    .dataframe tbody tr th:only-of-type {\n",
       "        vertical-align: middle;\n",
       "    }\n",
       "\n",
       "    .dataframe tbody tr th {\n",
       "        vertical-align: top;\n",
       "    }\n",
       "\n",
       "    .dataframe thead th {\n",
       "        text-align: right;\n",
       "    }\n",
       "</style>\n",
       "<table border=\"1\" class=\"dataframe\">\n",
       "  <thead>\n",
       "    <tr style=\"text-align: right;\">\n",
       "      <th></th>\n",
       "      <th>total_cup_points</th>\n",
       "      <th>species</th>\n",
       "      <th>owner</th>\n",
       "      <th>country_of_origin</th>\n",
       "      <th>farm_name</th>\n",
       "      <th>lot_number</th>\n",
       "      <th>mill</th>\n",
       "      <th>ico_number</th>\n",
       "      <th>company</th>\n",
       "      <th>altitude</th>\n",
       "      <th>...</th>\n",
       "      <th>color</th>\n",
       "      <th>category_two_defects</th>\n",
       "      <th>expiration</th>\n",
       "      <th>certification_body</th>\n",
       "      <th>certification_address</th>\n",
       "      <th>certification_contact</th>\n",
       "      <th>unit_of_measurement</th>\n",
       "      <th>altitude_low_meters</th>\n",
       "      <th>altitude_high_meters</th>\n",
       "      <th>altitude_mean_meters</th>\n",
       "    </tr>\n",
       "  </thead>\n",
       "  <tbody>\n",
       "    <tr>\n",
       "      <th>0</th>\n",
       "      <td>90.58</td>\n",
       "      <td>Arabica</td>\n",
       "      <td>metad plc</td>\n",
       "      <td>Ethiopia</td>\n",
       "      <td>metad plc</td>\n",
       "      <td>None</td>\n",
       "      <td>metad plc</td>\n",
       "      <td>2014/2015</td>\n",
       "      <td>metad agricultural developmet plc</td>\n",
       "      <td>1950-2200</td>\n",
       "      <td>...</td>\n",
       "      <td>Green</td>\n",
       "      <td>0.0</td>\n",
       "      <td>April 3rd, 2016</td>\n",
       "      <td>METAD Agricultural Development plc</td>\n",
       "      <td>309fcf77415a3661ae83e027f7e5f05dad786e44</td>\n",
       "      <td>19fef5a731de2db57d16da10287413f5f99bc2dd</td>\n",
       "      <td>m</td>\n",
       "      <td>1950.0</td>\n",
       "      <td>2200.0</td>\n",
       "      <td>2075.0</td>\n",
       "    </tr>\n",
       "    <tr>\n",
       "      <th>267</th>\n",
       "      <td>83.92</td>\n",
       "      <td>Arabica</td>\n",
       "      <td>federacion nacional de cafeteros</td>\n",
       "      <td>Colombia</td>\n",
       "      <td>None</td>\n",
       "      <td>None</td>\n",
       "      <td>None</td>\n",
       "      <td>01-1969</td>\n",
       "      <td>federacion nacional de cafeteros</td>\n",
       "      <td>None</td>\n",
       "      <td>...</td>\n",
       "      <td>None</td>\n",
       "      <td>1.0</td>\n",
       "      <td>March 11th, 2016</td>\n",
       "      <td>Almacafé</td>\n",
       "      <td>e493c36c2d076bf273064f7ac23ad562af257a25</td>\n",
       "      <td>70d3c0c26f89e00fdae6fb39ff54f0d2eb1c38ab</td>\n",
       "      <td>m</td>\n",
       "      <td>NaN</td>\n",
       "      <td>NaN</td>\n",
       "      <td>NaN</td>\n",
       "    </tr>\n",
       "    <tr>\n",
       "      <th>534</th>\n",
       "      <td>82.92</td>\n",
       "      <td>Arabica</td>\n",
       "      <td>consejo salvadoreño del café</td>\n",
       "      <td>El Salvador</td>\n",
       "      <td>santa josefita</td>\n",
       "      <td>1-198</td>\n",
       "      <td>beneficio cuzcachapa</td>\n",
       "      <td>09-030-273</td>\n",
       "      <td>soc. coop. cuzcachapa de r.l.</td>\n",
       "      <td>1350</td>\n",
       "      <td>...</td>\n",
       "      <td>Green</td>\n",
       "      <td>1.0</td>\n",
       "      <td>August 28th, 2018</td>\n",
       "      <td>Salvadoran Coffee Council</td>\n",
       "      <td>3d4987e3b91399dbb3938b5bdf53893b6ef45be1</td>\n",
       "      <td>27b21e368fb8291cbea02c60623fe6c98f84524d</td>\n",
       "      <td>m</td>\n",
       "      <td>1350.0</td>\n",
       "      <td>1350.0</td>\n",
       "      <td>1350.0</td>\n",
       "    </tr>\n",
       "    <tr>\n",
       "      <th>801</th>\n",
       "      <td>82.00</td>\n",
       "      <td>Arabica</td>\n",
       "      <td>lin, che-hao krude 林哲豪</td>\n",
       "      <td>Taiwan</td>\n",
       "      <td>you siang coffee farmtainan, taiwan 台灣台南優香咖啡</td>\n",
       "      <td>None</td>\n",
       "      <td>you siang coffee farmtainan, taiwan 台灣台南優香咖啡</td>\n",
       "      <td>Taiwan</td>\n",
       "      <td>red on tree co., ltd.</td>\n",
       "      <td>600m</td>\n",
       "      <td>...</td>\n",
       "      <td>Green</td>\n",
       "      <td>0.0</td>\n",
       "      <td>July 22nd, 2015</td>\n",
       "      <td>Specialty Coffee Association</td>\n",
       "      <td>36d0d00a3724338ba7937c52a378d085f2172daa</td>\n",
       "      <td>0878a7d4b9d35ddbf0fe2ce69a2062cceb45a660</td>\n",
       "      <td>m</td>\n",
       "      <td>600.0</td>\n",
       "      <td>600.0</td>\n",
       "      <td>600.0</td>\n",
       "    </tr>\n",
       "    <tr>\n",
       "      <th>1068</th>\n",
       "      <td>80.50</td>\n",
       "      <td>Arabica</td>\n",
       "      <td>cqi taiwan icp cqi台灣合作夥伴</td>\n",
       "      <td>Taiwan</td>\n",
       "      <td>王秋金</td>\n",
       "      <td>1</td>\n",
       "      <td>non</td>\n",
       "      <td>None</td>\n",
       "      <td>王秋金</td>\n",
       "      <td>50</td>\n",
       "      <td>...</td>\n",
       "      <td>Blue-Green</td>\n",
       "      <td>0.0</td>\n",
       "      <td>December 8th, 2018</td>\n",
       "      <td>Blossom Valley International</td>\n",
       "      <td>fc45352eee499d8470cf94c9827922fb745bf815</td>\n",
       "      <td>de73fc9412358b523d3a641501e542f31d2668b0</td>\n",
       "      <td>m</td>\n",
       "      <td>50.0</td>\n",
       "      <td>50.0</td>\n",
       "      <td>50.0</td>\n",
       "    </tr>\n",
       "    <tr>\n",
       "      <th>1335</th>\n",
       "      <td>77.17</td>\n",
       "      <td>Robusta</td>\n",
       "      <td>james moore</td>\n",
       "      <td>United States</td>\n",
       "      <td>fazenda cazengo</td>\n",
       "      <td>None</td>\n",
       "      <td>cafe cazengo</td>\n",
       "      <td>None</td>\n",
       "      <td>global opportunity fund</td>\n",
       "      <td>795 meters</td>\n",
       "      <td>...</td>\n",
       "      <td>None</td>\n",
       "      <td>6.0</td>\n",
       "      <td>December 23rd, 2015</td>\n",
       "      <td>Specialty Coffee Association</td>\n",
       "      <td>ff7c18ad303d4b603ac3f8cff7e611ffc735e720</td>\n",
       "      <td>352d0cf7f3e9be14dad7df644ad65efc27605ae2</td>\n",
       "      <td>m</td>\n",
       "      <td>795.0</td>\n",
       "      <td>795.0</td>\n",
       "      <td>795.0</td>\n",
       "    </tr>\n",
       "  </tbody>\n",
       "</table>\n",
       "<p>6 rows × 43 columns</p>\n",
       "</div>"
      ],
      "text/plain": [
       "      total_cup_points  species                             owner  \\\n",
       "0                90.58  Arabica                         metad plc   \n",
       "267              83.92  Arabica  federacion nacional de cafeteros   \n",
       "534              82.92  Arabica      consejo salvadoreño del café   \n",
       "801              82.00  Arabica            lin, che-hao krude 林哲豪   \n",
       "1068             80.50  Arabica          cqi taiwan icp cqi台灣合作夥伴   \n",
       "1335             77.17  Robusta                       james moore   \n",
       "\n",
       "     country_of_origin                                     farm_name  \\\n",
       "0             Ethiopia                                     metad plc   \n",
       "267           Colombia                                          None   \n",
       "534        El Salvador                                santa josefita   \n",
       "801             Taiwan  you siang coffee farmtainan, taiwan 台灣台南優香咖啡   \n",
       "1068            Taiwan                                           王秋金   \n",
       "1335     United States                               fazenda cazengo   \n",
       "\n",
       "     lot_number                                          mill  ico_number  \\\n",
       "0          None                                     metad plc   2014/2015   \n",
       "267        None                                          None     01-1969   \n",
       "534       1-198                          beneficio cuzcachapa  09-030-273   \n",
       "801        None  you siang coffee farmtainan, taiwan 台灣台南優香咖啡      Taiwan   \n",
       "1068          1                                           non        None   \n",
       "1335       None                                  cafe cazengo        None   \n",
       "\n",
       "                                company    altitude  ...       color  \\\n",
       "0     metad agricultural developmet plc   1950-2200  ...       Green   \n",
       "267    federacion nacional de cafeteros        None  ...        None   \n",
       "534       soc. coop. cuzcachapa de r.l.        1350  ...       Green   \n",
       "801               red on tree co., ltd.        600m  ...       Green   \n",
       "1068                                王秋金          50  ...  Blue-Green   \n",
       "1335            global opportunity fund  795 meters  ...        None   \n",
       "\n",
       "     category_two_defects           expiration  \\\n",
       "0                     0.0      April 3rd, 2016   \n",
       "267                   1.0     March 11th, 2016   \n",
       "534                   1.0    August 28th, 2018   \n",
       "801                   0.0      July 22nd, 2015   \n",
       "1068                  0.0   December 8th, 2018   \n",
       "1335                  6.0  December 23rd, 2015   \n",
       "\n",
       "                      certification_body  \\\n",
       "0     METAD Agricultural Development plc   \n",
       "267                             Almacafé   \n",
       "534            Salvadoran Coffee Council   \n",
       "801         Specialty Coffee Association   \n",
       "1068        Blossom Valley International   \n",
       "1335        Specialty Coffee Association   \n",
       "\n",
       "                         certification_address  \\\n",
       "0     309fcf77415a3661ae83e027f7e5f05dad786e44   \n",
       "267   e493c36c2d076bf273064f7ac23ad562af257a25   \n",
       "534   3d4987e3b91399dbb3938b5bdf53893b6ef45be1   \n",
       "801   36d0d00a3724338ba7937c52a378d085f2172daa   \n",
       "1068  fc45352eee499d8470cf94c9827922fb745bf815   \n",
       "1335  ff7c18ad303d4b603ac3f8cff7e611ffc735e720   \n",
       "\n",
       "                         certification_contact unit_of_measurement  \\\n",
       "0     19fef5a731de2db57d16da10287413f5f99bc2dd                   m   \n",
       "267   70d3c0c26f89e00fdae6fb39ff54f0d2eb1c38ab                   m   \n",
       "534   27b21e368fb8291cbea02c60623fe6c98f84524d                   m   \n",
       "801   0878a7d4b9d35ddbf0fe2ce69a2062cceb45a660                   m   \n",
       "1068  de73fc9412358b523d3a641501e542f31d2668b0                   m   \n",
       "1335  352d0cf7f3e9be14dad7df644ad65efc27605ae2                   m   \n",
       "\n",
       "     altitude_low_meters altitude_high_meters altitude_mean_meters  \n",
       "0                 1950.0               2200.0               2075.0  \n",
       "267                  NaN                  NaN                  NaN  \n",
       "534               1350.0               1350.0               1350.0  \n",
       "801                600.0                600.0                600.0  \n",
       "1068                50.0                 50.0                 50.0  \n",
       "1335               795.0                795.0                795.0  \n",
       "\n",
       "[6 rows x 43 columns]"
      ]
     },
     "execution_count": 44,
     "metadata": {},
     "output_type": "execute_result"
    }
   ],
   "source": [
    "coffee_ratings.iloc[::interval]"
   ]
  },
  {
   "cell_type": "code",
   "execution_count": 46,
   "id": "a62e9ee3",
   "metadata": {},
   "outputs": [
    {
     "data": {
      "image/png": "[encoded data removed]",
      "text/plain": [
       "<Figure size 640x480 with 1 Axes>"
      ]
     },
     "metadata": {},
     "output_type": "display_data"
    }
   ],
   "source": [
    "# to creat the index column in our plot\n",
    "coffe_rating_id = coffee_ratings.reset_index()\n",
    "coffe_rating_id.plot(x ='index', y = 'aftertaste', kind = 'scatter')\n",
    "plt.show()"
   ]
  },
  {
   "cell_type": "code",
   "execution_count": 47,
   "id": "4c4b305a",
   "metadata": {},
   "outputs": [
    {
     "data": {
      "image/png": "[encoded data removed]",
      "text/plain": [
       "<Figure size 640x480 with 1 Axes>"
      ]
     },
     "metadata": {},
     "output_type": "display_data"
    }
   ],
   "source": [
    "# frac that lets us specify the proportion of the dataset to return in the sample\n",
    "# this randomly shuffles the rows\n",
    "shuffled = coffee_ratings.sample(frac=1)\n",
    "# the indices need to be reset so that they go in order from zero again\n",
    "shuffled = shuffled.reset_index(drop = True).reset_index()\n",
    "shuffled.plot(x ='index', y = 'aftertaste', kind = 'scatter')\n",
    "plt.show()"
   ]
  },
  {
   "cell_type": "code",
   "execution_count": 49,
   "id": "1712c221",
   "metadata": {},
   "outputs": [],
   "source": [
    "# Stratified sampling\n",
    "top_counted_countries = ['Mexico', 'Colombia', 'Guatemala', 'Brazil', 'Taiwan', 'United States (Hawaii)']\n",
    "top_counted_subset = coffee_ratings['country_of_origin'].isin(top_counted_countries)\n",
    "coffee_ratings_top = coffee_ratings[top_counted_subset]"
   ]
  },
  {
   "cell_type": "code",
   "execution_count": 51,
   "id": "69dd95cb",
   "metadata": {},
   "outputs": [
    {
     "data": {
      "text/html": [
       "<div>\n",
       "<style scoped>\n",
       "    .dataframe tbody tr th:only-of-type {\n",
       "        vertical-align: middle;\n",
       "    }\n",
       "\n",
       "    .dataframe tbody tr th {\n",
       "        vertical-align: top;\n",
       "    }\n",
       "\n",
       "    .dataframe thead th {\n",
       "        text-align: right;\n",
       "    }\n",
       "</style>\n",
       "<table border=\"1\" class=\"dataframe\">\n",
       "  <thead>\n",
       "    <tr style=\"text-align: right;\">\n",
       "      <th></th>\n",
       "      <th>total_cup_points</th>\n",
       "      <th>species</th>\n",
       "      <th>owner</th>\n",
       "      <th>country_of_origin</th>\n",
       "      <th>farm_name</th>\n",
       "      <th>lot_number</th>\n",
       "      <th>mill</th>\n",
       "      <th>ico_number</th>\n",
       "      <th>company</th>\n",
       "      <th>altitude</th>\n",
       "      <th>...</th>\n",
       "      <th>color</th>\n",
       "      <th>category_two_defects</th>\n",
       "      <th>expiration</th>\n",
       "      <th>certification_body</th>\n",
       "      <th>certification_address</th>\n",
       "      <th>certification_contact</th>\n",
       "      <th>unit_of_measurement</th>\n",
       "      <th>altitude_low_meters</th>\n",
       "      <th>altitude_high_meters</th>\n",
       "      <th>altitude_mean_meters</th>\n",
       "    </tr>\n",
       "  </thead>\n",
       "  <tbody>\n",
       "    <tr>\n",
       "      <th>1229</th>\n",
       "      <td>78.33</td>\n",
       "      <td>Arabica</td>\n",
       "      <td>pablo cervantes morelos</td>\n",
       "      <td>Mexico</td>\n",
       "      <td>llano hermoso</td>\n",
       "      <td>None</td>\n",
       "      <td>llano hermoso, xochitonalco huautla, oaxaca</td>\n",
       "      <td>0</td>\n",
       "      <td>asociación agricola local de productores de ca...</td>\n",
       "      <td>1300</td>\n",
       "      <td>...</td>\n",
       "      <td>Green</td>\n",
       "      <td>47.0</td>\n",
       "      <td>September 11th, 2013</td>\n",
       "      <td>AMECAFE</td>\n",
       "      <td>3e18a5ae6f5e2aabca37e025f94e1974558bf5f0</td>\n",
       "      <td>e3212d17882b7657b3fba559b4072e552604d5d1</td>\n",
       "      <td>m</td>\n",
       "      <td>1300.0</td>\n",
       "      <td>1300.0</td>\n",
       "      <td>1300.0</td>\n",
       "    </tr>\n",
       "    <tr>\n",
       "      <th>232</th>\n",
       "      <td>84.08</td>\n",
       "      <td>Arabica</td>\n",
       "      <td>carcafe ltda ci</td>\n",
       "      <td>Colombia</td>\n",
       "      <td>None</td>\n",
       "      <td>3-59-0503</td>\n",
       "      <td>neiva</td>\n",
       "      <td>3-59-0503</td>\n",
       "      <td>carcafe ltda</td>\n",
       "      <td>442</td>\n",
       "      <td>...</td>\n",
       "      <td>Green</td>\n",
       "      <td>3.0</td>\n",
       "      <td>November 9th, 2018</td>\n",
       "      <td>Almacafé</td>\n",
       "      <td>e493c36c2d076bf273064f7ac23ad562af257a25</td>\n",
       "      <td>70d3c0c26f89e00fdae6fb39ff54f0d2eb1c38ab</td>\n",
       "      <td>m</td>\n",
       "      <td>442.0</td>\n",
       "      <td>442.0</td>\n",
       "      <td>442.0</td>\n",
       "    </tr>\n",
       "    <tr>\n",
       "      <th>697</th>\n",
       "      <td>82.42</td>\n",
       "      <td>Arabica</td>\n",
       "      <td>jose daniel cobilt castro</td>\n",
       "      <td>Mexico</td>\n",
       "      <td>cañada fria</td>\n",
       "      <td>None</td>\n",
       "      <td>huatusco</td>\n",
       "      <td>1104558673</td>\n",
       "      <td>None</td>\n",
       "      <td>1350</td>\n",
       "      <td>...</td>\n",
       "      <td>Green</td>\n",
       "      <td>6.0</td>\n",
       "      <td>July 11th, 2013</td>\n",
       "      <td>AMECAFE</td>\n",
       "      <td>59e396ad6e22a1c22b248f958e1da2bd8af85272</td>\n",
       "      <td>0eb4ee5b3f47b20b049548a2fd1e7d4a2b70d0a7</td>\n",
       "      <td>m</td>\n",
       "      <td>1350.0</td>\n",
       "      <td>1350.0</td>\n",
       "      <td>1350.0</td>\n",
       "    </tr>\n",
       "    <tr>\n",
       "      <th>865</th>\n",
       "      <td>81.75</td>\n",
       "      <td>Arabica</td>\n",
       "      <td>diego manuel woolrich ramirez</td>\n",
       "      <td>Mexico</td>\n",
       "      <td>arroyo triste, arroyo triste, san jose vista h...</td>\n",
       "      <td>None</td>\n",
       "      <td>arroyo triste, arroyo triste, san jose vista h...</td>\n",
       "      <td>2037240, 2037150,1400213685</td>\n",
       "      <td>None</td>\n",
       "      <td>1100</td>\n",
       "      <td>...</td>\n",
       "      <td>Green</td>\n",
       "      <td>1.0</td>\n",
       "      <td>September 4th, 2013</td>\n",
       "      <td>AMECAFE</td>\n",
       "      <td>59e396ad6e22a1c22b248f958e1da2bd8af85272</td>\n",
       "      <td>0eb4ee5b3f47b20b049548a2fd1e7d4a2b70d0a7</td>\n",
       "      <td>m</td>\n",
       "      <td>1100.0</td>\n",
       "      <td>1100.0</td>\n",
       "      <td>1100.0</td>\n",
       "    </tr>\n",
       "    <tr>\n",
       "      <th>155</th>\n",
       "      <td>84.58</td>\n",
       "      <td>Arabica</td>\n",
       "      <td>exportadora de cafe condor s.a</td>\n",
       "      <td>Colombia</td>\n",
       "      <td>various</td>\n",
       "      <td>None</td>\n",
       "      <td>trilladora boananza</td>\n",
       "      <td>3-68-0005</td>\n",
       "      <td>exportadora de cafe condor s.a</td>\n",
       "      <td>1800 msnm</td>\n",
       "      <td>...</td>\n",
       "      <td>Green</td>\n",
       "      <td>6.0</td>\n",
       "      <td>October 9th, 2013</td>\n",
       "      <td>Almacafé</td>\n",
       "      <td>e493c36c2d076bf273064f7ac23ad562af257a25</td>\n",
       "      <td>70d3c0c26f89e00fdae6fb39ff54f0d2eb1c38ab</td>\n",
       "      <td>m</td>\n",
       "      <td>1800.0</td>\n",
       "      <td>1800.0</td>\n",
       "      <td>1800.0</td>\n",
       "    </tr>\n",
       "    <tr>\n",
       "      <th>...</th>\n",
       "      <td>...</td>\n",
       "      <td>...</td>\n",
       "      <td>...</td>\n",
       "      <td>...</td>\n",
       "      <td>...</td>\n",
       "      <td>...</td>\n",
       "      <td>...</td>\n",
       "      <td>...</td>\n",
       "      <td>...</td>\n",
       "      <td>...</td>\n",
       "      <td>...</td>\n",
       "      <td>...</td>\n",
       "      <td>...</td>\n",
       "      <td>...</td>\n",
       "      <td>...</td>\n",
       "      <td>...</td>\n",
       "      <td>...</td>\n",
       "      <td>...</td>\n",
       "      <td>...</td>\n",
       "      <td>...</td>\n",
       "      <td>...</td>\n",
       "    </tr>\n",
       "    <tr>\n",
       "      <th>1282</th>\n",
       "      <td>74.83</td>\n",
       "      <td>Arabica</td>\n",
       "      <td>pablo enrique martinez gama</td>\n",
       "      <td>Mexico</td>\n",
       "      <td>la orduña</td>\n",
       "      <td>None</td>\n",
       "      <td>falcafe s.a. de c.v.</td>\n",
       "      <td>1104362940</td>\n",
       "      <td>None</td>\n",
       "      <td>1250</td>\n",
       "      <td>...</td>\n",
       "      <td>Green</td>\n",
       "      <td>30.0</td>\n",
       "      <td>August 1st, 2013</td>\n",
       "      <td>AMECAFE</td>\n",
       "      <td>59e396ad6e22a1c22b248f958e1da2bd8af85272</td>\n",
       "      <td>0eb4ee5b3f47b20b049548a2fd1e7d4a2b70d0a7</td>\n",
       "      <td>m</td>\n",
       "      <td>1250.0</td>\n",
       "      <td>1250.0</td>\n",
       "      <td>1250.0</td>\n",
       "    </tr>\n",
       "    <tr>\n",
       "      <th>369</th>\n",
       "      <td>83.50</td>\n",
       "      <td>Arabica</td>\n",
       "      <td>gabriel bernardo rivas ross</td>\n",
       "      <td>Mexico</td>\n",
       "      <td>la corralera</td>\n",
       "      <td>None</td>\n",
       "      <td>dos puentes de finca kassandra</td>\n",
       "      <td>2484</td>\n",
       "      <td>None</td>\n",
       "      <td>1400</td>\n",
       "      <td>...</td>\n",
       "      <td>Green</td>\n",
       "      <td>0.0</td>\n",
       "      <td>July 11th, 2013</td>\n",
       "      <td>AMECAFE</td>\n",
       "      <td>59e396ad6e22a1c22b248f958e1da2bd8af85272</td>\n",
       "      <td>0eb4ee5b3f47b20b049548a2fd1e7d4a2b70d0a7</td>\n",
       "      <td>m</td>\n",
       "      <td>1400.0</td>\n",
       "      <td>1400.0</td>\n",
       "      <td>1400.0</td>\n",
       "    </tr>\n",
       "    <tr>\n",
       "      <th>852</th>\n",
       "      <td>81.83</td>\n",
       "      <td>Arabica</td>\n",
       "      <td>jacques pereira carneiro</td>\n",
       "      <td>Brazil</td>\n",
       "      <td>sertao farm</td>\n",
       "      <td>None</td>\n",
       "      <td>armazens gerais cocarive</td>\n",
       "      <td>002/1352/0159</td>\n",
       "      <td>exportadora de cafés carmo de minas ltda</td>\n",
       "      <td>1250</td>\n",
       "      <td>...</td>\n",
       "      <td>Bluish-Green</td>\n",
       "      <td>0.0</td>\n",
       "      <td>March 2nd, 2014</td>\n",
       "      <td>Specialty Coffee Association</td>\n",
       "      <td>36d0d00a3724338ba7937c52a378d085f2172daa</td>\n",
       "      <td>0878a7d4b9d35ddbf0fe2ce69a2062cceb45a660</td>\n",
       "      <td>m</td>\n",
       "      <td>1250.0</td>\n",
       "      <td>1250.0</td>\n",
       "      <td>1250.0</td>\n",
       "    </tr>\n",
       "    <tr>\n",
       "      <th>713</th>\n",
       "      <td>82.33</td>\n",
       "      <td>Arabica</td>\n",
       "      <td>bourbon specialty coffees</td>\n",
       "      <td>Brazil</td>\n",
       "      <td>None</td>\n",
       "      <td>None</td>\n",
       "      <td>None</td>\n",
       "      <td>002/4542/0478</td>\n",
       "      <td>bourbon specialty coffees</td>\n",
       "      <td>None</td>\n",
       "      <td>...</td>\n",
       "      <td>Green</td>\n",
       "      <td>10.0</td>\n",
       "      <td>April 19th, 2016</td>\n",
       "      <td>Brazil Specialty Coffee Association</td>\n",
       "      <td>3297cfa4c538e3dd03f72cc4082c54f7999e1f9d</td>\n",
       "      <td>8900f0bf1d0b2bafe6807a73562c7677d57eb980</td>\n",
       "      <td>m</td>\n",
       "      <td>NaN</td>\n",
       "      <td>NaN</td>\n",
       "      <td>NaN</td>\n",
       "    </tr>\n",
       "    <tr>\n",
       "      <th>806</th>\n",
       "      <td>82.00</td>\n",
       "      <td>Arabica</td>\n",
       "      <td>lin, che-hao krude 林哲豪</td>\n",
       "      <td>Taiwan</td>\n",
       "      <td>gao chun fang 高醇坊</td>\n",
       "      <td>None</td>\n",
       "      <td>gao chun fang 高醇坊</td>\n",
       "      <td>Taiwan</td>\n",
       "      <td>red on tree co., ltd.</td>\n",
       "      <td>600-700 m</td>\n",
       "      <td>...</td>\n",
       "      <td>Bluish-Green</td>\n",
       "      <td>0.0</td>\n",
       "      <td>June 3rd, 2014</td>\n",
       "      <td>Specialty Coffee Association</td>\n",
       "      <td>36d0d00a3724338ba7937c52a378d085f2172daa</td>\n",
       "      <td>0878a7d4b9d35ddbf0fe2ce69a2062cceb45a660</td>\n",
       "      <td>m</td>\n",
       "      <td>600.0</td>\n",
       "      <td>700.0</td>\n",
       "      <td>650.0</td>\n",
       "    </tr>\n",
       "  </tbody>\n",
       "</table>\n",
       "<p>88 rows × 43 columns</p>\n",
       "</div>"
      ],
      "text/plain": [
       "      total_cup_points  species                           owner  \\\n",
       "1229             78.33  Arabica         pablo cervantes morelos   \n",
       "232              84.08  Arabica                 carcafe ltda ci   \n",
       "697              82.42  Arabica       jose daniel cobilt castro   \n",
       "865              81.75  Arabica   diego manuel woolrich ramirez   \n",
       "155              84.58  Arabica  exportadora de cafe condor s.a   \n",
       "...                ...      ...                             ...   \n",
       "1282             74.83  Arabica     pablo enrique martinez gama   \n",
       "369              83.50  Arabica     gabriel bernardo rivas ross   \n",
       "852              81.83  Arabica        jacques pereira carneiro   \n",
       "713              82.33  Arabica       bourbon specialty coffees   \n",
       "806              82.00  Arabica          lin, che-hao krude 林哲豪   \n",
       "\n",
       "     country_of_origin                                          farm_name  \\\n",
       "1229            Mexico                                      llano hermoso   \n",
       "232           Colombia                                               None   \n",
       "697             Mexico                                        cañada fria   \n",
       "865             Mexico  arroyo triste, arroyo triste, san jose vista h...   \n",
       "155           Colombia                                            various   \n",
       "...                ...                                                ...   \n",
       "1282            Mexico                                          la orduña   \n",
       "369             Mexico                                       la corralera   \n",
       "852             Brazil                                        sertao farm   \n",
       "713             Brazil                                               None   \n",
       "806             Taiwan                                  gao chun fang 高醇坊   \n",
       "\n",
       "     lot_number                                               mill  \\\n",
       "1229       None        llano hermoso, xochitonalco huautla, oaxaca   \n",
       "232   3-59-0503                                              neiva   \n",
       "697        None                                           huatusco   \n",
       "865        None  arroyo triste, arroyo triste, san jose vista h...   \n",
       "155        None                                trilladora boananza   \n",
       "...         ...                                                ...   \n",
       "1282       None                               falcafe s.a. de c.v.   \n",
       "369        None                     dos puentes de finca kassandra   \n",
       "852        None                           armazens gerais cocarive   \n",
       "713        None                                               None   \n",
       "806        None                                  gao chun fang 高醇坊   \n",
       "\n",
       "                       ico_number  \\\n",
       "1229                            0   \n",
       "232                     3-59-0503   \n",
       "697                    1104558673   \n",
       "865   2037240, 2037150,1400213685   \n",
       "155                     3-68-0005   \n",
       "...                           ...   \n",
       "1282                   1104362940   \n",
       "369                          2484   \n",
       "852                 002/1352/0159   \n",
       "713                 002/4542/0478   \n",
       "806                        Taiwan   \n",
       "\n",
       "                                                company   altitude  ...  \\\n",
       "1229  asociación agricola local de productores de ca...       1300  ...   \n",
       "232                                        carcafe ltda        442  ...   \n",
       "697                                                None       1350  ...   \n",
       "865                                                None       1100  ...   \n",
       "155                      exportadora de cafe condor s.a  1800 msnm  ...   \n",
       "...                                                 ...        ...  ...   \n",
       "1282                                               None       1250  ...   \n",
       "369                                                None       1400  ...   \n",
       "852            exportadora de cafés carmo de minas ltda       1250  ...   \n",
       "713                           bourbon specialty coffees       None  ...   \n",
       "806                               red on tree co., ltd.  600-700 m  ...   \n",
       "\n",
       "             color category_two_defects            expiration  \\\n",
       "1229         Green                 47.0  September 11th, 2013   \n",
       "232          Green                  3.0    November 9th, 2018   \n",
       "697          Green                  6.0       July 11th, 2013   \n",
       "865          Green                  1.0   September 4th, 2013   \n",
       "155          Green                  6.0     October 9th, 2013   \n",
       "...            ...                  ...                   ...   \n",
       "1282         Green                 30.0      August 1st, 2013   \n",
       "369          Green                  0.0       July 11th, 2013   \n",
       "852   Bluish-Green                  0.0       March 2nd, 2014   \n",
       "713          Green                 10.0      April 19th, 2016   \n",
       "806   Bluish-Green                  0.0        June 3rd, 2014   \n",
       "\n",
       "                       certification_body  \\\n",
       "1229                              AMECAFE   \n",
       "232                              Almacafé   \n",
       "697                               AMECAFE   \n",
       "865                               AMECAFE   \n",
       "155                              Almacafé   \n",
       "...                                   ...   \n",
       "1282                              AMECAFE   \n",
       "369                               AMECAFE   \n",
       "852          Specialty Coffee Association   \n",
       "713   Brazil Specialty Coffee Association   \n",
       "806          Specialty Coffee Association   \n",
       "\n",
       "                         certification_address  \\\n",
       "1229  3e18a5ae6f5e2aabca37e025f94e1974558bf5f0   \n",
       "232   e493c36c2d076bf273064f7ac23ad562af257a25   \n",
       "697   59e396ad6e22a1c22b248f958e1da2bd8af85272   \n",
       "865   59e396ad6e22a1c22b248f958e1da2bd8af85272   \n",
       "155   e493c36c2d076bf273064f7ac23ad562af257a25   \n",
       "...                                        ...   \n",
       "1282  59e396ad6e22a1c22b248f958e1da2bd8af85272   \n",
       "369   59e396ad6e22a1c22b248f958e1da2bd8af85272   \n",
       "852   36d0d00a3724338ba7937c52a378d085f2172daa   \n",
       "713   3297cfa4c538e3dd03f72cc4082c54f7999e1f9d   \n",
       "806   36d0d00a3724338ba7937c52a378d085f2172daa   \n",
       "\n",
       "                         certification_contact unit_of_measurement  \\\n",
       "1229  e3212d17882b7657b3fba559b4072e552604d5d1                   m   \n",
       "232   70d3c0c26f89e00fdae6fb39ff54f0d2eb1c38ab                   m   \n",
       "697   0eb4ee5b3f47b20b049548a2fd1e7d4a2b70d0a7                   m   \n",
       "865   0eb4ee5b3f47b20b049548a2fd1e7d4a2b70d0a7                   m   \n",
       "155   70d3c0c26f89e00fdae6fb39ff54f0d2eb1c38ab                   m   \n",
       "...                                        ...                 ...   \n",
       "1282  0eb4ee5b3f47b20b049548a2fd1e7d4a2b70d0a7                   m   \n",
       "369   0eb4ee5b3f47b20b049548a2fd1e7d4a2b70d0a7                   m   \n",
       "852   0878a7d4b9d35ddbf0fe2ce69a2062cceb45a660                   m   \n",
       "713   8900f0bf1d0b2bafe6807a73562c7677d57eb980                   m   \n",
       "806   0878a7d4b9d35ddbf0fe2ce69a2062cceb45a660                   m   \n",
       "\n",
       "     altitude_low_meters altitude_high_meters altitude_mean_meters  \n",
       "1229              1300.0               1300.0               1300.0  \n",
       "232                442.0                442.0                442.0  \n",
       "697               1350.0               1350.0               1350.0  \n",
       "865               1100.0               1100.0               1100.0  \n",
       "155               1800.0               1800.0               1800.0  \n",
       "...                  ...                  ...                  ...  \n",
       "1282              1250.0               1250.0               1250.0  \n",
       "369               1400.0               1400.0               1400.0  \n",
       "852               1250.0               1250.0               1250.0  \n",
       "713                  NaN                  NaN                  NaN  \n",
       "806                600.0                700.0                650.0  \n",
       "\n",
       "[88 rows x 43 columns]"
      ]
     },
     "execution_count": 51,
     "metadata": {},
     "output_type": "execute_result"
    }
   ],
   "source": [
    "# frac = 0.1 means 10% of all rows\n",
    "coffee_ratings_top_sample = coffee_ratings_top.sample(frac =0.1, random_state=2021)\n",
    "coffee_ratings_top_sample"
   ]
  },
  {
   "cell_type": "code",
   "execution_count": 52,
   "id": "165b0eb5",
   "metadata": {},
   "outputs": [
    {
     "data": {
      "text/plain": [
       "88"
      ]
     },
     "execution_count": 52,
     "metadata": {},
     "output_type": "execute_result"
    }
   ],
   "source": [
    "len(coffee_ratings_top_sample)"
   ]
  },
  {
   "cell_type": "code",
   "execution_count": 58,
   "id": "2a821cc0",
   "metadata": {},
   "outputs": [
    {
     "data": {
      "text/plain": [
       "Mexico                    0.250000\n",
       "Guatemala                 0.204545\n",
       "Colombia                  0.181818\n",
       "Brazil                    0.181818\n",
       "United States (Hawaii)    0.102273\n",
       "Taiwan                    0.079545\n",
       "Name: country_of_origin, dtype: float64"
      ]
     },
     "execution_count": 58,
     "metadata": {},
     "output_type": "execute_result"
    }
   ],
   "source": [
    "values_counts_sample = coffee_ratings_top_sample['country_of_origin'].value_counts(normalize = True)\n",
    "values_counts_sample"
   ]
  },
  {
   "cell_type": "code",
   "execution_count": 57,
   "id": "531ea0cc",
   "metadata": {
    "scrolled": true
   },
   "outputs": [
    {
     "data": {
      "text/plain": [
       "pandas.core.series.Series"
      ]
     },
     "execution_count": 57,
     "metadata": {},
     "output_type": "execute_result"
    }
   ],
   "source": [
    "values_counts_full =coffee_ratings['country_of_origin'].value_counts(normalize = True)\n",
    "type(values_counts_full)"
   ]
  },
  {
   "cell_type": "code",
   "execution_count": 65,
   "id": "7aa8dcd8",
   "metadata": {},
   "outputs": [
    {
     "data": {
      "text/plain": [
       "Mexico                    0.176515\n",
       "Colombia                  0.136874\n",
       "Guatemala                 0.135378\n",
       "Brazil                    0.098728\n",
       "Taiwan                    0.056096\n",
       "United States (Hawaii)    0.054600\n",
       "Name: country_of_origin, dtype: float64"
      ]
     },
     "execution_count": 65,
     "metadata": {},
     "output_type": "execute_result"
    }
   ],
   "source": [
    "values_counts_full[values_counts_full.index.isin(top_counted_countries)]"
   ]
  },
  {
   "cell_type": "code",
   "execution_count": 67,
   "id": "a43fbceb",
   "metadata": {},
   "outputs": [
    {
     "data": {
      "text/plain": [
       "Mexico                    0.272727\n",
       "Colombia                  0.204545\n",
       "Guatemala                 0.204545\n",
       "Brazil                    0.147727\n",
       "Taiwan                    0.090909\n",
       "United States (Hawaii)    0.079545\n",
       "Name: country_of_origin, dtype: float64"
      ]
     },
     "execution_count": 67,
     "metadata": {},
     "output_type": "execute_result"
    }
   ],
   "source": [
    "# stratified - the proportion are closer the the one from population\n",
    "coffee_ratings_top_strat = coffee_ratings_top.groupby('country_of_origin').sample(frac =0.1, random_state=2021)\n",
    "coffee_ratings_top_strat['country_of_origin'].value_counts(normalize = True)"
   ]
  },
  {
   "cell_type": "code",
   "execution_count": 68,
   "id": "897260ea",
   "metadata": {},
   "outputs": [
    {
     "data": {
      "text/plain": [
       "Brazil                    0.166667\n",
       "Colombia                  0.166667\n",
       "Guatemala                 0.166667\n",
       "Mexico                    0.166667\n",
       "Taiwan                    0.166667\n",
       "United States (Hawaii)    0.166667\n",
       "Name: country_of_origin, dtype: float64"
      ]
     },
     "execution_count": 68,
     "metadata": {},
     "output_type": "execute_result"
    }
   ],
   "source": [
    "# Get 15 coffees from each 'country_of_origin' group\n",
    "coffee_ratings_top_strat_15 = coffee_ratings_top.groupby('country_of_origin').sample(n=15, random_state=2021)\n",
    "coffee_ratings_top_strat_15['country_of_origin'].value_counts(normalize = True)"
   ]
  },
  {
   "cell_type": "code",
   "execution_count": 70,
   "id": "7dda603d",
   "metadata": {},
   "outputs": [
    {
     "name": "stderr",
     "output_type": "stream",
     "text": [
      "C:\\Users\\AsusF512ua-ej269t\\AppData\\Local\\Temp\\ipykernel_17548\\1352210136.py:7: SettingWithCopyWarning: \n",
      "A value is trying to be set on a copy of a slice from a DataFrame.\n",
      "Try using .loc[row_indexer,col_indexer] = value instead\n",
      "\n",
      "See the caveats in the documentation: https://pandas.pydata.org/pandas-docs/stable/user_guide/indexing.html#returning-a-view-versus-a-copy\n",
      "  coffee_ratings_weight['weight']=np.where(condition,2,1)\n"
     ]
    }
   ],
   "source": [
    "# Weighted random sampling\n",
    "import numpy as np\n",
    "coffee_ratings_weight = coffee_ratings_top\n",
    "condition = coffee_ratings_weight['country_of_origin'] == 'Taiwan'\n",
    "\n",
    "# a weight of two for rows that match the condition and a weight of one for rows that don't match the condition\n",
    "coffee_ratings_weight['weight']=np.where(condition,2,1)\n",
    "# This means when each row is randomly sampled, Taiwanese coffees have two times the chance of being picked \n",
    "# compared to other coffees. \n",
    "coffee_ratings_weight = coffee_ratings_weight.sample(frac =0.1, weights = 'weight',random_state=2021)"
   ]
  },
  {
   "cell_type": "code",
   "execution_count": 75,
   "id": "f1cbaf12",
   "metadata": {},
   "outputs": [],
   "source": [
    "# Weighted random sampling 2 method\n",
    "# weights has to be numeric column\n",
    "coffee_ratings_weight2 = coffee_ratings.sample(n=15, weights = 'total_cup_points')"
   ]
  },
  {
   "cell_type": "code",
   "execution_count": 71,
   "id": "3d3267f5",
   "metadata": {},
   "outputs": [
    {
     "data": {
      "text/plain": [
       "Mexico                    0.250000\n",
       "Colombia                  0.227273\n",
       "Guatemala                 0.159091\n",
       "Brazil                    0.147727\n",
       "Taiwan                    0.113636\n",
       "United States (Hawaii)    0.102273\n",
       "Name: country_of_origin, dtype: float64"
      ]
     },
     "execution_count": 71,
     "metadata": {},
     "output_type": "execute_result"
    }
   ],
   "source": [
    "coffee_ratings_weight['country_of_origin'].value_counts(normalize = True)"
   ]
  },
  {
   "cell_type": "markdown",
   "id": "a921642c",
   "metadata": {},
   "source": [
    "### Cluster sampling"
   ]
  },
  {
   "cell_type": "code",
   "execution_count": 99,
   "id": "a424676e",
   "metadata": {},
   "outputs": [
    {
     "data": {
      "text/plain": [
       "[None,\n",
       " 'Other',\n",
       " 'Bourbon',\n",
       " 'Catimor',\n",
       " 'Ethiopian Yirgacheffe',\n",
       " 'Caturra',\n",
       " 'SL14',\n",
       " 'Sumatra',\n",
       " 'SL34',\n",
       " 'Hawaiian Kona',\n",
       " 'Yellow Bourbon',\n",
       " 'SL28',\n",
       " 'Gesha',\n",
       " 'Catuai',\n",
       " 'Pacamara',\n",
       " 'Typica',\n",
       " 'Sumatra Lintong',\n",
       " 'Mundo Novo',\n",
       " 'Java',\n",
       " 'Peaberry',\n",
       " 'Pacas',\n",
       " 'Mandheling',\n",
       " 'Ruiru 11',\n",
       " 'Arusha',\n",
       " 'Ethiopian Heirlooms',\n",
       " 'Moka Peaberry',\n",
       " 'Sulawesi',\n",
       " 'Blue Mountain',\n",
       " 'Marigojipe',\n",
       " 'Pache Comun']"
      ]
     },
     "execution_count": 99,
     "metadata": {},
     "output_type": "execute_result"
    }
   ],
   "source": [
    "varieties_pop = list(coffee_ratings['variety'].unique())\n",
    "varieties_pop"
   ]
  },
  {
   "cell_type": "code",
   "execution_count": 112,
   "id": "abed64d5",
   "metadata": {},
   "outputs": [
    {
     "data": {
      "text/plain": [
       "['Gesha', 'Mandheling', 'SL34']"
      ]
     },
     "execution_count": 112,
     "metadata": {},
     "output_type": "execute_result"
    }
   ],
   "source": [
    "# 1 - randomly cut down the number of varieties\n",
    "import random\n",
    "varieties_samp = random.sample(varieties_pop, k=3)\n",
    "varieties_samp"
   ]
  },
  {
   "cell_type": "code",
   "execution_count": 130,
   "id": "66015fdb",
   "metadata": {},
   "outputs": [
    {
     "data": {
      "text/html": [
       "<div>\n",
       "<style scoped>\n",
       "    .dataframe tbody tr th:only-of-type {\n",
       "        vertical-align: middle;\n",
       "    }\n",
       "\n",
       "    .dataframe tbody tr th {\n",
       "        vertical-align: top;\n",
       "    }\n",
       "\n",
       "    .dataframe thead th {\n",
       "        text-align: right;\n",
       "    }\n",
       "</style>\n",
       "<table border=\"1\" class=\"dataframe\">\n",
       "  <thead>\n",
       "    <tr style=\"text-align: right;\">\n",
       "      <th></th>\n",
       "      <th>total_cup_points</th>\n",
       "      <th>species</th>\n",
       "      <th>owner</th>\n",
       "      <th>country_of_origin</th>\n",
       "      <th>farm_name</th>\n",
       "      <th>lot_number</th>\n",
       "      <th>mill</th>\n",
       "      <th>ico_number</th>\n",
       "      <th>company</th>\n",
       "      <th>altitude</th>\n",
       "      <th>...</th>\n",
       "      <th>color</th>\n",
       "      <th>category_two_defects</th>\n",
       "      <th>expiration</th>\n",
       "      <th>certification_body</th>\n",
       "      <th>certification_address</th>\n",
       "      <th>certification_contact</th>\n",
       "      <th>unit_of_measurement</th>\n",
       "      <th>altitude_low_meters</th>\n",
       "      <th>altitude_high_meters</th>\n",
       "      <th>altitude_mean_meters</th>\n",
       "    </tr>\n",
       "  </thead>\n",
       "  <tbody>\n",
       "    <tr>\n",
       "      <th>900</th>\n",
       "      <td>81.58</td>\n",
       "      <td>Arabica</td>\n",
       "      <td>afca</td>\n",
       "      <td>Malawi</td>\n",
       "      <td>kavuzi</td>\n",
       "      <td>None</td>\n",
       "      <td>mzuzu coffee coop union</td>\n",
       "      <td>C13</td>\n",
       "      <td>mzuzu coffee planters coop union</td>\n",
       "      <td>1100m</td>\n",
       "      <td>...</td>\n",
       "      <td>Green</td>\n",
       "      <td>0.0</td>\n",
       "      <td>October 31st, 2015</td>\n",
       "      <td>Africa Fine Coffee Association</td>\n",
       "      <td>073285c0d45e2f5539012d969937e529564fa6fe</td>\n",
       "      <td>c4ab13415cdd69376a93780c0166e7b1a10481ea</td>\n",
       "      <td>m</td>\n",
       "      <td>1100.0</td>\n",
       "      <td>1100.0</td>\n",
       "      <td>1100.0</td>\n",
       "    </tr>\n",
       "    <tr>\n",
       "      <th>241</th>\n",
       "      <td>84.00</td>\n",
       "      <td>Arabica</td>\n",
       "      <td>kyagalanyi coffee ltd</td>\n",
       "      <td>Ethiopia</td>\n",
       "      <td>kerchanshe</td>\n",
       "      <td>S3/01/2017</td>\n",
       "      <td>kerchanshe</td>\n",
       "      <td>None</td>\n",
       "      <td>kyagalanyi coffee ltd</td>\n",
       "      <td>1800</td>\n",
       "      <td>...</td>\n",
       "      <td>Green</td>\n",
       "      <td>1.0</td>\n",
       "      <td>June 5th, 2018</td>\n",
       "      <td>Uganda Coffee Development Authority</td>\n",
       "      <td>188fe373b511e21f614564bf86aa4774270d8e04</td>\n",
       "      <td>b7614767a5343729bbde3a2777c60ce836aed928</td>\n",
       "      <td>m</td>\n",
       "      <td>1800.0</td>\n",
       "      <td>1800.0</td>\n",
       "      <td>1800.0</td>\n",
       "    </tr>\n",
       "    <tr>\n",
       "      <th>846</th>\n",
       "      <td>81.83</td>\n",
       "      <td>Arabica</td>\n",
       "      <td>afca</td>\n",
       "      <td>Malawi</td>\n",
       "      <td>kakoma</td>\n",
       "      <td>None</td>\n",
       "      <td>mzuzu coffee coop union</td>\n",
       "      <td>2</td>\n",
       "      <td>mzuzu coffee planters coop union</td>\n",
       "      <td>1556m</td>\n",
       "      <td>...</td>\n",
       "      <td>Green</td>\n",
       "      <td>0.0</td>\n",
       "      <td>October 31st, 2015</td>\n",
       "      <td>Africa Fine Coffee Association</td>\n",
       "      <td>073285c0d45e2f5539012d969937e529564fa6fe</td>\n",
       "      <td>c4ab13415cdd69376a93780c0166e7b1a10481ea</td>\n",
       "      <td>m</td>\n",
       "      <td>1556.0</td>\n",
       "      <td>1556.0</td>\n",
       "      <td>1556.0</td>\n",
       "    </tr>\n",
       "    <tr>\n",
       "      <th>231</th>\n",
       "      <td>84.13</td>\n",
       "      <td>Arabica</td>\n",
       "      <td>pt.royal pacific indah international</td>\n",
       "      <td>Indonesia</td>\n",
       "      <td>mus, eman</td>\n",
       "      <td>1</td>\n",
       "      <td>dry mill or hulling facility</td>\n",
       "      <td>None</td>\n",
       "      <td>pt. royal pacific indah international</td>\n",
       "      <td>None</td>\n",
       "      <td>...</td>\n",
       "      <td>Bluish-Green</td>\n",
       "      <td>0.0</td>\n",
       "      <td>May 24th, 2018</td>\n",
       "      <td>Specialty Coffee Association of Indonesia</td>\n",
       "      <td>99fa73db21b7acd9c9ceb9dd84e409d2077d55c4</td>\n",
       "      <td>36910838db193ebdd61fa1427bac74622114c49a</td>\n",
       "      <td>m</td>\n",
       "      <td>NaN</td>\n",
       "      <td>NaN</td>\n",
       "      <td>NaN</td>\n",
       "    </tr>\n",
       "    <tr>\n",
       "      <th>1050</th>\n",
       "      <td>80.67</td>\n",
       "      <td>Arabica</td>\n",
       "      <td>aulia arif syahri</td>\n",
       "      <td>Indonesia</td>\n",
       "      <td>darmawi</td>\n",
       "      <td>None</td>\n",
       "      <td>surbakti / pt.olam indonesia</td>\n",
       "      <td>015/1691/006</td>\n",
       "      <td>pt. olam indonesia</td>\n",
       "      <td>1200-1500</td>\n",
       "      <td>...</td>\n",
       "      <td>Blue-Green</td>\n",
       "      <td>1.0</td>\n",
       "      <td>November 9th, 2016</td>\n",
       "      <td>Specialty Coffee Association</td>\n",
       "      <td>36d0d00a3724338ba7937c52a378d085f2172daa</td>\n",
       "      <td>0878a7d4b9d35ddbf0fe2ce69a2062cceb45a660</td>\n",
       "      <td>m</td>\n",
       "      <td>1200.0</td>\n",
       "      <td>1500.0</td>\n",
       "      <td>1350.0</td>\n",
       "    </tr>\n",
       "    <tr>\n",
       "      <th>172</th>\n",
       "      <td>84.42</td>\n",
       "      <td>Arabica</td>\n",
       "      <td>aulia arif syahri</td>\n",
       "      <td>Indonesia</td>\n",
       "      <td>darmawi</td>\n",
       "      <td>MANDHELING BRASTAGI</td>\n",
       "      <td>dry mill</td>\n",
       "      <td>To be advice</td>\n",
       "      <td>pt. olam indonesia</td>\n",
       "      <td>1400</td>\n",
       "      <td>...</td>\n",
       "      <td>Blue-Green</td>\n",
       "      <td>3.0</td>\n",
       "      <td>March 14th, 2018</td>\n",
       "      <td>Specialty Coffee Association</td>\n",
       "      <td>36d0d00a3724338ba7937c52a378d085f2172daa</td>\n",
       "      <td>0878a7d4b9d35ddbf0fe2ce69a2062cceb45a660</td>\n",
       "      <td>m</td>\n",
       "      <td>1400.0</td>\n",
       "      <td>1400.0</td>\n",
       "      <td>1400.0</td>\n",
       "    </tr>\n",
       "    <tr>\n",
       "      <th>101</th>\n",
       "      <td>85.00</td>\n",
       "      <td>Arabica</td>\n",
       "      <td>rashid moledina &amp; co. (msa) ltd.</td>\n",
       "      <td>Kenya</td>\n",
       "      <td>machure estate</td>\n",
       "      <td>None</td>\n",
       "      <td>None</td>\n",
       "      <td>37/672/0016</td>\n",
       "      <td>rashid moledina &amp; co. (msa) ltd</td>\n",
       "      <td>1580</td>\n",
       "      <td>...</td>\n",
       "      <td>Green</td>\n",
       "      <td>5.0</td>\n",
       "      <td>April 19th, 2014</td>\n",
       "      <td>Kenya Coffee Traders Association</td>\n",
       "      <td>ccba45b89d859740b749878be8c6d16fbdb96c2e</td>\n",
       "      <td>d752c909a015f3c76224b3c5cc520f8a67afda74</td>\n",
       "      <td>m</td>\n",
       "      <td>1580.0</td>\n",
       "      <td>1580.0</td>\n",
       "      <td>1580.0</td>\n",
       "    </tr>\n",
       "    <tr>\n",
       "      <th>35</th>\n",
       "      <td>86.25</td>\n",
       "      <td>Arabica</td>\n",
       "      <td>daniel magu</td>\n",
       "      <td>Kenya</td>\n",
       "      <td>kangunu</td>\n",
       "      <td>None</td>\n",
       "      <td>central kenya coffee mills</td>\n",
       "      <td>0</td>\n",
       "      <td>c dorman ltd</td>\n",
       "      <td>1800</td>\n",
       "      <td>...</td>\n",
       "      <td>Blue-Green</td>\n",
       "      <td>1.0</td>\n",
       "      <td>May 30th, 2015</td>\n",
       "      <td>Kenya Coffee Traders Association</td>\n",
       "      <td>ccba45b89d859740b749878be8c6d16fbdb96c2e</td>\n",
       "      <td>d752c909a015f3c76224b3c5cc520f8a67afda74</td>\n",
       "      <td>m</td>\n",
       "      <td>1800.0</td>\n",
       "      <td>1800.0</td>\n",
       "      <td>1800.0</td>\n",
       "    </tr>\n",
       "    <tr>\n",
       "      <th>121</th>\n",
       "      <td>84.75</td>\n",
       "      <td>Arabica</td>\n",
       "      <td>lydiah mwangi</td>\n",
       "      <td>Kenya</td>\n",
       "      <td>karatina</td>\n",
       "      <td>None</td>\n",
       "      <td>sagana</td>\n",
       "      <td>KE 9143</td>\n",
       "      <td>c dorman ltd</td>\n",
       "      <td>1800</td>\n",
       "      <td>...</td>\n",
       "      <td>Green</td>\n",
       "      <td>0.0</td>\n",
       "      <td>June 1st, 2016</td>\n",
       "      <td>Kenya Coffee Traders Association</td>\n",
       "      <td>ccba45b89d859740b749878be8c6d16fbdb96c2e</td>\n",
       "      <td>d752c909a015f3c76224b3c5cc520f8a67afda74</td>\n",
       "      <td>m</td>\n",
       "      <td>1800.0</td>\n",
       "      <td>1800.0</td>\n",
       "      <td>1800.0</td>\n",
       "    </tr>\n",
       "  </tbody>\n",
       "</table>\n",
       "<p>9 rows × 43 columns</p>\n",
       "</div>"
      ],
      "text/plain": [
       "      total_cup_points  species                                 owner  \\\n",
       "900              81.58  Arabica                                  afca   \n",
       "241              84.00  Arabica                 kyagalanyi coffee ltd   \n",
       "846              81.83  Arabica                                  afca   \n",
       "231              84.13  Arabica  pt.royal pacific indah international   \n",
       "1050             80.67  Arabica                     aulia arif syahri   \n",
       "172              84.42  Arabica                     aulia arif syahri   \n",
       "101              85.00  Arabica      rashid moledina & co. (msa) ltd.   \n",
       "35               86.25  Arabica                           daniel magu   \n",
       "121              84.75  Arabica                         lydiah mwangi   \n",
       "\n",
       "     country_of_origin       farm_name           lot_number  \\\n",
       "900             Malawi          kavuzi                 None   \n",
       "241           Ethiopia      kerchanshe           S3/01/2017   \n",
       "846             Malawi          kakoma                 None   \n",
       "231          Indonesia       mus, eman                    1   \n",
       "1050         Indonesia         darmawi                 None   \n",
       "172          Indonesia         darmawi  MANDHELING BRASTAGI   \n",
       "101              Kenya  machure estate                 None   \n",
       "35               Kenya         kangunu                 None   \n",
       "121              Kenya        karatina                 None   \n",
       "\n",
       "                              mill    ico_number  \\\n",
       "900        mzuzu coffee coop union           C13   \n",
       "241                     kerchanshe          None   \n",
       "846        mzuzu coffee coop union             2   \n",
       "231   dry mill or hulling facility          None   \n",
       "1050  surbakti / pt.olam indonesia  015/1691/006   \n",
       "172                       dry mill  To be advice   \n",
       "101                           None   37/672/0016   \n",
       "35      central kenya coffee mills             0   \n",
       "121                         sagana       KE 9143   \n",
       "\n",
       "                                    company   altitude  ...         color  \\\n",
       "900        mzuzu coffee planters coop union      1100m  ...         Green   \n",
       "241                   kyagalanyi coffee ltd       1800  ...         Green   \n",
       "846        mzuzu coffee planters coop union      1556m  ...         Green   \n",
       "231   pt. royal pacific indah international       None  ...  Bluish-Green   \n",
       "1050                     pt. olam indonesia  1200-1500  ...    Blue-Green   \n",
       "172                      pt. olam indonesia       1400  ...    Blue-Green   \n",
       "101         rashid moledina & co. (msa) ltd       1580  ...         Green   \n",
       "35                             c dorman ltd       1800  ...    Blue-Green   \n",
       "121                            c dorman ltd       1800  ...         Green   \n",
       "\n",
       "     category_two_defects          expiration  \\\n",
       "900                   0.0  October 31st, 2015   \n",
       "241                   1.0      June 5th, 2018   \n",
       "846                   0.0  October 31st, 2015   \n",
       "231                   0.0      May 24th, 2018   \n",
       "1050                  1.0  November 9th, 2016   \n",
       "172                   3.0    March 14th, 2018   \n",
       "101                   5.0    April 19th, 2014   \n",
       "35                    1.0      May 30th, 2015   \n",
       "121                   0.0      June 1st, 2016   \n",
       "\n",
       "                             certification_body  \\\n",
       "900              Africa Fine Coffee Association   \n",
       "241         Uganda Coffee Development Authority   \n",
       "846              Africa Fine Coffee Association   \n",
       "231   Specialty Coffee Association of Indonesia   \n",
       "1050               Specialty Coffee Association   \n",
       "172                Specialty Coffee Association   \n",
       "101            Kenya Coffee Traders Association   \n",
       "35             Kenya Coffee Traders Association   \n",
       "121            Kenya Coffee Traders Association   \n",
       "\n",
       "                         certification_address  \\\n",
       "900   073285c0d45e2f5539012d969937e529564fa6fe   \n",
       "241   188fe373b511e21f614564bf86aa4774270d8e04   \n",
       "846   073285c0d45e2f5539012d969937e529564fa6fe   \n",
       "231   99fa73db21b7acd9c9ceb9dd84e409d2077d55c4   \n",
       "1050  36d0d00a3724338ba7937c52a378d085f2172daa   \n",
       "172   36d0d00a3724338ba7937c52a378d085f2172daa   \n",
       "101   ccba45b89d859740b749878be8c6d16fbdb96c2e   \n",
       "35    ccba45b89d859740b749878be8c6d16fbdb96c2e   \n",
       "121   ccba45b89d859740b749878be8c6d16fbdb96c2e   \n",
       "\n",
       "                         certification_contact unit_of_measurement  \\\n",
       "900   c4ab13415cdd69376a93780c0166e7b1a10481ea                   m   \n",
       "241   b7614767a5343729bbde3a2777c60ce836aed928                   m   \n",
       "846   c4ab13415cdd69376a93780c0166e7b1a10481ea                   m   \n",
       "231   36910838db193ebdd61fa1427bac74622114c49a                   m   \n",
       "1050  0878a7d4b9d35ddbf0fe2ce69a2062cceb45a660                   m   \n",
       "172   0878a7d4b9d35ddbf0fe2ce69a2062cceb45a660                   m   \n",
       "101   d752c909a015f3c76224b3c5cc520f8a67afda74                   m   \n",
       "35    d752c909a015f3c76224b3c5cc520f8a67afda74                   m   \n",
       "121   d752c909a015f3c76224b3c5cc520f8a67afda74                   m   \n",
       "\n",
       "     altitude_low_meters altitude_high_meters altitude_mean_meters  \n",
       "900               1100.0               1100.0               1100.0  \n",
       "241               1800.0               1800.0               1800.0  \n",
       "846               1556.0               1556.0               1556.0  \n",
       "231                  NaN                  NaN                  NaN  \n",
       "1050              1200.0               1500.0               1350.0  \n",
       "172               1400.0               1400.0               1400.0  \n",
       "101               1580.0               1580.0               1580.0  \n",
       "35                1800.0               1800.0               1800.0  \n",
       "121               1800.0               1800.0               1800.0  \n",
       "\n",
       "[9 rows x 43 columns]"
      ]
     },
     "execution_count": 130,
     "metadata": {},
     "output_type": "execute_result"
    }
   ],
   "source": [
    "# 2 -  perform simple random sampling on each of the three varieties we randomly selected.\n",
    "variety_condition = coffee_ratings['variety'].isin(varieties_samp)\n",
    "coffe_ratings_cluster = coffee_ratings[variety_condition]\n",
    "# -  To ensure that the isin filtering removes levels with zero rows\n",
    "# coffe_ratings_cluster['variety'] = coffe_ratings_cluster['variety'].cat.remove_unused_categories()\n",
    "coffe_ratings_by_cluster=coffe_ratings_cluster.groupby('variety').sample(n=3, random_state=2021)\n",
    "coffe_ratings_by_cluster"
   ]
  },
  {
   "cell_type": "markdown",
   "id": "aa557418",
   "metadata": {},
   "source": [
    "### Comparing sampling methods"
   ]
  },
  {
   "cell_type": "code",
   "execution_count": 115,
   "id": "e947db87",
   "metadata": {},
   "outputs": [
    {
     "data": {
      "text/plain": [
       "81.94700000000002"
      ]
     },
     "execution_count": 115,
     "metadata": {},
     "output_type": "execute_result"
    }
   ],
   "source": [
    "# population - gold standard\n",
    "coffee_ratings_top['total_cup_points'].mean()"
   ]
  },
  {
   "cell_type": "code",
   "execution_count": 124,
   "id": "df67aeee",
   "metadata": {},
   "outputs": [
    {
     "data": {
      "text/plain": [
       "81.92300000000002"
      ]
     },
     "execution_count": 124,
     "metadata": {},
     "output_type": "execute_result"
    }
   ],
   "source": [
    "# simple random sample\n",
    "coffee_ratings_sample = coffee_ratings.sample(10)\n",
    "coffee_ratings_sample['total_cup_points'].mean()"
   ]
  },
  {
   "cell_type": "code",
   "execution_count": 120,
   "id": "4cdfe75e",
   "metadata": {},
   "outputs": [
    {
     "data": {
      "text/plain": [
       "82.30136363636365"
      ]
     },
     "execution_count": 120,
     "metadata": {},
     "output_type": "execute_result"
    }
   ],
   "source": [
    "# stratified sample\n",
    "coffee_ratings_top_strat['total_cup_points'].mean()"
   ]
  },
  {
   "cell_type": "code",
   "execution_count": 121,
   "id": "c4477f11",
   "metadata": {},
   "outputs": [
    {
     "data": {
      "text/plain": [
       "83.62555555555555"
      ]
     },
     "execution_count": 121,
     "metadata": {},
     "output_type": "execute_result"
    }
   ],
   "source": [
    "# cluster sample\n",
    "coffe_ratings_by_cluster['total_cup_points'].mean()"
   ]
  },
  {
   "cell_type": "code",
   "execution_count": 122,
   "id": "8ac5d9a1",
   "metadata": {},
   "outputs": [
    {
     "data": {
      "text/plain": [
       "country_of_origin\n",
       "Brazil                    82.405909\n",
       "Colombia                  83.106557\n",
       "Guatemala                 81.846575\n",
       "Mexico                    80.890085\n",
       "Taiwan                    82.001333\n",
       "United States (Hawaii)    81.820411\n",
       "Name: total_cup_points, dtype: float64"
      ]
     },
     "execution_count": 122,
     "metadata": {},
     "output_type": "execute_result"
    }
   ],
   "source": [
    "#####  GENERAL -  Mean cup points by country\n",
    "# population\n",
    "coffee_ratings_top.groupby('country_of_origin')['total_cup_points'].mean()"
   ]
  },
  {
   "cell_type": "code",
   "execution_count": 125,
   "id": "02f55e23",
   "metadata": {},
   "outputs": [
    {
     "data": {
      "text/plain": [
       "country_of_origin\n",
       "Colombia                  83.085\n",
       "Costa Rica                84.170\n",
       "Guatemala                 82.170\n",
       "Honduras                  81.670\n",
       "India                     80.170\n",
       "Mexico                    81.460\n",
       "United States (Hawaii)    80.500\n",
       "Name: total_cup_points, dtype: float64"
      ]
     },
     "execution_count": 125,
     "metadata": {},
     "output_type": "execute_result"
    }
   ],
   "source": [
    "# 1. simple random sample\n",
    "coffee_ratings_sample.groupby('country_of_origin')['total_cup_points'].mean()"
   ]
  },
  {
   "cell_type": "code",
   "execution_count": 126,
   "id": "273107aa",
   "metadata": {},
   "outputs": [
    {
     "data": {
      "text/plain": [
       "country_of_origin\n",
       "Brazil                    83.680000\n",
       "Colombia                  83.102778\n",
       "Guatemala                 82.157778\n",
       "Mexico                    81.489583\n",
       "Taiwan                    81.750000\n",
       "United States (Hawaii)    81.462857\n",
       "Name: total_cup_points, dtype: float64"
      ]
     },
     "execution_count": 126,
     "metadata": {},
     "output_type": "execute_result"
    }
   ],
   "source": [
    "#  2.stratified\n",
    "coffee_ratings_top_strat.groupby('country_of_origin')['total_cup_points'].mean()"
   ]
  },
  {
   "cell_type": "code",
   "execution_count": 131,
   "id": "fbd13a88",
   "metadata": {},
   "outputs": [
    {
     "data": {
      "text/plain": [
       "country_of_origin\n",
       "Ethiopia     84.000000\n",
       "Indonesia    83.073333\n",
       "Kenya        85.333333\n",
       "Malawi       81.705000\n",
       "Name: total_cup_points, dtype: float64"
      ]
     },
     "execution_count": 131,
     "metadata": {},
     "output_type": "execute_result"
    }
   ],
   "source": [
    "#  1. cluster\n",
    "coffe_ratings_by_cluster.groupby('country_of_origin')['total_cup_points'].mean()"
   ]
  },
  {
   "cell_type": "markdown",
   "id": "960a0c24",
   "metadata": {},
   "source": [
    "### Relative error"
   ]
  },
  {
   "cell_type": "code",
   "execution_count": 133,
   "id": "079f7eb3",
   "metadata": {},
   "outputs": [],
   "source": [
    "population_mean=coffee_ratings['total_cup_points'].mean()\n",
    "sample_mean=coffee_ratings.sample(n=100)['total_cup_points'].mean()"
   ]
  },
  {
   "cell_type": "code",
   "execution_count": 135,
   "id": "a9d77bb9",
   "metadata": {},
   "outputs": [
    {
     "data": {
      "text/plain": [
       "0.17503908129592644"
      ]
     },
     "execution_count": 135,
     "metadata": {},
     "output_type": "execute_result"
    }
   ],
   "source": [
    "rel_error_pct = 100 * abs(population_mean-sample_mean)/population_mean\n",
    "rel_error_pct"
   ]
  },
  {
   "cell_type": "code",
   "execution_count": 161,
   "id": "093351bc",
   "metadata": {},
   "outputs": [
    {
     "data": {
      "text/html": [
       "<div>\n",
       "<style scoped>\n",
       "    .dataframe tbody tr th:only-of-type {\n",
       "        vertical-align: middle;\n",
       "    }\n",
       "\n",
       "    .dataframe tbody tr th {\n",
       "        vertical-align: top;\n",
       "    }\n",
       "\n",
       "    .dataframe thead th {\n",
       "        text-align: right;\n",
       "    }\n",
       "</style>\n",
       "<table border=\"1\" class=\"dataframe\">\n",
       "  <thead>\n",
       "    <tr style=\"text-align: right;\">\n",
       "      <th></th>\n",
       "      <th>rell_error</th>\n",
       "    </tr>\n",
       "  </thead>\n",
       "  <tbody>\n",
       "    <tr>\n",
       "      <th>10</th>\n",
       "      <td>1.602172</td>\n",
       "    </tr>\n",
       "    <tr>\n",
       "      <th>20</th>\n",
       "      <td>0.660615</td>\n",
       "    </tr>\n",
       "    <tr>\n",
       "      <th>30</th>\n",
       "      <td>0.051373</td>\n",
       "    </tr>\n",
       "    <tr>\n",
       "      <th>40</th>\n",
       "      <td>0.619837</td>\n",
       "    </tr>\n",
       "    <tr>\n",
       "      <th>50</th>\n",
       "      <td>0.499563</td>\n",
       "    </tr>\n",
       "  </tbody>\n",
       "</table>\n",
       "</div>"
      ],
      "text/plain": [
       "    rell_error\n",
       "10    1.602172\n",
       "20    0.660615\n",
       "30    0.051373\n",
       "40    0.619837\n",
       "50    0.499563"
      ]
     },
     "execution_count": 161,
     "metadata": {},
     "output_type": "execute_result"
    }
   ],
   "source": [
    "rel_error_pct_list= []\n",
    "index_range = np.arange(10,1300,10)\n",
    "for i in index_range:\n",
    "    sample= coffee_ratings.sample(n=i, replace=False)['total_cup_points'].mean()\n",
    "    rel_error_pct_list.append(100 * abs(population_mean-sample)/population_mean)\n",
    "rell_error_df = pd.DataFrame(rel_error_pct_list, index =index_range, columns = ['rell_error'])\n",
    "rell_error_df.head()"
   ]
  },
  {
   "cell_type": "code",
   "execution_count": 162,
   "id": "24fe537f",
   "metadata": {},
   "outputs": [
    {
     "data": {
      "image/png": "[encoded data removed]",
      "text/plain": [
       "<Figure size 640x480 with 1 Axes>"
      ]
     },
     "metadata": {},
     "output_type": "display_data"
    }
   ],
   "source": [
    "rell_error_df.reset_index().plot(x = 'index', y = 'rell_error', kind = 'scatter')\n",
    "plt.show()"
   ]
  },
  {
   "cell_type": "code",
   "execution_count": 163,
   "id": "8aad20c7",
   "metadata": {},
   "outputs": [],
   "source": [
    "mean_cup_points = []\n",
    "for i in range(1000):\n",
    "    mean_cup_points.append(coffee_ratings.sample(n=30)['total_cup_points'].mean())"
   ]
  },
  {
   "cell_type": "code",
   "execution_count": 164,
   "id": "19b00bb9",
   "metadata": {},
   "outputs": [
    {
     "data": {
      "image/png": "[encoded data removed]",
      "text/plain": [
       "<Figure size 640x480 with 1 Axes>"
      ]
     },
     "metadata": {},
     "output_type": "display_data"
    }
   ],
   "source": [
    "plt.hist(mean_cup_points, bins=30)\n",
    "plt.show()"
   ]
  },
  {
   "cell_type": "markdown",
   "id": "ac6d9efb",
   "metadata": {},
   "source": [
    "### six po power 4"
   ]
  },
  {
   "cell_type": "code",
   "execution_count": 199,
   "id": "e77cb037",
   "metadata": {},
   "outputs": [
    {
     "data": {
      "text/html": [
       "<div>\n",
       "<style scoped>\n",
       "    .dataframe tbody tr th:only-of-type {\n",
       "        vertical-align: middle;\n",
       "    }\n",
       "\n",
       "    .dataframe tbody tr th {\n",
       "        vertical-align: top;\n",
       "    }\n",
       "\n",
       "    .dataframe thead th {\n",
       "        text-align: right;\n",
       "    }\n",
       "</style>\n",
       "<table border=\"1\" class=\"dataframe\">\n",
       "  <thead>\n",
       "    <tr style=\"text-align: right;\">\n",
       "      <th></th>\n",
       "      <th>die1</th>\n",
       "      <th>die2</th>\n",
       "      <th>die3</th>\n",
       "      <th>die4</th>\n",
       "    </tr>\n",
       "  </thead>\n",
       "  <tbody>\n",
       "    <tr>\n",
       "      <th>0</th>\n",
       "      <td>1</td>\n",
       "      <td>1</td>\n",
       "      <td>1</td>\n",
       "      <td>1</td>\n",
       "    </tr>\n",
       "    <tr>\n",
       "      <th>1</th>\n",
       "      <td>1</td>\n",
       "      <td>1</td>\n",
       "      <td>1</td>\n",
       "      <td>2</td>\n",
       "    </tr>\n",
       "    <tr>\n",
       "      <th>2</th>\n",
       "      <td>1</td>\n",
       "      <td>1</td>\n",
       "      <td>1</td>\n",
       "      <td>3</td>\n",
       "    </tr>\n",
       "    <tr>\n",
       "      <th>3</th>\n",
       "      <td>1</td>\n",
       "      <td>1</td>\n",
       "      <td>1</td>\n",
       "      <td>4</td>\n",
       "    </tr>\n",
       "    <tr>\n",
       "      <th>4</th>\n",
       "      <td>1</td>\n",
       "      <td>1</td>\n",
       "      <td>1</td>\n",
       "      <td>5</td>\n",
       "    </tr>\n",
       "  </tbody>\n",
       "</table>\n",
       "</div>"
      ],
      "text/plain": [
       "   die1  die2  die3  die4\n",
       "0     1     1     1     1\n",
       "1     1     1     1     2\n",
       "2     1     1     1     3\n",
       "3     1     1     1     4\n",
       "4     1     1     1     5"
      ]
     },
     "execution_count": 199,
     "metadata": {},
     "output_type": "execute_result"
    }
   ],
   "source": [
    "# 4 dice, all possible combinations of rolls in R\n",
    "import itertools\n",
    "def expand_grid(data_dict):\n",
    "    rows = itertools.product(*data_dict.values())\n",
    "    return pd.DataFrame.from_records(rows, columns=data_dict.keys())\n",
    "\n",
    "dice = expand_grid({\n",
    "    'die1':[1,2,3,4,5,6],\n",
    "    'die2':[1,2,3,4,5,6],\n",
    "    'die3':[1,2,3,4,5,6],\n",
    "    'die4':[1,2,3,4,5,6]\n",
    "})\n",
    "dice.head()"
   ]
  },
  {
   "cell_type": "code",
   "execution_count": 185,
   "id": "411ac211",
   "metadata": {},
   "outputs": [
    {
     "data": {
      "text/plain": [
       "(1296, 4)"
      ]
     },
     "execution_count": 185,
     "metadata": {},
     "output_type": "execute_result"
    }
   ],
   "source": [
    "import numpy as np\n",
    "g = np.array([(x, y,z,d) for x in range(1,7) for y in range(1,7) for z in range(1,7) for d in range(1,7)])\n",
    "g.shape"
   ]
  },
  {
   "cell_type": "code",
   "execution_count": 186,
   "id": "907c3569",
   "metadata": {},
   "outputs": [
    {
     "data": {
      "text/html": [
       "<div>\n",
       "<style scoped>\n",
       "    .dataframe tbody tr th:only-of-type {\n",
       "        vertical-align: middle;\n",
       "    }\n",
       "\n",
       "    .dataframe tbody tr th {\n",
       "        vertical-align: top;\n",
       "    }\n",
       "\n",
       "    .dataframe thead th {\n",
       "        text-align: right;\n",
       "    }\n",
       "</style>\n",
       "<table border=\"1\" class=\"dataframe\">\n",
       "  <thead>\n",
       "    <tr style=\"text-align: right;\">\n",
       "      <th></th>\n",
       "      <th>die1</th>\n",
       "      <th>die2</th>\n",
       "      <th>die3</th>\n",
       "      <th>die4</th>\n",
       "    </tr>\n",
       "  </thead>\n",
       "  <tbody>\n",
       "    <tr>\n",
       "      <th>0</th>\n",
       "      <td>1</td>\n",
       "      <td>1</td>\n",
       "      <td>1</td>\n",
       "      <td>1</td>\n",
       "    </tr>\n",
       "    <tr>\n",
       "      <th>1</th>\n",
       "      <td>1</td>\n",
       "      <td>1</td>\n",
       "      <td>1</td>\n",
       "      <td>2</td>\n",
       "    </tr>\n",
       "    <tr>\n",
       "      <th>2</th>\n",
       "      <td>1</td>\n",
       "      <td>1</td>\n",
       "      <td>1</td>\n",
       "      <td>3</td>\n",
       "    </tr>\n",
       "    <tr>\n",
       "      <th>3</th>\n",
       "      <td>1</td>\n",
       "      <td>1</td>\n",
       "      <td>1</td>\n",
       "      <td>4</td>\n",
       "    </tr>\n",
       "    <tr>\n",
       "      <th>4</th>\n",
       "      <td>1</td>\n",
       "      <td>1</td>\n",
       "      <td>1</td>\n",
       "      <td>5</td>\n",
       "    </tr>\n",
       "  </tbody>\n",
       "</table>\n",
       "</div>"
      ],
      "text/plain": [
       "   die1  die2  die3  die4\n",
       "0     1     1     1     1\n",
       "1     1     1     1     2\n",
       "2     1     1     1     3\n",
       "3     1     1     1     4\n",
       "4     1     1     1     5"
      ]
     },
     "execution_count": 186,
     "metadata": {},
     "output_type": "execute_result"
    }
   ],
   "source": [
    "df = pd.DataFrame(g, columns =['die1','die2','die3','die4'])\n",
    "df.head()"
   ]
  },
  {
   "cell_type": "code",
   "execution_count": 187,
   "id": "a6a8a2d5",
   "metadata": {},
   "outputs": [
    {
     "data": {
      "text/plain": [
       "(1296, 4)"
      ]
     },
     "execution_count": 187,
     "metadata": {},
     "output_type": "execute_result"
    }
   ],
   "source": [
    "gg= np.array(np.meshgrid(range(1,7), range(1,7),range(1,7),range(1,7))).flatten().reshape(1296, 4)\n",
    "gg.shape"
   ]
  },
  {
   "cell_type": "code",
   "execution_count": 188,
   "id": "3e09878f",
   "metadata": {},
   "outputs": [
    {
     "data": {
      "text/html": [
       "<div>\n",
       "<style scoped>\n",
       "    .dataframe tbody tr th:only-of-type {\n",
       "        vertical-align: middle;\n",
       "    }\n",
       "\n",
       "    .dataframe tbody tr th {\n",
       "        vertical-align: top;\n",
       "    }\n",
       "\n",
       "    .dataframe thead th {\n",
       "        text-align: right;\n",
       "    }\n",
       "</style>\n",
       "<table border=\"1\" class=\"dataframe\">\n",
       "  <thead>\n",
       "    <tr style=\"text-align: right;\">\n",
       "      <th></th>\n",
       "      <th>die1</th>\n",
       "      <th>die2</th>\n",
       "      <th>die3</th>\n",
       "      <th>die4</th>\n",
       "      <th>mean_roll</th>\n",
       "    </tr>\n",
       "  </thead>\n",
       "  <tbody>\n",
       "    <tr>\n",
       "      <th>23</th>\n",
       "      <td>1</td>\n",
       "      <td>1</td>\n",
       "      <td>4</td>\n",
       "      <td>6</td>\n",
       "      <td>3.00</td>\n",
       "    </tr>\n",
       "    <tr>\n",
       "      <th>854</th>\n",
       "      <td>4</td>\n",
       "      <td>6</td>\n",
       "      <td>5</td>\n",
       "      <td>3</td>\n",
       "      <td>4.50</td>\n",
       "    </tr>\n",
       "    <tr>\n",
       "      <th>256</th>\n",
       "      <td>2</td>\n",
       "      <td>2</td>\n",
       "      <td>1</td>\n",
       "      <td>5</td>\n",
       "      <td>2.50</td>\n",
       "    </tr>\n",
       "    <tr>\n",
       "      <th>1025</th>\n",
       "      <td>5</td>\n",
       "      <td>5</td>\n",
       "      <td>3</td>\n",
       "      <td>6</td>\n",
       "      <td>4.75</td>\n",
       "    </tr>\n",
       "    <tr>\n",
       "      <th>199</th>\n",
       "      <td>1</td>\n",
       "      <td>6</td>\n",
       "      <td>4</td>\n",
       "      <td>2</td>\n",
       "      <td>3.25</td>\n",
       "    </tr>\n",
       "    <tr>\n",
       "      <th>816</th>\n",
       "      <td>4</td>\n",
       "      <td>5</td>\n",
       "      <td>5</td>\n",
       "      <td>1</td>\n",
       "      <td>3.75</td>\n",
       "    </tr>\n",
       "    <tr>\n",
       "      <th>840</th>\n",
       "      <td>4</td>\n",
       "      <td>6</td>\n",
       "      <td>3</td>\n",
       "      <td>1</td>\n",
       "      <td>3.50</td>\n",
       "    </tr>\n",
       "    <tr>\n",
       "      <th>443</th>\n",
       "      <td>3</td>\n",
       "      <td>1</td>\n",
       "      <td>2</td>\n",
       "      <td>6</td>\n",
       "      <td>3.00</td>\n",
       "    </tr>\n",
       "    <tr>\n",
       "      <th>110</th>\n",
       "      <td>1</td>\n",
       "      <td>4</td>\n",
       "      <td>1</td>\n",
       "      <td>3</td>\n",
       "      <td>2.25</td>\n",
       "    </tr>\n",
       "    <tr>\n",
       "      <th>964</th>\n",
       "      <td>5</td>\n",
       "      <td>3</td>\n",
       "      <td>5</td>\n",
       "      <td>5</td>\n",
       "      <td>4.50</td>\n",
       "    </tr>\n",
       "  </tbody>\n",
       "</table>\n",
       "</div>"
      ],
      "text/plain": [
       "      die1  die2  die3  die4  mean_roll\n",
       "23       1     1     4     6       3.00\n",
       "854      4     6     5     3       4.50\n",
       "256      2     2     1     5       2.50\n",
       "1025     5     5     3     6       4.75\n",
       "199      1     6     4     2       3.25\n",
       "816      4     5     5     1       3.75\n",
       "840      4     6     3     1       3.50\n",
       "443      3     1     2     6       3.00\n",
       "110      1     4     1     3       2.25\n",
       "964      5     3     5     5       4.50"
      ]
     },
     "execution_count": 188,
     "metadata": {},
     "output_type": "execute_result"
    }
   ],
   "source": [
    "df['mean_roll']=(df['die1']+df['die2']+df['die3']+df['die4'])/4\n",
    "df.sample(10)"
   ]
  },
  {
   "cell_type": "code",
   "execution_count": 189,
   "id": "aa312b96",
   "metadata": {},
   "outputs": [],
   "source": [
    "df['mean_roll'] = df['mean_roll'].astype('category')"
   ]
  },
  {
   "cell_type": "code",
   "execution_count": 190,
   "id": "bf931764",
   "metadata": {},
   "outputs": [
    {
     "data": {
      "text/plain": [
       "<Axes: >"
      ]
     },
     "execution_count": 190,
     "metadata": {},
     "output_type": "execute_result"
    },
    {
     "data": {
      "image/png": "[encoded data removed]",
      "text/plain": [
       "<Figure size 640x480 with 1 Axes>"
      ]
     },
     "metadata": {},
     "output_type": "display_data"
    }
   ],
   "source": [
    "df['mean_roll'].value_counts(sort=False).plot(kind = 'bar')"
   ]
  },
  {
   "cell_type": "code",
   "execution_count": 182,
   "id": "46a38359",
   "metadata": {},
   "outputs": [
    {
     "data": {
      "text/plain": [
       "3.5"
      ]
     },
     "execution_count": 182,
     "metadata": {},
     "output_type": "execute_result"
    }
   ],
   "source": [
    "1*1/6+2*1/6+3*1/6+4*1/6+5*1/6+6*1/6"
   ]
  },
  {
   "cell_type": "code",
   "execution_count": 191,
   "id": "0e5eba70",
   "metadata": {},
   "outputs": [],
   "source": [
    "n_dice = list(range(1,101))\n",
    "n_outcomes = []\n",
    "for n in n_dice:\n",
    "    n_outcomes.append(6**n)\n",
    "outcomes = pd.DataFrame({'n_dice':n_dice,'n_outcomes':n_outcomes})"
   ]
  },
  {
   "cell_type": "code",
   "execution_count": 192,
   "id": "6122103d",
   "metadata": {},
   "outputs": [
    {
     "data": {
      "image/png": "[encoded data removed]",
      "text/plain": [
       "<Figure size 640x480 with 1 Axes>"
      ]
     },
     "metadata": {},
     "output_type": "display_data"
    }
   ],
   "source": [
    "outcomes.plot(x= 'n_dice', y = 'n_outcomes', kind = 'scatter')\n",
    "plt.show()"
   ]
  },
  {
   "cell_type": "code",
   "execution_count": 194,
   "id": "317caacd",
   "metadata": {},
   "outputs": [
    {
     "data": {
      "text/plain": [
       "3.75"
      ]
     },
     "execution_count": 194,
     "metadata": {},
     "output_type": "execute_result"
    }
   ],
   "source": [
    "# Simulating the mean of four dice rolls\n",
    "np.random.choice(list(range(1,7)), size = 4, replace=True).mean()"
   ]
  },
  {
   "cell_type": "code",
   "execution_count": 195,
   "id": "c3fbfb9d",
   "metadata": {},
   "outputs": [
    {
     "data": {
      "image/png": "[encoded data removed]",
      "text/plain": [
       "<Figure size 640x480 with 1 Axes>"
      ]
     },
     "metadata": {},
     "output_type": "display_data"
    }
   ],
   "source": [
    "# Approximate sampling distribution using simulated mean\n",
    "sample_means = []\n",
    "for n in range(1000):\n",
    "    sample_means.append(np.random.choice(list(range(1,7)), size = 4, replace=True).mean())\n",
    "    \n",
    "plt.hist(sample_means, bins = 20)\n",
    "plt.show()"
   ]
  },
  {
   "cell_type": "markdown",
   "id": "77d4d814",
   "metadata": {},
   "source": [
    "### Standard deviation"
   ]
  },
  {
   "cell_type": "code",
   "execution_count": 200,
   "id": "69ff79c8",
   "metadata": {},
   "outputs": [
    {
     "data": {
      "text/plain": [
       "2.685858187306438"
      ]
     },
     "execution_count": 200,
     "metadata": {},
     "output_type": "execute_result"
    }
   ],
   "source": [
    "coffee_ratings['total_cup_points'].std(ddof=0)"
   ]
  },
  {
   "cell_type": "code",
   "execution_count": 201,
   "id": "c1dfc81a",
   "metadata": {},
   "outputs": [],
   "source": [
    "# ddof=0 - population\n",
    "# ddof=1 - sample\n",
    "# standard deviation =standard error"
   ]
  },
  {
   "cell_type": "markdown",
   "id": "d939d0e9",
   "metadata": {},
   "source": [
    "# Bootstrapping\n",
    "- sampling with replacement\n",
    "- we treat the dataset as a sample and use it to build up a theoretical population"
   ]
  },
  {
   "cell_type": "code",
   "execution_count": 204,
   "id": "897ea11a",
   "metadata": {},
   "outputs": [
    {
     "data": {
      "text/html": [
       "<div>\n",
       "<style scoped>\n",
       "    .dataframe tbody tr th:only-of-type {\n",
       "        vertical-align: middle;\n",
       "    }\n",
       "\n",
       "    .dataframe tbody tr th {\n",
       "        vertical-align: top;\n",
       "    }\n",
       "\n",
       "    .dataframe thead th {\n",
       "        text-align: right;\n",
       "    }\n",
       "</style>\n",
       "<table border=\"1\" class=\"dataframe\">\n",
       "  <thead>\n",
       "    <tr style=\"text-align: right;\">\n",
       "      <th></th>\n",
       "      <th>index</th>\n",
       "      <th>variety</th>\n",
       "      <th>country_of_origin</th>\n",
       "      <th>flavor</th>\n",
       "    </tr>\n",
       "  </thead>\n",
       "  <tbody>\n",
       "    <tr>\n",
       "      <th>0</th>\n",
       "      <td>0</td>\n",
       "      <td>None</td>\n",
       "      <td>Ethiopia</td>\n",
       "      <td>8.83</td>\n",
       "    </tr>\n",
       "    <tr>\n",
       "      <th>1</th>\n",
       "      <td>1</td>\n",
       "      <td>Other</td>\n",
       "      <td>Ethiopia</td>\n",
       "      <td>8.67</td>\n",
       "    </tr>\n",
       "    <tr>\n",
       "      <th>2</th>\n",
       "      <td>2</td>\n",
       "      <td>Bourbon</td>\n",
       "      <td>Guatemala</td>\n",
       "      <td>8.50</td>\n",
       "    </tr>\n",
       "    <tr>\n",
       "      <th>3</th>\n",
       "      <td>3</td>\n",
       "      <td>None</td>\n",
       "      <td>Ethiopia</td>\n",
       "      <td>8.58</td>\n",
       "    </tr>\n",
       "    <tr>\n",
       "      <th>4</th>\n",
       "      <td>4</td>\n",
       "      <td>Other</td>\n",
       "      <td>Ethiopia</td>\n",
       "      <td>8.50</td>\n",
       "    </tr>\n",
       "    <tr>\n",
       "      <th>...</th>\n",
       "      <td>...</td>\n",
       "      <td>...</td>\n",
       "      <td>...</td>\n",
       "      <td>...</td>\n",
       "    </tr>\n",
       "    <tr>\n",
       "      <th>1333</th>\n",
       "      <td>1333</td>\n",
       "      <td>None</td>\n",
       "      <td>Ecuador</td>\n",
       "      <td>7.58</td>\n",
       "    </tr>\n",
       "    <tr>\n",
       "      <th>1334</th>\n",
       "      <td>1334</td>\n",
       "      <td>None</td>\n",
       "      <td>Ecuador</td>\n",
       "      <td>7.67</td>\n",
       "    </tr>\n",
       "    <tr>\n",
       "      <th>1335</th>\n",
       "      <td>1335</td>\n",
       "      <td>None</td>\n",
       "      <td>United States</td>\n",
       "      <td>7.33</td>\n",
       "    </tr>\n",
       "    <tr>\n",
       "      <th>1336</th>\n",
       "      <td>1336</td>\n",
       "      <td>None</td>\n",
       "      <td>India</td>\n",
       "      <td>6.83</td>\n",
       "    </tr>\n",
       "    <tr>\n",
       "      <th>1337</th>\n",
       "      <td>1337</td>\n",
       "      <td>None</td>\n",
       "      <td>Vietnam</td>\n",
       "      <td>6.67</td>\n",
       "    </tr>\n",
       "  </tbody>\n",
       "</table>\n",
       "<p>1338 rows × 4 columns</p>\n",
       "</div>"
      ],
      "text/plain": [
       "      index  variety country_of_origin  flavor\n",
       "0         0     None          Ethiopia    8.83\n",
       "1         1    Other          Ethiopia    8.67\n",
       "2         2  Bourbon         Guatemala    8.50\n",
       "3         3     None          Ethiopia    8.58\n",
       "4         4    Other          Ethiopia    8.50\n",
       "...     ...      ...               ...     ...\n",
       "1333   1333     None           Ecuador    7.58\n",
       "1334   1334     None           Ecuador    7.67\n",
       "1335   1335     None     United States    7.33\n",
       "1336   1336     None             India    6.83\n",
       "1337   1337     None           Vietnam    6.67\n",
       "\n",
       "[1338 rows x 4 columns]"
      ]
     },
     "execution_count": 204,
     "metadata": {},
     "output_type": "execute_result"
    }
   ],
   "source": [
    "coffee_focus = coffee_ratings[['variety', 'country_of_origin', 'flavor']]\n",
    "coffee_focus = coffee_focus.reset_index()\n",
    "coffee_focus"
   ]
  },
  {
   "cell_type": "code",
   "execution_count": 219,
   "id": "58604315",
   "metadata": {},
   "outputs": [
    {
     "data": {
      "text/plain": [
       "1338"
      ]
     },
     "execution_count": 219,
     "metadata": {},
     "output_type": "execute_result"
    }
   ],
   "source": [
    "coffee_resamp = coffee_focus.sample(frac=1, replace=True)\n",
    "len(coffee_resamp)"
   ]
  },
  {
   "cell_type": "code",
   "execution_count": 206,
   "id": "22c89109",
   "metadata": {},
   "outputs": [
    {
     "data": {
      "text/plain": [
       "396     5\n",
       "940     5\n",
       "138     5\n",
       "201     5\n",
       "34      5\n",
       "       ..\n",
       "51      1\n",
       "712     1\n",
       "436     1\n",
       "550     1\n",
       "1308    1\n",
       "Name: index, Length: 866, dtype: int64"
      ]
     },
     "execution_count": 206,
     "metadata": {},
     "output_type": "execute_result"
    }
   ],
   "source": [
    "coffee_resamp['index'].value_counts()"
   ]
  },
  {
   "cell_type": "code",
   "execution_count": 207,
   "id": "8eb08d8c",
   "metadata": {},
   "outputs": [
    {
     "data": {
      "text/plain": [
       "866"
      ]
     },
     "execution_count": 207,
     "metadata": {},
     "output_type": "execute_result"
    }
   ],
   "source": [
    "num_unique_coffee = len(coffee_resamp.drop_duplicates(subset = 'index'))\n",
    "num_unique_coffee"
   ]
  },
  {
   "cell_type": "code",
   "execution_count": 208,
   "id": "80517f15",
   "metadata": {},
   "outputs": [
    {
     "data": {
      "text/plain": [
       "472"
      ]
     },
     "execution_count": 208,
     "metadata": {},
     "output_type": "execute_result"
    }
   ],
   "source": [
    "len(coffee_ratings)-num_unique_coffee"
   ]
  },
  {
   "cell_type": "markdown",
   "id": "421048fa",
   "metadata": {},
   "source": [
    "### Bootstrapping proccess"
   ]
  },
  {
   "cell_type": "markdown",
   "id": "cca4da74",
   "metadata": {},
   "source": [
    "1. randomly sample with replacement to get a resample the same size as the original dataset\n",
    "2. calculate a statistic, such as a mean of one of the columns\n",
    "3. replicate this many times to get lots of these bootstrap statistics - to form a sampling distribution"
   ]
  },
  {
   "cell_type": "code",
   "execution_count": 390,
   "id": "648aff95",
   "metadata": {},
   "outputs": [],
   "source": [
    "import numpy as np\n",
    "mean_flavors_1000 = []\n",
    "for i in range(1000):\n",
    "    mean_flavors_1000.append(\n",
    "        np.mean(coffee_ratings.sample(frac=1, replace=True)['flavor'])\n",
    "    )"
   ]
  },
  {
   "cell_type": "code",
   "execution_count": 212,
   "id": "82e8e3f6",
   "metadata": {},
   "outputs": [
    {
     "data": {
      "image/png": "[encoded data removed]",
      "text/plain": [
       "<Figure size 640x480 with 1 Axes>"
      ]
     },
     "metadata": {},
     "output_type": "display_data"
    }
   ],
   "source": [
    "plt.hist(mean_flavors_1000)\n",
    "plt.show()"
   ]
  },
  {
   "cell_type": "code",
   "execution_count": 227,
   "id": "7847a12a",
   "metadata": {},
   "outputs": [
    {
     "data": {
      "text/plain": [
       "0.008983263736603542"
      ]
     },
     "execution_count": 227,
     "metadata": {},
     "output_type": "execute_result"
    }
   ],
   "source": [
    "standard_error = np.std(mean_flavors_1000, ddof=1)\n",
    "standard_error"
   ]
  },
  {
   "cell_type": "markdown",
   "id": "c085de73",
   "metadata": {},
   "source": [
    "# Comparison"
   ]
  },
  {
   "cell_type": "code",
   "execution_count": 231,
   "id": "3ff81b09",
   "metadata": {},
   "outputs": [
    {
     "data": {
      "text/plain": [
       "0.3413824079927851"
      ]
     },
     "execution_count": 231,
     "metadata": {},
     "output_type": "execute_result"
    }
   ],
   "source": [
    "# population std, true std\n",
    "coffee_ratings['flavor'].std()"
   ]
  },
  {
   "cell_type": "code",
   "execution_count": 257,
   "id": "d0f6e9ac",
   "metadata": {},
   "outputs": [
    {
     "data": {
      "text/plain": [
       "7.526046337817639"
      ]
     },
     "execution_count": 257,
     "metadata": {},
     "output_type": "execute_result"
    }
   ],
   "source": [
    "coffee_ratings['flavor'].mean()"
   ]
  },
  {
   "cell_type": "code",
   "execution_count": 380,
   "id": "ba961e51",
   "metadata": {},
   "outputs": [
    {
     "data": {
      "text/plain": [
       "0.33130314645367304"
      ]
     },
     "execution_count": 380,
     "metadata": {},
     "output_type": "execute_result"
    }
   ],
   "source": [
    "# original sample std\n",
    "coffee_ratings_sample = coffee_ratings.sample(frac=1, replace=True)\n",
    "np.std(coffee_ratings_sample['flavor'], ddof=1)"
   ]
  },
  {
   "cell_type": "code",
   "execution_count": 382,
   "id": "61fcb46b",
   "metadata": {},
   "outputs": [
    {
     "data": {
      "text/plain": [
       "7.528938714499252"
      ]
     },
     "execution_count": 382,
     "metadata": {},
     "output_type": "execute_result"
    }
   ],
   "source": [
    "coffee_ratings_sample['flavor'].mean()"
   ]
  },
  {
   "cell_type": "code",
   "execution_count": 383,
   "id": "218845fc",
   "metadata": {},
   "outputs": [
    {
     "data": {
      "text/plain": [
       "7.525968399999999"
      ]
     },
     "execution_count": 383,
     "metadata": {},
     "output_type": "execute_result"
    }
   ],
   "source": [
    "# sampling distribution\n",
    "mean_flavory_1000 = []\n",
    "\n",
    "for i in range(5000):\n",
    "    mean_flavory_1000.append(\n",
    "        np.mean(coffee_ratings.sample(100, replace=False)['flavor'])\n",
    "    )\n",
    "np.mean(mean_flavory_1000)"
   ]
  },
  {
   "cell_type": "code",
   "execution_count": 384,
   "id": "caf8f673",
   "metadata": {},
   "outputs": [
    {
     "data": {
      "text/plain": [
       "7.526088183856502"
      ]
     },
     "execution_count": 384,
     "metadata": {},
     "output_type": "execute_result"
    }
   ],
   "source": [
    "# bootstrap distribution\n",
    "mean_flavory_bootstrtap = []\n",
    "\n",
    "for i in range(1000):\n",
    "    mean_flavory_bootstrtap.append(\n",
    "        np.mean(coffee_ratings.sample(frac=1, replace=True)['flavor'])\n",
    "    )\n",
    "np.mean(mean_flavory_bootstrtap)"
   ]
  },
  {
   "cell_type": "code",
   "execution_count": 385,
   "id": "924e290b",
   "metadata": {},
   "outputs": [
    {
     "data": {
      "text/plain": [
       "0.009691981431515043"
      ]
     },
     "execution_count": 385,
     "metadata": {},
     "output_type": "execute_result"
    }
   ],
   "source": [
    "standard_error= np.std(mean_flavory_bootstrtap, ddof =1)\n",
    "standard_error"
   ]
  },
  {
   "cell_type": "code",
   "execution_count": 386,
   "id": "6b57c3d2",
   "metadata": {},
   "outputs": [
    {
     "data": {
      "text/plain": [
       "1338"
      ]
     },
     "execution_count": 386,
     "metadata": {},
     "output_type": "execute_result"
    }
   ],
   "source": [
    "len(coffee_ratings)"
   ]
  },
  {
   "cell_type": "code",
   "execution_count": 387,
   "id": "4302892a",
   "metadata": {},
   "outputs": [
    {
     "data": {
      "text/plain": [
       "0.35451990979929143"
      ]
     },
     "execution_count": 387,
     "metadata": {},
     "output_type": "execute_result"
    }
   ],
   "source": [
    "# population std from standard_erro form remaples\n",
    "standard_error*np.sqrt(1338)"
   ]
  },
  {
   "cell_type": "code",
   "execution_count": 388,
   "id": "20386457",
   "metadata": {},
   "outputs": [
    {
     "name": "stdout",
     "output_type": "stream",
     "text": [
      "[7.526046337817639, 7.528938714499252, 7.525968399999999, 7.526088183856502]\n"
     ]
    }
   ],
   "source": [
    "# Calculate the population mean popularity\n",
    "pop_mean = np.mean(coffee_ratings['flavor'])\n",
    "\n",
    "# # Calculate the original sample mean popularity\n",
    "samp_mean = np.mean(coffee_ratings_sample['flavor'])\n",
    "\n",
    "# # # Calculate the sampling dist'n estimate of mean popularity\n",
    "samp_distn_mean = np.mean(mean_flavory_1000)\n",
    "\n",
    "# # Calculate the bootstrap dist'n estimate of mean popularity\n",
    "boot_distn_mean = np.mean(mean_flavory_bootstrtap)\n",
    "\n",
    "# # Print the means\n",
    "print([pop_mean, samp_mean, samp_distn_mean, boot_distn_mean])"
   ]
  },
  {
   "cell_type": "markdown",
   "id": "9a95a9f3",
   "metadata": {},
   "source": [
    "The sampling distribution mean is the best estimate of the true population mean; the bootstrap distribution mean is closest to the original sample mean."
   ]
  },
  {
   "cell_type": "code",
   "execution_count": 389,
   "id": "adf200c2",
   "metadata": {},
   "outputs": [
    {
     "name": "stdout",
     "output_type": "stream",
     "text": [
      "[0.34125481224622645, 0.33130314645367304, 0.32508997407217655, 0.35451990979929143]\n"
     ]
    }
   ],
   "source": [
    "# Calculate the population std dev popularity\n",
    "pop_sd = coffee_ratings['flavor'].std(ddof=0)\n",
    "\n",
    "# Calculate the original sample std dev popularity\n",
    "samp_sd = coffee_ratings_sample['flavor'].std(ddof=1)\n",
    "\n",
    "# # Calculate the sampling dist'n estimate of std dev popularity\n",
    "samp_distn_sd = np.std(mean_flavory_1000, ddof=1)*np.sqrt(100)\n",
    "\n",
    "# # Calculate the bootstrap dist'n estimate of std dev popularity\n",
    "boot_distn_sd = np.std(mean_flavory_bootstrtap, ddof=1)*np.sqrt(1338)\n",
    "\n",
    "# # Print the standard deviations\n",
    "print([pop_sd, samp_sd, samp_distn_sd, boot_distn_sd])"
   ]
  },
  {
   "cell_type": "markdown",
   "id": "f67bc4ed",
   "metadata": {},
   "source": [
    "The calculation from the bootstrap distribution is the best estimate of the population standard deviation."
   ]
  },
  {
   "cell_type": "markdown",
   "id": "5593cf51",
   "metadata": {},
   "source": [
    "# Confidence intervals"
   ]
  },
  {
   "cell_type": "code",
   "execution_count": 391,
   "id": "d004fa00",
   "metadata": {},
   "outputs": [],
   "source": [
    "import numpy as np\n",
    "mean_flavors_1000 = []\n",
    "for i in range(1000):\n",
    "    mean_flavors_1000.append(\n",
    "        np.mean(coffee_ratings.sample(frac=1, replace=True)['flavor'])\n",
    "    )"
   ]
  },
  {
   "cell_type": "code",
   "execution_count": 394,
   "id": "88bf5a58",
   "metadata": {},
   "outputs": [
    {
     "data": {
      "image/png": "[encoded data removed]",
      "text/plain": [
       "<Figure size 640x480 with 1 Axes>"
      ]
     },
     "metadata": {},
     "output_type": "display_data"
    }
   ],
   "source": [
    "plt.hist(mean_flavors_1000, bins=15)\n",
    "plt.show()"
   ]
  },
  {
   "cell_type": "code",
   "execution_count": 398,
   "id": "96ede610",
   "metadata": {},
   "outputs": [
    {
     "data": {
      "text/plain": [
       "7.525519200298954"
      ]
     },
     "execution_count": 398,
     "metadata": {},
     "output_type": "execute_result"
    }
   ],
   "source": [
    "np.mean(mean_flavors_1000)"
   ]
  },
  {
   "cell_type": "code",
   "execution_count": 409,
   "id": "cc59beb6",
   "metadata": {},
   "outputs": [
    {
     "data": {
      "image/png": "[encoded data removed]",
      "text/plain": [
       "<Figure size 640x480 with 1 Axes>"
      ]
     },
     "metadata": {},
     "output_type": "display_data"
    }
   ],
   "source": [
    "plt.hist(mean_flavors_1000, bins=15)\n",
    "plt.axvline(np.mean(mean_flavors_1000), color='k', linestyle='dashed', linewidth=1)\n",
    "\n",
    "min_ylim, max_ylim = plt.ylim()\n",
    "plt.text(np.mean(mean_flavors_1000), max_ylim*1.1, 'Mean: {:.2f}'.format(np.mean(mean_flavors_1000)))\n",
    "plt.show()"
   ]
  },
  {
   "cell_type": "code",
   "execution_count": 413,
   "id": "61c0402d",
   "metadata": {},
   "outputs": [
    {
     "data": {
      "text/plain": [
       "7.516067048811998"
      ]
     },
     "execution_count": 413,
     "metadata": {},
     "output_type": "execute_result"
    }
   ],
   "source": [
    "minn = np.mean(mean_flavors_1000) - np.std(mean_flavors_1000,ddof=1)\n",
    "minn"
   ]
  },
  {
   "cell_type": "code",
   "execution_count": 414,
   "id": "c715d177",
   "metadata": {},
   "outputs": [
    {
     "data": {
      "text/plain": [
       "7.534971351785911"
      ]
     },
     "execution_count": 414,
     "metadata": {},
     "output_type": "execute_result"
    }
   ],
   "source": [
    "maxx = np.mean(mean_flavors_1000) + np.std(mean_flavors_1000,ddof=1)\n",
    "maxx"
   ]
  },
  {
   "cell_type": "code",
   "execution_count": 427,
   "id": "8149e0d5",
   "metadata": {},
   "outputs": [
    {
     "data": {
      "image/png": "[encoded data removed]",
      "text/plain": [
       "<Figure size 640x480 with 1 Axes>"
      ]
     },
     "metadata": {},
     "output_type": "display_data"
    }
   ],
   "source": [
    "plt.hist(mean_flavors_1000, bins=15)\n",
    "plt.axvline(np.mean(mean_flavors_1000), color='k', linestyle='dashed', linewidth=1)\n",
    "plt.axvline(minn, color='g', linestyle='dashed', linewidth=1)\n",
    "plt.axvline(maxx, color='r', linestyle='dashed', linewidth=1)\n",
    "\n",
    "min_ylim, max_ylim = plt.ylim()\n",
    "plt.text(np.mean(mean_flavors_1000), max_ylim*1.1, '{:.4f}'.format(np.mean(mean_flavors_1000)))\n",
    "plt.text(minn, max_ylim*1.2, '{:.4f}'.format(minn))\n",
    "plt.text(maxx, max_ylim*1.2, '{:.4f}'.format(maxx))\n",
    "plt.show()"
   ]
  },
  {
   "cell_type": "code",
   "execution_count": 429,
   "id": "f2bf79b8",
   "metadata": {},
   "outputs": [
    {
     "data": {
      "text/plain": [
       "7.506815769805681"
      ]
     },
     "execution_count": 429,
     "metadata": {},
     "output_type": "execute_result"
    }
   ],
   "source": [
    "# 95% of confidenc with quantile\n",
    "np.quantile(mean_flavors_1000, 0.025)"
   ]
  },
  {
   "cell_type": "code",
   "execution_count": 430,
   "id": "1d39466b",
   "metadata": {},
   "outputs": [
    {
     "data": {
      "text/plain": [
       "7.5431541479820625"
      ]
     },
     "execution_count": 430,
     "metadata": {},
     "output_type": "execute_result"
    }
   ],
   "source": [
    "np.quantile(mean_flavors_1000, 0.975)"
   ]
  },
  {
   "cell_type": "code",
   "execution_count": 439,
   "id": "ceb71f06",
   "metadata": {},
   "outputs": [
    {
     "data": {
      "text/plain": [
       "-1.9599639845400545"
      ]
     },
     "execution_count": 439,
     "metadata": {},
     "output_type": "execute_result"
    }
   ],
   "source": [
    "# 2nd method\n",
    "from scipy.stats import norm\n",
    "quantile = 0.025\n",
    "norm.ppf(quantile,0,1)"
   ]
  },
  {
   "cell_type": "code",
   "execution_count": 440,
   "id": "b8f76daa",
   "metadata": {},
   "outputs": [
    {
     "data": {
      "text/plain": [
       "-1.9599639845400545"
      ]
     },
     "execution_count": 440,
     "metadata": {},
     "output_type": "execute_result"
    }
   ],
   "source": [
    "quantile2 = 0.975\n",
    "norm.ppf(quantile,0,1)"
   ]
  },
  {
   "cell_type": "code",
   "execution_count": 441,
   "id": "de2b8c01",
   "metadata": {},
   "outputs": [
    {
     "data": {
      "text/plain": [
       "7.525519200298954"
      ]
     },
     "execution_count": 441,
     "metadata": {},
     "output_type": "execute_result"
    }
   ],
   "source": [
    "pont_estimate = np.mean(mean_flavors_1000)\n",
    "pont_estimate"
   ]
  },
  {
   "cell_type": "code",
   "execution_count": 442,
   "id": "64cd449c",
   "metadata": {},
   "outputs": [
    {
     "data": {
      "text/plain": [
       "0.00945215148695644"
      ]
     },
     "execution_count": 442,
     "metadata": {},
     "output_type": "execute_result"
    }
   ],
   "source": [
    "std_estimate = np.std(mean_flavors_1000, ddof=1)\n",
    "std_estimate"
   ]
  },
  {
   "cell_type": "code",
   "execution_count": 443,
   "id": "88c58106",
   "metadata": {},
   "outputs": [
    {
     "data": {
      "text/plain": [
       "7.5069933238081035"
      ]
     },
     "execution_count": 443,
     "metadata": {},
     "output_type": "execute_result"
    }
   ],
   "source": [
    "lower = norm.ppf(quantile,pont_estimate,std_estimate)\n",
    "lower"
   ]
  },
  {
   "cell_type": "code",
   "execution_count": 444,
   "id": "4abc814b",
   "metadata": {},
   "outputs": [
    {
     "data": {
      "text/plain": [
       "7.544045076789805"
      ]
     },
     "execution_count": 444,
     "metadata": {},
     "output_type": "execute_result"
    }
   ],
   "source": [
    "upper = norm.ppf(quantile2,pont_estimate,std_estimate)\n",
    "upper"
   ]
  },
  {
   "cell_type": "code",
   "execution_count": null,
   "id": "385d96ea",
   "metadata": {},
   "outputs": [],
   "source": []
  }
 ],
 "metadata": {
  "kernelspec": {
   "display_name": "Python 3 (ipykernel)",
   "language": "python",
   "name": "python3"
  },
  "language_info": {
   "codemirror_mode": {
    "name": "ipython",
    "version": 3
   },
   "file_extension": ".py",
   "mimetype": "text/x-python",
   "name": "python",
   "nbconvert_exporter": "python",
   "pygments_lexer": "ipython3",
   "version": "3.11.2"
  }
 },
 "nbformat": 4,
 "nbformat_minor": 5
}
