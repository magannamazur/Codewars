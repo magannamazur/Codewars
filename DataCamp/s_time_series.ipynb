{
 "cells": [
  {
   "cell_type": "code",
   "execution_count": 1,
   "id": "a8989ac6",
   "metadata": {},
   "outputs": [],
   "source": [
    "import pandas as pd\n",
    "import numpy as np"
   ]
  },
  {
   "cell_type": "markdown",
   "id": "3b67c4cf",
   "metadata": {},
   "source": [
    "# to_datetime"
   ]
  },
  {
   "cell_type": "code",
   "execution_count": 2,
   "id": "53ea087c",
   "metadata": {},
   "outputs": [
    {
     "name": "stdout",
     "output_type": "stream",
     "text": [
      "<class 'pandas.core.frame.DataFrame'>\n",
      "RangeIndex: 3 entries, 0 to 2\n",
      "Data columns (total 1 columns):\n",
      " #   Column  Non-Null Count  Dtype \n",
      "---  ------  --------------  ----- \n",
      " 0   data    3 non-null      object\n",
      "dtypes: object(1)\n",
      "memory usage: 156.0+ bytes\n"
     ]
    }
   ],
   "source": [
    "time_date = pd.DataFrame({\"data\":['2017-12-09', '2019-03-04','2022-10-28']})\n",
    "time_date.info()"
   ]
  },
  {
   "cell_type": "code",
   "execution_count": 4,
   "id": "f8099d82",
   "metadata": {},
   "outputs": [
    {
     "name": "stdout",
     "output_type": "stream",
     "text": [
      "<class 'pandas.core.frame.DataFrame'>\n",
      "RangeIndex: 3 entries, 0 to 2\n",
      "Data columns (total 1 columns):\n",
      " #   Column  Non-Null Count  Dtype         \n",
      "---  ------  --------------  -----         \n",
      " 0   data    3 non-null      datetime64[ns]\n",
      "dtypes: datetime64[ns](1)\n",
      "memory usage: 156.0 bytes\n"
     ]
    }
   ],
   "source": [
    "time_date['data'] = pd.to_datetime(time_date['data'])\n",
    "time_date.info()"
   ]
  },
  {
   "cell_type": "code",
   "execution_count": 8,
   "id": "fb81282c",
   "metadata": {},
   "outputs": [
    {
     "data": {
      "text/html": [
       "<div>\n",
       "<style scoped>\n",
       "    .dataframe tbody tr th:only-of-type {\n",
       "        vertical-align: middle;\n",
       "    }\n",
       "\n",
       "    .dataframe tbody tr th {\n",
       "        vertical-align: top;\n",
       "    }\n",
       "\n",
       "    .dataframe thead th {\n",
       "        text-align: right;\n",
       "    }\n",
       "</style>\n",
       "<table border=\"1\" class=\"dataframe\">\n",
       "  <thead>\n",
       "    <tr style=\"text-align: right;\">\n",
       "      <th></th>\n",
       "      <th>data</th>\n",
       "      <th>year</th>\n",
       "      <th>month</th>\n",
       "      <th>dayofyear</th>\n",
       "      <th>dayofmonth</th>\n",
       "      <th>dayofweek</th>\n",
       "      <th>week</th>\n",
       "    </tr>\n",
       "  </thead>\n",
       "  <tbody>\n",
       "    <tr>\n",
       "      <th>0</th>\n",
       "      <td>2017-12-09</td>\n",
       "      <td>2017</td>\n",
       "      <td>12</td>\n",
       "      <td>343</td>\n",
       "      <td>9</td>\n",
       "      <td>5</td>\n",
       "      <td>49</td>\n",
       "    </tr>\n",
       "    <tr>\n",
       "      <th>1</th>\n",
       "      <td>2019-03-04</td>\n",
       "      <td>2019</td>\n",
       "      <td>3</td>\n",
       "      <td>63</td>\n",
       "      <td>4</td>\n",
       "      <td>0</td>\n",
       "      <td>10</td>\n",
       "    </tr>\n",
       "    <tr>\n",
       "      <th>2</th>\n",
       "      <td>2022-10-28</td>\n",
       "      <td>2022</td>\n",
       "      <td>10</td>\n",
       "      <td>301</td>\n",
       "      <td>28</td>\n",
       "      <td>4</td>\n",
       "      <td>43</td>\n",
       "    </tr>\n",
       "  </tbody>\n",
       "</table>\n",
       "</div>"
      ],
      "text/plain": [
       "        data  year  month  dayofyear  dayofmonth  dayofweek  week\n",
       "0 2017-12-09  2017     12        343           9          5    49\n",
       "1 2019-03-04  2019      3         63           4          0    10\n",
       "2 2022-10-28  2022     10        301          28          4    43"
      ]
     },
     "execution_count": 8,
     "metadata": {},
     "output_type": "execute_result"
    }
   ],
   "source": [
    "time_date['year']= time_date['data'].dt.year\n",
    "time_date['month']= time_date['data'].dt.month\n",
    "time_date['week']= time_date['data'].dt.isocalendar().week\n",
    "time_date['dayofyear']= time_date['data'].dt.dayofyear\n",
    "time_date['dayofmonth']= time_date['data'].dt.day\n",
    "time_date['dayofweek']= time_date['data'].dt.dayofweek\n",
    "time_date"
   ]
  },
  {
   "cell_type": "code",
   "execution_count": 9,
   "id": "ec6caa32",
   "metadata": {},
   "outputs": [
    {
     "data": {
      "text/plain": [
       "[datetime.date(2016, 10, 7), datetime.date(2017, 6, 21)]"
      ]
     },
     "execution_count": 9,
     "metadata": {},
     "output_type": "execute_result"
    }
   ],
   "source": [
    "# Dates\n",
    "\n",
    "two_hurricanes = ['10/7/2016', '6/21/2017']\n",
    "two_hurricanes\n",
    "\n",
    "from datetime import date\n",
    "two_hurricanes_dates = [date(2016,10,7), date(2017,6,21)]\n",
    "two_hurricanes_dates"
   ]
  },
  {
   "cell_type": "code",
   "execution_count": 10,
   "id": "ee720696",
   "metadata": {},
   "outputs": [
    {
     "data": {
      "text/plain": [
       "2016"
      ]
     },
     "execution_count": 10,
     "metadata": {},
     "output_type": "execute_result"
    }
   ],
   "source": [
    "# You can access individual components of a date using the date's attributes. \n",
    "two_hurricanes_dates[0].year"
   ]
  },
  {
   "cell_type": "code",
   "execution_count": 11,
   "id": "aa4ed029",
   "metadata": {},
   "outputs": [
    {
     "data": {
      "text/plain": [
       "4"
      ]
     },
     "execution_count": 11,
     "metadata": {},
     "output_type": "execute_result"
    }
   ],
   "source": [
    "two_hurricanes_dates[0].weekday()\n",
    "# 0 - Monday.."
   ]
  },
  {
   "cell_type": "code",
   "execution_count": 12,
   "id": "bf40cdb2",
   "metadata": {},
   "outputs": [
    {
     "data": {
      "text/plain": [
       "datetime.date(2017, 11, 5)"
      ]
     },
     "execution_count": 12,
     "metadata": {},
     "output_type": "execute_result"
    }
   ],
   "source": [
    "d1= date(2017,11,5)\n",
    "d2= date(2017,12,4)\n",
    "l = [d1,d2]\n",
    "min(l)"
   ]
  },
  {
   "cell_type": "code",
   "execution_count": 17,
   "id": "7f5adb33",
   "metadata": {},
   "outputs": [
    {
     "data": {
      "text/plain": [
       "datetime.timedelta(days=29)"
      ]
     },
     "execution_count": 17,
     "metadata": {},
     "output_type": "execute_result"
    }
   ],
   "source": [
    "delta = d2-d1\n",
    "delta"
   ]
  },
  {
   "cell_type": "code",
   "execution_count": 18,
   "id": "13c29618",
   "metadata": {},
   "outputs": [
    {
     "data": {
      "text/plain": [
       "29"
      ]
     },
     "execution_count": 18,
     "metadata": {},
     "output_type": "execute_result"
    }
   ],
   "source": [
    "delta.days"
   ]
  },
  {
   "cell_type": "code",
   "execution_count": 19,
   "id": "30bbf525",
   "metadata": {},
   "outputs": [
    {
     "data": {
      "text/plain": [
       "datetime.date(2017, 12, 4)"
      ]
     },
     "execution_count": 19,
     "metadata": {},
     "output_type": "execute_result"
    }
   ],
   "source": [
    "from datetime import timedelta\n",
    "td = timedelta(days=29)\n",
    "d1+td"
   ]
  },
  {
   "cell_type": "code",
   "execution_count": 20,
   "id": "06678710",
   "metadata": {},
   "outputs": [
    {
     "name": "stdout",
     "output_type": "stream",
     "text": [
      "2017-11-05\n"
     ]
    }
   ],
   "source": [
    "# ISO 8601 format\n",
    "print(d1)"
   ]
  },
  {
   "cell_type": "code",
   "execution_count": 21,
   "id": "647d77c4",
   "metadata": {},
   "outputs": [
    {
     "data": {
      "text/plain": [
       "'2017-11-05'"
      ]
     },
     "execution_count": 21,
     "metadata": {},
     "output_type": "execute_result"
    }
   ],
   "source": [
    "d1.isoformat()"
   ]
  },
  {
   "cell_type": "code",
   "execution_count": 22,
   "id": "9527c848",
   "metadata": {},
   "outputs": [
    {
     "data": {
      "text/plain": [
       "['1999-12-31', '2000-01-01']"
      ]
     },
     "execution_count": 22,
     "metadata": {},
     "output_type": "execute_result"
    }
   ],
   "source": [
    "some_dates = ['2000-01-01', '1999-12-31']\n",
    "sorted(some_dates)"
   ]
  },
  {
   "cell_type": "code",
   "execution_count": 23,
   "id": "9e5dc24d",
   "metadata": {},
   "outputs": [
    {
     "data": {
      "text/plain": [
       "'2017'"
      ]
     },
     "execution_count": 23,
     "metadata": {},
     "output_type": "execute_result"
    }
   ],
   "source": [
    "d = date(2017,1,5)\n",
    "d.strftime('%Y')"
   ]
  },
  {
   "cell_type": "code",
   "execution_count": 24,
   "id": "6c19c7fa",
   "metadata": {},
   "outputs": [
    {
     "data": {
      "text/plain": [
       "'Year is 2017'"
      ]
     },
     "execution_count": 24,
     "metadata": {},
     "output_type": "execute_result"
    }
   ],
   "source": [
    "d.strftime('Year is %Y')"
   ]
  },
  {
   "cell_type": "code",
   "execution_count": 25,
   "id": "4e92cf8a",
   "metadata": {},
   "outputs": [
    {
     "data": {
      "text/plain": [
       "'2017/01/05'"
      ]
     },
     "execution_count": 25,
     "metadata": {},
     "output_type": "execute_result"
    }
   ],
   "source": [
    "d.strftime('%Y/%m/%d')"
   ]
  },
  {
   "cell_type": "code",
   "execution_count": 26,
   "id": "42c3a508",
   "metadata": {},
   "outputs": [
    {
     "data": {
      "text/plain": [
       "'January (2017)'"
      ]
     },
     "execution_count": 26,
     "metadata": {},
     "output_type": "execute_result"
    }
   ],
   "source": [
    "d.strftime('%B (%Y)')"
   ]
  },
  {
   "cell_type": "code",
   "execution_count": 27,
   "id": "f4da8212",
   "metadata": {},
   "outputs": [
    {
     "data": {
      "text/plain": [
       "'2017-005'"
      ]
     },
     "execution_count": 27,
     "metadata": {},
     "output_type": "execute_result"
    }
   ],
   "source": [
    "d.strftime('%Y-%j')"
   ]
  },
  {
   "cell_type": "code",
   "execution_count": 28,
   "id": "a4ac97f6",
   "metadata": {},
   "outputs": [
    {
     "data": {
      "text/plain": [
       "datetime.datetime(2017, 10, 1, 15, 23, 25, 50000)"
      ]
     },
     "execution_count": 28,
     "metadata": {},
     "output_type": "execute_result"
    }
   ],
   "source": [
    "from datetime import datetime\n",
    "dt = datetime(2017,10,1,15,23,25,50000)\n",
    "dt"
   ]
  },
  {
   "cell_type": "code",
   "execution_count": 29,
   "id": "f598611f",
   "metadata": {},
   "outputs": [
    {
     "data": {
      "text/plain": [
       "datetime.datetime(2017, 10, 1, 15, 0)"
      ]
     },
     "execution_count": 29,
     "metadata": {},
     "output_type": "execute_result"
    }
   ],
   "source": [
    "dt_hr=dt.replace(minute=0, second=0, microsecond =0)\n",
    "dt_hr"
   ]
  },
  {
   "cell_type": "code",
   "execution_count": 30,
   "id": "74393e93",
   "metadata": {},
   "outputs": [
    {
     "data": {
      "text/plain": [
       "'2017-10-01 15:00:00'"
      ]
     },
     "execution_count": 30,
     "metadata": {},
     "output_type": "execute_result"
    }
   ],
   "source": [
    "dt_hr.strftime('%Y-%m-%d %H:%M:%S')"
   ]
  },
  {
   "cell_type": "code",
   "execution_count": 31,
   "id": "c33efe1b",
   "metadata": {},
   "outputs": [
    {
     "data": {
      "text/plain": [
       "datetime.datetime(2017, 12, 30, 15, 19, 13)"
      ]
     },
     "execution_count": 31,
     "metadata": {},
     "output_type": "execute_result"
    }
   ],
   "source": [
    "dt_p = datetime.strptime('12/30/2017 15:19:13', '%m/%d/%Y %H:%M:%S')\n",
    "dt_p"
   ]
  },
  {
   "cell_type": "code",
   "execution_count": 32,
   "id": "8e3cd2bc",
   "metadata": {},
   "outputs": [
    {
     "data": {
      "text/plain": [
       "datetime.datetime(2017, 12, 30, 21, 19, 13)"
      ]
     },
     "execution_count": 32,
     "metadata": {},
     "output_type": "execute_result"
    }
   ],
   "source": [
    "# timestamp = the number of seconds since January 1, 1970\n",
    "ts = 1514665153.0\n",
    "datetime.fromtimestamp(ts)"
   ]
  },
  {
   "cell_type": "code",
   "execution_count": 33,
   "id": "03cdd2fa",
   "metadata": {},
   "outputs": [
    {
     "data": {
      "text/plain": [
       "datetime.timedelta(seconds=1450)"
      ]
     },
     "execution_count": 33,
     "metadata": {},
     "output_type": "execute_result"
    }
   ],
   "source": [
    "start = datetime(2017,10,8,23,46,47)\n",
    "end = datetime(2017,10,9,0,10,57)\n",
    "duration = end-start\n",
    "duration"
   ]
  },
  {
   "cell_type": "code",
   "execution_count": 34,
   "id": "f011e16d",
   "metadata": {},
   "outputs": [
    {
     "data": {
      "text/plain": [
       "1450.0"
      ]
     },
     "execution_count": 34,
     "metadata": {},
     "output_type": "execute_result"
    }
   ],
   "source": [
    "duration.total_seconds()"
   ]
  },
  {
   "cell_type": "code",
   "execution_count": 35,
   "id": "b529c71c",
   "metadata": {},
   "outputs": [
    {
     "data": {
      "text/plain": [
       "datetime.datetime(2017, 10, 8, 23, 46, 48)"
      ]
     },
     "execution_count": 35,
     "metadata": {},
     "output_type": "execute_result"
    }
   ],
   "source": [
    "from datetime import timedelta\n",
    "delta1 = timedelta(seconds=1)\n",
    "start+delta1"
   ]
  },
  {
   "cell_type": "code",
   "execution_count": 36,
   "id": "c50e5339",
   "metadata": {},
   "outputs": [
    {
     "data": {
      "text/plain": [
       "datetime.datetime(2017, 10, 9, 23, 46, 48)"
      ]
     },
     "execution_count": 36,
     "metadata": {},
     "output_type": "execute_result"
    }
   ],
   "source": [
    "delta2 = timedelta(days=1, seconds=1)\n",
    "start+delta2"
   ]
  },
  {
   "cell_type": "code",
   "execution_count": 37,
   "id": "a4257805",
   "metadata": {},
   "outputs": [
    {
     "data": {
      "text/plain": [
       "datetime.datetime(2017, 10, 1, 23, 46, 47)"
      ]
     },
     "execution_count": 37,
     "metadata": {},
     "output_type": "execute_result"
    }
   ],
   "source": [
    "delta3 = timedelta(weeks =-1)\n",
    "start+delta3"
   ]
  },
  {
   "cell_type": "code",
   "execution_count": 38,
   "id": "7bf6c484",
   "metadata": {},
   "outputs": [
    {
     "name": "stdout",
     "output_type": "stream",
     "text": [
      "2017-12-30 15:09:03-05:00\n"
     ]
    }
   ],
   "source": [
    "from datetime import datetime, timedelta, timezone\n",
    "\n",
    "# US Eastern Standard time zone\n",
    "ET = timezone(timedelta(hours=-5))\n",
    "dt = datetime(2017,12,30,15,9,3, tzinfo = ET)\n",
    "print(dt)"
   ]
  },
  {
   "cell_type": "code",
   "execution_count": 39,
   "id": "610064b1",
   "metadata": {},
   "outputs": [],
   "source": [
    "# Indian Standard time zone\n",
    "IST = timezone(timedelta(hours=5, minutes = 30))"
   ]
  },
  {
   "cell_type": "code",
   "execution_count": 40,
   "id": "fa059deb",
   "metadata": {},
   "outputs": [
    {
     "name": "stdout",
     "output_type": "stream",
     "text": [
      "2017-12-31 01:39:03+05:30\n"
     ]
    }
   ],
   "source": [
    "# Convert dt to IST time\n",
    "print(dt.astimezone(IST))"
   ]
  },
  {
   "cell_type": "code",
   "execution_count": 41,
   "id": "05b4c0a4",
   "metadata": {},
   "outputs": [
    {
     "name": "stdout",
     "output_type": "stream",
     "text": [
      "2017-12-30 15:09:03+00:00\n"
     ]
    }
   ],
   "source": [
    "print(dt.replace(tzinfo = timezone.utc))\n",
    "# UTC has been offset"
   ]
  },
  {
   "cell_type": "code",
   "execution_count": 42,
   "id": "81e6f0c1",
   "metadata": {},
   "outputs": [
    {
     "data": {
      "text/plain": [
       "tzfile('US/Eastern')"
      ]
     },
     "execution_count": 42,
     "metadata": {},
     "output_type": "execute_result"
    }
   ],
   "source": [
    "# When the hour during the year changes - czas letni/zimowy\n",
    "from datetime import datetime\n",
    "from dateutil import tz\n",
    "\n",
    "et = tz.gettz('America/New_York')\n",
    "et"
   ]
  },
  {
   "cell_type": "code",
   "execution_count": 43,
   "id": "d534542c",
   "metadata": {},
   "outputs": [
    {
     "name": "stdout",
     "output_type": "stream",
     "text": [
      "2017-12-30 15:09:03-05:00\n"
     ]
    }
   ],
   "source": [
    "last = datetime(2017, 12, 30, 15, 9, 3, tzinfo=et)\n",
    "print(last)"
   ]
  },
  {
   "cell_type": "code",
   "execution_count": 44,
   "id": "e481fbdd",
   "metadata": {},
   "outputs": [
    {
     "name": "stdout",
     "output_type": "stream",
     "text": [
      "2017-10-01 15:09:03-04:00\n"
     ]
    }
   ],
   "source": [
    "first = datetime(2017, 10, 1, 15, 9, 3, tzinfo=et)\n",
    "print(first)"
   ]
  },
  {
   "cell_type": "markdown",
   "id": "0a497fdf",
   "metadata": {},
   "source": [
    "# Daylight saving time\n",
    "\n",
    "## 2017-03-12 there is never 2 am o'clock"
   ]
  },
  {
   "cell_type": "markdown",
   "id": "32900fd4",
   "metadata": {},
   "source": [
    "### Starting Daylight Saving Time"
   ]
  },
  {
   "cell_type": "code",
   "execution_count": 48,
   "id": "bb3e336d",
   "metadata": {},
   "outputs": [
    {
     "data": {
      "image/png": "[encoded data removed]",
      "text/plain": [
       "<PIL.JpegImagePlugin.JpegImageFile image mode=RGB size=1114x398>"
      ]
     },
     "metadata": {},
     "output_type": "display_data"
    }
   ],
   "source": [
    "from PIL import Image \n",
    "from IPython.display import display\n",
    "img = Image. open('dl.jpg')\n",
    "display(img)"
   ]
  },
  {
   "cell_type": "code",
   "execution_count": 50,
   "id": "fcf52227",
   "metadata": {},
   "outputs": [
    {
     "data": {
      "text/plain": [
       "'2017-03-12T01:59:59'"
      ]
     },
     "execution_count": 50,
     "metadata": {},
     "output_type": "execute_result"
    }
   ],
   "source": [
    "spring_ahead_159am = datetime(2017,3,12,1,59,59)\n",
    "spring_ahead_159am.isoformat()"
   ]
  },
  {
   "cell_type": "code",
   "execution_count": 51,
   "id": "d795b214",
   "metadata": {},
   "outputs": [
    {
     "data": {
      "text/plain": [
       "'2017-03-12T03:00:00'"
      ]
     },
     "execution_count": 51,
     "metadata": {},
     "output_type": "execute_result"
    }
   ],
   "source": [
    "spring_ahead_3am = datetime(2017,3,12,3,0,0)\n",
    "spring_ahead_3am.isoformat()"
   ]
  },
  {
   "cell_type": "code",
   "execution_count": 52,
   "id": "7acf6da9",
   "metadata": {},
   "outputs": [
    {
     "data": {
      "text/plain": [
       "3601.0"
      ]
     },
     "execution_count": 52,
     "metadata": {},
     "output_type": "execute_result"
    }
   ],
   "source": [
    "(spring_ahead_3am-spring_ahead_159am).total_seconds()"
   ]
  },
  {
   "cell_type": "code",
   "execution_count": 53,
   "id": "e5552445",
   "metadata": {},
   "outputs": [],
   "source": [
    "from datetime import datetime, timedelta, timezone\n",
    "\n",
    "EST=timezone(timedelta(hours=-5)) # Eastern Standard Time\n",
    "EDT=timezone(timedelta(hours=-4)) # Eastern Daylight Time"
   ]
  },
  {
   "cell_type": "code",
   "execution_count": 54,
   "id": "f19f11bb",
   "metadata": {},
   "outputs": [
    {
     "data": {
      "text/plain": [
       "'2017-03-12T01:59:59-05:00'"
      ]
     },
     "execution_count": 54,
     "metadata": {},
     "output_type": "execute_result"
    }
   ],
   "source": [
    "spring_ahead_159am = spring_ahead_159am.replace(tzinfo=EST)\n",
    "spring_ahead_159am.isoformat()"
   ]
  },
  {
   "cell_type": "code",
   "execution_count": 55,
   "id": "1481c0d5",
   "metadata": {},
   "outputs": [
    {
     "data": {
      "text/plain": [
       "'2017-03-12T03:00:00-04:00'"
      ]
     },
     "execution_count": 55,
     "metadata": {},
     "output_type": "execute_result"
    }
   ],
   "source": [
    "spring_ahead_3am = spring_ahead_3am.replace(tzinfo=EDT)\n",
    "spring_ahead_3am.isoformat()"
   ]
  },
  {
   "cell_type": "code",
   "execution_count": 56,
   "id": "9a6b51d6",
   "metadata": {},
   "outputs": [
    {
     "data": {
      "text/plain": [
       "1.0"
      ]
     },
     "execution_count": 56,
     "metadata": {},
     "output_type": "execute_result"
    }
   ],
   "source": [
    "(spring_ahead_3am-spring_ahead_159am).total_seconds()"
   ]
  },
  {
   "cell_type": "code",
   "execution_count": 58,
   "id": "2138867a",
   "metadata": {},
   "outputs": [],
   "source": [
    "from dateutil import tz\n",
    "\n",
    "eastern = tz.gettz('America/New_York')\n",
    "spring_ahead_159am = datetime(2017,3,12,1,59,59, tzinfo=eastern)\n",
    "spring_ahead_3am = datetime(2017,3,12,3,0,0, tzinfo=eastern)"
   ]
  },
  {
   "cell_type": "markdown",
   "id": "3f91a2df",
   "metadata": {},
   "source": [
    "### Ending Daylight Saving Time"
   ]
  },
  {
   "cell_type": "code",
   "execution_count": 59,
   "id": "fbc63e9a",
   "metadata": {},
   "outputs": [
    {
     "data": {
      "image/png": "[encoded data removed]",
      "text/plain": [
       "<PIL.JpegImagePlugin.JpegImageFile image mode=RGB size=1050x508>"
      ]
     },
     "metadata": {},
     "output_type": "display_data"
    }
   ],
   "source": [
    "from PIL import Image \n",
    "from IPython.display import display\n",
    "img = Image. open('dl2.jpg')\n",
    "display(img)"
   ]
  },
  {
   "cell_type": "code",
   "execution_count": 62,
   "id": "77814b5e",
   "metadata": {},
   "outputs": [
    {
     "data": {
      "text/plain": [
       "True"
      ]
     },
     "execution_count": 62,
     "metadata": {},
     "output_type": "execute_result"
    }
   ],
   "source": [
    "eastern = tz.gettz('US/Eastern')\n",
    "first_1am = datetime(2017,11,5,1,0,0, tzinfo=eastern)\n",
    "tz.datetime_ambiguous(first_1am)\n",
    "# niejednoznaczne daty wynikająca z przesunięcia czasu"
   ]
  },
  {
   "cell_type": "code",
   "execution_count": 63,
   "id": "9e7dbf6f",
   "metadata": {},
   "outputs": [],
   "source": [
    "second_1am = datetime(2017,11,5,1,0,0, tzinfo=eastern)\n",
    "second_1am=tz.enfold(second_1am)"
   ]
  },
  {
   "cell_type": "code",
   "execution_count": 64,
   "id": "4d775ec2",
   "metadata": {},
   "outputs": [
    {
     "data": {
      "text/plain": [
       "0.0"
      ]
     },
     "execution_count": 64,
     "metadata": {},
     "output_type": "execute_result"
    }
   ],
   "source": [
    "(first_1am-second_1am).total_seconds()"
   ]
  },
  {
   "cell_type": "code",
   "execution_count": 65,
   "id": "42515a6f",
   "metadata": {},
   "outputs": [
    {
     "data": {
      "text/plain": [
       "-3600.0"
      ]
     },
     "execution_count": 65,
     "metadata": {},
     "output_type": "execute_result"
    }
   ],
   "source": [
    "first_1am = first_1am.astimezone(tz.UTC)\n",
    "second_1am = second_1am.astimezone(tz.UTC)\n",
    "(first_1am-second_1am).total_seconds()"
   ]
  },
  {
   "cell_type": "code",
   "execution_count": 96,
   "id": "14f7dc1a",
   "metadata": {},
   "outputs": [
    {
     "data": {
      "text/html": [
       "<div>\n",
       "<style scoped>\n",
       "    .dataframe tbody tr th:only-of-type {\n",
       "        vertical-align: middle;\n",
       "    }\n",
       "\n",
       "    .dataframe tbody tr th {\n",
       "        vertical-align: top;\n",
       "    }\n",
       "\n",
       "    .dataframe thead th {\n",
       "        text-align: right;\n",
       "    }\n",
       "</style>\n",
       "<table border=\"1\" class=\"dataframe\">\n",
       "  <thead>\n",
       "    <tr style=\"text-align: right;\">\n",
       "      <th></th>\n",
       "      <th>Start date</th>\n",
       "      <th>End date</th>\n",
       "      <th>Start station number</th>\n",
       "      <th>Start station</th>\n",
       "      <th>End station number</th>\n",
       "      <th>End station</th>\n",
       "      <th>Bike number</th>\n",
       "      <th>Member type</th>\n",
       "    </tr>\n",
       "  </thead>\n",
       "  <tbody>\n",
       "    <tr>\n",
       "      <th>0</th>\n",
       "      <td>2017-10-01 15:23:25</td>\n",
       "      <td>2017-10-01 15:26:26</td>\n",
       "      <td>31038</td>\n",
       "      <td>Glebe Rd &amp; 11th St N</td>\n",
       "      <td>31036</td>\n",
       "      <td>George Mason Dr &amp; Wilson Blvd</td>\n",
       "      <td>W20529</td>\n",
       "      <td>Member</td>\n",
       "    </tr>\n",
       "    <tr>\n",
       "      <th>1</th>\n",
       "      <td>2017-10-01 15:42:57</td>\n",
       "      <td>2017-10-01 17:49:59</td>\n",
       "      <td>31036</td>\n",
       "      <td>George Mason Dr &amp; Wilson Blvd</td>\n",
       "      <td>31036</td>\n",
       "      <td>George Mason Dr &amp; Wilson Blvd</td>\n",
       "      <td>W20529</td>\n",
       "      <td>Casual</td>\n",
       "    </tr>\n",
       "    <tr>\n",
       "      <th>2</th>\n",
       "      <td>2017-10-02 06:37:10</td>\n",
       "      <td>2017-10-02 06:42:53</td>\n",
       "      <td>31036</td>\n",
       "      <td>George Mason Dr &amp; Wilson Blvd</td>\n",
       "      <td>31037</td>\n",
       "      <td>Ballston Metro / N Stuart &amp; 9th St N</td>\n",
       "      <td>W20529</td>\n",
       "      <td>Member</td>\n",
       "    </tr>\n",
       "    <tr>\n",
       "      <th>3</th>\n",
       "      <td>2017-10-02 08:56:45</td>\n",
       "      <td>2017-10-02 09:18:03</td>\n",
       "      <td>31037</td>\n",
       "      <td>Ballston Metro / N Stuart &amp; 9th St N</td>\n",
       "      <td>31295</td>\n",
       "      <td>Potomac &amp; M St NW</td>\n",
       "      <td>W20529</td>\n",
       "      <td>Member</td>\n",
       "    </tr>\n",
       "    <tr>\n",
       "      <th>4</th>\n",
       "      <td>2017-10-02 18:23:48</td>\n",
       "      <td>2017-10-02 18:45:05</td>\n",
       "      <td>31295</td>\n",
       "      <td>Potomac &amp; M St NW</td>\n",
       "      <td>31230</td>\n",
       "      <td>Metro Center / 12th &amp; G St NW</td>\n",
       "      <td>W20529</td>\n",
       "      <td>Member</td>\n",
       "    </tr>\n",
       "  </tbody>\n",
       "</table>\n",
       "</div>"
      ],
      "text/plain": [
       "            Start date             End date  Start station number  \\\n",
       "0  2017-10-01 15:23:25  2017-10-01 15:26:26                 31038   \n",
       "1  2017-10-01 15:42:57  2017-10-01 17:49:59                 31036   \n",
       "2  2017-10-02 06:37:10  2017-10-02 06:42:53                 31036   \n",
       "3  2017-10-02 08:56:45  2017-10-02 09:18:03                 31037   \n",
       "4  2017-10-02 18:23:48  2017-10-02 18:45:05                 31295   \n",
       "\n",
       "                          Start station  End station number  \\\n",
       "0                  Glebe Rd & 11th St N               31036   \n",
       "1         George Mason Dr & Wilson Blvd               31036   \n",
       "2         George Mason Dr & Wilson Blvd               31037   \n",
       "3  Ballston Metro / N Stuart & 9th St N               31295   \n",
       "4                     Potomac & M St NW               31230   \n",
       "\n",
       "                            End station Bike number Member type  \n",
       "0         George Mason Dr & Wilson Blvd      W20529      Member  \n",
       "1         George Mason Dr & Wilson Blvd      W20529      Casual  \n",
       "2  Ballston Metro / N Stuart & 9th St N      W20529      Member  \n",
       "3                     Potomac & M St NW      W20529      Member  \n",
       "4         Metro Center / 12th & G St NW      W20529      Member  "
      ]
     },
     "execution_count": 96,
     "metadata": {},
     "output_type": "execute_result"
    }
   ],
   "source": [
    "import pandas as pd\n",
    "rides = pd.read_csv('data/capital-onebike.csv')\n",
    "rides_asdate = pd.read_csv('data/capital-onebike.csv', parse_dates = ['Start date', 'End date'])\n",
    "rides.head()"
   ]
  },
  {
   "cell_type": "code",
   "execution_count": 97,
   "id": "12e30fda",
   "metadata": {},
   "outputs": [
    {
     "name": "stdout",
     "output_type": "stream",
     "text": [
      "<class 'pandas.core.frame.DataFrame'>\n",
      "RangeIndex: 290 entries, 0 to 289\n",
      "Data columns (total 8 columns):\n",
      " #   Column                Non-Null Count  Dtype \n",
      "---  ------                --------------  ----- \n",
      " 0   Start date            290 non-null    object\n",
      " 1   End date              290 non-null    object\n",
      " 2   Start station number  290 non-null    int64 \n",
      " 3   Start station         290 non-null    object\n",
      " 4   End station number    290 non-null    int64 \n",
      " 5   End station           290 non-null    object\n",
      " 6   Bike number           290 non-null    object\n",
      " 7   Member type           290 non-null    object\n",
      "dtypes: int64(2), object(6)\n",
      "memory usage: 18.3+ KB\n"
     ]
    }
   ],
   "source": [
    "rides.info()"
   ]
  },
  {
   "cell_type": "code",
   "execution_count": 98,
   "id": "a4716174",
   "metadata": {},
   "outputs": [
    {
     "name": "stdout",
     "output_type": "stream",
     "text": [
      "<class 'pandas.core.frame.DataFrame'>\n",
      "RangeIndex: 290 entries, 0 to 289\n",
      "Data columns (total 8 columns):\n",
      " #   Column                Non-Null Count  Dtype         \n",
      "---  ------                --------------  -----         \n",
      " 0   Start date            290 non-null    datetime64[ns]\n",
      " 1   End date              290 non-null    datetime64[ns]\n",
      " 2   Start station number  290 non-null    int64         \n",
      " 3   Start station         290 non-null    object        \n",
      " 4   End station number    290 non-null    int64         \n",
      " 5   End station           290 non-null    object        \n",
      " 6   Bike number           290 non-null    object        \n",
      " 7   Member type           290 non-null    object        \n",
      "dtypes: datetime64[ns](2), int64(2), object(4)\n",
      "memory usage: 18.3+ KB\n"
     ]
    }
   ],
   "source": [
    "rides_asdate.info()"
   ]
  },
  {
   "cell_type": "code",
   "execution_count": 99,
   "id": "bb21c844",
   "metadata": {},
   "outputs": [
    {
     "data": {
      "text/plain": [
       "int"
      ]
     },
     "execution_count": 99,
     "metadata": {},
     "output_type": "execute_result"
    }
   ],
   "source": [
    "import pandas as pd\n",
    "rides['Start date']=pd.to_datetime(rides['Start date'])\n",
    "rides['End date']=pd.to_datetime(rides['End date'])\n",
    "# rides['Start date']=pd.to_datetime(rides['Start date'], format =\"%Y-%m-%d %H:%M:%S\")\n",
    "type(rides['Start date'][0].hour)"
   ]
  },
  {
   "cell_type": "code",
   "execution_count": 100,
   "id": "8e040ca6",
   "metadata": {},
   "outputs": [
    {
     "data": {
      "text/plain": [
       "Start date                               2017-10-02 06:37:10\n",
       "End date                                 2017-10-02 06:42:53\n",
       "Start station number                                   31036\n",
       "Start station                  George Mason Dr & Wilson Blvd\n",
       "End station number                                     31037\n",
       "End station             Ballston Metro / N Stuart & 9th St N\n",
       "Bike number                                           W20529\n",
       "Member type                                           Member\n",
       "Name: 2, dtype: object"
      ]
     },
     "execution_count": 100,
     "metadata": {},
     "output_type": "execute_result"
    }
   ],
   "source": [
    "rides.iloc[2]"
   ]
  },
  {
   "cell_type": "code",
   "execution_count": 101,
   "id": "667240bf",
   "metadata": {},
   "outputs": [
    {
     "data": {
      "text/plain": [
       "Timestamp('2017-10-02 06:37:10')"
      ]
     },
     "execution_count": 101,
     "metadata": {},
     "output_type": "execute_result"
    }
   ],
   "source": [
    "rides['Start date'].iloc[2]"
   ]
  },
  {
   "cell_type": "code",
   "execution_count": 102,
   "id": "27d007f6",
   "metadata": {},
   "outputs": [
    {
     "data": {
      "text/plain": [
       "0   0 days 00:03:01\n",
       "1   0 days 02:07:02\n",
       "2   0 days 00:05:43\n",
       "3   0 days 00:21:18\n",
       "4   0 days 00:21:17\n",
       "Name: Duration, dtype: timedelta64[ns]"
      ]
     },
     "execution_count": 102,
     "metadata": {},
     "output_type": "execute_result"
    }
   ],
   "source": [
    "rides['Duration']= rides['End date']-rides['Start date']\n",
    "rides['Duration'].head()"
   ]
  },
  {
   "cell_type": "code",
   "execution_count": 103,
   "id": "d4872edc",
   "metadata": {},
   "outputs": [
    {
     "data": {
      "text/plain": [
       "0     181.0\n",
       "1    7622.0\n",
       "2     343.0\n",
       "3    1278.0\n",
       "4    1277.0\n",
       "Name: Duration, dtype: float64"
      ]
     },
     "execution_count": 103,
     "metadata": {},
     "output_type": "execute_result"
    }
   ],
   "source": [
    "rides['Duration'].dt.total_seconds().head()"
   ]
  },
  {
   "cell_type": "code",
   "execution_count": 104,
   "id": "18a61ba7",
   "metadata": {},
   "outputs": [
    {
     "data": {
      "text/plain": [
       "Timedelta('0 days 00:19:38.931034482')"
      ]
     },
     "execution_count": 104,
     "metadata": {},
     "output_type": "execute_result"
    }
   ],
   "source": [
    "rides['Duration'].mean()"
   ]
  },
  {
   "cell_type": "code",
   "execution_count": 105,
   "id": "199f32da",
   "metadata": {},
   "outputs": [
    {
     "data": {
      "text/plain": [
       "Timedelta('3 days 22:58:10')"
      ]
     },
     "execution_count": 105,
     "metadata": {},
     "output_type": "execute_result"
    }
   ],
   "source": [
    "rides['Duration'].sum()"
   ]
  },
  {
   "cell_type": "code",
   "execution_count": 106,
   "id": "7e15e213",
   "metadata": {},
   "outputs": [
    {
     "data": {
      "text/plain": [
       "0.04348417785917786"
      ]
     },
     "execution_count": 106,
     "metadata": {},
     "output_type": "execute_result"
    }
   ],
   "source": [
    "rides['Duration'].sum()/timedelta(days=91)"
   ]
  },
  {
   "cell_type": "code",
   "execution_count": 107,
   "id": "89b2c09c",
   "metadata": {},
   "outputs": [
    {
     "data": {
      "text/plain": [
       "Member type\n",
       "Member    236\n",
       "Casual     54\n",
       "Name: count, dtype: int64"
      ]
     },
     "execution_count": 107,
     "metadata": {},
     "output_type": "execute_result"
    }
   ],
   "source": [
    "rides['Member type'].value_counts()"
   ]
  },
  {
   "cell_type": "code",
   "execution_count": 108,
   "id": "7c4f3250",
   "metadata": {},
   "outputs": [
    {
     "data": {
      "text/plain": [
       "Member type\n",
       "Member    0.813793\n",
       "Casual    0.186207\n",
       "Name: count, dtype: float64"
      ]
     },
     "execution_count": 108,
     "metadata": {},
     "output_type": "execute_result"
    }
   ],
   "source": [
    "rides['Member type'].value_counts()/len(rides)"
   ]
  },
  {
   "cell_type": "code",
   "execution_count": 109,
   "id": "8c06a513",
   "metadata": {},
   "outputs": [],
   "source": [
    "rides['Duration seconds'] = rides['Duration'].dt.total_seconds()"
   ]
  },
  {
   "cell_type": "code",
   "execution_count": 112,
   "id": "277c9035",
   "metadata": {},
   "outputs": [
    {
     "data": {
      "text/plain": [
       "Member type\n",
       "Casual    1994.666667\n",
       "Member     992.279661\n",
       "Name: Duration seconds, dtype: float64"
      ]
     },
     "execution_count": 112,
     "metadata": {},
     "output_type": "execute_result"
    }
   ],
   "source": [
    "rides.groupby('Member type')['Duration seconds'].mean()"
   ]
  },
  {
   "cell_type": "code",
   "execution_count": 114,
   "id": "6c8d7fb8",
   "metadata": {},
   "outputs": [
    {
     "data": {
      "text/plain": [
       "Start date\n",
       "2017-10-31    1886.453704\n",
       "2017-11-30     854.174757\n",
       "2017-12-31     635.101266\n",
       "Freq: ME, Name: Duration seconds, dtype: float64"
      ]
     },
     "execution_count": 114,
     "metadata": {},
     "output_type": "execute_result"
    }
   ],
   "source": [
    "rides.resample('ME', on ='Start date')['Duration seconds'].mean()"
   ]
  },
  {
   "cell_type": "code",
   "execution_count": 115,
   "id": "330632e4",
   "metadata": {},
   "outputs": [
    {
     "data": {
      "text/plain": [
       "Member type\n",
       "Casual     54\n",
       "Member    236\n",
       "dtype: int64"
      ]
     },
     "execution_count": 115,
     "metadata": {},
     "output_type": "execute_result"
    }
   ],
   "source": [
    "rides.groupby('Member type').size()"
   ]
  },
  {
   "cell_type": "code",
   "execution_count": 116,
   "id": "14757d30",
   "metadata": {},
   "outputs": [
    {
     "data": {
      "text/html": [
       "<div>\n",
       "<style scoped>\n",
       "    .dataframe tbody tr th:only-of-type {\n",
       "        vertical-align: middle;\n",
       "    }\n",
       "\n",
       "    .dataframe tbody tr th {\n",
       "        vertical-align: top;\n",
       "    }\n",
       "\n",
       "    .dataframe thead th {\n",
       "        text-align: right;\n",
       "    }\n",
       "</style>\n",
       "<table border=\"1\" class=\"dataframe\">\n",
       "  <thead>\n",
       "    <tr style=\"text-align: right;\">\n",
       "      <th></th>\n",
       "      <th>Start date</th>\n",
       "      <th>End date</th>\n",
       "      <th>Start station number</th>\n",
       "      <th>Start station</th>\n",
       "      <th>End station number</th>\n",
       "      <th>End station</th>\n",
       "      <th>Bike number</th>\n",
       "      <th>Duration</th>\n",
       "      <th>Duration seconds</th>\n",
       "    </tr>\n",
       "    <tr>\n",
       "      <th>Member type</th>\n",
       "      <th></th>\n",
       "      <th></th>\n",
       "      <th></th>\n",
       "      <th></th>\n",
       "      <th></th>\n",
       "      <th></th>\n",
       "      <th></th>\n",
       "      <th></th>\n",
       "      <th></th>\n",
       "    </tr>\n",
       "  </thead>\n",
       "  <tbody>\n",
       "    <tr>\n",
       "      <th>Casual</th>\n",
       "      <td>2017-10-01 15:42:57</td>\n",
       "      <td>2017-10-01 17:49:59</td>\n",
       "      <td>31036</td>\n",
       "      <td>George Mason Dr &amp; Wilson Blvd</td>\n",
       "      <td>31036</td>\n",
       "      <td>George Mason Dr &amp; Wilson Blvd</td>\n",
       "      <td>W20529</td>\n",
       "      <td>0 days 02:07:02</td>\n",
       "      <td>7622.0</td>\n",
       "    </tr>\n",
       "    <tr>\n",
       "      <th>Member</th>\n",
       "      <td>2017-10-01 15:23:25</td>\n",
       "      <td>2017-10-01 15:26:26</td>\n",
       "      <td>31038</td>\n",
       "      <td>Glebe Rd &amp; 11th St N</td>\n",
       "      <td>31036</td>\n",
       "      <td>George Mason Dr &amp; Wilson Blvd</td>\n",
       "      <td>W20529</td>\n",
       "      <td>0 days 00:03:01</td>\n",
       "      <td>181.0</td>\n",
       "    </tr>\n",
       "  </tbody>\n",
       "</table>\n",
       "</div>"
      ],
      "text/plain": [
       "                     Start date            End date  Start station number  \\\n",
       "Member type                                                                 \n",
       "Casual      2017-10-01 15:42:57 2017-10-01 17:49:59                 31036   \n",
       "Member      2017-10-01 15:23:25 2017-10-01 15:26:26                 31038   \n",
       "\n",
       "                             Start station  End station number  \\\n",
       "Member type                                                      \n",
       "Casual       George Mason Dr & Wilson Blvd               31036   \n",
       "Member                Glebe Rd & 11th St N               31036   \n",
       "\n",
       "                               End station Bike number        Duration  \\\n",
       "Member type                                                              \n",
       "Casual       George Mason Dr & Wilson Blvd      W20529 0 days 02:07:02   \n",
       "Member       George Mason Dr & Wilson Blvd      W20529 0 days 00:03:01   \n",
       "\n",
       "             Duration seconds  \n",
       "Member type                    \n",
       "Casual                 7622.0  \n",
       "Member                  181.0  "
      ]
     },
     "execution_count": 116,
     "metadata": {},
     "output_type": "execute_result"
    }
   ],
   "source": [
    "rides.groupby('Member type').first()"
   ]
  },
  {
   "cell_type": "code",
   "execution_count": 118,
   "id": "69f2205a",
   "metadata": {},
   "outputs": [
    {
     "data": {
      "text/plain": [
       "<Axes: xlabel='Start date'>"
      ]
     },
     "execution_count": 118,
     "metadata": {},
     "output_type": "execute_result"
    },
    {
     "data": {
      "image/png": "[encoded data removed]",
      "text/plain": [
       "<Figure size 640x480 with 1 Axes>"
      ]
     },
     "metadata": {},
     "output_type": "display_data"
    }
   ],
   "source": [
    "rides.resample('ME', on ='Start date')['Duration seconds'].mean().plot()"
   ]
  },
  {
   "cell_type": "code",
   "execution_count": 119,
   "id": "ad68e73e",
   "metadata": {},
   "outputs": [
    {
     "data": {
      "text/plain": [
       "<Axes: xlabel='Start date'>"
      ]
     },
     "execution_count": 119,
     "metadata": {},
     "output_type": "execute_result"
    },
    {
     "data": {
      "image/png": "[encoded data removed]",
      "text/plain": [
       "<Figure size 640x480 with 1 Axes>"
      ]
     },
     "metadata": {},
     "output_type": "display_data"
    }
   ],
   "source": [
    "rides.resample('D', on ='Start date')['Duration seconds'].mean().plot()"
   ]
  },
  {
   "cell_type": "code",
   "execution_count": 120,
   "id": "f42a4be2",
   "metadata": {},
   "outputs": [
    {
     "data": {
      "text/plain": [
       "-3346.0"
      ]
     },
     "execution_count": 120,
     "metadata": {},
     "output_type": "execute_result"
    }
   ],
   "source": [
    "rides['Duration'].dt.total_seconds().min()\n",
    "# Issue becouse of daylight savings"
   ]
  },
  {
   "cell_type": "code",
   "execution_count": 121,
   "id": "d9e1566b",
   "metadata": {},
   "outputs": [
    {
     "data": {
      "text/plain": [
       "0   2017-10-01 15:23:25-04:00\n",
       "1   2017-10-01 15:42:57-04:00\n",
       "2   2017-10-02 06:37:10-04:00\n",
       "3   2017-10-02 08:56:45-04:00\n",
       "4   2017-10-02 18:23:48-04:00\n",
       "Name: Start date, dtype: datetime64[ns, America/New_York]"
      ]
     },
     "execution_count": 121,
     "metadata": {},
     "output_type": "execute_result"
    }
   ],
   "source": [
    "rides['Start date'].head().dt.tz_localize('America/New_York')"
   ]
  },
  {
   "cell_type": "code",
   "execution_count": 123,
   "id": "1db0d156",
   "metadata": {},
   "outputs": [],
   "source": [
    "# rides['Start date']=rides['Start date'].dt.tz_localize('America/New_York')\n",
    "# Error\n",
    "# AmbiguousTimeError: Cannot infer dst time from 2017-11-05 01:56:50, \n",
    "#             try using the 'ambiguous' argument"
   ]
  },
  {
   "cell_type": "code",
   "execution_count": 124,
   "id": "c7f88775",
   "metadata": {},
   "outputs": [],
   "source": [
    "# 'NaT', which says that if the converter gets confused, it should set the bad result as Not a Time.\n",
    "rides['Start date']=rides['Start date'].dt.tz_localize('America/New_York', ambiguous = 'NaT')\n",
    "rides['End date']=rides['End date'].dt.tz_localize('America/New_York', ambiguous = 'NaT')\n",
    "# dt.tz_convert() converts to a new timezone, whereas dt.tz_localize() sets a timezone in the first place."
   ]
  },
  {
   "cell_type": "code",
   "execution_count": 125,
   "id": "b7bed4a8",
   "metadata": {},
   "outputs": [
    {
     "data": {
      "text/plain": [
       "116.0"
      ]
     },
     "execution_count": 125,
     "metadata": {},
     "output_type": "execute_result"
    }
   ],
   "source": [
    "rides['Duration']= rides['End date']-rides['Start date']\n",
    "rides['Duration'].dt.total_seconds().min()"
   ]
  },
  {
   "cell_type": "code",
   "execution_count": 126,
   "id": "21dfda0c",
   "metadata": {},
   "outputs": [
    {
     "data": {
      "text/plain": [
       "Start date                        NaT\n",
       "End date                          NaT\n",
       "Start station number            31615\n",
       "Start station           6th & H St NE\n",
       "End station number              31627\n",
       "End station             3rd & M St NE\n",
       "Bike number                    W20529\n",
       "Member type                    Member\n",
       "Duration                          NaT\n",
       "Duration seconds              -3346.0\n",
       "Name: 129, dtype: object"
      ]
     },
     "execution_count": 126,
     "metadata": {},
     "output_type": "execute_result"
    }
   ],
   "source": [
    "rides.iloc[129]"
   ]
  },
  {
   "cell_type": "code",
   "execution_count": 127,
   "id": "bf19c656",
   "metadata": {},
   "outputs": [
    {
     "data": {
      "text/plain": [
       "0    2017\n",
       "1    2017\n",
       "2    2017\n",
       "Name: Start date, dtype: int32"
      ]
     },
     "execution_count": 127,
     "metadata": {},
     "output_type": "execute_result"
    }
   ],
   "source": [
    "rides['Start date'].head(3).dt.year"
   ]
  },
  {
   "cell_type": "code",
   "execution_count": 128,
   "id": "d650f159",
   "metadata": {},
   "outputs": [
    {
     "data": {
      "text/plain": [
       "0    Sunday\n",
       "1    Sunday\n",
       "2    Monday\n",
       "Name: Start date, dtype: object"
      ]
     },
     "execution_count": 128,
     "metadata": {},
     "output_type": "execute_result"
    }
   ],
   "source": [
    "rides['Start date'].head(3).dt.day_name()"
   ]
  },
  {
   "cell_type": "code",
   "execution_count": 129,
   "id": "e3c47629",
   "metadata": {},
   "outputs": [
    {
     "data": {
      "text/plain": [
       "0                         NaT\n",
       "1   2017-10-01 15:26:26-04:00\n",
       "2   2017-10-01 17:49:59-04:00\n",
       "Name: End date, dtype: datetime64[ns, America/New_York]"
      ]
     },
     "execution_count": 129,
     "metadata": {},
     "output_type": "execute_result"
    }
   ],
   "source": [
    "rides['End date'].shift(1).head(3)\n",
    "# Here we've shifted the rides one row forward so that our zeroth row is now NaT, \n",
    "# and our first row has the same value that our zeroth row had before."
   ]
  },
  {
   "cell_type": "code",
   "execution_count": null,
   "id": "2e1bd886",
   "metadata": {},
   "outputs": [],
   "source": []
  }
 ],
 "metadata": {
  "kernelspec": {
   "display_name": "Python 3 (ipykernel)",
   "language": "python",
   "name": "python3"
  },
  "language_info": {
   "codemirror_mode": {
    "name": "ipython",
    "version": 3
   },
   "file_extension": ".py",
   "mimetype": "text/x-python",
   "name": "python",
   "nbconvert_exporter": "python",
   "pygments_lexer": "ipython3",
   "version": "3.11.2"
  }
 },
 "nbformat": 4,
 "nbformat_minor": 5
}
