{
 "cells": [
  {
   "cell_type": "code",
   "execution_count": null,
   "id": "500538f7",
   "metadata": {},
   "outputs": [],
   "source": [
    "from sklearn.module import Model\n",
    "model = Model()\n",
    "model.fit(X,y)\n",
    "predictions = model.predict(X_new)\n",
    "predictions"
   ]
  },
  {
   "cell_type": "code",
   "execution_count": 81,
   "id": "cbd69dab",
   "metadata": {},
   "outputs": [],
   "source": [
    "import pandas as pd\n",
    "import numpy as np\n",
    "churn_df = pd.read_csv('telecom_churn_clean.csv')\n",
    "diabetes_df = pd.read_csv('diabetes_clean.csv')"
   ]
  },
  {
   "cell_type": "code",
   "execution_count": 82,
   "id": "22da5ec1",
   "metadata": {},
   "outputs": [
    {
     "name": "stdout",
     "output_type": "stream",
     "text": [
      "(3333, 2) (3333,)\n"
     ]
    }
   ],
   "source": [
    "X = churn_df[['total_day_charge', 'total_eve_charge']].values\n",
    "y = churn_df['churn'].values\n",
    "\n",
    "# X = churn_df.drop(\"churn\", axis=1).values\n",
    "# y = churn_df[\"churn\"].values\n",
    "\n",
    "print(X.shape, y.shape)\n",
    "# Pandas DataFrame.values attribute return a Numpy representation of the given DataFrame"
   ]
  },
  {
   "cell_type": "markdown",
   "id": "df6fe50e",
   "metadata": {},
   "source": [
    "# k-Nearest Neighbors, KNN, classification\n",
    "Predict the label of any data point by looking at the k, for example, three, closest labeled data points and getting them to vote on what label the unlabeled observation should have"
   ]
  },
  {
   "cell_type": "code",
   "execution_count": 83,
   "id": "b427d48c",
   "metadata": {},
   "outputs": [
    {
     "name": "stdout",
     "output_type": "stream",
     "text": [
      "Predictions: [1 0 0]\n"
     ]
    }
   ],
   "source": [
    "from sklearn.neighbors import KNeighborsClassifier \n",
    "X = churn_df[['total_day_charge', 'total_eve_charge']].values\n",
    "y = churn_df['churn'].values\n",
    "X_new = np.array([[56.8, 17.5],\n",
    "                  [24.4, 24.1],\n",
    "                  [50.1, 10.9]])\n",
    "knn = KNeighborsClassifier(n_neighbors = 15)\n",
    "knn.fit(X,y)\n",
    "predictions = knn.predict(X_new)\n",
    "print(\"Predictions: {}\".format(predictions)) "
   ]
  },
  {
   "cell_type": "markdown",
   "id": "c841c22c",
   "metadata": {},
   "source": [
    "# Train/test split"
   ]
  },
  {
   "cell_type": "code",
   "execution_count": 84,
   "id": "ddb8f36d",
   "metadata": {},
   "outputs": [],
   "source": [
    "from sklearn.model_selection import train_test_split\n",
    "\n",
    "X_train,X_test,y_train,y_test = train_test_split(X,y,test_size=0.3,random_state=21, stratify=y)\n",
    "\n",
    "# stratify - to ensure our split reflects the proportion of labels in our data\n",
    "\n",
    "knn = KNeighborsClassifier(n_neighbors = 6)\n",
    "knn.fit(X_train,y_train)\n",
    "predictions = knn.predict(X_test)"
   ]
  },
  {
   "cell_type": "markdown",
   "id": "a0ac9252",
   "metadata": {},
   "source": [
    "# Measuring model performance - classification\n",
    "Accuracy (tp+tn)/(tp+tn+fp+fn)"
   ]
  },
  {
   "cell_type": "code",
   "execution_count": 34,
   "id": "b71281d5",
   "metadata": {},
   "outputs": [
    {
     "name": "stdout",
     "output_type": "stream",
     "text": [
      "Accuracy: 0.872\n"
     ]
    }
   ],
   "source": [
    "accuracy = knn.score(X_test, y_test)\n",
    "print(\"Accuracy: {}\".format(accuracy)) "
   ]
  },
  {
   "cell_type": "markdown",
   "id": "b828f829",
   "metadata": {},
   "source": [
    "Confusion matrix"
   ]
  },
  {
   "cell_type": "code",
   "execution_count": 86,
   "id": "3e423ad8",
   "metadata": {},
   "outputs": [
    {
     "data": {
      "text/plain": [
       "array([[836,  19],\n",
       "       [109,  36]], dtype=int64)"
      ]
     },
     "execution_count": 86,
     "metadata": {},
     "output_type": "execute_result"
    }
   ],
   "source": [
    "from sklearn.metrics import classification_report, confusion_matrix\n",
    "confusion_matrix = confusion_matrix(y_test, predictions)\n",
    "confusion_matrix"
   ]
  },
  {
   "cell_type": "code",
   "execution_count": 89,
   "id": "73a1b839",
   "metadata": {},
   "outputs": [
    {
     "name": "stdout",
     "output_type": "stream",
     "text": [
      "              precision    recall  f1-score   support\n",
      "\n",
      "           0       0.88      0.98      0.93       855\n",
      "           1       0.65      0.25      0.36       145\n",
      "\n",
      "    accuracy                           0.87      1000\n",
      "   macro avg       0.77      0.61      0.64      1000\n",
      "weighted avg       0.85      0.87      0.85      1000\n",
      "\n"
     ]
    }
   ],
   "source": [
    "c=classification_report(y_test, predictions)\n",
    "print(c)"
   ]
  },
  {
   "cell_type": "markdown",
   "id": "cc0fcbf0",
   "metadata": {},
   "source": [
    "precision tp/(tp+fp)"
   ]
  },
  {
   "cell_type": "markdown",
   "id": "811aed9b",
   "metadata": {},
   "source": [
    "recall = sensitivity tp/(tp+fn)"
   ]
  },
  {
   "cell_type": "markdown",
   "id": "8cb379f8",
   "metadata": {},
   "source": [
    "F1 score = precision * recall / (precision +recall)"
   ]
  },
  {
   "cell_type": "markdown",
   "id": "f4219c6b",
   "metadata": {},
   "source": [
    "# Over/underfitting"
   ]
  },
  {
   "cell_type": "code",
   "execution_count": 41,
   "id": "f973a369",
   "metadata": {},
   "outputs": [],
   "source": [
    "train_accuracies = {}\n",
    "test_accuracies = {}\n",
    "neighbors = np.arange(1,26)\n",
    "\n",
    "for neighbor in neighbors:\n",
    "    knn = KNeighborsClassifier(n_neighbors = neighbor)\n",
    "    knn.fit(X_train,y_train)\n",
    "    train_accuracies[neighbor] = knn.score(X_train, y_train)\n",
    "    test_accuracies[neighbor] = knn.score(X_test, y_test)\n"
   ]
  },
  {
   "cell_type": "code",
   "execution_count": 43,
   "id": "cd86f6b4",
   "metadata": {},
   "outputs": [
    {
     "data": {
      "text/plain": [
       "<function matplotlib.pyplot.show(close=None, block=None)>"
      ]
     },
     "execution_count": 43,
     "metadata": {},
     "output_type": "execute_result"
    },
    {
     "data": {
      "image/png": "[encoded data removed]",
      "text/plain": [
       "<Figure size 800x600 with 1 Axes>"
      ]
     },
     "metadata": {},
     "output_type": "display_data"
    }
   ],
   "source": [
    "import matplotlib.pyplot as plt\n",
    "plt.figure(figsize=(8,6))\n",
    "plt.title(\"KNN: Varying Number of Neighbors\")\n",
    "plt.plot(neighbors, train_accuracies.values(), label = \"Training Accuracy\")\n",
    "plt.plot(neighbors, test_accuracies.values(), label = \"Testing Accuracy\")\n",
    "plt.legend()\n",
    "plt.xlabel(\"Number of Neighbors\")\n",
    "plt.ylabel(\"Accuracy\")\n",
    "plt.show()"
   ]
  },
  {
   "cell_type": "markdown",
   "id": "3ac24c00",
   "metadata": {},
   "source": [
    "# Regression"
   ]
  },
  {
   "cell_type": "code",
   "execution_count": 45,
   "id": "7eb31e31",
   "metadata": {},
   "outputs": [
    {
     "data": {
      "text/html": [
       "<div>\n",
       "<style scoped>\n",
       "    .dataframe tbody tr th:only-of-type {\n",
       "        vertical-align: middle;\n",
       "    }\n",
       "\n",
       "    .dataframe tbody tr th {\n",
       "        vertical-align: top;\n",
       "    }\n",
       "\n",
       "    .dataframe thead th {\n",
       "        text-align: right;\n",
       "    }\n",
       "</style>\n",
       "<table border=\"1\" class=\"dataframe\">\n",
       "  <thead>\n",
       "    <tr style=\"text-align: right;\">\n",
       "      <th></th>\n",
       "      <th>pregnancies</th>\n",
       "      <th>glucose</th>\n",
       "      <th>diastolic</th>\n",
       "      <th>triceps</th>\n",
       "      <th>insulin</th>\n",
       "      <th>bmi</th>\n",
       "      <th>dpf</th>\n",
       "      <th>age</th>\n",
       "      <th>diabetes</th>\n",
       "    </tr>\n",
       "  </thead>\n",
       "  <tbody>\n",
       "    <tr>\n",
       "      <th>0</th>\n",
       "      <td>6</td>\n",
       "      <td>148</td>\n",
       "      <td>72</td>\n",
       "      <td>35</td>\n",
       "      <td>0</td>\n",
       "      <td>33.6</td>\n",
       "      <td>0.627</td>\n",
       "      <td>50</td>\n",
       "      <td>1</td>\n",
       "    </tr>\n",
       "    <tr>\n",
       "      <th>1</th>\n",
       "      <td>1</td>\n",
       "      <td>85</td>\n",
       "      <td>66</td>\n",
       "      <td>29</td>\n",
       "      <td>0</td>\n",
       "      <td>26.6</td>\n",
       "      <td>0.351</td>\n",
       "      <td>31</td>\n",
       "      <td>0</td>\n",
       "    </tr>\n",
       "    <tr>\n",
       "      <th>2</th>\n",
       "      <td>8</td>\n",
       "      <td>183</td>\n",
       "      <td>64</td>\n",
       "      <td>0</td>\n",
       "      <td>0</td>\n",
       "      <td>23.3</td>\n",
       "      <td>0.672</td>\n",
       "      <td>32</td>\n",
       "      <td>1</td>\n",
       "    </tr>\n",
       "    <tr>\n",
       "      <th>3</th>\n",
       "      <td>1</td>\n",
       "      <td>89</td>\n",
       "      <td>66</td>\n",
       "      <td>23</td>\n",
       "      <td>94</td>\n",
       "      <td>28.1</td>\n",
       "      <td>0.167</td>\n",
       "      <td>21</td>\n",
       "      <td>0</td>\n",
       "    </tr>\n",
       "    <tr>\n",
       "      <th>4</th>\n",
       "      <td>0</td>\n",
       "      <td>137</td>\n",
       "      <td>40</td>\n",
       "      <td>35</td>\n",
       "      <td>168</td>\n",
       "      <td>43.1</td>\n",
       "      <td>2.288</td>\n",
       "      <td>33</td>\n",
       "      <td>1</td>\n",
       "    </tr>\n",
       "  </tbody>\n",
       "</table>\n",
       "</div>"
      ],
      "text/plain": [
       "   pregnancies  glucose  diastolic  triceps  insulin   bmi    dpf  age  \\\n",
       "0            6      148         72       35        0  33.6  0.627   50   \n",
       "1            1       85         66       29        0  26.6  0.351   31   \n",
       "2            8      183         64        0        0  23.3  0.672   32   \n",
       "3            1       89         66       23       94  28.1  0.167   21   \n",
       "4            0      137         40       35      168  43.1  2.288   33   \n",
       "\n",
       "   diabetes  \n",
       "0         1  \n",
       "1         0  \n",
       "2         1  \n",
       "3         0  \n",
       "4         1  "
      ]
     },
     "execution_count": 45,
     "metadata": {},
     "output_type": "execute_result"
    }
   ],
   "source": [
    "diabetes_df.head()"
   ]
  },
  {
   "cell_type": "code",
   "execution_count": 48,
   "id": "6cc97700",
   "metadata": {},
   "outputs": [
    {
     "name": "stdout",
     "output_type": "stream",
     "text": [
      "(768,) (768,)\n",
      "(768,) (768, 1)\n"
     ]
    }
   ],
   "source": [
    "X = diabetes_df.drop(\"glucose\", axis=1).values\n",
    "y = diabetes_df[\"glucose\"].values\n",
    "X_bmi = X[:,3]\n",
    "print(y.shape, X_bmi.shape)\n",
    "X_bmi = X_bmi.reshape(-1,1)\n",
    "print(y.shape, X_bmi.shape)\n",
    "# X has to be as a two-dimensional array"
   ]
  },
  {
   "cell_type": "code",
   "execution_count": 50,
   "id": "a75d238e",
   "metadata": {},
   "outputs": [
    {
     "data": {
      "text/plain": [
       "<function matplotlib.pyplot.show(close=None, block=None)>"
      ]
     },
     "execution_count": 50,
     "metadata": {},
     "output_type": "execute_result"
    },
    {
     "data": {
      "image/png": "[encoded data removed]",
      "text/plain": [
       "<Figure size 640x480 with 1 Axes>"
      ]
     },
     "metadata": {},
     "output_type": "display_data"
    }
   ],
   "source": [
    "plt.scatter(X_bmi,y)\n",
    "plt.xlabel(\"Blood Glucose (mg/dl)\")\n",
    "plt.ylabel(\"Body Mass Index\")\n",
    "plt.show"
   ]
  },
  {
   "cell_type": "code",
   "execution_count": 53,
   "id": "57a4b8a3",
   "metadata": {},
   "outputs": [
    {
     "data": {
      "image/png": "[encoded data removed]",
      "text/plain": [
       "<Figure size 640x480 with 1 Axes>"
      ]
     },
     "metadata": {},
     "output_type": "display_data"
    }
   ],
   "source": [
    "from sklearn.linear_model import LinearRegression \n",
    "reg = LinearRegression()\n",
    "reg.fit(X_bmi,y)\n",
    "predictions = reg.predict(X_bmi)\n",
    "plt.scatter(X_bmi,y)\n",
    "plt.scatter(X_bmi,predictions)\n",
    "plt.xlabel(\"Blood Glucose (mg/dl)\")\n",
    "plt.ylabel(\"Body Mass Index\")\n",
    "plt.show()"
   ]
  },
  {
   "cell_type": "code",
   "execution_count": 56,
   "id": "149a4668",
   "metadata": {},
   "outputs": [],
   "source": [
    "# Linear regression using all features\n",
    "X = diabetes_df.drop(\"glucose\", axis=1).values\n",
    "y = diabetes_df[\"glucose\"].values\n",
    "X_train,X_test,y_train,y_test = train_test_split(X,y,test_size=0.3,random_state=21)\n",
    "reg_all = LinearRegression()\n",
    "reg_all.fit(X_train,y_train)\n",
    "predictions = reg_all.predict(X_test)"
   ]
  },
  {
   "cell_type": "markdown",
   "id": "6c34f7bf",
   "metadata": {},
   "source": [
    "# Measuring model performance - regression\n",
    "R square"
   ]
  },
  {
   "cell_type": "code",
   "execution_count": 58,
   "id": "b2d80359",
   "metadata": {},
   "outputs": [
    {
     "data": {
      "text/plain": [
       "0.28701582460171704"
      ]
     },
     "execution_count": 58,
     "metadata": {},
     "output_type": "execute_result"
    }
   ],
   "source": [
    "reg_all.score(X_test,y_test)"
   ]
  },
  {
   "cell_type": "markdown",
   "id": "14cd807e",
   "metadata": {},
   "source": [
    "MSE, RMSE"
   ]
  },
  {
   "cell_type": "code",
   "execution_count": 66,
   "id": "2ad1bbb4",
   "metadata": {},
   "outputs": [
    {
     "name": "stdout",
     "output_type": "stream",
     "text": [
      "MSE: 636.8297799182925, RMSE: 25.235486520340608\n"
     ]
    }
   ],
   "source": [
    "from sklearn.metrics import mean_squared_error\n",
    "\n",
    "MSE = mean_squared_error(y_test,predictions, squared = True)\n",
    "\n",
    "RMSE = mean_squared_error(y_test,predictions, squared = False)\n",
    "print(f'MSE: {MSE}, RMSE: {RMSE}')"
   ]
  },
  {
   "cell_type": "markdown",
   "id": "ae45d0e8",
   "metadata": {},
   "source": [
    "# Cross-validation, k-fold CV"
   ]
  },
  {
   "cell_type": "code",
   "execution_count": 70,
   "id": "738016c0",
   "metadata": {},
   "outputs": [
    {
     "name": "stdout",
     "output_type": "stream",
     "text": [
      "[0.26207548 0.28228176 0.41203082 0.23785884 0.41634629 0.30398869]\n",
      "Mean: 0.3190969786734479, Std: 0.0701532061011419\n",
      "(95% confidence: [0.24088592 0.41580685])\n"
     ]
    }
   ],
   "source": [
    "from sklearn.model_selection import cross_val_score, KFold\n",
    "# KFold - for shuffle data\n",
    "# shuffle = True - it shuffles data before spliting\n",
    "# reported score = R squared, to change \"scoring='neg_mean_absolute_error\"\n",
    "kf = KFold(n_splits=6,shuffle=True, random_state=42)\n",
    "reg = LinearRegression()\n",
    "cv_results = cross_val_score(reg,X,y,cv=kf)\n",
    "print(cv_results)\n",
    "print(f'Mean: {np.mean(cv_results)}, Std: {np.std(cv_results)}')\n",
    "print(f'(95% confidence: {np.quantile(cv_results, [0.025,0.975])})')"
   ]
  },
  {
   "cell_type": "markdown",
   "id": "d1e0046c",
   "metadata": {},
   "source": [
    "# Regularized regression\n",
    "- a technique used to avoid overfitting"
   ]
  },
  {
   "cell_type": "markdown",
   "id": "642e8022",
   "metadata": {},
   "source": [
    "Ridge L2\n",
    "- change the loss function so that it penalizes large coefficients\n",
    "- alfa (you can choose) * coefficient squared + loss function"
   ]
  },
  {
   "cell_type": "code",
   "execution_count": 72,
   "id": "67772624",
   "metadata": {},
   "outputs": [
    {
     "data": {
      "text/plain": [
       "[0.28718210812881373,\n",
       " 0.2886488453855751,\n",
       " 0.30075083865691343,\n",
       " 0.3266444676302307,\n",
       " 0.2903861817405353]"
      ]
     },
     "execution_count": 72,
     "metadata": {},
     "output_type": "execute_result"
    }
   ],
   "source": [
    "from sklearn.linear_model import Ridge\n",
    "scores = []\n",
    "for alpha in [0.1, 1.0, 10.0, 100.0, 1000.0]:\n",
    "    ridge = Ridge(alpha = alpha)\n",
    "    ridge.fit(X_train,y_train)\n",
    "    predictions = ridge.predict(X_test)\n",
    "    scores.append(ridge.score(X_test, y_test))\n",
    "scores"
   ]
  },
  {
   "cell_type": "markdown",
   "id": "3db8c895",
   "metadata": {},
   "source": [
    "Lasso L1\n",
    "- alfa (you can choose) * |coefficient| + loss function\n",
    "- it tends to shrink the coefficients of less important features to zero"
   ]
  },
  {
   "cell_type": "code",
   "execution_count": 73,
   "id": "12d4c292",
   "metadata": {},
   "outputs": [
    {
     "data": {
      "text/plain": [
       "[0.28761806147817415,\n",
       " 0.3298222738388288,\n",
       " 0.2621354084106098,\n",
       " 0.2437901341500236,\n",
       " 0.19875769891921435]"
      ]
     },
     "execution_count": 73,
     "metadata": {},
     "output_type": "execute_result"
    }
   ],
   "source": [
    "from sklearn.linear_model import Lasso\n",
    "scores = []\n",
    "for alpha in [0.01, 1.0, 10.0, 20.0, 50.0]:\n",
    "    lasso = Lasso(alpha = alpha)\n",
    "    lasso.fit(X_train,y_train)\n",
    "    predictions = lasso.predict(X_test)\n",
    "    scores.append(lasso.score(X_test, y_test))\n",
    "scores"
   ]
  },
  {
   "cell_type": "code",
   "execution_count": 77,
   "id": "c6bc1788",
   "metadata": {},
   "outputs": [
    {
     "data": {
      "image/png": "[encoded data removed]",
      "text/plain": [
       "<Figure size 640x480 with 1 Axes>"
      ]
     },
     "metadata": {},
     "output_type": "display_data"
    }
   ],
   "source": [
    "from sklearn.linear_model import Lasso\n",
    "X = diabetes_df.drop(\"glucose\", axis=1).values\n",
    "y = diabetes_df[\"glucose\"].values\n",
    "names = diabetes_df.drop(\"glucose\", axis=1).columns\n",
    "lasso = Lasso(alpha = 0.1)\n",
    "lasso.fit(X,y)\n",
    "lasso_coef = lasso.coef_\n",
    "plt.bar(names, lasso_coef)\n",
    "plt.xticks(rotation=45)\n",
    "plt.show()"
   ]
  },
  {
   "cell_type": "markdown",
   "id": "2b9719a8",
   "metadata": {},
   "source": [
    "# Logistic regression, classification\n",
    "- This model calculates the probability"
   ]
  },
  {
   "cell_type": "code",
   "execution_count": 94,
   "id": "31023d36",
   "metadata": {},
   "outputs": [],
   "source": [
    "from sklearn.linear_model import LogisticRegression\n",
    "\n",
    "# random_state=30, max_iter=500\n",
    "log_reg = LogisticRegression(max_iter=10000)\n",
    "\n",
    "X = churn_df.drop(\"churn\", axis=1).values\n",
    "y = churn_df[\"churn\"].values\n",
    "X_train,X_test,y_train,y_test = train_test_split(X,y,test_size=0.3,random_state=21)\n",
    "\n",
    "log_reg.fit(X_train, y_train)\n",
    "predictions = log_reg.predict(X_test)\n",
    "pred_probability = log_reg.predict_proba(X_test)"
   ]
  },
  {
   "cell_type": "markdown",
   "id": "85d8acbb",
   "metadata": {},
   "source": [
    "# ROC curve\n",
    "- to visualize how different thresholds affect true positive and false positive rates\n",
    "- fpr = FP/(FP+TN)\n",
    "- tpr = recall = TP(TP+FP)"
   ]
  },
  {
   "cell_type": "code",
   "execution_count": 113,
   "id": "9d430a66",
   "metadata": {},
   "outputs": [
    {
     "data": {
      "image/png": "[encoded data removed]",
      "text/plain": [
       "<Figure size 640x480 with 1 Axes>"
      ]
     },
     "metadata": {},
     "output_type": "display_data"
    }
   ],
   "source": [
    "from sklearn.metrics import roc_curve\n",
    "fpr, tpr, treshold = roc_curve(y_test, pred_probability[:,1])\n",
    "# roc_curve(y_test, pred_probability[:,1]) - probability of 1  \n",
    "plt.plot([0,1],[0,1], 'k--')\n",
    "plt.plot(fpr, tpr)\n",
    "plt.xlabel('False Positive Rate')\n",
    "plt.ylabel('True Positive Rate')\n",
    "plt.title('Logistic Reggresion ROC Curve')\n",
    "plt.show()"
   ]
  },
  {
   "cell_type": "markdown",
   "id": "95d1f5e5",
   "metadata": {},
   "source": [
    "AUC\n",
    "- we calculate the area under the ROC curve\n",
    "- 0 to 1"
   ]
  },
  {
   "cell_type": "code",
   "execution_count": 99,
   "id": "78717de0",
   "metadata": {},
   "outputs": [
    {
     "data": {
      "text/plain": [
       "0.8078368861819565"
      ]
     },
     "execution_count": 99,
     "metadata": {},
     "output_type": "execute_result"
    }
   ],
   "source": [
    "from sklearn.metrics import roc_auc_score\n",
    "roc_auc_score(y_test, pred_probability[:,1])"
   ]
  },
  {
   "cell_type": "markdown",
   "id": "c92b95e5",
   "metadata": {},
   "source": [
    "# Hyperparameter tuning\n",
    "- KNN, we choose n_neighbors\n",
    "- choose a value for alpha in ridge and lasso regression"
   ]
  },
  {
   "cell_type": "markdown",
   "id": "ef8ce467",
   "metadata": {},
   "source": [
    "# GridSearchCV"
   ]
  },
  {
   "cell_type": "code",
   "execution_count": 128,
   "id": "282eecfe",
   "metadata": {},
   "outputs": [
    {
     "name": "stdout",
     "output_type": "stream",
     "text": [
      "The best parameters are:  {'alpha': 0.0001, 'solver': 'sag'}\n",
      "The best score is:  0.13574603561009424\n"
     ]
    }
   ],
   "source": [
    "from sklearn.model_selection import GridSearchCV\n",
    "\n",
    "kf = KFold(n_splits=5,shuffle=True, random_state=42)\n",
    "param_grid = {'alpha':np.arange(0.0001,1,10),\n",
    "         'solver': ['sag', 'lsqr']}\n",
    "ridge = Ridge(max_iter=500000)\n",
    "ridge_cv = GridSearchCV(ridge, param_grid=param_grid, cv = kf)\n",
    "ridge_cv.fit(X_train, y_train)\n",
    "\n",
    "print(\"The best parameters are: \", ridge_cv.best_params_)\n",
    "print(\"The best score is: \", ridge_cv.best_score_)\n",
    "\n"
   ]
  },
  {
   "cell_type": "markdown",
   "id": "69168c4d",
   "metadata": {},
   "source": [
    "# RandomizedSearchCV"
   ]
  },
  {
   "cell_type": "code",
   "execution_count": 130,
   "id": "4e2ef9b3",
   "metadata": {},
   "outputs": [
    {
     "name": "stdout",
     "output_type": "stream",
     "text": [
      "The best parameters are:  {'solver': 'sag', 'alpha': 0.0001}\n",
      "The best score is:  0.13574797588837526\n"
     ]
    }
   ],
   "source": [
    "from sklearn.model_selection import RandomizedSearchCV\n",
    "\n",
    "kf = KFold(n_splits=5,shuffle=True, random_state=42)\n",
    "param_grid = {'alpha':np.arange(0.0001,1,10),\n",
    "         'solver': ['sag', 'lsqr']}\n",
    "ridge = Ridge(max_iter=500000)\n",
    "ridge_cv = RandomizedSearchCV(ridge, param_grid, cv = kf, n_iter = 2)\n",
    "ridge_cv.fit(X_train, y_train)\n",
    "\n",
    "print(\"The best parameters are: \", ridge_cv.best_params_)\n",
    "print(\"The best score is: \", ridge_cv.best_score_)\n",
    "\n"
   ]
  },
  {
   "cell_type": "code",
   "execution_count": 132,
   "id": "7ce86a3d",
   "metadata": {},
   "outputs": [
    {
     "name": "stdout",
     "output_type": "stream",
     "text": [
      "0.1579436780258443\n"
     ]
    }
   ],
   "source": [
    "test_score = ridge_cv.score(X_test,y_test)\n",
    "print(test_score)"
   ]
  },
  {
   "cell_type": "markdown",
   "id": "601950d9",
   "metadata": {},
   "source": [
    "# Dummy variable\n",
    "- scikit-learn: OneHotEncoder\n",
    "- pandas: get_dummies\n",
    "- manual"
   ]
  },
  {
   "cell_type": "code",
   "execution_count": 138,
   "id": "0ef0224f",
   "metadata": {},
   "outputs": [],
   "source": [
    "music_df = pd.read_csv('music_clean.csv')"
   ]
  },
  {
   "cell_type": "code",
   "execution_count": null,
   "id": "0253da96",
   "metadata": {},
   "outputs": [],
   "source": [
    "music_dummies = pd.get_dummies(music_df['genre'], drop_first = True) # each genre own column\n",
    "music_dummies = pd.concat([music_df, music_dummies], axis =1) # add to rest of the file"
   ]
  },
  {
   "cell_type": "code",
   "execution_count": null,
   "id": "cd6e52d6",
   "metadata": {},
   "outputs": [],
   "source": [
    "music_dummies = music_dummies.drop('genre', axis = 1)"
   ]
  },
  {
   "cell_type": "code",
   "execution_count": null,
   "id": "58473579",
   "metadata": {},
   "outputs": [],
   "source": [
    "# one categorical feature\n",
    "music_dummies = pd.get_dummies(music_df, drop_first = True)"
   ]
  },
  {
   "cell_type": "code",
   "execution_count": null,
   "id": "164d34b3",
   "metadata": {},
   "outputs": [],
   "source": [
    "# manual\n",
    "music_dummies['genre'] = np.where(music_df['genre'] = 'Rock',1,0)\n",
    "# if it is Rock convert to 1 other case to 0"
   ]
  },
  {
   "cell_type": "markdown",
   "id": "1f6220d3",
   "metadata": {},
   "source": [
    "# Missing data\n",
    "- to remove missing observations accounting for less than 5% of all data\n",
    "- to impute missing data by mean, median, for categorical by moda"
   ]
  },
  {
   "cell_type": "code",
   "execution_count": 146,
   "id": "1a1de64d",
   "metadata": {},
   "outputs": [
    {
     "name": "stdout",
     "output_type": "stream",
     "text": [
      "Unnamed: 0          0\n",
      "popularity          0\n",
      "acousticness        0\n",
      "danceability        0\n",
      "duration_ms         0\n",
      "energy              0\n",
      "instrumentalness    0\n",
      "liveness            0\n",
      "loudness            0\n",
      "speechiness         0\n",
      "tempo               0\n",
      "valence             0\n",
      "genre               0\n",
      "dtype: int64\n"
     ]
    }
   ],
   "source": [
    "# identifying how many row is missing\n",
    "print(music_df.isna().sum().sort_values())"
   ]
  },
  {
   "cell_type": "code",
   "execution_count": null,
   "id": "53e6e6c7",
   "metadata": {},
   "outputs": [],
   "source": [
    "music_df = music_df.dropna(subset = ['popularity','energy', 'tempo' ])"
   ]
  },
  {
   "cell_type": "code",
   "execution_count": null,
   "id": "bd50ad3d",
   "metadata": {},
   "outputs": [],
   "source": [
    "from sklearn.impute import SimpleImputer\n",
    "X_cat = music_df['genre'].values.reshape(-1,1)\n",
    "X_num = music_df.drop(['genre', 'popularity'], axis = 1).values\n",
    "y = music_df['popularity'].values\n",
    "X_train_cat ,X_test_cat ,y_train,y_test = train_test_split(X_cat,y,test_size=0.2,random_state=12)\n",
    "X_train_num ,X_test_num ,y_train,y_test = train_test_split(X_num,y,test_size=0.2,random_state=12)\n",
    "\n",
    "imp_cat = SimpleImputer(strategy = 'most_frequent')\n",
    "X_train_cat = imp_cat.fit_transform(X_train_cat)\n",
    "X_test_cat = imp_cat.transform(X_test_cat)\n",
    "\n",
    "imp_num = SimpleImputer() # mean by deafult\n",
    "X_train_num = imp_num.fit_transform(X_train_num)\n",
    "X_test_num = imp_num.transform(X_test_num)\n",
    "\n",
    "X_train = np.append(X_train_cat,X_train_num, axis = 1)\n",
    "X_test = np.append(X_test_cat,X_test_num, axis = 1)"
   ]
  },
  {
   "cell_type": "markdown",
   "id": "f7a1cb20",
   "metadata": {},
   "source": [
    "# Pipline"
   ]
  },
  {
   "cell_type": "code",
   "execution_count": null,
   "id": "0ea883bb",
   "metadata": {},
   "outputs": [],
   "source": [
    "from sklearn.pipeline import Pipeline\n",
    "steps = [('imputation', SimpleImpute()),\n",
    "        ('logistic_regression', LogisticRegression())]\n",
    "pipeline = Pipeline(steps)\n",
    "X_train,X_test,y_train,y_test = train_test_split(X,y,test_size=0.3,random_state=21)\n",
    "\n",
    "pipeline.fit(X_train, y_train)\n",
    "pipeline.score(X_test, y_test)"
   ]
  }
 ],
 "metadata": {
  "kernelspec": {
   "display_name": "Python 3 (ipykernel)",
   "language": "python",
   "name": "python3"
  },
  "language_info": {
   "codemirror_mode": {
    "name": "ipython",
    "version": 3
   },
   "file_extension": ".py",
   "mimetype": "text/x-python",
   "name": "python",
   "nbconvert_exporter": "python",
   "pygments_lexer": "ipython3",
   "version": "3.11.2"
  }
 },
 "nbformat": 4,
 "nbformat_minor": 5
}
