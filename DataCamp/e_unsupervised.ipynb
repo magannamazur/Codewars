{
 "cells": [
  {
   "cell_type": "markdown",
   "id": "7fb97b8b",
   "metadata": {},
   "source": [
    "dimension = number of features"
   ]
  },
  {
   "cell_type": "markdown",
   "id": "471a4af5",
   "metadata": {},
   "source": [
    "# K - means clustering"
   ]
  },
  {
   "cell_type": "code",
   "execution_count": 2,
   "id": "aefc7d55",
   "metadata": {},
   "outputs": [
    {
     "data": {
      "text/html": [
       "<div>\n",
       "<style scoped>\n",
       "    .dataframe tbody tr th:only-of-type {\n",
       "        vertical-align: middle;\n",
       "    }\n",
       "\n",
       "    .dataframe tbody tr th {\n",
       "        vertical-align: top;\n",
       "    }\n",
       "\n",
       "    .dataframe thead th {\n",
       "        text-align: right;\n",
       "    }\n",
       "</style>\n",
       "<table border=\"1\" class=\"dataframe\">\n",
       "  <thead>\n",
       "    <tr style=\"text-align: right;\">\n",
       "      <th></th>\n",
       "      <th>year</th>\n",
       "      <th>pop</th>\n",
       "      <th>areaa</th>\n",
       "    </tr>\n",
       "  </thead>\n",
       "  <tbody>\n",
       "    <tr>\n",
       "      <th>0</th>\n",
       "      <td>1950</td>\n",
       "      <td>2.519</td>\n",
       "      <td>1009</td>\n",
       "    </tr>\n",
       "    <tr>\n",
       "      <th>1</th>\n",
       "      <td>1970</td>\n",
       "      <td>3.692</td>\n",
       "      <td>455</td>\n",
       "    </tr>\n",
       "    <tr>\n",
       "      <th>2</th>\n",
       "      <td>1990</td>\n",
       "      <td>5.263</td>\n",
       "      <td>789</td>\n",
       "    </tr>\n",
       "    <tr>\n",
       "      <th>3</th>\n",
       "      <td>2010</td>\n",
       "      <td>6.972</td>\n",
       "      <td>170</td>\n",
       "    </tr>\n",
       "    <tr>\n",
       "      <th>4</th>\n",
       "      <td>2050</td>\n",
       "      <td>8.940</td>\n",
       "      <td>344</td>\n",
       "    </tr>\n",
       "    <tr>\n",
       "      <th>5</th>\n",
       "      <td>2100</td>\n",
       "      <td>10.850</td>\n",
       "      <td>767</td>\n",
       "    </tr>\n",
       "  </tbody>\n",
       "</table>\n",
       "</div>"
      ],
      "text/plain": [
       "   year     pop  areaa\n",
       "0  1950   2.519   1009\n",
       "1  1970   3.692    455\n",
       "2  1990   5.263    789\n",
       "3  2010   6.972    170\n",
       "4  2050   8.940    344\n",
       "5  2100  10.850    767"
      ]
     },
     "execution_count": 2,
     "metadata": {},
     "output_type": "execute_result"
    }
   ],
   "source": [
    "import pandas as pd\n",
    "import numpy as np\n",
    "samples =pd.DataFrame({\n",
    "    'year': [1950, 1970, 1990, 2010, 2050, 2100],\n",
    "    'pop': [2.519, 3.692, 5.263, 6.9720,  8.94, 10.85],\n",
    "    'areaa': [1009, 455, 789, 170, 344, 767]\n",
    "})\n",
    "samples"
   ]
  },
  {
   "cell_type": "code",
   "execution_count": 17,
   "id": "9dd8b0b3",
   "metadata": {},
   "outputs": [],
   "source": [
    "new_samples =pd.DataFrame({\n",
    "    'year': [1950, 1950, 1940, 2010, 2090, 2100],\n",
    "    'pop': [9.519, 3.692, 5.863, 6.9720,  10.94, 4.85],\n",
    "    'areaa': [342, 677, 399, 200, 1898, 767]\n",
    "})"
   ]
  },
  {
   "cell_type": "code",
   "execution_count": 18,
   "id": "622b8ab3",
   "metadata": {},
   "outputs": [
    {
     "name": "stderr",
     "output_type": "stream",
     "text": [
      "C:\\Users\\AsusF512ua-ej269t\\AppData\\Local\\Programs\\Python\\Python311\\Lib\\site-packages\\sklearn\\cluster\\_kmeans.py:870: FutureWarning: The default value of `n_init` will change from 10 to 'auto' in 1.4. Set the value of `n_init` explicitly to suppress the warning\n",
      "  warnings.warn(\n"
     ]
    },
    {
     "data": {
      "text/plain": [
       "array([2, 1, 0, 1, 1, 0])"
      ]
     },
     "execution_count": 18,
     "metadata": {},
     "output_type": "execute_result"
    }
   ],
   "source": [
    "from sklearn.cluster import KMeans\n",
    "model = KMeans(n_clusters = 3)\n",
    "model.fit(samples)\n",
    "labels = model.predict(samples)\n",
    "\n",
    "# labels = fit_predict(samples)\n",
    "\n",
    "labels"
   ]
  },
  {
   "cell_type": "code",
   "execution_count": 19,
   "id": "97f0686b",
   "metadata": {},
   "outputs": [
    {
     "data": {
      "text/plain": [
       "array([1, 0, 1, 1, 2, 0])"
      ]
     },
     "execution_count": 19,
     "metadata": {},
     "output_type": "execute_result"
    }
   ],
   "source": [
    "new_labels = model.predict(new_samples)\n",
    "new_labels"
   ]
  },
  {
   "cell_type": "code",
   "execution_count": 27,
   "id": "50dcb586",
   "metadata": {},
   "outputs": [
    {
     "data": {
      "image/png": "[encoded data removed]",
      "text/plain": [
       "<Figure size 640x480 with 1 Axes>"
      ]
     },
     "metadata": {},
     "output_type": "display_data"
    }
   ],
   "source": [
    "import matplotlib.pyplot as plt\n",
    "year=[1950, 1950, 1940, 2010, 2090, 2100]\n",
    "pop = [9.519, 3.692, 5.863, 6.9720,  10.94, 4.85]\n",
    "plt.scatter(year,pop, c = labels, alpha = 0.7) # print with cluster as labers\n",
    "\n",
    "centroids = model.cluster_centers_\n",
    "centroids_x = centroids[:,0]\n",
    "centroids_y = centroids[:,1]\n",
    "plt.scatter(centroids_x, centroids_y, c = 'red', marker = 'D', s=50) # s =size, marker = Dimond\n",
    "plt.show()"
   ]
  },
  {
   "cell_type": "markdown",
   "id": "74420bea",
   "metadata": {},
   "source": [
    "# Evaluating a clustering"
   ]
  },
  {
   "cell_type": "code",
   "execution_count": 33,
   "id": "b7107f86",
   "metadata": {},
   "outputs": [
    {
     "data": {
      "text/html": [
       "<div>\n",
       "<style scoped>\n",
       "    .dataframe tbody tr th:only-of-type {\n",
       "        vertical-align: middle;\n",
       "    }\n",
       "\n",
       "    .dataframe tbody tr th {\n",
       "        vertical-align: top;\n",
       "    }\n",
       "\n",
       "    .dataframe thead th {\n",
       "        text-align: right;\n",
       "    }\n",
       "</style>\n",
       "<table border=\"1\" class=\"dataframe\">\n",
       "  <thead>\n",
       "    <tr style=\"text-align: right;\">\n",
       "      <th></th>\n",
       "      <th>labels</th>\n",
       "      <th>species</th>\n",
       "    </tr>\n",
       "  </thead>\n",
       "  <tbody>\n",
       "    <tr>\n",
       "      <th>0</th>\n",
       "      <td>2</td>\n",
       "      <td>two</td>\n",
       "    </tr>\n",
       "    <tr>\n",
       "      <th>1</th>\n",
       "      <td>1</td>\n",
       "      <td>two</td>\n",
       "    </tr>\n",
       "    <tr>\n",
       "      <th>2</th>\n",
       "      <td>0</td>\n",
       "      <td>zero</td>\n",
       "    </tr>\n",
       "    <tr>\n",
       "      <th>3</th>\n",
       "      <td>1</td>\n",
       "      <td>one</td>\n",
       "    </tr>\n",
       "    <tr>\n",
       "      <th>4</th>\n",
       "      <td>1</td>\n",
       "      <td>zero</td>\n",
       "    </tr>\n",
       "    <tr>\n",
       "      <th>5</th>\n",
       "      <td>0</td>\n",
       "      <td>zero</td>\n",
       "    </tr>\n",
       "  </tbody>\n",
       "</table>\n",
       "</div>"
      ],
      "text/plain": [
       "   labels species\n",
       "0       2     two\n",
       "1       1     two\n",
       "2       0    zero\n",
       "3       1     one\n",
       "4       1    zero\n",
       "5       0    zero"
      ]
     },
     "execution_count": 33,
     "metadata": {},
     "output_type": "execute_result"
    }
   ],
   "source": [
    "species = ['two', 'two','zero', 'one', 'zero', 'zero']\n",
    "labels_species = pd.DataFrame({'labels': labels, 'species' : species})\n",
    "labels_species"
   ]
  },
  {
   "cell_type": "code",
   "execution_count": 34,
   "id": "89d98ffa",
   "metadata": {},
   "outputs": [
    {
     "data": {
      "text/html": [
       "<div>\n",
       "<style scoped>\n",
       "    .dataframe tbody tr th:only-of-type {\n",
       "        vertical-align: middle;\n",
       "    }\n",
       "\n",
       "    .dataframe tbody tr th {\n",
       "        vertical-align: top;\n",
       "    }\n",
       "\n",
       "    .dataframe thead th {\n",
       "        text-align: right;\n",
       "    }\n",
       "</style>\n",
       "<table border=\"1\" class=\"dataframe\">\n",
       "  <thead>\n",
       "    <tr style=\"text-align: right;\">\n",
       "      <th>species</th>\n",
       "      <th>one</th>\n",
       "      <th>two</th>\n",
       "      <th>zero</th>\n",
       "    </tr>\n",
       "    <tr>\n",
       "      <th>labels</th>\n",
       "      <th></th>\n",
       "      <th></th>\n",
       "      <th></th>\n",
       "    </tr>\n",
       "  </thead>\n",
       "  <tbody>\n",
       "    <tr>\n",
       "      <th>0</th>\n",
       "      <td>0</td>\n",
       "      <td>0</td>\n",
       "      <td>2</td>\n",
       "    </tr>\n",
       "    <tr>\n",
       "      <th>1</th>\n",
       "      <td>1</td>\n",
       "      <td>1</td>\n",
       "      <td>1</td>\n",
       "    </tr>\n",
       "    <tr>\n",
       "      <th>2</th>\n",
       "      <td>0</td>\n",
       "      <td>1</td>\n",
       "      <td>0</td>\n",
       "    </tr>\n",
       "  </tbody>\n",
       "</table>\n",
       "</div>"
      ],
      "text/plain": [
       "species  one  two  zero\n",
       "labels                 \n",
       "0          0    0     2\n",
       "1          1    1     1\n",
       "2          0    1     0"
      ]
     },
     "execution_count": 34,
     "metadata": {},
     "output_type": "execute_result"
    }
   ],
   "source": [
    "ct = pd.crosstab(labels_species['labels'],labels_species['species']) \n",
    "ct"
   ]
  },
  {
   "cell_type": "code",
   "execution_count": 35,
   "id": "06fdbe9a",
   "metadata": {},
   "outputs": [
    {
     "data": {
      "text/plain": [
       "50795.66492716667"
      ]
     },
     "execution_count": 35,
     "metadata": {},
     "output_type": "execute_result"
    }
   ],
   "source": [
    "# inertia (bezwładność), how far away the values are from centroids\n",
    "model.inertia_\n",
    "# the number of clusters has impact on it\n",
    "# elbow on inertia plot"
   ]
  },
  {
   "cell_type": "code",
   "execution_count": 36,
   "id": "efd7ed03",
   "metadata": {},
   "outputs": [
    {
     "name": "stderr",
     "output_type": "stream",
     "text": [
      "C:\\Users\\AsusF512ua-ej269t\\AppData\\Local\\Programs\\Python\\Python311\\Lib\\site-packages\\sklearn\\cluster\\_kmeans.py:870: FutureWarning: The default value of `n_init` will change from 10 to 'auto' in 1.4. Set the value of `n_init` explicitly to suppress the warning\n",
      "  warnings.warn(\n",
      "C:\\Users\\AsusF512ua-ej269t\\AppData\\Local\\Programs\\Python\\Python311\\Lib\\site-packages\\sklearn\\cluster\\_kmeans.py:870: FutureWarning: The default value of `n_init` will change from 10 to 'auto' in 1.4. Set the value of `n_init` explicitly to suppress the warning\n",
      "  warnings.warn(\n",
      "C:\\Users\\AsusF512ua-ej269t\\AppData\\Local\\Programs\\Python\\Python311\\Lib\\site-packages\\sklearn\\cluster\\_kmeans.py:870: FutureWarning: The default value of `n_init` will change from 10 to 'auto' in 1.4. Set the value of `n_init` explicitly to suppress the warning\n",
      "  warnings.warn(\n",
      "C:\\Users\\AsusF512ua-ej269t\\AppData\\Local\\Programs\\Python\\Python311\\Lib\\site-packages\\sklearn\\cluster\\_kmeans.py:870: FutureWarning: The default value of `n_init` will change from 10 to 'auto' in 1.4. Set the value of `n_init` explicitly to suppress the warning\n",
      "  warnings.warn(\n",
      "C:\\Users\\AsusF512ua-ej269t\\AppData\\Local\\Programs\\Python\\Python311\\Lib\\site-packages\\sklearn\\cluster\\_kmeans.py:870: FutureWarning: The default value of `n_init` will change from 10 to 'auto' in 1.4. Set the value of `n_init` explicitly to suppress the warning\n",
      "  warnings.warn(\n"
     ]
    },
    {
     "data": {
      "image/png": "[encoded data removed]",
      "text/plain": [
       "<Figure size 640x480 with 1 Axes>"
      ]
     },
     "metadata": {},
     "output_type": "display_data"
    }
   ],
   "source": [
    "ks = range(1, 6)\n",
    "inertias = []\n",
    "\n",
    "for k in ks:\n",
    "    # Create a KMeans instance with k clusters: model\n",
    "    model = KMeans(n_clusters = k)\n",
    "    \n",
    "    # Fit model to samples\n",
    "    model.fit(samples)\n",
    "    \n",
    "    # Append the inertia to the list of inertias\n",
    "    inertias.append(model.inertia_)\n",
    "    \n",
    "# Plot ks vs inertias\n",
    "plt.plot(ks, inertias, '-o')\n",
    "plt.xlabel('number of clusters, k')\n",
    "plt.ylabel('inertia')\n",
    "plt.xticks(ks)\n",
    "plt.show()"
   ]
  },
  {
   "cell_type": "markdown",
   "id": "8dbd13fd",
   "metadata": {},
   "source": [
    "# Feature variance\n",
    "Should be the same for each feature in Kmeans"
   ]
  },
  {
   "cell_type": "code",
   "execution_count": 37,
   "id": "4ffc4620",
   "metadata": {},
   "outputs": [],
   "source": [
    "wine = pd.read_csv('wine.csv')"
   ]
  },
  {
   "cell_type": "code",
   "execution_count": 38,
   "id": "b7c5fa97",
   "metadata": {},
   "outputs": [
    {
     "data": {
      "text/html": [
       "<div>\n",
       "<style scoped>\n",
       "    .dataframe tbody tr th:only-of-type {\n",
       "        vertical-align: middle;\n",
       "    }\n",
       "\n",
       "    .dataframe tbody tr th {\n",
       "        vertical-align: top;\n",
       "    }\n",
       "\n",
       "    .dataframe thead th {\n",
       "        text-align: right;\n",
       "    }\n",
       "</style>\n",
       "<table border=\"1\" class=\"dataframe\">\n",
       "  <thead>\n",
       "    <tr style=\"text-align: right;\">\n",
       "      <th></th>\n",
       "      <th>class_label</th>\n",
       "      <th>class_name</th>\n",
       "      <th>alcohol</th>\n",
       "      <th>malic_acid</th>\n",
       "      <th>ash</th>\n",
       "      <th>alcalinity_of_ash</th>\n",
       "      <th>magnesium</th>\n",
       "      <th>total_phenols</th>\n",
       "      <th>flavanoids</th>\n",
       "      <th>nonflavanoid_phenols</th>\n",
       "      <th>proanthocyanins</th>\n",
       "      <th>color_intensity</th>\n",
       "      <th>hue</th>\n",
       "      <th>od280</th>\n",
       "      <th>proline</th>\n",
       "    </tr>\n",
       "  </thead>\n",
       "  <tbody>\n",
       "    <tr>\n",
       "      <th>0</th>\n",
       "      <td>1</td>\n",
       "      <td>Barolo</td>\n",
       "      <td>14.23</td>\n",
       "      <td>1.71</td>\n",
       "      <td>2.43</td>\n",
       "      <td>15.6</td>\n",
       "      <td>127</td>\n",
       "      <td>2.80</td>\n",
       "      <td>3.06</td>\n",
       "      <td>0.28</td>\n",
       "      <td>2.29</td>\n",
       "      <td>5.64</td>\n",
       "      <td>1.04</td>\n",
       "      <td>3.92</td>\n",
       "      <td>1065</td>\n",
       "    </tr>\n",
       "    <tr>\n",
       "      <th>1</th>\n",
       "      <td>1</td>\n",
       "      <td>Barolo</td>\n",
       "      <td>13.20</td>\n",
       "      <td>1.78</td>\n",
       "      <td>2.14</td>\n",
       "      <td>11.2</td>\n",
       "      <td>100</td>\n",
       "      <td>2.65</td>\n",
       "      <td>2.76</td>\n",
       "      <td>0.26</td>\n",
       "      <td>1.28</td>\n",
       "      <td>4.38</td>\n",
       "      <td>1.05</td>\n",
       "      <td>3.40</td>\n",
       "      <td>1050</td>\n",
       "    </tr>\n",
       "    <tr>\n",
       "      <th>2</th>\n",
       "      <td>1</td>\n",
       "      <td>Barolo</td>\n",
       "      <td>13.16</td>\n",
       "      <td>2.36</td>\n",
       "      <td>2.67</td>\n",
       "      <td>18.6</td>\n",
       "      <td>101</td>\n",
       "      <td>2.80</td>\n",
       "      <td>3.24</td>\n",
       "      <td>0.30</td>\n",
       "      <td>2.81</td>\n",
       "      <td>5.68</td>\n",
       "      <td>1.03</td>\n",
       "      <td>3.17</td>\n",
       "      <td>1185</td>\n",
       "    </tr>\n",
       "    <tr>\n",
       "      <th>3</th>\n",
       "      <td>1</td>\n",
       "      <td>Barolo</td>\n",
       "      <td>14.37</td>\n",
       "      <td>1.95</td>\n",
       "      <td>2.50</td>\n",
       "      <td>16.8</td>\n",
       "      <td>113</td>\n",
       "      <td>3.85</td>\n",
       "      <td>3.49</td>\n",
       "      <td>0.24</td>\n",
       "      <td>2.18</td>\n",
       "      <td>7.80</td>\n",
       "      <td>0.86</td>\n",
       "      <td>3.45</td>\n",
       "      <td>1480</td>\n",
       "    </tr>\n",
       "    <tr>\n",
       "      <th>4</th>\n",
       "      <td>1</td>\n",
       "      <td>Barolo</td>\n",
       "      <td>13.24</td>\n",
       "      <td>2.59</td>\n",
       "      <td>2.87</td>\n",
       "      <td>21.0</td>\n",
       "      <td>118</td>\n",
       "      <td>2.80</td>\n",
       "      <td>2.69</td>\n",
       "      <td>0.39</td>\n",
       "      <td>1.82</td>\n",
       "      <td>4.32</td>\n",
       "      <td>1.04</td>\n",
       "      <td>2.93</td>\n",
       "      <td>735</td>\n",
       "    </tr>\n",
       "  </tbody>\n",
       "</table>\n",
       "</div>"
      ],
      "text/plain": [
       "   class_label class_name  alcohol  malic_acid   ash  alcalinity_of_ash  \\\n",
       "0            1     Barolo    14.23        1.71  2.43               15.6   \n",
       "1            1     Barolo    13.20        1.78  2.14               11.2   \n",
       "2            1     Barolo    13.16        2.36  2.67               18.6   \n",
       "3            1     Barolo    14.37        1.95  2.50               16.8   \n",
       "4            1     Barolo    13.24        2.59  2.87               21.0   \n",
       "\n",
       "   magnesium  total_phenols  flavanoids  nonflavanoid_phenols  \\\n",
       "0        127           2.80        3.06                  0.28   \n",
       "1        100           2.65        2.76                  0.26   \n",
       "2        101           2.80        3.24                  0.30   \n",
       "3        113           3.85        3.49                  0.24   \n",
       "4        118           2.80        2.69                  0.39   \n",
       "\n",
       "   proanthocyanins  color_intensity   hue  od280  proline  \n",
       "0             2.29             5.64  1.04   3.92     1065  \n",
       "1             1.28             4.38  1.05   3.40     1050  \n",
       "2             2.81             5.68  1.03   3.17     1185  \n",
       "3             2.18             7.80  0.86   3.45     1480  \n",
       "4             1.82             4.32  1.04   2.93      735  "
      ]
     },
     "execution_count": 38,
     "metadata": {},
     "output_type": "execute_result"
    }
   ],
   "source": [
    "wine.head()"
   ]
  },
  {
   "cell_type": "code",
   "execution_count": 40,
   "id": "e59c7669",
   "metadata": {},
   "outputs": [
    {
     "data": {
      "text/html": [
       "<div>\n",
       "<style scoped>\n",
       "    .dataframe tbody tr th:only-of-type {\n",
       "        vertical-align: middle;\n",
       "    }\n",
       "\n",
       "    .dataframe tbody tr th {\n",
       "        vertical-align: top;\n",
       "    }\n",
       "\n",
       "    .dataframe thead th {\n",
       "        text-align: right;\n",
       "    }\n",
       "</style>\n",
       "<table border=\"1\" class=\"dataframe\">\n",
       "  <thead>\n",
       "    <tr style=\"text-align: right;\">\n",
       "      <th></th>\n",
       "      <th>alcohol</th>\n",
       "      <th>malic_acid</th>\n",
       "      <th>ash</th>\n",
       "      <th>alcalinity_of_ash</th>\n",
       "      <th>magnesium</th>\n",
       "      <th>total_phenols</th>\n",
       "      <th>flavanoids</th>\n",
       "      <th>nonflavanoid_phenols</th>\n",
       "      <th>proanthocyanins</th>\n",
       "      <th>color_intensity</th>\n",
       "      <th>hue</th>\n",
       "      <th>od280</th>\n",
       "      <th>proline</th>\n",
       "    </tr>\n",
       "  </thead>\n",
       "  <tbody>\n",
       "    <tr>\n",
       "      <th>0</th>\n",
       "      <td>14.23</td>\n",
       "      <td>1.71</td>\n",
       "      <td>2.43</td>\n",
       "      <td>15.6</td>\n",
       "      <td>127</td>\n",
       "      <td>2.80</td>\n",
       "      <td>3.06</td>\n",
       "      <td>0.28</td>\n",
       "      <td>2.29</td>\n",
       "      <td>5.64</td>\n",
       "      <td>1.04</td>\n",
       "      <td>3.92</td>\n",
       "      <td>1065</td>\n",
       "    </tr>\n",
       "    <tr>\n",
       "      <th>1</th>\n",
       "      <td>13.20</td>\n",
       "      <td>1.78</td>\n",
       "      <td>2.14</td>\n",
       "      <td>11.2</td>\n",
       "      <td>100</td>\n",
       "      <td>2.65</td>\n",
       "      <td>2.76</td>\n",
       "      <td>0.26</td>\n",
       "      <td>1.28</td>\n",
       "      <td>4.38</td>\n",
       "      <td>1.05</td>\n",
       "      <td>3.40</td>\n",
       "      <td>1050</td>\n",
       "    </tr>\n",
       "    <tr>\n",
       "      <th>2</th>\n",
       "      <td>13.16</td>\n",
       "      <td>2.36</td>\n",
       "      <td>2.67</td>\n",
       "      <td>18.6</td>\n",
       "      <td>101</td>\n",
       "      <td>2.80</td>\n",
       "      <td>3.24</td>\n",
       "      <td>0.30</td>\n",
       "      <td>2.81</td>\n",
       "      <td>5.68</td>\n",
       "      <td>1.03</td>\n",
       "      <td>3.17</td>\n",
       "      <td>1185</td>\n",
       "    </tr>\n",
       "    <tr>\n",
       "      <th>3</th>\n",
       "      <td>14.37</td>\n",
       "      <td>1.95</td>\n",
       "      <td>2.50</td>\n",
       "      <td>16.8</td>\n",
       "      <td>113</td>\n",
       "      <td>3.85</td>\n",
       "      <td>3.49</td>\n",
       "      <td>0.24</td>\n",
       "      <td>2.18</td>\n",
       "      <td>7.80</td>\n",
       "      <td>0.86</td>\n",
       "      <td>3.45</td>\n",
       "      <td>1480</td>\n",
       "    </tr>\n",
       "    <tr>\n",
       "      <th>4</th>\n",
       "      <td>13.24</td>\n",
       "      <td>2.59</td>\n",
       "      <td>2.87</td>\n",
       "      <td>21.0</td>\n",
       "      <td>118</td>\n",
       "      <td>2.80</td>\n",
       "      <td>2.69</td>\n",
       "      <td>0.39</td>\n",
       "      <td>1.82</td>\n",
       "      <td>4.32</td>\n",
       "      <td>1.04</td>\n",
       "      <td>2.93</td>\n",
       "      <td>735</td>\n",
       "    </tr>\n",
       "  </tbody>\n",
       "</table>\n",
       "</div>"
      ],
      "text/plain": [
       "   alcohol  malic_acid   ash  alcalinity_of_ash  magnesium  total_phenols  \\\n",
       "0    14.23        1.71  2.43               15.6        127           2.80   \n",
       "1    13.20        1.78  2.14               11.2        100           2.65   \n",
       "2    13.16        2.36  2.67               18.6        101           2.80   \n",
       "3    14.37        1.95  2.50               16.8        113           3.85   \n",
       "4    13.24        2.59  2.87               21.0        118           2.80   \n",
       "\n",
       "   flavanoids  nonflavanoid_phenols  proanthocyanins  color_intensity   hue  \\\n",
       "0        3.06                  0.28             2.29             5.64  1.04   \n",
       "1        2.76                  0.26             1.28             4.38  1.05   \n",
       "2        3.24                  0.30             2.81             5.68  1.03   \n",
       "3        3.49                  0.24             2.18             7.80  0.86   \n",
       "4        2.69                  0.39             1.82             4.32  1.04   \n",
       "\n",
       "   od280  proline  \n",
       "0   3.92     1065  \n",
       "1   3.40     1050  \n",
       "2   3.17     1185  \n",
       "3   3.45     1480  \n",
       "4   2.93      735  "
      ]
     },
     "execution_count": 40,
     "metadata": {},
     "output_type": "execute_result"
    }
   ],
   "source": [
    "wine_df = wine.iloc[:,2:15]\n",
    "wine_df.head()"
   ]
  },
  {
   "cell_type": "code",
   "execution_count": 42,
   "id": "d8965a05",
   "metadata": {},
   "outputs": [
    {
     "name": "stderr",
     "output_type": "stream",
     "text": [
      "C:\\Users\\AsusF512ua-ej269t\\AppData\\Local\\Programs\\Python\\Python311\\Lib\\site-packages\\sklearn\\cluster\\_kmeans.py:870: FutureWarning: The default value of `n_init` will change from 10 to 'auto' in 1.4. Set the value of `n_init` explicitly to suppress the warning\n",
      "  warnings.warn(\n"
     ]
    }
   ],
   "source": [
    "w_model = KMeans(n_clusters = 3)\n",
    "w_model.fit(wine_df)\n",
    "w_labels = w_model.predict(wine_df)"
   ]
  },
  {
   "cell_type": "code",
   "execution_count": 43,
   "id": "6c04f085",
   "metadata": {},
   "outputs": [
    {
     "data": {
      "text/html": [
       "<div>\n",
       "<style scoped>\n",
       "    .dataframe tbody tr th:only-of-type {\n",
       "        vertical-align: middle;\n",
       "    }\n",
       "\n",
       "    .dataframe tbody tr th {\n",
       "        vertical-align: top;\n",
       "    }\n",
       "\n",
       "    .dataframe thead th {\n",
       "        text-align: right;\n",
       "    }\n",
       "</style>\n",
       "<table border=\"1\" class=\"dataframe\">\n",
       "  <thead>\n",
       "    <tr style=\"text-align: right;\">\n",
       "      <th>class_name</th>\n",
       "      <th>Barbera</th>\n",
       "      <th>Barolo</th>\n",
       "      <th>Grignolino</th>\n",
       "    </tr>\n",
       "    <tr>\n",
       "      <th>row_0</th>\n",
       "      <th></th>\n",
       "      <th></th>\n",
       "      <th></th>\n",
       "    </tr>\n",
       "  </thead>\n",
       "  <tbody>\n",
       "    <tr>\n",
       "      <th>0</th>\n",
       "      <td>19</td>\n",
       "      <td>0</td>\n",
       "      <td>50</td>\n",
       "    </tr>\n",
       "    <tr>\n",
       "      <th>1</th>\n",
       "      <td>0</td>\n",
       "      <td>46</td>\n",
       "      <td>1</td>\n",
       "    </tr>\n",
       "    <tr>\n",
       "      <th>2</th>\n",
       "      <td>29</td>\n",
       "      <td>13</td>\n",
       "      <td>20</td>\n",
       "    </tr>\n",
       "  </tbody>\n",
       "</table>\n",
       "</div>"
      ],
      "text/plain": [
       "class_name  Barbera  Barolo  Grignolino\n",
       "row_0                                  \n",
       "0                19       0          50\n",
       "1                 0      46           1\n",
       "2                29      13          20"
      ]
     },
     "execution_count": 43,
     "metadata": {},
     "output_type": "execute_result"
    }
   ],
   "source": [
    "ct = pd.crosstab(w_labels,wine['class_name']) \n",
    "ct"
   ]
  },
  {
   "cell_type": "markdown",
   "id": "edef80bb",
   "metadata": {},
   "source": [
    "### StandardScaler\n",
    "- mean = 0, variance = 1\n",
    "- changes each column \n",
    "- It arranges the data in a standard normal distribution. \n",
    "- It is more useful in classification than regression"
   ]
  },
  {
   "cell_type": "code",
   "execution_count": 44,
   "id": "5c1170c9",
   "metadata": {},
   "outputs": [],
   "source": [
    "from sklearn.preprocessing import StandardScaler\n",
    "scaler = StandardScaler()\n",
    "scaler.fit(wine_df)\n",
    "StandardScaler(copy = True, with_mean = True, with_std = True)\n",
    "samples_scaled = scaler.transform(wine_df)"
   ]
  },
  {
   "cell_type": "code",
   "execution_count": 45,
   "id": "51be5c29",
   "metadata": {},
   "outputs": [
    {
     "name": "stderr",
     "output_type": "stream",
     "text": [
      "C:\\Users\\AsusF512ua-ej269t\\AppData\\Local\\Programs\\Python\\Python311\\Lib\\site-packages\\sklearn\\cluster\\_kmeans.py:870: FutureWarning: The default value of `n_init` will change from 10 to 'auto' in 1.4. Set the value of `n_init` explicitly to suppress the warning\n",
      "  warnings.warn(\n"
     ]
    },
    {
     "data": {
      "text/html": [
       "<div>\n",
       "<style scoped>\n",
       "    .dataframe tbody tr th:only-of-type {\n",
       "        vertical-align: middle;\n",
       "    }\n",
       "\n",
       "    .dataframe tbody tr th {\n",
       "        vertical-align: top;\n",
       "    }\n",
       "\n",
       "    .dataframe thead th {\n",
       "        text-align: right;\n",
       "    }\n",
       "</style>\n",
       "<table border=\"1\" class=\"dataframe\">\n",
       "  <thead>\n",
       "    <tr style=\"text-align: right;\">\n",
       "      <th>class_name</th>\n",
       "      <th>Barbera</th>\n",
       "      <th>Barolo</th>\n",
       "      <th>Grignolino</th>\n",
       "    </tr>\n",
       "    <tr>\n",
       "      <th>row_0</th>\n",
       "      <th></th>\n",
       "      <th></th>\n",
       "      <th></th>\n",
       "    </tr>\n",
       "  </thead>\n",
       "  <tbody>\n",
       "    <tr>\n",
       "      <th>0</th>\n",
       "      <td>0</td>\n",
       "      <td>59</td>\n",
       "      <td>3</td>\n",
       "    </tr>\n",
       "    <tr>\n",
       "      <th>1</th>\n",
       "      <td>0</td>\n",
       "      <td>0</td>\n",
       "      <td>65</td>\n",
       "    </tr>\n",
       "    <tr>\n",
       "      <th>2</th>\n",
       "      <td>48</td>\n",
       "      <td>0</td>\n",
       "      <td>3</td>\n",
       "    </tr>\n",
       "  </tbody>\n",
       "</table>\n",
       "</div>"
      ],
      "text/plain": [
       "class_name  Barbera  Barolo  Grignolino\n",
       "row_0                                  \n",
       "0                 0      59           3\n",
       "1                 0       0          65\n",
       "2                48       0           3"
      ]
     },
     "execution_count": 45,
     "metadata": {},
     "output_type": "execute_result"
    }
   ],
   "source": [
    "# pipeline\n",
    "from sklearn.pipeline import make_pipeline\n",
    "\n",
    "model = KMeans(n_clusters = 3)\n",
    "scaler = StandardScaler()\n",
    "\n",
    "pipeline = make_pipeline(scaler,model)\n",
    "pipeline.fit(wine_df)\n",
    "w_pipe_labels = pipeline.predict(wine_df)\n",
    "\n",
    "ct = pd.crosstab(w_pipe_labels,wine['class_name']) \n",
    "ct"
   ]
  },
  {
   "cell_type": "markdown",
   "id": "33bfee62",
   "metadata": {},
   "source": [
    "### Normalizer\n",
    "- It squeezes the data between 0 and 1. \n",
    "- changes each row \n",
    "- Is more useful in regression than classification"
   ]
  },
  {
   "cell_type": "code",
   "execution_count": 46,
   "id": "52cdeb28",
   "metadata": {},
   "outputs": [
    {
     "name": "stderr",
     "output_type": "stream",
     "text": [
      "C:\\Users\\AsusF512ua-ej269t\\AppData\\Local\\Programs\\Python\\Python311\\Lib\\site-packages\\sklearn\\cluster\\_kmeans.py:870: FutureWarning: The default value of `n_init` will change from 10 to 'auto' in 1.4. Set the value of `n_init` explicitly to suppress the warning\n",
      "  warnings.warn(\n"
     ]
    },
    {
     "data": {
      "text/html": [
       "<div>\n",
       "<style scoped>\n",
       "    .dataframe tbody tr th:only-of-type {\n",
       "        vertical-align: middle;\n",
       "    }\n",
       "\n",
       "    .dataframe tbody tr th {\n",
       "        vertical-align: top;\n",
       "    }\n",
       "\n",
       "    .dataframe thead th {\n",
       "        text-align: right;\n",
       "    }\n",
       "</style>\n",
       "<table border=\"1\" class=\"dataframe\">\n",
       "  <thead>\n",
       "    <tr style=\"text-align: right;\">\n",
       "      <th>class_name</th>\n",
       "      <th>Barbera</th>\n",
       "      <th>Barolo</th>\n",
       "      <th>Grignolino</th>\n",
       "    </tr>\n",
       "    <tr>\n",
       "      <th>row_0</th>\n",
       "      <th></th>\n",
       "      <th></th>\n",
       "      <th></th>\n",
       "    </tr>\n",
       "  </thead>\n",
       "  <tbody>\n",
       "    <tr>\n",
       "      <th>0</th>\n",
       "      <td>40</td>\n",
       "      <td>8</td>\n",
       "      <td>33</td>\n",
       "    </tr>\n",
       "    <tr>\n",
       "      <th>1</th>\n",
       "      <td>4</td>\n",
       "      <td>0</td>\n",
       "      <td>33</td>\n",
       "    </tr>\n",
       "    <tr>\n",
       "      <th>2</th>\n",
       "      <td>4</td>\n",
       "      <td>51</td>\n",
       "      <td>5</td>\n",
       "    </tr>\n",
       "  </tbody>\n",
       "</table>\n",
       "</div>"
      ],
      "text/plain": [
       "class_name  Barbera  Barolo  Grignolino\n",
       "row_0                                  \n",
       "0                40       8          33\n",
       "1                 4       0          33\n",
       "2                 4      51           5"
      ]
     },
     "execution_count": 46,
     "metadata": {},
     "output_type": "execute_result"
    }
   ],
   "source": [
    "from sklearn.preprocessing import Normalizer \n",
    "\n",
    "normalizer = Normalizer()\n",
    "kmeans = KMeans(n_clusters = 3)\n",
    "\n",
    "pipeline = make_pipeline(normalizer,kmeans)\n",
    "pipeline.fit(wine_df)\n",
    "w_pipen_labels = pipeline.predict(wine_df)\n",
    "\n",
    "ct = pd.crosstab(w_pipen_labels,wine['class_name']) \n",
    "ct"
   ]
  },
  {
   "cell_type": "markdown",
   "id": "c9418ec3",
   "metadata": {},
   "source": [
    "# Hierarchical clustering\n",
    "- The y-axis of the dendrogram encodes the distance between merging clusters\n",
    "- \"linkage method\": \"complete\" linkage, where the distance between two clusters is the maximum of the distances between their samples."
   ]
  },
  {
   "cell_type": "code",
   "execution_count": 6,
   "id": "697a1527",
   "metadata": {},
   "outputs": [
    {
     "data": {
      "image/png": "[encoded data removed]",
      "text/plain": [
       "<Figure size 640x480 with 1 Axes>"
      ]
     },
     "metadata": {},
     "output_type": "display_data"
    }
   ],
   "source": [
    "samples =pd.DataFrame({\n",
    "    'year': [1950, 1970, 1990, 2010, 2050, 2100],\n",
    "    'pop': [2.519, 3.692, 5.263, 6.9720,  8.94, 10.85],\n",
    "    'areaa': [1009, 455, 789, 170, 344, 767]\n",
    "})\n",
    "species = ['UK', 'PL','FR', 'USA', 'DN', 'GR']\n",
    "\n",
    "import matplotlib.pyplot as plt\n",
    "from scipy.cluster.hierarchy import linkage, dendrogram, fcluster\n",
    "mergins = linkage(samples, method = \"complete\")\n",
    "\n",
    "dendrogram(mergins, labels=species, leaf_rotation = 90, leaf_font_size = 6 )\n",
    "\n",
    "plt.show()"
   ]
  },
  {
   "cell_type": "code",
   "execution_count": 19,
   "id": "0fca1035",
   "metadata": {},
   "outputs": [
    {
     "name": "stdout",
     "output_type": "stream",
     "text": [
      "   index  labels countries\n",
      "0      2       1        FR\n",
      "1      5       1        GR\n",
      "2      0       2        UK\n",
      "3      1       3        PL\n",
      "4      4       4        DN\n",
      "5      3       5       USA\n"
     ]
    }
   ],
   "source": [
    "labels = fcluster(mergins, 130,  criterion = 'distance')\n",
    "pairs = pd.DataFrame({'labels':labels, 'countries':species})\n",
    "print(pairs.sort_values('labels').reset_index())"
   ]
  },
  {
   "cell_type": "code",
   "execution_count": 18,
   "id": "d64d19fe",
   "metadata": {},
   "outputs": [
    {
     "data": {
      "text/html": [
       "<div>\n",
       "<style scoped>\n",
       "    .dataframe tbody tr th:only-of-type {\n",
       "        vertical-align: middle;\n",
       "    }\n",
       "\n",
       "    .dataframe tbody tr th {\n",
       "        vertical-align: top;\n",
       "    }\n",
       "\n",
       "    .dataframe thead th {\n",
       "        text-align: right;\n",
       "    }\n",
       "</style>\n",
       "<table border=\"1\" class=\"dataframe\">\n",
       "  <thead>\n",
       "    <tr style=\"text-align: right;\">\n",
       "      <th>countries</th>\n",
       "      <th>DN</th>\n",
       "      <th>FR</th>\n",
       "      <th>GR</th>\n",
       "      <th>PL</th>\n",
       "      <th>UK</th>\n",
       "      <th>USA</th>\n",
       "    </tr>\n",
       "    <tr>\n",
       "      <th>labels</th>\n",
       "      <th></th>\n",
       "      <th></th>\n",
       "      <th></th>\n",
       "      <th></th>\n",
       "      <th></th>\n",
       "      <th></th>\n",
       "    </tr>\n",
       "  </thead>\n",
       "  <tbody>\n",
       "    <tr>\n",
       "      <th>1</th>\n",
       "      <td>0</td>\n",
       "      <td>1</td>\n",
       "      <td>1</td>\n",
       "      <td>0</td>\n",
       "      <td>0</td>\n",
       "      <td>0</td>\n",
       "    </tr>\n",
       "    <tr>\n",
       "      <th>2</th>\n",
       "      <td>0</td>\n",
       "      <td>0</td>\n",
       "      <td>0</td>\n",
       "      <td>0</td>\n",
       "      <td>1</td>\n",
       "      <td>0</td>\n",
       "    </tr>\n",
       "    <tr>\n",
       "      <th>3</th>\n",
       "      <td>0</td>\n",
       "      <td>0</td>\n",
       "      <td>0</td>\n",
       "      <td>1</td>\n",
       "      <td>0</td>\n",
       "      <td>0</td>\n",
       "    </tr>\n",
       "    <tr>\n",
       "      <th>4</th>\n",
       "      <td>1</td>\n",
       "      <td>0</td>\n",
       "      <td>0</td>\n",
       "      <td>0</td>\n",
       "      <td>0</td>\n",
       "      <td>0</td>\n",
       "    </tr>\n",
       "    <tr>\n",
       "      <th>5</th>\n",
       "      <td>0</td>\n",
       "      <td>0</td>\n",
       "      <td>0</td>\n",
       "      <td>0</td>\n",
       "      <td>0</td>\n",
       "      <td>1</td>\n",
       "    </tr>\n",
       "  </tbody>\n",
       "</table>\n",
       "</div>"
      ],
      "text/plain": [
       "countries  DN  FR  GR  PL  UK  USA\n",
       "labels                            \n",
       "1           0   1   1   0   0    0\n",
       "2           0   0   0   0   1    0\n",
       "3           0   0   0   1   0    0\n",
       "4           1   0   0   0   0    0\n",
       "5           0   0   0   0   0    1"
      ]
     },
     "execution_count": 18,
     "metadata": {},
     "output_type": "execute_result"
    }
   ],
   "source": [
    "ct = pd.crosstab(pairs['labels'],pairs['countries'])\n",
    "ct"
   ]
  },
  {
   "cell_type": "markdown",
   "id": "86a4fb72",
   "metadata": {},
   "source": [
    "# t-SNE\n",
    "- It maps samples from their high-dimensional space into a 2- or 3-dimensional space so they can visualized"
   ]
  },
  {
   "cell_type": "code",
   "execution_count": 32,
   "id": "db738d73",
   "metadata": {},
   "outputs": [
    {
     "data": {
      "text/plain": [
       "array([[1950.   ,    2.519, 1009.   ],\n",
       "       [1970.   ,    3.692,  455.   ],\n",
       "       [1990.   ,    5.263,  789.   ],\n",
       "       [2010.   ,    6.972,  170.   ],\n",
       "       [2050.   ,    8.94 ,  344.   ],\n",
       "       [2100.   ,   10.85 ,  767.   ]])"
      ]
     },
     "execution_count": 32,
     "metadata": {},
     "output_type": "execute_result"
    }
   ],
   "source": [
    "samples.values"
   ]
  },
  {
   "cell_type": "code",
   "execution_count": 41,
   "id": "21b0029a",
   "metadata": {},
   "outputs": [
    {
     "data": {
      "image/png": "[encoded data removed]",
      "text/plain": [
       "<Figure size 640x480 with 1 Axes>"
      ]
     },
     "metadata": {},
     "output_type": "display_data"
    }
   ],
   "source": [
    "species = ['red', 'red','blue', 'green', 'blue', 'blue']\n",
    "from sklearn.manifold import TSNE\n",
    "model_t = TSNE(perplexity=4,learning_rate = 100)\n",
    "transformed = model_t.fit_transform(samples.values)\n",
    "xs = transformed[:,0]\n",
    "ys = transformed[:,1]\n",
    "plt.scatter(xs, ys, c= species )\n",
    "plt.show()"
   ]
  },
  {
   "cell_type": "markdown",
   "id": "fb92f879",
   "metadata": {},
   "source": [
    "# PCA -  \"Principal Component Analysis\", Dimension reduction\n",
    "- PCA  shifts the samples so that they have mean zero\n",
    "- the columns of the transformed array are not linearly correlated\n",
    "- it learns the \"principal components\" (głowne skałdaniki) of the data"
   ]
  },
  {
   "cell_type": "code",
   "execution_count": 46,
   "id": "d06e1892",
   "metadata": {},
   "outputs": [
    {
     "data": {
      "text/plain": [
       "array([[1950.   ,    2.519],\n",
       "       [1970.   ,    3.692],\n",
       "       [1990.   ,    5.263],\n",
       "       [2010.   ,    6.972],\n",
       "       [2050.   ,    8.94 ],\n",
       "       [2100.   ,   10.85 ]])"
      ]
     },
     "execution_count": 46,
     "metadata": {},
     "output_type": "execute_result"
    }
   ],
   "source": [
    "samples.iloc[:,0:2].values"
   ]
  },
  {
   "cell_type": "code",
   "execution_count": 47,
   "id": "b69f515a",
   "metadata": {},
   "outputs": [
    {
     "data": {
      "text/plain": [
       "array([[-61.78592698,  -0.35742418],\n",
       "       [-41.75159665,  -0.31821751],\n",
       "       [-21.69474124,   0.11835125],\n",
       "       [ -1.63007564,   0.69269881],\n",
       "       [ 38.41719187,   0.39371803],\n",
       "       [ 88.44514863,  -0.5291264 ]])"
      ]
     },
     "execution_count": 47,
     "metadata": {},
     "output_type": "execute_result"
    }
   ],
   "source": [
    "samples_PCA= samples.iloc[:,0:2].values\n",
    "from sklearn.decomposition import PCA\n",
    "model_PCA = PCA()\n",
    "model_PCA.fit(samples_PCA)\n",
    "transformed_PCA = model_PCA.transform(samples_PCA)\n",
    "transformed_PCA"
   ]
  },
  {
   "cell_type": "code",
   "execution_count": 67,
   "id": "30ace507",
   "metadata": {},
   "outputs": [
    {
     "data": {
      "image/png": "[encoded data removed]",
      "text/plain": [
       "<Figure size 640x480 with 1 Axes>"
      ]
     },
     "metadata": {},
     "output_type": "display_data"
    }
   ],
   "source": [
    "plt.scatter(transformed_PCA[:,0], transformed_PCA[:,1])\n",
    "plt.show()"
   ]
  },
  {
   "cell_type": "code",
   "execution_count": 48,
   "id": "86a0dde3",
   "metadata": {},
   "outputs": [
    {
     "data": {
      "text/plain": [
       "array([[ 0.99839718,  0.05659566],\n",
       "       [-0.05659566,  0.99839718]])"
      ]
     },
     "execution_count": 48,
     "metadata": {},
     "output_type": "execute_result"
    }
   ],
   "source": [
    "model_PCA.components_ # directions of component"
   ]
  },
  {
   "cell_type": "code",
   "execution_count": 75,
   "id": "881deada",
   "metadata": {},
   "outputs": [
    {
     "data": {
      "image/png": "[encoded data removed]",
      "text/plain": [
       "<Figure size 640x480 with 1 Axes>"
      ]
     },
     "metadata": {},
     "output_type": "display_data"
    }
   ],
   "source": [
    "plt.scatter(samples_PCA[:,0], samples_PCA[:,1])\n",
    "mean = model_PCA.mean_\n",
    "second_pc = model_PCA.components_[1,:]\n",
    "plt.arrow(mean[0], mean[1], first_pc[0], first_pc[1], color='red', width=1)\n",
    "plt.arrow(mean[0], mean[1], second_pc[0], second_pc[1], color='green', width=1)\n",
    "plt.axis('equal')\n",
    "plt.show()"
   ]
  },
  {
   "cell_type": "code",
   "execution_count": 49,
   "id": "ed6c791c",
   "metadata": {},
   "outputs": [
    {
     "name": "stdout",
     "output_type": "stream",
     "text": [
      "-3.885780586188048e-16 0.9999999999999993\n"
     ]
    }
   ],
   "source": [
    "from scipy.stats import pearsonr\n",
    "correlation, pvalue = pearsonr(transformed_PCA[:,0], transformed_PCA[:,1])\n",
    "print(correlation, pvalue)"
   ]
  },
  {
   "cell_type": "markdown",
   "id": "22a59ac6",
   "metadata": {},
   "source": [
    "# Intrinsic dimension of PCA\n",
    "- The intrinsic (wewnętrzny) dimension is the number of PCA features that have significant variance"
   ]
  },
  {
   "cell_type": "code",
   "execution_count": 62,
   "id": "7175b9d1",
   "metadata": {},
   "outputs": [
    {
     "data": {
      "text/plain": [
       "range(0, 3)"
      ]
     },
     "execution_count": 62,
     "metadata": {},
     "output_type": "execute_result"
    }
   ],
   "source": [
    "pca_ID = PCA()\n",
    "pca_ID.fit(samples.transpose().values)\n",
    "features = range(pca_ID.n_components_)\n",
    "features"
   ]
  },
  {
   "cell_type": "code",
   "execution_count": 63,
   "id": "75bac811",
   "metadata": {},
   "outputs": [
    {
     "data": {
      "text/plain": [
       "array([6.40097551e+06, 1.62089482e+05, 6.92346403e-26])"
      ]
     },
     "execution_count": 63,
     "metadata": {},
     "output_type": "execute_result"
    }
   ],
   "source": [
    "pca_ID.explained_variance_"
   ]
  },
  {
   "cell_type": "code",
   "execution_count": 64,
   "id": "cc604f03",
   "metadata": {},
   "outputs": [
    {
     "data": {
      "text/plain": [
       "array([6.40097551e+06, 1.62089482e+05, 6.92346403e-26])"
      ]
     },
     "execution_count": 64,
     "metadata": {},
     "output_type": "execute_result"
    }
   ],
   "source": [
    "pca_ID.explained_variance_"
   ]
  },
  {
   "cell_type": "code",
   "execution_count": 65,
   "id": "0f843b11",
   "metadata": {},
   "outputs": [
    {
     "data": {
      "image/png": "[encoded data removed]",
      "text/plain": [
       "<Figure size 640x480 with 1 Axes>"
      ]
     },
     "metadata": {},
     "output_type": "display_data"
    }
   ],
   "source": [
    "# Explained variance is a statistical measure of how much variation in a dataset can be attributed to each of the \n",
    "# principal components (eigenvectors) generated by the principal component analysis (PCA) method. \n",
    "# In other words, it tells us how much of the total variance is “explained” by each component.\n",
    "plt.bar(features, pca_ID.explained_variance_)\n",
    "plt.xticks(features)\n",
    "plt.xlabel('variance')\n",
    "plt.xlabel('PCA feature')\n",
    "plt.show()"
   ]
  },
  {
   "cell_type": "markdown",
   "id": "a69f1ee7",
   "metadata": {},
   "source": [
    "# Dimension reduction "
   ]
  },
  {
   "cell_type": "code",
   "execution_count": 97,
   "id": "5f26e1b5",
   "metadata": {},
   "outputs": [
    {
     "data": {
      "text/plain": [
       "(6, 4)"
      ]
     },
     "execution_count": 97,
     "metadata": {},
     "output_type": "execute_result"
    }
   ],
   "source": [
    "samples_DR =pd.DataFrame({\n",
    "    'year': [1950, 1970, 1990, 2010, 2050, 2100],\n",
    "    'pop': [2.519, 3.692, 5.263, 6.9720,  8.94, 10.85],\n",
    "    'areaa': [1009, 455, 789, 170, 344, 767],\n",
    "    'PKB': [30, 20, 50, 10, 120, 30]\n",
    "})\n",
    "species_DR = ['red', 'red','blue', 'green', 'blue', 'blue']\n",
    "pca_4 = PCA(n_components = 4)\n",
    "pca_4.fit(samples_DR)\n",
    "transformed_DR = pca_4.transform(samples_DR)\n",
    "transformed_DR.shape"
   ]
  },
  {
   "cell_type": "code",
   "execution_count": 98,
   "id": "521cae59",
   "metadata": {},
   "outputs": [
    {
     "data": {
      "text/plain": [
       "array([[ 4.22136867e+02, -4.55123362e+01,  1.11578296e+01,\n",
       "        -4.00159190e-02],\n",
       "       [-1.31973117e+02, -5.27113885e+01, -6.93638119e+00,\n",
       "         4.83813171e-01],\n",
       "       [ 2.00513617e+02, -9.75590477e+00,  1.46339264e+01,\n",
       "        -2.82853794e-01],\n",
       "       [-4.18032838e+02, -3.04205781e+01, -3.15956504e+01,\n",
       "        -3.12864771e-01],\n",
       "       [-2.47510336e+02,  5.37580645e+01,  5.68112263e+01,\n",
       "         4.71026288e-02],\n",
       "       [ 1.74865806e+02,  8.46421431e+01, -4.40709507e+01,\n",
       "         1.04818684e-01]])"
      ]
     },
     "execution_count": 98,
     "metadata": {},
     "output_type": "execute_result"
    }
   ],
   "source": [
    "transformed_DR"
   ]
  },
  {
   "cell_type": "code",
   "execution_count": 99,
   "id": "bbbbc8e2",
   "metadata": {},
   "outputs": [
    {
     "data": {
      "text/plain": [
       "array([[-0.03626907, -0.00318175,  0.99919089, -0.01708807],\n",
       "       [ 0.92952791,  0.05188619,  0.04011145,  0.36287292],\n",
       "       [-0.36288298, -0.01694122,  0.00270742,  0.93167677],\n",
       "       [ 0.05457438, -0.99850423, -0.00114552,  0.00310336]])"
      ]
     },
     "execution_count": 99,
     "metadata": {},
     "output_type": "execute_result"
    }
   ],
   "source": [
    "pca_4.components_"
   ]
  },
  {
   "cell_type": "code",
   "execution_count": 100,
   "id": "1b4f6e15",
   "metadata": {},
   "outputs": [
    {
     "data": {
      "image/png": "[encoded data removed]",
      "text/plain": [
       "<Figure size 640x480 with 1 Axes>"
      ]
     },
     "metadata": {},
     "output_type": "display_data"
    }
   ],
   "source": [
    "features_RD = range(pca_4.n_components_)\n",
    "pca_4.explained_variance_\n",
    "plt.bar(features_RD, pca_4.explained_variance_)\n",
    "plt.xticks(features_RD)\n",
    "plt.xlabel('variance')\n",
    "plt.xlabel('PCA feature')\n",
    "plt.show()"
   ]
  },
  {
   "cell_type": "code",
   "execution_count": 101,
   "id": "65ac5274",
   "metadata": {},
   "outputs": [
    {
     "data": {
      "text/html": [
       "<div>\n",
       "<style scoped>\n",
       "    .dataframe tbody tr th:only-of-type {\n",
       "        vertical-align: middle;\n",
       "    }\n",
       "\n",
       "    .dataframe tbody tr th {\n",
       "        vertical-align: top;\n",
       "    }\n",
       "\n",
       "    .dataframe thead th {\n",
       "        text-align: right;\n",
       "    }\n",
       "</style>\n",
       "<table border=\"1\" class=\"dataframe\">\n",
       "  <thead>\n",
       "    <tr style=\"text-align: right;\">\n",
       "      <th></th>\n",
       "      <th>year</th>\n",
       "      <th>pop</th>\n",
       "      <th>areaa</th>\n",
       "      <th>PKB</th>\n",
       "    </tr>\n",
       "  </thead>\n",
       "  <tbody>\n",
       "    <tr>\n",
       "      <th>PC-1</th>\n",
       "      <td>-0.036269</td>\n",
       "      <td>-0.003182</td>\n",
       "      <td>0.999191</td>\n",
       "      <td>-0.017088</td>\n",
       "    </tr>\n",
       "    <tr>\n",
       "      <th>PC-2</th>\n",
       "      <td>0.929528</td>\n",
       "      <td>0.051886</td>\n",
       "      <td>0.040111</td>\n",
       "      <td>0.362873</td>\n",
       "    </tr>\n",
       "    <tr>\n",
       "      <th>PC-3</th>\n",
       "      <td>-0.362883</td>\n",
       "      <td>-0.016941</td>\n",
       "      <td>0.002707</td>\n",
       "      <td>0.931677</td>\n",
       "    </tr>\n",
       "    <tr>\n",
       "      <th>PC-4</th>\n",
       "      <td>0.054574</td>\n",
       "      <td>-0.998504</td>\n",
       "      <td>-0.001146</td>\n",
       "      <td>0.003103</td>\n",
       "    </tr>\n",
       "  </tbody>\n",
       "</table>\n",
       "</div>"
      ],
      "text/plain": [
       "          year       pop     areaa       PKB\n",
       "PC-1 -0.036269 -0.003182  0.999191 -0.017088\n",
       "PC-2  0.929528  0.051886  0.040111  0.362873\n",
       "PC-3 -0.362883 -0.016941  0.002707  0.931677\n",
       "PC-4  0.054574 -0.998504 -0.001146  0.003103"
      ]
     },
     "execution_count": 101,
     "metadata": {},
     "output_type": "execute_result"
    }
   ],
   "source": [
    "pd.DataFrame(pca_4.components_, columns=samples_DR.columns,index = ['PC-1','PC-2', 'PC-3','PC-4'])"
   ]
  },
  {
   "cell_type": "code",
   "execution_count": 102,
   "id": "9a270c68",
   "metadata": {},
   "outputs": [
    {
     "name": "stdout",
     "output_type": "stream",
     "text": [
      "     0     1\n",
      "0  PC1  area\n",
      "1  PC2  year\n",
      "2  PC3   PKB\n",
      "3  PC4   pop\n"
     ]
    }
   ],
   "source": [
    "# get the index of the most important feature on EACH component i.e. largest absolute value\n",
    "# using LIST COMPREHENSION HERE\n",
    "most_important = [np.abs(pca_4.components_[i]).argmax() for i in range(pca_4.n_components_)]\n",
    "\n",
    "initial_feature_names = ['year','pop','area','PKB']\n",
    "\n",
    "# get the names\n",
    "most_important_names = [initial_feature_names[most_important[i]] for i in range(pca_4.n_components_)]\n",
    "\n",
    "# using LIST COMPREHENSION HERE AGAIN\n",
    "dic = {'PC{}'.format(i+1): most_important_names[i] for i in range(pca_4.n_components_)}\n",
    "\n",
    "# build the dataframe\n",
    "df = pd.DataFrame(sorted(dic.items()))\n",
    "print(df)"
   ]
  },
  {
   "cell_type": "code",
   "execution_count": 104,
   "id": "5495b500",
   "metadata": {},
   "outputs": [
    {
     "data": {
      "text/plain": [
       "(6, 2)"
      ]
     },
     "execution_count": 104,
     "metadata": {},
     "output_type": "execute_result"
    }
   ],
   "source": [
    "pca_2 = PCA(n_components = 2)\n",
    "pca_2.fit(samples_DR)\n",
    "transformed_DR = pca_2.transform(samples_DR)\n",
    "transformed_DR.shape"
   ]
  },
  {
   "cell_type": "code",
   "execution_count": 107,
   "id": "9c94e792",
   "metadata": {},
   "outputs": [
    {
     "data": {
      "image/png": "[encoded data removed]",
      "text/plain": [
       "<Figure size 640x480 with 1 Axes>"
      ]
     },
     "metadata": {},
     "output_type": "display_data"
    }
   ],
   "source": [
    "xs = transformed_DR[:,0]\n",
    "ys = transformed_DR[:,1]\n",
    "plt.scatter(xs, ys, c= species )\n",
    "plt.show()"
   ]
  },
  {
   "cell_type": "markdown",
   "id": "c6566451",
   "metadata": {},
   "source": [
    "### TruncatedSVD and csr_matrix \n",
    "- csr_matrices save space by remembering only the non-zero entries of the array\n",
    "- word-frequency array measure how often each word appears in each document"
   ]
  },
  {
   "cell_type": "code",
   "execution_count": null,
   "id": "7d7d7e08",
   "metadata": {},
   "outputs": [],
   "source": [
    "# from sklearn.decomposition import TruncatedSVD\n",
    "# pca_T = TruncatedSVD(n_components = 2)\n",
    "# pca_T.fit(document)\n",
    "# transformed_T = pca_T.transform(document)"
   ]
  },
  {
   "cell_type": "markdown",
   "id": "741f2c03",
   "metadata": {},
   "source": [
    "### tf-idf word frequency array \n",
    "create a tf-idf word frequency array for a toy collection of documents. For this, use the TfidfVectorizer from sklearn. It transforms a list of documents into a word frequency array, which it outputs as a csr_matrix. It has fit() and transform() methods like other sklearn objects.\n",
    "- the frequency of each word in the document\n",
    "- \"tf\" is the frequency of the word in the document\n",
    "- \"idf\" is a weighting scheme that reduces the influence of frequent words like \"the\""
   ]
  },
  {
   "cell_type": "code",
   "execution_count": 108,
   "id": "e03d7048",
   "metadata": {},
   "outputs": [],
   "source": [
    "# # Import TfidfVectorizer\n",
    "# from sklearn.feature_extraction.text import TfidfVectorizer\n",
    "\n",
    "# # Create a TfidfVectorizer: tfidf\n",
    "# tfidf = TfidfVectorizer() \n",
    "\n",
    "# # Apply fit_transform to document: csr_mat\n",
    "# csr_mat = tfidf.fit_transform(documents)\n",
    "\n",
    "# # Print result of toarray() method\n",
    "# print(csr_mat.toarray())\n",
    "\n",
    "# # Get the words: words\n",
    "# words = tfidf.get_feature_names()\n",
    "\n",
    "# # Print words\n",
    "# print(words)"
   ]
  },
  {
   "cell_type": "markdown",
   "id": "146c80b6",
   "metadata": {},
   "source": [
    "# Non-negative matrix factorization (NMF)\n",
    "- In constract to PCA, however, NMF models are interpretable\n",
    "- It is required that the sample features be \"non-negative\", so greater than or equal to 0. "
   ]
  },
  {
   "cell_type": "code",
   "execution_count": 114,
   "id": "f9a164b2",
   "metadata": {},
   "outputs": [
    {
     "data": {
      "text/plain": [
       "array([[0.2, 0.3, 0. , 0.1],\n",
       "       [0. , 0. , 0.4, 0.1],\n",
       "       [0.4, 0.3, 0.2, 0.1]])"
      ]
     },
     "execution_count": 114,
     "metadata": {},
     "output_type": "execute_result"
    }
   ],
   "source": [
    "tf = np.array([[0.2, 0.3, 0.0, 0.1],\n",
    "              [0.0, 0.0, 0.4, 0.1],\n",
    "              [0.4, 0.3, 0.2, 0.1]])\n",
    "tf"
   ]
  },
  {
   "cell_type": "code",
   "execution_count": 116,
   "id": "24c6611d",
   "metadata": {},
   "outputs": [
    {
     "data": {
      "text/plain": [
       "array([[0.38841861, 0.        ],\n",
       "       [0.        , 0.55781065],\n",
       "       [0.5244715 , 0.26302724]])"
      ]
     },
     "execution_count": 116,
     "metadata": {},
     "output_type": "execute_result"
    }
   ],
   "source": [
    "from sklearn.decomposition import NMF\n",
    "model_NMF = NMF(n_components =2)\n",
    "model_NMF.fit(tf)\n",
    "nmf_feautures = model_NMF.transform(tf)\n",
    "nmf_feautures # 2 columns, as n_components = 2"
   ]
  },
  {
   "cell_type": "code",
   "execution_count": 118,
   "id": "667de75c",
   "metadata": {},
   "outputs": [
    {
     "data": {
      "text/plain": [
       "array([[0.66323691, 0.64296951, 0.01302556, 0.16365346],\n",
       "       [0.03606107, 0.        , 0.7202388 , 0.15646267]])"
      ]
     },
     "execution_count": 118,
     "metadata": {},
     "output_type": "execute_result"
    }
   ],
   "source": [
    "model_NMF.components_"
   ]
  },
  {
   "cell_type": "markdown",
   "id": "9b837e36",
   "metadata": {},
   "source": [
    "### Reconstruction of a sample"
   ]
  },
  {
   "cell_type": "code",
   "execution_count": 122,
   "id": "f731e1df",
   "metadata": {},
   "outputs": [
    {
     "data": {
      "text/plain": [
       "array([0.4, 0.3, 0.2, 0.1])"
      ]
     },
     "execution_count": 122,
     "metadata": {},
     "output_type": "execute_result"
    }
   ],
   "source": [
    "tf[2,:]"
   ]
  },
  {
   "cell_type": "code",
   "execution_count": 123,
   "id": "10dfe884",
   "metadata": {},
   "outputs": [
    {
     "data": {
      "text/plain": [
       "array([0.5244715 , 0.26302724])"
      ]
     },
     "execution_count": 123,
     "metadata": {},
     "output_type": "execute_result"
    }
   ],
   "source": [
    "nmf_feautures[2,:]"
   ]
  },
  {
   "cell_type": "code",
   "execution_count": 125,
   "id": "2eea32c1",
   "metadata": {},
   "outputs": [
    {
     "data": {
      "text/plain": [
       "array([0.3573339 , 0.33721918, 0.19627396, 0.12698552])"
      ]
     },
     "execution_count": 125,
     "metadata": {},
     "output_type": "execute_result"
    }
   ],
   "source": [
    "# product of matrices = iloczyn macierzy\n",
    "#m ultiplying components by feature values and add up (dot product)\n",
    "new_s = (nmf_feautures[2,:].dot(model_NMF.components_))\n",
    "new_s "
   ]
  },
  {
   "cell_type": "code",
   "execution_count": 126,
   "id": "23c14341",
   "metadata": {},
   "outputs": [],
   "source": [
    "# vector_a = 2 + 3j \n",
    "# vector_b = 4 + 5j\n",
    "\n",
    "# now dot product \n",
    "# product = np.dot(vector_a, vector_b\n",
    "\n",
    "# = 2(4 + 5j) + 3j(4 +5j) \n",
    "# = 8 + 10j + 12j - 15 \n",
    "# = -7 + 22j"
   ]
  },
  {
   "cell_type": "code",
   "execution_count": 128,
   "id": "63a47b4e",
   "metadata": {},
   "outputs": [
    {
     "data": {
      "image/png": "[encoded data removed]",
      "text/plain": [
       "<PIL.JpegImagePlugin.JpegImageFile image mode=RGB size=781x194>"
      ]
     },
     "metadata": {},
     "output_type": "display_data"
    }
   ],
   "source": [
    "from PIL import Image \n",
    "from IPython.display import display\n",
    "img = Image. open('reconstruction.jpg')\n",
    "display(img)"
   ]
  },
  {
   "cell_type": "markdown",
   "id": "7c36f855",
   "metadata": {},
   "source": [
    "### \"grayscale image\"\n",
    "- An image in which all the pixels are shades of gray ranging from black to white"
   ]
  },
  {
   "cell_type": "code",
   "execution_count": 131,
   "id": "d4ffbd17",
   "metadata": {},
   "outputs": [
    {
     "data": {
      "text/plain": [
       "array([[0.8, 0.1, 0.8],\n",
       "       [1. , 0.7, 0.3]])"
      ]
     },
     "execution_count": 131,
     "metadata": {},
     "output_type": "execute_result"
    }
   ],
   "source": [
    "gray = np.round(np.random.uniform(low=0, high=1.1, size=(2,3)),1)\n",
    "gray"
   ]
  },
  {
   "cell_type": "code",
   "execution_count": 132,
   "id": "e5103a59",
   "metadata": {},
   "outputs": [
    {
     "data": {
      "text/plain": [
       "array([0.8, 0.1, 0.8, 1. , 0.7, 0.3])"
      ]
     },
     "execution_count": 132,
     "metadata": {},
     "output_type": "execute_result"
    }
   ],
   "source": [
    "gray_flatten = gray.flatten()"
   ]
  },
  {
   "cell_type": "code",
   "execution_count": 134,
   "id": "4c82cf09",
   "metadata": {},
   "outputs": [
    {
     "data": {
      "text/plain": [
       "<function matplotlib.pyplot.show(close=None, block=None)>"
      ]
     },
     "execution_count": 134,
     "metadata": {},
     "output_type": "execute_result"
    },
    {
     "data": {
      "image/png": "[encoded data removed]",
      "text/plain": [
       "<Figure size 640x480 with 1 Axes>"
      ]
     },
     "metadata": {},
     "output_type": "display_data"
    }
   ],
   "source": [
    "plt.imshow(gray, cmap= 'gray', interpolation= 'nearest')\n",
    "plt.show"
   ]
  },
  {
   "cell_type": "markdown",
   "id": "914a0c58",
   "metadata": {},
   "source": [
    "### finding the similar case by comparing cosin of each rows feautures\n",
    "- the same cosin = the same subject, cloer to 0 point more bulshit article, higher score more strong article\n",
    "- comparing 'CC' ---> 'DD' the most simillar"
   ]
  },
  {
   "cell_type": "code",
   "execution_count": 137,
   "id": "5817be0e",
   "metadata": {},
   "outputs": [
    {
     "data": {
      "text/plain": [
       "array([[1.        , 0.        ],\n",
       "       [0.        , 1.        ],\n",
       "       [0.89388695, 0.44829245]])"
      ]
     },
     "execution_count": 137,
     "metadata": {},
     "output_type": "execute_result"
    }
   ],
   "source": [
    "from sklearn.preprocessing import normalize\n",
    "norm_feautures = normalize(nmf_feautures)\n",
    "norm_feautures"
   ]
  },
  {
   "cell_type": "code",
   "execution_count": 139,
   "id": "bd5f28ea",
   "metadata": {},
   "outputs": [
    {
     "data": {
      "text/plain": [
       "array([0.89388695, 0.44829245, 1.        ])"
      ]
     },
     "execution_count": 139,
     "metadata": {},
     "output_type": "execute_result"
    }
   ],
   "source": [
    "current_article = norm_feautures[2,:]\n",
    "similarities = norm_feautures.dot(current_article)\n",
    "similarities"
   ]
  },
  {
   "cell_type": "code",
   "execution_count": 153,
   "id": "2d6cce7a",
   "metadata": {},
   "outputs": [],
   "source": [
    "titles = ['DD', \"GG\", \"CC\"]"
   ]
  },
  {
   "cell_type": "code",
   "execution_count": 154,
   "id": "3f6b0401",
   "metadata": {},
   "outputs": [
    {
     "data": {
      "text/html": [
       "<div>\n",
       "<style scoped>\n",
       "    .dataframe tbody tr th:only-of-type {\n",
       "        vertical-align: middle;\n",
       "    }\n",
       "\n",
       "    .dataframe tbody tr th {\n",
       "        vertical-align: top;\n",
       "    }\n",
       "\n",
       "    .dataframe thead th {\n",
       "        text-align: right;\n",
       "    }\n",
       "</style>\n",
       "<table border=\"1\" class=\"dataframe\">\n",
       "  <thead>\n",
       "    <tr style=\"text-align: right;\">\n",
       "      <th></th>\n",
       "      <th>0</th>\n",
       "      <th>1</th>\n",
       "    </tr>\n",
       "  </thead>\n",
       "  <tbody>\n",
       "    <tr>\n",
       "      <th>DD</th>\n",
       "      <td>1.000000</td>\n",
       "      <td>0.000000</td>\n",
       "    </tr>\n",
       "    <tr>\n",
       "      <th>GG</th>\n",
       "      <td>0.000000</td>\n",
       "      <td>1.000000</td>\n",
       "    </tr>\n",
       "    <tr>\n",
       "      <th>CC</th>\n",
       "      <td>0.893887</td>\n",
       "      <td>0.448292</td>\n",
       "    </tr>\n",
       "  </tbody>\n",
       "</table>\n",
       "</div>"
      ],
      "text/plain": [
       "           0         1\n",
       "DD  1.000000  0.000000\n",
       "GG  0.000000  1.000000\n",
       "CC  0.893887  0.448292"
      ]
     },
     "execution_count": 154,
     "metadata": {},
     "output_type": "execute_result"
    }
   ],
   "source": [
    "df = pd.DataFrame(norm_feautures, index=titles)\n",
    "df"
   ]
  },
  {
   "cell_type": "code",
   "execution_count": 159,
   "id": "2cddafa0",
   "metadata": {},
   "outputs": [
    {
     "data": {
      "text/plain": [
       "DD    0.893887\n",
       "GG    0.448292\n",
       "CC    1.000000\n",
       "dtype: float64"
      ]
     },
     "execution_count": 159,
     "metadata": {},
     "output_type": "execute_result"
    }
   ],
   "source": [
    "current_artcle_2 = df.loc['CC']\n",
    "si = df.dot(current_artcle_2)\n",
    "si"
   ]
  },
  {
   "cell_type": "code",
   "execution_count": 160,
   "id": "21c71362",
   "metadata": {},
   "outputs": [
    {
     "data": {
      "text/plain": [
       "CC    1.000000\n",
       "DD    0.893887\n",
       "GG    0.448292\n",
       "dtype: float64"
      ]
     },
     "execution_count": 160,
     "metadata": {},
     "output_type": "execute_result"
    }
   ],
   "source": [
    "si.nlargest()"
   ]
  },
  {
   "cell_type": "markdown",
   "id": "48a862c2",
   "metadata": {},
   "source": [
    "### Pipeline \n",
    "- most similar letter do 'GG'"
   ]
  },
  {
   "cell_type": "code",
   "execution_count": 162,
   "id": "ced64cc5",
   "metadata": {},
   "outputs": [],
   "source": [
    "tf = np.array([[0.2, 0.3, 0.0, 0.1],\n",
    "              [0.0, 0.0, 0.4, 0.1],\n",
    "              [0.4, 0.3, 0.2, 0.1]])\n",
    "titles = ['DD', \"GG\", \"CC\"]\n",
    "df = pd.DataFrame(norm_feautures, index=titles)"
   ]
  },
  {
   "cell_type": "code",
   "execution_count": 164,
   "id": "01f251cd",
   "metadata": {},
   "outputs": [
    {
     "name": "stdout",
     "output_type": "stream",
     "text": [
      "GG    0.17\n",
      "CC    0.09\n",
      "DD    0.01\n",
      "dtype: float64\n"
     ]
    }
   ],
   "source": [
    "# Perform the necessary imports\n",
    "from sklearn.decomposition import NMF\n",
    "from sklearn.preprocessing import Normalizer, MaxAbsScaler\n",
    "from sklearn.pipeline import make_pipeline\n",
    "\n",
    "# Create a MaxAbsScaler: scaler\n",
    "scaler = MaxAbsScaler()\n",
    "\n",
    "# Create an NMF model: nmf\n",
    "nmf = NMF(n_components = 2)\n",
    "\n",
    "# Create a Normalizer: normalizer\n",
    "normalizer = Normalizer()\n",
    "\n",
    "# Create a pipeline: pipeline\n",
    "pipeline = make_pipeline(scaler, nmf, normalizer)\n",
    "\n",
    "# Apply fit_transform to artists: norm_features\n",
    "norm_features = pipeline.fit_transform(tf)\n",
    "\n",
    "# Import pandas\n",
    "import pandas as pd\n",
    "\n",
    "# Create a DataFrame: df\n",
    "df = pd.DataFrame(tf, index = titles)\n",
    "\n",
    "# Select row of 'Bruce Springsteen': artist\n",
    "artist = df.loc['GG']\n",
    "\n",
    "# Compute cosine similarities: similarities\n",
    "similarities = df.dot(artist)\n",
    "\n",
    "# Display those with highest cosine similarity\n",
    "print(similarities.nlargest())"
   ]
  },
  {
   "cell_type": "code",
   "execution_count": null,
   "id": "2d45d7c0",
   "metadata": {},
   "outputs": [],
   "source": []
  }
 ],
 "metadata": {
  "kernelspec": {
   "display_name": "Python 3 (ipykernel)",
   "language": "python",
   "name": "python3"
  },
  "language_info": {
   "codemirror_mode": {
    "name": "ipython",
    "version": 3
   },
   "file_extension": ".py",
   "mimetype": "text/x-python",
   "name": "python",
   "nbconvert_exporter": "python",
   "pygments_lexer": "ipython3",
   "version": "3.11.2"
  }
 },
 "nbformat": 4,
 "nbformat_minor": 5
}
