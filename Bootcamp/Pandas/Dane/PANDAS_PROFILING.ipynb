{
 "cells": [
  {
   "cell_type": "code",
   "execution_count": 2,
   "id": "8b019aa2",
   "metadata": {},
   "outputs": [
    {
     "name": "stdout",
     "output_type": "stream",
     "text": [
      "Defaulting to user installation because normal site-packages is not writeable\n",
      "Requirement already satisfied: pandas_profiling in c:\\users\\pawel\\appdata\\roaming\\python\\python39\\site-packages (3.6.2)\n",
      "Requirement already satisfied: numpy<1.24,>=1.16.0 in c:\\program files\\anaconda\\lib\\site-packages (from pandas_profiling) (1.21.5)\n",
      "Requirement already satisfied: seaborn<0.13,>=0.10.1 in c:\\program files\\anaconda\\lib\\site-packages (from pandas_profiling) (0.11.2)\n",
      "Requirement already satisfied: visions[type_image_path]==0.7.5 in c:\\users\\pawel\\appdata\\roaming\\python\\python39\\site-packages (from pandas_profiling) (0.7.5)\n",
      "Requirement already satisfied: multimethod<1.10,>=1.4 in c:\\users\\pawel\\appdata\\roaming\\python\\python39\\site-packages (from pandas_profiling) (1.9.1)\n",
      "Requirement already satisfied: tqdm<4.65,>=4.48.2 in c:\\program files\\anaconda\\lib\\site-packages (from pandas_profiling) (4.64.1)\n",
      "Requirement already satisfied: typeguard<2.14,>=2.13.2 in c:\\users\\pawel\\appdata\\roaming\\python\\python39\\site-packages (from pandas_profiling) (2.13.3)\n",
      "Requirement already satisfied: scipy<1.10,>=1.4.1 in c:\\program files\\anaconda\\lib\\site-packages (from pandas_profiling) (1.9.1)\n",
      "Requirement already satisfied: pydantic<1.11,>=1.8.1 in c:\\users\\pawel\\appdata\\roaming\\python\\python39\\site-packages (from pandas_profiling) (1.10.4)\n",
      "Requirement already satisfied: requests<2.29,>=2.24.0 in c:\\program files\\anaconda\\lib\\site-packages (from pandas_profiling) (2.28.1)\n",
      "Requirement already satisfied: statsmodels<0.14,>=0.13.2 in c:\\program files\\anaconda\\lib\\site-packages (from pandas_profiling) (0.13.2)\n",
      "Requirement already satisfied: jinja2<3.2,>=2.11.1 in c:\\program files\\anaconda\\lib\\site-packages (from pandas_profiling) (2.11.3)\n",
      "Requirement already satisfied: PyYAML<6.1,>=5.0.0 in c:\\program files\\anaconda\\lib\\site-packages (from pandas_profiling) (6.0)\n",
      "Requirement already satisfied: htmlmin==0.1.12 in c:\\users\\pawel\\appdata\\roaming\\python\\python39\\site-packages (from pandas_profiling) (0.1.12)\n",
      "Requirement already satisfied: pandas!=1.4.0,<1.6,>1.1 in c:\\program files\\anaconda\\lib\\site-packages (from pandas_profiling) (1.4.4)\n",
      "Requirement already satisfied: phik<0.13,>=0.11.1 in c:\\users\\pawel\\appdata\\roaming\\python\\python39\\site-packages (from pandas_profiling) (0.12.3)\n",
      "Requirement already satisfied: matplotlib<3.7,>=3.2 in c:\\program files\\anaconda\\lib\\site-packages (from pandas_profiling) (3.5.2)\n",
      "Requirement already satisfied: attrs>=19.3.0 in c:\\program files\\anaconda\\lib\\site-packages (from visions[type_image_path]==0.7.5->pandas_profiling) (21.4.0)\n",
      "Requirement already satisfied: networkx>=2.4 in c:\\program files\\anaconda\\lib\\site-packages (from visions[type_image_path]==0.7.5->pandas_profiling) (2.8.4)\n",
      "Requirement already satisfied: tangled-up-in-unicode>=0.0.4 in c:\\users\\pawel\\appdata\\roaming\\python\\python39\\site-packages (from visions[type_image_path]==0.7.5->pandas_profiling) (0.2.0)\n",
      "Requirement already satisfied: imagehash in c:\\users\\pawel\\appdata\\roaming\\python\\python39\\site-packages (from visions[type_image_path]==0.7.5->pandas_profiling) (4.3.1)\n",
      "Requirement already satisfied: Pillow in c:\\program files\\anaconda\\lib\\site-packages (from visions[type_image_path]==0.7.5->pandas_profiling) (9.2.0)\n",
      "Requirement already satisfied: MarkupSafe>=0.23 in c:\\program files\\anaconda\\lib\\site-packages (from jinja2<3.2,>=2.11.1->pandas_profiling) (2.0.1)\n",
      "Requirement already satisfied: cycler>=0.10 in c:\\program files\\anaconda\\lib\\site-packages (from matplotlib<3.7,>=3.2->pandas_profiling) (0.11.0)\n",
      "Requirement already satisfied: pyparsing>=2.2.1 in c:\\program files\\anaconda\\lib\\site-packages (from matplotlib<3.7,>=3.2->pandas_profiling) (3.0.9)\n",
      "Requirement already satisfied: kiwisolver>=1.0.1 in c:\\program files\\anaconda\\lib\\site-packages (from matplotlib<3.7,>=3.2->pandas_profiling) (1.4.2)\n",
      "Requirement already satisfied: packaging>=20.0 in c:\\program files\\anaconda\\lib\\site-packages (from matplotlib<3.7,>=3.2->pandas_profiling) (21.3)\n",
      "Requirement already satisfied: fonttools>=4.22.0 in c:\\program files\\anaconda\\lib\\site-packages (from matplotlib<3.7,>=3.2->pandas_profiling) (4.25.0)\n",
      "Requirement already satisfied: python-dateutil>=2.7 in c:\\program files\\anaconda\\lib\\site-packages (from matplotlib<3.7,>=3.2->pandas_profiling) (2.8.2)\n",
      "Requirement already satisfied: pytz>=2020.1 in c:\\program files\\anaconda\\lib\\site-packages (from pandas!=1.4.0,<1.6,>1.1->pandas_profiling) (2022.1)\n",
      "Requirement already satisfied: joblib>=0.14.1 in c:\\users\\pawel\\appdata\\roaming\\python\\python39\\site-packages (from phik<0.13,>=0.11.1->pandas_profiling) (1.2.0)\n",
      "Requirement already satisfied: typing-extensions>=4.2.0 in c:\\program files\\anaconda\\lib\\site-packages (from pydantic<1.11,>=1.8.1->pandas_profiling) (4.3.0)\n",
      "Requirement already satisfied: charset-normalizer<3,>=2 in c:\\program files\\anaconda\\lib\\site-packages (from requests<2.29,>=2.24.0->pandas_profiling) (2.0.4)\n",
      "Requirement already satisfied: certifi>=2017.4.17 in c:\\program files\\anaconda\\lib\\site-packages (from requests<2.29,>=2.24.0->pandas_profiling) (2022.9.14)\n",
      "Requirement already satisfied: idna<4,>=2.5 in c:\\program files\\anaconda\\lib\\site-packages (from requests<2.29,>=2.24.0->pandas_profiling) (3.3)\n",
      "Requirement already satisfied: urllib3<1.27,>=1.21.1 in c:\\program files\\anaconda\\lib\\site-packages (from requests<2.29,>=2.24.0->pandas_profiling) (1.26.11)\n",
      "Requirement already satisfied: patsy>=0.5.2 in c:\\program files\\anaconda\\lib\\site-packages (from statsmodels<0.14,>=0.13.2->pandas_profiling) (0.5.2)\n",
      "Requirement already satisfied: colorama in c:\\program files\\anaconda\\lib\\site-packages (from tqdm<4.65,>=4.48.2->pandas_profiling) (0.4.5)\n",
      "Requirement already satisfied: six in c:\\program files\\anaconda\\lib\\site-packages (from patsy>=0.5.2->statsmodels<0.14,>=0.13.2->pandas_profiling) (1.16.0)\n",
      "Requirement already satisfied: PyWavelets in c:\\program files\\anaconda\\lib\\site-packages (from imagehash->visions[type_image_path]==0.7.5->pandas_profiling) (1.3.0)\n"
     ]
    }
   ],
   "source": [
    "# pip install pandas_profiling\n",
    "\n",
    "!pip install pandas_profiling"
   ]
  },
  {
   "cell_type": "code",
   "execution_count": 3,
   "id": "b982f4a2",
   "metadata": {},
   "outputs": [],
   "source": [
    "from pandas_profiling import ProfileReport\n",
    "# Generate the Profiling Report\n",
    "import pandas as pd"
   ]
  },
  {
   "cell_type": "code",
   "execution_count": 4,
   "id": "a4404ae7",
   "metadata": {},
   "outputs": [
    {
     "ename": "NameError",
     "evalue": "name 'py' is not defined",
     "output_type": "error",
     "traceback": [
      "\u001b[1;31m---------------------------------------------------------------------------\u001b[0m",
      "\u001b[1;31mNameError\u001b[0m                                 Traceback (most recent call last)",
      "\u001b[1;32m~\\AppData\\Local\\Temp\\ipykernel_26936\\2104368494.py\u001b[0m in \u001b[0;36m<module>\u001b[1;34m\u001b[0m\n\u001b[1;32m----> 1\u001b[1;33m \u001b[0mpy\u001b[0m\u001b[1;33m.\u001b[0m\u001b[0m__version__\u001b[0m\u001b[1;33m\u001b[0m\u001b[1;33m\u001b[0m\u001b[0m\n\u001b[0m",
      "\u001b[1;31mNameError\u001b[0m: name 'py' is not defined"
     ]
    }
   ],
   "source": [
    "py.__version__"
   ]
  },
  {
   "cell_type": "code",
   "execution_count": null,
   "id": "81c79645",
   "metadata": {},
   "outputs": [],
   "source": [
    "titianic_df = pd.read_csv('ML-datasets-master/titanic.csv', sep=',', encoding='utf-8')"
   ]
  },
  {
   "cell_type": "code",
   "execution_count": null,
   "id": "11a7c752",
   "metadata": {},
   "outputs": [],
   "source": []
  },
  {
   "cell_type": "code",
   "execution_count": null,
   "id": "e15a3aae",
   "metadata": {},
   "outputs": [],
   "source": [
    "profile = ProfileReport(titianic_df,\n",
    "                         title=\"Titanic Dataset\",\n",
    "                         html={'style': {'full_width': True}},\n",
    "                         sort=None)\n",
    "                        # Save to file\n",
    "profile.to_file('report.html')\n"
   ]
  },
  {
   "cell_type": "code",
   "execution_count": null,
   "id": "6898c375",
   "metadata": {},
   "outputs": [],
   "source": []
  },
  {
   "cell_type": "code",
   "execution_count": null,
   "id": "70e028bb",
   "metadata": {},
   "outputs": [],
   "source": []
  },
  {
   "cell_type": "code",
   "execution_count": null,
   "id": "729c27f7",
   "metadata": {},
   "outputs": [],
   "source": []
  }
 ],
 "metadata": {
  "kernelspec": {
   "display_name": "Python 3 (ipykernel)",
   "language": "python",
   "name": "python3"
  },
  "language_info": {
   "codemirror_mode": {
    "name": "ipython",
    "version": 3
   },
   "file_extension": ".py",
   "mimetype": "text/x-python",
   "name": "python",
   "nbconvert_exporter": "python",
   "pygments_lexer": "ipython3",
   "version": "3.9.13"
  }
 },
 "nbformat": 4,
 "nbformat_minor": 5
}
