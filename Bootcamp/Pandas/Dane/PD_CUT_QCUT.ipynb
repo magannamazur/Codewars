{
 "cells": [
  {
   "cell_type": "code",
   "execution_count": 2,
   "id": "4d1f4b40",
   "metadata": {},
   "outputs": [],
   "source": [
    "import pandas as pd"
   ]
  },
  {
   "cell_type": "code",
   "execution_count": 13,
   "id": "69d53ef2",
   "metadata": {},
   "outputs": [
    {
     "data": {
      "text/plain": [
       "a      0\n",
       "b      1\n",
       "c      4\n",
       "d      9\n",
       "e     16\n",
       "f     25\n",
       "g     36\n",
       "h     49\n",
       "i     64\n",
       "j     81\n",
       "k    100\n",
       "dtype: int64"
      ]
     },
     "execution_count": 13,
     "metadata": {},
     "output_type": "execute_result"
    }
   ],
   "source": [
    "s = pd.Series(data=[x**2 for x in range(11)],\n",
    "              index=list('abcdefghijk'))\n",
    "s"
   ]
  },
  {
   "cell_type": "code",
   "execution_count": 4,
   "id": "191fca4e",
   "metadata": {},
   "outputs": [
    {
     "data": {
      "text/plain": [
       "a      (-0.1, 33.333]\n",
       "b      (-0.1, 33.333]\n",
       "c      (-0.1, 33.333]\n",
       "d      (-0.1, 33.333]\n",
       "e      (-0.1, 33.333]\n",
       "f      (-0.1, 33.333]\n",
       "g    (33.333, 66.667]\n",
       "h    (33.333, 66.667]\n",
       "i    (33.333, 66.667]\n",
       "j     (66.667, 100.0]\n",
       "k     (66.667, 100.0]\n",
       "dtype: category\n",
       "Categories (3, interval[float64, right]): [(-0.1, 33.333] < (33.333, 66.667] < (66.667, 100.0]]"
      ]
     },
     "execution_count": 4,
     "metadata": {},
     "output_type": "execute_result"
    }
   ],
   "source": [
    "pd.cut(s, 3)"
   ]
  },
  {
   "cell_type": "code",
   "execution_count": 14,
   "id": "1bf6bc05",
   "metadata": {},
   "outputs": [
    {
     "data": {
      "text/plain": [
       "a    (-0.001, 11.333]\n",
       "b    (-0.001, 11.333]\n",
       "c    (-0.001, 11.333]\n",
       "d    (-0.001, 11.333]\n",
       "e    (11.333, 44.667]\n",
       "f    (11.333, 44.667]\n",
       "g    (11.333, 44.667]\n",
       "h     (44.667, 100.0]\n",
       "i     (44.667, 100.0]\n",
       "j     (44.667, 100.0]\n",
       "k     (44.667, 100.0]\n",
       "dtype: category\n",
       "Categories (3, interval[float64, right]): [(-0.001, 11.333] < (11.333, 44.667] < (44.667, 100.0]]"
      ]
     },
     "execution_count": 14,
     "metadata": {},
     "output_type": "execute_result"
    }
   ],
   "source": [
    "pd.qcut(s, 3)"
   ]
  },
  {
   "cell_type": "code",
   "execution_count": 18,
   "id": "4fe1f81e",
   "metadata": {},
   "outputs": [],
   "source": [
    "# pd.concat(s,pd.cut(s, 3),pd.qcut(s, 3))"
   ]
  },
  {
   "cell_type": "code",
   "execution_count": null,
   "id": "cec74f16",
   "metadata": {},
   "outputs": [],
   "source": []
  },
  {
   "cell_type": "code",
   "execution_count": null,
   "id": "28879eb4",
   "metadata": {},
   "outputs": [],
   "source": []
  }
 ],
 "metadata": {
  "kernelspec": {
   "display_name": "Python 3 (ipykernel)",
   "language": "python",
   "name": "python3"
  },
  "language_info": {
   "codemirror_mode": {
    "name": "ipython",
    "version": 3
   },
   "file_extension": ".py",
   "mimetype": "text/x-python",
   "name": "python",
   "nbconvert_exporter": "python",
   "pygments_lexer": "ipython3",
   "version": "3.9.13"
  }
 },
 "nbformat": 4,
 "nbformat_minor": 5
}
