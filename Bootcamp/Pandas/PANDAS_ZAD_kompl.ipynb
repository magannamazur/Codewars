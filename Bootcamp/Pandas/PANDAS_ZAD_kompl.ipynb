{
 "cells": [
  {
   "cell_type": "markdown",
   "id": "e51e6d9b",
   "metadata": {},
   "source": [
    "Zaimportuj biblioteki pandas, numpy"
   ]
  },
  {
   "cell_type": "code",
   "execution_count": 2,
   "id": "3f3478c2",
   "metadata": {},
   "outputs": [],
   "source": [
    "import pandas as pd\n",
    "import numpy as np"
   ]
  },
  {
   "cell_type": "markdown",
   "id": "89021831",
   "metadata": {},
   "source": [
    "## 1. Wczytaj pliki"
   ]
  },
  {
   "cell_type": "markdown",
   "id": "bb866eb9",
   "metadata": {},
   "source": [
    "###### Wczytaj pliki z folderu data\n",
    "###### 1. dane_sprzedaz.csv\n",
    "###### 2. KART_SKL.csv\n",
    "###### 3. KART_TOW.csv\n",
    "###### 4. KART_PROMO.csv\n",
    "###### używajac komendy read_csv, separata ',' oraz kodowania 'utf-8'\n",
    "###### nazwij dataframe z każdego pliku tak jak nazwa pliku bez rozszerzenia, dodajac do nazwy nadrostek _df\n"
   ]
  },
  {
   "cell_type": "code",
   "execution_count": 3,
   "id": "0ab38a77",
   "metadata": {},
   "outputs": [],
   "source": [
    "dane_sprzedaz_df = pd.read_csv('Dane/dane_sprzedaz.csv', sep=',', encoding='utf-8')\n",
    "KART_SKL_df = pd.read_csv('Dane/KART_SKL.csv', sep=',', encoding='utf-8')\n",
    "KART_TOW_df = pd.read_csv('Dane/KART_TOW.csv', sep=',', encoding='utf-8')\n",
    "KART_PROMO_df = pd.read_csv('Dane/KART_PROMO.csv', sep=',', encoding='utf-8')"
   ]
  },
  {
   "cell_type": "code",
   "execution_count": 4,
   "id": "d531913c",
   "metadata": {},
   "outputs": [
    {
     "data": {
      "text/html": [
       "<div>\n",
       "<style scoped>\n",
       "    .dataframe tbody tr th:only-of-type {\n",
       "        vertical-align: middle;\n",
       "    }\n",
       "\n",
       "    .dataframe tbody tr th {\n",
       "        vertical-align: top;\n",
       "    }\n",
       "\n",
       "    .dataframe thead th {\n",
       "        text-align: right;\n",
       "    }\n",
       "</style>\n",
       "<table border=\"1\" class=\"dataframe\">\n",
       "  <thead>\n",
       "    <tr style=\"text-align: right;\">\n",
       "      <th></th>\n",
       "      <th>DZIEN_DATA</th>\n",
       "      <th>SKL_ID</th>\n",
       "      <th>TOW_ID</th>\n",
       "      <th>SPRZ_NETTO</th>\n",
       "      <th>ZYSK_PROCENT</th>\n",
       "      <th>ZYSK_WART</th>\n",
       "    </tr>\n",
       "  </thead>\n",
       "  <tbody>\n",
       "    <tr>\n",
       "      <th>0</th>\n",
       "      <td>01.05.2022</td>\n",
       "      <td>1</td>\n",
       "      <td>1</td>\n",
       "      <td>416.0</td>\n",
       "      <td>9</td>\n",
       "      <td>37,44</td>\n",
       "    </tr>\n",
       "    <tr>\n",
       "      <th>1</th>\n",
       "      <td>02.05.2022</td>\n",
       "      <td>1</td>\n",
       "      <td>1</td>\n",
       "      <td>454.0</td>\n",
       "      <td>2</td>\n",
       "      <td>9,08</td>\n",
       "    </tr>\n",
       "    <tr>\n",
       "      <th>2</th>\n",
       "      <td>03.05.2022</td>\n",
       "      <td>1</td>\n",
       "      <td>1</td>\n",
       "      <td>392.0</td>\n",
       "      <td>13</td>\n",
       "      <td>50,96</td>\n",
       "    </tr>\n",
       "    <tr>\n",
       "      <th>3</th>\n",
       "      <td>04.05.2022</td>\n",
       "      <td>1</td>\n",
       "      <td>1</td>\n",
       "      <td>498.0</td>\n",
       "      <td>9</td>\n",
       "      <td>44,82</td>\n",
       "    </tr>\n",
       "    <tr>\n",
       "      <th>4</th>\n",
       "      <td>05.05.2022</td>\n",
       "      <td>1</td>\n",
       "      <td>1</td>\n",
       "      <td>341.0</td>\n",
       "      <td>15</td>\n",
       "      <td>51,15</td>\n",
       "    </tr>\n",
       "    <tr>\n",
       "      <th>...</th>\n",
       "      <td>...</td>\n",
       "      <td>...</td>\n",
       "      <td>...</td>\n",
       "      <td>...</td>\n",
       "      <td>...</td>\n",
       "      <td>...</td>\n",
       "    </tr>\n",
       "    <tr>\n",
       "      <th>130</th>\n",
       "      <td>11.05.2022</td>\n",
       "      <td>3</td>\n",
       "      <td>3</td>\n",
       "      <td>374.0</td>\n",
       "      <td>7</td>\n",
       "      <td>26,18</td>\n",
       "    </tr>\n",
       "    <tr>\n",
       "      <th>131</th>\n",
       "      <td>12.05.2022</td>\n",
       "      <td>3</td>\n",
       "      <td>3</td>\n",
       "      <td>390.0</td>\n",
       "      <td>4</td>\n",
       "      <td>15,6</td>\n",
       "    </tr>\n",
       "    <tr>\n",
       "      <th>132</th>\n",
       "      <td>13.05.2022</td>\n",
       "      <td>3</td>\n",
       "      <td>3</td>\n",
       "      <td>485.0</td>\n",
       "      <td>10</td>\n",
       "      <td>48,5</td>\n",
       "    </tr>\n",
       "    <tr>\n",
       "      <th>133</th>\n",
       "      <td>14.05.2022</td>\n",
       "      <td>3</td>\n",
       "      <td>3</td>\n",
       "      <td>479.0</td>\n",
       "      <td>3</td>\n",
       "      <td>14,37</td>\n",
       "    </tr>\n",
       "    <tr>\n",
       "      <th>134</th>\n",
       "      <td>15.05.2022</td>\n",
       "      <td>3</td>\n",
       "      <td>3</td>\n",
       "      <td>366.0</td>\n",
       "      <td>13</td>\n",
       "      <td>47,58</td>\n",
       "    </tr>\n",
       "  </tbody>\n",
       "</table>\n",
       "<p>135 rows × 6 columns</p>\n",
       "</div>"
      ],
      "text/plain": [
       "     DZIEN_DATA  SKL_ID  TOW_ID  SPRZ_NETTO  ZYSK_PROCENT ZYSK_WART\n",
       "0    01.05.2022       1       1       416.0             9     37,44\n",
       "1    02.05.2022       1       1       454.0             2      9,08\n",
       "2    03.05.2022       1       1       392.0            13     50,96\n",
       "3    04.05.2022       1       1       498.0             9     44,82\n",
       "4    05.05.2022       1       1       341.0            15     51,15\n",
       "..          ...     ...     ...         ...           ...       ...\n",
       "130  11.05.2022       3       3       374.0             7     26,18\n",
       "131  12.05.2022       3       3       390.0             4      15,6\n",
       "132  13.05.2022       3       3       485.0            10      48,5\n",
       "133  14.05.2022       3       3       479.0             3     14,37\n",
       "134  15.05.2022       3       3       366.0            13     47,58\n",
       "\n",
       "[135 rows x 6 columns]"
      ]
     },
     "execution_count": 4,
     "metadata": {},
     "output_type": "execute_result"
    }
   ],
   "source": [
    "## wyświetl dataframe dane_sprzedaz_df\n",
    "dane_sprzedaz_df"
   ]
  },
  {
   "cell_type": "markdown",
   "id": "764926ba",
   "metadata": {},
   "source": [
    "## 2. Sprawdź informacje od dataframach - czy typy sie zgadzaja"
   ]
  },
  {
   "cell_type": "code",
   "execution_count": 5,
   "id": "6f411a96",
   "metadata": {},
   "outputs": [],
   "source": [
    "#### 2.1 dla danych sprzedażowych sprawdź info zbiorcze o typach danych i nullach"
   ]
  },
  {
   "cell_type": "code",
   "execution_count": 6,
   "id": "9ee99c37",
   "metadata": {},
   "outputs": [
    {
     "name": "stdout",
     "output_type": "stream",
     "text": [
      "<class 'pandas.core.frame.DataFrame'>\n",
      "RangeIndex: 135 entries, 0 to 134\n",
      "Data columns (total 6 columns):\n",
      " #   Column        Non-Null Count  Dtype  \n",
      "---  ------        --------------  -----  \n",
      " 0   DZIEN_DATA    135 non-null    object \n",
      " 1   SKL_ID        135 non-null    int64  \n",
      " 2   TOW_ID        135 non-null    int64  \n",
      " 3   SPRZ_NETTO    133 non-null    float64\n",
      " 4   ZYSK_PROCENT  135 non-null    int64  \n",
      " 5   ZYSK_WART     135 non-null    object \n",
      "dtypes: float64(1), int64(3), object(2)\n",
      "memory usage: 6.5+ KB\n"
     ]
    }
   ],
   "source": [
    "dane_sprzedaz_df.info()"
   ]
  },
  {
   "cell_type": "code",
   "execution_count": 7,
   "id": "7cd49871",
   "metadata": {},
   "outputs": [],
   "source": [
    "### widzimy że data i zysk_wart sa wartościami object (stringowymi) - wyświetl wartość z z wiersza 0 z kolumny dzien_data"
   ]
  },
  {
   "cell_type": "code",
   "execution_count": 8,
   "id": "e39f9c2f",
   "metadata": {},
   "outputs": [
    {
     "data": {
      "text/plain": [
       "'01.05.2022'"
      ]
     },
     "execution_count": 8,
     "metadata": {},
     "output_type": "execute_result"
    }
   ],
   "source": [
    "dane_sprzedaz_df.DZIEN_DATA.iloc[0] #dane_sprzedaz_df['DZIEN_DATA'][0]"
   ]
  },
  {
   "cell_type": "code",
   "execution_count": 9,
   "id": "788c56a1",
   "metadata": {},
   "outputs": [],
   "source": [
    "### widać że data jest w ciapkach... więc string... spróbujmy zmienić na date używajac astype i typu 'datetime64[ns]'"
   ]
  },
  {
   "cell_type": "code",
   "execution_count": 10,
   "id": "d9bd0440",
   "metadata": {},
   "outputs": [
    {
     "name": "stderr",
     "output_type": "stream",
     "text": [
      "C:\\Users\\AsusF512ua-ej269t\\AppData\\Local\\Temp\\ipykernel_8380\\2355422533.py:1: UserWarning: Parsing dates in DD/MM/YYYY format when dayfirst=False (the default) was specified. This may lead to inconsistently parsed dates! Specify a format to ensure consistent parsing.\n",
      "  dane_sprzedaz_df.DZIEN_DATA.astype('datetime64[ns]')\n"
     ]
    },
    {
     "data": {
      "text/plain": [
       "0     2022-01-05\n",
       "1     2022-02-05\n",
       "2     2022-03-05\n",
       "3     2022-04-05\n",
       "4     2022-05-05\n",
       "         ...    \n",
       "130   2022-11-05\n",
       "131   2022-12-05\n",
       "132   2022-05-13\n",
       "133   2022-05-14\n",
       "134   2022-05-15\n",
       "Name: DZIEN_DATA, Length: 135, dtype: datetime64[ns]"
      ]
     },
     "execution_count": 10,
     "metadata": {},
     "output_type": "execute_result"
    }
   ],
   "source": [
    "dane_sprzedaz_df.DZIEN_DATA.astype('datetime64[ns]')"
   ]
  },
  {
   "cell_type": "code",
   "execution_count": 11,
   "id": "a6a277a9",
   "metadata": {},
   "outputs": [],
   "source": [
    "### pojawil sie blad? Miesiac 5 stał sie dniem ? Wykorzystajmy pd.to_datetime z ustawieniem dayfrist=True i errors='coerce'"
   ]
  },
  {
   "cell_type": "code",
   "execution_count": 12,
   "id": "5449ea3d",
   "metadata": {},
   "outputs": [],
   "source": [
    "dane_sprzedaz_df.DZIEN_DATA=pd.to_datetime(dane_sprzedaz_df['DZIEN_DATA'], errors='coerce', dayfirst=True)\n"
   ]
  },
  {
   "cell_type": "code",
   "execution_count": 13,
   "id": "78a1212b",
   "metadata": {},
   "outputs": [
    {
     "data": {
      "text/html": [
       "<div>\n",
       "<style scoped>\n",
       "    .dataframe tbody tr th:only-of-type {\n",
       "        vertical-align: middle;\n",
       "    }\n",
       "\n",
       "    .dataframe tbody tr th {\n",
       "        vertical-align: top;\n",
       "    }\n",
       "\n",
       "    .dataframe thead th {\n",
       "        text-align: right;\n",
       "    }\n",
       "</style>\n",
       "<table border=\"1\" class=\"dataframe\">\n",
       "  <thead>\n",
       "    <tr style=\"text-align: right;\">\n",
       "      <th></th>\n",
       "      <th>DZIEN_DATA</th>\n",
       "      <th>SKL_ID</th>\n",
       "      <th>TOW_ID</th>\n",
       "      <th>SPRZ_NETTO</th>\n",
       "      <th>ZYSK_PROCENT</th>\n",
       "      <th>ZYSK_WART</th>\n",
       "    </tr>\n",
       "  </thead>\n",
       "  <tbody>\n",
       "    <tr>\n",
       "      <th>0</th>\n",
       "      <td>2022-05-01</td>\n",
       "      <td>1</td>\n",
       "      <td>1</td>\n",
       "      <td>416.0</td>\n",
       "      <td>9</td>\n",
       "      <td>37,44</td>\n",
       "    </tr>\n",
       "    <tr>\n",
       "      <th>1</th>\n",
       "      <td>2022-05-02</td>\n",
       "      <td>1</td>\n",
       "      <td>1</td>\n",
       "      <td>454.0</td>\n",
       "      <td>2</td>\n",
       "      <td>9,08</td>\n",
       "    </tr>\n",
       "    <tr>\n",
       "      <th>2</th>\n",
       "      <td>2022-05-03</td>\n",
       "      <td>1</td>\n",
       "      <td>1</td>\n",
       "      <td>392.0</td>\n",
       "      <td>13</td>\n",
       "      <td>50,96</td>\n",
       "    </tr>\n",
       "    <tr>\n",
       "      <th>3</th>\n",
       "      <td>2022-05-04</td>\n",
       "      <td>1</td>\n",
       "      <td>1</td>\n",
       "      <td>498.0</td>\n",
       "      <td>9</td>\n",
       "      <td>44,82</td>\n",
       "    </tr>\n",
       "    <tr>\n",
       "      <th>4</th>\n",
       "      <td>2022-05-05</td>\n",
       "      <td>1</td>\n",
       "      <td>1</td>\n",
       "      <td>341.0</td>\n",
       "      <td>15</td>\n",
       "      <td>51,15</td>\n",
       "    </tr>\n",
       "    <tr>\n",
       "      <th>...</th>\n",
       "      <td>...</td>\n",
       "      <td>...</td>\n",
       "      <td>...</td>\n",
       "      <td>...</td>\n",
       "      <td>...</td>\n",
       "      <td>...</td>\n",
       "    </tr>\n",
       "    <tr>\n",
       "      <th>130</th>\n",
       "      <td>2022-05-11</td>\n",
       "      <td>3</td>\n",
       "      <td>3</td>\n",
       "      <td>374.0</td>\n",
       "      <td>7</td>\n",
       "      <td>26,18</td>\n",
       "    </tr>\n",
       "    <tr>\n",
       "      <th>131</th>\n",
       "      <td>2022-05-12</td>\n",
       "      <td>3</td>\n",
       "      <td>3</td>\n",
       "      <td>390.0</td>\n",
       "      <td>4</td>\n",
       "      <td>15,6</td>\n",
       "    </tr>\n",
       "    <tr>\n",
       "      <th>132</th>\n",
       "      <td>2022-05-13</td>\n",
       "      <td>3</td>\n",
       "      <td>3</td>\n",
       "      <td>485.0</td>\n",
       "      <td>10</td>\n",
       "      <td>48,5</td>\n",
       "    </tr>\n",
       "    <tr>\n",
       "      <th>133</th>\n",
       "      <td>2022-05-14</td>\n",
       "      <td>3</td>\n",
       "      <td>3</td>\n",
       "      <td>479.0</td>\n",
       "      <td>3</td>\n",
       "      <td>14,37</td>\n",
       "    </tr>\n",
       "    <tr>\n",
       "      <th>134</th>\n",
       "      <td>2022-05-15</td>\n",
       "      <td>3</td>\n",
       "      <td>3</td>\n",
       "      <td>366.0</td>\n",
       "      <td>13</td>\n",
       "      <td>47,58</td>\n",
       "    </tr>\n",
       "  </tbody>\n",
       "</table>\n",
       "<p>135 rows × 6 columns</p>\n",
       "</div>"
      ],
      "text/plain": [
       "    DZIEN_DATA  SKL_ID  TOW_ID  SPRZ_NETTO  ZYSK_PROCENT ZYSK_WART\n",
       "0   2022-05-01       1       1       416.0             9     37,44\n",
       "1   2022-05-02       1       1       454.0             2      9,08\n",
       "2   2022-05-03       1       1       392.0            13     50,96\n",
       "3   2022-05-04       1       1       498.0             9     44,82\n",
       "4   2022-05-05       1       1       341.0            15     51,15\n",
       "..         ...     ...     ...         ...           ...       ...\n",
       "130 2022-05-11       3       3       374.0             7     26,18\n",
       "131 2022-05-12       3       3       390.0             4      15,6\n",
       "132 2022-05-13       3       3       485.0            10      48,5\n",
       "133 2022-05-14       3       3       479.0             3     14,37\n",
       "134 2022-05-15       3       3       366.0            13     47,58\n",
       "\n",
       "[135 rows x 6 columns]"
      ]
     },
     "execution_count": 13,
     "metadata": {},
     "output_type": "execute_result"
    }
   ],
   "source": [
    "dane_sprzedaz_df"
   ]
  },
  {
   "cell_type": "code",
   "execution_count": 14,
   "id": "5e399339",
   "metadata": {},
   "outputs": [],
   "source": [
    "### udało sie? sprawdź .info() na dataframe lub dtype() z series"
   ]
  },
  {
   "cell_type": "code",
   "execution_count": 15,
   "id": "e013f5e8",
   "metadata": {},
   "outputs": [
    {
     "name": "stdout",
     "output_type": "stream",
     "text": [
      "<class 'pandas.core.frame.DataFrame'>\n",
      "RangeIndex: 135 entries, 0 to 134\n",
      "Data columns (total 6 columns):\n",
      " #   Column        Non-Null Count  Dtype         \n",
      "---  ------        --------------  -----         \n",
      " 0   DZIEN_DATA    135 non-null    datetime64[ns]\n",
      " 1   SKL_ID        135 non-null    int64         \n",
      " 2   TOW_ID        135 non-null    int64         \n",
      " 3   SPRZ_NETTO    133 non-null    float64       \n",
      " 4   ZYSK_PROCENT  135 non-null    int64         \n",
      " 5   ZYSK_WART     135 non-null    object        \n",
      "dtypes: datetime64[ns](1), float64(1), int64(3), object(1)\n",
      "memory usage: 6.5+ KB\n"
     ]
    }
   ],
   "source": [
    "dane_sprzedaz_df.info()"
   ]
  },
  {
   "cell_type": "code",
   "execution_count": 16,
   "id": "d9f348e3",
   "metadata": {},
   "outputs": [
    {
     "data": {
      "text/plain": [
       "0     2022-05-01\n",
       "1     2022-05-02\n",
       "2     2022-05-03\n",
       "3     2022-05-04\n",
       "4     2022-05-05\n",
       "         ...    \n",
       "130   2022-05-11\n",
       "131   2022-05-12\n",
       "132   2022-05-13\n",
       "133   2022-05-14\n",
       "134   2022-05-15\n",
       "Name: DZIEN_DATA, Length: 135, dtype: datetime64[ns]"
      ]
     },
     "execution_count": 16,
     "metadata": {},
     "output_type": "execute_result"
    }
   ],
   "source": [
    "dane_sprzedaz_df.DZIEN_DATA"
   ]
  },
  {
   "cell_type": "code",
   "execution_count": 17,
   "id": "63474174",
   "metadata": {},
   "outputs": [],
   "source": [
    "### zajmijmy sie teraz wartoscia z kolumny ZYSK_WART - jest to object ponieważ zawiera przecinek - spróbujmy go zamienić na kropke\n",
    "### wyświetl kolumne ZYSK_WART"
   ]
  },
  {
   "cell_type": "code",
   "execution_count": 18,
   "id": "2e0da4dc",
   "metadata": {},
   "outputs": [
    {
     "data": {
      "text/plain": [
       "0      37,44\n",
       "1       9,08\n",
       "2      50,96\n",
       "3      44,82\n",
       "4      51,15\n",
       "       ...  \n",
       "130    26,18\n",
       "131     15,6\n",
       "132     48,5\n",
       "133    14,37\n",
       "134    47,58\n",
       "Name: ZYSK_WART, Length: 135, dtype: object"
      ]
     },
     "execution_count": 18,
     "metadata": {},
     "output_type": "execute_result"
    }
   ],
   "source": [
    "dane_sprzedaz_df.ZYSK_WART"
   ]
  },
  {
   "cell_type": "code",
   "execution_count": 19,
   "id": "41190429",
   "metadata": {},
   "outputs": [],
   "source": [
    "### następnie użyj funkcji replace do zmiany na kolumnie stringowej przecinka na kropke"
   ]
  },
  {
   "cell_type": "code",
   "execution_count": 61,
   "id": "eab32a2a",
   "metadata": {},
   "outputs": [],
   "source": [
    "dane_sprzedaz_df.ZYSK_WART = dane_sprzedaz_df.ZYSK_WART.str.replace(\",\", \".\")"
   ]
  },
  {
   "cell_type": "code",
   "execution_count": 20,
   "id": "ed180877",
   "metadata": {},
   "outputs": [],
   "source": [
    "### sprawdz dataframe dane_sprzedaz_df"
   ]
  },
  {
   "cell_type": "code",
   "execution_count": 62,
   "id": "0c690fbb",
   "metadata": {},
   "outputs": [
    {
     "data": {
      "text/html": [
       "<div>\n",
       "<style scoped>\n",
       "    .dataframe tbody tr th:only-of-type {\n",
       "        vertical-align: middle;\n",
       "    }\n",
       "\n",
       "    .dataframe tbody tr th {\n",
       "        vertical-align: top;\n",
       "    }\n",
       "\n",
       "    .dataframe thead th {\n",
       "        text-align: right;\n",
       "    }\n",
       "</style>\n",
       "<table border=\"1\" class=\"dataframe\">\n",
       "  <thead>\n",
       "    <tr style=\"text-align: right;\">\n",
       "      <th></th>\n",
       "      <th>DZIEN_DATA</th>\n",
       "      <th>SKL_ID</th>\n",
       "      <th>TOW_ID</th>\n",
       "      <th>SPRZ_NETTO</th>\n",
       "      <th>ZYSK_PROCENT</th>\n",
       "      <th>ZYSK_WART</th>\n",
       "    </tr>\n",
       "  </thead>\n",
       "  <tbody>\n",
       "    <tr>\n",
       "      <th>0</th>\n",
       "      <td>2022-05-01</td>\n",
       "      <td>1</td>\n",
       "      <td>1</td>\n",
       "      <td>416.0</td>\n",
       "      <td>9</td>\n",
       "      <td>37.44</td>\n",
       "    </tr>\n",
       "    <tr>\n",
       "      <th>1</th>\n",
       "      <td>2022-05-02</td>\n",
       "      <td>1</td>\n",
       "      <td>1</td>\n",
       "      <td>454.0</td>\n",
       "      <td>2</td>\n",
       "      <td>9.08</td>\n",
       "    </tr>\n",
       "    <tr>\n",
       "      <th>2</th>\n",
       "      <td>2022-05-03</td>\n",
       "      <td>1</td>\n",
       "      <td>1</td>\n",
       "      <td>392.0</td>\n",
       "      <td>13</td>\n",
       "      <td>50.96</td>\n",
       "    </tr>\n",
       "    <tr>\n",
       "      <th>3</th>\n",
       "      <td>2022-05-04</td>\n",
       "      <td>1</td>\n",
       "      <td>1</td>\n",
       "      <td>498.0</td>\n",
       "      <td>9</td>\n",
       "      <td>44.82</td>\n",
       "    </tr>\n",
       "    <tr>\n",
       "      <th>4</th>\n",
       "      <td>2022-05-05</td>\n",
       "      <td>1</td>\n",
       "      <td>1</td>\n",
       "      <td>341.0</td>\n",
       "      <td>15</td>\n",
       "      <td>51.15</td>\n",
       "    </tr>\n",
       "    <tr>\n",
       "      <th>...</th>\n",
       "      <td>...</td>\n",
       "      <td>...</td>\n",
       "      <td>...</td>\n",
       "      <td>...</td>\n",
       "      <td>...</td>\n",
       "      <td>...</td>\n",
       "    </tr>\n",
       "    <tr>\n",
       "      <th>130</th>\n",
       "      <td>2022-05-11</td>\n",
       "      <td>3</td>\n",
       "      <td>3</td>\n",
       "      <td>374.0</td>\n",
       "      <td>7</td>\n",
       "      <td>26.18</td>\n",
       "    </tr>\n",
       "    <tr>\n",
       "      <th>131</th>\n",
       "      <td>2022-05-12</td>\n",
       "      <td>3</td>\n",
       "      <td>3</td>\n",
       "      <td>390.0</td>\n",
       "      <td>4</td>\n",
       "      <td>15.6</td>\n",
       "    </tr>\n",
       "    <tr>\n",
       "      <th>132</th>\n",
       "      <td>2022-05-13</td>\n",
       "      <td>3</td>\n",
       "      <td>3</td>\n",
       "      <td>485.0</td>\n",
       "      <td>10</td>\n",
       "      <td>48.5</td>\n",
       "    </tr>\n",
       "    <tr>\n",
       "      <th>133</th>\n",
       "      <td>2022-05-14</td>\n",
       "      <td>3</td>\n",
       "      <td>3</td>\n",
       "      <td>479.0</td>\n",
       "      <td>3</td>\n",
       "      <td>14.37</td>\n",
       "    </tr>\n",
       "    <tr>\n",
       "      <th>134</th>\n",
       "      <td>2022-05-15</td>\n",
       "      <td>3</td>\n",
       "      <td>3</td>\n",
       "      <td>366.0</td>\n",
       "      <td>13</td>\n",
       "      <td>47.58</td>\n",
       "    </tr>\n",
       "  </tbody>\n",
       "</table>\n",
       "<p>135 rows × 6 columns</p>\n",
       "</div>"
      ],
      "text/plain": [
       "    DZIEN_DATA  SKL_ID  TOW_ID  SPRZ_NETTO  ZYSK_PROCENT ZYSK_WART\n",
       "0   2022-05-01       1       1       416.0             9     37.44\n",
       "1   2022-05-02       1       1       454.0             2      9.08\n",
       "2   2022-05-03       1       1       392.0            13     50.96\n",
       "3   2022-05-04       1       1       498.0             9     44.82\n",
       "4   2022-05-05       1       1       341.0            15     51.15\n",
       "..         ...     ...     ...         ...           ...       ...\n",
       "130 2022-05-11       3       3       374.0             7     26.18\n",
       "131 2022-05-12       3       3       390.0             4      15.6\n",
       "132 2022-05-13       3       3       485.0            10      48.5\n",
       "133 2022-05-14       3       3       479.0             3     14.37\n",
       "134 2022-05-15       3       3       366.0            13     47.58\n",
       "\n",
       "[135 rows x 6 columns]"
      ]
     },
     "execution_count": 62,
     "metadata": {},
     "output_type": "execute_result"
    }
   ],
   "source": [
    "dane_sprzedaz_df"
   ]
  },
  {
   "cell_type": "code",
   "execution_count": 21,
   "id": "97c53c4b",
   "metadata": {},
   "outputs": [],
   "source": [
    "### spróbuj zamienić typ kolumny na float"
   ]
  },
  {
   "cell_type": "code",
   "execution_count": 66,
   "id": "97c8ba96",
   "metadata": {},
   "outputs": [],
   "source": [
    "dane_sprzedaz_df.ZYSK_WART=dane_sprzedaz_df.ZYSK_WART.astype(float)"
   ]
  },
  {
   "cell_type": "code",
   "execution_count": 22,
   "id": "9406eaf8",
   "metadata": {},
   "outputs": [],
   "source": [
    "### sprawdź za pomoca polecenia info() dataframe dane_sprzedaz_df"
   ]
  },
  {
   "cell_type": "code",
   "execution_count": 67,
   "id": "85f43f7b",
   "metadata": {},
   "outputs": [
    {
     "name": "stdout",
     "output_type": "stream",
     "text": [
      "<class 'pandas.core.series.Series'>\n",
      "RangeIndex: 135 entries, 0 to 134\n",
      "Series name: ZYSK_WART\n",
      "Non-Null Count  Dtype  \n",
      "--------------  -----  \n",
      "135 non-null    float64\n",
      "dtypes: float64(1)\n",
      "memory usage: 1.2 KB\n"
     ]
    }
   ],
   "source": [
    "dane_sprzedaz_df.ZYSK_WART.info()"
   ]
  },
  {
   "cell_type": "code",
   "execution_count": 23,
   "id": "7548bc45",
   "metadata": {},
   "outputs": [],
   "source": [
    "### mamy już na tej ramce poprawione typy, wyświetlanie dat i dane - możemy przejść dalej"
   ]
  },
  {
   "cell_type": "code",
   "execution_count": 24,
   "id": "c4c35eb4",
   "metadata": {},
   "outputs": [],
   "source": [
    "## KART_SKL_df jest ok ?\n"
   ]
  },
  {
   "cell_type": "code",
   "execution_count": 68,
   "id": "db92195a",
   "metadata": {},
   "outputs": [
    {
     "name": "stdout",
     "output_type": "stream",
     "text": [
      "<class 'pandas.core.frame.DataFrame'>\n",
      "RangeIndex: 4 entries, 0 to 3\n",
      "Data columns (total 4 columns):\n",
      " #   Column      Non-Null Count  Dtype \n",
      "---  ------      --------------  ----- \n",
      " 0   SKL_ID      4 non-null      int64 \n",
      " 1   SKL_NAZ     4 non-null      object\n",
      " 2   SKL_WOJ     4 non-null      object\n",
      " 3    SKL_CYFRA  4 non-null      int64 \n",
      "dtypes: int64(2), object(2)\n",
      "memory usage: 260.0+ bytes\n"
     ]
    }
   ],
   "source": [
    "KART_SKL_df.info()"
   ]
  },
  {
   "cell_type": "code",
   "execution_count": 70,
   "id": "2e3e0694",
   "metadata": {},
   "outputs": [
    {
     "data": {
      "text/html": [
       "<div>\n",
       "<style scoped>\n",
       "    .dataframe tbody tr th:only-of-type {\n",
       "        vertical-align: middle;\n",
       "    }\n",
       "\n",
       "    .dataframe tbody tr th {\n",
       "        vertical-align: top;\n",
       "    }\n",
       "\n",
       "    .dataframe thead th {\n",
       "        text-align: right;\n",
       "    }\n",
       "</style>\n",
       "<table border=\"1\" class=\"dataframe\">\n",
       "  <thead>\n",
       "    <tr style=\"text-align: right;\">\n",
       "      <th></th>\n",
       "      <th>SKL_ID</th>\n",
       "      <th>SKL_NAZ</th>\n",
       "      <th>SKL_WOJ</th>\n",
       "      <th>SKL_CYFRA</th>\n",
       "    </tr>\n",
       "  </thead>\n",
       "  <tbody>\n",
       "    <tr>\n",
       "      <th>0</th>\n",
       "      <td>1</td>\n",
       "      <td>U_WERONIKI</td>\n",
       "      <td>LUBELSKIE</td>\n",
       "      <td>1</td>\n",
       "    </tr>\n",
       "    <tr>\n",
       "      <th>1</th>\n",
       "      <td>2</td>\n",
       "      <td>U_STASIA</td>\n",
       "      <td>PODKARPACKIE</td>\n",
       "      <td>1</td>\n",
       "    </tr>\n",
       "    <tr>\n",
       "      <th>2</th>\n",
       "      <td>3</td>\n",
       "      <td>U_PAWLA</td>\n",
       "      <td>PODKARPACKIE</td>\n",
       "      <td>1</td>\n",
       "    </tr>\n",
       "    <tr>\n",
       "      <th>3</th>\n",
       "      <td>4</td>\n",
       "      <td>U_PIOTRA</td>\n",
       "      <td>SWIETOKRZYSKIE</td>\n",
       "      <td>1</td>\n",
       "    </tr>\n",
       "  </tbody>\n",
       "</table>\n",
       "</div>"
      ],
      "text/plain": [
       "   SKL_ID     SKL_NAZ         SKL_WOJ   SKL_CYFRA\n",
       "0       1  U_WERONIKI       LUBELSKIE           1\n",
       "1       2    U_STASIA    PODKARPACKIE           1\n",
       "2       3     U_PAWLA    PODKARPACKIE           1\n",
       "3       4    U_PIOTRA  SWIETOKRZYSKIE           1"
      ]
     },
     "execution_count": 70,
     "metadata": {},
     "output_type": "execute_result"
    }
   ],
   "source": [
    "KART_SKL_df"
   ]
  },
  {
   "cell_type": "code",
   "execution_count": 25,
   "id": "42b3a551",
   "metadata": {},
   "outputs": [],
   "source": [
    "### sprawdź pozostałe dataframy\n"
   ]
  },
  {
   "cell_type": "code",
   "execution_count": 26,
   "id": "1b6103d8",
   "metadata": {},
   "outputs": [],
   "source": [
    " ## KART_TOW_df jest ok?"
   ]
  },
  {
   "cell_type": "code",
   "execution_count": 72,
   "id": "b9b5814f",
   "metadata": {},
   "outputs": [
    {
     "name": "stdout",
     "output_type": "stream",
     "text": [
      "<class 'pandas.core.frame.DataFrame'>\n",
      "RangeIndex: 4 entries, 0 to 3\n",
      "Data columns (total 3 columns):\n",
      " #   Column         Non-Null Count  Dtype \n",
      "---  ------         --------------  ----- \n",
      " 0   TOW_ID         4 non-null      int64 \n",
      " 1   TOW_NAZWA      4 non-null      object\n",
      " 2   TOW_KATEGORIA  4 non-null      object\n",
      "dtypes: int64(1), object(2)\n",
      "memory usage: 228.0+ bytes\n"
     ]
    }
   ],
   "source": [
    "KART_TOW_df.info()"
   ]
  },
  {
   "cell_type": "code",
   "execution_count": 71,
   "id": "d87b8eb9",
   "metadata": {},
   "outputs": [
    {
     "data": {
      "text/html": [
       "<div>\n",
       "<style scoped>\n",
       "    .dataframe tbody tr th:only-of-type {\n",
       "        vertical-align: middle;\n",
       "    }\n",
       "\n",
       "    .dataframe tbody tr th {\n",
       "        vertical-align: top;\n",
       "    }\n",
       "\n",
       "    .dataframe thead th {\n",
       "        text-align: right;\n",
       "    }\n",
       "</style>\n",
       "<table border=\"1\" class=\"dataframe\">\n",
       "  <thead>\n",
       "    <tr style=\"text-align: right;\">\n",
       "      <th></th>\n",
       "      <th>TOW_ID</th>\n",
       "      <th>TOW_NAZWA</th>\n",
       "      <th>TOW_KATEGORIA</th>\n",
       "    </tr>\n",
       "  </thead>\n",
       "  <tbody>\n",
       "    <tr>\n",
       "      <th>0</th>\n",
       "      <td>1</td>\n",
       "      <td>JABŁKA</td>\n",
       "      <td>OWOCE</td>\n",
       "    </tr>\n",
       "    <tr>\n",
       "      <th>1</th>\n",
       "      <td>2</td>\n",
       "      <td>GRUSZKI</td>\n",
       "      <td>OWOCE</td>\n",
       "    </tr>\n",
       "    <tr>\n",
       "      <th>2</th>\n",
       "      <td>3</td>\n",
       "      <td>SEREK</td>\n",
       "      <td>NABAIAŁ</td>\n",
       "    </tr>\n",
       "    <tr>\n",
       "      <th>3</th>\n",
       "      <td>4</td>\n",
       "      <td>WIERTARKA_Z_LIDLA</td>\n",
       "      <td>NARZEDZIA</td>\n",
       "    </tr>\n",
       "  </tbody>\n",
       "</table>\n",
       "</div>"
      ],
      "text/plain": [
       "   TOW_ID          TOW_NAZWA TOW_KATEGORIA\n",
       "0       1             JABŁKA         OWOCE\n",
       "1       2            GRUSZKI         OWOCE\n",
       "2       3              SEREK       NABAIAŁ\n",
       "3       4  WIERTARKA_Z_LIDLA     NARZEDZIA"
      ]
     },
     "execution_count": 71,
     "metadata": {},
     "output_type": "execute_result"
    }
   ],
   "source": [
    "KART_TOW_df"
   ]
  },
  {
   "cell_type": "code",
   "execution_count": 27,
   "id": "4c5f28ca",
   "metadata": {},
   "outputs": [],
   "source": [
    " ## KART_PROMO_df jest ok?"
   ]
  },
  {
   "cell_type": "code",
   "execution_count": 73,
   "id": "5d9d0733",
   "metadata": {},
   "outputs": [
    {
     "name": "stdout",
     "output_type": "stream",
     "text": [
      "<class 'pandas.core.frame.DataFrame'>\n",
      "RangeIndex: 6 entries, 0 to 5\n",
      "Data columns (total 5 columns):\n",
      " #   Column          Non-Null Count  Dtype \n",
      "---  ------          --------------  ----- \n",
      " 0   TOW_ID          6 non-null      int64 \n",
      " 1   PROM_ID         6 non-null      int64 \n",
      " 2   DZIEN_NAZ       6 non-null      object\n",
      " 3   PROMOCJA_NAZWA  6 non-null      object\n",
      " 4   LIMIT           6 non-null      int64 \n",
      "dtypes: int64(3), object(2)\n",
      "memory usage: 372.0+ bytes\n"
     ]
    }
   ],
   "source": [
    "KART_PROMO_df.info()"
   ]
  },
  {
   "cell_type": "code",
   "execution_count": 74,
   "id": "6e55c23e",
   "metadata": {},
   "outputs": [
    {
     "data": {
      "text/html": [
       "<div>\n",
       "<style scoped>\n",
       "    .dataframe tbody tr th:only-of-type {\n",
       "        vertical-align: middle;\n",
       "    }\n",
       "\n",
       "    .dataframe tbody tr th {\n",
       "        vertical-align: top;\n",
       "    }\n",
       "\n",
       "    .dataframe thead th {\n",
       "        text-align: right;\n",
       "    }\n",
       "</style>\n",
       "<table border=\"1\" class=\"dataframe\">\n",
       "  <thead>\n",
       "    <tr style=\"text-align: right;\">\n",
       "      <th></th>\n",
       "      <th>TOW_ID</th>\n",
       "      <th>PROM_ID</th>\n",
       "      <th>DZIEN_NAZ</th>\n",
       "      <th>PROMOCJA_NAZWA</th>\n",
       "      <th>LIMIT</th>\n",
       "    </tr>\n",
       "  </thead>\n",
       "  <tbody>\n",
       "    <tr>\n",
       "      <th>0</th>\n",
       "      <td>1</td>\n",
       "      <td>1</td>\n",
       "      <td>05.05.2022</td>\n",
       "      <td>WIECEJ_TANIEJ</td>\n",
       "      <td>2000</td>\n",
       "    </tr>\n",
       "    <tr>\n",
       "      <th>1</th>\n",
       "      <td>1</td>\n",
       "      <td>1</td>\n",
       "      <td>10.05.2022</td>\n",
       "      <td>WIECEJ_TANIEJ</td>\n",
       "      <td>2000</td>\n",
       "    </tr>\n",
       "    <tr>\n",
       "      <th>2</th>\n",
       "      <td>2</td>\n",
       "      <td>2</td>\n",
       "      <td>02.05.2022</td>\n",
       "      <td>WIECEJ_TANIEJ</td>\n",
       "      <td>2000</td>\n",
       "    </tr>\n",
       "    <tr>\n",
       "      <th>3</th>\n",
       "      <td>2</td>\n",
       "      <td>2</td>\n",
       "      <td>13.05.2022</td>\n",
       "      <td>WIECEJ_TANIEJ</td>\n",
       "      <td>2000</td>\n",
       "    </tr>\n",
       "    <tr>\n",
       "      <th>4</th>\n",
       "      <td>3</td>\n",
       "      <td>3</td>\n",
       "      <td>09.05.2022</td>\n",
       "      <td>WIECEJ_TANIEJ</td>\n",
       "      <td>2000</td>\n",
       "    </tr>\n",
       "    <tr>\n",
       "      <th>5</th>\n",
       "      <td>3</td>\n",
       "      <td>3</td>\n",
       "      <td>10.05.2022</td>\n",
       "      <td>WIECEJ_TANIEJ</td>\n",
       "      <td>2000</td>\n",
       "    </tr>\n",
       "  </tbody>\n",
       "</table>\n",
       "</div>"
      ],
      "text/plain": [
       "   TOW_ID  PROM_ID   DZIEN_NAZ PROMOCJA_NAZWA  LIMIT\n",
       "0       1        1  05.05.2022  WIECEJ_TANIEJ   2000\n",
       "1       1        1  10.05.2022  WIECEJ_TANIEJ   2000\n",
       "2       2        2  02.05.2022  WIECEJ_TANIEJ   2000\n",
       "3       2        2  13.05.2022  WIECEJ_TANIEJ   2000\n",
       "4       3        3  09.05.2022  WIECEJ_TANIEJ   2000\n",
       "5       3        3  10.05.2022  WIECEJ_TANIEJ   2000"
      ]
     },
     "execution_count": 74,
     "metadata": {},
     "output_type": "execute_result"
    }
   ],
   "source": [
    "KART_PROMO_df"
   ]
  },
  {
   "cell_type": "code",
   "execution_count": 28,
   "id": "777e17f2",
   "metadata": {},
   "outputs": [],
   "source": [
    "### w KART_PROMO_df należy zmienić date tak jak w sprzedazy"
   ]
  },
  {
   "cell_type": "code",
   "execution_count": 78,
   "id": "6cb48116",
   "metadata": {},
   "outputs": [
    {
     "name": "stderr",
     "output_type": "stream",
     "text": [
      "C:\\Users\\AsusF512ua-ej269t\\AppData\\Local\\Temp\\ipykernel_8380\\2437647899.py:1: UserWarning: Parsing dates in DD/MM/YYYY format when dayfirst=False (the default) was specified. This may lead to inconsistently parsed dates! Specify a format to ensure consistent parsing.\n",
      "  KART_PROMO_df.DZIEN_NAZ.astype('datetime64[ns]')\n"
     ]
    }
   ],
   "source": [
    "KART_PROMO_df.DZIEN_NAZ.astype('datetime64[ns]')\n",
    "KART_PROMO_df.DZIEN_NAZ=pd.to_datetime(KART_PROMO_df['DZIEN_NAZ'], errors='coerce', dayfirst=True)"
   ]
  },
  {
   "cell_type": "code",
   "execution_count": 29,
   "id": "3d778ff4",
   "metadata": {},
   "outputs": [],
   "source": [
    "### wyświetlmy KART_PROMO_df"
   ]
  },
  {
   "cell_type": "code",
   "execution_count": 79,
   "id": "69b8788d",
   "metadata": {},
   "outputs": [
    {
     "name": "stdout",
     "output_type": "stream",
     "text": [
      "<class 'pandas.core.frame.DataFrame'>\n",
      "RangeIndex: 6 entries, 0 to 5\n",
      "Data columns (total 5 columns):\n",
      " #   Column          Non-Null Count  Dtype         \n",
      "---  ------          --------------  -----         \n",
      " 0   TOW_ID          6 non-null      int64         \n",
      " 1   PROM_ID         6 non-null      int64         \n",
      " 2   DZIEN_NAZ       6 non-null      datetime64[ns]\n",
      " 3   PROMOCJA_NAZWA  6 non-null      object        \n",
      " 4   LIMIT           6 non-null      int64         \n",
      "dtypes: datetime64[ns](1), int64(3), object(1)\n",
      "memory usage: 372.0+ bytes\n"
     ]
    }
   ],
   "source": [
    "KART_PROMO_df.info()"
   ]
  },
  {
   "cell_type": "code",
   "execution_count": 30,
   "id": "da95444f",
   "metadata": {},
   "outputs": [],
   "source": [
    "## połaczymy dane - sprawdzmy ile unikatowych identyfikatorów TOW_ID i SKL_ID jest w sprzedazy za pomoca series.unique()"
   ]
  },
  {
   "cell_type": "code",
   "execution_count": 87,
   "id": "a8ba775f",
   "metadata": {},
   "outputs": [
    {
     "data": {
      "text/plain": [
       "array([1, 2, 3], dtype=int64)"
      ]
     },
     "execution_count": 87,
     "metadata": {},
     "output_type": "execute_result"
    }
   ],
   "source": [
    "dane_sprzedaz_df.TOW_ID.unique()"
   ]
  },
  {
   "cell_type": "code",
   "execution_count": 88,
   "id": "d2a9375b",
   "metadata": {},
   "outputs": [
    {
     "data": {
      "text/plain": [
       "array([1, 2, 3], dtype=int64)"
      ]
     },
     "execution_count": 88,
     "metadata": {},
     "output_type": "execute_result"
    }
   ],
   "source": [
    "dane_sprzedaz_df.SKL_ID.unique()"
   ]
  },
  {
   "cell_type": "code",
   "execution_count": 31,
   "id": "6166b577",
   "metadata": {},
   "outputs": [],
   "source": [
    "## sprawdzmy teraz kartoteke sklepowa czy KART_SKL_df ile ma SKL_ID unikatowych"
   ]
  },
  {
   "cell_type": "code",
   "execution_count": 89,
   "id": "7ba98f96",
   "metadata": {},
   "outputs": [
    {
     "data": {
      "text/plain": [
       "array([1, 2, 3, 4], dtype=int64)"
      ]
     },
     "execution_count": 89,
     "metadata": {},
     "output_type": "execute_result"
    }
   ],
   "source": [
    "KART_SKL_df.SKL_ID.unique()"
   ]
  },
  {
   "cell_type": "code",
   "execution_count": 32,
   "id": "a25b8f21",
   "metadata": {},
   "outputs": [
    {
     "data": {
      "text/html": [
       "<div>\n",
       "<style scoped>\n",
       "    .dataframe tbody tr th:only-of-type {\n",
       "        vertical-align: middle;\n",
       "    }\n",
       "\n",
       "    .dataframe tbody tr th {\n",
       "        vertical-align: top;\n",
       "    }\n",
       "\n",
       "    .dataframe thead th {\n",
       "        text-align: right;\n",
       "    }\n",
       "</style>\n",
       "<table border=\"1\" class=\"dataframe\">\n",
       "  <thead>\n",
       "    <tr style=\"text-align: right;\">\n",
       "      <th></th>\n",
       "      <th>SKL_ID</th>\n",
       "      <th>SKL_NAZ</th>\n",
       "      <th>SKL_WOJ</th>\n",
       "      <th>SKL_CYFRA</th>\n",
       "    </tr>\n",
       "  </thead>\n",
       "  <tbody>\n",
       "    <tr>\n",
       "      <th>0</th>\n",
       "      <td>1</td>\n",
       "      <td>U_WERONIKI</td>\n",
       "      <td>LUBELSKIE</td>\n",
       "      <td>1</td>\n",
       "    </tr>\n",
       "    <tr>\n",
       "      <th>1</th>\n",
       "      <td>2</td>\n",
       "      <td>U_STASIA</td>\n",
       "      <td>PODKARPACKIE</td>\n",
       "      <td>1</td>\n",
       "    </tr>\n",
       "    <tr>\n",
       "      <th>2</th>\n",
       "      <td>3</td>\n",
       "      <td>U_PAWLA</td>\n",
       "      <td>PODKARPACKIE</td>\n",
       "      <td>1</td>\n",
       "    </tr>\n",
       "    <tr>\n",
       "      <th>3</th>\n",
       "      <td>4</td>\n",
       "      <td>U_PIOTRA</td>\n",
       "      <td>SWIETOKRZYSKIE</td>\n",
       "      <td>1</td>\n",
       "    </tr>\n",
       "  </tbody>\n",
       "</table>\n",
       "</div>"
      ],
      "text/plain": [
       "   SKL_ID     SKL_NAZ         SKL_WOJ   SKL_CYFRA\n",
       "0       1  U_WERONIKI       LUBELSKIE           1\n",
       "1       2    U_STASIA    PODKARPACKIE           1\n",
       "2       3     U_PAWLA    PODKARPACKIE           1\n",
       "3       4    U_PIOTRA  SWIETOKRZYSKIE           1"
      ]
     },
     "execution_count": 32,
     "metadata": {},
     "output_type": "execute_result"
    }
   ],
   "source": [
    "KART_SKL_df"
   ]
  },
  {
   "cell_type": "code",
   "execution_count": 33,
   "id": "bd41998e",
   "metadata": {},
   "outputs": [],
   "source": [
    "### w danych sklepowych jest więcej - interesuja nas dane sprzedażowe - czy warto dodawać tutaj sklep nr 4? \n",
    "### Nie... Jaki wybierzemy join? Podlaczmy wszystko do sprzedazy left joinem \n",
    "### wykonajmy merge z atrybutem on dla SKL_ID"
   ]
  },
  {
   "cell_type": "code",
   "execution_count": 34,
   "id": "dbe90c99",
   "metadata": {},
   "outputs": [],
   "source": [
    "## wykonujemy merge dane_sprzedaz_df do KART_SKL_df - po kolumnie SKL_ID i jako left joina"
   ]
  },
  {
   "cell_type": "code",
   "execution_count": 91,
   "id": "85cd20c5",
   "metadata": {},
   "outputs": [],
   "source": [
    "dane_sprz_z_KART_SKL_df = dane_sprzedaz_df.merge(KART_SKL_df, how='left', on='SKL_ID') "
   ]
  },
  {
   "cell_type": "code",
   "execution_count": 92,
   "id": "aa0cbde7",
   "metadata": {},
   "outputs": [
    {
     "data": {
      "text/html": [
       "<div>\n",
       "<style scoped>\n",
       "    .dataframe tbody tr th:only-of-type {\n",
       "        vertical-align: middle;\n",
       "    }\n",
       "\n",
       "    .dataframe tbody tr th {\n",
       "        vertical-align: top;\n",
       "    }\n",
       "\n",
       "    .dataframe thead th {\n",
       "        text-align: right;\n",
       "    }\n",
       "</style>\n",
       "<table border=\"1\" class=\"dataframe\">\n",
       "  <thead>\n",
       "    <tr style=\"text-align: right;\">\n",
       "      <th></th>\n",
       "      <th>DZIEN_DATA</th>\n",
       "      <th>SKL_ID</th>\n",
       "      <th>TOW_ID</th>\n",
       "      <th>SPRZ_NETTO</th>\n",
       "      <th>ZYSK_PROCENT</th>\n",
       "      <th>ZYSK_WART</th>\n",
       "      <th>SKL_NAZ</th>\n",
       "      <th>SKL_WOJ</th>\n",
       "      <th>SKL_CYFRA</th>\n",
       "    </tr>\n",
       "  </thead>\n",
       "  <tbody>\n",
       "    <tr>\n",
       "      <th>0</th>\n",
       "      <td>2022-05-01</td>\n",
       "      <td>1</td>\n",
       "      <td>1</td>\n",
       "      <td>416.0</td>\n",
       "      <td>9</td>\n",
       "      <td>37.44</td>\n",
       "      <td>U_WERONIKI</td>\n",
       "      <td>LUBELSKIE</td>\n",
       "      <td>1</td>\n",
       "    </tr>\n",
       "    <tr>\n",
       "      <th>1</th>\n",
       "      <td>2022-05-02</td>\n",
       "      <td>1</td>\n",
       "      <td>1</td>\n",
       "      <td>454.0</td>\n",
       "      <td>2</td>\n",
       "      <td>9.08</td>\n",
       "      <td>U_WERONIKI</td>\n",
       "      <td>LUBELSKIE</td>\n",
       "      <td>1</td>\n",
       "    </tr>\n",
       "    <tr>\n",
       "      <th>2</th>\n",
       "      <td>2022-05-03</td>\n",
       "      <td>1</td>\n",
       "      <td>1</td>\n",
       "      <td>392.0</td>\n",
       "      <td>13</td>\n",
       "      <td>50.96</td>\n",
       "      <td>U_WERONIKI</td>\n",
       "      <td>LUBELSKIE</td>\n",
       "      <td>1</td>\n",
       "    </tr>\n",
       "    <tr>\n",
       "      <th>3</th>\n",
       "      <td>2022-05-04</td>\n",
       "      <td>1</td>\n",
       "      <td>1</td>\n",
       "      <td>498.0</td>\n",
       "      <td>9</td>\n",
       "      <td>44.82</td>\n",
       "      <td>U_WERONIKI</td>\n",
       "      <td>LUBELSKIE</td>\n",
       "      <td>1</td>\n",
       "    </tr>\n",
       "    <tr>\n",
       "      <th>4</th>\n",
       "      <td>2022-05-05</td>\n",
       "      <td>1</td>\n",
       "      <td>1</td>\n",
       "      <td>341.0</td>\n",
       "      <td>15</td>\n",
       "      <td>51.15</td>\n",
       "      <td>U_WERONIKI</td>\n",
       "      <td>LUBELSKIE</td>\n",
       "      <td>1</td>\n",
       "    </tr>\n",
       "    <tr>\n",
       "      <th>...</th>\n",
       "      <td>...</td>\n",
       "      <td>...</td>\n",
       "      <td>...</td>\n",
       "      <td>...</td>\n",
       "      <td>...</td>\n",
       "      <td>...</td>\n",
       "      <td>...</td>\n",
       "      <td>...</td>\n",
       "      <td>...</td>\n",
       "    </tr>\n",
       "    <tr>\n",
       "      <th>130</th>\n",
       "      <td>2022-05-11</td>\n",
       "      <td>3</td>\n",
       "      <td>3</td>\n",
       "      <td>374.0</td>\n",
       "      <td>7</td>\n",
       "      <td>26.18</td>\n",
       "      <td>U_PAWLA</td>\n",
       "      <td>PODKARPACKIE</td>\n",
       "      <td>1</td>\n",
       "    </tr>\n",
       "    <tr>\n",
       "      <th>131</th>\n",
       "      <td>2022-05-12</td>\n",
       "      <td>3</td>\n",
       "      <td>3</td>\n",
       "      <td>390.0</td>\n",
       "      <td>4</td>\n",
       "      <td>15.60</td>\n",
       "      <td>U_PAWLA</td>\n",
       "      <td>PODKARPACKIE</td>\n",
       "      <td>1</td>\n",
       "    </tr>\n",
       "    <tr>\n",
       "      <th>132</th>\n",
       "      <td>2022-05-13</td>\n",
       "      <td>3</td>\n",
       "      <td>3</td>\n",
       "      <td>485.0</td>\n",
       "      <td>10</td>\n",
       "      <td>48.50</td>\n",
       "      <td>U_PAWLA</td>\n",
       "      <td>PODKARPACKIE</td>\n",
       "      <td>1</td>\n",
       "    </tr>\n",
       "    <tr>\n",
       "      <th>133</th>\n",
       "      <td>2022-05-14</td>\n",
       "      <td>3</td>\n",
       "      <td>3</td>\n",
       "      <td>479.0</td>\n",
       "      <td>3</td>\n",
       "      <td>14.37</td>\n",
       "      <td>U_PAWLA</td>\n",
       "      <td>PODKARPACKIE</td>\n",
       "      <td>1</td>\n",
       "    </tr>\n",
       "    <tr>\n",
       "      <th>134</th>\n",
       "      <td>2022-05-15</td>\n",
       "      <td>3</td>\n",
       "      <td>3</td>\n",
       "      <td>366.0</td>\n",
       "      <td>13</td>\n",
       "      <td>47.58</td>\n",
       "      <td>U_PAWLA</td>\n",
       "      <td>PODKARPACKIE</td>\n",
       "      <td>1</td>\n",
       "    </tr>\n",
       "  </tbody>\n",
       "</table>\n",
       "<p>135 rows × 9 columns</p>\n",
       "</div>"
      ],
      "text/plain": [
       "    DZIEN_DATA  SKL_ID  TOW_ID  SPRZ_NETTO  ZYSK_PROCENT  ZYSK_WART  \\\n",
       "0   2022-05-01       1       1       416.0             9      37.44   \n",
       "1   2022-05-02       1       1       454.0             2       9.08   \n",
       "2   2022-05-03       1       1       392.0            13      50.96   \n",
       "3   2022-05-04       1       1       498.0             9      44.82   \n",
       "4   2022-05-05       1       1       341.0            15      51.15   \n",
       "..         ...     ...     ...         ...           ...        ...   \n",
       "130 2022-05-11       3       3       374.0             7      26.18   \n",
       "131 2022-05-12       3       3       390.0             4      15.60   \n",
       "132 2022-05-13       3       3       485.0            10      48.50   \n",
       "133 2022-05-14       3       3       479.0             3      14.37   \n",
       "134 2022-05-15       3       3       366.0            13      47.58   \n",
       "\n",
       "        SKL_NAZ       SKL_WOJ   SKL_CYFRA  \n",
       "0    U_WERONIKI     LUBELSKIE           1  \n",
       "1    U_WERONIKI     LUBELSKIE           1  \n",
       "2    U_WERONIKI     LUBELSKIE           1  \n",
       "3    U_WERONIKI     LUBELSKIE           1  \n",
       "4    U_WERONIKI     LUBELSKIE           1  \n",
       "..          ...           ...         ...  \n",
       "130     U_PAWLA  PODKARPACKIE           1  \n",
       "131     U_PAWLA  PODKARPACKIE           1  \n",
       "132     U_PAWLA  PODKARPACKIE           1  \n",
       "133     U_PAWLA  PODKARPACKIE           1  \n",
       "134     U_PAWLA  PODKARPACKIE           1  \n",
       "\n",
       "[135 rows x 9 columns]"
      ]
     },
     "execution_count": 92,
     "metadata": {},
     "output_type": "execute_result"
    }
   ],
   "source": [
    "dane_sprz_z_KART_SKL_df"
   ]
  },
  {
   "cell_type": "code",
   "execution_count": 35,
   "id": "618b2e5e",
   "metadata": {},
   "outputs": [],
   "source": [
    "## zróbmy to samo z towarem"
   ]
  },
  {
   "cell_type": "code",
   "execution_count": 95,
   "id": "b2f6b12d",
   "metadata": {},
   "outputs": [],
   "source": [
    "dane_sprz_z_TOW_ID_df = dane_sprzedaz_df.merge(KART_TOW_df, how='left', on='TOW_ID') "
   ]
  },
  {
   "cell_type": "code",
   "execution_count": 96,
   "id": "fa491547",
   "metadata": {},
   "outputs": [
    {
     "data": {
      "text/html": [
       "<div>\n",
       "<style scoped>\n",
       "    .dataframe tbody tr th:only-of-type {\n",
       "        vertical-align: middle;\n",
       "    }\n",
       "\n",
       "    .dataframe tbody tr th {\n",
       "        vertical-align: top;\n",
       "    }\n",
       "\n",
       "    .dataframe thead th {\n",
       "        text-align: right;\n",
       "    }\n",
       "</style>\n",
       "<table border=\"1\" class=\"dataframe\">\n",
       "  <thead>\n",
       "    <tr style=\"text-align: right;\">\n",
       "      <th></th>\n",
       "      <th>DZIEN_DATA</th>\n",
       "      <th>SKL_ID</th>\n",
       "      <th>TOW_ID</th>\n",
       "      <th>SPRZ_NETTO</th>\n",
       "      <th>ZYSK_PROCENT</th>\n",
       "      <th>ZYSK_WART</th>\n",
       "      <th>TOW_NAZWA</th>\n",
       "      <th>TOW_KATEGORIA</th>\n",
       "    </tr>\n",
       "  </thead>\n",
       "  <tbody>\n",
       "    <tr>\n",
       "      <th>0</th>\n",
       "      <td>2022-05-01</td>\n",
       "      <td>1</td>\n",
       "      <td>1</td>\n",
       "      <td>416.0</td>\n",
       "      <td>9</td>\n",
       "      <td>37.44</td>\n",
       "      <td>JABŁKA</td>\n",
       "      <td>OWOCE</td>\n",
       "    </tr>\n",
       "    <tr>\n",
       "      <th>1</th>\n",
       "      <td>2022-05-02</td>\n",
       "      <td>1</td>\n",
       "      <td>1</td>\n",
       "      <td>454.0</td>\n",
       "      <td>2</td>\n",
       "      <td>9.08</td>\n",
       "      <td>JABŁKA</td>\n",
       "      <td>OWOCE</td>\n",
       "    </tr>\n",
       "    <tr>\n",
       "      <th>2</th>\n",
       "      <td>2022-05-03</td>\n",
       "      <td>1</td>\n",
       "      <td>1</td>\n",
       "      <td>392.0</td>\n",
       "      <td>13</td>\n",
       "      <td>50.96</td>\n",
       "      <td>JABŁKA</td>\n",
       "      <td>OWOCE</td>\n",
       "    </tr>\n",
       "    <tr>\n",
       "      <th>3</th>\n",
       "      <td>2022-05-04</td>\n",
       "      <td>1</td>\n",
       "      <td>1</td>\n",
       "      <td>498.0</td>\n",
       "      <td>9</td>\n",
       "      <td>44.82</td>\n",
       "      <td>JABŁKA</td>\n",
       "      <td>OWOCE</td>\n",
       "    </tr>\n",
       "    <tr>\n",
       "      <th>4</th>\n",
       "      <td>2022-05-05</td>\n",
       "      <td>1</td>\n",
       "      <td>1</td>\n",
       "      <td>341.0</td>\n",
       "      <td>15</td>\n",
       "      <td>51.15</td>\n",
       "      <td>JABŁKA</td>\n",
       "      <td>OWOCE</td>\n",
       "    </tr>\n",
       "    <tr>\n",
       "      <th>...</th>\n",
       "      <td>...</td>\n",
       "      <td>...</td>\n",
       "      <td>...</td>\n",
       "      <td>...</td>\n",
       "      <td>...</td>\n",
       "      <td>...</td>\n",
       "      <td>...</td>\n",
       "      <td>...</td>\n",
       "    </tr>\n",
       "    <tr>\n",
       "      <th>130</th>\n",
       "      <td>2022-05-11</td>\n",
       "      <td>3</td>\n",
       "      <td>3</td>\n",
       "      <td>374.0</td>\n",
       "      <td>7</td>\n",
       "      <td>26.18</td>\n",
       "      <td>SEREK</td>\n",
       "      <td>NABAIAŁ</td>\n",
       "    </tr>\n",
       "    <tr>\n",
       "      <th>131</th>\n",
       "      <td>2022-05-12</td>\n",
       "      <td>3</td>\n",
       "      <td>3</td>\n",
       "      <td>390.0</td>\n",
       "      <td>4</td>\n",
       "      <td>15.60</td>\n",
       "      <td>SEREK</td>\n",
       "      <td>NABAIAŁ</td>\n",
       "    </tr>\n",
       "    <tr>\n",
       "      <th>132</th>\n",
       "      <td>2022-05-13</td>\n",
       "      <td>3</td>\n",
       "      <td>3</td>\n",
       "      <td>485.0</td>\n",
       "      <td>10</td>\n",
       "      <td>48.50</td>\n",
       "      <td>SEREK</td>\n",
       "      <td>NABAIAŁ</td>\n",
       "    </tr>\n",
       "    <tr>\n",
       "      <th>133</th>\n",
       "      <td>2022-05-14</td>\n",
       "      <td>3</td>\n",
       "      <td>3</td>\n",
       "      <td>479.0</td>\n",
       "      <td>3</td>\n",
       "      <td>14.37</td>\n",
       "      <td>SEREK</td>\n",
       "      <td>NABAIAŁ</td>\n",
       "    </tr>\n",
       "    <tr>\n",
       "      <th>134</th>\n",
       "      <td>2022-05-15</td>\n",
       "      <td>3</td>\n",
       "      <td>3</td>\n",
       "      <td>366.0</td>\n",
       "      <td>13</td>\n",
       "      <td>47.58</td>\n",
       "      <td>SEREK</td>\n",
       "      <td>NABAIAŁ</td>\n",
       "    </tr>\n",
       "  </tbody>\n",
       "</table>\n",
       "<p>135 rows × 8 columns</p>\n",
       "</div>"
      ],
      "text/plain": [
       "    DZIEN_DATA  SKL_ID  TOW_ID  SPRZ_NETTO  ZYSK_PROCENT  ZYSK_WART TOW_NAZWA  \\\n",
       "0   2022-05-01       1       1       416.0             9      37.44    JABŁKA   \n",
       "1   2022-05-02       1       1       454.0             2       9.08    JABŁKA   \n",
       "2   2022-05-03       1       1       392.0            13      50.96    JABŁKA   \n",
       "3   2022-05-04       1       1       498.0             9      44.82    JABŁKA   \n",
       "4   2022-05-05       1       1       341.0            15      51.15    JABŁKA   \n",
       "..         ...     ...     ...         ...           ...        ...       ...   \n",
       "130 2022-05-11       3       3       374.0             7      26.18     SEREK   \n",
       "131 2022-05-12       3       3       390.0             4      15.60     SEREK   \n",
       "132 2022-05-13       3       3       485.0            10      48.50     SEREK   \n",
       "133 2022-05-14       3       3       479.0             3      14.37     SEREK   \n",
       "134 2022-05-15       3       3       366.0            13      47.58     SEREK   \n",
       "\n",
       "    TOW_KATEGORIA  \n",
       "0           OWOCE  \n",
       "1           OWOCE  \n",
       "2           OWOCE  \n",
       "3           OWOCE  \n",
       "4           OWOCE  \n",
       "..            ...  \n",
       "130       NABAIAŁ  \n",
       "131       NABAIAŁ  \n",
       "132       NABAIAŁ  \n",
       "133       NABAIAŁ  \n",
       "134       NABAIAŁ  \n",
       "\n",
       "[135 rows x 8 columns]"
      ]
     },
     "execution_count": 96,
     "metadata": {},
     "output_type": "execute_result"
    }
   ],
   "source": [
    "dane_sprz_z_TOW_ID_df"
   ]
  },
  {
   "cell_type": "code",
   "execution_count": 36,
   "id": "f688f6a0",
   "metadata": {},
   "outputs": [],
   "source": [
    "## Sprawdźmy nulle za pomoca pd.isna"
   ]
  },
  {
   "cell_type": "code",
   "execution_count": 98,
   "id": "e62a8c4f",
   "metadata": {},
   "outputs": [
    {
     "data": {
      "text/html": [
       "<div>\n",
       "<style scoped>\n",
       "    .dataframe tbody tr th:only-of-type {\n",
       "        vertical-align: middle;\n",
       "    }\n",
       "\n",
       "    .dataframe tbody tr th {\n",
       "        vertical-align: top;\n",
       "    }\n",
       "\n",
       "    .dataframe thead th {\n",
       "        text-align: right;\n",
       "    }\n",
       "</style>\n",
       "<table border=\"1\" class=\"dataframe\">\n",
       "  <thead>\n",
       "    <tr style=\"text-align: right;\">\n",
       "      <th></th>\n",
       "      <th>DZIEN_DATA</th>\n",
       "      <th>SKL_ID</th>\n",
       "      <th>TOW_ID</th>\n",
       "      <th>SPRZ_NETTO</th>\n",
       "      <th>ZYSK_PROCENT</th>\n",
       "      <th>ZYSK_WART</th>\n",
       "      <th>TOW_NAZWA</th>\n",
       "      <th>TOW_KATEGORIA</th>\n",
       "    </tr>\n",
       "  </thead>\n",
       "  <tbody>\n",
       "    <tr>\n",
       "      <th>0</th>\n",
       "      <td>False</td>\n",
       "      <td>False</td>\n",
       "      <td>False</td>\n",
       "      <td>False</td>\n",
       "      <td>False</td>\n",
       "      <td>False</td>\n",
       "      <td>False</td>\n",
       "      <td>False</td>\n",
       "    </tr>\n",
       "    <tr>\n",
       "      <th>1</th>\n",
       "      <td>False</td>\n",
       "      <td>False</td>\n",
       "      <td>False</td>\n",
       "      <td>False</td>\n",
       "      <td>False</td>\n",
       "      <td>False</td>\n",
       "      <td>False</td>\n",
       "      <td>False</td>\n",
       "    </tr>\n",
       "    <tr>\n",
       "      <th>2</th>\n",
       "      <td>False</td>\n",
       "      <td>False</td>\n",
       "      <td>False</td>\n",
       "      <td>False</td>\n",
       "      <td>False</td>\n",
       "      <td>False</td>\n",
       "      <td>False</td>\n",
       "      <td>False</td>\n",
       "    </tr>\n",
       "    <tr>\n",
       "      <th>3</th>\n",
       "      <td>False</td>\n",
       "      <td>False</td>\n",
       "      <td>False</td>\n",
       "      <td>False</td>\n",
       "      <td>False</td>\n",
       "      <td>False</td>\n",
       "      <td>False</td>\n",
       "      <td>False</td>\n",
       "    </tr>\n",
       "    <tr>\n",
       "      <th>4</th>\n",
       "      <td>False</td>\n",
       "      <td>False</td>\n",
       "      <td>False</td>\n",
       "      <td>False</td>\n",
       "      <td>False</td>\n",
       "      <td>False</td>\n",
       "      <td>False</td>\n",
       "      <td>False</td>\n",
       "    </tr>\n",
       "    <tr>\n",
       "      <th>...</th>\n",
       "      <td>...</td>\n",
       "      <td>...</td>\n",
       "      <td>...</td>\n",
       "      <td>...</td>\n",
       "      <td>...</td>\n",
       "      <td>...</td>\n",
       "      <td>...</td>\n",
       "      <td>...</td>\n",
       "    </tr>\n",
       "    <tr>\n",
       "      <th>130</th>\n",
       "      <td>False</td>\n",
       "      <td>False</td>\n",
       "      <td>False</td>\n",
       "      <td>False</td>\n",
       "      <td>False</td>\n",
       "      <td>False</td>\n",
       "      <td>False</td>\n",
       "      <td>False</td>\n",
       "    </tr>\n",
       "    <tr>\n",
       "      <th>131</th>\n",
       "      <td>False</td>\n",
       "      <td>False</td>\n",
       "      <td>False</td>\n",
       "      <td>False</td>\n",
       "      <td>False</td>\n",
       "      <td>False</td>\n",
       "      <td>False</td>\n",
       "      <td>False</td>\n",
       "    </tr>\n",
       "    <tr>\n",
       "      <th>132</th>\n",
       "      <td>False</td>\n",
       "      <td>False</td>\n",
       "      <td>False</td>\n",
       "      <td>False</td>\n",
       "      <td>False</td>\n",
       "      <td>False</td>\n",
       "      <td>False</td>\n",
       "      <td>False</td>\n",
       "    </tr>\n",
       "    <tr>\n",
       "      <th>133</th>\n",
       "      <td>False</td>\n",
       "      <td>False</td>\n",
       "      <td>False</td>\n",
       "      <td>False</td>\n",
       "      <td>False</td>\n",
       "      <td>False</td>\n",
       "      <td>False</td>\n",
       "      <td>False</td>\n",
       "    </tr>\n",
       "    <tr>\n",
       "      <th>134</th>\n",
       "      <td>False</td>\n",
       "      <td>False</td>\n",
       "      <td>False</td>\n",
       "      <td>False</td>\n",
       "      <td>False</td>\n",
       "      <td>False</td>\n",
       "      <td>False</td>\n",
       "      <td>False</td>\n",
       "    </tr>\n",
       "  </tbody>\n",
       "</table>\n",
       "<p>135 rows × 8 columns</p>\n",
       "</div>"
      ],
      "text/plain": [
       "     DZIEN_DATA  SKL_ID  TOW_ID  SPRZ_NETTO  ZYSK_PROCENT  ZYSK_WART  \\\n",
       "0         False   False   False       False         False      False   \n",
       "1         False   False   False       False         False      False   \n",
       "2         False   False   False       False         False      False   \n",
       "3         False   False   False       False         False      False   \n",
       "4         False   False   False       False         False      False   \n",
       "..          ...     ...     ...         ...           ...        ...   \n",
       "130       False   False   False       False         False      False   \n",
       "131       False   False   False       False         False      False   \n",
       "132       False   False   False       False         False      False   \n",
       "133       False   False   False       False         False      False   \n",
       "134       False   False   False       False         False      False   \n",
       "\n",
       "     TOW_NAZWA  TOW_KATEGORIA  \n",
       "0        False          False  \n",
       "1        False          False  \n",
       "2        False          False  \n",
       "3        False          False  \n",
       "4        False          False  \n",
       "..         ...            ...  \n",
       "130      False          False  \n",
       "131      False          False  \n",
       "132      False          False  \n",
       "133      False          False  \n",
       "134      False          False  \n",
       "\n",
       "[135 rows x 8 columns]"
      ]
     },
     "execution_count": 98,
     "metadata": {},
     "output_type": "execute_result"
    }
   ],
   "source": [
    "pd.isna(dane_sprz_z_TOW_ID_df)"
   ]
  },
  {
   "cell_type": "code",
   "execution_count": 37,
   "id": "59e70ac4",
   "metadata": {},
   "outputs": [],
   "source": [
    " ## niby nic nie ma"
   ]
  },
  {
   "cell_type": "code",
   "execution_count": 38,
   "id": "689f6bb5",
   "metadata": {},
   "outputs": [],
   "source": [
    "## niby nic nie ma, ale zwróccie uwage na wielokropkki w środku - w ten sposób nie zobaczymy tegto\n",
    "## zastosuj funkcje filtrujaca isna().any"
   ]
  },
  {
   "cell_type": "code",
   "execution_count": 103,
   "id": "a07bf050",
   "metadata": {
    "scrolled": true
   },
   "outputs": [
    {
     "data": {
      "text/html": [
       "<div>\n",
       "<style scoped>\n",
       "    .dataframe tbody tr th:only-of-type {\n",
       "        vertical-align: middle;\n",
       "    }\n",
       "\n",
       "    .dataframe tbody tr th {\n",
       "        vertical-align: top;\n",
       "    }\n",
       "\n",
       "    .dataframe thead th {\n",
       "        text-align: right;\n",
       "    }\n",
       "</style>\n",
       "<table border=\"1\" class=\"dataframe\">\n",
       "  <thead>\n",
       "    <tr style=\"text-align: right;\">\n",
       "      <th></th>\n",
       "      <th>DZIEN_DATA</th>\n",
       "      <th>SKL_ID</th>\n",
       "      <th>TOW_ID</th>\n",
       "      <th>SPRZ_NETTO</th>\n",
       "      <th>ZYSK_PROCENT</th>\n",
       "      <th>ZYSK_WART</th>\n",
       "      <th>TOW_NAZWA</th>\n",
       "      <th>TOW_KATEGORIA</th>\n",
       "    </tr>\n",
       "  </thead>\n",
       "  <tbody>\n",
       "    <tr>\n",
       "      <th>46</th>\n",
       "      <td>2022-05-02</td>\n",
       "      <td>2</td>\n",
       "      <td>1</td>\n",
       "      <td>NaN</td>\n",
       "      <td>3</td>\n",
       "      <td>14.10</td>\n",
       "      <td>JABŁKA</td>\n",
       "      <td>OWOCE</td>\n",
       "    </tr>\n",
       "    <tr>\n",
       "      <th>53</th>\n",
       "      <td>2022-05-09</td>\n",
       "      <td>2</td>\n",
       "      <td>1</td>\n",
       "      <td>NaN</td>\n",
       "      <td>14</td>\n",
       "      <td>50.96</td>\n",
       "      <td>JABŁKA</td>\n",
       "      <td>OWOCE</td>\n",
       "    </tr>\n",
       "  </tbody>\n",
       "</table>\n",
       "</div>"
      ],
      "text/plain": [
       "   DZIEN_DATA  SKL_ID  TOW_ID  SPRZ_NETTO  ZYSK_PROCENT  ZYSK_WART TOW_NAZWA  \\\n",
       "46 2022-05-02       2       1         NaN             3      14.10    JABŁKA   \n",
       "53 2022-05-09       2       1         NaN            14      50.96    JABŁKA   \n",
       "\n",
       "   TOW_KATEGORIA  \n",
       "46         OWOCE  \n",
       "53         OWOCE  "
      ]
     },
     "execution_count": 103,
     "metadata": {},
     "output_type": "execute_result"
    }
   ],
   "source": [
    "dane_sprz_z_TOW_ID_df[dane_sprz_z_TOW_ID_df.isna().any(axis=1)]"
   ]
  },
  {
   "cell_type": "code",
   "execution_count": 106,
   "id": "301b18db",
   "metadata": {},
   "outputs": [
    {
     "data": {
      "text/html": [
       "<div>\n",
       "<style scoped>\n",
       "    .dataframe tbody tr th:only-of-type {\n",
       "        vertical-align: middle;\n",
       "    }\n",
       "\n",
       "    .dataframe tbody tr th {\n",
       "        vertical-align: top;\n",
       "    }\n",
       "\n",
       "    .dataframe thead th {\n",
       "        text-align: right;\n",
       "    }\n",
       "</style>\n",
       "<table border=\"1\" class=\"dataframe\">\n",
       "  <thead>\n",
       "    <tr style=\"text-align: right;\">\n",
       "      <th></th>\n",
       "      <th>DZIEN_DATA</th>\n",
       "      <th>SKL_ID</th>\n",
       "      <th>TOW_ID</th>\n",
       "      <th>SPRZ_NETTO</th>\n",
       "      <th>ZYSK_PROCENT</th>\n",
       "      <th>ZYSK_WART</th>\n",
       "      <th>SKL_NAZ</th>\n",
       "      <th>SKL_WOJ</th>\n",
       "      <th>SKL_CYFRA</th>\n",
       "    </tr>\n",
       "  </thead>\n",
       "  <tbody>\n",
       "    <tr>\n",
       "      <th>46</th>\n",
       "      <td>2022-05-02</td>\n",
       "      <td>2</td>\n",
       "      <td>1</td>\n",
       "      <td>NaN</td>\n",
       "      <td>3</td>\n",
       "      <td>14.10</td>\n",
       "      <td>U_STASIA</td>\n",
       "      <td>PODKARPACKIE</td>\n",
       "      <td>1</td>\n",
       "    </tr>\n",
       "    <tr>\n",
       "      <th>53</th>\n",
       "      <td>2022-05-09</td>\n",
       "      <td>2</td>\n",
       "      <td>1</td>\n",
       "      <td>NaN</td>\n",
       "      <td>14</td>\n",
       "      <td>50.96</td>\n",
       "      <td>U_STASIA</td>\n",
       "      <td>PODKARPACKIE</td>\n",
       "      <td>1</td>\n",
       "    </tr>\n",
       "  </tbody>\n",
       "</table>\n",
       "</div>"
      ],
      "text/plain": [
       "   DZIEN_DATA  SKL_ID  TOW_ID  SPRZ_NETTO  ZYSK_PROCENT  ZYSK_WART   SKL_NAZ  \\\n",
       "46 2022-05-02       2       1         NaN             3      14.10  U_STASIA   \n",
       "53 2022-05-09       2       1         NaN            14      50.96  U_STASIA   \n",
       "\n",
       "         SKL_WOJ   SKL_CYFRA  \n",
       "46  PODKARPACKIE           1  \n",
       "53  PODKARPACKIE           1  "
      ]
     },
     "execution_count": 106,
     "metadata": {},
     "output_type": "execute_result"
    }
   ],
   "source": [
    "dane_sprz_z_KART_SKL_df[dane_sprz_z_KART_SKL_df.isna().any(axis=1)]"
   ]
  },
  {
   "cell_type": "code",
   "execution_count": 39,
   "id": "0e4c564a",
   "metadata": {},
   "outputs": [],
   "source": [
    "## zmatchowalo nam dobrze - nie mamy danych w TOW i SKL ale w sprzedazy mamy, co można  było zaobserwować w SPRZ_NETTO\n",
    "## zwróć uwagę że wiersze 46 i 53 to zawieraja nany \n",
    "##  ## wypełnij średnia z każdej kolumny, każda kolumne"
   ]
  },
  {
   "cell_type": "code",
   "execution_count": 107,
   "id": "1f871c0e",
   "metadata": {},
   "outputs": [
    {
     "data": {
      "text/plain": [
       "397.4736842105263"
      ]
     },
     "execution_count": 107,
     "metadata": {},
     "output_type": "execute_result"
    }
   ],
   "source": [
    "mean = dane_sprz_z_KART_SKL_df.SPRZ_NETTO.mean()"
   ]
  },
  {
   "cell_type": "code",
   "execution_count": 114,
   "id": "b4ede108",
   "metadata": {},
   "outputs": [],
   "source": [
    "dane_sprz_z_KART_SKL_df=dane_sprz_z_KART_SKL_df.fillna(dane_sprz_z_KART_SKL_df.SPRZ_NETTO.mean())"
   ]
  },
  {
   "cell_type": "code",
   "execution_count": 117,
   "id": "df4817c1",
   "metadata": {},
   "outputs": [
    {
     "data": {
      "text/plain": [
       "DZIEN_DATA      2022-05-02 00:00:00\n",
       "SKL_ID                            2\n",
       "TOW_ID                            1\n",
       "SPRZ_NETTO               397.473684\n",
       "ZYSK_PROCENT                      3\n",
       "ZYSK_WART                      14.1\n",
       "SKL_NAZ                    U_STASIA\n",
       "SKL_WOJ                PODKARPACKIE\n",
       " SKL_CYFRA                        1\n",
       "Name: 46, dtype: object"
      ]
     },
     "execution_count": 117,
     "metadata": {},
     "output_type": "execute_result"
    }
   ],
   "source": [
    "dane_sprz_z_KART_SKL_df.iloc[46]"
   ]
  },
  {
   "cell_type": "code",
   "execution_count": 40,
   "id": "8e88563b",
   "metadata": {},
   "outputs": [],
   "source": [
    "## za pomoca isna() any sprawdź czy sa jeszcze jakieś nany"
   ]
  },
  {
   "cell_type": "code",
   "execution_count": 118,
   "id": "9e6ca0f7",
   "metadata": {},
   "outputs": [
    {
     "data": {
      "text/html": [
       "<div>\n",
       "<style scoped>\n",
       "    .dataframe tbody tr th:only-of-type {\n",
       "        vertical-align: middle;\n",
       "    }\n",
       "\n",
       "    .dataframe tbody tr th {\n",
       "        vertical-align: top;\n",
       "    }\n",
       "\n",
       "    .dataframe thead th {\n",
       "        text-align: right;\n",
       "    }\n",
       "</style>\n",
       "<table border=\"1\" class=\"dataframe\">\n",
       "  <thead>\n",
       "    <tr style=\"text-align: right;\">\n",
       "      <th></th>\n",
       "      <th>DZIEN_DATA</th>\n",
       "      <th>SKL_ID</th>\n",
       "      <th>TOW_ID</th>\n",
       "      <th>SPRZ_NETTO</th>\n",
       "      <th>ZYSK_PROCENT</th>\n",
       "      <th>ZYSK_WART</th>\n",
       "      <th>SKL_NAZ</th>\n",
       "      <th>SKL_WOJ</th>\n",
       "      <th>SKL_CYFRA</th>\n",
       "    </tr>\n",
       "  </thead>\n",
       "  <tbody>\n",
       "    <tr>\n",
       "      <th>0</th>\n",
       "      <td>False</td>\n",
       "      <td>False</td>\n",
       "      <td>False</td>\n",
       "      <td>False</td>\n",
       "      <td>False</td>\n",
       "      <td>False</td>\n",
       "      <td>False</td>\n",
       "      <td>False</td>\n",
       "      <td>False</td>\n",
       "    </tr>\n",
       "    <tr>\n",
       "      <th>1</th>\n",
       "      <td>False</td>\n",
       "      <td>False</td>\n",
       "      <td>False</td>\n",
       "      <td>False</td>\n",
       "      <td>False</td>\n",
       "      <td>False</td>\n",
       "      <td>False</td>\n",
       "      <td>False</td>\n",
       "      <td>False</td>\n",
       "    </tr>\n",
       "    <tr>\n",
       "      <th>2</th>\n",
       "      <td>False</td>\n",
       "      <td>False</td>\n",
       "      <td>False</td>\n",
       "      <td>False</td>\n",
       "      <td>False</td>\n",
       "      <td>False</td>\n",
       "      <td>False</td>\n",
       "      <td>False</td>\n",
       "      <td>False</td>\n",
       "    </tr>\n",
       "    <tr>\n",
       "      <th>3</th>\n",
       "      <td>False</td>\n",
       "      <td>False</td>\n",
       "      <td>False</td>\n",
       "      <td>False</td>\n",
       "      <td>False</td>\n",
       "      <td>False</td>\n",
       "      <td>False</td>\n",
       "      <td>False</td>\n",
       "      <td>False</td>\n",
       "    </tr>\n",
       "    <tr>\n",
       "      <th>4</th>\n",
       "      <td>False</td>\n",
       "      <td>False</td>\n",
       "      <td>False</td>\n",
       "      <td>False</td>\n",
       "      <td>False</td>\n",
       "      <td>False</td>\n",
       "      <td>False</td>\n",
       "      <td>False</td>\n",
       "      <td>False</td>\n",
       "    </tr>\n",
       "    <tr>\n",
       "      <th>...</th>\n",
       "      <td>...</td>\n",
       "      <td>...</td>\n",
       "      <td>...</td>\n",
       "      <td>...</td>\n",
       "      <td>...</td>\n",
       "      <td>...</td>\n",
       "      <td>...</td>\n",
       "      <td>...</td>\n",
       "      <td>...</td>\n",
       "    </tr>\n",
       "    <tr>\n",
       "      <th>130</th>\n",
       "      <td>False</td>\n",
       "      <td>False</td>\n",
       "      <td>False</td>\n",
       "      <td>False</td>\n",
       "      <td>False</td>\n",
       "      <td>False</td>\n",
       "      <td>False</td>\n",
       "      <td>False</td>\n",
       "      <td>False</td>\n",
       "    </tr>\n",
       "    <tr>\n",
       "      <th>131</th>\n",
       "      <td>False</td>\n",
       "      <td>False</td>\n",
       "      <td>False</td>\n",
       "      <td>False</td>\n",
       "      <td>False</td>\n",
       "      <td>False</td>\n",
       "      <td>False</td>\n",
       "      <td>False</td>\n",
       "      <td>False</td>\n",
       "    </tr>\n",
       "    <tr>\n",
       "      <th>132</th>\n",
       "      <td>False</td>\n",
       "      <td>False</td>\n",
       "      <td>False</td>\n",
       "      <td>False</td>\n",
       "      <td>False</td>\n",
       "      <td>False</td>\n",
       "      <td>False</td>\n",
       "      <td>False</td>\n",
       "      <td>False</td>\n",
       "    </tr>\n",
       "    <tr>\n",
       "      <th>133</th>\n",
       "      <td>False</td>\n",
       "      <td>False</td>\n",
       "      <td>False</td>\n",
       "      <td>False</td>\n",
       "      <td>False</td>\n",
       "      <td>False</td>\n",
       "      <td>False</td>\n",
       "      <td>False</td>\n",
       "      <td>False</td>\n",
       "    </tr>\n",
       "    <tr>\n",
       "      <th>134</th>\n",
       "      <td>False</td>\n",
       "      <td>False</td>\n",
       "      <td>False</td>\n",
       "      <td>False</td>\n",
       "      <td>False</td>\n",
       "      <td>False</td>\n",
       "      <td>False</td>\n",
       "      <td>False</td>\n",
       "      <td>False</td>\n",
       "    </tr>\n",
       "  </tbody>\n",
       "</table>\n",
       "<p>135 rows × 9 columns</p>\n",
       "</div>"
      ],
      "text/plain": [
       "     DZIEN_DATA  SKL_ID  TOW_ID  SPRZ_NETTO  ZYSK_PROCENT  ZYSK_WART  SKL_NAZ  \\\n",
       "0         False   False   False       False         False      False    False   \n",
       "1         False   False   False       False         False      False    False   \n",
       "2         False   False   False       False         False      False    False   \n",
       "3         False   False   False       False         False      False    False   \n",
       "4         False   False   False       False         False      False    False   \n",
       "..          ...     ...     ...         ...           ...        ...      ...   \n",
       "130       False   False   False       False         False      False    False   \n",
       "131       False   False   False       False         False      False    False   \n",
       "132       False   False   False       False         False      False    False   \n",
       "133       False   False   False       False         False      False    False   \n",
       "134       False   False   False       False         False      False    False   \n",
       "\n",
       "     SKL_WOJ   SKL_CYFRA  \n",
       "0      False       False  \n",
       "1      False       False  \n",
       "2      False       False  \n",
       "3      False       False  \n",
       "4      False       False  \n",
       "..       ...         ...  \n",
       "130    False       False  \n",
       "131    False       False  \n",
       "132    False       False  \n",
       "133    False       False  \n",
       "134    False       False  \n",
       "\n",
       "[135 rows x 9 columns]"
      ]
     },
     "execution_count": 118,
     "metadata": {},
     "output_type": "execute_result"
    }
   ],
   "source": [
    "dane_sprz_z_KART_SKL_df.isna() # pd.isna(dane_sprz_z_KART_SKL_df)"
   ]
  },
  {
   "cell_type": "code",
   "execution_count": 120,
   "id": "ababba06",
   "metadata": {},
   "outputs": [
    {
     "data": {
      "text/html": [
       "<div>\n",
       "<style scoped>\n",
       "    .dataframe tbody tr th:only-of-type {\n",
       "        vertical-align: middle;\n",
       "    }\n",
       "\n",
       "    .dataframe tbody tr th {\n",
       "        vertical-align: top;\n",
       "    }\n",
       "\n",
       "    .dataframe thead th {\n",
       "        text-align: right;\n",
       "    }\n",
       "</style>\n",
       "<table border=\"1\" class=\"dataframe\">\n",
       "  <thead>\n",
       "    <tr style=\"text-align: right;\">\n",
       "      <th></th>\n",
       "      <th>DZIEN_DATA</th>\n",
       "      <th>SKL_ID</th>\n",
       "      <th>TOW_ID</th>\n",
       "      <th>SPRZ_NETTO</th>\n",
       "      <th>ZYSK_PROCENT</th>\n",
       "      <th>ZYSK_WART</th>\n",
       "      <th>SKL_NAZ</th>\n",
       "      <th>SKL_WOJ</th>\n",
       "      <th>SKL_CYFRA</th>\n",
       "    </tr>\n",
       "  </thead>\n",
       "  <tbody>\n",
       "  </tbody>\n",
       "</table>\n",
       "</div>"
      ],
      "text/plain": [
       "Empty DataFrame\n",
       "Columns: [DZIEN_DATA, SKL_ID, TOW_ID, SPRZ_NETTO, ZYSK_PROCENT, ZYSK_WART, SKL_NAZ, SKL_WOJ,  SKL_CYFRA]\n",
       "Index: []"
      ]
     },
     "execution_count": 120,
     "metadata": {},
     "output_type": "execute_result"
    }
   ],
   "source": [
    "dane_sprz_z_KART_SKL_df[dane_sprz_z_KART_SKL_df.isna().any(axis=1)]"
   ]
  },
  {
   "cell_type": "code",
   "execution_count": 41,
   "id": "bf04223d",
   "metadata": {},
   "outputs": [],
   "source": [
    "## wyświetl wiersz z indeksem jako 46:47"
   ]
  },
  {
   "cell_type": "code",
   "execution_count": 123,
   "id": "8ac93d2c",
   "metadata": {},
   "outputs": [
    {
     "data": {
      "text/html": [
       "<div>\n",
       "<style scoped>\n",
       "    .dataframe tbody tr th:only-of-type {\n",
       "        vertical-align: middle;\n",
       "    }\n",
       "\n",
       "    .dataframe tbody tr th {\n",
       "        vertical-align: top;\n",
       "    }\n",
       "\n",
       "    .dataframe thead th {\n",
       "        text-align: right;\n",
       "    }\n",
       "</style>\n",
       "<table border=\"1\" class=\"dataframe\">\n",
       "  <thead>\n",
       "    <tr style=\"text-align: right;\">\n",
       "      <th></th>\n",
       "      <th>DZIEN_DATA</th>\n",
       "      <th>SKL_ID</th>\n",
       "      <th>TOW_ID</th>\n",
       "      <th>SPRZ_NETTO</th>\n",
       "      <th>ZYSK_PROCENT</th>\n",
       "      <th>ZYSK_WART</th>\n",
       "      <th>SKL_NAZ</th>\n",
       "      <th>SKL_WOJ</th>\n",
       "      <th>SKL_CYFRA</th>\n",
       "    </tr>\n",
       "  </thead>\n",
       "  <tbody>\n",
       "    <tr>\n",
       "      <th>46</th>\n",
       "      <td>2022-05-02</td>\n",
       "      <td>2</td>\n",
       "      <td>1</td>\n",
       "      <td>397.473684</td>\n",
       "      <td>3</td>\n",
       "      <td>14.10</td>\n",
       "      <td>U_STASIA</td>\n",
       "      <td>PODKARPACKIE</td>\n",
       "      <td>1</td>\n",
       "    </tr>\n",
       "    <tr>\n",
       "      <th>47</th>\n",
       "      <td>2022-05-03</td>\n",
       "      <td>2</td>\n",
       "      <td>1</td>\n",
       "      <td>386.000000</td>\n",
       "      <td>7</td>\n",
       "      <td>27.02</td>\n",
       "      <td>U_STASIA</td>\n",
       "      <td>PODKARPACKIE</td>\n",
       "      <td>1</td>\n",
       "    </tr>\n",
       "  </tbody>\n",
       "</table>\n",
       "</div>"
      ],
      "text/plain": [
       "   DZIEN_DATA  SKL_ID  TOW_ID  SPRZ_NETTO  ZYSK_PROCENT  ZYSK_WART   SKL_NAZ  \\\n",
       "46 2022-05-02       2       1  397.473684             3      14.10  U_STASIA   \n",
       "47 2022-05-03       2       1  386.000000             7      27.02  U_STASIA   \n",
       "\n",
       "         SKL_WOJ   SKL_CYFRA  \n",
       "46  PODKARPACKIE           1  \n",
       "47  PODKARPACKIE           1  "
      ]
     },
     "execution_count": 123,
     "metadata": {},
     "output_type": "execute_result"
    }
   ],
   "source": [
    "dane_sprz_z_KART_SKL_df[46:48]"
   ]
  },
  {
   "cell_type": "code",
   "execution_count": 42,
   "id": "0e346b04",
   "metadata": {},
   "outputs": [],
   "source": [
    " ## mamy średnia - wynik nie jest integerem"
   ]
  },
  {
   "cell_type": "code",
   "execution_count": 43,
   "id": "5db49c11",
   "metadata": {},
   "outputs": [],
   "source": [
    "## wyświetl wiersz z indeksem jako 43:49"
   ]
  },
  {
   "cell_type": "code",
   "execution_count": 124,
   "id": "4159696f",
   "metadata": {},
   "outputs": [
    {
     "data": {
      "text/html": [
       "<div>\n",
       "<style scoped>\n",
       "    .dataframe tbody tr th:only-of-type {\n",
       "        vertical-align: middle;\n",
       "    }\n",
       "\n",
       "    .dataframe tbody tr th {\n",
       "        vertical-align: top;\n",
       "    }\n",
       "\n",
       "    .dataframe thead th {\n",
       "        text-align: right;\n",
       "    }\n",
       "</style>\n",
       "<table border=\"1\" class=\"dataframe\">\n",
       "  <thead>\n",
       "    <tr style=\"text-align: right;\">\n",
       "      <th></th>\n",
       "      <th>DZIEN_DATA</th>\n",
       "      <th>SKL_ID</th>\n",
       "      <th>TOW_ID</th>\n",
       "      <th>SPRZ_NETTO</th>\n",
       "      <th>ZYSK_PROCENT</th>\n",
       "      <th>ZYSK_WART</th>\n",
       "      <th>SKL_NAZ</th>\n",
       "      <th>SKL_WOJ</th>\n",
       "      <th>SKL_CYFRA</th>\n",
       "    </tr>\n",
       "  </thead>\n",
       "  <tbody>\n",
       "    <tr>\n",
       "      <th>43</th>\n",
       "      <td>2022-05-14</td>\n",
       "      <td>1</td>\n",
       "      <td>3</td>\n",
       "      <td>470.000000</td>\n",
       "      <td>15</td>\n",
       "      <td>70.50</td>\n",
       "      <td>U_WERONIKI</td>\n",
       "      <td>LUBELSKIE</td>\n",
       "      <td>1</td>\n",
       "    </tr>\n",
       "    <tr>\n",
       "      <th>44</th>\n",
       "      <td>2022-05-15</td>\n",
       "      <td>1</td>\n",
       "      <td>3</td>\n",
       "      <td>459.000000</td>\n",
       "      <td>14</td>\n",
       "      <td>64.26</td>\n",
       "      <td>U_WERONIKI</td>\n",
       "      <td>LUBELSKIE</td>\n",
       "      <td>1</td>\n",
       "    </tr>\n",
       "    <tr>\n",
       "      <th>45</th>\n",
       "      <td>2022-05-01</td>\n",
       "      <td>2</td>\n",
       "      <td>1</td>\n",
       "      <td>330.000000</td>\n",
       "      <td>15</td>\n",
       "      <td>49.50</td>\n",
       "      <td>U_STASIA</td>\n",
       "      <td>PODKARPACKIE</td>\n",
       "      <td>1</td>\n",
       "    </tr>\n",
       "    <tr>\n",
       "      <th>46</th>\n",
       "      <td>2022-05-02</td>\n",
       "      <td>2</td>\n",
       "      <td>1</td>\n",
       "      <td>397.473684</td>\n",
       "      <td>3</td>\n",
       "      <td>14.10</td>\n",
       "      <td>U_STASIA</td>\n",
       "      <td>PODKARPACKIE</td>\n",
       "      <td>1</td>\n",
       "    </tr>\n",
       "    <tr>\n",
       "      <th>47</th>\n",
       "      <td>2022-05-03</td>\n",
       "      <td>2</td>\n",
       "      <td>1</td>\n",
       "      <td>386.000000</td>\n",
       "      <td>7</td>\n",
       "      <td>27.02</td>\n",
       "      <td>U_STASIA</td>\n",
       "      <td>PODKARPACKIE</td>\n",
       "      <td>1</td>\n",
       "    </tr>\n",
       "    <tr>\n",
       "      <th>48</th>\n",
       "      <td>2022-05-04</td>\n",
       "      <td>2</td>\n",
       "      <td>1</td>\n",
       "      <td>442.000000</td>\n",
       "      <td>5</td>\n",
       "      <td>22.10</td>\n",
       "      <td>U_STASIA</td>\n",
       "      <td>PODKARPACKIE</td>\n",
       "      <td>1</td>\n",
       "    </tr>\n",
       "    <tr>\n",
       "      <th>49</th>\n",
       "      <td>2022-05-05</td>\n",
       "      <td>2</td>\n",
       "      <td>1</td>\n",
       "      <td>300.000000</td>\n",
       "      <td>4</td>\n",
       "      <td>12.00</td>\n",
       "      <td>U_STASIA</td>\n",
       "      <td>PODKARPACKIE</td>\n",
       "      <td>1</td>\n",
       "    </tr>\n",
       "  </tbody>\n",
       "</table>\n",
       "</div>"
      ],
      "text/plain": [
       "   DZIEN_DATA  SKL_ID  TOW_ID  SPRZ_NETTO  ZYSK_PROCENT  ZYSK_WART  \\\n",
       "43 2022-05-14       1       3  470.000000            15      70.50   \n",
       "44 2022-05-15       1       3  459.000000            14      64.26   \n",
       "45 2022-05-01       2       1  330.000000            15      49.50   \n",
       "46 2022-05-02       2       1  397.473684             3      14.10   \n",
       "47 2022-05-03       2       1  386.000000             7      27.02   \n",
       "48 2022-05-04       2       1  442.000000             5      22.10   \n",
       "49 2022-05-05       2       1  300.000000             4      12.00   \n",
       "\n",
       "       SKL_NAZ       SKL_WOJ   SKL_CYFRA  \n",
       "43  U_WERONIKI     LUBELSKIE           1  \n",
       "44  U_WERONIKI     LUBELSKIE           1  \n",
       "45    U_STASIA  PODKARPACKIE           1  \n",
       "46    U_STASIA  PODKARPACKIE           1  \n",
       "47    U_STASIA  PODKARPACKIE           1  \n",
       "48    U_STASIA  PODKARPACKIE           1  \n",
       "49    U_STASIA  PODKARPACKIE           1  "
      ]
     },
     "execution_count": 124,
     "metadata": {},
     "output_type": "execute_result"
    }
   ],
   "source": [
    "dane_sprz_z_KART_SKL_df[43:50]"
   ]
  },
  {
   "cell_type": "code",
   "execution_count": 44,
   "id": "42fb75e5",
   "metadata": {},
   "outputs": [],
   "source": [
    " ## nawet wstrzeliliśmy sie"
   ]
  },
  {
   "cell_type": "code",
   "execution_count": 45,
   "id": "74a00baa",
   "metadata": {},
   "outputs": [],
   "source": [
    "## jakie moga byc inne wypełnienia?"
   ]
  },
  {
   "cell_type": "code",
   "execution_count": 46,
   "id": "33080492",
   "metadata": {},
   "outputs": [],
   "source": [
    "### dodajmy kolumne wyliczajaca SPRZ_NETTO - ZYSK_WART nazywajac ja KOSZTEM"
   ]
  },
  {
   "cell_type": "code",
   "execution_count": 135,
   "id": "ae1a8708",
   "metadata": {},
   "outputs": [],
   "source": [
    "dane_sprz_z_KART_SKL_df['KOSZT'] = dane_sprz_z_KART_SKL_df['SPRZ_NETTO'] - dane_sprz_z_KART_SKL_df['ZYSK_WART']"
   ]
  },
  {
   "cell_type": "code",
   "execution_count": 168,
   "id": "29ff400b",
   "metadata": {},
   "outputs": [],
   "source": [
    "dane_sprz_z_TOW_ID_df['KOSZT'] = dane_sprz_z_TOW_ID_df['SPRZ_NETTO'] - dane_sprz_z_TOW_ID_df['ZYSK_WART']"
   ]
  },
  {
   "cell_type": "code",
   "execution_count": 136,
   "id": "94336d5c",
   "metadata": {},
   "outputs": [
    {
     "data": {
      "text/html": [
       "<div>\n",
       "<style scoped>\n",
       "    .dataframe tbody tr th:only-of-type {\n",
       "        vertical-align: middle;\n",
       "    }\n",
       "\n",
       "    .dataframe tbody tr th {\n",
       "        vertical-align: top;\n",
       "    }\n",
       "\n",
       "    .dataframe thead th {\n",
       "        text-align: right;\n",
       "    }\n",
       "</style>\n",
       "<table border=\"1\" class=\"dataframe\">\n",
       "  <thead>\n",
       "    <tr style=\"text-align: right;\">\n",
       "      <th></th>\n",
       "      <th>DZIEN_DATA</th>\n",
       "      <th>SKL_ID</th>\n",
       "      <th>TOW_ID</th>\n",
       "      <th>SPRZ_NETTO</th>\n",
       "      <th>ZYSK_PROCENT</th>\n",
       "      <th>ZYSK_WART</th>\n",
       "      <th>SKL_NAZ</th>\n",
       "      <th>SKL_WOJ</th>\n",
       "      <th>SKL_CYFRA</th>\n",
       "      <th>KOSZT</th>\n",
       "    </tr>\n",
       "  </thead>\n",
       "  <tbody>\n",
       "    <tr>\n",
       "      <th>0</th>\n",
       "      <td>2022-05-01</td>\n",
       "      <td>1</td>\n",
       "      <td>1</td>\n",
       "      <td>416.0</td>\n",
       "      <td>9</td>\n",
       "      <td>37.44</td>\n",
       "      <td>U_WERONIKI</td>\n",
       "      <td>LUBELSKIE</td>\n",
       "      <td>1</td>\n",
       "      <td>378.56</td>\n",
       "    </tr>\n",
       "    <tr>\n",
       "      <th>1</th>\n",
       "      <td>2022-05-02</td>\n",
       "      <td>1</td>\n",
       "      <td>1</td>\n",
       "      <td>454.0</td>\n",
       "      <td>2</td>\n",
       "      <td>9.08</td>\n",
       "      <td>U_WERONIKI</td>\n",
       "      <td>LUBELSKIE</td>\n",
       "      <td>1</td>\n",
       "      <td>444.92</td>\n",
       "    </tr>\n",
       "    <tr>\n",
       "      <th>2</th>\n",
       "      <td>2022-05-03</td>\n",
       "      <td>1</td>\n",
       "      <td>1</td>\n",
       "      <td>392.0</td>\n",
       "      <td>13</td>\n",
       "      <td>50.96</td>\n",
       "      <td>U_WERONIKI</td>\n",
       "      <td>LUBELSKIE</td>\n",
       "      <td>1</td>\n",
       "      <td>341.04</td>\n",
       "    </tr>\n",
       "    <tr>\n",
       "      <th>3</th>\n",
       "      <td>2022-05-04</td>\n",
       "      <td>1</td>\n",
       "      <td>1</td>\n",
       "      <td>498.0</td>\n",
       "      <td>9</td>\n",
       "      <td>44.82</td>\n",
       "      <td>U_WERONIKI</td>\n",
       "      <td>LUBELSKIE</td>\n",
       "      <td>1</td>\n",
       "      <td>453.18</td>\n",
       "    </tr>\n",
       "    <tr>\n",
       "      <th>4</th>\n",
       "      <td>2022-05-05</td>\n",
       "      <td>1</td>\n",
       "      <td>1</td>\n",
       "      <td>341.0</td>\n",
       "      <td>15</td>\n",
       "      <td>51.15</td>\n",
       "      <td>U_WERONIKI</td>\n",
       "      <td>LUBELSKIE</td>\n",
       "      <td>1</td>\n",
       "      <td>289.85</td>\n",
       "    </tr>\n",
       "    <tr>\n",
       "      <th>...</th>\n",
       "      <td>...</td>\n",
       "      <td>...</td>\n",
       "      <td>...</td>\n",
       "      <td>...</td>\n",
       "      <td>...</td>\n",
       "      <td>...</td>\n",
       "      <td>...</td>\n",
       "      <td>...</td>\n",
       "      <td>...</td>\n",
       "      <td>...</td>\n",
       "    </tr>\n",
       "    <tr>\n",
       "      <th>130</th>\n",
       "      <td>2022-05-11</td>\n",
       "      <td>3</td>\n",
       "      <td>3</td>\n",
       "      <td>374.0</td>\n",
       "      <td>7</td>\n",
       "      <td>26.18</td>\n",
       "      <td>U_PAWLA</td>\n",
       "      <td>PODKARPACKIE</td>\n",
       "      <td>1</td>\n",
       "      <td>347.82</td>\n",
       "    </tr>\n",
       "    <tr>\n",
       "      <th>131</th>\n",
       "      <td>2022-05-12</td>\n",
       "      <td>3</td>\n",
       "      <td>3</td>\n",
       "      <td>390.0</td>\n",
       "      <td>4</td>\n",
       "      <td>15.60</td>\n",
       "      <td>U_PAWLA</td>\n",
       "      <td>PODKARPACKIE</td>\n",
       "      <td>1</td>\n",
       "      <td>374.40</td>\n",
       "    </tr>\n",
       "    <tr>\n",
       "      <th>132</th>\n",
       "      <td>2022-05-13</td>\n",
       "      <td>3</td>\n",
       "      <td>3</td>\n",
       "      <td>485.0</td>\n",
       "      <td>10</td>\n",
       "      <td>48.50</td>\n",
       "      <td>U_PAWLA</td>\n",
       "      <td>PODKARPACKIE</td>\n",
       "      <td>1</td>\n",
       "      <td>436.50</td>\n",
       "    </tr>\n",
       "    <tr>\n",
       "      <th>133</th>\n",
       "      <td>2022-05-14</td>\n",
       "      <td>3</td>\n",
       "      <td>3</td>\n",
       "      <td>479.0</td>\n",
       "      <td>3</td>\n",
       "      <td>14.37</td>\n",
       "      <td>U_PAWLA</td>\n",
       "      <td>PODKARPACKIE</td>\n",
       "      <td>1</td>\n",
       "      <td>464.63</td>\n",
       "    </tr>\n",
       "    <tr>\n",
       "      <th>134</th>\n",
       "      <td>2022-05-15</td>\n",
       "      <td>3</td>\n",
       "      <td>3</td>\n",
       "      <td>366.0</td>\n",
       "      <td>13</td>\n",
       "      <td>47.58</td>\n",
       "      <td>U_PAWLA</td>\n",
       "      <td>PODKARPACKIE</td>\n",
       "      <td>1</td>\n",
       "      <td>318.42</td>\n",
       "    </tr>\n",
       "  </tbody>\n",
       "</table>\n",
       "<p>135 rows × 10 columns</p>\n",
       "</div>"
      ],
      "text/plain": [
       "    DZIEN_DATA  SKL_ID  TOW_ID  SPRZ_NETTO  ZYSK_PROCENT  ZYSK_WART  \\\n",
       "0   2022-05-01       1       1       416.0             9      37.44   \n",
       "1   2022-05-02       1       1       454.0             2       9.08   \n",
       "2   2022-05-03       1       1       392.0            13      50.96   \n",
       "3   2022-05-04       1       1       498.0             9      44.82   \n",
       "4   2022-05-05       1       1       341.0            15      51.15   \n",
       "..         ...     ...     ...         ...           ...        ...   \n",
       "130 2022-05-11       3       3       374.0             7      26.18   \n",
       "131 2022-05-12       3       3       390.0             4      15.60   \n",
       "132 2022-05-13       3       3       485.0            10      48.50   \n",
       "133 2022-05-14       3       3       479.0             3      14.37   \n",
       "134 2022-05-15       3       3       366.0            13      47.58   \n",
       "\n",
       "        SKL_NAZ       SKL_WOJ   SKL_CYFRA   KOSZT  \n",
       "0    U_WERONIKI     LUBELSKIE           1  378.56  \n",
       "1    U_WERONIKI     LUBELSKIE           1  444.92  \n",
       "2    U_WERONIKI     LUBELSKIE           1  341.04  \n",
       "3    U_WERONIKI     LUBELSKIE           1  453.18  \n",
       "4    U_WERONIKI     LUBELSKIE           1  289.85  \n",
       "..          ...           ...         ...     ...  \n",
       "130     U_PAWLA  PODKARPACKIE           1  347.82  \n",
       "131     U_PAWLA  PODKARPACKIE           1  374.40  \n",
       "132     U_PAWLA  PODKARPACKIE           1  436.50  \n",
       "133     U_PAWLA  PODKARPACKIE           1  464.63  \n",
       "134     U_PAWLA  PODKARPACKIE           1  318.42  \n",
       "\n",
       "[135 rows x 10 columns]"
      ]
     },
     "execution_count": 136,
     "metadata": {},
     "output_type": "execute_result"
    }
   ],
   "source": [
    "dane_sprz_z_KART_SKL_df"
   ]
  },
  {
   "cell_type": "code",
   "execution_count": 47,
   "id": "53da9c35",
   "metadata": {},
   "outputs": [],
   "source": [
    "## sprawdzmy unikatowośc kolumny SKL_CYFRA"
   ]
  },
  {
   "cell_type": "code",
   "execution_count": null,
   "id": "db3f0e6c",
   "metadata": {},
   "outputs": [],
   "source": [
    "dane_sprz_z_KART_SKL_df.SKL_CYFRA.unique()"
   ]
  },
  {
   "cell_type": "code",
   "execution_count": 48,
   "id": "37c0abda",
   "metadata": {},
   "outputs": [],
   "source": [
    "# dane_spr['SKL_CYFRA'] ## bład"
   ]
  },
  {
   "cell_type": "code",
   "execution_count": 49,
   "id": "fa133b97",
   "metadata": {},
   "outputs": [],
   "source": [
    "### wyskoczył bład? Sprawdz nazwy kolumn :) Czy gdzieś sie nie zawieruszyły spacje?"
   ]
  },
  {
   "cell_type": "code",
   "execution_count": 145,
   "id": "a7bd973b",
   "metadata": {},
   "outputs": [
    {
     "data": {
      "text/plain": [
       "Index(['DZIEN_DATA', 'SKL_ID', 'TOW_ID', 'SPRZ_NETTO', 'ZYSK_PROCENT',\n",
       "       'ZYSK_WART', 'SKL_NAZ', 'SKL_WOJ', ' SKL_CYFRA', 'KOSZT'],\n",
       "      dtype='object')"
      ]
     },
     "execution_count": 145,
     "metadata": {},
     "output_type": "execute_result"
    }
   ],
   "source": [
    "dane_sprz_z_KART_SKL_df.columns"
   ]
  },
  {
   "cell_type": "code",
   "execution_count": null,
   "id": "d529d2fb",
   "metadata": {},
   "outputs": [],
   "source": [
    "dane_sprz_z_KART_SKL_df.info()"
   ]
  },
  {
   "cell_type": "code",
   "execution_count": 50,
   "id": "1fc43b9d",
   "metadata": {},
   "outputs": [],
   "source": [
    "## zrób liste z poprawnymi kolumnami "
   ]
  },
  {
   "cell_type": "code",
   "execution_count": 146,
   "id": "9fac10a1",
   "metadata": {},
   "outputs": [
    {
     "data": {
      "text/plain": [
       "0      1\n",
       "1      1\n",
       "2      1\n",
       "3      1\n",
       "4      1\n",
       "      ..\n",
       "130    1\n",
       "131    1\n",
       "132    1\n",
       "133    1\n",
       "134    1\n",
       "Name:  SKL_CYFRA, Length: 135, dtype: int64"
      ]
     },
     "execution_count": 146,
     "metadata": {},
     "output_type": "execute_result"
    }
   ],
   "source": [
    "dane_sprz_z_KART_SKL_df[' SKL_CYFRA']"
   ]
  },
  {
   "cell_type": "code",
   "execution_count": 51,
   "id": "228c9b67",
   "metadata": {},
   "outputs": [],
   "source": [
    "## przuporzadkuj kolumny"
   ]
  },
  {
   "cell_type": "code",
   "execution_count": 148,
   "id": "b664ccbe",
   "metadata": {},
   "outputs": [],
   "source": [
    "dane_sprz_z_KART_SKL_df=dane_sprz_z_KART_SKL_df.rename(columns = {' SKL_CYFRA': 'SKL_CYFRA'})\n",
    "# dane_sprz_z_KART_SKL_df.columns = ['DZIEN_DATA', 'SKL_ID', 'TOW_ID', 'SPRZ_NETTO', 'ZYSK_PROCENT',\n",
    "#                                    'ZYSK_WART', 'SKL_NAZ', 'SKL_WOJ', ' SKL_CYFRA', 'KOSZT']"
   ]
  },
  {
   "cell_type": "code",
   "execution_count": 150,
   "id": "597b75ac",
   "metadata": {},
   "outputs": [
    {
     "data": {
      "text/plain": [
       "Index(['DZIEN_DATA', 'SKL_ID', 'TOW_ID', 'SPRZ_NETTO', 'ZYSK_PROCENT',\n",
       "       'ZYSK_WART', 'SKL_NAZ', 'SKL_WOJ', 'SKL_CYFRA', 'KOSZT'],\n",
       "      dtype='object')"
      ]
     },
     "execution_count": 150,
     "metadata": {},
     "output_type": "execute_result"
    }
   ],
   "source": [
    "dane_sprz_z_KART_SKL_df.columns"
   ]
  },
  {
   "cell_type": "code",
   "execution_count": 52,
   "id": "03cdaab3",
   "metadata": {},
   "outputs": [],
   "source": [
    "## wyświetl kolumne z poprawna nazwa"
   ]
  },
  {
   "cell_type": "code",
   "execution_count": 151,
   "id": "272d006a",
   "metadata": {},
   "outputs": [
    {
     "data": {
      "text/plain": [
       "0      1\n",
       "1      1\n",
       "2      1\n",
       "3      1\n",
       "4      1\n",
       "      ..\n",
       "130    1\n",
       "131    1\n",
       "132    1\n",
       "133    1\n",
       "134    1\n",
       "Name: SKL_CYFRA, Length: 135, dtype: int64"
      ]
     },
     "execution_count": 151,
     "metadata": {},
     "output_type": "execute_result"
    }
   ],
   "source": [
    "dane_sprz_z_KART_SKL_df['SKL_CYFRA']"
   ]
  },
  {
   "cell_type": "code",
   "execution_count": 53,
   "id": "8d65548d",
   "metadata": {},
   "outputs": [],
   "source": [
    "## usunmy ta kolumne - nic nie wnosi - ma same jedynki \n",
    "## usuń kolumne SKL_CYFRA"
   ]
  },
  {
   "cell_type": "code",
   "execution_count": 152,
   "id": "e3e26a6a",
   "metadata": {},
   "outputs": [],
   "source": [
    "dane_sprz_z_KART_SKL_df=dane_sprz_z_KART_SKL_df.drop(['SKL_CYFRA'], axis=1)"
   ]
  },
  {
   "cell_type": "code",
   "execution_count": 153,
   "id": "9e0c61df",
   "metadata": {},
   "outputs": [
    {
     "data": {
      "text/html": [
       "<div>\n",
       "<style scoped>\n",
       "    .dataframe tbody tr th:only-of-type {\n",
       "        vertical-align: middle;\n",
       "    }\n",
       "\n",
       "    .dataframe tbody tr th {\n",
       "        vertical-align: top;\n",
       "    }\n",
       "\n",
       "    .dataframe thead th {\n",
       "        text-align: right;\n",
       "    }\n",
       "</style>\n",
       "<table border=\"1\" class=\"dataframe\">\n",
       "  <thead>\n",
       "    <tr style=\"text-align: right;\">\n",
       "      <th></th>\n",
       "      <th>DZIEN_DATA</th>\n",
       "      <th>SKL_ID</th>\n",
       "      <th>TOW_ID</th>\n",
       "      <th>SPRZ_NETTO</th>\n",
       "      <th>ZYSK_PROCENT</th>\n",
       "      <th>ZYSK_WART</th>\n",
       "      <th>SKL_NAZ</th>\n",
       "      <th>SKL_WOJ</th>\n",
       "      <th>KOSZT</th>\n",
       "    </tr>\n",
       "  </thead>\n",
       "  <tbody>\n",
       "    <tr>\n",
       "      <th>0</th>\n",
       "      <td>2022-05-01</td>\n",
       "      <td>1</td>\n",
       "      <td>1</td>\n",
       "      <td>416.0</td>\n",
       "      <td>9</td>\n",
       "      <td>37.44</td>\n",
       "      <td>U_WERONIKI</td>\n",
       "      <td>LUBELSKIE</td>\n",
       "      <td>378.56</td>\n",
       "    </tr>\n",
       "    <tr>\n",
       "      <th>1</th>\n",
       "      <td>2022-05-02</td>\n",
       "      <td>1</td>\n",
       "      <td>1</td>\n",
       "      <td>454.0</td>\n",
       "      <td>2</td>\n",
       "      <td>9.08</td>\n",
       "      <td>U_WERONIKI</td>\n",
       "      <td>LUBELSKIE</td>\n",
       "      <td>444.92</td>\n",
       "    </tr>\n",
       "    <tr>\n",
       "      <th>2</th>\n",
       "      <td>2022-05-03</td>\n",
       "      <td>1</td>\n",
       "      <td>1</td>\n",
       "      <td>392.0</td>\n",
       "      <td>13</td>\n",
       "      <td>50.96</td>\n",
       "      <td>U_WERONIKI</td>\n",
       "      <td>LUBELSKIE</td>\n",
       "      <td>341.04</td>\n",
       "    </tr>\n",
       "    <tr>\n",
       "      <th>3</th>\n",
       "      <td>2022-05-04</td>\n",
       "      <td>1</td>\n",
       "      <td>1</td>\n",
       "      <td>498.0</td>\n",
       "      <td>9</td>\n",
       "      <td>44.82</td>\n",
       "      <td>U_WERONIKI</td>\n",
       "      <td>LUBELSKIE</td>\n",
       "      <td>453.18</td>\n",
       "    </tr>\n",
       "    <tr>\n",
       "      <th>4</th>\n",
       "      <td>2022-05-05</td>\n",
       "      <td>1</td>\n",
       "      <td>1</td>\n",
       "      <td>341.0</td>\n",
       "      <td>15</td>\n",
       "      <td>51.15</td>\n",
       "      <td>U_WERONIKI</td>\n",
       "      <td>LUBELSKIE</td>\n",
       "      <td>289.85</td>\n",
       "    </tr>\n",
       "    <tr>\n",
       "      <th>...</th>\n",
       "      <td>...</td>\n",
       "      <td>...</td>\n",
       "      <td>...</td>\n",
       "      <td>...</td>\n",
       "      <td>...</td>\n",
       "      <td>...</td>\n",
       "      <td>...</td>\n",
       "      <td>...</td>\n",
       "      <td>...</td>\n",
       "    </tr>\n",
       "    <tr>\n",
       "      <th>130</th>\n",
       "      <td>2022-05-11</td>\n",
       "      <td>3</td>\n",
       "      <td>3</td>\n",
       "      <td>374.0</td>\n",
       "      <td>7</td>\n",
       "      <td>26.18</td>\n",
       "      <td>U_PAWLA</td>\n",
       "      <td>PODKARPACKIE</td>\n",
       "      <td>347.82</td>\n",
       "    </tr>\n",
       "    <tr>\n",
       "      <th>131</th>\n",
       "      <td>2022-05-12</td>\n",
       "      <td>3</td>\n",
       "      <td>3</td>\n",
       "      <td>390.0</td>\n",
       "      <td>4</td>\n",
       "      <td>15.60</td>\n",
       "      <td>U_PAWLA</td>\n",
       "      <td>PODKARPACKIE</td>\n",
       "      <td>374.40</td>\n",
       "    </tr>\n",
       "    <tr>\n",
       "      <th>132</th>\n",
       "      <td>2022-05-13</td>\n",
       "      <td>3</td>\n",
       "      <td>3</td>\n",
       "      <td>485.0</td>\n",
       "      <td>10</td>\n",
       "      <td>48.50</td>\n",
       "      <td>U_PAWLA</td>\n",
       "      <td>PODKARPACKIE</td>\n",
       "      <td>436.50</td>\n",
       "    </tr>\n",
       "    <tr>\n",
       "      <th>133</th>\n",
       "      <td>2022-05-14</td>\n",
       "      <td>3</td>\n",
       "      <td>3</td>\n",
       "      <td>479.0</td>\n",
       "      <td>3</td>\n",
       "      <td>14.37</td>\n",
       "      <td>U_PAWLA</td>\n",
       "      <td>PODKARPACKIE</td>\n",
       "      <td>464.63</td>\n",
       "    </tr>\n",
       "    <tr>\n",
       "      <th>134</th>\n",
       "      <td>2022-05-15</td>\n",
       "      <td>3</td>\n",
       "      <td>3</td>\n",
       "      <td>366.0</td>\n",
       "      <td>13</td>\n",
       "      <td>47.58</td>\n",
       "      <td>U_PAWLA</td>\n",
       "      <td>PODKARPACKIE</td>\n",
       "      <td>318.42</td>\n",
       "    </tr>\n",
       "  </tbody>\n",
       "</table>\n",
       "<p>135 rows × 9 columns</p>\n",
       "</div>"
      ],
      "text/plain": [
       "    DZIEN_DATA  SKL_ID  TOW_ID  SPRZ_NETTO  ZYSK_PROCENT  ZYSK_WART  \\\n",
       "0   2022-05-01       1       1       416.0             9      37.44   \n",
       "1   2022-05-02       1       1       454.0             2       9.08   \n",
       "2   2022-05-03       1       1       392.0            13      50.96   \n",
       "3   2022-05-04       1       1       498.0             9      44.82   \n",
       "4   2022-05-05       1       1       341.0            15      51.15   \n",
       "..         ...     ...     ...         ...           ...        ...   \n",
       "130 2022-05-11       3       3       374.0             7      26.18   \n",
       "131 2022-05-12       3       3       390.0             4      15.60   \n",
       "132 2022-05-13       3       3       485.0            10      48.50   \n",
       "133 2022-05-14       3       3       479.0             3      14.37   \n",
       "134 2022-05-15       3       3       366.0            13      47.58   \n",
       "\n",
       "        SKL_NAZ       SKL_WOJ   KOSZT  \n",
       "0    U_WERONIKI     LUBELSKIE  378.56  \n",
       "1    U_WERONIKI     LUBELSKIE  444.92  \n",
       "2    U_WERONIKI     LUBELSKIE  341.04  \n",
       "3    U_WERONIKI     LUBELSKIE  453.18  \n",
       "4    U_WERONIKI     LUBELSKIE  289.85  \n",
       "..          ...           ...     ...  \n",
       "130     U_PAWLA  PODKARPACKIE  347.82  \n",
       "131     U_PAWLA  PODKARPACKIE  374.40  \n",
       "132     U_PAWLA  PODKARPACKIE  436.50  \n",
       "133     U_PAWLA  PODKARPACKIE  464.63  \n",
       "134     U_PAWLA  PODKARPACKIE  318.42  \n",
       "\n",
       "[135 rows x 9 columns]"
      ]
     },
     "execution_count": 153,
     "metadata": {},
     "output_type": "execute_result"
    }
   ],
   "source": [
    "dane_sprz_z_KART_SKL_df"
   ]
  },
  {
   "cell_type": "code",
   "execution_count": 54,
   "id": "fe504ad9",
   "metadata": {},
   "outputs": [],
   "source": [
    "### a teraz sprawdźmy jaka jest średnia SPRZ_NETTO, ZYSK_PROCENT, ZYSK_WART i KOSZT dla TOW_NAZWA\n",
    "### zrób groupby dla TOW_NAZWA z agregacja mean - wyświetl tylko kolumny agregowane"
   ]
  },
  {
   "cell_type": "code",
   "execution_count": 165,
   "id": "f1d5a332",
   "metadata": {},
   "outputs": [
    {
     "data": {
      "text/plain": [
       "397.4736842105263"
      ]
     },
     "execution_count": 165,
     "metadata": {},
     "output_type": "execute_result"
    }
   ],
   "source": [
    "dane_sprz_z_TOW_ID_df.SPRZ_NETTO.mean()"
   ]
  },
  {
   "cell_type": "code",
   "execution_count": 160,
   "id": "d6a28ce4",
   "metadata": {},
   "outputs": [
    {
     "data": {
      "text/plain": [
       "TOW_ID\n",
       "1    399.132164\n",
       "2    385.822222\n",
       "3    407.466667\n",
       "Name: SPRZ_NETTO, dtype: float64"
      ]
     },
     "execution_count": 160,
     "metadata": {},
     "output_type": "execute_result"
    }
   ],
   "source": [
    "TOW_ID_mean = dane_sprz_z_TOW_ID_df.SPRZ.groupby('TOW_NAZWA').SPRZ_NETTO.mean()\n",
    "TOW_ID_mean"
   ]
  },
  {
   "cell_type": "code",
   "execution_count": 169,
   "id": "4061cc88",
   "metadata": {},
   "outputs": [
    {
     "name": "stderr",
     "output_type": "stream",
     "text": [
      "C:\\Users\\AsusF512ua-ej269t\\AppData\\Local\\Temp\\ipykernel_8380\\1632287826.py:1: FutureWarning: The default value of numeric_only in DataFrameGroupBy.mean is deprecated. In a future version, numeric_only will default to False. Either specify numeric_only or select only columns which should be valid for the function.\n",
      "  TOW_ID_mean_2 = dane_sprz_z_TOW_ID_df.groupby(['TOW_NAZWA']).mean()\n"
     ]
    },
    {
     "data": {
      "text/html": [
       "<div>\n",
       "<style scoped>\n",
       "    .dataframe tbody tr th:only-of-type {\n",
       "        vertical-align: middle;\n",
       "    }\n",
       "\n",
       "    .dataframe tbody tr th {\n",
       "        vertical-align: top;\n",
       "    }\n",
       "\n",
       "    .dataframe thead th {\n",
       "        text-align: right;\n",
       "    }\n",
       "</style>\n",
       "<table border=\"1\" class=\"dataframe\">\n",
       "  <thead>\n",
       "    <tr style=\"text-align: right;\">\n",
       "      <th></th>\n",
       "      <th>SKL_ID</th>\n",
       "      <th>TOW_ID</th>\n",
       "      <th>SPRZ_NETTO</th>\n",
       "      <th>ZYSK_PROCENT</th>\n",
       "      <th>ZYSK_WART</th>\n",
       "      <th>KOSZT</th>\n",
       "    </tr>\n",
       "    <tr>\n",
       "      <th>TOW_NAZWA</th>\n",
       "      <th></th>\n",
       "      <th></th>\n",
       "      <th></th>\n",
       "      <th></th>\n",
       "      <th></th>\n",
       "      <th></th>\n",
       "    </tr>\n",
       "  </thead>\n",
       "  <tbody>\n",
       "    <tr>\n",
       "      <th>GRUSZKI</th>\n",
       "      <td>2.0</td>\n",
       "      <td>2.0</td>\n",
       "      <td>385.822222</td>\n",
       "      <td>6.844444</td>\n",
       "      <td>26.482222</td>\n",
       "      <td>359.340000</td>\n",
       "    </tr>\n",
       "    <tr>\n",
       "      <th>JABŁKA</th>\n",
       "      <td>2.0</td>\n",
       "      <td>1.0</td>\n",
       "      <td>399.209302</td>\n",
       "      <td>7.822222</td>\n",
       "      <td>30.862000</td>\n",
       "      <td>368.424884</td>\n",
       "    </tr>\n",
       "    <tr>\n",
       "      <th>SEREK</th>\n",
       "      <td>2.0</td>\n",
       "      <td>3.0</td>\n",
       "      <td>407.466667</td>\n",
       "      <td>8.311111</td>\n",
       "      <td>33.833111</td>\n",
       "      <td>373.633556</td>\n",
       "    </tr>\n",
       "  </tbody>\n",
       "</table>\n",
       "</div>"
      ],
      "text/plain": [
       "           SKL_ID  TOW_ID  SPRZ_NETTO  ZYSK_PROCENT  ZYSK_WART       KOSZT\n",
       "TOW_NAZWA                                                                 \n",
       "GRUSZKI       2.0     2.0  385.822222      6.844444  26.482222  359.340000\n",
       "JABŁKA        2.0     1.0  399.209302      7.822222  30.862000  368.424884\n",
       "SEREK         2.0     3.0  407.466667      8.311111  33.833111  373.633556"
      ]
     },
     "execution_count": 169,
     "metadata": {},
     "output_type": "execute_result"
    }
   ],
   "source": [
    "TOW_ID_mean_2 = dane_sprz_z_TOW_ID_df.groupby(['TOW_NAZWA']).mean()\n",
    "TOW_ID_mean_2"
   ]
  },
  {
   "cell_type": "code",
   "execution_count": 170,
   "id": "859c5a56",
   "metadata": {},
   "outputs": [
    {
     "name": "stderr",
     "output_type": "stream",
     "text": [
      "C:\\Users\\AsusF512ua-ej269t\\AppData\\Local\\Temp\\ipykernel_8380\\38835584.py:1: FutureWarning: The default value of numeric_only in DataFrameGroupBy.mean is deprecated. In a future version, numeric_only will default to False. Either specify numeric_only or select only columns which should be valid for the function.\n",
      "  mean = dane_sprz_z_TOW_ID_df.groupby(['TOW_NAZWA']).mean()[['SPRZ_NETTO','ZYSK_PROCENT','ZYSK_WART','KOSZT']]\n"
     ]
    },
    {
     "data": {
      "text/html": [
       "<div>\n",
       "<style scoped>\n",
       "    .dataframe tbody tr th:only-of-type {\n",
       "        vertical-align: middle;\n",
       "    }\n",
       "\n",
       "    .dataframe tbody tr th {\n",
       "        vertical-align: top;\n",
       "    }\n",
       "\n",
       "    .dataframe thead th {\n",
       "        text-align: right;\n",
       "    }\n",
       "</style>\n",
       "<table border=\"1\" class=\"dataframe\">\n",
       "  <thead>\n",
       "    <tr style=\"text-align: right;\">\n",
       "      <th></th>\n",
       "      <th>SPRZ_NETTO</th>\n",
       "      <th>ZYSK_PROCENT</th>\n",
       "      <th>ZYSK_WART</th>\n",
       "      <th>KOSZT</th>\n",
       "    </tr>\n",
       "    <tr>\n",
       "      <th>TOW_NAZWA</th>\n",
       "      <th></th>\n",
       "      <th></th>\n",
       "      <th></th>\n",
       "      <th></th>\n",
       "    </tr>\n",
       "  </thead>\n",
       "  <tbody>\n",
       "    <tr>\n",
       "      <th>GRUSZKI</th>\n",
       "      <td>385.822222</td>\n",
       "      <td>6.844444</td>\n",
       "      <td>26.482222</td>\n",
       "      <td>359.340000</td>\n",
       "    </tr>\n",
       "    <tr>\n",
       "      <th>JABŁKA</th>\n",
       "      <td>399.209302</td>\n",
       "      <td>7.822222</td>\n",
       "      <td>30.862000</td>\n",
       "      <td>368.424884</td>\n",
       "    </tr>\n",
       "    <tr>\n",
       "      <th>SEREK</th>\n",
       "      <td>407.466667</td>\n",
       "      <td>8.311111</td>\n",
       "      <td>33.833111</td>\n",
       "      <td>373.633556</td>\n",
       "    </tr>\n",
       "  </tbody>\n",
       "</table>\n",
       "</div>"
      ],
      "text/plain": [
       "           SPRZ_NETTO  ZYSK_PROCENT  ZYSK_WART       KOSZT\n",
       "TOW_NAZWA                                                 \n",
       "GRUSZKI    385.822222      6.844444  26.482222  359.340000\n",
       "JABŁKA     399.209302      7.822222  30.862000  368.424884\n",
       "SEREK      407.466667      8.311111  33.833111  373.633556"
      ]
     },
     "execution_count": 170,
     "metadata": {},
     "output_type": "execute_result"
    }
   ],
   "source": [
    "mean = dane_sprz_z_TOW_ID_df.groupby(['TOW_NAZWA']).mean()[['SPRZ_NETTO','ZYSK_PROCENT','ZYSK_WART','KOSZT']]\n",
    "mean"
   ]
  },
  {
   "cell_type": "code",
   "execution_count": 55,
   "id": "2074cf4e",
   "metadata": {},
   "outputs": [],
   "source": [
    "## ograniczyliśmy kolumny do tego co nas interesuje"
   ]
  },
  {
   "cell_type": "code",
   "execution_count": 56,
   "id": "d86c1f3d",
   "metadata": {},
   "outputs": [],
   "source": [
    "## zróbmy to samo jako sume dla SKL_NAZ"
   ]
  },
  {
   "cell_type": "code",
   "execution_count": 173,
   "id": "57a0e6c0",
   "metadata": {},
   "outputs": [
    {
     "name": "stderr",
     "output_type": "stream",
     "text": [
      "C:\\Users\\AsusF512ua-ej269t\\AppData\\Local\\Temp\\ipykernel_8380\\956839486.py:1: FutureWarning: The default value of numeric_only in DataFrameGroupBy.sum is deprecated. In a future version, numeric_only will default to False. Either specify numeric_only or select only columns which should be valid for the function.\n",
      "  summ= dane_sprz_z_KART_SKL_df.groupby(['SKL_NAZ']).sum()[['SPRZ_NETTO','ZYSK_PROCENT','ZYSK_WART','KOSZT']]\n"
     ]
    },
    {
     "data": {
      "text/html": [
       "<div>\n",
       "<style scoped>\n",
       "    .dataframe tbody tr th:only-of-type {\n",
       "        vertical-align: middle;\n",
       "    }\n",
       "\n",
       "    .dataframe tbody tr th {\n",
       "        vertical-align: top;\n",
       "    }\n",
       "\n",
       "    .dataframe thead th {\n",
       "        text-align: right;\n",
       "    }\n",
       "</style>\n",
       "<table border=\"1\" class=\"dataframe\">\n",
       "  <thead>\n",
       "    <tr style=\"text-align: right;\">\n",
       "      <th></th>\n",
       "      <th>SPRZ_NETTO</th>\n",
       "      <th>ZYSK_PROCENT</th>\n",
       "      <th>ZYSK_WART</th>\n",
       "      <th>KOSZT</th>\n",
       "    </tr>\n",
       "    <tr>\n",
       "      <th>SKL_NAZ</th>\n",
       "      <th></th>\n",
       "      <th></th>\n",
       "      <th></th>\n",
       "      <th></th>\n",
       "    </tr>\n",
       "  </thead>\n",
       "  <tbody>\n",
       "    <tr>\n",
       "      <th>U_PAWLA</th>\n",
       "      <td>18175.000000</td>\n",
       "      <td>358</td>\n",
       "      <td>1442.72</td>\n",
       "      <td>16732.280000</td>\n",
       "    </tr>\n",
       "    <tr>\n",
       "      <th>U_STASIA</th>\n",
       "      <td>17035.947368</td>\n",
       "      <td>358</td>\n",
       "      <td>1353.50</td>\n",
       "      <td>15682.447368</td>\n",
       "    </tr>\n",
       "    <tr>\n",
       "      <th>U_WERONIKI</th>\n",
       "      <td>18448.000000</td>\n",
       "      <td>318</td>\n",
       "      <td>1306.76</td>\n",
       "      <td>17141.240000</td>\n",
       "    </tr>\n",
       "  </tbody>\n",
       "</table>\n",
       "</div>"
      ],
      "text/plain": [
       "              SPRZ_NETTO  ZYSK_PROCENT  ZYSK_WART         KOSZT\n",
       "SKL_NAZ                                                        \n",
       "U_PAWLA     18175.000000           358    1442.72  16732.280000\n",
       "U_STASIA    17035.947368           358    1353.50  15682.447368\n",
       "U_WERONIKI  18448.000000           318    1306.76  17141.240000"
      ]
     },
     "execution_count": 173,
     "metadata": {},
     "output_type": "execute_result"
    }
   ],
   "source": [
    "summ= dane_sprz_z_KART_SKL_df.groupby(['SKL_NAZ']).sum()[['SPRZ_NETTO','ZYSK_PROCENT','ZYSK_WART','KOSZT']]\n",
    "summ"
   ]
  },
  {
   "cell_type": "code",
   "execution_count": 57,
   "id": "9794a85c",
   "metadata": {},
   "outputs": [],
   "source": [
    "## zysk procent... to chyba sumy nie zrobimy..."
   ]
  }
 ],
 "metadata": {
  "kernelspec": {
   "display_name": "Python 3 (ipykernel)",
   "language": "python",
   "name": "python3"
  },
  "language_info": {
   "codemirror_mode": {
    "name": "ipython",
    "version": 3
   },
   "file_extension": ".py",
   "mimetype": "text/x-python",
   "name": "python",
   "nbconvert_exporter": "python",
   "pygments_lexer": "ipython3",
   "version": "3.11.2"
  }
 },
 "nbformat": 4,
 "nbformat_minor": 5
}
