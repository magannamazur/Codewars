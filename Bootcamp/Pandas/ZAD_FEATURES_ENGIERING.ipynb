{
 "cells": [
  {
   "cell_type": "code",
   "execution_count": 1,
   "id": "cooperative-chile",
   "metadata": {},
   "outputs": [],
   "source": [
    "import numpy as np # linear algebra\n",
    "import pandas as pd # data processing, CSV file I/O (e.g. pd.read_csv)\n",
    "import matplotlib.pyplot as plt # for data visualization\n",
    "import seaborn as sns # for statistical data visualization\n",
    "import pylab \n",
    "import scipy.stats as stats\n",
    "import datetime\n",
    "%matplotlib inline\n",
    "\n",
    "pd.set_option('display.max_columns', None)\n",
    "\n",
    "# Input data files are available in the \"../input/\" directory.\n",
    "# For example, running this (by clicking run or pressing Shift+Enter) will list all files under the input directory\n",
    "\n"
   ]
  },
  {
   "cell_type": "markdown",
   "id": "homeless-teaching",
   "metadata": {},
   "source": [
    "## 1.0 Dane "
   ]
  },
  {
   "cell_type": "code",
   "execution_count": null,
   "id": "handy-block",
   "metadata": {},
   "outputs": [],
   "source": [
    "## wczytujemy plik do zmiennej titanic (bez ustawien - csv z DATA_TMP - train.csv)"
   ]
  },
  {
   "cell_type": "code",
   "execution_count": 2,
   "id": "republican-feeling",
   "metadata": {},
   "outputs": [],
   "source": [
    "titanic = pd.read_csv('Dane/titanic.csv', sep=',', encoding='utf-8')"
   ]
  },
  {
   "cell_type": "code",
   "execution_count": 3,
   "id": "bb509d74",
   "metadata": {},
   "outputs": [
    {
     "data": {
      "text/html": [
       "<div>\n",
       "<style scoped>\n",
       "    .dataframe tbody tr th:only-of-type {\n",
       "        vertical-align: middle;\n",
       "    }\n",
       "\n",
       "    .dataframe tbody tr th {\n",
       "        vertical-align: top;\n",
       "    }\n",
       "\n",
       "    .dataframe thead th {\n",
       "        text-align: right;\n",
       "    }\n",
       "</style>\n",
       "<table border=\"1\" class=\"dataframe\">\n",
       "  <thead>\n",
       "    <tr style=\"text-align: right;\">\n",
       "      <th></th>\n",
       "      <th>PassengerId</th>\n",
       "      <th>Survived</th>\n",
       "      <th>Pclass</th>\n",
       "      <th>Name</th>\n",
       "      <th>Sex</th>\n",
       "      <th>Age</th>\n",
       "      <th>SibSp</th>\n",
       "      <th>Parch</th>\n",
       "      <th>Ticket</th>\n",
       "      <th>Fare</th>\n",
       "      <th>Cabin</th>\n",
       "      <th>Embarked</th>\n",
       "    </tr>\n",
       "  </thead>\n",
       "  <tbody>\n",
       "    <tr>\n",
       "      <th>0</th>\n",
       "      <td>1</td>\n",
       "      <td>0</td>\n",
       "      <td>3</td>\n",
       "      <td>Braund, Mr. Owen Harris</td>\n",
       "      <td>male</td>\n",
       "      <td>22.0</td>\n",
       "      <td>1</td>\n",
       "      <td>0</td>\n",
       "      <td>A/5 21171</td>\n",
       "      <td>7.2500</td>\n",
       "      <td>NaN</td>\n",
       "      <td>S</td>\n",
       "    </tr>\n",
       "    <tr>\n",
       "      <th>1</th>\n",
       "      <td>2</td>\n",
       "      <td>1</td>\n",
       "      <td>1</td>\n",
       "      <td>Cumings, Mrs. John Bradley (Florence Briggs Th...</td>\n",
       "      <td>female</td>\n",
       "      <td>38.0</td>\n",
       "      <td>1</td>\n",
       "      <td>0</td>\n",
       "      <td>PC 17599</td>\n",
       "      <td>71.2833</td>\n",
       "      <td>C85</td>\n",
       "      <td>C</td>\n",
       "    </tr>\n",
       "    <tr>\n",
       "      <th>2</th>\n",
       "      <td>3</td>\n",
       "      <td>1</td>\n",
       "      <td>3</td>\n",
       "      <td>Heikkinen, Miss. Laina</td>\n",
       "      <td>female</td>\n",
       "      <td>26.0</td>\n",
       "      <td>0</td>\n",
       "      <td>0</td>\n",
       "      <td>STON/O2. 3101282</td>\n",
       "      <td>7.9250</td>\n",
       "      <td>NaN</td>\n",
       "      <td>S</td>\n",
       "    </tr>\n",
       "    <tr>\n",
       "      <th>3</th>\n",
       "      <td>4</td>\n",
       "      <td>1</td>\n",
       "      <td>1</td>\n",
       "      <td>Futrelle, Mrs. Jacques Heath (Lily May Peel)</td>\n",
       "      <td>female</td>\n",
       "      <td>35.0</td>\n",
       "      <td>1</td>\n",
       "      <td>0</td>\n",
       "      <td>113803</td>\n",
       "      <td>53.1000</td>\n",
       "      <td>C123</td>\n",
       "      <td>S</td>\n",
       "    </tr>\n",
       "    <tr>\n",
       "      <th>4</th>\n",
       "      <td>5</td>\n",
       "      <td>0</td>\n",
       "      <td>3</td>\n",
       "      <td>Allen, Mr. William Henry</td>\n",
       "      <td>male</td>\n",
       "      <td>35.0</td>\n",
       "      <td>0</td>\n",
       "      <td>0</td>\n",
       "      <td>373450</td>\n",
       "      <td>8.0500</td>\n",
       "      <td>NaN</td>\n",
       "      <td>S</td>\n",
       "    </tr>\n",
       "    <tr>\n",
       "      <th>...</th>\n",
       "      <td>...</td>\n",
       "      <td>...</td>\n",
       "      <td>...</td>\n",
       "      <td>...</td>\n",
       "      <td>...</td>\n",
       "      <td>...</td>\n",
       "      <td>...</td>\n",
       "      <td>...</td>\n",
       "      <td>...</td>\n",
       "      <td>...</td>\n",
       "      <td>...</td>\n",
       "      <td>...</td>\n",
       "    </tr>\n",
       "    <tr>\n",
       "      <th>886</th>\n",
       "      <td>887</td>\n",
       "      <td>0</td>\n",
       "      <td>2</td>\n",
       "      <td>Montvila, Rev. Juozas</td>\n",
       "      <td>male</td>\n",
       "      <td>27.0</td>\n",
       "      <td>0</td>\n",
       "      <td>0</td>\n",
       "      <td>211536</td>\n",
       "      <td>13.0000</td>\n",
       "      <td>NaN</td>\n",
       "      <td>S</td>\n",
       "    </tr>\n",
       "    <tr>\n",
       "      <th>887</th>\n",
       "      <td>888</td>\n",
       "      <td>1</td>\n",
       "      <td>1</td>\n",
       "      <td>Graham, Miss. Margaret Edith</td>\n",
       "      <td>female</td>\n",
       "      <td>19.0</td>\n",
       "      <td>0</td>\n",
       "      <td>0</td>\n",
       "      <td>112053</td>\n",
       "      <td>30.0000</td>\n",
       "      <td>B42</td>\n",
       "      <td>S</td>\n",
       "    </tr>\n",
       "    <tr>\n",
       "      <th>888</th>\n",
       "      <td>889</td>\n",
       "      <td>0</td>\n",
       "      <td>3</td>\n",
       "      <td>Johnston, Miss. Catherine Helen \"Carrie\"</td>\n",
       "      <td>female</td>\n",
       "      <td>NaN</td>\n",
       "      <td>1</td>\n",
       "      <td>2</td>\n",
       "      <td>W./C. 6607</td>\n",
       "      <td>23.4500</td>\n",
       "      <td>NaN</td>\n",
       "      <td>S</td>\n",
       "    </tr>\n",
       "    <tr>\n",
       "      <th>889</th>\n",
       "      <td>890</td>\n",
       "      <td>1</td>\n",
       "      <td>1</td>\n",
       "      <td>Behr, Mr. Karl Howell</td>\n",
       "      <td>male</td>\n",
       "      <td>26.0</td>\n",
       "      <td>0</td>\n",
       "      <td>0</td>\n",
       "      <td>111369</td>\n",
       "      <td>30.0000</td>\n",
       "      <td>C148</td>\n",
       "      <td>C</td>\n",
       "    </tr>\n",
       "    <tr>\n",
       "      <th>890</th>\n",
       "      <td>891</td>\n",
       "      <td>0</td>\n",
       "      <td>3</td>\n",
       "      <td>Dooley, Mr. Patrick</td>\n",
       "      <td>male</td>\n",
       "      <td>32.0</td>\n",
       "      <td>0</td>\n",
       "      <td>0</td>\n",
       "      <td>370376</td>\n",
       "      <td>7.7500</td>\n",
       "      <td>NaN</td>\n",
       "      <td>Q</td>\n",
       "    </tr>\n",
       "  </tbody>\n",
       "</table>\n",
       "<p>891 rows × 12 columns</p>\n",
       "</div>"
      ],
      "text/plain": [
       "     PassengerId  Survived  Pclass  \\\n",
       "0              1         0       3   \n",
       "1              2         1       1   \n",
       "2              3         1       3   \n",
       "3              4         1       1   \n",
       "4              5         0       3   \n",
       "..           ...       ...     ...   \n",
       "886          887         0       2   \n",
       "887          888         1       1   \n",
       "888          889         0       3   \n",
       "889          890         1       1   \n",
       "890          891         0       3   \n",
       "\n",
       "                                                  Name     Sex   Age  SibSp  \\\n",
       "0                              Braund, Mr. Owen Harris    male  22.0      1   \n",
       "1    Cumings, Mrs. John Bradley (Florence Briggs Th...  female  38.0      1   \n",
       "2                               Heikkinen, Miss. Laina  female  26.0      0   \n",
       "3         Futrelle, Mrs. Jacques Heath (Lily May Peel)  female  35.0      1   \n",
       "4                             Allen, Mr. William Henry    male  35.0      0   \n",
       "..                                                 ...     ...   ...    ...   \n",
       "886                              Montvila, Rev. Juozas    male  27.0      0   \n",
       "887                       Graham, Miss. Margaret Edith  female  19.0      0   \n",
       "888           Johnston, Miss. Catherine Helen \"Carrie\"  female   NaN      1   \n",
       "889                              Behr, Mr. Karl Howell    male  26.0      0   \n",
       "890                                Dooley, Mr. Patrick    male  32.0      0   \n",
       "\n",
       "     Parch            Ticket     Fare Cabin Embarked  \n",
       "0        0         A/5 21171   7.2500   NaN        S  \n",
       "1        0          PC 17599  71.2833   C85        C  \n",
       "2        0  STON/O2. 3101282   7.9250   NaN        S  \n",
       "3        0            113803  53.1000  C123        S  \n",
       "4        0            373450   8.0500   NaN        S  \n",
       "..     ...               ...      ...   ...      ...  \n",
       "886      0            211536  13.0000   NaN        S  \n",
       "887      0            112053  30.0000   B42        S  \n",
       "888      2        W./C. 6607  23.4500   NaN        S  \n",
       "889      0            111369  30.0000  C148        C  \n",
       "890      0            370376   7.7500   NaN        Q  \n",
       "\n",
       "[891 rows x 12 columns]"
      ]
     },
     "execution_count": 3,
     "metadata": {},
     "output_type": "execute_result"
    }
   ],
   "source": [
    "titanic"
   ]
  },
  {
   "cell_type": "code",
   "execution_count": null,
   "id": "interstate-twenty",
   "metadata": {},
   "outputs": [],
   "source": [
    "## kopiujemy titanic "
   ]
  },
  {
   "cell_type": "code",
   "execution_count": 4,
   "id": "naked-favorite",
   "metadata": {},
   "outputs": [],
   "source": [
    "data1 = titanic.copy()"
   ]
  },
  {
   "cell_type": "code",
   "execution_count": 6,
   "id": "e24fd2e5",
   "metadata": {},
   "outputs": [
    {
     "data": {
      "text/html": [
       "<div>\n",
       "<style scoped>\n",
       "    .dataframe tbody tr th:only-of-type {\n",
       "        vertical-align: middle;\n",
       "    }\n",
       "\n",
       "    .dataframe tbody tr th {\n",
       "        vertical-align: top;\n",
       "    }\n",
       "\n",
       "    .dataframe thead th {\n",
       "        text-align: right;\n",
       "    }\n",
       "</style>\n",
       "<table border=\"1\" class=\"dataframe\">\n",
       "  <thead>\n",
       "    <tr style=\"text-align: right;\">\n",
       "      <th></th>\n",
       "      <th>PassengerId</th>\n",
       "      <th>Survived</th>\n",
       "      <th>Pclass</th>\n",
       "      <th>Name</th>\n",
       "      <th>Sex</th>\n",
       "      <th>Age</th>\n",
       "      <th>SibSp</th>\n",
       "      <th>Parch</th>\n",
       "      <th>Ticket</th>\n",
       "      <th>Fare</th>\n",
       "      <th>Cabin</th>\n",
       "      <th>Embarked</th>\n",
       "    </tr>\n",
       "  </thead>\n",
       "  <tbody>\n",
       "    <tr>\n",
       "      <th>0</th>\n",
       "      <td>False</td>\n",
       "      <td>False</td>\n",
       "      <td>False</td>\n",
       "      <td>False</td>\n",
       "      <td>False</td>\n",
       "      <td>False</td>\n",
       "      <td>False</td>\n",
       "      <td>False</td>\n",
       "      <td>False</td>\n",
       "      <td>False</td>\n",
       "      <td>True</td>\n",
       "      <td>False</td>\n",
       "    </tr>\n",
       "    <tr>\n",
       "      <th>1</th>\n",
       "      <td>False</td>\n",
       "      <td>False</td>\n",
       "      <td>False</td>\n",
       "      <td>False</td>\n",
       "      <td>False</td>\n",
       "      <td>False</td>\n",
       "      <td>False</td>\n",
       "      <td>False</td>\n",
       "      <td>False</td>\n",
       "      <td>False</td>\n",
       "      <td>False</td>\n",
       "      <td>False</td>\n",
       "    </tr>\n",
       "    <tr>\n",
       "      <th>2</th>\n",
       "      <td>False</td>\n",
       "      <td>False</td>\n",
       "      <td>False</td>\n",
       "      <td>False</td>\n",
       "      <td>False</td>\n",
       "      <td>False</td>\n",
       "      <td>False</td>\n",
       "      <td>False</td>\n",
       "      <td>False</td>\n",
       "      <td>False</td>\n",
       "      <td>True</td>\n",
       "      <td>False</td>\n",
       "    </tr>\n",
       "    <tr>\n",
       "      <th>3</th>\n",
       "      <td>False</td>\n",
       "      <td>False</td>\n",
       "      <td>False</td>\n",
       "      <td>False</td>\n",
       "      <td>False</td>\n",
       "      <td>False</td>\n",
       "      <td>False</td>\n",
       "      <td>False</td>\n",
       "      <td>False</td>\n",
       "      <td>False</td>\n",
       "      <td>False</td>\n",
       "      <td>False</td>\n",
       "    </tr>\n",
       "    <tr>\n",
       "      <th>4</th>\n",
       "      <td>False</td>\n",
       "      <td>False</td>\n",
       "      <td>False</td>\n",
       "      <td>False</td>\n",
       "      <td>False</td>\n",
       "      <td>False</td>\n",
       "      <td>False</td>\n",
       "      <td>False</td>\n",
       "      <td>False</td>\n",
       "      <td>False</td>\n",
       "      <td>True</td>\n",
       "      <td>False</td>\n",
       "    </tr>\n",
       "    <tr>\n",
       "      <th>...</th>\n",
       "      <td>...</td>\n",
       "      <td>...</td>\n",
       "      <td>...</td>\n",
       "      <td>...</td>\n",
       "      <td>...</td>\n",
       "      <td>...</td>\n",
       "      <td>...</td>\n",
       "      <td>...</td>\n",
       "      <td>...</td>\n",
       "      <td>...</td>\n",
       "      <td>...</td>\n",
       "      <td>...</td>\n",
       "    </tr>\n",
       "    <tr>\n",
       "      <th>886</th>\n",
       "      <td>False</td>\n",
       "      <td>False</td>\n",
       "      <td>False</td>\n",
       "      <td>False</td>\n",
       "      <td>False</td>\n",
       "      <td>False</td>\n",
       "      <td>False</td>\n",
       "      <td>False</td>\n",
       "      <td>False</td>\n",
       "      <td>False</td>\n",
       "      <td>True</td>\n",
       "      <td>False</td>\n",
       "    </tr>\n",
       "    <tr>\n",
       "      <th>887</th>\n",
       "      <td>False</td>\n",
       "      <td>False</td>\n",
       "      <td>False</td>\n",
       "      <td>False</td>\n",
       "      <td>False</td>\n",
       "      <td>False</td>\n",
       "      <td>False</td>\n",
       "      <td>False</td>\n",
       "      <td>False</td>\n",
       "      <td>False</td>\n",
       "      <td>False</td>\n",
       "      <td>False</td>\n",
       "    </tr>\n",
       "    <tr>\n",
       "      <th>888</th>\n",
       "      <td>False</td>\n",
       "      <td>False</td>\n",
       "      <td>False</td>\n",
       "      <td>False</td>\n",
       "      <td>False</td>\n",
       "      <td>True</td>\n",
       "      <td>False</td>\n",
       "      <td>False</td>\n",
       "      <td>False</td>\n",
       "      <td>False</td>\n",
       "      <td>True</td>\n",
       "      <td>False</td>\n",
       "    </tr>\n",
       "    <tr>\n",
       "      <th>889</th>\n",
       "      <td>False</td>\n",
       "      <td>False</td>\n",
       "      <td>False</td>\n",
       "      <td>False</td>\n",
       "      <td>False</td>\n",
       "      <td>False</td>\n",
       "      <td>False</td>\n",
       "      <td>False</td>\n",
       "      <td>False</td>\n",
       "      <td>False</td>\n",
       "      <td>False</td>\n",
       "      <td>False</td>\n",
       "    </tr>\n",
       "    <tr>\n",
       "      <th>890</th>\n",
       "      <td>False</td>\n",
       "      <td>False</td>\n",
       "      <td>False</td>\n",
       "      <td>False</td>\n",
       "      <td>False</td>\n",
       "      <td>False</td>\n",
       "      <td>False</td>\n",
       "      <td>False</td>\n",
       "      <td>False</td>\n",
       "      <td>False</td>\n",
       "      <td>True</td>\n",
       "      <td>False</td>\n",
       "    </tr>\n",
       "  </tbody>\n",
       "</table>\n",
       "<p>891 rows × 12 columns</p>\n",
       "</div>"
      ],
      "text/plain": [
       "     PassengerId  Survived  Pclass   Name    Sex    Age  SibSp  Parch  Ticket  \\\n",
       "0          False     False   False  False  False  False  False  False   False   \n",
       "1          False     False   False  False  False  False  False  False   False   \n",
       "2          False     False   False  False  False  False  False  False   False   \n",
       "3          False     False   False  False  False  False  False  False   False   \n",
       "4          False     False   False  False  False  False  False  False   False   \n",
       "..           ...       ...     ...    ...    ...    ...    ...    ...     ...   \n",
       "886        False     False   False  False  False  False  False  False   False   \n",
       "887        False     False   False  False  False  False  False  False   False   \n",
       "888        False     False   False  False  False   True  False  False   False   \n",
       "889        False     False   False  False  False  False  False  False   False   \n",
       "890        False     False   False  False  False  False  False  False   False   \n",
       "\n",
       "      Fare  Cabin  Embarked  \n",
       "0    False   True     False  \n",
       "1    False  False     False  \n",
       "2    False   True     False  \n",
       "3    False  False     False  \n",
       "4    False   True     False  \n",
       "..     ...    ...       ...  \n",
       "886  False   True     False  \n",
       "887  False  False     False  \n",
       "888  False   True     False  \n",
       "889  False  False     False  \n",
       "890  False   True     False  \n",
       "\n",
       "[891 rows x 12 columns]"
      ]
     },
     "execution_count": 6,
     "metadata": {},
     "output_type": "execute_result"
    }
   ],
   "source": [
    "data1.isnull()"
   ]
  },
  {
   "cell_type": "code",
   "execution_count": 8,
   "id": "separated-measure",
   "metadata": {},
   "outputs": [],
   "source": [
    "## sprawdzmy procentowy udział dla każdej zmiennej wartości pustych przez insnull i mean na data1"
   ]
  },
  {
   "cell_type": "code",
   "execution_count": 7,
   "id": "metallic-repeat",
   "metadata": {},
   "outputs": [
    {
     "data": {
      "text/plain": [
       "PassengerId    0.000000\n",
       "Survived       0.000000\n",
       "Pclass         0.000000\n",
       "Name           0.000000\n",
       "Sex            0.000000\n",
       "Age            0.198653\n",
       "SibSp          0.000000\n",
       "Parch          0.000000\n",
       "Ticket         0.000000\n",
       "Fare           0.000000\n",
       "Cabin          0.771044\n",
       "Embarked       0.002245\n",
       "dtype: float64"
      ]
     },
     "execution_count": 7,
     "metadata": {},
     "output_type": "execute_result"
    }
   ],
   "source": [
    "data1.isnull().mean() # wartosc nuli w kolumnie"
   ]
  },
  {
   "cell_type": "code",
   "execution_count": 10,
   "id": "cdce82db",
   "metadata": {},
   "outputs": [
    {
     "data": {
      "text/plain": [
       "29.69911764705882"
      ]
     },
     "execution_count": 10,
     "metadata": {},
     "output_type": "execute_result"
    }
   ],
   "source": [
    "data1.Age.mean() # mean nie zlicza nuli, brane są tylko wartosci i liczone do ilości"
   ]
  },
  {
   "cell_type": "code",
   "execution_count": 12,
   "id": "b159a9da",
   "metadata": {},
   "outputs": [
    {
     "data": {
      "text/plain": [
       "29.69911764705882"
      ]
     },
     "execution_count": 12,
     "metadata": {},
     "output_type": "execute_result"
    }
   ],
   "source": [
    "data1[~data1['Age'].isnull()]['Age'].mean()"
   ]
  },
  {
   "cell_type": "code",
   "execution_count": 13,
   "id": "3ab6a288",
   "metadata": {},
   "outputs": [
    {
     "data": {
      "text/plain": [
       "nan"
      ]
     },
     "execution_count": 13,
     "metadata": {},
     "output_type": "execute_result"
    }
   ],
   "source": [
    "data1[data1['Age'].isnull()]['Age'].mean()"
   ]
  },
  {
   "cell_type": "code",
   "execution_count": 16,
   "id": "70bf9aaf",
   "metadata": {},
   "outputs": [],
   "source": [
    "data_no_null = data1.dropna(subset = 'Age')"
   ]
  },
  {
   "cell_type": "code",
   "execution_count": 17,
   "id": "2ff9a9a8",
   "metadata": {},
   "outputs": [
    {
     "data": {
      "text/plain": [
       "29.69911764705882"
      ]
     },
     "execution_count": 17,
     "metadata": {},
     "output_type": "execute_result"
    }
   ],
   "source": [
    "data_no_null.Age.mean()"
   ]
  },
  {
   "cell_type": "code",
   "execution_count": 19,
   "id": "41d343ee",
   "metadata": {},
   "outputs": [
    {
     "data": {
      "text/plain": [
       "(714, 12)"
      ]
     },
     "execution_count": 19,
     "metadata": {},
     "output_type": "execute_result"
    }
   ],
   "source": [
    "data_no_null.shape"
   ]
  },
  {
   "cell_type": "code",
   "execution_count": null,
   "id": "constant-shaft",
   "metadata": {},
   "outputs": [],
   "source": [
    "## sprawdzmy ile obserwacji musimy wyrzucić\n",
    "## 1 total passengers with values in all variables\n",
    "## 2 total passengers in the Titanic:\n",
    "## 3 percentage of data without missing values\n",
    "## wyprintuj"
   ]
  },
  {
   "cell_type": "code",
   "execution_count": 21,
   "id": "foreign-feature",
   "metadata": {},
   "outputs": [
    {
     "name": "stdout",
     "output_type": "stream",
     "text": [
      "total passengers with values in all variables: 183\n"
     ]
    }
   ],
   "source": [
    "print('total passengers with values in all variables:', data1.dropna().shape[0])"
   ]
  },
  {
   "cell_type": "code",
   "execution_count": 23,
   "id": "0e591f78",
   "metadata": {},
   "outputs": [
    {
     "name": "stdout",
     "output_type": "stream",
     "text": [
      "total passengers in the Titanic: 891\n"
     ]
    }
   ],
   "source": [
    "print('total passengers in the Titanic:', data1.shape[0])"
   ]
  },
  {
   "cell_type": "code",
   "execution_count": 27,
   "id": "6ae9cfc9",
   "metadata": {},
   "outputs": [
    {
     "name": "stdout",
     "output_type": "stream",
     "text": [
      "percentage of data without missing values: 0.2053872053872054\n"
     ]
    }
   ],
   "source": [
    "print('percentage of data without missing values:', data1.dropna().shape[0]/data1.shape[0])"
   ]
  },
  {
   "cell_type": "markdown",
   "id": "greater-lucas",
   "metadata": {},
   "source": [
    " ## 2.0 Mean / Median / Mode Imputation"
   ]
  },
  {
   "cell_type": "code",
   "execution_count": null,
   "id": "divided-christmas",
   "metadata": {},
   "outputs": [],
   "source": [
    "## skopiujmy titanic do data2"
   ]
  },
  {
   "cell_type": "code",
   "execution_count": 28,
   "id": "naked-amateur",
   "metadata": {},
   "outputs": [],
   "source": [
    "data2 = titanic.copy()"
   ]
  },
  {
   "cell_type": "code",
   "execution_count": 19,
   "id": "bottom-macedonia",
   "metadata": {},
   "outputs": [],
   "source": [
    "## sprawdzmy udział procentowy NA w datasecie data2"
   ]
  },
  {
   "cell_type": "code",
   "execution_count": 29,
   "id": "advanced-character",
   "metadata": {},
   "outputs": [
    {
     "data": {
      "text/plain": [
       "PassengerId    0.000000\n",
       "Survived       0.000000\n",
       "Pclass         0.000000\n",
       "Name           0.000000\n",
       "Sex            0.000000\n",
       "Age            0.198653\n",
       "SibSp          0.000000\n",
       "Parch          0.000000\n",
       "Ticket         0.000000\n",
       "Fare           0.000000\n",
       "Cabin          0.771044\n",
       "Embarked       0.002245\n",
       "dtype: float64"
      ]
     },
     "execution_count": 29,
     "metadata": {},
     "output_type": "execute_result"
    }
   ],
   "source": [
    "data2.isnull().mean()"
   ]
  },
  {
   "cell_type": "code",
   "execution_count": null,
   "id": "finnish-carnival",
   "metadata": {},
   "outputs": [],
   "source": [
    "## Imputację należy przeprowadzić na zbiorze uczącym,\n",
    "# a następnie propagować na zbiorze testowym. \n",
    "# Oznacza to, że średnia/mediana, która ma zostać użyta do uzupełnienia \n",
    "# brakujących wartości zarówno w pociągu, jak iw zbiorze testowym, \n",
    "# powinna zostać wyodrębniona tylko z zestawu pociągów. A to ma na celu uniknięcie przetrenowania."
   ]
  },
  {
   "cell_type": "code",
   "execution_count": 21,
   "id": "amino-sitting",
   "metadata": {},
   "outputs": [],
   "source": [
    "## wyśietl wykres dystrybucji dla wieku - tego będziemy sie uczyć na następnych zajęciach"
   ]
  },
  {
   "cell_type": "code",
   "execution_count": 48,
   "id": "unusual-startup",
   "metadata": {},
   "outputs": [
    {
     "data": {
      "text/plain": [
       "Text(0.5, 0, 'Age')"
      ]
     },
     "execution_count": 48,
     "metadata": {},
     "output_type": "execute_result"
    },
    {
     "data": {
      "image/png": "[encoded data removed]",
      "text/plain": [
       "<Figure size 800x400 with 1 Axes>"
      ]
     },
     "metadata": {},
     "output_type": "display_data"
    }
   ],
   "source": [
    "plt.figure(figsize=(8,4))\n",
    "fig = data2.Age.hist(bins=10)\n",
    "fig.set_ylabel('Number of passengers')\n",
    "fig.set_xlabel('Age')"
   ]
  },
  {
   "cell_type": "code",
   "execution_count": 24,
   "id": "naval-annex",
   "metadata": {},
   "outputs": [],
   "source": [
    "## musimy podzielić zbiór dla treningowy i testowy \n",
    "## do tego użyjemy train_test_split - będziecie sie o tym uczyć dalej - póki co trzeba wiedzieć że trzeba go podzielić\n",
    "## i że uczymy na zbiorze treningowym - a testowym sie sprawdzamy\n",
    "## oraz ze możemy udzielić współczynnik podziału test_size = 0.3"
   ]
  },
  {
   "cell_type": "code",
   "execution_count": 32,
   "id": "directed-movie",
   "metadata": {},
   "outputs": [
    {
     "data": {
      "text/plain": [
       "((623, 12), (268, 12))"
      ]
     },
     "execution_count": 32,
     "metadata": {},
     "output_type": "execute_result"
    }
   ],
   "source": [
    "# separate dataset into training and testing set\n",
    "\n",
    "from sklearn.model_selection import train_test_split\n",
    "\n",
    "X_train, X_test, y_train, y_test = train_test_split(data2, data2.Survived, test_size=0.3, \n",
    "                                                    random_state=0)\n",
    "# 30% stanowi test\n",
    "# (zbior, co przewidujemy, rozmiar testu, random bez zmiany = 0)\n",
    "X_train.shape, X_test.shape"
   ]
  },
  {
   "cell_type": "code",
   "execution_count": 26,
   "id": "leading-thesis",
   "metadata": {},
   "outputs": [],
   "source": [
    "## wylicz mediane dla kolumny Age i przypisz do zmiennej median"
   ]
  },
  {
   "cell_type": "code",
   "execution_count": 33,
   "id": "apparent-dining",
   "metadata": {},
   "outputs": [
    {
     "data": {
      "text/plain": [
       "29.0"
      ]
     },
     "execution_count": 33,
     "metadata": {},
     "output_type": "execute_result"
    }
   ],
   "source": [
    "median = X_train.Age.median()\n",
    "median"
   ]
  },
  {
   "cell_type": "code",
   "execution_count": 28,
   "id": "processed-mailing",
   "metadata": {},
   "outputs": [],
   "source": [
    "## zrób pętle for dla obu zbiorów\n",
    "## gdzie kolumna Age wypełni dla nanów mediana\n"
   ]
  },
  {
   "cell_type": "code",
   "execution_count": 34,
   "id": "descending-decrease",
   "metadata": {},
   "outputs": [],
   "source": [
    "for df in [X_train, X_test]:\n",
    "    df['Age'].fillna(median, inplace=True)"
   ]
  },
  {
   "cell_type": "code",
   "execution_count": 30,
   "id": "burning-glenn",
   "metadata": {},
   "outputs": [],
   "source": [
    "## sprawdź dla zbioru treningowego i testowego ile jest nanow w kolumne Age"
   ]
  },
  {
   "cell_type": "code",
   "execution_count": 39,
   "id": "hundred-providence",
   "metadata": {},
   "outputs": [
    {
     "data": {
      "text/plain": [
       "0"
      ]
     },
     "execution_count": 39,
     "metadata": {},
     "output_type": "execute_result"
    }
   ],
   "source": [
    "X_train['Age'].isnull().sum()"
   ]
  },
  {
   "cell_type": "code",
   "execution_count": 40,
   "id": "ac8e08e0",
   "metadata": {},
   "outputs": [
    {
     "data": {
      "text/plain": [
       "0"
      ]
     },
     "execution_count": 40,
     "metadata": {},
     "output_type": "execute_result"
    }
   ],
   "source": [
    "X_test['Age'].isnull().sum()"
   ]
  },
  {
   "cell_type": "code",
   "execution_count": 33,
   "id": "yellow-showcase",
   "metadata": {},
   "outputs": [],
   "source": [
    "## jakie sa jeszcze sposoby wypełniania?\n",
    "## Notebook A reference guide to feature engiereeing methods"
   ]
  },
  {
   "cell_type": "markdown",
   "id": "respective-spectacular",
   "metadata": {},
   "source": [
    "## 3.0 Categorical Encoding"
   ]
  },
  {
   "cell_type": "markdown",
   "id": "approved-defensive",
   "metadata": {},
   "source": [
    "## 3.1 One-Hot Encoding OHE "
   ]
  },
  {
   "cell_type": "code",
   "execution_count": 36,
   "id": "opposite-memorabilia",
   "metadata": {},
   "outputs": [],
   "source": [
    "# OHE to standardowe podejście do kodowania danych kategorycznych.\n",
    "# Jedno kodowanie na gorąco (OHE) tworzy zmienną binarną dla każdej z różnych kategorii obecnych w zmiennej. \n",
    "# Te zmienne binarne przyjmują 1, jeśli obserwacja pokazuje określoną kategorię lub 0 w przeciwnym razie. \n",
    "# OHE nadaje się do modeli liniowych. \n",
    "# Ale OHE znacznie rozszerza przestrzeń cech, jeśli zmienne kategorialne są wysoce kardynalne lub \n",
    "# jeśli istnieje wiele zmiennych kategorialnych. Ponadto wiele pochodnych zmiennych fikcyjnych może być wysoce skorelowanych.\n"
   ]
  },
  {
   "cell_type": "code",
   "execution_count": 37,
   "id": "ideal-commitment",
   "metadata": {},
   "outputs": [],
   "source": [
    "## kopiujemy titanic do data7"
   ]
  },
  {
   "cell_type": "code",
   "execution_count": 35,
   "id": "acting-delhi",
   "metadata": {},
   "outputs": [],
   "source": [
    "data7 = titanic.copy()"
   ]
  },
  {
   "cell_type": "code",
   "execution_count": 39,
   "id": "verified-airfare",
   "metadata": {},
   "outputs": [],
   "source": [
    "## pokazujemy 5 pierwszych wierszy z kolumny Sex"
   ]
  },
  {
   "cell_type": "code",
   "execution_count": 36,
   "id": "amino-screw",
   "metadata": {},
   "outputs": [
    {
     "data": {
      "text/plain": [
       "0      male\n",
       "1    female\n",
       "2    female\n",
       "3    female\n",
       "4      male\n",
       "Name: Sex, dtype: object"
      ]
     },
     "execution_count": 36,
     "metadata": {},
     "output_type": "execute_result"
    }
   ],
   "source": [
    "data7.Sex.head(5)"
   ]
  },
  {
   "cell_type": "code",
   "execution_count": 42,
   "id": "dense-trading",
   "metadata": {},
   "outputs": [],
   "source": [
    "## wykonujemy za pomoca get_dummies dla tych 5 wierszy pokazowa tabele jak wyglada one hot encoding"
   ]
  },
  {
   "cell_type": "code",
   "execution_count": 38,
   "id": "superb-fundamental",
   "metadata": {},
   "outputs": [
    {
     "data": {
      "text/html": [
       "<div>\n",
       "<style scoped>\n",
       "    .dataframe tbody tr th:only-of-type {\n",
       "        vertical-align: middle;\n",
       "    }\n",
       "\n",
       "    .dataframe tbody tr th {\n",
       "        vertical-align: top;\n",
       "    }\n",
       "\n",
       "    .dataframe thead th {\n",
       "        text-align: right;\n",
       "    }\n",
       "</style>\n",
       "<table border=\"1\" class=\"dataframe\">\n",
       "  <thead>\n",
       "    <tr style=\"text-align: right;\">\n",
       "      <th></th>\n",
       "      <th>female</th>\n",
       "      <th>male</th>\n",
       "    </tr>\n",
       "  </thead>\n",
       "  <tbody>\n",
       "    <tr>\n",
       "      <th>0</th>\n",
       "      <td>0</td>\n",
       "      <td>1</td>\n",
       "    </tr>\n",
       "    <tr>\n",
       "      <th>1</th>\n",
       "      <td>1</td>\n",
       "      <td>0</td>\n",
       "    </tr>\n",
       "    <tr>\n",
       "      <th>2</th>\n",
       "      <td>1</td>\n",
       "      <td>0</td>\n",
       "    </tr>\n",
       "    <tr>\n",
       "      <th>3</th>\n",
       "      <td>1</td>\n",
       "      <td>0</td>\n",
       "    </tr>\n",
       "    <tr>\n",
       "      <th>4</th>\n",
       "      <td>0</td>\n",
       "      <td>1</td>\n",
       "    </tr>\n",
       "  </tbody>\n",
       "</table>\n",
       "</div>"
      ],
      "text/plain": [
       "   female  male\n",
       "0       0     1\n",
       "1       1     0\n",
       "2       1     0\n",
       "3       1     0\n",
       "4       0     1"
      ]
     },
     "execution_count": 38,
     "metadata": {},
     "output_type": "execute_result"
    }
   ],
   "source": [
    "pd.get_dummies(data7['Sex']).head()"
   ]
  },
  {
   "cell_type": "code",
   "execution_count": 82,
   "id": "powerful-springer",
   "metadata": {},
   "outputs": [],
   "source": [
    "## za pomoca pd.concat możemy połaczyć ta powyższe polecenie z get_dummies z data7['Sex'] - dodajmy na końcu .head()"
   ]
  },
  {
   "cell_type": "code",
   "execution_count": 49,
   "id": "lonely-perspective",
   "metadata": {},
   "outputs": [
    {
     "data": {
      "text/html": [
       "<div>\n",
       "<style scoped>\n",
       "    .dataframe tbody tr th:only-of-type {\n",
       "        vertical-align: middle;\n",
       "    }\n",
       "\n",
       "    .dataframe tbody tr th {\n",
       "        vertical-align: top;\n",
       "    }\n",
       "\n",
       "    .dataframe thead th {\n",
       "        text-align: right;\n",
       "    }\n",
       "</style>\n",
       "<table border=\"1\" class=\"dataframe\">\n",
       "  <thead>\n",
       "    <tr style=\"text-align: right;\">\n",
       "      <th></th>\n",
       "      <th>Sex</th>\n",
       "      <th>female</th>\n",
       "      <th>male</th>\n",
       "    </tr>\n",
       "  </thead>\n",
       "  <tbody>\n",
       "    <tr>\n",
       "      <th>0</th>\n",
       "      <td>male</td>\n",
       "      <td>0</td>\n",
       "      <td>1</td>\n",
       "    </tr>\n",
       "    <tr>\n",
       "      <th>1</th>\n",
       "      <td>female</td>\n",
       "      <td>1</td>\n",
       "      <td>0</td>\n",
       "    </tr>\n",
       "    <tr>\n",
       "      <th>2</th>\n",
       "      <td>female</td>\n",
       "      <td>1</td>\n",
       "      <td>0</td>\n",
       "    </tr>\n",
       "    <tr>\n",
       "      <th>3</th>\n",
       "      <td>female</td>\n",
       "      <td>1</td>\n",
       "      <td>0</td>\n",
       "    </tr>\n",
       "    <tr>\n",
       "      <th>4</th>\n",
       "      <td>male</td>\n",
       "      <td>0</td>\n",
       "      <td>1</td>\n",
       "    </tr>\n",
       "  </tbody>\n",
       "</table>\n",
       "</div>"
      ],
      "text/plain": [
       "      Sex  female  male\n",
       "0    male       0     1\n",
       "1  female       1     0\n",
       "2  female       1     0\n",
       "3  female       1     0\n",
       "4    male       0     1"
      ]
     },
     "execution_count": 49,
     "metadata": {},
     "output_type": "execute_result"
    }
   ],
   "source": [
    "pd.concat([data7['Sex'], pd.get_dummies(data7['Sex'])], axis=1).head()"
   ]
  },
  {
   "cell_type": "code",
   "execution_count": null,
   "id": "egyptian-environment",
   "metadata": {},
   "outputs": [],
   "source": [
    "# Widzimy, że potrzebujemy tylko 1 z 2 zmiennych fikcyjnych, aby reprezentować pierwotną zmienną kategoryczną Płeć. \n",
    "# Każdy z 2 wykona zadanie i nie ma znaczenia, który wybierzemy, ponieważ są one równoważne. \n",
    "# Dlatego, aby zakodować zmienną kategorialną z 2 etykietami, potrzebujemy tylko 1 zmiennej fikcyjnej.\n",
    "# Pokażmy tylko kolumne male za pomoca funkcji get_dummies"
   ]
  },
  {
   "cell_type": "code",
   "execution_count": 41,
   "id": "vulnerable-gnome",
   "metadata": {},
   "outputs": [
    {
     "data": {
      "text/html": [
       "<div>\n",
       "<style scoped>\n",
       "    .dataframe tbody tr th:only-of-type {\n",
       "        vertical-align: middle;\n",
       "    }\n",
       "\n",
       "    .dataframe tbody tr th {\n",
       "        vertical-align: top;\n",
       "    }\n",
       "\n",
       "    .dataframe thead th {\n",
       "        text-align: right;\n",
       "    }\n",
       "</style>\n",
       "<table border=\"1\" class=\"dataframe\">\n",
       "  <thead>\n",
       "    <tr style=\"text-align: right;\">\n",
       "      <th></th>\n",
       "      <th>male</th>\n",
       "    </tr>\n",
       "  </thead>\n",
       "  <tbody>\n",
       "    <tr>\n",
       "      <th>0</th>\n",
       "      <td>1</td>\n",
       "    </tr>\n",
       "    <tr>\n",
       "      <th>1</th>\n",
       "      <td>0</td>\n",
       "    </tr>\n",
       "    <tr>\n",
       "      <th>2</th>\n",
       "      <td>0</td>\n",
       "    </tr>\n",
       "    <tr>\n",
       "      <th>3</th>\n",
       "      <td>0</td>\n",
       "    </tr>\n",
       "    <tr>\n",
       "      <th>4</th>\n",
       "      <td>1</td>\n",
       "    </tr>\n",
       "  </tbody>\n",
       "</table>\n",
       "</div>"
      ],
      "text/plain": [
       "   male\n",
       "0     1\n",
       "1     0\n",
       "2     0\n",
       "3     0\n",
       "4     1"
      ]
     },
     "execution_count": 41,
     "metadata": {},
     "output_type": "execute_result"
    }
   ],
   "source": [
    "pd.get_dummies(titanic['Sex'], drop_first = True).head()"
   ]
  },
  {
   "cell_type": "code",
   "execution_count": null,
   "id": "simplified-certification",
   "metadata": {},
   "outputs": [],
   "source": [
    "## a co by było przy multi kategoriach ? "
   ]
  },
  {
   "cell_type": "code",
   "execution_count": null,
   "id": "lined-spirit",
   "metadata": {},
   "outputs": [],
   "source": [
    "# pokażmy 5 pierwszych wierszy dla head"
   ]
  },
  {
   "cell_type": "code",
   "execution_count": 43,
   "id": "beautiful-upset",
   "metadata": {},
   "outputs": [
    {
     "data": {
      "text/plain": [
       "0    S\n",
       "1    C\n",
       "2    S\n",
       "3    S\n",
       "4    S\n",
       "Name: Embarked, dtype: object"
      ]
     },
     "execution_count": 43,
     "metadata": {},
     "output_type": "execute_result"
    }
   ],
   "source": [
    "data7.Embarked.head(5)"
   ]
  },
  {
   "cell_type": "code",
   "execution_count": 50,
   "id": "traditional-duration",
   "metadata": {},
   "outputs": [],
   "source": [
    "## sprawdźmy ile jest unikatowych wartości w Embarked"
   ]
  },
  {
   "cell_type": "code",
   "execution_count": 42,
   "id": "destroyed-horror",
   "metadata": {},
   "outputs": [
    {
     "data": {
      "text/plain": [
       "array(['S', 'C', 'Q', nan], dtype=object)"
      ]
     },
     "execution_count": 42,
     "metadata": {},
     "output_type": "execute_result"
    }
   ],
   "source": [
    "data7.Embarked.unique()"
   ]
  },
  {
   "cell_type": "code",
   "execution_count": 52,
   "id": "civilian-style",
   "metadata": {},
   "outputs": [],
   "source": [
    "## znowu użyjmy pd.get_dummies dla kolumny Embarked i dla 5 wierszy "
   ]
  },
  {
   "cell_type": "code",
   "execution_count": 44,
   "id": "legitimate-aside",
   "metadata": {},
   "outputs": [
    {
     "data": {
      "text/html": [
       "<div>\n",
       "<style scoped>\n",
       "    .dataframe tbody tr th:only-of-type {\n",
       "        vertical-align: middle;\n",
       "    }\n",
       "\n",
       "    .dataframe tbody tr th {\n",
       "        vertical-align: top;\n",
       "    }\n",
       "\n",
       "    .dataframe thead th {\n",
       "        text-align: right;\n",
       "    }\n",
       "</style>\n",
       "<table border=\"1\" class=\"dataframe\">\n",
       "  <thead>\n",
       "    <tr style=\"text-align: right;\">\n",
       "      <th></th>\n",
       "      <th>C</th>\n",
       "      <th>Q</th>\n",
       "      <th>S</th>\n",
       "    </tr>\n",
       "  </thead>\n",
       "  <tbody>\n",
       "    <tr>\n",
       "      <th>0</th>\n",
       "      <td>0</td>\n",
       "      <td>0</td>\n",
       "      <td>1</td>\n",
       "    </tr>\n",
       "    <tr>\n",
       "      <th>1</th>\n",
       "      <td>1</td>\n",
       "      <td>0</td>\n",
       "      <td>0</td>\n",
       "    </tr>\n",
       "    <tr>\n",
       "      <th>2</th>\n",
       "      <td>0</td>\n",
       "      <td>0</td>\n",
       "      <td>1</td>\n",
       "    </tr>\n",
       "    <tr>\n",
       "      <th>3</th>\n",
       "      <td>0</td>\n",
       "      <td>0</td>\n",
       "      <td>1</td>\n",
       "    </tr>\n",
       "    <tr>\n",
       "      <th>4</th>\n",
       "      <td>0</td>\n",
       "      <td>0</td>\n",
       "      <td>1</td>\n",
       "    </tr>\n",
       "  </tbody>\n",
       "</table>\n",
       "</div>"
      ],
      "text/plain": [
       "   C  Q  S\n",
       "0  0  0  1\n",
       "1  1  0  0\n",
       "2  0  0  1\n",
       "3  0  0  1\n",
       "4  0  0  1"
      ]
     },
     "execution_count": 44,
     "metadata": {},
     "output_type": "execute_result"
    }
   ],
   "source": [
    "pd.get_dummies(data7['Embarked']).head()"
   ]
  },
  {
   "cell_type": "code",
   "execution_count": null,
   "id": "capital-training",
   "metadata": {},
   "outputs": [],
   "source": [
    "## kolumna Q jest chyba nie potrzebna w tym przypadku skoro sa same zera?"
   ]
  },
  {
   "cell_type": "code",
   "execution_count": 56,
   "id": "passing-region",
   "metadata": {},
   "outputs": [
    {
     "data": {
      "text/html": [
       "<div>\n",
       "<style scoped>\n",
       "    .dataframe tbody tr th:only-of-type {\n",
       "        vertical-align: middle;\n",
       "    }\n",
       "\n",
       "    .dataframe tbody tr th {\n",
       "        vertical-align: top;\n",
       "    }\n",
       "\n",
       "    .dataframe thead th {\n",
       "        text-align: right;\n",
       "    }\n",
       "</style>\n",
       "<table border=\"1\" class=\"dataframe\">\n",
       "  <thead>\n",
       "    <tr style=\"text-align: right;\">\n",
       "      <th></th>\n",
       "      <th>C</th>\n",
       "      <th>S</th>\n",
       "    </tr>\n",
       "  </thead>\n",
       "  <tbody>\n",
       "    <tr>\n",
       "      <th>0</th>\n",
       "      <td>0</td>\n",
       "      <td>1</td>\n",
       "    </tr>\n",
       "    <tr>\n",
       "      <th>1</th>\n",
       "      <td>1</td>\n",
       "      <td>0</td>\n",
       "    </tr>\n",
       "    <tr>\n",
       "      <th>2</th>\n",
       "      <td>0</td>\n",
       "      <td>1</td>\n",
       "    </tr>\n",
       "    <tr>\n",
       "      <th>3</th>\n",
       "      <td>0</td>\n",
       "      <td>1</td>\n",
       "    </tr>\n",
       "    <tr>\n",
       "      <th>4</th>\n",
       "      <td>0</td>\n",
       "      <td>1</td>\n",
       "    </tr>\n",
       "  </tbody>\n",
       "</table>\n",
       "</div>"
      ],
      "text/plain": [
       "   C  S\n",
       "0  0  1\n",
       "1  1  0\n",
       "2  0  1\n",
       "3  0  1\n",
       "4  0  1"
      ]
     },
     "execution_count": 56,
     "metadata": {},
     "output_type": "execute_result"
    }
   ],
   "source": [
    "s = pd.get_dummies(data7['Embarked']).head()\n",
    "s.drop(['Q'], axis=1)"
   ]
  },
  {
   "cell_type": "markdown",
   "id": "persistent-passion",
   "metadata": {},
   "source": [
    "## 5. Variable Transformation\n"
   ]
  },
  {
   "cell_type": "code",
   "execution_count": 59,
   "id": "alien-services",
   "metadata": {},
   "outputs": [],
   "source": [
    "## za pomoca funkcji imput_na w tym random state wypełniemy dane\n"
   ]
  },
  {
   "cell_type": "code",
   "execution_count": 60,
   "id": "higher-detroit",
   "metadata": {},
   "outputs": [],
   "source": [
    "## wczytajmy dane z csv dla kolumn Age Fare Survived uzywajac atrybutu usecols"
   ]
  },
  {
   "cell_type": "code",
   "execution_count": 58,
   "id": "effective-utilization",
   "metadata": {},
   "outputs": [
    {
     "data": {
      "text/html": [
       "<div>\n",
       "<style scoped>\n",
       "    .dataframe tbody tr th:only-of-type {\n",
       "        vertical-align: middle;\n",
       "    }\n",
       "\n",
       "    .dataframe tbody tr th {\n",
       "        vertical-align: top;\n",
       "    }\n",
       "\n",
       "    .dataframe thead th {\n",
       "        text-align: right;\n",
       "    }\n",
       "</style>\n",
       "<table border=\"1\" class=\"dataframe\">\n",
       "  <thead>\n",
       "    <tr style=\"text-align: right;\">\n",
       "      <th></th>\n",
       "      <th>Survived</th>\n",
       "      <th>Age</th>\n",
       "      <th>Fare</th>\n",
       "    </tr>\n",
       "  </thead>\n",
       "  <tbody>\n",
       "    <tr>\n",
       "      <th>0</th>\n",
       "      <td>0</td>\n",
       "      <td>22.0</td>\n",
       "      <td>7.2500</td>\n",
       "    </tr>\n",
       "    <tr>\n",
       "      <th>1</th>\n",
       "      <td>1</td>\n",
       "      <td>38.0</td>\n",
       "      <td>71.2833</td>\n",
       "    </tr>\n",
       "    <tr>\n",
       "      <th>2</th>\n",
       "      <td>1</td>\n",
       "      <td>26.0</td>\n",
       "      <td>7.9250</td>\n",
       "    </tr>\n",
       "    <tr>\n",
       "      <th>3</th>\n",
       "      <td>1</td>\n",
       "      <td>35.0</td>\n",
       "      <td>53.1000</td>\n",
       "    </tr>\n",
       "    <tr>\n",
       "      <th>4</th>\n",
       "      <td>0</td>\n",
       "      <td>35.0</td>\n",
       "      <td>8.0500</td>\n",
       "    </tr>\n",
       "  </tbody>\n",
       "</table>\n",
       "</div>"
      ],
      "text/plain": [
       "   Survived   Age     Fare\n",
       "0         0  22.0   7.2500\n",
       "1         1  38.0  71.2833\n",
       "2         1  26.0   7.9250\n",
       "3         1  35.0  53.1000\n",
       "4         0  35.0   8.0500"
      ]
     },
     "execution_count": 58,
     "metadata": {},
     "output_type": "execute_result"
    }
   ],
   "source": [
    "data = pd.read_csv('Dane/train.csv', usecols = ['Age', 'Fare', 'Survived'])\n",
    "data.head()"
   ]
  },
  {
   "cell_type": "code",
   "execution_count": 33,
   "id": "blond-verse",
   "metadata": {},
   "outputs": [],
   "source": [
    "def impute_na(data, variable):\n",
    "    # function to fill na with a random sample\n",
    "    df = data.copy()\n",
    "    \n",
    "    # random sampling\n",
    "    df[variable+'_random'] = df[variable]\n",
    "    \n",
    "    # extract the random sample to fill the na\n",
    "    random_sample = df[variable].dropna().sample(df[variable].isnull().sum(), random_state=0)\n",
    "    \n",
    "    # pandas needs to have the same index in order to merge datasets\n",
    "    random_sample.index = df[df[variable].isnull()].index\n",
    "    df.loc[df[variable].isnull(), variable+'_random'] = random_sample\n",
    "    \n",
    "    return df[variable+'_random']"
   ]
  },
  {
   "cell_type": "code",
   "execution_count": 34,
   "id": "surprising-guidance",
   "metadata": {},
   "outputs": [],
   "source": [
    "data['Age'] = impute_na(data, 'Age')"
   ]
  },
  {
   "cell_type": "code",
   "execution_count": null,
   "id": "patient-limitation",
   "metadata": {},
   "outputs": [],
   "source": [
    "## Możemy zwizualizować rozkład zmiennej Wiek, wykreślając histogram i wykres Q-Q.\n",
    "## wykonajmy funkcje "
   ]
  },
  {
   "cell_type": "code",
   "execution_count": 35,
   "id": "fancy-potential",
   "metadata": {},
   "outputs": [
    {
     "data": {
      "image/png": "[encoded data removed]",
      "text/plain": [
       "<Figure size 1500x600 with 2 Axes>"
      ]
     },
     "metadata": {},
     "output_type": "display_data"
    }
   ],
   "source": [
    "def diagnostic_plots(df, variable):\n",
    "    # function to plot a histogram and a Q-Q plot\n",
    "    # side by side, for a certain variable\n",
    "    \n",
    "    plt.figure(figsize=(15,6))\n",
    "    plt.subplot(1, 2, 1)\n",
    "    df[variable].hist()\n",
    "\n",
    "    plt.subplot(1, 2, 2)\n",
    "    stats.probplot(df[variable], dist=\"norm\", plot=pylab)\n",
    "\n",
    "    plt.show()\n",
    "    \n",
    "diagnostic_plots(data, 'Age')"
   ]
  },
  {
   "cell_type": "code",
   "execution_count": 67,
   "id": "palestinian-brown",
   "metadata": {},
   "outputs": [],
   "source": [
    "## Funkcja logarytmiczna"
   ]
  },
  {
   "cell_type": "code",
   "execution_count": 36,
   "id": "loaded-trail",
   "metadata": {},
   "outputs": [
    {
     "data": {
      "image/png": "[encoded data removed]",
      "text/plain": [
       "<Figure size 1500x600 with 2 Axes>"
      ]
     },
     "metadata": {},
     "output_type": "display_data"
    }
   ],
   "source": [
    "### Logarithmic transformation\n",
    "data['Age_log'] = np.log(data.Age)\n",
    "\n",
    "diagnostic_plots(data, 'Age_log')\n"
   ]
  },
  {
   "cell_type": "code",
   "execution_count": null,
   "id": "adult-greene",
   "metadata": {},
   "outputs": [],
   "source": [
    "## 5.2 Reciprocal transformation "
   ]
  },
  {
   "cell_type": "code",
   "execution_count": 37,
   "id": "constitutional-disco",
   "metadata": {},
   "outputs": [
    {
     "data": {
      "image/png": "[encoded data removed]",
      "text/plain": [
       "<Figure size 1500x600 with 2 Axes>"
      ]
     },
     "metadata": {},
     "output_type": "display_data"
    }
   ],
   "source": [
    "### Reciprocal transformation\n",
    "data['Age_reciprocal'] = 1 / data.Age\n",
    "\n",
    "diagnostic_plots(data, 'Age_reciprocal')"
   ]
  },
  {
   "cell_type": "code",
   "execution_count": 70,
   "id": "subtle-request",
   "metadata": {},
   "outputs": [],
   "source": [
    "## 5.3 Square root transformation "
   ]
  },
  {
   "cell_type": "code",
   "execution_count": 38,
   "id": "experimental-preliminary",
   "metadata": {},
   "outputs": [
    {
     "data": {
      "image/png": "[encoded data removed]",
      "text/plain": [
       "<Figure size 1500x600 with 2 Axes>"
      ]
     },
     "metadata": {},
     "output_type": "display_data"
    }
   ],
   "source": [
    "data['Age_sqr'] =data.Age**(1/2)\n",
    "\n",
    "diagnostic_plots(data, 'Age_sqr')"
   ]
  },
  {
   "cell_type": "markdown",
   "id": "charged-jungle",
   "metadata": {},
   "source": [
    "## 5.5 BoxCox transformation"
   ]
  },
  {
   "cell_type": "code",
   "execution_count": 39,
   "id": "concrete-proposition",
   "metadata": {},
   "outputs": [
    {
     "name": "stdout",
     "output_type": "stream",
     "text": [
      "Optimal λ:  0.7648522500282625\n"
     ]
    },
    {
     "data": {
      "image/png": "[encoded data removed]",
      "text/plain": [
       "<Figure size 1500x600 with 2 Axes>"
      ]
     },
     "metadata": {},
     "output_type": "display_data"
    }
   ],
   "source": [
    "data['Age_boxcox'], param = stats.boxcox(data.Age) \n",
    "\n",
    "print('Optimal λ: ', param)\n",
    "\n",
    "diagnostic_plots(data, 'Age_boxcox')"
   ]
  },
  {
   "cell_type": "markdown",
   "id": "physical-hydrogen",
   "metadata": {},
   "source": [
    "## 6. Dyskretytacja"
   ]
  },
  {
   "cell_type": "code",
   "execution_count": 75,
   "id": "powered-shock",
   "metadata": {},
   "outputs": [],
   "source": [
    "# Polecenie cut tworzy równe przedziały, ale częstotliwość próbek jest nierówna w każdym przedziale.\n",
    "\n",
    "# Komenda qcut tworzy pojemniki o różnych rozmiarach, ale częstotliwość próbek jest taka sama w każdym pojemniku."
   ]
  },
  {
   "cell_type": "markdown",
   "id": "pressed-block",
   "metadata": {},
   "source": [
    "![Discretising data with pandas cut and qcut](https://i.stack.imgur.com/pObHa.png)"
   ]
  },
  {
   "cell_type": "code",
   "execution_count": 40,
   "id": "alien-aquarium",
   "metadata": {},
   "outputs": [
    {
     "data": {
      "text/plain": [
       "array([24,  7,  2, 25, 22, 29])"
      ]
     },
     "execution_count": 40,
     "metadata": {},
     "output_type": "execute_result"
    }
   ],
   "source": [
    "x = np.array([24,  7,  2, 25, 22, 29])\n",
    "x   "
   ]
  },
  {
   "cell_type": "code",
   "execution_count": 41,
   "id": "manual-pressing",
   "metadata": {},
   "outputs": [
    {
     "data": {
      "text/plain": [
       "bad       2\n",
       "medium    0\n",
       "good      4\n",
       "dtype: int64"
      ]
     },
     "execution_count": 41,
     "metadata": {},
     "output_type": "execute_result"
    }
   ],
   "source": [
    "# equal width discretisation with cut \n",
    "pd.cut(x, bins = 3, labels = [\"bad\", \"medium\", \"good\"]).value_counts() #Bins size has equal interval of 9   "
   ]
  },
  {
   "cell_type": "code",
   "execution_count": 42,
   "id": "aware-image",
   "metadata": {},
   "outputs": [
    {
     "data": {
      "text/plain": [
       "array([24,  7,  2, 25, 22, 29])"
      ]
     },
     "execution_count": 42,
     "metadata": {},
     "output_type": "execute_result"
    }
   ],
   "source": [
    "# define x\n",
    "x = np.array([24,  7,  2, 25, 22, 29])\n",
    "x    "
   ]
  },
  {
   "cell_type": "code",
   "execution_count": 43,
   "id": "ed518fe2",
   "metadata": {},
   "outputs": [
    {
     "data": {
      "text/plain": [
       "bad       2\n",
       "medium    2\n",
       "good      2\n",
       "dtype: int64"
      ]
     },
     "execution_count": 43,
     "metadata": {},
     "output_type": "execute_result"
    }
   ],
   "source": [
    "# equal frequency discretisation with qcut \n",
    "pd.qcut(x, q = 3, labels = [\"bad\", \"medium\", \"good\"]).value_counts() #Equal frequency of 2 in each bins"
   ]
  },
  {
   "cell_type": "code",
   "execution_count": 80,
   "id": "prime-medium",
   "metadata": {},
   "outputs": [
    {
     "data": {
      "text/plain": [
       "bad       2\n",
       "medium    2\n",
       "good      2\n",
       "dtype: int64"
      ]
     },
     "execution_count": 80,
     "metadata": {},
     "output_type": "execute_result"
    }
   ],
   "source": [
    "# equal frequency discretisation with qcut \n",
    " #Equal frequency of 2 in each bins"
   ]
  },
  {
   "cell_type": "markdown",
   "id": "tribal-signature",
   "metadata": {},
   "source": [
    "## 7. Outlier Engineering "
   ]
  },
  {
   "cell_type": "code",
   "execution_count": null,
   "id": "athletic-elimination",
   "metadata": {},
   "outputs": [],
   "source": [
    "# Identyfikacja wartości odstających\n",
    "# Analiza wartości ekstremalnych\n",
    "\n",
    "#     Najbardziej podstawową formą wykrywania wartości odstających jest analiza wartości ekstremalnych \n",
    "# danych jednowymiarowych. Kluczem do tej metody jest określenie ogonów statystycznych podstawowego rozkładu zmiennej,\n",
    "# a następnie znalezienie wartości, które znajdują się na samym końcu ogonów.\n",
    "\n",
    "#     W typowym scenariuszu rozkład zmiennej jest rozkładem gaussowskim, a zatem wartości odstające będą \n",
    "# leżeć poza średnią plus minus 3-krotność odchylenia standardowego zmiennej.\n",
    "\n",
    "#     Jeśli zmienna nie ma rozkładu normalnego, ogólne podejście polega na obliczeniu kwantyli, \n",
    "# a następnie rozstępu międzykwantylowego (IQR), w następujący sposób:\n",
    "\n",
    "#     IQR = 75-ty kwantyl - 25-ty kwantyl\n",
    "\n",
    "#     Wartość odstająca będzie znajdować się poza następującymi górnymi i dolnymi granicami:\n",
    "\n",
    "#     Górna granica = 75. kwantyl + (IQR * 1,5)\n",
    "\n",
    "#     Dolna granica = 25. kwantyl - (IQR * 1,5)\n",
    "\n",
    "# lub w skrajnych przypadkach:\n",
    "\n",
    "#     Górna granica = 75. kwantyl + (IQR * 3)\n",
    "\n",
    "#     Dolna granica = 25. kwantyl - (IQR * 3)"
   ]
  },
  {
   "cell_type": "code",
   "execution_count": 84,
   "id": "fitted-conditioning",
   "metadata": {},
   "outputs": [],
   "source": [
    "## wczytajmy train.csv z kolumnami 'Pclass', 'Age', 'SibSp', 'Parch', 'Fare', 'Survived'\n",
    "## pokażmy 5 pierwszych wierszy"
   ]
  },
  {
   "cell_type": "code",
   "execution_count": 59,
   "id": "confirmed-medicine",
   "metadata": {},
   "outputs": [
    {
     "data": {
      "text/html": [
       "<div>\n",
       "<style scoped>\n",
       "    .dataframe tbody tr th:only-of-type {\n",
       "        vertical-align: middle;\n",
       "    }\n",
       "\n",
       "    .dataframe tbody tr th {\n",
       "        vertical-align: top;\n",
       "    }\n",
       "\n",
       "    .dataframe thead th {\n",
       "        text-align: right;\n",
       "    }\n",
       "</style>\n",
       "<table border=\"1\" class=\"dataframe\">\n",
       "  <thead>\n",
       "    <tr style=\"text-align: right;\">\n",
       "      <th></th>\n",
       "      <th>Survived</th>\n",
       "      <th>Pclass</th>\n",
       "      <th>Age</th>\n",
       "      <th>SibSp</th>\n",
       "      <th>Parch</th>\n",
       "      <th>Fare</th>\n",
       "    </tr>\n",
       "  </thead>\n",
       "  <tbody>\n",
       "    <tr>\n",
       "      <th>0</th>\n",
       "      <td>0</td>\n",
       "      <td>3</td>\n",
       "      <td>22.0</td>\n",
       "      <td>1</td>\n",
       "      <td>0</td>\n",
       "      <td>7.2500</td>\n",
       "    </tr>\n",
       "    <tr>\n",
       "      <th>1</th>\n",
       "      <td>1</td>\n",
       "      <td>1</td>\n",
       "      <td>38.0</td>\n",
       "      <td>1</td>\n",
       "      <td>0</td>\n",
       "      <td>71.2833</td>\n",
       "    </tr>\n",
       "    <tr>\n",
       "      <th>2</th>\n",
       "      <td>1</td>\n",
       "      <td>3</td>\n",
       "      <td>26.0</td>\n",
       "      <td>0</td>\n",
       "      <td>0</td>\n",
       "      <td>7.9250</td>\n",
       "    </tr>\n",
       "    <tr>\n",
       "      <th>3</th>\n",
       "      <td>1</td>\n",
       "      <td>1</td>\n",
       "      <td>35.0</td>\n",
       "      <td>1</td>\n",
       "      <td>0</td>\n",
       "      <td>53.1000</td>\n",
       "    </tr>\n",
       "    <tr>\n",
       "      <th>4</th>\n",
       "      <td>0</td>\n",
       "      <td>3</td>\n",
       "      <td>35.0</td>\n",
       "      <td>0</td>\n",
       "      <td>0</td>\n",
       "      <td>8.0500</td>\n",
       "    </tr>\n",
       "  </tbody>\n",
       "</table>\n",
       "</div>"
      ],
      "text/plain": [
       "   Survived  Pclass   Age  SibSp  Parch     Fare\n",
       "0         0       3  22.0      1      0   7.2500\n",
       "1         1       1  38.0      1      0  71.2833\n",
       "2         1       3  26.0      0      0   7.9250\n",
       "3         1       1  35.0      1      0  53.1000\n",
       "4         0       3  35.0      0      0   8.0500"
      ]
     },
     "execution_count": 59,
     "metadata": {},
     "output_type": "execute_result"
    }
   ],
   "source": [
    "data = pd.read_csv('Dane/train.csv', usecols = ['Pclass', 'Age', 'SibSp', 'Parch', 'Fare', 'Survived'])\n",
    "data.head()\n"
   ]
  },
  {
   "cell_type": "code",
   "execution_count": 85,
   "id": "diagnostic-password",
   "metadata": {},
   "outputs": [],
   "source": [
    "## wykonajmy podział danych na treningowe i testowe jak wyżej w proporcji test = 0.3\n",
    "## wyswietl shapy obu zbiorow"
   ]
  },
  {
   "cell_type": "code",
   "execution_count": 60,
   "id": "parliamentary-penguin",
   "metadata": {},
   "outputs": [
    {
     "data": {
      "text/plain": [
       "((623, 6), (268, 6))"
      ]
     },
     "execution_count": 60,
     "metadata": {},
     "output_type": "execute_result"
    }
   ],
   "source": [
    "X_train, X_test, y_train, y_test = train_test_split(data, data.Survived,\n",
    "                                                    test_size=0.3,\n",
    "                                                    random_state=0)\n",
    "X_train.shape, X_test.shape"
   ]
  },
  {
   "cell_type": "code",
   "execution_count": 87,
   "id": "annoying-fellowship",
   "metadata": {},
   "outputs": [],
   "source": [
    "## zwizualizujmy Age and Fare"
   ]
  },
  {
   "cell_type": "code",
   "execution_count": 88,
   "id": "wicked-convertible",
   "metadata": {},
   "outputs": [
    {
     "data": {
      "text/plain": [
       "Text(0, 0.5, 'Fare')"
      ]
     },
     "execution_count": 88,
     "metadata": {},
     "output_type": "execute_result"
    },
    {
     "data": {
      "image/png": "[encoded data removed]",
      "text/plain": [
       "<Figure size 1080x432 with 2 Axes>"
      ]
     },
     "metadata": {
      "needs_background": "light"
     },
     "output_type": "display_data"
    }
   ],
   "source": [
    "plt.figure(figsize=(15,6))\n",
    "plt.subplot(1, 2, 1)\n",
    "fig = data.boxplot(column='Age')\n",
    "fig.set_title('')\n",
    "fig.set_ylabel('Age')\n",
    "\n",
    "plt.subplot(1, 2, 2)\n",
    "fig = data.boxplot(column='Fare')\n",
    "fig.set_title('')\n",
    "fig.set_ylabel('Fare')"
   ]
  },
  {
   "cell_type": "markdown",
   "id": "incredible-festival",
   "metadata": {},
   "source": [
    "![Discretising data with pandas cut and qcut](https://www.statystyka-zadania.pl/wp-content/uploads/2018/02/wykres-pude%C5%82kowy2-1.png)\n"
   ]
  },
  {
   "cell_type": "code",
   "execution_count": 90,
   "id": "champion-mustang",
   "metadata": {},
   "outputs": [],
   "source": [
    "## zobaczmy dystrybucje"
   ]
  },
  {
   "cell_type": "code",
   "execution_count": 91,
   "id": "cross-shield",
   "metadata": {},
   "outputs": [
    {
     "data": {
      "text/plain": [
       "Text(0.5, 0, 'Fare')"
      ]
     },
     "execution_count": 91,
     "metadata": {},
     "output_type": "execute_result"
    },
    {
     "data": {
      "image/png": "[encoded data removed]",
      "text/plain": [
       "<Figure size 1080x432 with 2 Axes>"
      ]
     },
     "metadata": {
      "needs_background": "light"
     },
     "output_type": "display_data"
    }
   ],
   "source": [
    "\n",
    "plt.figure(figsize=(15,6))\n",
    "plt.subplot(1, 2, 1)\n",
    "fig = data.Age.hist(bins=20)\n",
    "fig.set_ylabel('Number of passengers')\n",
    "fig.set_xlabel('Age')\n",
    "\n",
    "plt.subplot(1, 2, 2)\n",
    "fig = data.Fare.hist(bins=20)\n",
    "fig.set_ylabel('Number of passengers')\n",
    "fig.set_xlabel('Fare')"
   ]
  },
  {
   "cell_type": "code",
   "execution_count": 92,
   "id": "attempted-daughter",
   "metadata": {},
   "outputs": [],
   "source": [
    "## znajdowanie outlierow"
   ]
  },
  {
   "cell_type": "code",
   "execution_count": 93,
   "id": "catholic-talent",
   "metadata": {},
   "outputs": [
    {
     "name": "stdout",
     "output_type": "stream",
     "text": [
      "Age outliers are values < -13.990614345024813 or > 73.39131019238734\n",
      "Fare outliers are values < -61.358399999999996 or > 100.2688\n"
     ]
    }
   ],
   "source": [
    "\n",
    "\n",
    "# find outliers\n",
    "\n",
    "# Age\n",
    "Upper_boundary = data.Age.mean() + 3* data.Age.std()\n",
    "Lower_boundary = data.Age.mean() - 3* data.Age.std()\n",
    "print('Age outliers are values < {lowerboundary} or > {upperboundary}'.format(lowerboundary=Lower_boundary, upperboundary=Upper_boundary))\n",
    "\n",
    "# Fare\n",
    "IQR = data.Fare.quantile(0.75) - data.Fare.quantile(0.25)\n",
    "Lower_fence = data.Fare.quantile(0.25) - (IQR * 3)\n",
    "Upper_fence = data.Fare.quantile(0.75) + (IQR * 3)\n",
    "print('Fare outliers are values < {lowerboundary} or > {upperboundary}'.format(lowerboundary=Lower_fence, upperboundary=Upper_fence))\n",
    "\n"
   ]
  },
  {
   "cell_type": "code",
   "execution_count": 95,
   "id": "casual-arrival",
   "metadata": {},
   "outputs": [
    {
     "data": {
      "text/plain": [
       "29.70034792368126"
      ]
     },
     "execution_count": 95,
     "metadata": {},
     "output_type": "execute_result"
    }
   ],
   "source": [
    "data.Age.mean()"
   ]
  },
  {
   "cell_type": "code",
   "execution_count": 61,
   "id": "constitutional-narrow",
   "metadata": {},
   "outputs": [
    {
     "data": {
      "text/plain": [
       "43.57949199700212"
      ]
     },
     "execution_count": 61,
     "metadata": {},
     "output_type": "execute_result"
    }
   ],
   "source": [
    "3* data.Age.std()"
   ]
  },
  {
   "cell_type": "code",
   "execution_count": 98,
   "id": "southeast-element",
   "metadata": {},
   "outputs": [],
   "source": [
    "## wykonaj describe dla kolumny Age"
   ]
  },
  {
   "cell_type": "code",
   "execution_count": 62,
   "id": "straight-nurse",
   "metadata": {},
   "outputs": [
    {
     "data": {
      "text/plain": [
       "count    714.000000\n",
       "mean      29.699118\n",
       "std       14.526497\n",
       "min        0.420000\n",
       "25%       20.125000\n",
       "50%       28.000000\n",
       "75%       38.000000\n",
       "max       80.000000\n",
       "Name: Age, dtype: float64"
      ]
     },
     "execution_count": 62,
     "metadata": {},
     "output_type": "execute_result"
    }
   ],
   "source": [
    "data.Age.describe()"
   ]
  },
  {
   "cell_type": "code",
   "execution_count": 100,
   "id": "universal-browse",
   "metadata": {},
   "outputs": [],
   "source": [
    "## zmień dla X_train i X_test wartości dla kolumny Age powyżej 73 na  =73 "
   ]
  },
  {
   "cell_type": "code",
   "execution_count": 63,
   "id": "original-playing",
   "metadata": {},
   "outputs": [],
   "source": [
    "X_train.loc[X_train.Age>73, 'Age'] = 73\n",
    "X_test.loc[X_test.Age>73, 'Age'] = 73\n",
    "\n"
   ]
  },
  {
   "cell_type": "code",
   "execution_count": null,
   "id": "proprietary-terrorist",
   "metadata": {},
   "outputs": [],
   "source": [
    "## pokaż dla obu zbiorów dla kolumny Age max"
   ]
  },
  {
   "cell_type": "code",
   "execution_count": 64,
   "id": "handy-practitioner",
   "metadata": {},
   "outputs": [
    {
     "data": {
      "text/plain": [
       "(73.0, 70.5)"
      ]
     },
     "execution_count": 64,
     "metadata": {},
     "output_type": "execute_result"
    }
   ],
   "source": [
    "X_train.Age.max(), X_test.Age.max()"
   ]
  }
 ],
 "metadata": {
  "kernelspec": {
   "display_name": "Python 3 (ipykernel)",
   "language": "python",
   "name": "python3"
  },
  "language_info": {
   "codemirror_mode": {
    "name": "ipython",
    "version": 3
   },
   "file_extension": ".py",
   "mimetype": "text/x-python",
   "name": "python",
   "nbconvert_exporter": "python",
   "pygments_lexer": "ipython3",
   "version": "3.11.2"
  }
 },
 "nbformat": 4,
 "nbformat_minor": 5
}
