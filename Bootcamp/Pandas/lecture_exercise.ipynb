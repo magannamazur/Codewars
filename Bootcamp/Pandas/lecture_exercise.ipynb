{
 "cells": [
  {
   "cell_type": "code",
   "execution_count": 884,
   "id": "a2c692ba",
   "metadata": {},
   "outputs": [],
   "source": [
    "import pandas as pd\n",
    "import numpy as np"
   ]
  },
  {
   "cell_type": "code",
   "execution_count": 885,
   "id": "ee6be40a",
   "metadata": {},
   "outputs": [
    {
     "data": {
      "text/plain": [
       "'1.5.3'"
      ]
     },
     "execution_count": 885,
     "metadata": {},
     "output_type": "execute_result"
    }
   ],
   "source": [
    "pd.__version__"
   ]
  },
  {
   "cell_type": "code",
   "execution_count": 886,
   "id": "b4aa2b41",
   "metadata": {},
   "outputs": [
    {
     "data": {
      "text/plain": [
       "(None, nan)"
      ]
     },
     "execution_count": 886,
     "metadata": {},
     "output_type": "execute_result"
    }
   ],
   "source": [
    "None,np.nan # np.nan - jest zmiennoprzecinkowa"
   ]
  },
  {
   "cell_type": "code",
   "execution_count": 887,
   "id": "484cb7fb",
   "metadata": {},
   "outputs": [
    {
     "data": {
      "text/plain": [
       "0    1.0\n",
       "1    3.0\n",
       "2    4.0\n",
       "3    NaN\n",
       "4    6.0\n",
       "5    8.0\n",
       "dtype: float64"
      ]
     },
     "execution_count": 887,
     "metadata": {},
     "output_type": "execute_result"
    }
   ],
   "source": [
    "s = pd.Series([1,3,4,np.nan,6,8]) #lista\n",
    "s"
   ]
  },
  {
   "cell_type": "code",
   "execution_count": 888,
   "id": "9009a1e4",
   "metadata": {},
   "outputs": [
    {
     "data": {
      "text/plain": [
       "pandas.core.series.Series"
      ]
     },
     "execution_count": 888,
     "metadata": {},
     "output_type": "execute_result"
    }
   ],
   "source": [
    "type(s)"
   ]
  },
  {
   "cell_type": "code",
   "execution_count": 889,
   "id": "2fa26463",
   "metadata": {},
   "outputs": [
    {
     "data": {
      "text/plain": [
       "DatetimeIndex(['2013-01-01', '2013-01-02', '2013-01-03', '2013-01-04',\n",
       "               '2013-01-05', '2013-01-06'],\n",
       "              dtype='datetime64[ns]', freq='D')"
      ]
     },
     "execution_count": 889,
     "metadata": {},
     "output_type": "execute_result"
    }
   ],
   "source": [
    "dates = pd.date_range('20130101', periods =6)\n",
    "dates"
   ]
  },
  {
   "cell_type": "code",
   "execution_count": 890,
   "id": "a3204327",
   "metadata": {},
   "outputs": [
    {
     "data": {
      "text/plain": [
       "pandas.core.indexes.datetimes.DatetimeIndex"
      ]
     },
     "execution_count": 890,
     "metadata": {},
     "output_type": "execute_result"
    }
   ],
   "source": [
    "type(dates)"
   ]
  },
  {
   "cell_type": "code",
   "execution_count": 891,
   "id": "c0fe2c27",
   "metadata": {},
   "outputs": [
    {
     "data": {
      "text/html": [
       "<div>\n",
       "<style scoped>\n",
       "    .dataframe tbody tr th:only-of-type {\n",
       "        vertical-align: middle;\n",
       "    }\n",
       "\n",
       "    .dataframe tbody tr th {\n",
       "        vertical-align: top;\n",
       "    }\n",
       "\n",
       "    .dataframe thead th {\n",
       "        text-align: right;\n",
       "    }\n",
       "</style>\n",
       "<table border=\"1\" class=\"dataframe\">\n",
       "  <thead>\n",
       "    <tr style=\"text-align: right;\">\n",
       "      <th></th>\n",
       "      <th>A</th>\n",
       "      <th>B</th>\n",
       "    </tr>\n",
       "  </thead>\n",
       "  <tbody>\n",
       "    <tr>\n",
       "      <th>0</th>\n",
       "      <td>1</td>\n",
       "      <td>4</td>\n",
       "    </tr>\n",
       "    <tr>\n",
       "      <th>1</th>\n",
       "      <td>2</td>\n",
       "      <td>5</td>\n",
       "    </tr>\n",
       "    <tr>\n",
       "      <th>2</th>\n",
       "      <td>3</td>\n",
       "      <td>6</td>\n",
       "    </tr>\n",
       "  </tbody>\n",
       "</table>\n",
       "</div>"
      ],
      "text/plain": [
       "   A  B\n",
       "0  1  4\n",
       "1  2  5\n",
       "2  3  6"
      ]
     },
     "execution_count": 891,
     "metadata": {},
     "output_type": "execute_result"
    }
   ],
   "source": [
    "df = pd.DataFrame({'A':[1,2,3],\n",
    "                  'B':[4,5,6]})\n",
    "df"
   ]
  },
  {
   "cell_type": "code",
   "execution_count": 892,
   "id": "52bf5891",
   "metadata": {},
   "outputs": [
    {
     "data": {
      "text/plain": [
       "pandas.core.frame.DataFrame"
      ]
     },
     "execution_count": 892,
     "metadata": {},
     "output_type": "execute_result"
    }
   ],
   "source": [
    "type(df)"
   ]
  },
  {
   "cell_type": "code",
   "execution_count": 1004,
   "id": "7be5fa68",
   "metadata": {},
   "outputs": [
    {
     "data": {
      "text/html": [
       "<div>\n",
       "<style scoped>\n",
       "    .dataframe tbody tr th:only-of-type {\n",
       "        vertical-align: middle;\n",
       "    }\n",
       "\n",
       "    .dataframe tbody tr th {\n",
       "        vertical-align: top;\n",
       "    }\n",
       "\n",
       "    .dataframe thead th {\n",
       "        text-align: right;\n",
       "    }\n",
       "</style>\n",
       "<table border=\"1\" class=\"dataframe\">\n",
       "  <thead>\n",
       "    <tr style=\"text-align: right;\">\n",
       "      <th></th>\n",
       "      <th>A</th>\n",
       "      <th>B</th>\n",
       "      <th>C</th>\n",
       "      <th>D</th>\n",
       "    </tr>\n",
       "  </thead>\n",
       "  <tbody>\n",
       "    <tr>\n",
       "      <th>2013-01-01</th>\n",
       "      <td>-0.138523</td>\n",
       "      <td>1.600831</td>\n",
       "      <td>-0.381396</td>\n",
       "      <td>-0.870288</td>\n",
       "    </tr>\n",
       "    <tr>\n",
       "      <th>2013-01-02</th>\n",
       "      <td>-0.943070</td>\n",
       "      <td>1.129623</td>\n",
       "      <td>0.388183</td>\n",
       "      <td>-0.129496</td>\n",
       "    </tr>\n",
       "    <tr>\n",
       "      <th>2013-01-03</th>\n",
       "      <td>0.584067</td>\n",
       "      <td>0.839937</td>\n",
       "      <td>1.079743</td>\n",
       "      <td>-0.507180</td>\n",
       "    </tr>\n",
       "    <tr>\n",
       "      <th>2013-01-04</th>\n",
       "      <td>0.768748</td>\n",
       "      <td>-0.397620</td>\n",
       "      <td>-1.335075</td>\n",
       "      <td>-0.439327</td>\n",
       "    </tr>\n",
       "    <tr>\n",
       "      <th>2013-01-05</th>\n",
       "      <td>0.722050</td>\n",
       "      <td>1.816211</td>\n",
       "      <td>-0.114543</td>\n",
       "      <td>0.303066</td>\n",
       "    </tr>\n",
       "    <tr>\n",
       "      <th>2013-01-06</th>\n",
       "      <td>1.125701</td>\n",
       "      <td>1.138635</td>\n",
       "      <td>-1.710956</td>\n",
       "      <td>-0.491032</td>\n",
       "    </tr>\n",
       "  </tbody>\n",
       "</table>\n",
       "</div>"
      ],
      "text/plain": [
       "                   A         B         C         D\n",
       "2013-01-01 -0.138523  1.600831 -0.381396 -0.870288\n",
       "2013-01-02 -0.943070  1.129623  0.388183 -0.129496\n",
       "2013-01-03  0.584067  0.839937  1.079743 -0.507180\n",
       "2013-01-04  0.768748 -0.397620 -1.335075 -0.439327\n",
       "2013-01-05  0.722050  1.816211 -0.114543  0.303066\n",
       "2013-01-06  1.125701  1.138635 -1.710956 -0.491032"
      ]
     },
     "execution_count": 1004,
     "metadata": {},
     "output_type": "execute_result"
    }
   ],
   "source": [
    "df = pd.DataFrame(np.random.randn(6,4),\n",
    "                 index=dates,\n",
    "                 columns =list('ABCD'))\n",
    "df"
   ]
  },
  {
   "cell_type": "code",
   "execution_count": 1005,
   "id": "7a942712",
   "metadata": {},
   "outputs": [
    {
     "data": {
      "text/plain": [
       "array([[ 1.27593705, -0.18505654,  0.75110547,  0.072324  ],\n",
       "       [ 0.47426504,  0.93725441,  0.83597157, -0.51281431],\n",
       "       [-1.92969124, -1.54777041, -0.15254914,  0.67815063],\n",
       "       [ 0.50036333, -1.12215301, -0.13535469,  0.81093079],\n",
       "       [-0.8607866 , -1.24990074, -0.70270291,  0.79935478],\n",
       "       [-0.79638924,  0.08765977,  0.46690686, -1.57403052]])"
      ]
     },
     "execution_count": 1005,
     "metadata": {},
     "output_type": "execute_result"
    }
   ],
   "source": [
    "np.random.randn(6,4)"
   ]
  },
  {
   "cell_type": "code",
   "execution_count": 1006,
   "id": "0af7f339",
   "metadata": {},
   "outputs": [
    {
     "data": {
      "text/plain": [
       "numpy.ndarray"
      ]
     },
     "execution_count": 1006,
     "metadata": {},
     "output_type": "execute_result"
    }
   ],
   "source": [
    "type(np.random.randn(6,4))"
   ]
  },
  {
   "cell_type": "code",
   "execution_count": 1007,
   "id": "f3b0f7f5",
   "metadata": {},
   "outputs": [
    {
     "data": {
      "text/html": [
       "<div>\n",
       "<style scoped>\n",
       "    .dataframe tbody tr th:only-of-type {\n",
       "        vertical-align: middle;\n",
       "    }\n",
       "\n",
       "    .dataframe tbody tr th {\n",
       "        vertical-align: top;\n",
       "    }\n",
       "\n",
       "    .dataframe thead th {\n",
       "        text-align: right;\n",
       "    }\n",
       "</style>\n",
       "<table border=\"1\" class=\"dataframe\">\n",
       "  <thead>\n",
       "    <tr style=\"text-align: right;\">\n",
       "      <th></th>\n",
       "      <th>A</th>\n",
       "      <th>B</th>\n",
       "      <th>C</th>\n",
       "      <th>D</th>\n",
       "      <th>E</th>\n",
       "      <th>F</th>\n",
       "      <th>G</th>\n",
       "    </tr>\n",
       "  </thead>\n",
       "  <tbody>\n",
       "    <tr>\n",
       "      <th>0</th>\n",
       "      <td>1.0</td>\n",
       "      <td>2013-01-02</td>\n",
       "      <td>1.0</td>\n",
       "      <td>3</td>\n",
       "      <td>test</td>\n",
       "      <td>foo</td>\n",
       "      <td>False</td>\n",
       "    </tr>\n",
       "    <tr>\n",
       "      <th>1</th>\n",
       "      <td>1.0</td>\n",
       "      <td>2013-01-02</td>\n",
       "      <td>1.0</td>\n",
       "      <td>3</td>\n",
       "      <td>train</td>\n",
       "      <td>foo</td>\n",
       "      <td>True</td>\n",
       "    </tr>\n",
       "    <tr>\n",
       "      <th>2</th>\n",
       "      <td>1.0</td>\n",
       "      <td>2013-01-02</td>\n",
       "      <td>1.0</td>\n",
       "      <td>3</td>\n",
       "      <td>test</td>\n",
       "      <td>foo</td>\n",
       "      <td>True</td>\n",
       "    </tr>\n",
       "    <tr>\n",
       "      <th>3</th>\n",
       "      <td>1.0</td>\n",
       "      <td>2013-01-02</td>\n",
       "      <td>1.0</td>\n",
       "      <td>3</td>\n",
       "      <td>train</td>\n",
       "      <td>foo</td>\n",
       "      <td>False</td>\n",
       "    </tr>\n",
       "  </tbody>\n",
       "</table>\n",
       "</div>"
      ],
      "text/plain": [
       "     A          B    C  D      E    F      G\n",
       "0  1.0 2013-01-02  1.0  3   test  foo  False\n",
       "1  1.0 2013-01-02  1.0  3  train  foo   True\n",
       "2  1.0 2013-01-02  1.0  3   test  foo   True\n",
       "3  1.0 2013-01-02  1.0  3  train  foo  False"
      ]
     },
     "execution_count": 1007,
     "metadata": {},
     "output_type": "execute_result"
    }
   ],
   "source": [
    "df2 = pd.DataFrame({\n",
    "                    'A': 1.,\n",
    "                    'B': pd.Timestamp('20130102'),\n",
    "                    'C': pd.Series(1, index=list(range(4)), dtype='float32'),\n",
    "                    'D': np.array([3] * 4, dtype='int32'),\n",
    "                    'E': pd.Categorical([\"test\", \"train\", \"test\", \"train\"]),\n",
    "                    'F': 'foo',\n",
    "                    'G' : [False, True,True,False]\n",
    "                   })\n",
    "df2"
   ]
  },
  {
   "cell_type": "code",
   "execution_count": 1008,
   "id": "2507a265",
   "metadata": {},
   "outputs": [
    {
     "name": "stdout",
     "output_type": "stream",
     "text": [
      "<class 'pandas.core.frame.DataFrame'>\n",
      "Int64Index: 4 entries, 0 to 3\n",
      "Data columns (total 7 columns):\n",
      " #   Column  Non-Null Count  Dtype         \n",
      "---  ------  --------------  -----         \n",
      " 0   A       4 non-null      float64       \n",
      " 1   B       4 non-null      datetime64[ns]\n",
      " 2   C       4 non-null      float32       \n",
      " 3   D       4 non-null      int32         \n",
      " 4   E       4 non-null      category      \n",
      " 5   F       4 non-null      object        \n",
      " 6   G       4 non-null      bool          \n",
      "dtypes: bool(1), category(1), datetime64[ns](1), float32(1), float64(1), int32(1), object(1)\n",
      "memory usage: 292.0+ bytes\n"
     ]
    }
   ],
   "source": [
    "df2.info()"
   ]
  },
  {
   "cell_type": "code",
   "execution_count": 1009,
   "id": "f49c4f5c",
   "metadata": {},
   "outputs": [
    {
     "data": {
      "text/plain": [
       "pandas._libs.tslibs.timestamps.Timestamp"
      ]
     },
     "execution_count": 1009,
     "metadata": {},
     "output_type": "execute_result"
    }
   ],
   "source": [
    "type(pd.Timestamp('20130102'))"
   ]
  },
  {
   "cell_type": "code",
   "execution_count": 1010,
   "id": "d2761985",
   "metadata": {},
   "outputs": [
    {
     "data": {
      "text/plain": [
       "numpy.datetime64('2013-01-02T00:00:00.000000000')"
      ]
     },
     "execution_count": 1010,
     "metadata": {},
     "output_type": "execute_result"
    }
   ],
   "source": [
    "df2['B'].values[0] # wartość kolumny B, wiersza 0"
   ]
  },
  {
   "cell_type": "code",
   "execution_count": 1011,
   "id": "3b9c697c",
   "metadata": {},
   "outputs": [
    {
     "data": {
      "text/plain": [
       "list"
      ]
     },
     "execution_count": 1011,
     "metadata": {},
     "output_type": "execute_result"
    }
   ],
   "source": [
    "type([False, True,True,False])"
   ]
  },
  {
   "cell_type": "code",
   "execution_count": 1012,
   "id": "6d1547c3",
   "metadata": {},
   "outputs": [
    {
     "data": {
      "text/plain": [
       "False"
      ]
     },
     "execution_count": 1012,
     "metadata": {},
     "output_type": "execute_result"
    }
   ],
   "source": [
    "df2['G'].values[0] # wartość kolumny G, wiersza 0"
   ]
  },
  {
   "cell_type": "code",
   "execution_count": 1013,
   "id": "166c8596",
   "metadata": {},
   "outputs": [
    {
     "data": {
      "text/html": [
       "<div>\n",
       "<style scoped>\n",
       "    .dataframe tbody tr th:only-of-type {\n",
       "        vertical-align: middle;\n",
       "    }\n",
       "\n",
       "    .dataframe tbody tr th {\n",
       "        vertical-align: top;\n",
       "    }\n",
       "\n",
       "    .dataframe thead th {\n",
       "        text-align: right;\n",
       "    }\n",
       "</style>\n",
       "<table border=\"1\" class=\"dataframe\">\n",
       "  <thead>\n",
       "    <tr style=\"text-align: right;\">\n",
       "      <th></th>\n",
       "      <th>A</th>\n",
       "      <th>B</th>\n",
       "    </tr>\n",
       "  </thead>\n",
       "  <tbody>\n",
       "    <tr>\n",
       "      <th>0</th>\n",
       "      <td>1</td>\n",
       "      <td>4</td>\n",
       "    </tr>\n",
       "    <tr>\n",
       "      <th>1</th>\n",
       "      <td>2</td>\n",
       "      <td>5</td>\n",
       "    </tr>\n",
       "    <tr>\n",
       "      <th>2</th>\n",
       "      <td>3</td>\n",
       "      <td>6</td>\n",
       "    </tr>\n",
       "  </tbody>\n",
       "</table>\n",
       "</div>"
      ],
      "text/plain": [
       "   A  B\n",
       "0  1  4\n",
       "1  2  5\n",
       "2  3  6"
      ]
     },
     "execution_count": 1013,
     "metadata": {},
     "output_type": "execute_result"
    }
   ],
   "source": [
    "df = pd.DataFrame({'A':[1,'2',3],\n",
    "                  'B':[4,5,6]})\n",
    "df"
   ]
  },
  {
   "cell_type": "code",
   "execution_count": 1014,
   "id": "a7ed8f00",
   "metadata": {},
   "outputs": [
    {
     "name": "stdout",
     "output_type": "stream",
     "text": [
      "<class 'pandas.core.frame.DataFrame'>\n",
      "RangeIndex: 3 entries, 0 to 2\n",
      "Data columns (total 2 columns):\n",
      " #   Column  Non-Null Count  Dtype \n",
      "---  ------  --------------  ----- \n",
      " 0   A       3 non-null      object\n",
      " 1   B       3 non-null      int64 \n",
      "dtypes: int64(1), object(1)\n",
      "memory usage: 180.0+ bytes\n"
     ]
    }
   ],
   "source": [
    "df.info() # type object utożsamiamy ze stringiem, pod stringiem może być wszystko"
   ]
  },
  {
   "cell_type": "code",
   "execution_count": 1015,
   "id": "068f2aac",
   "metadata": {},
   "outputs": [],
   "source": [
    "#df['A'].sum() # nie może policzyć, bo 2 jest stringiem/obiektem a nie int/float"
   ]
  },
  {
   "cell_type": "code",
   "execution_count": 1016,
   "id": "64873397",
   "metadata": {},
   "outputs": [
    {
     "data": {
      "text/html": [
       "<div>\n",
       "<style scoped>\n",
       "    .dataframe tbody tr th:only-of-type {\n",
       "        vertical-align: middle;\n",
       "    }\n",
       "\n",
       "    .dataframe tbody tr th {\n",
       "        vertical-align: top;\n",
       "    }\n",
       "\n",
       "    .dataframe thead th {\n",
       "        text-align: right;\n",
       "    }\n",
       "</style>\n",
       "<table border=\"1\" class=\"dataframe\">\n",
       "  <thead>\n",
       "    <tr style=\"text-align: right;\">\n",
       "      <th></th>\n",
       "      <th>DZIEN_DATA</th>\n",
       "      <th>SKL_ID</th>\n",
       "      <th>TOW_ID</th>\n",
       "      <th>SPRZ_NETTO</th>\n",
       "      <th>ZYSK_PROCENT</th>\n",
       "      <th>ZYSK_WART</th>\n",
       "    </tr>\n",
       "  </thead>\n",
       "  <tbody>\n",
       "    <tr>\n",
       "      <th>0</th>\n",
       "      <td>01.05.2022</td>\n",
       "      <td>1</td>\n",
       "      <td>1</td>\n",
       "      <td>416.0</td>\n",
       "      <td>9</td>\n",
       "      <td>37,44</td>\n",
       "    </tr>\n",
       "    <tr>\n",
       "      <th>1</th>\n",
       "      <td>02.05.2022</td>\n",
       "      <td>1</td>\n",
       "      <td>1</td>\n",
       "      <td>454.0</td>\n",
       "      <td>2</td>\n",
       "      <td>9,08</td>\n",
       "    </tr>\n",
       "    <tr>\n",
       "      <th>2</th>\n",
       "      <td>03.05.2022</td>\n",
       "      <td>1</td>\n",
       "      <td>1</td>\n",
       "      <td>392.0</td>\n",
       "      <td>13</td>\n",
       "      <td>50,96</td>\n",
       "    </tr>\n",
       "    <tr>\n",
       "      <th>3</th>\n",
       "      <td>04.05.2022</td>\n",
       "      <td>1</td>\n",
       "      <td>1</td>\n",
       "      <td>498.0</td>\n",
       "      <td>9</td>\n",
       "      <td>44,82</td>\n",
       "    </tr>\n",
       "    <tr>\n",
       "      <th>4</th>\n",
       "      <td>05.05.2022</td>\n",
       "      <td>1</td>\n",
       "      <td>1</td>\n",
       "      <td>341.0</td>\n",
       "      <td>15</td>\n",
       "      <td>51,15</td>\n",
       "    </tr>\n",
       "    <tr>\n",
       "      <th>...</th>\n",
       "      <td>...</td>\n",
       "      <td>...</td>\n",
       "      <td>...</td>\n",
       "      <td>...</td>\n",
       "      <td>...</td>\n",
       "      <td>...</td>\n",
       "    </tr>\n",
       "    <tr>\n",
       "      <th>130</th>\n",
       "      <td>11.05.2022</td>\n",
       "      <td>3</td>\n",
       "      <td>3</td>\n",
       "      <td>374.0</td>\n",
       "      <td>7</td>\n",
       "      <td>26,18</td>\n",
       "    </tr>\n",
       "    <tr>\n",
       "      <th>131</th>\n",
       "      <td>12.05.2022</td>\n",
       "      <td>3</td>\n",
       "      <td>3</td>\n",
       "      <td>390.0</td>\n",
       "      <td>4</td>\n",
       "      <td>15,6</td>\n",
       "    </tr>\n",
       "    <tr>\n",
       "      <th>132</th>\n",
       "      <td>13.05.2022</td>\n",
       "      <td>3</td>\n",
       "      <td>3</td>\n",
       "      <td>485.0</td>\n",
       "      <td>10</td>\n",
       "      <td>48,5</td>\n",
       "    </tr>\n",
       "    <tr>\n",
       "      <th>133</th>\n",
       "      <td>14.05.2022</td>\n",
       "      <td>3</td>\n",
       "      <td>3</td>\n",
       "      <td>479.0</td>\n",
       "      <td>3</td>\n",
       "      <td>14,37</td>\n",
       "    </tr>\n",
       "    <tr>\n",
       "      <th>134</th>\n",
       "      <td>15.05.2022</td>\n",
       "      <td>3</td>\n",
       "      <td>3</td>\n",
       "      <td>366.0</td>\n",
       "      <td>13</td>\n",
       "      <td>47,58</td>\n",
       "    </tr>\n",
       "  </tbody>\n",
       "</table>\n",
       "<p>135 rows × 6 columns</p>\n",
       "</div>"
      ],
      "text/plain": [
       "     DZIEN_DATA  SKL_ID  TOW_ID  SPRZ_NETTO  ZYSK_PROCENT ZYSK_WART\n",
       "0    01.05.2022       1       1       416.0             9     37,44\n",
       "1    02.05.2022       1       1       454.0             2      9,08\n",
       "2    03.05.2022       1       1       392.0            13     50,96\n",
       "3    04.05.2022       1       1       498.0             9     44,82\n",
       "4    05.05.2022       1       1       341.0            15     51,15\n",
       "..          ...     ...     ...         ...           ...       ...\n",
       "130  11.05.2022       3       3       374.0             7     26,18\n",
       "131  12.05.2022       3       3       390.0             4      15,6\n",
       "132  13.05.2022       3       3       485.0            10      48,5\n",
       "133  14.05.2022       3       3       479.0             3     14,37\n",
       "134  15.05.2022       3       3       366.0            13     47,58\n",
       "\n",
       "[135 rows x 6 columns]"
      ]
     },
     "execution_count": 1016,
     "metadata": {},
     "output_type": "execute_result"
    }
   ],
   "source": [
    "dane_sprzedaz_df = pd.read_csv('dane_sprzedaz.csv', sep=',', encoding='utf-8')\n",
    "dane_sprzedaz_df"
   ]
  },
  {
   "cell_type": "code",
   "execution_count": 1017,
   "id": "dc5dc4dd",
   "metadata": {},
   "outputs": [
    {
     "data": {
      "text/html": [
       "<div>\n",
       "<style scoped>\n",
       "    .dataframe tbody tr th:only-of-type {\n",
       "        vertical-align: middle;\n",
       "    }\n",
       "\n",
       "    .dataframe tbody tr th {\n",
       "        vertical-align: top;\n",
       "    }\n",
       "\n",
       "    .dataframe thead th {\n",
       "        text-align: right;\n",
       "    }\n",
       "</style>\n",
       "<table border=\"1\" class=\"dataframe\">\n",
       "  <thead>\n",
       "    <tr style=\"text-align: right;\">\n",
       "      <th></th>\n",
       "      <th>A</th>\n",
       "      <th>B</th>\n",
       "      <th>C</th>\n",
       "      <th>D</th>\n",
       "    </tr>\n",
       "  </thead>\n",
       "  <tbody>\n",
       "    <tr>\n",
       "      <th>2013-01-01</th>\n",
       "      <td>2.686980</td>\n",
       "      <td>0.620658</td>\n",
       "      <td>0.566080</td>\n",
       "      <td>-0.796421</td>\n",
       "    </tr>\n",
       "    <tr>\n",
       "      <th>2013-01-02</th>\n",
       "      <td>1.781268</td>\n",
       "      <td>-1.603251</td>\n",
       "      <td>-0.387673</td>\n",
       "      <td>-1.446385</td>\n",
       "    </tr>\n",
       "    <tr>\n",
       "      <th>2013-01-03</th>\n",
       "      <td>-0.019280</td>\n",
       "      <td>0.476807</td>\n",
       "      <td>1.045772</td>\n",
       "      <td>0.291544</td>\n",
       "    </tr>\n",
       "    <tr>\n",
       "      <th>2013-01-04</th>\n",
       "      <td>-0.231352</td>\n",
       "      <td>-0.201520</td>\n",
       "      <td>0.720959</td>\n",
       "      <td>0.916076</td>\n",
       "    </tr>\n",
       "    <tr>\n",
       "      <th>2013-01-05</th>\n",
       "      <td>0.315610</td>\n",
       "      <td>0.696807</td>\n",
       "      <td>0.586792</td>\n",
       "      <td>1.253378</td>\n",
       "    </tr>\n",
       "    <tr>\n",
       "      <th>2013-01-06</th>\n",
       "      <td>-0.367903</td>\n",
       "      <td>-0.294924</td>\n",
       "      <td>-0.237361</td>\n",
       "      <td>-0.158685</td>\n",
       "    </tr>\n",
       "  </tbody>\n",
       "</table>\n",
       "</div>"
      ],
      "text/plain": [
       "                   A         B         C         D\n",
       "2013-01-01  2.686980  0.620658  0.566080 -0.796421\n",
       "2013-01-02  1.781268 -1.603251 -0.387673 -1.446385\n",
       "2013-01-03 -0.019280  0.476807  1.045772  0.291544\n",
       "2013-01-04 -0.231352 -0.201520  0.720959  0.916076\n",
       "2013-01-05  0.315610  0.696807  0.586792  1.253378\n",
       "2013-01-06 -0.367903 -0.294924 -0.237361 -0.158685"
      ]
     },
     "execution_count": 1017,
     "metadata": {},
     "output_type": "execute_result"
    }
   ],
   "source": [
    "df = pd.DataFrame(np.random.randn(6,4),\n",
    "                 index=dates,\n",
    "                 columns =list('ABCD'))\n",
    "df"
   ]
  },
  {
   "cell_type": "code",
   "execution_count": 1018,
   "id": "01262793",
   "metadata": {},
   "outputs": [
    {
     "data": {
      "text/html": [
       "<div>\n",
       "<style scoped>\n",
       "    .dataframe tbody tr th:only-of-type {\n",
       "        vertical-align: middle;\n",
       "    }\n",
       "\n",
       "    .dataframe tbody tr th {\n",
       "        vertical-align: top;\n",
       "    }\n",
       "\n",
       "    .dataframe thead th {\n",
       "        text-align: right;\n",
       "    }\n",
       "</style>\n",
       "<table border=\"1\" class=\"dataframe\">\n",
       "  <thead>\n",
       "    <tr style=\"text-align: right;\">\n",
       "      <th></th>\n",
       "      <th>A</th>\n",
       "      <th>B</th>\n",
       "      <th>C</th>\n",
       "      <th>D</th>\n",
       "    </tr>\n",
       "  </thead>\n",
       "  <tbody>\n",
       "    <tr>\n",
       "      <th>2013-01-01</th>\n",
       "      <td>2.686980</td>\n",
       "      <td>0.620658</td>\n",
       "      <td>0.566080</td>\n",
       "      <td>-0.796421</td>\n",
       "    </tr>\n",
       "    <tr>\n",
       "      <th>2013-01-02</th>\n",
       "      <td>1.781268</td>\n",
       "      <td>-1.603251</td>\n",
       "      <td>-0.387673</td>\n",
       "      <td>-1.446385</td>\n",
       "    </tr>\n",
       "    <tr>\n",
       "      <th>2013-01-03</th>\n",
       "      <td>-0.019280</td>\n",
       "      <td>0.476807</td>\n",
       "      <td>1.045772</td>\n",
       "      <td>0.291544</td>\n",
       "    </tr>\n",
       "  </tbody>\n",
       "</table>\n",
       "</div>"
      ],
      "text/plain": [
       "                   A         B         C         D\n",
       "2013-01-01  2.686980  0.620658  0.566080 -0.796421\n",
       "2013-01-02  1.781268 -1.603251 -0.387673 -1.446385\n",
       "2013-01-03 -0.019280  0.476807  1.045772  0.291544"
      ]
     },
     "execution_count": 1018,
     "metadata": {},
     "output_type": "execute_result"
    }
   ],
   "source": [
    "df.head(3)"
   ]
  },
  {
   "cell_type": "code",
   "execution_count": 1019,
   "id": "580f1567",
   "metadata": {},
   "outputs": [
    {
     "data": {
      "text/html": [
       "<div>\n",
       "<style scoped>\n",
       "    .dataframe tbody tr th:only-of-type {\n",
       "        vertical-align: middle;\n",
       "    }\n",
       "\n",
       "    .dataframe tbody tr th {\n",
       "        vertical-align: top;\n",
       "    }\n",
       "\n",
       "    .dataframe thead th {\n",
       "        text-align: right;\n",
       "    }\n",
       "</style>\n",
       "<table border=\"1\" class=\"dataframe\">\n",
       "  <thead>\n",
       "    <tr style=\"text-align: right;\">\n",
       "      <th></th>\n",
       "      <th>A</th>\n",
       "      <th>B</th>\n",
       "      <th>C</th>\n",
       "      <th>D</th>\n",
       "    </tr>\n",
       "  </thead>\n",
       "  <tbody>\n",
       "    <tr>\n",
       "      <th>2013-01-04</th>\n",
       "      <td>-0.231352</td>\n",
       "      <td>-0.201520</td>\n",
       "      <td>0.720959</td>\n",
       "      <td>0.916076</td>\n",
       "    </tr>\n",
       "    <tr>\n",
       "      <th>2013-01-05</th>\n",
       "      <td>0.315610</td>\n",
       "      <td>0.696807</td>\n",
       "      <td>0.586792</td>\n",
       "      <td>1.253378</td>\n",
       "    </tr>\n",
       "    <tr>\n",
       "      <th>2013-01-06</th>\n",
       "      <td>-0.367903</td>\n",
       "      <td>-0.294924</td>\n",
       "      <td>-0.237361</td>\n",
       "      <td>-0.158685</td>\n",
       "    </tr>\n",
       "  </tbody>\n",
       "</table>\n",
       "</div>"
      ],
      "text/plain": [
       "                   A         B         C         D\n",
       "2013-01-04 -0.231352 -0.201520  0.720959  0.916076\n",
       "2013-01-05  0.315610  0.696807  0.586792  1.253378\n",
       "2013-01-06 -0.367903 -0.294924 -0.237361 -0.158685"
      ]
     },
     "execution_count": 1019,
     "metadata": {},
     "output_type": "execute_result"
    }
   ],
   "source": [
    "df.tail(3)"
   ]
  },
  {
   "cell_type": "code",
   "execution_count": 1020,
   "id": "6e8da407",
   "metadata": {},
   "outputs": [
    {
     "data": {
      "text/plain": [
       "DatetimeIndex(['2013-01-01', '2013-01-02', '2013-01-03', '2013-01-04',\n",
       "               '2013-01-05', '2013-01-06'],\n",
       "              dtype='datetime64[ns]', freq='D')"
      ]
     },
     "execution_count": 1020,
     "metadata": {},
     "output_type": "execute_result"
    }
   ],
   "source": [
    "df.index"
   ]
  },
  {
   "cell_type": "code",
   "execution_count": 1021,
   "id": "7b747e21",
   "metadata": {},
   "outputs": [
    {
     "data": {
      "text/plain": [
       "array([[ 2.6869802 ,  0.62065834,  0.56608024, -0.79642141],\n",
       "       [ 1.78126826, -1.60325063, -0.38767337, -1.44638453],\n",
       "       [-0.01927998,  0.47680678,  1.04577172,  0.29154394],\n",
       "       [-0.23135192, -0.20152045,  0.72095868,  0.91607626],\n",
       "       [ 0.31561018,  0.69680682,  0.58679199,  1.25337765],\n",
       "       [-0.36790296, -0.29492397, -0.23736129, -0.15868498]])"
      ]
     },
     "execution_count": 1021,
     "metadata": {},
     "output_type": "execute_result"
    }
   ],
   "source": [
    "df.values"
   ]
  },
  {
   "cell_type": "code",
   "execution_count": 1022,
   "id": "b68d3c05",
   "metadata": {},
   "outputs": [
    {
     "data": {
      "text/plain": [
       "Index(['A', 'B', 'C', 'D'], dtype='object')"
      ]
     },
     "execution_count": 1022,
     "metadata": {},
     "output_type": "execute_result"
    }
   ],
   "source": [
    "df.columns"
   ]
  },
  {
   "cell_type": "code",
   "execution_count": 1023,
   "id": "5554b418",
   "metadata": {},
   "outputs": [
    {
     "name": "stdout",
     "output_type": "stream",
     "text": [
      "   Column_A  Column_B  Column_C\n",
      "0        11        22        33\n",
      "1        44        55        66\n",
      "<class 'pandas.core.frame.DataFrame'>\n"
     ]
    }
   ],
   "source": [
    "# z macierza\n",
    "my_array = np.array([[11,22,33],[44,55,66]])\n",
    "\n",
    "df_numpy = pd.DataFrame(my_array, columns = ['Column_A','Column_B','Column_C'])\n",
    "\n",
    "print(df_numpy)\n",
    "print(type(df_numpy))"
   ]
  },
  {
   "cell_type": "code",
   "execution_count": 1024,
   "id": "b9530c9d",
   "metadata": {},
   "outputs": [
    {
     "data": {
      "text/html": [
       "<div>\n",
       "<style scoped>\n",
       "    .dataframe tbody tr th:only-of-type {\n",
       "        vertical-align: middle;\n",
       "    }\n",
       "\n",
       "    .dataframe tbody tr th {\n",
       "        vertical-align: top;\n",
       "    }\n",
       "\n",
       "    .dataframe thead th {\n",
       "        text-align: right;\n",
       "    }\n",
       "</style>\n",
       "<table border=\"1\" class=\"dataframe\">\n",
       "  <thead>\n",
       "    <tr style=\"text-align: right;\">\n",
       "      <th></th>\n",
       "      <th>col_1</th>\n",
       "      <th>col_2</th>\n",
       "    </tr>\n",
       "  </thead>\n",
       "  <tbody>\n",
       "    <tr>\n",
       "      <th>0</th>\n",
       "      <td>3</td>\n",
       "      <td>a</td>\n",
       "    </tr>\n",
       "    <tr>\n",
       "      <th>1</th>\n",
       "      <td>2</td>\n",
       "      <td>b</td>\n",
       "    </tr>\n",
       "    <tr>\n",
       "      <th>2</th>\n",
       "      <td>1</td>\n",
       "      <td>c</td>\n",
       "    </tr>\n",
       "    <tr>\n",
       "      <th>3</th>\n",
       "      <td>0</td>\n",
       "      <td>d</td>\n",
       "    </tr>\n",
       "  </tbody>\n",
       "</table>\n",
       "</div>"
      ],
      "text/plain": [
       "   col_1 col_2\n",
       "0      3     a\n",
       "1      2     b\n",
       "2      1     c\n",
       "3      0     d"
      ]
     },
     "execution_count": 1024,
     "metadata": {},
     "output_type": "execute_result"
    }
   ],
   "source": [
    "# ze słownika\n",
    "data = {\n",
    "        'col_1': [3, 2, 1, 0], \n",
    "        'col_2': ['a', 'b', 'c', 'd']\n",
    "        }\n",
    "pd.DataFrame.from_dict(data)"
   ]
  },
  {
   "cell_type": "code",
   "execution_count": 1025,
   "id": "18d81a52",
   "metadata": {},
   "outputs": [
    {
     "data": {
      "text/html": [
       "<div>\n",
       "<style scoped>\n",
       "    .dataframe tbody tr th:only-of-type {\n",
       "        vertical-align: middle;\n",
       "    }\n",
       "\n",
       "    .dataframe tbody tr th {\n",
       "        vertical-align: top;\n",
       "    }\n",
       "\n",
       "    .dataframe thead th {\n",
       "        text-align: right;\n",
       "    }\n",
       "</style>\n",
       "<table border=\"1\" class=\"dataframe\">\n",
       "  <thead>\n",
       "    <tr style=\"text-align: right;\">\n",
       "      <th></th>\n",
       "      <th>A</th>\n",
       "      <th>B</th>\n",
       "      <th>C</th>\n",
       "      <th>D</th>\n",
       "    </tr>\n",
       "  </thead>\n",
       "  <tbody>\n",
       "    <tr>\n",
       "      <th>2013-01-01</th>\n",
       "      <td>2.686980</td>\n",
       "      <td>0.620658</td>\n",
       "      <td>0.566080</td>\n",
       "      <td>-0.796421</td>\n",
       "    </tr>\n",
       "    <tr>\n",
       "      <th>2013-01-02</th>\n",
       "      <td>1.781268</td>\n",
       "      <td>-1.603251</td>\n",
       "      <td>-0.387673</td>\n",
       "      <td>-1.446385</td>\n",
       "    </tr>\n",
       "    <tr>\n",
       "      <th>2013-01-03</th>\n",
       "      <td>-0.019280</td>\n",
       "      <td>0.476807</td>\n",
       "      <td>1.045772</td>\n",
       "      <td>0.291544</td>\n",
       "    </tr>\n",
       "    <tr>\n",
       "      <th>2013-01-04</th>\n",
       "      <td>-0.231352</td>\n",
       "      <td>-0.201520</td>\n",
       "      <td>0.720959</td>\n",
       "      <td>0.916076</td>\n",
       "    </tr>\n",
       "    <tr>\n",
       "      <th>2013-01-05</th>\n",
       "      <td>0.315610</td>\n",
       "      <td>0.696807</td>\n",
       "      <td>0.586792</td>\n",
       "      <td>1.253378</td>\n",
       "    </tr>\n",
       "    <tr>\n",
       "      <th>2013-01-06</th>\n",
       "      <td>-0.367903</td>\n",
       "      <td>-0.294924</td>\n",
       "      <td>-0.237361</td>\n",
       "      <td>-0.158685</td>\n",
       "    </tr>\n",
       "  </tbody>\n",
       "</table>\n",
       "</div>"
      ],
      "text/plain": [
       "                   A         B         C         D\n",
       "2013-01-01  2.686980  0.620658  0.566080 -0.796421\n",
       "2013-01-02  1.781268 -1.603251 -0.387673 -1.446385\n",
       "2013-01-03 -0.019280  0.476807  1.045772  0.291544\n",
       "2013-01-04 -0.231352 -0.201520  0.720959  0.916076\n",
       "2013-01-05  0.315610  0.696807  0.586792  1.253378\n",
       "2013-01-06 -0.367903 -0.294924 -0.237361 -0.158685"
      ]
     },
     "execution_count": 1025,
     "metadata": {},
     "output_type": "execute_result"
    }
   ],
   "source": [
    "df"
   ]
  },
  {
   "cell_type": "code",
   "execution_count": 1026,
   "id": "2ecdecf9",
   "metadata": {},
   "outputs": [
    {
     "data": {
      "text/plain": [
       "(6, 4)"
      ]
     },
     "execution_count": 1026,
     "metadata": {},
     "output_type": "execute_result"
    }
   ],
   "source": [
    "df.shape # wierszy, column"
   ]
  },
  {
   "cell_type": "code",
   "execution_count": 1027,
   "id": "eb3c9bb6",
   "metadata": {},
   "outputs": [
    {
     "data": {
      "text/plain": [
       "24"
      ]
     },
     "execution_count": 1027,
     "metadata": {},
     "output_type": "execute_result"
    }
   ],
   "source": [
    "df.size"
   ]
  },
  {
   "cell_type": "code",
   "execution_count": 1028,
   "id": "b85c2b47",
   "metadata": {},
   "outputs": [
    {
     "data": {
      "text/plain": [
       "6"
      ]
     },
     "execution_count": 1028,
     "metadata": {},
     "output_type": "execute_result"
    }
   ],
   "source": [
    "len(df) # do pętli"
   ]
  },
  {
   "cell_type": "code",
   "execution_count": 1029,
   "id": "6b70be28",
   "metadata": {},
   "outputs": [
    {
     "data": {
      "text/html": [
       "<div>\n",
       "<style scoped>\n",
       "    .dataframe tbody tr th:only-of-type {\n",
       "        vertical-align: middle;\n",
       "    }\n",
       "\n",
       "    .dataframe tbody tr th {\n",
       "        vertical-align: top;\n",
       "    }\n",
       "\n",
       "    .dataframe thead th {\n",
       "        text-align: right;\n",
       "    }\n",
       "</style>\n",
       "<table border=\"1\" class=\"dataframe\">\n",
       "  <thead>\n",
       "    <tr style=\"text-align: right;\">\n",
       "      <th></th>\n",
       "      <th>A</th>\n",
       "      <th>B</th>\n",
       "      <th>C</th>\n",
       "      <th>D</th>\n",
       "    </tr>\n",
       "  </thead>\n",
       "  <tbody>\n",
       "    <tr>\n",
       "      <th>2013-01-02</th>\n",
       "      <td>1.781268</td>\n",
       "      <td>-1.603251</td>\n",
       "      <td>-0.387673</td>\n",
       "      <td>-1.446385</td>\n",
       "    </tr>\n",
       "    <tr>\n",
       "      <th>2013-01-05</th>\n",
       "      <td>0.315610</td>\n",
       "      <td>0.696807</td>\n",
       "      <td>0.586792</td>\n",
       "      <td>1.253378</td>\n",
       "    </tr>\n",
       "  </tbody>\n",
       "</table>\n",
       "</div>"
      ],
      "text/plain": [
       "                   A         B         C         D\n",
       "2013-01-02  1.781268 -1.603251 -0.387673 -1.446385\n",
       "2013-01-05  0.315610  0.696807  0.586792  1.253378"
      ]
     },
     "execution_count": 1029,
     "metadata": {},
     "output_type": "execute_result"
    }
   ],
   "source": [
    "df.sample(2) # do testów, wybieramy ilość wierszy"
   ]
  },
  {
   "cell_type": "code",
   "execution_count": 1030,
   "id": "ad7bd735",
   "metadata": {},
   "outputs": [
    {
     "data": {
      "text/plain": [
       "A    float64\n",
       "B    float64\n",
       "C    float64\n",
       "D    float64\n",
       "dtype: object"
      ]
     },
     "execution_count": 1030,
     "metadata": {},
     "output_type": "execute_result"
    }
   ],
   "source": [
    "df.dtypes"
   ]
  },
  {
   "cell_type": "code",
   "execution_count": 1031,
   "id": "8a07f4af",
   "metadata": {},
   "outputs": [
    {
     "data": {
      "text/plain": [
       "pandas.core.frame.DataFrame"
      ]
     },
     "execution_count": 1031,
     "metadata": {},
     "output_type": "execute_result"
    }
   ],
   "source": [
    "type(df)"
   ]
  },
  {
   "cell_type": "code",
   "execution_count": 1032,
   "id": "1c01a37d",
   "metadata": {},
   "outputs": [
    {
     "data": {
      "text/plain": [
       "2013-01-01    2.686980\n",
       "2013-01-02    1.781268\n",
       "2013-01-03   -0.019280\n",
       "2013-01-04   -0.231352\n",
       "2013-01-05    0.315610\n",
       "2013-01-06   -0.367903\n",
       "Freq: D, Name: A, dtype: float64"
      ]
     },
     "execution_count": 1032,
     "metadata": {},
     "output_type": "execute_result"
    }
   ],
   "source": [
    "df.A # pokaz nam kolumne A"
   ]
  },
  {
   "cell_type": "code",
   "execution_count": 1033,
   "id": "8d13dd6e",
   "metadata": {},
   "outputs": [
    {
     "data": {
      "text/plain": [
       "pandas.core.series.Series"
      ]
     },
     "execution_count": 1033,
     "metadata": {},
     "output_type": "execute_result"
    }
   ],
   "source": [
    "type(df.A) # type tylko kolumny A"
   ]
  },
  {
   "cell_type": "code",
   "execution_count": 1034,
   "id": "83fb1fcc",
   "metadata": {},
   "outputs": [
    {
     "data": {
      "text/html": [
       "<div>\n",
       "<style scoped>\n",
       "    .dataframe tbody tr th:only-of-type {\n",
       "        vertical-align: middle;\n",
       "    }\n",
       "\n",
       "    .dataframe tbody tr th {\n",
       "        vertical-align: top;\n",
       "    }\n",
       "\n",
       "    .dataframe thead th {\n",
       "        text-align: right;\n",
       "    }\n",
       "</style>\n",
       "<table border=\"1\" class=\"dataframe\">\n",
       "  <thead>\n",
       "    <tr style=\"text-align: right;\">\n",
       "      <th></th>\n",
       "      <th>2013-01-01</th>\n",
       "      <th>2013-01-02</th>\n",
       "      <th>2013-01-03</th>\n",
       "      <th>2013-01-04</th>\n",
       "      <th>2013-01-05</th>\n",
       "      <th>2013-01-06</th>\n",
       "    </tr>\n",
       "  </thead>\n",
       "  <tbody>\n",
       "    <tr>\n",
       "      <th>A</th>\n",
       "      <td>2.686980</td>\n",
       "      <td>1.781268</td>\n",
       "      <td>-0.019280</td>\n",
       "      <td>-0.231352</td>\n",
       "      <td>0.315610</td>\n",
       "      <td>-0.367903</td>\n",
       "    </tr>\n",
       "    <tr>\n",
       "      <th>B</th>\n",
       "      <td>0.620658</td>\n",
       "      <td>-1.603251</td>\n",
       "      <td>0.476807</td>\n",
       "      <td>-0.201520</td>\n",
       "      <td>0.696807</td>\n",
       "      <td>-0.294924</td>\n",
       "    </tr>\n",
       "    <tr>\n",
       "      <th>C</th>\n",
       "      <td>0.566080</td>\n",
       "      <td>-0.387673</td>\n",
       "      <td>1.045772</td>\n",
       "      <td>0.720959</td>\n",
       "      <td>0.586792</td>\n",
       "      <td>-0.237361</td>\n",
       "    </tr>\n",
       "    <tr>\n",
       "      <th>D</th>\n",
       "      <td>-0.796421</td>\n",
       "      <td>-1.446385</td>\n",
       "      <td>0.291544</td>\n",
       "      <td>0.916076</td>\n",
       "      <td>1.253378</td>\n",
       "      <td>-0.158685</td>\n",
       "    </tr>\n",
       "  </tbody>\n",
       "</table>\n",
       "</div>"
      ],
      "text/plain": [
       "   2013-01-01  2013-01-02  2013-01-03  2013-01-04  2013-01-05  2013-01-06\n",
       "A    2.686980    1.781268   -0.019280   -0.231352    0.315610   -0.367903\n",
       "B    0.620658   -1.603251    0.476807   -0.201520    0.696807   -0.294924\n",
       "C    0.566080   -0.387673    1.045772    0.720959    0.586792   -0.237361\n",
       "D   -0.796421   -1.446385    0.291544    0.916076    1.253378   -0.158685"
      ]
     },
     "execution_count": 1034,
     "metadata": {},
     "output_type": "execute_result"
    }
   ],
   "source": [
    "# transpozyvja, zamina kolumn z wierszami\n",
    "# piwoty, czesciowa zamiana kolumn z wierszami\n",
    "df.T"
   ]
  },
  {
   "cell_type": "code",
   "execution_count": 1035,
   "id": "eddad6dd",
   "metadata": {},
   "outputs": [],
   "source": [
    "df2 = df.sample(2)"
   ]
  },
  {
   "cell_type": "code",
   "execution_count": 1036,
   "id": "8e8a22d3",
   "metadata": {},
   "outputs": [
    {
     "data": {
      "text/html": [
       "<div>\n",
       "<style scoped>\n",
       "    .dataframe tbody tr th:only-of-type {\n",
       "        vertical-align: middle;\n",
       "    }\n",
       "\n",
       "    .dataframe tbody tr th {\n",
       "        vertical-align: top;\n",
       "    }\n",
       "\n",
       "    .dataframe thead th {\n",
       "        text-align: right;\n",
       "    }\n",
       "</style>\n",
       "<table border=\"1\" class=\"dataframe\">\n",
       "  <thead>\n",
       "    <tr style=\"text-align: right;\">\n",
       "      <th></th>\n",
       "      <th>A</th>\n",
       "      <th>B</th>\n",
       "      <th>C</th>\n",
       "      <th>D</th>\n",
       "    </tr>\n",
       "  </thead>\n",
       "  <tbody>\n",
       "    <tr>\n",
       "      <th>2013-01-06</th>\n",
       "      <td>-0.367903</td>\n",
       "      <td>-0.294924</td>\n",
       "      <td>-0.237361</td>\n",
       "      <td>-0.158685</td>\n",
       "    </tr>\n",
       "    <tr>\n",
       "      <th>2013-01-02</th>\n",
       "      <td>1.781268</td>\n",
       "      <td>-1.603251</td>\n",
       "      <td>-0.387673</td>\n",
       "      <td>-1.446385</td>\n",
       "    </tr>\n",
       "  </tbody>\n",
       "</table>\n",
       "</div>"
      ],
      "text/plain": [
       "                   A         B         C         D\n",
       "2013-01-06 -0.367903 -0.294924 -0.237361 -0.158685\n",
       "2013-01-02  1.781268 -1.603251 -0.387673 -1.446385"
      ]
     },
     "execution_count": 1036,
     "metadata": {},
     "output_type": "execute_result"
    }
   ],
   "source": [
    "df2"
   ]
  },
  {
   "cell_type": "code",
   "execution_count": 1037,
   "id": "4ce2d420",
   "metadata": {},
   "outputs": [
    {
     "data": {
      "text/html": [
       "<div>\n",
       "<style scoped>\n",
       "    .dataframe tbody tr th:only-of-type {\n",
       "        vertical-align: middle;\n",
       "    }\n",
       "\n",
       "    .dataframe tbody tr th {\n",
       "        vertical-align: top;\n",
       "    }\n",
       "\n",
       "    .dataframe thead th {\n",
       "        text-align: right;\n",
       "    }\n",
       "</style>\n",
       "<table border=\"1\" class=\"dataframe\">\n",
       "  <thead>\n",
       "    <tr style=\"text-align: right;\">\n",
       "      <th></th>\n",
       "      <th>A</th>\n",
       "      <th>B</th>\n",
       "      <th>C</th>\n",
       "      <th>D</th>\n",
       "    </tr>\n",
       "  </thead>\n",
       "  <tbody>\n",
       "    <tr>\n",
       "      <th>2013-01-05</th>\n",
       "      <td>0.315610</td>\n",
       "      <td>0.696807</td>\n",
       "      <td>0.586792</td>\n",
       "      <td>1.253378</td>\n",
       "    </tr>\n",
       "    <tr>\n",
       "      <th>2013-01-01</th>\n",
       "      <td>2.686980</td>\n",
       "      <td>0.620658</td>\n",
       "      <td>0.566080</td>\n",
       "      <td>-0.796421</td>\n",
       "    </tr>\n",
       "    <tr>\n",
       "      <th>2013-01-03</th>\n",
       "      <td>-0.019280</td>\n",
       "      <td>0.476807</td>\n",
       "      <td>1.045772</td>\n",
       "      <td>0.291544</td>\n",
       "    </tr>\n",
       "    <tr>\n",
       "      <th>2013-01-04</th>\n",
       "      <td>-0.231352</td>\n",
       "      <td>-0.201520</td>\n",
       "      <td>0.720959</td>\n",
       "      <td>0.916076</td>\n",
       "    </tr>\n",
       "    <tr>\n",
       "      <th>2013-01-06</th>\n",
       "      <td>-0.367903</td>\n",
       "      <td>-0.294924</td>\n",
       "      <td>-0.237361</td>\n",
       "      <td>-0.158685</td>\n",
       "    </tr>\n",
       "    <tr>\n",
       "      <th>2013-01-02</th>\n",
       "      <td>1.781268</td>\n",
       "      <td>-1.603251</td>\n",
       "      <td>-0.387673</td>\n",
       "      <td>-1.446385</td>\n",
       "    </tr>\n",
       "  </tbody>\n",
       "</table>\n",
       "</div>"
      ],
      "text/plain": [
       "                   A         B         C         D\n",
       "2013-01-05  0.315610  0.696807  0.586792  1.253378\n",
       "2013-01-01  2.686980  0.620658  0.566080 -0.796421\n",
       "2013-01-03 -0.019280  0.476807  1.045772  0.291544\n",
       "2013-01-04 -0.231352 -0.201520  0.720959  0.916076\n",
       "2013-01-06 -0.367903 -0.294924 -0.237361 -0.158685\n",
       "2013-01-02  1.781268 -1.603251 -0.387673 -1.446385"
      ]
     },
     "execution_count": 1037,
     "metadata": {},
     "output_type": "execute_result"
    }
   ],
   "source": [
    "df.sort_values(by='B', ascending=False)"
   ]
  },
  {
   "cell_type": "code",
   "execution_count": 1038,
   "id": "b57325df",
   "metadata": {},
   "outputs": [
    {
     "data": {
      "text/html": [
       "<div>\n",
       "<style scoped>\n",
       "    .dataframe tbody tr th:only-of-type {\n",
       "        vertical-align: middle;\n",
       "    }\n",
       "\n",
       "    .dataframe tbody tr th {\n",
       "        vertical-align: top;\n",
       "    }\n",
       "\n",
       "    .dataframe thead th {\n",
       "        text-align: right;\n",
       "    }\n",
       "</style>\n",
       "<table border=\"1\" class=\"dataframe\">\n",
       "  <thead>\n",
       "    <tr style=\"text-align: right;\">\n",
       "      <th></th>\n",
       "      <th>index</th>\n",
       "      <th>A</th>\n",
       "      <th>B</th>\n",
       "      <th>C</th>\n",
       "      <th>D</th>\n",
       "    </tr>\n",
       "  </thead>\n",
       "  <tbody>\n",
       "    <tr>\n",
       "      <th>0</th>\n",
       "      <td>2013-01-01</td>\n",
       "      <td>2.686980</td>\n",
       "      <td>0.620658</td>\n",
       "      <td>0.566080</td>\n",
       "      <td>-0.796421</td>\n",
       "    </tr>\n",
       "    <tr>\n",
       "      <th>1</th>\n",
       "      <td>2013-01-02</td>\n",
       "      <td>1.781268</td>\n",
       "      <td>-1.603251</td>\n",
       "      <td>-0.387673</td>\n",
       "      <td>-1.446385</td>\n",
       "    </tr>\n",
       "    <tr>\n",
       "      <th>2</th>\n",
       "      <td>2013-01-03</td>\n",
       "      <td>-0.019280</td>\n",
       "      <td>0.476807</td>\n",
       "      <td>1.045772</td>\n",
       "      <td>0.291544</td>\n",
       "    </tr>\n",
       "    <tr>\n",
       "      <th>3</th>\n",
       "      <td>2013-01-04</td>\n",
       "      <td>-0.231352</td>\n",
       "      <td>-0.201520</td>\n",
       "      <td>0.720959</td>\n",
       "      <td>0.916076</td>\n",
       "    </tr>\n",
       "    <tr>\n",
       "      <th>4</th>\n",
       "      <td>2013-01-05</td>\n",
       "      <td>0.315610</td>\n",
       "      <td>0.696807</td>\n",
       "      <td>0.586792</td>\n",
       "      <td>1.253378</td>\n",
       "    </tr>\n",
       "    <tr>\n",
       "      <th>5</th>\n",
       "      <td>2013-01-06</td>\n",
       "      <td>-0.367903</td>\n",
       "      <td>-0.294924</td>\n",
       "      <td>-0.237361</td>\n",
       "      <td>-0.158685</td>\n",
       "    </tr>\n",
       "  </tbody>\n",
       "</table>\n",
       "</div>"
      ],
      "text/plain": [
       "       index         A         B         C         D\n",
       "0 2013-01-01  2.686980  0.620658  0.566080 -0.796421\n",
       "1 2013-01-02  1.781268 -1.603251 -0.387673 -1.446385\n",
       "2 2013-01-03 -0.019280  0.476807  1.045772  0.291544\n",
       "3 2013-01-04 -0.231352 -0.201520  0.720959  0.916076\n",
       "4 2013-01-05  0.315610  0.696807  0.586792  1.253378\n",
       "5 2013-01-06 -0.367903 -0.294924 -0.237361 -0.158685"
      ]
     },
     "execution_count": 1038,
     "metadata": {},
     "output_type": "execute_result"
    }
   ],
   "source": [
    "df.reset_index() # bez przypisania df sie nie zmienia"
   ]
  },
  {
   "cell_type": "code",
   "execution_count": 1039,
   "id": "80cf0c86",
   "metadata": {},
   "outputs": [
    {
     "data": {
      "text/html": [
       "<div>\n",
       "<style scoped>\n",
       "    .dataframe tbody tr th:only-of-type {\n",
       "        vertical-align: middle;\n",
       "    }\n",
       "\n",
       "    .dataframe tbody tr th {\n",
       "        vertical-align: top;\n",
       "    }\n",
       "\n",
       "    .dataframe thead th {\n",
       "        text-align: right;\n",
       "    }\n",
       "</style>\n",
       "<table border=\"1\" class=\"dataframe\">\n",
       "  <thead>\n",
       "    <tr style=\"text-align: right;\">\n",
       "      <th></th>\n",
       "      <th>A</th>\n",
       "      <th>B</th>\n",
       "      <th>C</th>\n",
       "      <th>D</th>\n",
       "    </tr>\n",
       "  </thead>\n",
       "  <tbody>\n",
       "    <tr>\n",
       "      <th>0</th>\n",
       "      <td>2.686980</td>\n",
       "      <td>0.620658</td>\n",
       "      <td>0.566080</td>\n",
       "      <td>-0.796421</td>\n",
       "    </tr>\n",
       "    <tr>\n",
       "      <th>1</th>\n",
       "      <td>1.781268</td>\n",
       "      <td>-1.603251</td>\n",
       "      <td>-0.387673</td>\n",
       "      <td>-1.446385</td>\n",
       "    </tr>\n",
       "    <tr>\n",
       "      <th>2</th>\n",
       "      <td>-0.019280</td>\n",
       "      <td>0.476807</td>\n",
       "      <td>1.045772</td>\n",
       "      <td>0.291544</td>\n",
       "    </tr>\n",
       "    <tr>\n",
       "      <th>3</th>\n",
       "      <td>-0.231352</td>\n",
       "      <td>-0.201520</td>\n",
       "      <td>0.720959</td>\n",
       "      <td>0.916076</td>\n",
       "    </tr>\n",
       "    <tr>\n",
       "      <th>4</th>\n",
       "      <td>0.315610</td>\n",
       "      <td>0.696807</td>\n",
       "      <td>0.586792</td>\n",
       "      <td>1.253378</td>\n",
       "    </tr>\n",
       "    <tr>\n",
       "      <th>5</th>\n",
       "      <td>-0.367903</td>\n",
       "      <td>-0.294924</td>\n",
       "      <td>-0.237361</td>\n",
       "      <td>-0.158685</td>\n",
       "    </tr>\n",
       "  </tbody>\n",
       "</table>\n",
       "</div>"
      ],
      "text/plain": [
       "          A         B         C         D\n",
       "0  2.686980  0.620658  0.566080 -0.796421\n",
       "1  1.781268 -1.603251 -0.387673 -1.446385\n",
       "2 -0.019280  0.476807  1.045772  0.291544\n",
       "3 -0.231352 -0.201520  0.720959  0.916076\n",
       "4  0.315610  0.696807  0.586792  1.253378\n",
       "5 -0.367903 -0.294924 -0.237361 -0.158685"
      ]
     },
     "execution_count": 1039,
     "metadata": {},
     "output_type": "execute_result"
    }
   ],
   "source": [
    "df.reset_index(drop=True) #resetuj indeks i wyrzuc go"
   ]
  },
  {
   "cell_type": "code",
   "execution_count": 1040,
   "id": "0adb889f",
   "metadata": {},
   "outputs": [
    {
     "data": {
      "text/html": [
       "<div>\n",
       "<style scoped>\n",
       "    .dataframe tbody tr th:only-of-type {\n",
       "        vertical-align: middle;\n",
       "    }\n",
       "\n",
       "    .dataframe tbody tr th {\n",
       "        vertical-align: top;\n",
       "    }\n",
       "\n",
       "    .dataframe thead th {\n",
       "        text-align: right;\n",
       "    }\n",
       "</style>\n",
       "<table border=\"1\" class=\"dataframe\">\n",
       "  <thead>\n",
       "    <tr style=\"text-align: right;\">\n",
       "      <th></th>\n",
       "      <th>index</th>\n",
       "      <th>A</th>\n",
       "      <th>B</th>\n",
       "      <th>C</th>\n",
       "      <th>D</th>\n",
       "    </tr>\n",
       "  </thead>\n",
       "  <tbody>\n",
       "    <tr>\n",
       "      <th>0</th>\n",
       "      <td>2013-01-01</td>\n",
       "      <td>2.686980</td>\n",
       "      <td>0.620658</td>\n",
       "      <td>0.566080</td>\n",
       "      <td>-0.796421</td>\n",
       "    </tr>\n",
       "    <tr>\n",
       "      <th>1</th>\n",
       "      <td>2013-01-02</td>\n",
       "      <td>1.781268</td>\n",
       "      <td>-1.603251</td>\n",
       "      <td>-0.387673</td>\n",
       "      <td>-1.446385</td>\n",
       "    </tr>\n",
       "    <tr>\n",
       "      <th>2</th>\n",
       "      <td>2013-01-03</td>\n",
       "      <td>-0.019280</td>\n",
       "      <td>0.476807</td>\n",
       "      <td>1.045772</td>\n",
       "      <td>0.291544</td>\n",
       "    </tr>\n",
       "    <tr>\n",
       "      <th>3</th>\n",
       "      <td>2013-01-04</td>\n",
       "      <td>-0.231352</td>\n",
       "      <td>-0.201520</td>\n",
       "      <td>0.720959</td>\n",
       "      <td>0.916076</td>\n",
       "    </tr>\n",
       "    <tr>\n",
       "      <th>4</th>\n",
       "      <td>2013-01-05</td>\n",
       "      <td>0.315610</td>\n",
       "      <td>0.696807</td>\n",
       "      <td>0.586792</td>\n",
       "      <td>1.253378</td>\n",
       "    </tr>\n",
       "    <tr>\n",
       "      <th>5</th>\n",
       "      <td>2013-01-06</td>\n",
       "      <td>-0.367903</td>\n",
       "      <td>-0.294924</td>\n",
       "      <td>-0.237361</td>\n",
       "      <td>-0.158685</td>\n",
       "    </tr>\n",
       "  </tbody>\n",
       "</table>\n",
       "</div>"
      ],
      "text/plain": [
       "       index         A         B         C         D\n",
       "0 2013-01-01  2.686980  0.620658  0.566080 -0.796421\n",
       "1 2013-01-02  1.781268 -1.603251 -0.387673 -1.446385\n",
       "2 2013-01-03 -0.019280  0.476807  1.045772  0.291544\n",
       "3 2013-01-04 -0.231352 -0.201520  0.720959  0.916076\n",
       "4 2013-01-05  0.315610  0.696807  0.586792  1.253378\n",
       "5 2013-01-06 -0.367903 -0.294924 -0.237361 -0.158685"
      ]
     },
     "execution_count": 1040,
     "metadata": {},
     "output_type": "execute_result"
    }
   ],
   "source": [
    "df.reset_index(drop=False) #resetuj indeks i nie wyrzucaj go"
   ]
  },
  {
   "cell_type": "code",
   "execution_count": 1041,
   "id": "572dca93",
   "metadata": {},
   "outputs": [],
   "source": [
    "# agregacja na df"
   ]
  },
  {
   "cell_type": "code",
   "execution_count": 1042,
   "id": "8576bc68",
   "metadata": {},
   "outputs": [
    {
     "data": {
      "text/html": [
       "<div>\n",
       "<style scoped>\n",
       "    .dataframe tbody tr th:only-of-type {\n",
       "        vertical-align: middle;\n",
       "    }\n",
       "\n",
       "    .dataframe tbody tr th {\n",
       "        vertical-align: top;\n",
       "    }\n",
       "\n",
       "    .dataframe thead th {\n",
       "        text-align: right;\n",
       "    }\n",
       "</style>\n",
       "<table border=\"1\" class=\"dataframe\">\n",
       "  <thead>\n",
       "    <tr style=\"text-align: right;\">\n",
       "      <th></th>\n",
       "      <th>A</th>\n",
       "      <th>B</th>\n",
       "      <th>C</th>\n",
       "      <th>D</th>\n",
       "    </tr>\n",
       "  </thead>\n",
       "  <tbody>\n",
       "    <tr>\n",
       "      <th>2013-01-01</th>\n",
       "      <td>2.686980</td>\n",
       "      <td>0.620658</td>\n",
       "      <td>0.566080</td>\n",
       "      <td>-0.796421</td>\n",
       "    </tr>\n",
       "    <tr>\n",
       "      <th>2013-01-02</th>\n",
       "      <td>1.781268</td>\n",
       "      <td>-1.603251</td>\n",
       "      <td>-0.387673</td>\n",
       "      <td>-1.446385</td>\n",
       "    </tr>\n",
       "    <tr>\n",
       "      <th>2013-01-03</th>\n",
       "      <td>-0.019280</td>\n",
       "      <td>0.476807</td>\n",
       "      <td>1.045772</td>\n",
       "      <td>0.291544</td>\n",
       "    </tr>\n",
       "    <tr>\n",
       "      <th>2013-01-04</th>\n",
       "      <td>-0.231352</td>\n",
       "      <td>-0.201520</td>\n",
       "      <td>0.720959</td>\n",
       "      <td>0.916076</td>\n",
       "    </tr>\n",
       "    <tr>\n",
       "      <th>2013-01-05</th>\n",
       "      <td>0.315610</td>\n",
       "      <td>0.696807</td>\n",
       "      <td>0.586792</td>\n",
       "      <td>1.253378</td>\n",
       "    </tr>\n",
       "    <tr>\n",
       "      <th>2013-01-06</th>\n",
       "      <td>-0.367903</td>\n",
       "      <td>-0.294924</td>\n",
       "      <td>-0.237361</td>\n",
       "      <td>-0.158685</td>\n",
       "    </tr>\n",
       "  </tbody>\n",
       "</table>\n",
       "</div>"
      ],
      "text/plain": [
       "                   A         B         C         D\n",
       "2013-01-01  2.686980  0.620658  0.566080 -0.796421\n",
       "2013-01-02  1.781268 -1.603251 -0.387673 -1.446385\n",
       "2013-01-03 -0.019280  0.476807  1.045772  0.291544\n",
       "2013-01-04 -0.231352 -0.201520  0.720959  0.916076\n",
       "2013-01-05  0.315610  0.696807  0.586792  1.253378\n",
       "2013-01-06 -0.367903 -0.294924 -0.237361 -0.158685"
      ]
     },
     "execution_count": 1042,
     "metadata": {},
     "output_type": "execute_result"
    }
   ],
   "source": [
    "df"
   ]
  },
  {
   "cell_type": "code",
   "execution_count": 1043,
   "id": "0a2b6068",
   "metadata": {},
   "outputs": [
    {
     "data": {
      "text/plain": [
       "A    4.165324\n",
       "B   -0.305423\n",
       "C    2.294568\n",
       "D    0.059507\n",
       "dtype: float64"
      ]
     },
     "execution_count": 1043,
     "metadata": {},
     "output_type": "execute_result"
    }
   ],
   "source": [
    "df.sum()"
   ]
  },
  {
   "cell_type": "code",
   "execution_count": 1044,
   "id": "f0a3ae92",
   "metadata": {},
   "outputs": [
    {
     "data": {
      "text/plain": [
       "A   -0.367903\n",
       "B   -1.603251\n",
       "C   -0.387673\n",
       "D   -1.446385\n",
       "dtype: float64"
      ]
     },
     "execution_count": 1044,
     "metadata": {},
     "output_type": "execute_result"
    }
   ],
   "source": [
    "df.min()"
   ]
  },
  {
   "cell_type": "code",
   "execution_count": 1045,
   "id": "25dc0b4c",
   "metadata": {},
   "outputs": [
    {
     "data": {
      "text/plain": [
       "A    0.694221\n",
       "B   -0.050904\n",
       "C    0.382428\n",
       "D    0.009918\n",
       "dtype: float64"
      ]
     },
     "execution_count": 1045,
     "metadata": {},
     "output_type": "execute_result"
    }
   ],
   "source": [
    "df.mean()"
   ]
  },
  {
   "cell_type": "code",
   "execution_count": 1046,
   "id": "d4f2bbb6",
   "metadata": {},
   "outputs": [
    {
     "data": {
      "text/plain": [
       "2013-01-01    2.686980\n",
       "2013-01-02    1.781268\n",
       "2013-01-03   -0.019280\n",
       "2013-01-04   -0.231352\n",
       "2013-01-05    0.315610\n",
       "2013-01-06   -0.367903\n",
       "Freq: D, Name: A, dtype: float64"
      ]
     },
     "execution_count": 1046,
     "metadata": {},
     "output_type": "execute_result"
    }
   ],
   "source": [
    "df['A'] # prawdzamy kolumne A, or df[['A']] or df.A"
   ]
  },
  {
   "cell_type": "code",
   "execution_count": 1047,
   "id": "e8c5513b",
   "metadata": {},
   "outputs": [
    {
     "data": {
      "text/html": [
       "<div>\n",
       "<style scoped>\n",
       "    .dataframe tbody tr th:only-of-type {\n",
       "        vertical-align: middle;\n",
       "    }\n",
       "\n",
       "    .dataframe tbody tr th {\n",
       "        vertical-align: top;\n",
       "    }\n",
       "\n",
       "    .dataframe thead th {\n",
       "        text-align: right;\n",
       "    }\n",
       "</style>\n",
       "<table border=\"1\" class=\"dataframe\">\n",
       "  <thead>\n",
       "    <tr style=\"text-align: right;\">\n",
       "      <th></th>\n",
       "      <th>A</th>\n",
       "      <th>B</th>\n",
       "    </tr>\n",
       "  </thead>\n",
       "  <tbody>\n",
       "    <tr>\n",
       "      <th>2013-01-01</th>\n",
       "      <td>2.686980</td>\n",
       "      <td>0.620658</td>\n",
       "    </tr>\n",
       "    <tr>\n",
       "      <th>2013-01-02</th>\n",
       "      <td>1.781268</td>\n",
       "      <td>-1.603251</td>\n",
       "    </tr>\n",
       "    <tr>\n",
       "      <th>2013-01-03</th>\n",
       "      <td>-0.019280</td>\n",
       "      <td>0.476807</td>\n",
       "    </tr>\n",
       "    <tr>\n",
       "      <th>2013-01-04</th>\n",
       "      <td>-0.231352</td>\n",
       "      <td>-0.201520</td>\n",
       "    </tr>\n",
       "    <tr>\n",
       "      <th>2013-01-05</th>\n",
       "      <td>0.315610</td>\n",
       "      <td>0.696807</td>\n",
       "    </tr>\n",
       "    <tr>\n",
       "      <th>2013-01-06</th>\n",
       "      <td>-0.367903</td>\n",
       "      <td>-0.294924</td>\n",
       "    </tr>\n",
       "  </tbody>\n",
       "</table>\n",
       "</div>"
      ],
      "text/plain": [
       "                   A         B\n",
       "2013-01-01  2.686980  0.620658\n",
       "2013-01-02  1.781268 -1.603251\n",
       "2013-01-03 -0.019280  0.476807\n",
       "2013-01-04 -0.231352 -0.201520\n",
       "2013-01-05  0.315610  0.696807\n",
       "2013-01-06 -0.367903 -0.294924"
      ]
     },
     "execution_count": 1047,
     "metadata": {},
     "output_type": "execute_result"
    }
   ],
   "source": [
    "df[['A', 'B']] # prawdzamy kilka kolumn, poprzez podanie listy"
   ]
  },
  {
   "cell_type": "code",
   "execution_count": 1048,
   "id": "4ebe52fc",
   "metadata": {},
   "outputs": [
    {
     "data": {
      "text/plain": [
       "A    4.165324\n",
       "B   -0.305423\n",
       "dtype: float64"
      ]
     },
     "execution_count": 1048,
     "metadata": {},
     "output_type": "execute_result"
    }
   ],
   "source": [
    "df[['A', 'B']].sum()"
   ]
  },
  {
   "cell_type": "code",
   "execution_count": 1049,
   "id": "81343ad0",
   "metadata": {},
   "outputs": [
    {
     "data": {
      "text/plain": [
       "2.6869802042332527"
      ]
     },
     "execution_count": 1049,
     "metadata": {},
     "output_type": "execute_result"
    }
   ],
   "source": [
    "df['A'][0] # pierwsza wartosc z kolumny A"
   ]
  },
  {
   "cell_type": "code",
   "execution_count": 1050,
   "id": "5b275e02",
   "metadata": {},
   "outputs": [
    {
     "data": {
      "text/html": [
       "<div>\n",
       "<style scoped>\n",
       "    .dataframe tbody tr th:only-of-type {\n",
       "        vertical-align: middle;\n",
       "    }\n",
       "\n",
       "    .dataframe tbody tr th {\n",
       "        vertical-align: top;\n",
       "    }\n",
       "\n",
       "    .dataframe thead th {\n",
       "        text-align: right;\n",
       "    }\n",
       "</style>\n",
       "<table border=\"1\" class=\"dataframe\">\n",
       "  <thead>\n",
       "    <tr style=\"text-align: right;\">\n",
       "      <th></th>\n",
       "      <th>A</th>\n",
       "      <th>B</th>\n",
       "      <th>C</th>\n",
       "      <th>D</th>\n",
       "    </tr>\n",
       "  </thead>\n",
       "  <tbody>\n",
       "    <tr>\n",
       "      <th>2013-01-01</th>\n",
       "      <td>2.686980</td>\n",
       "      <td>0.620658</td>\n",
       "      <td>0.566080</td>\n",
       "      <td>-0.796421</td>\n",
       "    </tr>\n",
       "    <tr>\n",
       "      <th>2013-01-02</th>\n",
       "      <td>1.781268</td>\n",
       "      <td>-1.603251</td>\n",
       "      <td>-0.387673</td>\n",
       "      <td>-1.446385</td>\n",
       "    </tr>\n",
       "    <tr>\n",
       "      <th>2013-01-03</th>\n",
       "      <td>-0.019280</td>\n",
       "      <td>0.476807</td>\n",
       "      <td>1.045772</td>\n",
       "      <td>0.291544</td>\n",
       "    </tr>\n",
       "    <tr>\n",
       "      <th>2013-01-04</th>\n",
       "      <td>-0.231352</td>\n",
       "      <td>-0.201520</td>\n",
       "      <td>0.720959</td>\n",
       "      <td>0.916076</td>\n",
       "    </tr>\n",
       "    <tr>\n",
       "      <th>2013-01-05</th>\n",
       "      <td>0.315610</td>\n",
       "      <td>0.696807</td>\n",
       "      <td>0.586792</td>\n",
       "      <td>1.253378</td>\n",
       "    </tr>\n",
       "    <tr>\n",
       "      <th>2013-01-06</th>\n",
       "      <td>-0.367903</td>\n",
       "      <td>-0.294924</td>\n",
       "      <td>-0.237361</td>\n",
       "      <td>-0.158685</td>\n",
       "    </tr>\n",
       "  </tbody>\n",
       "</table>\n",
       "</div>"
      ],
      "text/plain": [
       "                   A         B         C         D\n",
       "2013-01-01  2.686980  0.620658  0.566080 -0.796421\n",
       "2013-01-02  1.781268 -1.603251 -0.387673 -1.446385\n",
       "2013-01-03 -0.019280  0.476807  1.045772  0.291544\n",
       "2013-01-04 -0.231352 -0.201520  0.720959  0.916076\n",
       "2013-01-05  0.315610  0.696807  0.586792  1.253378\n",
       "2013-01-06 -0.367903 -0.294924 -0.237361 -0.158685"
      ]
     },
     "execution_count": 1050,
     "metadata": {},
     "output_type": "execute_result"
    }
   ],
   "source": [
    "df"
   ]
  },
  {
   "cell_type": "code",
   "execution_count": 1051,
   "id": "2c6f950a",
   "metadata": {},
   "outputs": [
    {
     "data": {
      "text/html": [
       "<div>\n",
       "<style scoped>\n",
       "    .dataframe tbody tr th:only-of-type {\n",
       "        vertical-align: middle;\n",
       "    }\n",
       "\n",
       "    .dataframe tbody tr th {\n",
       "        vertical-align: top;\n",
       "    }\n",
       "\n",
       "    .dataframe thead th {\n",
       "        text-align: right;\n",
       "    }\n",
       "</style>\n",
       "<table border=\"1\" class=\"dataframe\">\n",
       "  <thead>\n",
       "    <tr style=\"text-align: right;\">\n",
       "      <th></th>\n",
       "      <th>A</th>\n",
       "      <th>B</th>\n",
       "      <th>C</th>\n",
       "      <th>D</th>\n",
       "    </tr>\n",
       "  </thead>\n",
       "  <tbody>\n",
       "    <tr>\n",
       "      <th>2013-01-01</th>\n",
       "      <td>2.686980</td>\n",
       "      <td>0.620658</td>\n",
       "      <td>0.566080</td>\n",
       "      <td>-0.796421</td>\n",
       "    </tr>\n",
       "    <tr>\n",
       "      <th>2013-01-02</th>\n",
       "      <td>1.781268</td>\n",
       "      <td>-1.603251</td>\n",
       "      <td>-0.387673</td>\n",
       "      <td>-1.446385</td>\n",
       "    </tr>\n",
       "    <tr>\n",
       "      <th>2013-01-03</th>\n",
       "      <td>-0.019280</td>\n",
       "      <td>0.476807</td>\n",
       "      <td>1.045772</td>\n",
       "      <td>0.291544</td>\n",
       "    </tr>\n",
       "  </tbody>\n",
       "</table>\n",
       "</div>"
      ],
      "text/plain": [
       "                   A         B         C         D\n",
       "2013-01-01  2.686980  0.620658  0.566080 -0.796421\n",
       "2013-01-02  1.781268 -1.603251 -0.387673 -1.446385\n",
       "2013-01-03 -0.019280  0.476807  1.045772  0.291544"
      ]
     },
     "execution_count": 1051,
     "metadata": {},
     "output_type": "execute_result"
    }
   ],
   "source": [
    "df[0:3] # wyswietla 3 pierwsze wiersze"
   ]
  },
  {
   "cell_type": "code",
   "execution_count": 1052,
   "id": "f6d67579",
   "metadata": {},
   "outputs": [
    {
     "data": {
      "text/html": [
       "<div>\n",
       "<style scoped>\n",
       "    .dataframe tbody tr th:only-of-type {\n",
       "        vertical-align: middle;\n",
       "    }\n",
       "\n",
       "    .dataframe tbody tr th {\n",
       "        vertical-align: top;\n",
       "    }\n",
       "\n",
       "    .dataframe thead th {\n",
       "        text-align: right;\n",
       "    }\n",
       "</style>\n",
       "<table border=\"1\" class=\"dataframe\">\n",
       "  <thead>\n",
       "    <tr style=\"text-align: right;\">\n",
       "      <th></th>\n",
       "      <th>A</th>\n",
       "      <th>B</th>\n",
       "      <th>C</th>\n",
       "      <th>D</th>\n",
       "    </tr>\n",
       "  </thead>\n",
       "  <tbody>\n",
       "    <tr>\n",
       "      <th>2013-01-01</th>\n",
       "      <td>2.686980</td>\n",
       "      <td>0.620658</td>\n",
       "      <td>0.566080</td>\n",
       "      <td>-0.796421</td>\n",
       "    </tr>\n",
       "    <tr>\n",
       "      <th>2013-01-02</th>\n",
       "      <td>1.781268</td>\n",
       "      <td>-1.603251</td>\n",
       "      <td>-0.387673</td>\n",
       "      <td>-1.446385</td>\n",
       "    </tr>\n",
       "    <tr>\n",
       "      <th>2013-01-03</th>\n",
       "      <td>-0.019280</td>\n",
       "      <td>0.476807</td>\n",
       "      <td>1.045772</td>\n",
       "      <td>0.291544</td>\n",
       "    </tr>\n",
       "  </tbody>\n",
       "</table>\n",
       "</div>"
      ],
      "text/plain": [
       "                   A         B         C         D\n",
       "2013-01-01  2.686980  0.620658  0.566080 -0.796421\n",
       "2013-01-02  1.781268 -1.603251 -0.387673 -1.446385\n",
       "2013-01-03 -0.019280  0.476807  1.045772  0.291544"
      ]
     },
     "execution_count": 1052,
     "metadata": {},
     "output_type": "execute_result"
    }
   ],
   "source": [
    "df['20130101':'20130103']"
   ]
  },
  {
   "cell_type": "code",
   "execution_count": 1053,
   "id": "c3faccad",
   "metadata": {},
   "outputs": [],
   "source": [
    "# Label vs. Location\n",
    "# The main distinction between the two methods is:\n",
    "\n",
    "# loc gets rows (and/or columns) with particular labels. label = 20130101\n",
    "\n",
    "# iloc gets rows (and/or columns) at integer locations."
   ]
  },
  {
   "cell_type": "code",
   "execution_count": 1054,
   "id": "b17e1b36",
   "metadata": {},
   "outputs": [
    {
     "data": {
      "text/plain": [
       "0    0.37\n",
       "6    0.89\n",
       "4    0.87\n",
       "7    0.01\n",
       "9    0.04\n",
       "2    0.13\n",
       "3    0.04\n",
       "8    0.86\n",
       "5    0.88\n",
       "1    0.53\n",
       "dtype: float64"
      ]
     },
     "execution_count": 1054,
     "metadata": {},
     "output_type": "execute_result"
    }
   ],
   "source": [
    "b = pd.Series(np.round(np.random.uniform(0,1,10),2))\n",
    "i = np.r_[0:10]\n",
    "np.random.shuffle(i)\n",
    "b.index = i\n",
    "b"
   ]
  },
  {
   "cell_type": "code",
   "execution_count": 1055,
   "id": "7c1cab95",
   "metadata": {},
   "outputs": [
    {
     "data": {
      "text/plain": [
       "0.87"
      ]
     },
     "execution_count": 1055,
     "metadata": {},
     "output_type": "execute_result"
    }
   ],
   "source": [
    "b.iloc[2] # 3 numer wiersza, leci od 0"
   ]
  },
  {
   "cell_type": "code",
   "execution_count": 1056,
   "id": "0f925b86",
   "metadata": {},
   "outputs": [
    {
     "data": {
      "text/plain": [
       "0.13"
      ]
     },
     "execution_count": 1056,
     "metadata": {},
     "output_type": "execute_result"
    }
   ],
   "source": [
    "b.loc[2] # wartosc z labelem \"2\""
   ]
  },
  {
   "cell_type": "code",
   "execution_count": 1057,
   "id": "1d69059d",
   "metadata": {
    "scrolled": true
   },
   "outputs": [
    {
     "data": {
      "text/plain": [
       "0    0.37\n",
       "6    0.89\n",
       "4    0.87\n",
       "7    0.01\n",
       "9    0.04\n",
       "2    0.13\n",
       "dtype: float64"
      ]
     },
     "execution_count": 1057,
     "metadata": {},
     "output_type": "execute_result"
    }
   ],
   "source": [
    "b.loc[0:2] # od labela 0 do 2"
   ]
  },
  {
   "cell_type": "code",
   "execution_count": 1058,
   "id": "d27ed28b",
   "metadata": {},
   "outputs": [
    {
     "data": {
      "text/plain": [
       "0    0.37\n",
       "6    0.89\n",
       "dtype: float64"
      ]
     },
     "execution_count": 1058,
     "metadata": {},
     "output_type": "execute_result"
    }
   ],
   "source": [
    "b.iloc[0:2] #od pozycji 0 do 1 po indexie"
   ]
  },
  {
   "cell_type": "code",
   "execution_count": 1059,
   "id": "178f9e6a",
   "metadata": {},
   "outputs": [
    {
     "data": {
      "text/html": [
       "<div>\n",
       "<style scoped>\n",
       "    .dataframe tbody tr th:only-of-type {\n",
       "        vertical-align: middle;\n",
       "    }\n",
       "\n",
       "    .dataframe tbody tr th {\n",
       "        vertical-align: top;\n",
       "    }\n",
       "\n",
       "    .dataframe thead th {\n",
       "        text-align: right;\n",
       "    }\n",
       "</style>\n",
       "<table border=\"1\" class=\"dataframe\">\n",
       "  <thead>\n",
       "    <tr style=\"text-align: right;\">\n",
       "      <th></th>\n",
       "      <th>A</th>\n",
       "      <th>B</th>\n",
       "      <th>C</th>\n",
       "      <th>D</th>\n",
       "    </tr>\n",
       "  </thead>\n",
       "  <tbody>\n",
       "    <tr>\n",
       "      <th>2013-01-01</th>\n",
       "      <td>2.686980</td>\n",
       "      <td>0.620658</td>\n",
       "      <td>0.566080</td>\n",
       "      <td>-0.796421</td>\n",
       "    </tr>\n",
       "    <tr>\n",
       "      <th>2013-01-02</th>\n",
       "      <td>1.781268</td>\n",
       "      <td>-1.603251</td>\n",
       "      <td>-0.387673</td>\n",
       "      <td>-1.446385</td>\n",
       "    </tr>\n",
       "    <tr>\n",
       "      <th>2013-01-03</th>\n",
       "      <td>-0.019280</td>\n",
       "      <td>0.476807</td>\n",
       "      <td>1.045772</td>\n",
       "      <td>0.291544</td>\n",
       "    </tr>\n",
       "    <tr>\n",
       "      <th>2013-01-04</th>\n",
       "      <td>-0.231352</td>\n",
       "      <td>-0.201520</td>\n",
       "      <td>0.720959</td>\n",
       "      <td>0.916076</td>\n",
       "    </tr>\n",
       "    <tr>\n",
       "      <th>2013-01-05</th>\n",
       "      <td>0.315610</td>\n",
       "      <td>0.696807</td>\n",
       "      <td>0.586792</td>\n",
       "      <td>1.253378</td>\n",
       "    </tr>\n",
       "    <tr>\n",
       "      <th>2013-01-06</th>\n",
       "      <td>-0.367903</td>\n",
       "      <td>-0.294924</td>\n",
       "      <td>-0.237361</td>\n",
       "      <td>-0.158685</td>\n",
       "    </tr>\n",
       "  </tbody>\n",
       "</table>\n",
       "</div>"
      ],
      "text/plain": [
       "                   A         B         C         D\n",
       "2013-01-01  2.686980  0.620658  0.566080 -0.796421\n",
       "2013-01-02  1.781268 -1.603251 -0.387673 -1.446385\n",
       "2013-01-03 -0.019280  0.476807  1.045772  0.291544\n",
       "2013-01-04 -0.231352 -0.201520  0.720959  0.916076\n",
       "2013-01-05  0.315610  0.696807  0.586792  1.253378\n",
       "2013-01-06 -0.367903 -0.294924 -0.237361 -0.158685"
      ]
     },
     "execution_count": 1059,
     "metadata": {},
     "output_type": "execute_result"
    }
   ],
   "source": [
    "df"
   ]
  },
  {
   "cell_type": "code",
   "execution_count": 1060,
   "id": "4794c276",
   "metadata": {},
   "outputs": [],
   "source": [
    "# df.loc[2:4] nie uda się, bo labele to daty"
   ]
  },
  {
   "cell_type": "code",
   "execution_count": 1061,
   "id": "2fb86324",
   "metadata": {},
   "outputs": [
    {
     "data": {
      "text/html": [
       "<div>\n",
       "<style scoped>\n",
       "    .dataframe tbody tr th:only-of-type {\n",
       "        vertical-align: middle;\n",
       "    }\n",
       "\n",
       "    .dataframe tbody tr th {\n",
       "        vertical-align: top;\n",
       "    }\n",
       "\n",
       "    .dataframe thead th {\n",
       "        text-align: right;\n",
       "    }\n",
       "</style>\n",
       "<table border=\"1\" class=\"dataframe\">\n",
       "  <thead>\n",
       "    <tr style=\"text-align: right;\">\n",
       "      <th></th>\n",
       "      <th>A</th>\n",
       "      <th>B</th>\n",
       "      <th>C</th>\n",
       "      <th>D</th>\n",
       "    </tr>\n",
       "  </thead>\n",
       "  <tbody>\n",
       "    <tr>\n",
       "      <th>2013-01-03</th>\n",
       "      <td>-0.019280</td>\n",
       "      <td>0.476807</td>\n",
       "      <td>1.045772</td>\n",
       "      <td>0.291544</td>\n",
       "    </tr>\n",
       "    <tr>\n",
       "      <th>2013-01-04</th>\n",
       "      <td>-0.231352</td>\n",
       "      <td>-0.201520</td>\n",
       "      <td>0.720959</td>\n",
       "      <td>0.916076</td>\n",
       "    </tr>\n",
       "  </tbody>\n",
       "</table>\n",
       "</div>"
      ],
      "text/plain": [
       "                   A         B         C         D\n",
       "2013-01-03 -0.019280  0.476807  1.045772  0.291544\n",
       "2013-01-04 -0.231352 -0.201520  0.720959  0.916076"
      ]
     },
     "execution_count": 1061,
     "metadata": {},
     "output_type": "execute_result"
    }
   ],
   "source": [
    "df.iloc[2:4]"
   ]
  },
  {
   "cell_type": "code",
   "execution_count": 1062,
   "id": "25eaeb66",
   "metadata": {},
   "outputs": [
    {
     "data": {
      "text/html": [
       "<div>\n",
       "<style scoped>\n",
       "    .dataframe tbody tr th:only-of-type {\n",
       "        vertical-align: middle;\n",
       "    }\n",
       "\n",
       "    .dataframe tbody tr th {\n",
       "        vertical-align: top;\n",
       "    }\n",
       "\n",
       "    .dataframe thead th {\n",
       "        text-align: right;\n",
       "    }\n",
       "</style>\n",
       "<table border=\"1\" class=\"dataframe\">\n",
       "  <thead>\n",
       "    <tr style=\"text-align: right;\">\n",
       "      <th></th>\n",
       "      <th>A</th>\n",
       "      <th>B</th>\n",
       "      <th>C</th>\n",
       "      <th>D</th>\n",
       "    </tr>\n",
       "  </thead>\n",
       "  <tbody>\n",
       "    <tr>\n",
       "      <th>2013-01-01</th>\n",
       "      <td>2.686980</td>\n",
       "      <td>0.620658</td>\n",
       "      <td>0.566080</td>\n",
       "      <td>-0.796421</td>\n",
       "    </tr>\n",
       "    <tr>\n",
       "      <th>2013-01-02</th>\n",
       "      <td>1.781268</td>\n",
       "      <td>-1.603251</td>\n",
       "      <td>-0.387673</td>\n",
       "      <td>-1.446385</td>\n",
       "    </tr>\n",
       "    <tr>\n",
       "      <th>2013-01-03</th>\n",
       "      <td>-0.019280</td>\n",
       "      <td>0.476807</td>\n",
       "      <td>1.045772</td>\n",
       "      <td>0.291544</td>\n",
       "    </tr>\n",
       "  </tbody>\n",
       "</table>\n",
       "</div>"
      ],
      "text/plain": [
       "                   A         B         C         D\n",
       "2013-01-01  2.686980  0.620658  0.566080 -0.796421\n",
       "2013-01-02  1.781268 -1.603251 -0.387673 -1.446385\n",
       "2013-01-03 -0.019280  0.476807  1.045772  0.291544"
      ]
     },
     "execution_count": 1062,
     "metadata": {},
     "output_type": "execute_result"
    }
   ],
   "source": [
    "df.loc[dates[0]:dates[2]] # w locu nie ma wykluczania ostatniej wartości"
   ]
  },
  {
   "cell_type": "code",
   "execution_count": 1063,
   "id": "3188794b",
   "metadata": {},
   "outputs": [
    {
     "data": {
      "text/html": [
       "<div>\n",
       "<style scoped>\n",
       "    .dataframe tbody tr th:only-of-type {\n",
       "        vertical-align: middle;\n",
       "    }\n",
       "\n",
       "    .dataframe tbody tr th {\n",
       "        vertical-align: top;\n",
       "    }\n",
       "\n",
       "    .dataframe thead th {\n",
       "        text-align: right;\n",
       "    }\n",
       "</style>\n",
       "<table border=\"1\" class=\"dataframe\">\n",
       "  <thead>\n",
       "    <tr style=\"text-align: right;\">\n",
       "      <th></th>\n",
       "      <th>A</th>\n",
       "      <th>B</th>\n",
       "      <th>C</th>\n",
       "      <th>D</th>\n",
       "    </tr>\n",
       "  </thead>\n",
       "  <tbody>\n",
       "  </tbody>\n",
       "</table>\n",
       "</div>"
      ],
      "text/plain": [
       "Empty DataFrame\n",
       "Columns: [A, B, C, D]\n",
       "Index: []"
      ]
     },
     "execution_count": 1063,
     "metadata": {},
     "output_type": "execute_result"
    }
   ],
   "source": [
    "df.loc[dates[1]:dates[0]] # nic nie wyświetli bo po dates[1] nie napotka dates[0]"
   ]
  },
  {
   "cell_type": "code",
   "execution_count": 1064,
   "id": "750eee28",
   "metadata": {},
   "outputs": [
    {
     "data": {
      "text/html": [
       "<div>\n",
       "<style scoped>\n",
       "    .dataframe tbody tr th:only-of-type {\n",
       "        vertical-align: middle;\n",
       "    }\n",
       "\n",
       "    .dataframe tbody tr th {\n",
       "        vertical-align: top;\n",
       "    }\n",
       "\n",
       "    .dataframe thead th {\n",
       "        text-align: right;\n",
       "    }\n",
       "</style>\n",
       "<table border=\"1\" class=\"dataframe\">\n",
       "  <thead>\n",
       "    <tr style=\"text-align: right;\">\n",
       "      <th></th>\n",
       "      <th>A</th>\n",
       "      <th>B</th>\n",
       "      <th>C</th>\n",
       "      <th>D</th>\n",
       "    </tr>\n",
       "  </thead>\n",
       "  <tbody>\n",
       "    <tr>\n",
       "      <th>2013-01-01</th>\n",
       "      <td>2.686980</td>\n",
       "      <td>0.620658</td>\n",
       "      <td>0.566080</td>\n",
       "      <td>-0.796421</td>\n",
       "    </tr>\n",
       "    <tr>\n",
       "      <th>2013-01-02</th>\n",
       "      <td>1.781268</td>\n",
       "      <td>-1.603251</td>\n",
       "      <td>-0.387673</td>\n",
       "      <td>-1.446385</td>\n",
       "    </tr>\n",
       "    <tr>\n",
       "      <th>2013-01-03</th>\n",
       "      <td>-0.019280</td>\n",
       "      <td>0.476807</td>\n",
       "      <td>1.045772</td>\n",
       "      <td>0.291544</td>\n",
       "    </tr>\n",
       "  </tbody>\n",
       "</table>\n",
       "</div>"
      ],
      "text/plain": [
       "                   A         B         C         D\n",
       "2013-01-01  2.686980  0.620658  0.566080 -0.796421\n",
       "2013-01-02  1.781268 -1.603251 -0.387673 -1.446385\n",
       "2013-01-03 -0.019280  0.476807  1.045772  0.291544"
      ]
     },
     "execution_count": 1064,
     "metadata": {},
     "output_type": "execute_result"
    }
   ],
   "source": [
    "df[0:3]"
   ]
  },
  {
   "cell_type": "code",
   "execution_count": 1065,
   "id": "4b8250ba",
   "metadata": {},
   "outputs": [
    {
     "data": {
      "text/html": [
       "<div>\n",
       "<style scoped>\n",
       "    .dataframe tbody tr th:only-of-type {\n",
       "        vertical-align: middle;\n",
       "    }\n",
       "\n",
       "    .dataframe tbody tr th {\n",
       "        vertical-align: top;\n",
       "    }\n",
       "\n",
       "    .dataframe thead th {\n",
       "        text-align: right;\n",
       "    }\n",
       "</style>\n",
       "<table border=\"1\" class=\"dataframe\">\n",
       "  <thead>\n",
       "    <tr style=\"text-align: right;\">\n",
       "      <th></th>\n",
       "      <th>A</th>\n",
       "      <th>B</th>\n",
       "      <th>C</th>\n",
       "      <th>D</th>\n",
       "    </tr>\n",
       "  </thead>\n",
       "  <tbody>\n",
       "    <tr>\n",
       "      <th>2013-01-04</th>\n",
       "      <td>-0.231352</td>\n",
       "      <td>-0.201520</td>\n",
       "      <td>0.720959</td>\n",
       "      <td>0.916076</td>\n",
       "    </tr>\n",
       "    <tr>\n",
       "      <th>2013-01-03</th>\n",
       "      <td>-0.019280</td>\n",
       "      <td>0.476807</td>\n",
       "      <td>1.045772</td>\n",
       "      <td>0.291544</td>\n",
       "    </tr>\n",
       "    <tr>\n",
       "      <th>2013-01-02</th>\n",
       "      <td>1.781268</td>\n",
       "      <td>-1.603251</td>\n",
       "      <td>-0.387673</td>\n",
       "      <td>-1.446385</td>\n",
       "    </tr>\n",
       "  </tbody>\n",
       "</table>\n",
       "</div>"
      ],
      "text/plain": [
       "                   A         B         C         D\n",
       "2013-01-04 -0.231352 -0.201520  0.720959  0.916076\n",
       "2013-01-03 -0.019280  0.476807  1.045772  0.291544\n",
       "2013-01-02  1.781268 -1.603251 -0.387673 -1.446385"
      ]
     },
     "execution_count": 1065,
     "metadata": {},
     "output_type": "execute_result"
    }
   ],
   "source": [
    "# zmiana kierunku\n",
    "df[3:0:-1]"
   ]
  },
  {
   "cell_type": "code",
   "execution_count": 1066,
   "id": "d356688f",
   "metadata": {},
   "outputs": [
    {
     "data": {
      "text/html": [
       "<div>\n",
       "<style scoped>\n",
       "    .dataframe tbody tr th:only-of-type {\n",
       "        vertical-align: middle;\n",
       "    }\n",
       "\n",
       "    .dataframe tbody tr th {\n",
       "        vertical-align: top;\n",
       "    }\n",
       "\n",
       "    .dataframe thead th {\n",
       "        text-align: right;\n",
       "    }\n",
       "</style>\n",
       "<table border=\"1\" class=\"dataframe\">\n",
       "  <thead>\n",
       "    <tr style=\"text-align: right;\">\n",
       "      <th></th>\n",
       "      <th>A</th>\n",
       "      <th>B</th>\n",
       "      <th>C</th>\n",
       "      <th>D</th>\n",
       "    </tr>\n",
       "  </thead>\n",
       "  <tbody>\n",
       "    <tr>\n",
       "      <th>2013-01-04</th>\n",
       "      <td>-0.231352</td>\n",
       "      <td>-0.201520</td>\n",
       "      <td>0.720959</td>\n",
       "      <td>0.916076</td>\n",
       "    </tr>\n",
       "    <tr>\n",
       "      <th>2013-01-05</th>\n",
       "      <td>0.315610</td>\n",
       "      <td>0.696807</td>\n",
       "      <td>0.586792</td>\n",
       "      <td>1.253378</td>\n",
       "    </tr>\n",
       "    <tr>\n",
       "      <th>2013-01-06</th>\n",
       "      <td>-0.367903</td>\n",
       "      <td>-0.294924</td>\n",
       "      <td>-0.237361</td>\n",
       "      <td>-0.158685</td>\n",
       "    </tr>\n",
       "  </tbody>\n",
       "</table>\n",
       "</div>"
      ],
      "text/plain": [
       "                   A         B         C         D\n",
       "2013-01-04 -0.231352 -0.201520  0.720959  0.916076\n",
       "2013-01-05  0.315610  0.696807  0.586792  1.253378\n",
       "2013-01-06 -0.367903 -0.294924 -0.237361 -0.158685"
      ]
     },
     "execution_count": 1066,
     "metadata": {},
     "output_type": "execute_result"
    }
   ],
   "source": [
    "df[-3:] # od 3 od końca, do końca"
   ]
  },
  {
   "cell_type": "code",
   "execution_count": 1067,
   "id": "6d18d611",
   "metadata": {},
   "outputs": [],
   "source": [
    "# zakres wierszowo-kolumnowy"
   ]
  },
  {
   "cell_type": "code",
   "execution_count": 1068,
   "id": "2aa5647e",
   "metadata": {},
   "outputs": [
    {
     "data": {
      "text/plain": [
       "Timestamp('2013-01-01 00:00:00', freq='D')"
      ]
     },
     "execution_count": 1068,
     "metadata": {},
     "output_type": "execute_result"
    }
   ],
   "source": [
    "dates[0]"
   ]
  },
  {
   "cell_type": "code",
   "execution_count": 1069,
   "id": "f8a5913a",
   "metadata": {},
   "outputs": [
    {
     "data": {
      "text/plain": [
       "2.6869802042332527"
      ]
     },
     "execution_count": 1069,
     "metadata": {},
     "output_type": "execute_result"
    }
   ],
   "source": [
    "df.loc[dates[0],'A'] # wksazanie indexowe po labelu, wartosc krzyzow"
   ]
  },
  {
   "cell_type": "code",
   "execution_count": 1070,
   "id": "b03ee83c",
   "metadata": {},
   "outputs": [
    {
     "data": {
      "text/plain": [
       "2.6869802042332527"
      ]
     },
     "execution_count": 1070,
     "metadata": {},
     "output_type": "execute_result"
    }
   ],
   "source": [
    "df.at[dates[0],'A']"
   ]
  },
  {
   "cell_type": "code",
   "execution_count": 1071,
   "id": "fa621f9c",
   "metadata": {},
   "outputs": [
    {
     "data": {
      "text/plain": [
       "A    2.686980\n",
       "B    0.620658\n",
       "Name: 2013-01-01 00:00:00, dtype: float64"
      ]
     },
     "execution_count": 1071,
     "metadata": {},
     "output_type": "execute_result"
    }
   ],
   "source": [
    "df.loc[dates[0],'A':'B']"
   ]
  },
  {
   "cell_type": "code",
   "execution_count": 1072,
   "id": "8d539f8d",
   "metadata": {},
   "outputs": [
    {
     "data": {
      "text/plain": [
       "A    2.686980\n",
       "B    0.620658\n",
       "Name: 2013-01-01 00:00:00, dtype: float64"
      ]
     },
     "execution_count": 1072,
     "metadata": {},
     "output_type": "execute_result"
    }
   ],
   "source": [
    "df.loc[dates[0],['A','B']]"
   ]
  },
  {
   "cell_type": "code",
   "execution_count": 1073,
   "id": "33a803c5",
   "metadata": {},
   "outputs": [
    {
     "data": {
      "text/html": [
       "<div>\n",
       "<style scoped>\n",
       "    .dataframe tbody tr th:only-of-type {\n",
       "        vertical-align: middle;\n",
       "    }\n",
       "\n",
       "    .dataframe tbody tr th {\n",
       "        vertical-align: top;\n",
       "    }\n",
       "\n",
       "    .dataframe thead th {\n",
       "        text-align: right;\n",
       "    }\n",
       "</style>\n",
       "<table border=\"1\" class=\"dataframe\">\n",
       "  <thead>\n",
       "    <tr style=\"text-align: right;\">\n",
       "      <th></th>\n",
       "      <th>A</th>\n",
       "      <th>B</th>\n",
       "    </tr>\n",
       "  </thead>\n",
       "  <tbody>\n",
       "    <tr>\n",
       "      <th>2013-01-01</th>\n",
       "      <td>2.686980</td>\n",
       "      <td>0.620658</td>\n",
       "    </tr>\n",
       "    <tr>\n",
       "      <th>2013-01-02</th>\n",
       "      <td>1.781268</td>\n",
       "      <td>-1.603251</td>\n",
       "    </tr>\n",
       "    <tr>\n",
       "      <th>2013-01-03</th>\n",
       "      <td>-0.019280</td>\n",
       "      <td>0.476807</td>\n",
       "    </tr>\n",
       "  </tbody>\n",
       "</table>\n",
       "</div>"
      ],
      "text/plain": [
       "                   A         B\n",
       "2013-01-01  2.686980  0.620658\n",
       "2013-01-02  1.781268 -1.603251\n",
       "2013-01-03 -0.019280  0.476807"
      ]
     },
     "execution_count": 1073,
     "metadata": {},
     "output_type": "execute_result"
    }
   ],
   "source": [
    "df.loc[dates[0]:dates[2],['A','B']] # wiersz, [kolumna}]"
   ]
  },
  {
   "cell_type": "code",
   "execution_count": 1074,
   "id": "6dbbc766",
   "metadata": {},
   "outputs": [
    {
     "data": {
      "text/html": [
       "<div>\n",
       "<style scoped>\n",
       "    .dataframe tbody tr th:only-of-type {\n",
       "        vertical-align: middle;\n",
       "    }\n",
       "\n",
       "    .dataframe tbody tr th {\n",
       "        vertical-align: top;\n",
       "    }\n",
       "\n",
       "    .dataframe thead th {\n",
       "        text-align: right;\n",
       "    }\n",
       "</style>\n",
       "<table border=\"1\" class=\"dataframe\">\n",
       "  <thead>\n",
       "    <tr style=\"text-align: right;\">\n",
       "      <th></th>\n",
       "      <th>A</th>\n",
       "      <th>B</th>\n",
       "      <th>C</th>\n",
       "      <th>D</th>\n",
       "    </tr>\n",
       "  </thead>\n",
       "  <tbody>\n",
       "    <tr>\n",
       "      <th>2013-01-03</th>\n",
       "      <td>-0.019280</td>\n",
       "      <td>0.476807</td>\n",
       "      <td>1.045772</td>\n",
       "      <td>0.291544</td>\n",
       "    </tr>\n",
       "    <tr>\n",
       "      <th>2013-01-04</th>\n",
       "      <td>-0.231352</td>\n",
       "      <td>-0.201520</td>\n",
       "      <td>0.720959</td>\n",
       "      <td>0.916076</td>\n",
       "    </tr>\n",
       "    <tr>\n",
       "      <th>2013-01-06</th>\n",
       "      <td>-0.367903</td>\n",
       "      <td>-0.294924</td>\n",
       "      <td>-0.237361</td>\n",
       "      <td>-0.158685</td>\n",
       "    </tr>\n",
       "  </tbody>\n",
       "</table>\n",
       "</div>"
      ],
      "text/plain": [
       "                   A         B         C         D\n",
       "2013-01-03 -0.019280  0.476807  1.045772  0.291544\n",
       "2013-01-04 -0.231352 -0.201520  0.720959  0.916076\n",
       "2013-01-06 -0.367903 -0.294924 -0.237361 -0.158685"
      ]
     },
     "execution_count": 1074,
     "metadata": {},
     "output_type": "execute_result"
    }
   ],
   "source": [
    "df[df.A<0] # wyselekcjonowane dane"
   ]
  },
  {
   "cell_type": "code",
   "execution_count": 1075,
   "id": "1a77c8ef",
   "metadata": {},
   "outputs": [
    {
     "data": {
      "text/plain": [
       "A   -0.618535\n",
       "B   -0.019638\n",
       "C    1.529369\n",
       "D    1.048935\n",
       "dtype: float64"
      ]
     },
     "execution_count": 1075,
     "metadata": {},
     "output_type": "execute_result"
    }
   ],
   "source": [
    "df[df.A<0].sum()"
   ]
  },
  {
   "cell_type": "code",
   "execution_count": 1076,
   "id": "65bb1ae0",
   "metadata": {},
   "outputs": [
    {
     "data": {
      "text/html": [
       "<div>\n",
       "<style scoped>\n",
       "    .dataframe tbody tr th:only-of-type {\n",
       "        vertical-align: middle;\n",
       "    }\n",
       "\n",
       "    .dataframe tbody tr th {\n",
       "        vertical-align: top;\n",
       "    }\n",
       "\n",
       "    .dataframe thead th {\n",
       "        text-align: right;\n",
       "    }\n",
       "</style>\n",
       "<table border=\"1\" class=\"dataframe\">\n",
       "  <thead>\n",
       "    <tr style=\"text-align: right;\">\n",
       "      <th></th>\n",
       "      <th>A</th>\n",
       "      <th>B</th>\n",
       "      <th>C</th>\n",
       "      <th>D</th>\n",
       "    </tr>\n",
       "  </thead>\n",
       "  <tbody>\n",
       "    <tr>\n",
       "      <th>2013-01-03</th>\n",
       "      <td>-0.01928</td>\n",
       "      <td>0.476807</td>\n",
       "      <td>1.045772</td>\n",
       "      <td>0.291544</td>\n",
       "    </tr>\n",
       "  </tbody>\n",
       "</table>\n",
       "</div>"
      ],
      "text/plain": [
       "                  A         B         C         D\n",
       "2013-01-03 -0.01928  0.476807  1.045772  0.291544"
      ]
     },
     "execution_count": 1076,
     "metadata": {},
     "output_type": "execute_result"
    }
   ],
   "source": [
    "df[(df.A<0) & (df.B>0)] # A mniejsze od zera i B większe od zera"
   ]
  },
  {
   "cell_type": "code",
   "execution_count": 1077,
   "id": "0cadca5d",
   "metadata": {},
   "outputs": [
    {
     "data": {
      "text/html": [
       "<div>\n",
       "<style scoped>\n",
       "    .dataframe tbody tr th:only-of-type {\n",
       "        vertical-align: middle;\n",
       "    }\n",
       "\n",
       "    .dataframe tbody tr th {\n",
       "        vertical-align: top;\n",
       "    }\n",
       "\n",
       "    .dataframe thead th {\n",
       "        text-align: right;\n",
       "    }\n",
       "</style>\n",
       "<table border=\"1\" class=\"dataframe\">\n",
       "  <thead>\n",
       "    <tr style=\"text-align: right;\">\n",
       "      <th></th>\n",
       "      <th>A</th>\n",
       "      <th>B</th>\n",
       "      <th>C</th>\n",
       "      <th>D</th>\n",
       "    </tr>\n",
       "  </thead>\n",
       "  <tbody>\n",
       "    <tr>\n",
       "      <th>2013-01-01</th>\n",
       "      <td>2.686980</td>\n",
       "      <td>0.620658</td>\n",
       "      <td>0.566080</td>\n",
       "      <td>-0.796421</td>\n",
       "    </tr>\n",
       "    <tr>\n",
       "      <th>2013-01-02</th>\n",
       "      <td>1.781268</td>\n",
       "      <td>-1.603251</td>\n",
       "      <td>-0.387673</td>\n",
       "      <td>-1.446385</td>\n",
       "    </tr>\n",
       "    <tr>\n",
       "      <th>2013-01-03</th>\n",
       "      <td>-0.019280</td>\n",
       "      <td>0.476807</td>\n",
       "      <td>1.045772</td>\n",
       "      <td>0.291544</td>\n",
       "    </tr>\n",
       "    <tr>\n",
       "      <th>2013-01-04</th>\n",
       "      <td>-0.231352</td>\n",
       "      <td>-0.201520</td>\n",
       "      <td>0.720959</td>\n",
       "      <td>0.916076</td>\n",
       "    </tr>\n",
       "    <tr>\n",
       "      <th>2013-01-05</th>\n",
       "      <td>0.315610</td>\n",
       "      <td>0.696807</td>\n",
       "      <td>0.586792</td>\n",
       "      <td>1.253378</td>\n",
       "    </tr>\n",
       "    <tr>\n",
       "      <th>2013-01-06</th>\n",
       "      <td>-0.367903</td>\n",
       "      <td>-0.294924</td>\n",
       "      <td>-0.237361</td>\n",
       "      <td>-0.158685</td>\n",
       "    </tr>\n",
       "  </tbody>\n",
       "</table>\n",
       "</div>"
      ],
      "text/plain": [
       "                   A         B         C         D\n",
       "2013-01-01  2.686980  0.620658  0.566080 -0.796421\n",
       "2013-01-02  1.781268 -1.603251 -0.387673 -1.446385\n",
       "2013-01-03 -0.019280  0.476807  1.045772  0.291544\n",
       "2013-01-04 -0.231352 -0.201520  0.720959  0.916076\n",
       "2013-01-05  0.315610  0.696807  0.586792  1.253378\n",
       "2013-01-06 -0.367903 -0.294924 -0.237361 -0.158685"
      ]
     },
     "execution_count": 1077,
     "metadata": {},
     "output_type": "execute_result"
    }
   ],
   "source": [
    "df2 = df.copy()\n",
    "df2"
   ]
  },
  {
   "cell_type": "code",
   "execution_count": 1078,
   "id": "21261590",
   "metadata": {},
   "outputs": [
    {
     "data": {
      "text/html": [
       "<div>\n",
       "<style scoped>\n",
       "    .dataframe tbody tr th:only-of-type {\n",
       "        vertical-align: middle;\n",
       "    }\n",
       "\n",
       "    .dataframe tbody tr th {\n",
       "        vertical-align: top;\n",
       "    }\n",
       "\n",
       "    .dataframe thead th {\n",
       "        text-align: right;\n",
       "    }\n",
       "</style>\n",
       "<table border=\"1\" class=\"dataframe\">\n",
       "  <thead>\n",
       "    <tr style=\"text-align: right;\">\n",
       "      <th></th>\n",
       "      <th>E</th>\n",
       "      <th>F</th>\n",
       "      <th>G</th>\n",
       "      <th>H</th>\n",
       "    </tr>\n",
       "  </thead>\n",
       "  <tbody>\n",
       "    <tr>\n",
       "      <th>2013-01-01</th>\n",
       "      <td>2.686980</td>\n",
       "      <td>0.620658</td>\n",
       "      <td>0.566080</td>\n",
       "      <td>-0.796421</td>\n",
       "    </tr>\n",
       "    <tr>\n",
       "      <th>2013-01-02</th>\n",
       "      <td>1.781268</td>\n",
       "      <td>-1.603251</td>\n",
       "      <td>-0.387673</td>\n",
       "      <td>-1.446385</td>\n",
       "    </tr>\n",
       "    <tr>\n",
       "      <th>2013-01-03</th>\n",
       "      <td>-0.019280</td>\n",
       "      <td>0.476807</td>\n",
       "      <td>1.045772</td>\n",
       "      <td>0.291544</td>\n",
       "    </tr>\n",
       "    <tr>\n",
       "      <th>2013-01-04</th>\n",
       "      <td>-0.231352</td>\n",
       "      <td>-0.201520</td>\n",
       "      <td>0.720959</td>\n",
       "      <td>0.916076</td>\n",
       "    </tr>\n",
       "    <tr>\n",
       "      <th>2013-01-05</th>\n",
       "      <td>0.315610</td>\n",
       "      <td>0.696807</td>\n",
       "      <td>0.586792</td>\n",
       "      <td>1.253378</td>\n",
       "    </tr>\n",
       "    <tr>\n",
       "      <th>2013-01-06</th>\n",
       "      <td>-0.367903</td>\n",
       "      <td>-0.294924</td>\n",
       "      <td>-0.237361</td>\n",
       "      <td>-0.158685</td>\n",
       "    </tr>\n",
       "  </tbody>\n",
       "</table>\n",
       "</div>"
      ],
      "text/plain": [
       "                   E         F         G         H\n",
       "2013-01-01  2.686980  0.620658  0.566080 -0.796421\n",
       "2013-01-02  1.781268 -1.603251 -0.387673 -1.446385\n",
       "2013-01-03 -0.019280  0.476807  1.045772  0.291544\n",
       "2013-01-04 -0.231352 -0.201520  0.720959  0.916076\n",
       "2013-01-05  0.315610  0.696807  0.586792  1.253378\n",
       "2013-01-06 -0.367903 -0.294924 -0.237361 -0.158685"
      ]
     },
     "execution_count": 1078,
     "metadata": {},
     "output_type": "execute_result"
    }
   ],
   "source": [
    "df2.columns = ['E', 'F', 'G', \"H\"]\n",
    "df2"
   ]
  },
  {
   "cell_type": "code",
   "execution_count": 1079,
   "id": "9af43e74",
   "metadata": {},
   "outputs": [
    {
     "data": {
      "text/html": [
       "<div>\n",
       "<style scoped>\n",
       "    .dataframe tbody tr th:only-of-type {\n",
       "        vertical-align: middle;\n",
       "    }\n",
       "\n",
       "    .dataframe tbody tr th {\n",
       "        vertical-align: top;\n",
       "    }\n",
       "\n",
       "    .dataframe thead th {\n",
       "        text-align: right;\n",
       "    }\n",
       "</style>\n",
       "<table border=\"1\" class=\"dataframe\">\n",
       "  <thead>\n",
       "    <tr style=\"text-align: right;\">\n",
       "      <th></th>\n",
       "      <th>I</th>\n",
       "      <th>F</th>\n",
       "      <th>G</th>\n",
       "      <th>H</th>\n",
       "    </tr>\n",
       "  </thead>\n",
       "  <tbody>\n",
       "    <tr>\n",
       "      <th>2013-01-01</th>\n",
       "      <td>2.686980</td>\n",
       "      <td>0.620658</td>\n",
       "      <td>0.566080</td>\n",
       "      <td>-0.796421</td>\n",
       "    </tr>\n",
       "    <tr>\n",
       "      <th>2013-01-02</th>\n",
       "      <td>1.781268</td>\n",
       "      <td>-1.603251</td>\n",
       "      <td>-0.387673</td>\n",
       "      <td>-1.446385</td>\n",
       "    </tr>\n",
       "    <tr>\n",
       "      <th>2013-01-03</th>\n",
       "      <td>-0.019280</td>\n",
       "      <td>0.476807</td>\n",
       "      <td>1.045772</td>\n",
       "      <td>0.291544</td>\n",
       "    </tr>\n",
       "    <tr>\n",
       "      <th>2013-01-04</th>\n",
       "      <td>-0.231352</td>\n",
       "      <td>-0.201520</td>\n",
       "      <td>0.720959</td>\n",
       "      <td>0.916076</td>\n",
       "    </tr>\n",
       "    <tr>\n",
       "      <th>2013-01-05</th>\n",
       "      <td>0.315610</td>\n",
       "      <td>0.696807</td>\n",
       "      <td>0.586792</td>\n",
       "      <td>1.253378</td>\n",
       "    </tr>\n",
       "    <tr>\n",
       "      <th>2013-01-06</th>\n",
       "      <td>-0.367903</td>\n",
       "      <td>-0.294924</td>\n",
       "      <td>-0.237361</td>\n",
       "      <td>-0.158685</td>\n",
       "    </tr>\n",
       "  </tbody>\n",
       "</table>\n",
       "</div>"
      ],
      "text/plain": [
       "                   I         F         G         H\n",
       "2013-01-01  2.686980  0.620658  0.566080 -0.796421\n",
       "2013-01-02  1.781268 -1.603251 -0.387673 -1.446385\n",
       "2013-01-03 -0.019280  0.476807  1.045772  0.291544\n",
       "2013-01-04 -0.231352 -0.201520  0.720959  0.916076\n",
       "2013-01-05  0.315610  0.696807  0.586792  1.253378\n",
       "2013-01-06 -0.367903 -0.294924 -0.237361 -0.158685"
      ]
     },
     "execution_count": 1079,
     "metadata": {},
     "output_type": "execute_result"
    }
   ],
   "source": [
    "df2=df2.rename(columns = {'E': 'I'})\n",
    "df2"
   ]
  },
  {
   "cell_type": "code",
   "execution_count": 1080,
   "id": "c04336df",
   "metadata": {},
   "outputs": [
    {
     "data": {
      "text/html": [
       "<div>\n",
       "<style scoped>\n",
       "    .dataframe tbody tr th:only-of-type {\n",
       "        vertical-align: middle;\n",
       "    }\n",
       "\n",
       "    .dataframe tbody tr th {\n",
       "        vertical-align: top;\n",
       "    }\n",
       "\n",
       "    .dataframe thead th {\n",
       "        text-align: right;\n",
       "    }\n",
       "</style>\n",
       "<table border=\"1\" class=\"dataframe\">\n",
       "  <thead>\n",
       "    <tr style=\"text-align: right;\">\n",
       "      <th></th>\n",
       "      <th>A</th>\n",
       "      <th>B</th>\n",
       "      <th>C</th>\n",
       "      <th>D</th>\n",
       "    </tr>\n",
       "  </thead>\n",
       "  <tbody>\n",
       "    <tr>\n",
       "      <th>2013-01-01</th>\n",
       "      <td>2.686980</td>\n",
       "      <td>0.620658</td>\n",
       "      <td>0.566080</td>\n",
       "      <td>-0.796421</td>\n",
       "    </tr>\n",
       "    <tr>\n",
       "      <th>2013-01-02</th>\n",
       "      <td>1.781268</td>\n",
       "      <td>-1.603251</td>\n",
       "      <td>-0.387673</td>\n",
       "      <td>-1.446385</td>\n",
       "    </tr>\n",
       "    <tr>\n",
       "      <th>2013-01-03</th>\n",
       "      <td>-0.019280</td>\n",
       "      <td>0.476807</td>\n",
       "      <td>1.045772</td>\n",
       "      <td>0.291544</td>\n",
       "    </tr>\n",
       "    <tr>\n",
       "      <th>2013-01-04</th>\n",
       "      <td>-0.231352</td>\n",
       "      <td>-0.201520</td>\n",
       "      <td>0.720959</td>\n",
       "      <td>0.916076</td>\n",
       "    </tr>\n",
       "    <tr>\n",
       "      <th>2013-01-05</th>\n",
       "      <td>0.315610</td>\n",
       "      <td>0.696807</td>\n",
       "      <td>0.586792</td>\n",
       "      <td>1.253378</td>\n",
       "    </tr>\n",
       "    <tr>\n",
       "      <th>2013-01-06</th>\n",
       "      <td>-0.367903</td>\n",
       "      <td>-0.294924</td>\n",
       "      <td>-0.237361</td>\n",
       "      <td>-0.158685</td>\n",
       "    </tr>\n",
       "  </tbody>\n",
       "</table>\n",
       "</div>"
      ],
      "text/plain": [
       "                   A         B         C         D\n",
       "2013-01-01  2.686980  0.620658  0.566080 -0.796421\n",
       "2013-01-02  1.781268 -1.603251 -0.387673 -1.446385\n",
       "2013-01-03 -0.019280  0.476807  1.045772  0.291544\n",
       "2013-01-04 -0.231352 -0.201520  0.720959  0.916076\n",
       "2013-01-05  0.315610  0.696807  0.586792  1.253378\n",
       "2013-01-06 -0.367903 -0.294924 -0.237361 -0.158685"
      ]
     },
     "execution_count": 1080,
     "metadata": {},
     "output_type": "execute_result"
    }
   ],
   "source": [
    "df2 = df.copy()\n",
    "df2"
   ]
  },
  {
   "cell_type": "code",
   "execution_count": 1081,
   "id": "785efb9f",
   "metadata": {},
   "outputs": [
    {
     "data": {
      "text/html": [
       "<div>\n",
       "<style scoped>\n",
       "    .dataframe tbody tr th:only-of-type {\n",
       "        vertical-align: middle;\n",
       "    }\n",
       "\n",
       "    .dataframe tbody tr th {\n",
       "        vertical-align: top;\n",
       "    }\n",
       "\n",
       "    .dataframe thead th {\n",
       "        text-align: right;\n",
       "    }\n",
       "</style>\n",
       "<table border=\"1\" class=\"dataframe\">\n",
       "  <thead>\n",
       "    <tr style=\"text-align: right;\">\n",
       "      <th></th>\n",
       "      <th>A</th>\n",
       "      <th>B</th>\n",
       "      <th>C</th>\n",
       "      <th>D</th>\n",
       "      <th>E</th>\n",
       "    </tr>\n",
       "  </thead>\n",
       "  <tbody>\n",
       "    <tr>\n",
       "      <th>2013-01-01</th>\n",
       "      <td>2.686980</td>\n",
       "      <td>0.620658</td>\n",
       "      <td>0.566080</td>\n",
       "      <td>-0.796421</td>\n",
       "      <td>one</td>\n",
       "    </tr>\n",
       "    <tr>\n",
       "      <th>2013-01-02</th>\n",
       "      <td>1.781268</td>\n",
       "      <td>-1.603251</td>\n",
       "      <td>-0.387673</td>\n",
       "      <td>-1.446385</td>\n",
       "      <td>one</td>\n",
       "    </tr>\n",
       "    <tr>\n",
       "      <th>2013-01-03</th>\n",
       "      <td>-0.019280</td>\n",
       "      <td>0.476807</td>\n",
       "      <td>1.045772</td>\n",
       "      <td>0.291544</td>\n",
       "      <td>two</td>\n",
       "    </tr>\n",
       "    <tr>\n",
       "      <th>2013-01-04</th>\n",
       "      <td>-0.231352</td>\n",
       "      <td>-0.201520</td>\n",
       "      <td>0.720959</td>\n",
       "      <td>0.916076</td>\n",
       "      <td>three</td>\n",
       "    </tr>\n",
       "    <tr>\n",
       "      <th>2013-01-05</th>\n",
       "      <td>0.315610</td>\n",
       "      <td>0.696807</td>\n",
       "      <td>0.586792</td>\n",
       "      <td>1.253378</td>\n",
       "      <td>34</td>\n",
       "    </tr>\n",
       "    <tr>\n",
       "      <th>2013-01-06</th>\n",
       "      <td>-0.367903</td>\n",
       "      <td>-0.294924</td>\n",
       "      <td>-0.237361</td>\n",
       "      <td>-0.158685</td>\n",
       "      <td>NaN</td>\n",
       "    </tr>\n",
       "  </tbody>\n",
       "</table>\n",
       "</div>"
      ],
      "text/plain": [
       "                   A         B         C         D      E\n",
       "2013-01-01  2.686980  0.620658  0.566080 -0.796421    one\n",
       "2013-01-02  1.781268 -1.603251 -0.387673 -1.446385    one\n",
       "2013-01-03 -0.019280  0.476807  1.045772  0.291544    two\n",
       "2013-01-04 -0.231352 -0.201520  0.720959  0.916076  three\n",
       "2013-01-05  0.315610  0.696807  0.586792  1.253378     34\n",
       "2013-01-06 -0.367903 -0.294924 -0.237361 -0.158685    NaN"
      ]
     },
     "execution_count": 1081,
     "metadata": {},
     "output_type": "execute_result"
    }
   ],
   "source": [
    "df2['E'] = ['one', 'one', 'two', 'three', \"34\", np.nan]\n",
    "df2"
   ]
  },
  {
   "cell_type": "code",
   "execution_count": 1082,
   "id": "30f06734",
   "metadata": {},
   "outputs": [
    {
     "data": {
      "text/html": [
       "<div>\n",
       "<style scoped>\n",
       "    .dataframe tbody tr th:only-of-type {\n",
       "        vertical-align: middle;\n",
       "    }\n",
       "\n",
       "    .dataframe tbody tr th {\n",
       "        vertical-align: top;\n",
       "    }\n",
       "\n",
       "    .dataframe thead th {\n",
       "        text-align: right;\n",
       "    }\n",
       "</style>\n",
       "<table border=\"1\" class=\"dataframe\">\n",
       "  <thead>\n",
       "    <tr style=\"text-align: right;\">\n",
       "      <th></th>\n",
       "      <th>A</th>\n",
       "      <th>B</th>\n",
       "      <th>C</th>\n",
       "      <th>D</th>\n",
       "      <th>E</th>\n",
       "    </tr>\n",
       "  </thead>\n",
       "  <tbody>\n",
       "    <tr>\n",
       "      <th>2013-01-01</th>\n",
       "      <td>2.686980</td>\n",
       "      <td>0.620658</td>\n",
       "      <td>0.566080</td>\n",
       "      <td>-0.796421</td>\n",
       "      <td>one</td>\n",
       "    </tr>\n",
       "    <tr>\n",
       "      <th>2013-01-02</th>\n",
       "      <td>1.781268</td>\n",
       "      <td>-1.603251</td>\n",
       "      <td>-0.387673</td>\n",
       "      <td>-1.446385</td>\n",
       "      <td>one</td>\n",
       "    </tr>\n",
       "    <tr>\n",
       "      <th>2013-01-03</th>\n",
       "      <td>-0.019280</td>\n",
       "      <td>0.476807</td>\n",
       "      <td>1.045772</td>\n",
       "      <td>0.291544</td>\n",
       "      <td>two</td>\n",
       "    </tr>\n",
       "  </tbody>\n",
       "</table>\n",
       "</div>"
      ],
      "text/plain": [
       "                   A         B         C         D    E\n",
       "2013-01-01  2.686980  0.620658  0.566080 -0.796421  one\n",
       "2013-01-02  1.781268 -1.603251 -0.387673 -1.446385  one\n",
       "2013-01-03 -0.019280  0.476807  1.045772  0.291544  two"
      ]
     },
     "execution_count": 1082,
     "metadata": {},
     "output_type": "execute_result"
    }
   ],
   "source": [
    "df2[df2['E'].isin(['one', 'two'])]"
   ]
  },
  {
   "cell_type": "code",
   "execution_count": 1083,
   "id": "256af371",
   "metadata": {},
   "outputs": [
    {
     "data": {
      "text/html": [
       "<div>\n",
       "<style scoped>\n",
       "    .dataframe tbody tr th:only-of-type {\n",
       "        vertical-align: middle;\n",
       "    }\n",
       "\n",
       "    .dataframe tbody tr th {\n",
       "        vertical-align: top;\n",
       "    }\n",
       "\n",
       "    .dataframe thead th {\n",
       "        text-align: right;\n",
       "    }\n",
       "</style>\n",
       "<table border=\"1\" class=\"dataframe\">\n",
       "  <thead>\n",
       "    <tr style=\"text-align: right;\">\n",
       "      <th></th>\n",
       "      <th>A</th>\n",
       "      <th>B</th>\n",
       "      <th>C</th>\n",
       "      <th>D</th>\n",
       "      <th>E</th>\n",
       "    </tr>\n",
       "  </thead>\n",
       "  <tbody>\n",
       "    <tr>\n",
       "      <th>2013-01-04</th>\n",
       "      <td>-0.231352</td>\n",
       "      <td>-0.20152</td>\n",
       "      <td>0.720959</td>\n",
       "      <td>0.916076</td>\n",
       "      <td>three</td>\n",
       "    </tr>\n",
       "  </tbody>\n",
       "</table>\n",
       "</div>"
      ],
      "text/plain": [
       "                   A        B         C         D      E\n",
       "2013-01-04 -0.231352 -0.20152  0.720959  0.916076  three"
      ]
     },
     "execution_count": 1083,
     "metadata": {},
     "output_type": "execute_result"
    }
   ],
   "source": [
    "df2[df2.E.str.contains('ree',regex=True, na =False)]"
   ]
  },
  {
   "cell_type": "code",
   "execution_count": 1084,
   "id": "9226cab4",
   "metadata": {},
   "outputs": [
    {
     "data": {
      "text/html": [
       "<div>\n",
       "<style scoped>\n",
       "    .dataframe tbody tr th:only-of-type {\n",
       "        vertical-align: middle;\n",
       "    }\n",
       "\n",
       "    .dataframe tbody tr th {\n",
       "        vertical-align: top;\n",
       "    }\n",
       "\n",
       "    .dataframe thead th {\n",
       "        text-align: right;\n",
       "    }\n",
       "</style>\n",
       "<table border=\"1\" class=\"dataframe\">\n",
       "  <thead>\n",
       "    <tr style=\"text-align: right;\">\n",
       "      <th></th>\n",
       "      <th>A</th>\n",
       "      <th>B</th>\n",
       "      <th>C</th>\n",
       "      <th>D</th>\n",
       "      <th>E</th>\n",
       "    </tr>\n",
       "  </thead>\n",
       "  <tbody>\n",
       "    <tr>\n",
       "      <th>2013-01-04</th>\n",
       "      <td>-0.231352</td>\n",
       "      <td>-0.201520</td>\n",
       "      <td>0.720959</td>\n",
       "      <td>0.916076</td>\n",
       "      <td>three</td>\n",
       "    </tr>\n",
       "    <tr>\n",
       "      <th>2013-01-06</th>\n",
       "      <td>-0.367903</td>\n",
       "      <td>-0.294924</td>\n",
       "      <td>-0.237361</td>\n",
       "      <td>-0.158685</td>\n",
       "      <td>NaN</td>\n",
       "    </tr>\n",
       "  </tbody>\n",
       "</table>\n",
       "</div>"
      ],
      "text/plain": [
       "                   A         B         C         D      E\n",
       "2013-01-04 -0.231352 -0.201520  0.720959  0.916076  three\n",
       "2013-01-06 -0.367903 -0.294924 -0.237361 -0.158685    NaN"
      ]
     },
     "execution_count": 1084,
     "metadata": {},
     "output_type": "execute_result"
    }
   ],
   "source": [
    "df2[df2.E.str.contains('ree',regex=True, na =True)]"
   ]
  },
  {
   "cell_type": "code",
   "execution_count": 1085,
   "id": "32d4ab5f",
   "metadata": {},
   "outputs": [
    {
     "data": {
      "text/html": [
       "<div>\n",
       "<style scoped>\n",
       "    .dataframe tbody tr th:only-of-type {\n",
       "        vertical-align: middle;\n",
       "    }\n",
       "\n",
       "    .dataframe tbody tr th {\n",
       "        vertical-align: top;\n",
       "    }\n",
       "\n",
       "    .dataframe thead th {\n",
       "        text-align: right;\n",
       "    }\n",
       "</style>\n",
       "<table border=\"1\" class=\"dataframe\">\n",
       "  <thead>\n",
       "    <tr style=\"text-align: right;\">\n",
       "      <th></th>\n",
       "      <th>A</th>\n",
       "      <th>B</th>\n",
       "      <th>C</th>\n",
       "      <th>D</th>\n",
       "      <th>E</th>\n",
       "    </tr>\n",
       "  </thead>\n",
       "  <tbody>\n",
       "    <tr>\n",
       "      <th>2013-01-05</th>\n",
       "      <td>0.31561</td>\n",
       "      <td>0.696807</td>\n",
       "      <td>0.586792</td>\n",
       "      <td>1.253378</td>\n",
       "      <td>34</td>\n",
       "    </tr>\n",
       "  </tbody>\n",
       "</table>\n",
       "</div>"
      ],
      "text/plain": [
       "                  A         B         C         D   E\n",
       "2013-01-05  0.31561  0.696807  0.586792  1.253378  34"
      ]
     },
     "execution_count": 1085,
     "metadata": {},
     "output_type": "execute_result"
    }
   ],
   "source": [
    "df2[df2.E.str.contains('\\d',regex=True, na=False)] # w True regex \\d = jakas cyfra"
   ]
  },
  {
   "cell_type": "code",
   "execution_count": 1086,
   "id": "164ee9cb",
   "metadata": {},
   "outputs": [
    {
     "data": {
      "text/html": [
       "<div>\n",
       "<style scoped>\n",
       "    .dataframe tbody tr th:only-of-type {\n",
       "        vertical-align: middle;\n",
       "    }\n",
       "\n",
       "    .dataframe tbody tr th {\n",
       "        vertical-align: top;\n",
       "    }\n",
       "\n",
       "    .dataframe thead th {\n",
       "        text-align: right;\n",
       "    }\n",
       "</style>\n",
       "<table border=\"1\" class=\"dataframe\">\n",
       "  <thead>\n",
       "    <tr style=\"text-align: right;\">\n",
       "      <th></th>\n",
       "      <th>A</th>\n",
       "      <th>B</th>\n",
       "      <th>C</th>\n",
       "      <th>D</th>\n",
       "      <th>E</th>\n",
       "    </tr>\n",
       "  </thead>\n",
       "  <tbody>\n",
       "  </tbody>\n",
       "</table>\n",
       "</div>"
      ],
      "text/plain": [
       "Empty DataFrame\n",
       "Columns: [A, B, C, D, E]\n",
       "Index: []"
      ]
     },
     "execution_count": 1086,
     "metadata": {},
     "output_type": "execute_result"
    }
   ],
   "source": [
    "df2[df2.E.str.contains('\\D',regex=False, na =False)] # w False regex \\d = \\d string"
   ]
  },
  {
   "cell_type": "code",
   "execution_count": 1087,
   "id": "f05e3bb0",
   "metadata": {},
   "outputs": [
    {
     "data": {
      "text/html": [
       "<div>\n",
       "<style scoped>\n",
       "    .dataframe tbody tr th:only-of-type {\n",
       "        vertical-align: middle;\n",
       "    }\n",
       "\n",
       "    .dataframe tbody tr th {\n",
       "        vertical-align: top;\n",
       "    }\n",
       "\n",
       "    .dataframe thead th {\n",
       "        text-align: right;\n",
       "    }\n",
       "</style>\n",
       "<table border=\"1\" class=\"dataframe\">\n",
       "  <thead>\n",
       "    <tr style=\"text-align: right;\">\n",
       "      <th></th>\n",
       "      <th>A</th>\n",
       "      <th>B</th>\n",
       "      <th>C</th>\n",
       "      <th>D</th>\n",
       "      <th>E</th>\n",
       "    </tr>\n",
       "  </thead>\n",
       "  <tbody>\n",
       "    <tr>\n",
       "      <th>2013-01-05</th>\n",
       "      <td>0.315610</td>\n",
       "      <td>0.696807</td>\n",
       "      <td>0.586792</td>\n",
       "      <td>1.253378</td>\n",
       "      <td>34</td>\n",
       "    </tr>\n",
       "    <tr>\n",
       "      <th>2013-01-06</th>\n",
       "      <td>-0.367903</td>\n",
       "      <td>-0.294924</td>\n",
       "      <td>-0.237361</td>\n",
       "      <td>-0.158685</td>\n",
       "      <td>NaN</td>\n",
       "    </tr>\n",
       "  </tbody>\n",
       "</table>\n",
       "</div>"
      ],
      "text/plain": [
       "                   A         B         C         D    E\n",
       "2013-01-05  0.315610  0.696807  0.586792  1.253378   34\n",
       "2013-01-06 -0.367903 -0.294924 -0.237361 -0.158685  NaN"
      ]
     },
     "execution_count": 1087,
     "metadata": {},
     "output_type": "execute_result"
    }
   ],
   "source": [
    "df2[df2.E.str.contains('\\d',regex=True, na=True)]"
   ]
  },
  {
   "cell_type": "code",
   "execution_count": 1088,
   "id": "2d699a3d",
   "metadata": {},
   "outputs": [
    {
     "data": {
      "text/plain": [
       "2013-01-02    1\n",
       "2013-01-03    2\n",
       "2013-01-04    3\n",
       "2013-01-05    4\n",
       "2013-01-06    5\n",
       "2013-01-07    6\n",
       "Freq: D, dtype: int64"
      ]
     },
     "execution_count": 1088,
     "metadata": {},
     "output_type": "execute_result"
    }
   ],
   "source": [
    "s1 = pd.Series([1, 2, 3, 4, 5, 6], index=pd.date_range('20130102', periods=6))\n",
    "s1"
   ]
  },
  {
   "cell_type": "code",
   "execution_count": 1089,
   "id": "fda9b411",
   "metadata": {},
   "outputs": [
    {
     "data": {
      "text/html": [
       "<div>\n",
       "<style scoped>\n",
       "    .dataframe tbody tr th:only-of-type {\n",
       "        vertical-align: middle;\n",
       "    }\n",
       "\n",
       "    .dataframe tbody tr th {\n",
       "        vertical-align: top;\n",
       "    }\n",
       "\n",
       "    .dataframe thead th {\n",
       "        text-align: right;\n",
       "    }\n",
       "</style>\n",
       "<table border=\"1\" class=\"dataframe\">\n",
       "  <thead>\n",
       "    <tr style=\"text-align: right;\">\n",
       "      <th></th>\n",
       "      <th>A</th>\n",
       "      <th>B</th>\n",
       "      <th>C</th>\n",
       "      <th>D</th>\n",
       "      <th>E</th>\n",
       "      <th>F</th>\n",
       "    </tr>\n",
       "  </thead>\n",
       "  <tbody>\n",
       "    <tr>\n",
       "      <th>2013-01-01</th>\n",
       "      <td>2.686980</td>\n",
       "      <td>0.620658</td>\n",
       "      <td>0.566080</td>\n",
       "      <td>-0.796421</td>\n",
       "      <td>one</td>\n",
       "      <td>NaN</td>\n",
       "    </tr>\n",
       "    <tr>\n",
       "      <th>2013-01-02</th>\n",
       "      <td>1.781268</td>\n",
       "      <td>-1.603251</td>\n",
       "      <td>-0.387673</td>\n",
       "      <td>-1.446385</td>\n",
       "      <td>one</td>\n",
       "      <td>1.0</td>\n",
       "    </tr>\n",
       "    <tr>\n",
       "      <th>2013-01-03</th>\n",
       "      <td>-0.019280</td>\n",
       "      <td>0.476807</td>\n",
       "      <td>1.045772</td>\n",
       "      <td>0.291544</td>\n",
       "      <td>two</td>\n",
       "      <td>2.0</td>\n",
       "    </tr>\n",
       "    <tr>\n",
       "      <th>2013-01-04</th>\n",
       "      <td>-0.231352</td>\n",
       "      <td>-0.201520</td>\n",
       "      <td>0.720959</td>\n",
       "      <td>0.916076</td>\n",
       "      <td>three</td>\n",
       "      <td>3.0</td>\n",
       "    </tr>\n",
       "    <tr>\n",
       "      <th>2013-01-05</th>\n",
       "      <td>0.315610</td>\n",
       "      <td>0.696807</td>\n",
       "      <td>0.586792</td>\n",
       "      <td>1.253378</td>\n",
       "      <td>34</td>\n",
       "      <td>4.0</td>\n",
       "    </tr>\n",
       "    <tr>\n",
       "      <th>2013-01-06</th>\n",
       "      <td>-0.367903</td>\n",
       "      <td>-0.294924</td>\n",
       "      <td>-0.237361</td>\n",
       "      <td>-0.158685</td>\n",
       "      <td>NaN</td>\n",
       "      <td>5.0</td>\n",
       "    </tr>\n",
       "  </tbody>\n",
       "</table>\n",
       "</div>"
      ],
      "text/plain": [
       "                   A         B         C         D      E    F\n",
       "2013-01-01  2.686980  0.620658  0.566080 -0.796421    one  NaN\n",
       "2013-01-02  1.781268 -1.603251 -0.387673 -1.446385    one  1.0\n",
       "2013-01-03 -0.019280  0.476807  1.045772  0.291544    two  2.0\n",
       "2013-01-04 -0.231352 -0.201520  0.720959  0.916076  three  3.0\n",
       "2013-01-05  0.315610  0.696807  0.586792  1.253378     34  4.0\n",
       "2013-01-06 -0.367903 -0.294924 -0.237361 -0.158685    NaN  5.0"
      ]
     },
     "execution_count": 1089,
     "metadata": {},
     "output_type": "execute_result"
    }
   ],
   "source": [
    "df2['F'] = s1\n",
    "df2"
   ]
  },
  {
   "cell_type": "code",
   "execution_count": 1090,
   "id": "e25ef699",
   "metadata": {},
   "outputs": [
    {
     "data": {
      "text/html": [
       "<div>\n",
       "<style scoped>\n",
       "    .dataframe tbody tr th:only-of-type {\n",
       "        vertical-align: middle;\n",
       "    }\n",
       "\n",
       "    .dataframe tbody tr th {\n",
       "        vertical-align: top;\n",
       "    }\n",
       "\n",
       "    .dataframe thead th {\n",
       "        text-align: right;\n",
       "    }\n",
       "</style>\n",
       "<table border=\"1\" class=\"dataframe\">\n",
       "  <thead>\n",
       "    <tr style=\"text-align: right;\">\n",
       "      <th></th>\n",
       "      <th>A</th>\n",
       "      <th>B</th>\n",
       "      <th>C</th>\n",
       "      <th>D</th>\n",
       "      <th>E</th>\n",
       "      <th>F</th>\n",
       "    </tr>\n",
       "  </thead>\n",
       "  <tbody>\n",
       "    <tr>\n",
       "      <th>2013-01-01</th>\n",
       "      <td>2.686980</td>\n",
       "      <td>0.620658</td>\n",
       "      <td>0.566080</td>\n",
       "      <td>-0.796421</td>\n",
       "      <td>one</td>\n",
       "      <td>5</td>\n",
       "    </tr>\n",
       "    <tr>\n",
       "      <th>2013-01-02</th>\n",
       "      <td>1.781268</td>\n",
       "      <td>-1.603251</td>\n",
       "      <td>-0.387673</td>\n",
       "      <td>-1.446385</td>\n",
       "      <td>one</td>\n",
       "      <td>5</td>\n",
       "    </tr>\n",
       "    <tr>\n",
       "      <th>2013-01-03</th>\n",
       "      <td>-0.019280</td>\n",
       "      <td>0.476807</td>\n",
       "      <td>1.045772</td>\n",
       "      <td>0.291544</td>\n",
       "      <td>two</td>\n",
       "      <td>5</td>\n",
       "    </tr>\n",
       "    <tr>\n",
       "      <th>2013-01-04</th>\n",
       "      <td>-0.231352</td>\n",
       "      <td>-0.201520</td>\n",
       "      <td>0.720959</td>\n",
       "      <td>0.916076</td>\n",
       "      <td>three</td>\n",
       "      <td>5</td>\n",
       "    </tr>\n",
       "    <tr>\n",
       "      <th>2013-01-05</th>\n",
       "      <td>0.315610</td>\n",
       "      <td>0.696807</td>\n",
       "      <td>0.586792</td>\n",
       "      <td>1.253378</td>\n",
       "      <td>34</td>\n",
       "      <td>5</td>\n",
       "    </tr>\n",
       "    <tr>\n",
       "      <th>2013-01-06</th>\n",
       "      <td>-0.367903</td>\n",
       "      <td>-0.294924</td>\n",
       "      <td>-0.237361</td>\n",
       "      <td>-0.158685</td>\n",
       "      <td>NaN</td>\n",
       "      <td>5</td>\n",
       "    </tr>\n",
       "  </tbody>\n",
       "</table>\n",
       "</div>"
      ],
      "text/plain": [
       "                   A         B         C         D      E  F\n",
       "2013-01-01  2.686980  0.620658  0.566080 -0.796421    one  5\n",
       "2013-01-02  1.781268 -1.603251 -0.387673 -1.446385    one  5\n",
       "2013-01-03 -0.019280  0.476807  1.045772  0.291544    two  5\n",
       "2013-01-04 -0.231352 -0.201520  0.720959  0.916076  three  5\n",
       "2013-01-05  0.315610  0.696807  0.586792  1.253378     34  5\n",
       "2013-01-06 -0.367903 -0.294924 -0.237361 -0.158685    NaN  5"
      ]
     },
     "execution_count": 1090,
     "metadata": {},
     "output_type": "execute_result"
    }
   ],
   "source": [
    "df2['F'] = 5\n",
    "df2"
   ]
  },
  {
   "cell_type": "code",
   "execution_count": 1091,
   "id": "fce17b05",
   "metadata": {},
   "outputs": [
    {
     "data": {
      "text/html": [
       "<div>\n",
       "<style scoped>\n",
       "    .dataframe tbody tr th:only-of-type {\n",
       "        vertical-align: middle;\n",
       "    }\n",
       "\n",
       "    .dataframe tbody tr th {\n",
       "        vertical-align: top;\n",
       "    }\n",
       "\n",
       "    .dataframe thead th {\n",
       "        text-align: right;\n",
       "    }\n",
       "</style>\n",
       "<table border=\"1\" class=\"dataframe\">\n",
       "  <thead>\n",
       "    <tr style=\"text-align: right;\">\n",
       "      <th></th>\n",
       "      <th>A</th>\n",
       "      <th>B</th>\n",
       "      <th>C</th>\n",
       "      <th>D</th>\n",
       "      <th>E</th>\n",
       "      <th>F</th>\n",
       "    </tr>\n",
       "  </thead>\n",
       "  <tbody>\n",
       "    <tr>\n",
       "      <th>2013-01-01</th>\n",
       "      <td>0.951072</td>\n",
       "      <td>-1.375628</td>\n",
       "      <td>-0.026954</td>\n",
       "      <td>-5</td>\n",
       "      <td>NaN</td>\n",
       "      <td>1.0</td>\n",
       "    </tr>\n",
       "    <tr>\n",
       "      <th>2013-01-02</th>\n",
       "      <td>-0.402485</td>\n",
       "      <td>0.082131</td>\n",
       "      <td>-0.246336</td>\n",
       "      <td>-5</td>\n",
       "      <td>-1.0</td>\n",
       "      <td>2.0</td>\n",
       "    </tr>\n",
       "    <tr>\n",
       "      <th>2013-01-03</th>\n",
       "      <td>-1.750698</td>\n",
       "      <td>0.342819</td>\n",
       "      <td>1.238192</td>\n",
       "      <td>-5</td>\n",
       "      <td>-2.0</td>\n",
       "      <td>NaN</td>\n",
       "    </tr>\n",
       "    <tr>\n",
       "      <th>2013-01-04</th>\n",
       "      <td>0.551771</td>\n",
       "      <td>-0.382915</td>\n",
       "      <td>-0.714890</td>\n",
       "      <td>-5</td>\n",
       "      <td>-3.0</td>\n",
       "      <td>NaN</td>\n",
       "    </tr>\n",
       "    <tr>\n",
       "      <th>2013-01-05</th>\n",
       "      <td>0.388377</td>\n",
       "      <td>1.190613</td>\n",
       "      <td>1.296023</td>\n",
       "      <td>-5</td>\n",
       "      <td>-4.0</td>\n",
       "      <td>NaN</td>\n",
       "    </tr>\n",
       "    <tr>\n",
       "      <th>2013-01-06</th>\n",
       "      <td>-1.937858</td>\n",
       "      <td>1.893546</td>\n",
       "      <td>-1.763650</td>\n",
       "      <td>-5</td>\n",
       "      <td>-5.0</td>\n",
       "      <td>NaN</td>\n",
       "    </tr>\n",
       "  </tbody>\n",
       "</table>\n",
       "</div>"
      ],
      "text/plain": [
       "                   A         B         C  D    E    F\n",
       "2013-01-01  0.951072 -1.375628 -0.026954 -5  NaN  1.0\n",
       "2013-01-02 -0.402485  0.082131 -0.246336 -5 -1.0  2.0\n",
       "2013-01-03 -1.750698  0.342819  1.238192 -5 -2.0  NaN\n",
       "2013-01-04  0.551771 -0.382915 -0.714890 -5 -3.0  NaN\n",
       "2013-01-05  0.388377  1.190613  1.296023 -5 -4.0  NaN\n",
       "2013-01-06 -1.937858  1.893546 -1.763650 -5 -5.0  NaN"
      ]
     },
     "execution_count": 1091,
     "metadata": {},
     "output_type": "execute_result"
    }
   ],
   "source": [
    "df = pd.DataFrame(np.random.randn(6,4),\n",
    "                 index=dates,\n",
    "                 columns =list('ABCD'))\n",
    "df['D'] = -5\n",
    "df['E'] = [np.nan, -1,-2,-3,-4,-5]\n",
    "df['F'] = [1,2,np.nan,np.nan,np.nan,np.nan]\n",
    "df"
   ]
  },
  {
   "cell_type": "code",
   "execution_count": 1092,
   "id": "a9046754",
   "metadata": {},
   "outputs": [
    {
     "data": {
      "text/html": [
       "<div>\n",
       "<style scoped>\n",
       "    .dataframe tbody tr th:only-of-type {\n",
       "        vertical-align: middle;\n",
       "    }\n",
       "\n",
       "    .dataframe tbody tr th {\n",
       "        vertical-align: top;\n",
       "    }\n",
       "\n",
       "    .dataframe thead th {\n",
       "        text-align: right;\n",
       "    }\n",
       "</style>\n",
       "<table border=\"1\" class=\"dataframe\">\n",
       "  <thead>\n",
       "    <tr style=\"text-align: right;\">\n",
       "      <th></th>\n",
       "      <th>A</th>\n",
       "      <th>B</th>\n",
       "      <th>C</th>\n",
       "      <th>D</th>\n",
       "      <th>E</th>\n",
       "      <th>F</th>\n",
       "    </tr>\n",
       "  </thead>\n",
       "  <tbody>\n",
       "    <tr>\n",
       "      <th>2013-01-01</th>\n",
       "      <td>False</td>\n",
       "      <td>False</td>\n",
       "      <td>False</td>\n",
       "      <td>False</td>\n",
       "      <td>True</td>\n",
       "      <td>False</td>\n",
       "    </tr>\n",
       "    <tr>\n",
       "      <th>2013-01-02</th>\n",
       "      <td>False</td>\n",
       "      <td>False</td>\n",
       "      <td>False</td>\n",
       "      <td>False</td>\n",
       "      <td>False</td>\n",
       "      <td>False</td>\n",
       "    </tr>\n",
       "    <tr>\n",
       "      <th>2013-01-03</th>\n",
       "      <td>False</td>\n",
       "      <td>False</td>\n",
       "      <td>False</td>\n",
       "      <td>False</td>\n",
       "      <td>False</td>\n",
       "      <td>True</td>\n",
       "    </tr>\n",
       "    <tr>\n",
       "      <th>2013-01-04</th>\n",
       "      <td>False</td>\n",
       "      <td>False</td>\n",
       "      <td>False</td>\n",
       "      <td>False</td>\n",
       "      <td>False</td>\n",
       "      <td>True</td>\n",
       "    </tr>\n",
       "    <tr>\n",
       "      <th>2013-01-05</th>\n",
       "      <td>False</td>\n",
       "      <td>False</td>\n",
       "      <td>False</td>\n",
       "      <td>False</td>\n",
       "      <td>False</td>\n",
       "      <td>True</td>\n",
       "    </tr>\n",
       "    <tr>\n",
       "      <th>2013-01-06</th>\n",
       "      <td>False</td>\n",
       "      <td>False</td>\n",
       "      <td>False</td>\n",
       "      <td>False</td>\n",
       "      <td>False</td>\n",
       "      <td>True</td>\n",
       "    </tr>\n",
       "  </tbody>\n",
       "</table>\n",
       "</div>"
      ],
      "text/plain": [
       "                A      B      C      D      E      F\n",
       "2013-01-01  False  False  False  False   True  False\n",
       "2013-01-02  False  False  False  False  False  False\n",
       "2013-01-03  False  False  False  False  False   True\n",
       "2013-01-04  False  False  False  False  False   True\n",
       "2013-01-05  False  False  False  False  False   True\n",
       "2013-01-06  False  False  False  False  False   True"
      ]
     },
     "execution_count": 1092,
     "metadata": {},
     "output_type": "execute_result"
    }
   ],
   "source": [
    "pd.isna(df) #sprawdzenie gdzię są NaN"
   ]
  },
  {
   "cell_type": "code",
   "execution_count": 1093,
   "id": "ef3d90f5",
   "metadata": {},
   "outputs": [
    {
     "data": {
      "text/plain": [
       "2013-01-01     True\n",
       "2013-01-02    False\n",
       "2013-01-03     True\n",
       "2013-01-04     True\n",
       "2013-01-05     True\n",
       "2013-01-06     True\n",
       "Freq: D, dtype: bool"
      ]
     },
     "execution_count": 1093,
     "metadata": {},
     "output_type": "execute_result"
    }
   ],
   "source": [
    "df.isna().any(axis=1) # any = gdziekolwiek axis = 1 po wierszu"
   ]
  },
  {
   "cell_type": "code",
   "execution_count": 1094,
   "id": "3119f447",
   "metadata": {},
   "outputs": [
    {
     "data": {
      "text/plain": [
       "A    False\n",
       "B    False\n",
       "C    False\n",
       "D    False\n",
       "E     True\n",
       "F     True\n",
       "dtype: bool"
      ]
     },
     "execution_count": 1094,
     "metadata": {},
     "output_type": "execute_result"
    }
   ],
   "source": [
    "df.isna().any(axis=0) # any = gdziekolwiek axis = 0 po kolumnie"
   ]
  },
  {
   "cell_type": "code",
   "execution_count": 1095,
   "id": "113258c8",
   "metadata": {},
   "outputs": [
    {
     "data": {
      "text/html": [
       "<div>\n",
       "<style scoped>\n",
       "    .dataframe tbody tr th:only-of-type {\n",
       "        vertical-align: middle;\n",
       "    }\n",
       "\n",
       "    .dataframe tbody tr th {\n",
       "        vertical-align: top;\n",
       "    }\n",
       "\n",
       "    .dataframe thead th {\n",
       "        text-align: right;\n",
       "    }\n",
       "</style>\n",
       "<table border=\"1\" class=\"dataframe\">\n",
       "  <thead>\n",
       "    <tr style=\"text-align: right;\">\n",
       "      <th></th>\n",
       "      <th>A</th>\n",
       "      <th>B</th>\n",
       "      <th>C</th>\n",
       "      <th>D</th>\n",
       "      <th>E</th>\n",
       "      <th>F</th>\n",
       "    </tr>\n",
       "  </thead>\n",
       "  <tbody>\n",
       "    <tr>\n",
       "      <th>2013-01-01</th>\n",
       "      <td>0.951072</td>\n",
       "      <td>-1.375628</td>\n",
       "      <td>-0.026954</td>\n",
       "      <td>-5</td>\n",
       "      <td>NaN</td>\n",
       "      <td>1.0</td>\n",
       "    </tr>\n",
       "    <tr>\n",
       "      <th>2013-01-03</th>\n",
       "      <td>-1.750698</td>\n",
       "      <td>0.342819</td>\n",
       "      <td>1.238192</td>\n",
       "      <td>-5</td>\n",
       "      <td>-2.0</td>\n",
       "      <td>NaN</td>\n",
       "    </tr>\n",
       "    <tr>\n",
       "      <th>2013-01-04</th>\n",
       "      <td>0.551771</td>\n",
       "      <td>-0.382915</td>\n",
       "      <td>-0.714890</td>\n",
       "      <td>-5</td>\n",
       "      <td>-3.0</td>\n",
       "      <td>NaN</td>\n",
       "    </tr>\n",
       "    <tr>\n",
       "      <th>2013-01-05</th>\n",
       "      <td>0.388377</td>\n",
       "      <td>1.190613</td>\n",
       "      <td>1.296023</td>\n",
       "      <td>-5</td>\n",
       "      <td>-4.0</td>\n",
       "      <td>NaN</td>\n",
       "    </tr>\n",
       "    <tr>\n",
       "      <th>2013-01-06</th>\n",
       "      <td>-1.937858</td>\n",
       "      <td>1.893546</td>\n",
       "      <td>-1.763650</td>\n",
       "      <td>-5</td>\n",
       "      <td>-5.0</td>\n",
       "      <td>NaN</td>\n",
       "    </tr>\n",
       "  </tbody>\n",
       "</table>\n",
       "</div>"
      ],
      "text/plain": [
       "                   A         B         C  D    E    F\n",
       "2013-01-01  0.951072 -1.375628 -0.026954 -5  NaN  1.0\n",
       "2013-01-03 -1.750698  0.342819  1.238192 -5 -2.0  NaN\n",
       "2013-01-04  0.551771 -0.382915 -0.714890 -5 -3.0  NaN\n",
       "2013-01-05  0.388377  1.190613  1.296023 -5 -4.0  NaN\n",
       "2013-01-06 -1.937858  1.893546 -1.763650 -5 -5.0  NaN"
      ]
     },
     "execution_count": 1095,
     "metadata": {},
     "output_type": "execute_result"
    }
   ],
   "source": [
    "df[df.isna().any(axis=1)] # nie wyswietla 2013-01-02, bo nie ma Nan"
   ]
  },
  {
   "cell_type": "code",
   "execution_count": 1096,
   "id": "5add53eb",
   "metadata": {},
   "outputs": [
    {
     "data": {
      "text/html": [
       "<div>\n",
       "<style scoped>\n",
       "    .dataframe tbody tr th:only-of-type {\n",
       "        vertical-align: middle;\n",
       "    }\n",
       "\n",
       "    .dataframe tbody tr th {\n",
       "        vertical-align: top;\n",
       "    }\n",
       "\n",
       "    .dataframe thead th {\n",
       "        text-align: right;\n",
       "    }\n",
       "</style>\n",
       "<table border=\"1\" class=\"dataframe\">\n",
       "  <thead>\n",
       "    <tr style=\"text-align: right;\">\n",
       "      <th></th>\n",
       "      <th>A</th>\n",
       "      <th>B</th>\n",
       "      <th>C</th>\n",
       "      <th>D</th>\n",
       "      <th>E</th>\n",
       "      <th>F</th>\n",
       "    </tr>\n",
       "  </thead>\n",
       "  <tbody>\n",
       "    <tr>\n",
       "      <th>2013-01-02</th>\n",
       "      <td>-0.402485</td>\n",
       "      <td>0.082131</td>\n",
       "      <td>-0.246336</td>\n",
       "      <td>-5</td>\n",
       "      <td>-1.0</td>\n",
       "      <td>2.0</td>\n",
       "    </tr>\n",
       "  </tbody>\n",
       "</table>\n",
       "</div>"
      ],
      "text/plain": [
       "                   A         B         C  D    E    F\n",
       "2013-01-02 -0.402485  0.082131 -0.246336 -5 -1.0  2.0"
      ]
     },
     "execution_count": 1096,
     "metadata": {},
     "output_type": "execute_result"
    }
   ],
   "source": [
    "df.dropna() # pokazuje gdzie nie ma Nan w jakielkowiek kolumnie( w całym wierszu), \n",
    "# \"any\" - defaultowo"
   ]
  },
  {
   "cell_type": "code",
   "execution_count": 1097,
   "id": "790e5265",
   "metadata": {},
   "outputs": [
    {
     "data": {
      "text/html": [
       "<div>\n",
       "<style scoped>\n",
       "    .dataframe tbody tr th:only-of-type {\n",
       "        vertical-align: middle;\n",
       "    }\n",
       "\n",
       "    .dataframe tbody tr th {\n",
       "        vertical-align: top;\n",
       "    }\n",
       "\n",
       "    .dataframe thead th {\n",
       "        text-align: right;\n",
       "    }\n",
       "</style>\n",
       "<table border=\"1\" class=\"dataframe\">\n",
       "  <thead>\n",
       "    <tr style=\"text-align: right;\">\n",
       "      <th></th>\n",
       "      <th>A</th>\n",
       "      <th>B</th>\n",
       "      <th>C</th>\n",
       "      <th>D</th>\n",
       "      <th>E</th>\n",
       "      <th>F</th>\n",
       "    </tr>\n",
       "  </thead>\n",
       "  <tbody>\n",
       "    <tr>\n",
       "      <th>2013-01-01</th>\n",
       "      <td>0.951072</td>\n",
       "      <td>-1.375628</td>\n",
       "      <td>-0.026954</td>\n",
       "      <td>-5</td>\n",
       "      <td>NaN</td>\n",
       "      <td>1.0</td>\n",
       "    </tr>\n",
       "    <tr>\n",
       "      <th>2013-01-02</th>\n",
       "      <td>-0.402485</td>\n",
       "      <td>0.082131</td>\n",
       "      <td>-0.246336</td>\n",
       "      <td>-5</td>\n",
       "      <td>-1.0</td>\n",
       "      <td>2.0</td>\n",
       "    </tr>\n",
       "    <tr>\n",
       "      <th>2013-01-03</th>\n",
       "      <td>-1.750698</td>\n",
       "      <td>0.342819</td>\n",
       "      <td>1.238192</td>\n",
       "      <td>-5</td>\n",
       "      <td>-2.0</td>\n",
       "      <td>NaN</td>\n",
       "    </tr>\n",
       "    <tr>\n",
       "      <th>2013-01-04</th>\n",
       "      <td>0.551771</td>\n",
       "      <td>-0.382915</td>\n",
       "      <td>-0.714890</td>\n",
       "      <td>-5</td>\n",
       "      <td>-3.0</td>\n",
       "      <td>NaN</td>\n",
       "    </tr>\n",
       "    <tr>\n",
       "      <th>2013-01-05</th>\n",
       "      <td>0.388377</td>\n",
       "      <td>1.190613</td>\n",
       "      <td>1.296023</td>\n",
       "      <td>-5</td>\n",
       "      <td>-4.0</td>\n",
       "      <td>NaN</td>\n",
       "    </tr>\n",
       "    <tr>\n",
       "      <th>2013-01-06</th>\n",
       "      <td>-1.937858</td>\n",
       "      <td>1.893546</td>\n",
       "      <td>-1.763650</td>\n",
       "      <td>-5</td>\n",
       "      <td>-5.0</td>\n",
       "      <td>NaN</td>\n",
       "    </tr>\n",
       "  </tbody>\n",
       "</table>\n",
       "</div>"
      ],
      "text/plain": [
       "                   A         B         C  D    E    F\n",
       "2013-01-01  0.951072 -1.375628 -0.026954 -5  NaN  1.0\n",
       "2013-01-02 -0.402485  0.082131 -0.246336 -5 -1.0  2.0\n",
       "2013-01-03 -1.750698  0.342819  1.238192 -5 -2.0  NaN\n",
       "2013-01-04  0.551771 -0.382915 -0.714890 -5 -3.0  NaN\n",
       "2013-01-05  0.388377  1.190613  1.296023 -5 -4.0  NaN\n",
       "2013-01-06 -1.937858  1.893546 -1.763650 -5 -5.0  NaN"
      ]
     },
     "execution_count": 1097,
     "metadata": {},
     "output_type": "execute_result"
    }
   ],
   "source": [
    "df.dropna(how='all') # pokazuje when ALL values are NULL in row"
   ]
  },
  {
   "cell_type": "code",
   "execution_count": 1098,
   "id": "420ebfe9",
   "metadata": {},
   "outputs": [
    {
     "data": {
      "text/html": [
       "<div>\n",
       "<style scoped>\n",
       "    .dataframe tbody tr th:only-of-type {\n",
       "        vertical-align: middle;\n",
       "    }\n",
       "\n",
       "    .dataframe tbody tr th {\n",
       "        vertical-align: top;\n",
       "    }\n",
       "\n",
       "    .dataframe thead th {\n",
       "        text-align: right;\n",
       "    }\n",
       "</style>\n",
       "<table border=\"1\" class=\"dataframe\">\n",
       "  <thead>\n",
       "    <tr style=\"text-align: right;\">\n",
       "      <th></th>\n",
       "      <th>A</th>\n",
       "      <th>B</th>\n",
       "      <th>C</th>\n",
       "      <th>D</th>\n",
       "      <th>E</th>\n",
       "      <th>F</th>\n",
       "    </tr>\n",
       "  </thead>\n",
       "  <tbody>\n",
       "    <tr>\n",
       "      <th>2013-01-01</th>\n",
       "      <td>0.951072</td>\n",
       "      <td>-1.375628</td>\n",
       "      <td>-0.026954</td>\n",
       "      <td>-5</td>\n",
       "      <td>5.0</td>\n",
       "      <td>1.0</td>\n",
       "    </tr>\n",
       "    <tr>\n",
       "      <th>2013-01-02</th>\n",
       "      <td>-0.402485</td>\n",
       "      <td>0.082131</td>\n",
       "      <td>-0.246336</td>\n",
       "      <td>-5</td>\n",
       "      <td>-1.0</td>\n",
       "      <td>2.0</td>\n",
       "    </tr>\n",
       "    <tr>\n",
       "      <th>2013-01-03</th>\n",
       "      <td>-1.750698</td>\n",
       "      <td>0.342819</td>\n",
       "      <td>1.238192</td>\n",
       "      <td>-5</td>\n",
       "      <td>-2.0</td>\n",
       "      <td>5.0</td>\n",
       "    </tr>\n",
       "    <tr>\n",
       "      <th>2013-01-04</th>\n",
       "      <td>0.551771</td>\n",
       "      <td>-0.382915</td>\n",
       "      <td>-0.714890</td>\n",
       "      <td>-5</td>\n",
       "      <td>-3.0</td>\n",
       "      <td>5.0</td>\n",
       "    </tr>\n",
       "    <tr>\n",
       "      <th>2013-01-05</th>\n",
       "      <td>0.388377</td>\n",
       "      <td>1.190613</td>\n",
       "      <td>1.296023</td>\n",
       "      <td>-5</td>\n",
       "      <td>-4.0</td>\n",
       "      <td>5.0</td>\n",
       "    </tr>\n",
       "    <tr>\n",
       "      <th>2013-01-06</th>\n",
       "      <td>-1.937858</td>\n",
       "      <td>1.893546</td>\n",
       "      <td>-1.763650</td>\n",
       "      <td>-5</td>\n",
       "      <td>-5.0</td>\n",
       "      <td>5.0</td>\n",
       "    </tr>\n",
       "  </tbody>\n",
       "</table>\n",
       "</div>"
      ],
      "text/plain": [
       "                   A         B         C  D    E    F\n",
       "2013-01-01  0.951072 -1.375628 -0.026954 -5  5.0  1.0\n",
       "2013-01-02 -0.402485  0.082131 -0.246336 -5 -1.0  2.0\n",
       "2013-01-03 -1.750698  0.342819  1.238192 -5 -2.0  5.0\n",
       "2013-01-04  0.551771 -0.382915 -0.714890 -5 -3.0  5.0\n",
       "2013-01-05  0.388377  1.190613  1.296023 -5 -4.0  5.0\n",
       "2013-01-06 -1.937858  1.893546 -1.763650 -5 -5.0  5.0"
      ]
     },
     "execution_count": 1098,
     "metadata": {},
     "output_type": "execute_result"
    }
   ],
   "source": [
    "df.fillna(5) # wszyskie Nan wypełnione 5"
   ]
  },
  {
   "cell_type": "code",
   "execution_count": 1099,
   "id": "06555847",
   "metadata": {},
   "outputs": [
    {
     "data": {
      "text/html": [
       "<div>\n",
       "<style scoped>\n",
       "    .dataframe tbody tr th:only-of-type {\n",
       "        vertical-align: middle;\n",
       "    }\n",
       "\n",
       "    .dataframe tbody tr th {\n",
       "        vertical-align: top;\n",
       "    }\n",
       "\n",
       "    .dataframe thead th {\n",
       "        text-align: right;\n",
       "    }\n",
       "</style>\n",
       "<table border=\"1\" class=\"dataframe\">\n",
       "  <thead>\n",
       "    <tr style=\"text-align: right;\">\n",
       "      <th></th>\n",
       "      <th>A</th>\n",
       "      <th>B</th>\n",
       "      <th>C</th>\n",
       "      <th>D</th>\n",
       "      <th>E</th>\n",
       "      <th>F</th>\n",
       "    </tr>\n",
       "  </thead>\n",
       "  <tbody>\n",
       "    <tr>\n",
       "      <th>2013-01-01</th>\n",
       "      <td>0.951072</td>\n",
       "      <td>-1.375628</td>\n",
       "      <td>-0.026954</td>\n",
       "      <td>-5</td>\n",
       "      <td>NaN</td>\n",
       "      <td>1.0</td>\n",
       "    </tr>\n",
       "    <tr>\n",
       "      <th>2013-01-02</th>\n",
       "      <td>-0.402485</td>\n",
       "      <td>0.082131</td>\n",
       "      <td>-0.246336</td>\n",
       "      <td>-5</td>\n",
       "      <td>-1.0</td>\n",
       "      <td>2.0</td>\n",
       "    </tr>\n",
       "    <tr>\n",
       "      <th>2013-01-03</th>\n",
       "      <td>-1.750698</td>\n",
       "      <td>0.342819</td>\n",
       "      <td>1.238192</td>\n",
       "      <td>-5</td>\n",
       "      <td>-2.0</td>\n",
       "      <td>2.0</td>\n",
       "    </tr>\n",
       "    <tr>\n",
       "      <th>2013-01-04</th>\n",
       "      <td>0.551771</td>\n",
       "      <td>-0.382915</td>\n",
       "      <td>-0.714890</td>\n",
       "      <td>-5</td>\n",
       "      <td>-3.0</td>\n",
       "      <td>2.0</td>\n",
       "    </tr>\n",
       "    <tr>\n",
       "      <th>2013-01-05</th>\n",
       "      <td>0.388377</td>\n",
       "      <td>1.190613</td>\n",
       "      <td>1.296023</td>\n",
       "      <td>-5</td>\n",
       "      <td>-4.0</td>\n",
       "      <td>2.0</td>\n",
       "    </tr>\n",
       "    <tr>\n",
       "      <th>2013-01-06</th>\n",
       "      <td>-1.937858</td>\n",
       "      <td>1.893546</td>\n",
       "      <td>-1.763650</td>\n",
       "      <td>-5</td>\n",
       "      <td>-5.0</td>\n",
       "      <td>2.0</td>\n",
       "    </tr>\n",
       "  </tbody>\n",
       "</table>\n",
       "</div>"
      ],
      "text/plain": [
       "                   A         B         C  D    E    F\n",
       "2013-01-01  0.951072 -1.375628 -0.026954 -5  NaN  1.0\n",
       "2013-01-02 -0.402485  0.082131 -0.246336 -5 -1.0  2.0\n",
       "2013-01-03 -1.750698  0.342819  1.238192 -5 -2.0  2.0\n",
       "2013-01-04  0.551771 -0.382915 -0.714890 -5 -3.0  2.0\n",
       "2013-01-05  0.388377  1.190613  1.296023 -5 -4.0  2.0\n",
       "2013-01-06 -1.937858  1.893546 -1.763650 -5 -5.0  2.0"
      ]
     },
     "execution_count": 1099,
     "metadata": {},
     "output_type": "execute_result"
    }
   ],
   "source": [
    "df.fillna(method ='ffill') # wypelnia poprzednia wartością"
   ]
  },
  {
   "cell_type": "code",
   "execution_count": 1100,
   "id": "240134fe",
   "metadata": {},
   "outputs": [
    {
     "data": {
      "text/html": [
       "<div>\n",
       "<style scoped>\n",
       "    .dataframe tbody tr th:only-of-type {\n",
       "        vertical-align: middle;\n",
       "    }\n",
       "\n",
       "    .dataframe tbody tr th {\n",
       "        vertical-align: top;\n",
       "    }\n",
       "\n",
       "    .dataframe thead th {\n",
       "        text-align: right;\n",
       "    }\n",
       "</style>\n",
       "<table border=\"1\" class=\"dataframe\">\n",
       "  <thead>\n",
       "    <tr style=\"text-align: right;\">\n",
       "      <th></th>\n",
       "      <th>A</th>\n",
       "      <th>B</th>\n",
       "      <th>C</th>\n",
       "      <th>D</th>\n",
       "      <th>E</th>\n",
       "      <th>F</th>\n",
       "    </tr>\n",
       "  </thead>\n",
       "  <tbody>\n",
       "    <tr>\n",
       "      <th>2013-01-01</th>\n",
       "      <td>0.951072</td>\n",
       "      <td>-1.375628</td>\n",
       "      <td>-0.026954</td>\n",
       "      <td>-5</td>\n",
       "      <td>-1.0</td>\n",
       "      <td>1.0</td>\n",
       "    </tr>\n",
       "    <tr>\n",
       "      <th>2013-01-02</th>\n",
       "      <td>-0.402485</td>\n",
       "      <td>0.082131</td>\n",
       "      <td>-0.246336</td>\n",
       "      <td>-5</td>\n",
       "      <td>-1.0</td>\n",
       "      <td>2.0</td>\n",
       "    </tr>\n",
       "    <tr>\n",
       "      <th>2013-01-03</th>\n",
       "      <td>-1.750698</td>\n",
       "      <td>0.342819</td>\n",
       "      <td>1.238192</td>\n",
       "      <td>-5</td>\n",
       "      <td>-2.0</td>\n",
       "      <td>NaN</td>\n",
       "    </tr>\n",
       "    <tr>\n",
       "      <th>2013-01-04</th>\n",
       "      <td>0.551771</td>\n",
       "      <td>-0.382915</td>\n",
       "      <td>-0.714890</td>\n",
       "      <td>-5</td>\n",
       "      <td>-3.0</td>\n",
       "      <td>NaN</td>\n",
       "    </tr>\n",
       "    <tr>\n",
       "      <th>2013-01-05</th>\n",
       "      <td>0.388377</td>\n",
       "      <td>1.190613</td>\n",
       "      <td>1.296023</td>\n",
       "      <td>-5</td>\n",
       "      <td>-4.0</td>\n",
       "      <td>NaN</td>\n",
       "    </tr>\n",
       "    <tr>\n",
       "      <th>2013-01-06</th>\n",
       "      <td>-1.937858</td>\n",
       "      <td>1.893546</td>\n",
       "      <td>-1.763650</td>\n",
       "      <td>-5</td>\n",
       "      <td>-5.0</td>\n",
       "      <td>NaN</td>\n",
       "    </tr>\n",
       "  </tbody>\n",
       "</table>\n",
       "</div>"
      ],
      "text/plain": [
       "                   A         B         C  D    E    F\n",
       "2013-01-01  0.951072 -1.375628 -0.026954 -5 -1.0  1.0\n",
       "2013-01-02 -0.402485  0.082131 -0.246336 -5 -1.0  2.0\n",
       "2013-01-03 -1.750698  0.342819  1.238192 -5 -2.0  NaN\n",
       "2013-01-04  0.551771 -0.382915 -0.714890 -5 -3.0  NaN\n",
       "2013-01-05  0.388377  1.190613  1.296023 -5 -4.0  NaN\n",
       "2013-01-06 -1.937858  1.893546 -1.763650 -5 -5.0  NaN"
      ]
     },
     "execution_count": 1100,
     "metadata": {},
     "output_type": "execute_result"
    }
   ],
   "source": [
    "df.fillna(method ='bfill') # wypelnia następną dostępną wartością"
   ]
  },
  {
   "cell_type": "code",
   "execution_count": 1101,
   "id": "48da0e05",
   "metadata": {},
   "outputs": [],
   "source": [
    "# df = pd.DataFrame({'Dzień' : [1,2,3,4,5,6,7],\n",
    "#                    'Sprzedaż' : [100,150,300,np.nan,0,200,400],\n",
    "#                    'Cena' : [2.3,2.2,1.99,2.4,np.nan,2.1,2.1],\n",
    "#                    'Dzień_wolny' : [0,0,0,0,1,0,0,],\n",
    "#                    'Mecz' : [0,0,0,1,0,0,0]\n",
    "#                   }) \n",
    "# df"
   ]
  },
  {
   "cell_type": "code",
   "execution_count": 1102,
   "id": "9126382c",
   "metadata": {},
   "outputs": [],
   "source": [
    "values = [40, 38, 32.5, 27, 33, 34]\n",
    " \n",
    "df['new_col'] = values"
   ]
  },
  {
   "cell_type": "code",
   "execution_count": 1103,
   "id": "2d451fc5",
   "metadata": {},
   "outputs": [
    {
     "data": {
      "text/html": [
       "<div>\n",
       "<style scoped>\n",
       "    .dataframe tbody tr th:only-of-type {\n",
       "        vertical-align: middle;\n",
       "    }\n",
       "\n",
       "    .dataframe tbody tr th {\n",
       "        vertical-align: top;\n",
       "    }\n",
       "\n",
       "    .dataframe thead th {\n",
       "        text-align: right;\n",
       "    }\n",
       "</style>\n",
       "<table border=\"1\" class=\"dataframe\">\n",
       "  <thead>\n",
       "    <tr style=\"text-align: right;\">\n",
       "      <th></th>\n",
       "      <th>A</th>\n",
       "      <th>B</th>\n",
       "      <th>C</th>\n",
       "      <th>D</th>\n",
       "      <th>E</th>\n",
       "      <th>F</th>\n",
       "      <th>new_col</th>\n",
       "      <th>science_score</th>\n",
       "      <th>english_score</th>\n",
       "    </tr>\n",
       "  </thead>\n",
       "  <tbody>\n",
       "    <tr>\n",
       "      <th>2013-01-01</th>\n",
       "      <td>0.951072</td>\n",
       "      <td>-1.375628</td>\n",
       "      <td>-0.026954</td>\n",
       "      <td>-5</td>\n",
       "      <td>NaN</td>\n",
       "      <td>1.0</td>\n",
       "      <td>40.0</td>\n",
       "      <td>40.5</td>\n",
       "      <td>48.5</td>\n",
       "    </tr>\n",
       "    <tr>\n",
       "      <th>2013-01-02</th>\n",
       "      <td>-0.402485</td>\n",
       "      <td>0.082131</td>\n",
       "      <td>-0.246336</td>\n",
       "      <td>-5</td>\n",
       "      <td>-1.0</td>\n",
       "      <td>2.0</td>\n",
       "      <td>38.0</td>\n",
       "      <td>38.5</td>\n",
       "      <td>42.0</td>\n",
       "    </tr>\n",
       "    <tr>\n",
       "      <th>2013-01-03</th>\n",
       "      <td>-1.750698</td>\n",
       "      <td>0.342819</td>\n",
       "      <td>1.238192</td>\n",
       "      <td>-5</td>\n",
       "      <td>-2.0</td>\n",
       "      <td>NaN</td>\n",
       "      <td>32.5</td>\n",
       "      <td>33.0</td>\n",
       "      <td>41.0</td>\n",
       "    </tr>\n",
       "    <tr>\n",
       "      <th>2013-01-04</th>\n",
       "      <td>0.551771</td>\n",
       "      <td>-0.382915</td>\n",
       "      <td>-0.714890</td>\n",
       "      <td>-5</td>\n",
       "      <td>-3.0</td>\n",
       "      <td>NaN</td>\n",
       "      <td>27.0</td>\n",
       "      <td>28.0</td>\n",
       "      <td>37.0</td>\n",
       "    </tr>\n",
       "    <tr>\n",
       "      <th>2013-01-05</th>\n",
       "      <td>0.388377</td>\n",
       "      <td>1.190613</td>\n",
       "      <td>1.296023</td>\n",
       "      <td>-5</td>\n",
       "      <td>-4.0</td>\n",
       "      <td>NaN</td>\n",
       "      <td>33.0</td>\n",
       "      <td>26.0</td>\n",
       "      <td>40.0</td>\n",
       "    </tr>\n",
       "    <tr>\n",
       "      <th>2013-01-06</th>\n",
       "      <td>-1.937858</td>\n",
       "      <td>1.893546</td>\n",
       "      <td>-1.763650</td>\n",
       "      <td>-5</td>\n",
       "      <td>-5.0</td>\n",
       "      <td>NaN</td>\n",
       "      <td>34.0</td>\n",
       "      <td>25.0</td>\n",
       "      <td>39.0</td>\n",
       "    </tr>\n",
       "  </tbody>\n",
       "</table>\n",
       "</div>"
      ],
      "text/plain": [
       "                   A         B         C  D    E    F  new_col  science_score  \\\n",
       "2013-01-01  0.951072 -1.375628 -0.026954 -5  NaN  1.0     40.0           40.5   \n",
       "2013-01-02 -0.402485  0.082131 -0.246336 -5 -1.0  2.0     38.0           38.5   \n",
       "2013-01-03 -1.750698  0.342819  1.238192 -5 -2.0  NaN     32.5           33.0   \n",
       "2013-01-04  0.551771 -0.382915 -0.714890 -5 -3.0  NaN     27.0           28.0   \n",
       "2013-01-05  0.388377  1.190613  1.296023 -5 -4.0  NaN     33.0           26.0   \n",
       "2013-01-06 -1.937858  1.893546 -1.763650 -5 -5.0  NaN     34.0           25.0   \n",
       "\n",
       "            english_score  \n",
       "2013-01-01           48.5  \n",
       "2013-01-02           42.0  \n",
       "2013-01-03           41.0  \n",
       "2013-01-04           37.0  \n",
       "2013-01-05           40.0  \n",
       "2013-01-06           39.0  "
      ]
     },
     "execution_count": 1103,
     "metadata": {},
     "output_type": "execute_result"
    }
   ],
   "source": [
    "s1 = pd.Series([40.5, 38.5, 33, 28, 26, 25], \n",
    "               index=[0, 1, 2, 3, 4, 5])\n",
    "\n",
    "s2 = pd.Series([48.5, 42, 41, 37, 40, 39], \n",
    "               index=[0, 1, 2, 3, 4, 5])\n",
    " \n",
    "df = df.assign(science_score=s1.values, english_score=s2.values)\n",
    "df"
   ]
  },
  {
   "cell_type": "code",
   "execution_count": 1104,
   "id": "7e2db437",
   "metadata": {},
   "outputs": [
    {
     "data": {
      "text/html": [
       "<div>\n",
       "<style scoped>\n",
       "    .dataframe tbody tr th:only-of-type {\n",
       "        vertical-align: middle;\n",
       "    }\n",
       "\n",
       "    .dataframe tbody tr th {\n",
       "        vertical-align: top;\n",
       "    }\n",
       "\n",
       "    .dataframe thead th {\n",
       "        text-align: right;\n",
       "    }\n",
       "</style>\n",
       "<table border=\"1\" class=\"dataframe\">\n",
       "  <thead>\n",
       "    <tr style=\"text-align: right;\">\n",
       "      <th></th>\n",
       "      <th>A</th>\n",
       "      <th>B</th>\n",
       "      <th>C</th>\n",
       "      <th>D</th>\n",
       "      <th>E</th>\n",
       "      <th>F</th>\n",
       "      <th>new_col</th>\n",
       "      <th>science_score</th>\n",
       "      <th>english_score</th>\n",
       "      <th>avg_score</th>\n",
       "    </tr>\n",
       "  </thead>\n",
       "  <tbody>\n",
       "    <tr>\n",
       "      <th>2013-01-01</th>\n",
       "      <td>0.951072</td>\n",
       "      <td>-1.375628</td>\n",
       "      <td>-0.026954</td>\n",
       "      <td>-5</td>\n",
       "      <td>NaN</td>\n",
       "      <td>1.0</td>\n",
       "      <td>40.0</td>\n",
       "      <td>40.5</td>\n",
       "      <td>48.5</td>\n",
       "      <td>40.25</td>\n",
       "    </tr>\n",
       "    <tr>\n",
       "      <th>2013-01-02</th>\n",
       "      <td>-0.402485</td>\n",
       "      <td>0.082131</td>\n",
       "      <td>-0.246336</td>\n",
       "      <td>-5</td>\n",
       "      <td>-1.0</td>\n",
       "      <td>2.0</td>\n",
       "      <td>38.0</td>\n",
       "      <td>38.5</td>\n",
       "      <td>42.0</td>\n",
       "      <td>38.25</td>\n",
       "    </tr>\n",
       "    <tr>\n",
       "      <th>2013-01-03</th>\n",
       "      <td>-1.750698</td>\n",
       "      <td>0.342819</td>\n",
       "      <td>1.238192</td>\n",
       "      <td>-5</td>\n",
       "      <td>-2.0</td>\n",
       "      <td>NaN</td>\n",
       "      <td>32.5</td>\n",
       "      <td>33.0</td>\n",
       "      <td>41.0</td>\n",
       "      <td>32.75</td>\n",
       "    </tr>\n",
       "    <tr>\n",
       "      <th>2013-01-04</th>\n",
       "      <td>0.551771</td>\n",
       "      <td>-0.382915</td>\n",
       "      <td>-0.714890</td>\n",
       "      <td>-5</td>\n",
       "      <td>-3.0</td>\n",
       "      <td>NaN</td>\n",
       "      <td>27.0</td>\n",
       "      <td>28.0</td>\n",
       "      <td>37.0</td>\n",
       "      <td>27.50</td>\n",
       "    </tr>\n",
       "    <tr>\n",
       "      <th>2013-01-05</th>\n",
       "      <td>0.388377</td>\n",
       "      <td>1.190613</td>\n",
       "      <td>1.296023</td>\n",
       "      <td>-5</td>\n",
       "      <td>-4.0</td>\n",
       "      <td>NaN</td>\n",
       "      <td>33.0</td>\n",
       "      <td>26.0</td>\n",
       "      <td>40.0</td>\n",
       "      <td>29.50</td>\n",
       "    </tr>\n",
       "    <tr>\n",
       "      <th>2013-01-06</th>\n",
       "      <td>-1.937858</td>\n",
       "      <td>1.893546</td>\n",
       "      <td>-1.763650</td>\n",
       "      <td>-5</td>\n",
       "      <td>-5.0</td>\n",
       "      <td>NaN</td>\n",
       "      <td>34.0</td>\n",
       "      <td>25.0</td>\n",
       "      <td>39.0</td>\n",
       "      <td>29.50</td>\n",
       "    </tr>\n",
       "  </tbody>\n",
       "</table>\n",
       "</div>"
      ],
      "text/plain": [
       "                   A         B         C  D    E    F  new_col  science_score  \\\n",
       "2013-01-01  0.951072 -1.375628 -0.026954 -5  NaN  1.0     40.0           40.5   \n",
       "2013-01-02 -0.402485  0.082131 -0.246336 -5 -1.0  2.0     38.0           38.5   \n",
       "2013-01-03 -1.750698  0.342819  1.238192 -5 -2.0  NaN     32.5           33.0   \n",
       "2013-01-04  0.551771 -0.382915 -0.714890 -5 -3.0  NaN     27.0           28.0   \n",
       "2013-01-05  0.388377  1.190613  1.296023 -5 -4.0  NaN     33.0           26.0   \n",
       "2013-01-06 -1.937858  1.893546 -1.763650 -5 -5.0  NaN     34.0           25.0   \n",
       "\n",
       "            english_score  avg_score  \n",
       "2013-01-01           48.5      40.25  \n",
       "2013-01-02           42.0      38.25  \n",
       "2013-01-03           41.0      32.75  \n",
       "2013-01-04           37.0      27.50  \n",
       "2013-01-05           40.0      29.50  \n",
       "2013-01-06           39.0      29.50  "
      ]
     },
     "execution_count": 1104,
     "metadata": {},
     "output_type": "execute_result"
    }
   ],
   "source": [
    "df['avg_score'] = df.apply(lambda row: \n",
    "                               ((row.new_col + row.science_score) / 2), \n",
    "                               axis=1)\n",
    "df"
   ]
  },
  {
   "cell_type": "code",
   "execution_count": 1111,
   "id": "bb6a5f12",
   "metadata": {},
   "outputs": [
    {
     "data": {
      "text/html": [
       "<div>\n",
       "<style scoped>\n",
       "    .dataframe tbody tr th:only-of-type {\n",
       "        vertical-align: middle;\n",
       "    }\n",
       "\n",
       "    .dataframe tbody tr th {\n",
       "        vertical-align: top;\n",
       "    }\n",
       "\n",
       "    .dataframe thead th {\n",
       "        text-align: right;\n",
       "    }\n",
       "</style>\n",
       "<table border=\"1\" class=\"dataframe\">\n",
       "  <thead>\n",
       "    <tr style=\"text-align: right;\">\n",
       "      <th></th>\n",
       "      <th>B</th>\n",
       "      <th>C</th>\n",
       "      <th>D</th>\n",
       "      <th>E</th>\n",
       "      <th>F</th>\n",
       "      <th>new_col</th>\n",
       "      <th>science_score</th>\n",
       "      <th>english_score</th>\n",
       "      <th>avg_score</th>\n",
       "    </tr>\n",
       "  </thead>\n",
       "  <tbody>\n",
       "    <tr>\n",
       "      <th>2013-01-01</th>\n",
       "      <td>-1.375628</td>\n",
       "      <td>-0.026954</td>\n",
       "      <td>-5</td>\n",
       "      <td>NaN</td>\n",
       "      <td>1.0</td>\n",
       "      <td>40.0</td>\n",
       "      <td>40.5</td>\n",
       "      <td>48.5</td>\n",
       "      <td>40.25</td>\n",
       "    </tr>\n",
       "    <tr>\n",
       "      <th>2013-01-02</th>\n",
       "      <td>0.082131</td>\n",
       "      <td>-0.246336</td>\n",
       "      <td>-5</td>\n",
       "      <td>-1.0</td>\n",
       "      <td>2.0</td>\n",
       "      <td>38.0</td>\n",
       "      <td>38.5</td>\n",
       "      <td>42.0</td>\n",
       "      <td>38.25</td>\n",
       "    </tr>\n",
       "    <tr>\n",
       "      <th>2013-01-03</th>\n",
       "      <td>0.342819</td>\n",
       "      <td>1.238192</td>\n",
       "      <td>-5</td>\n",
       "      <td>-2.0</td>\n",
       "      <td>NaN</td>\n",
       "      <td>32.5</td>\n",
       "      <td>33.0</td>\n",
       "      <td>41.0</td>\n",
       "      <td>32.75</td>\n",
       "    </tr>\n",
       "    <tr>\n",
       "      <th>2013-01-04</th>\n",
       "      <td>-0.382915</td>\n",
       "      <td>-0.714890</td>\n",
       "      <td>-5</td>\n",
       "      <td>-3.0</td>\n",
       "      <td>NaN</td>\n",
       "      <td>27.0</td>\n",
       "      <td>28.0</td>\n",
       "      <td>37.0</td>\n",
       "      <td>27.50</td>\n",
       "    </tr>\n",
       "    <tr>\n",
       "      <th>2013-01-05</th>\n",
       "      <td>1.190613</td>\n",
       "      <td>1.296023</td>\n",
       "      <td>-5</td>\n",
       "      <td>-4.0</td>\n",
       "      <td>NaN</td>\n",
       "      <td>33.0</td>\n",
       "      <td>26.0</td>\n",
       "      <td>40.0</td>\n",
       "      <td>29.50</td>\n",
       "    </tr>\n",
       "    <tr>\n",
       "      <th>2013-01-06</th>\n",
       "      <td>1.893546</td>\n",
       "      <td>-1.763650</td>\n",
       "      <td>-5</td>\n",
       "      <td>-5.0</td>\n",
       "      <td>NaN</td>\n",
       "      <td>34.0</td>\n",
       "      <td>25.0</td>\n",
       "      <td>39.0</td>\n",
       "      <td>29.50</td>\n",
       "    </tr>\n",
       "  </tbody>\n",
       "</table>\n",
       "</div>"
      ],
      "text/plain": [
       "                   B         C  D    E    F  new_col  science_score  \\\n",
       "2013-01-01 -1.375628 -0.026954 -5  NaN  1.0     40.0           40.5   \n",
       "2013-01-02  0.082131 -0.246336 -5 -1.0  2.0     38.0           38.5   \n",
       "2013-01-03  0.342819  1.238192 -5 -2.0  NaN     32.5           33.0   \n",
       "2013-01-04 -0.382915 -0.714890 -5 -3.0  NaN     27.0           28.0   \n",
       "2013-01-05  1.190613  1.296023 -5 -4.0  NaN     33.0           26.0   \n",
       "2013-01-06  1.893546 -1.763650 -5 -5.0  NaN     34.0           25.0   \n",
       "\n",
       "            english_score  avg_score  \n",
       "2013-01-01           48.5      40.25  \n",
       "2013-01-02           42.0      38.25  \n",
       "2013-01-03           41.0      32.75  \n",
       "2013-01-04           37.0      27.50  \n",
       "2013-01-05           40.0      29.50  \n",
       "2013-01-06           39.0      29.50  "
      ]
     },
     "execution_count": 1111,
     "metadata": {},
     "output_type": "execute_result"
    }
   ],
   "source": [
    "df.drop(['A'], axis=1) # usuwa kolumne 'A'"
   ]
  },
  {
   "cell_type": "code",
   "execution_count": 1112,
   "id": "9eaa2d00",
   "metadata": {},
   "outputs": [
    {
     "data": {
      "text/html": [
       "<div>\n",
       "<style scoped>\n",
       "    .dataframe tbody tr th:only-of-type {\n",
       "        vertical-align: middle;\n",
       "    }\n",
       "\n",
       "    .dataframe tbody tr th {\n",
       "        vertical-align: top;\n",
       "    }\n",
       "\n",
       "    .dataframe thead th {\n",
       "        text-align: right;\n",
       "    }\n",
       "</style>\n",
       "<table border=\"1\" class=\"dataframe\">\n",
       "  <thead>\n",
       "    <tr style=\"text-align: right;\">\n",
       "      <th></th>\n",
       "      <th>A</th>\n",
       "      <th>B</th>\n",
       "      <th>C</th>\n",
       "      <th>D</th>\n",
       "      <th>E</th>\n",
       "      <th>F</th>\n",
       "      <th>new_col</th>\n",
       "      <th>science_score</th>\n",
       "      <th>english_score</th>\n",
       "      <th>avg_score</th>\n",
       "    </tr>\n",
       "  </thead>\n",
       "  <tbody>\n",
       "    <tr>\n",
       "      <th>2013-01-03</th>\n",
       "      <td>-1.750698</td>\n",
       "      <td>0.342819</td>\n",
       "      <td>1.238192</td>\n",
       "      <td>-5</td>\n",
       "      <td>-2.0</td>\n",
       "      <td>NaN</td>\n",
       "      <td>32.5</td>\n",
       "      <td>33.0</td>\n",
       "      <td>41.0</td>\n",
       "      <td>32.75</td>\n",
       "    </tr>\n",
       "    <tr>\n",
       "      <th>2013-01-04</th>\n",
       "      <td>0.551771</td>\n",
       "      <td>-0.382915</td>\n",
       "      <td>-0.714890</td>\n",
       "      <td>-5</td>\n",
       "      <td>-3.0</td>\n",
       "      <td>NaN</td>\n",
       "      <td>27.0</td>\n",
       "      <td>28.0</td>\n",
       "      <td>37.0</td>\n",
       "      <td>27.50</td>\n",
       "    </tr>\n",
       "    <tr>\n",
       "      <th>2013-01-05</th>\n",
       "      <td>0.388377</td>\n",
       "      <td>1.190613</td>\n",
       "      <td>1.296023</td>\n",
       "      <td>-5</td>\n",
       "      <td>-4.0</td>\n",
       "      <td>NaN</td>\n",
       "      <td>33.0</td>\n",
       "      <td>26.0</td>\n",
       "      <td>40.0</td>\n",
       "      <td>29.50</td>\n",
       "    </tr>\n",
       "    <tr>\n",
       "      <th>2013-01-06</th>\n",
       "      <td>-1.937858</td>\n",
       "      <td>1.893546</td>\n",
       "      <td>-1.763650</td>\n",
       "      <td>-5</td>\n",
       "      <td>-5.0</td>\n",
       "      <td>NaN</td>\n",
       "      <td>34.0</td>\n",
       "      <td>25.0</td>\n",
       "      <td>39.0</td>\n",
       "      <td>29.50</td>\n",
       "    </tr>\n",
       "  </tbody>\n",
       "</table>\n",
       "</div>"
      ],
      "text/plain": [
       "                   A         B         C  D    E   F  new_col  science_score  \\\n",
       "2013-01-03 -1.750698  0.342819  1.238192 -5 -2.0 NaN     32.5           33.0   \n",
       "2013-01-04  0.551771 -0.382915 -0.714890 -5 -3.0 NaN     27.0           28.0   \n",
       "2013-01-05  0.388377  1.190613  1.296023 -5 -4.0 NaN     33.0           26.0   \n",
       "2013-01-06 -1.937858  1.893546 -1.763650 -5 -5.0 NaN     34.0           25.0   \n",
       "\n",
       "            english_score  avg_score  \n",
       "2013-01-03           41.0      32.75  \n",
       "2013-01-04           37.0      27.50  \n",
       "2013-01-05           40.0      29.50  \n",
       "2013-01-06           39.0      29.50  "
      ]
     },
     "execution_count": 1112,
     "metadata": {},
     "output_type": "execute_result"
    }
   ],
   "source": [
    "df.drop(['2013-01-01','2013-01-02'], axis=0)"
   ]
  },
  {
   "cell_type": "code",
   "execution_count": 1113,
   "id": "5b02da0c",
   "metadata": {},
   "outputs": [
    {
     "data": {
      "text/html": [
       "<div>\n",
       "<style scoped>\n",
       "    .dataframe tbody tr th:only-of-type {\n",
       "        vertical-align: middle;\n",
       "    }\n",
       "\n",
       "    .dataframe tbody tr th {\n",
       "        vertical-align: top;\n",
       "    }\n",
       "\n",
       "    .dataframe thead th {\n",
       "        text-align: right;\n",
       "    }\n",
       "</style>\n",
       "<table border=\"1\" class=\"dataframe\">\n",
       "  <thead>\n",
       "    <tr style=\"text-align: right;\">\n",
       "      <th></th>\n",
       "      <th>A</th>\n",
       "      <th>B</th>\n",
       "      <th>C</th>\n",
       "      <th>D</th>\n",
       "      <th>E</th>\n",
       "      <th>F</th>\n",
       "      <th>new_col</th>\n",
       "      <th>science_score</th>\n",
       "      <th>english_score</th>\n",
       "      <th>avg_score</th>\n",
       "    </tr>\n",
       "  </thead>\n",
       "  <tbody>\n",
       "    <tr>\n",
       "      <th>2013-01-01</th>\n",
       "      <td>0.951072</td>\n",
       "      <td>-1.375628</td>\n",
       "      <td>-0.026954</td>\n",
       "      <td>-5</td>\n",
       "      <td>NaN</td>\n",
       "      <td>1.0</td>\n",
       "      <td>40.0</td>\n",
       "      <td>40.5</td>\n",
       "      <td>48.5</td>\n",
       "      <td>40.25</td>\n",
       "    </tr>\n",
       "    <tr>\n",
       "      <th>2013-01-06</th>\n",
       "      <td>-1.937858</td>\n",
       "      <td>1.893546</td>\n",
       "      <td>-1.763650</td>\n",
       "      <td>-5</td>\n",
       "      <td>-5.0</td>\n",
       "      <td>NaN</td>\n",
       "      <td>34.0</td>\n",
       "      <td>25.0</td>\n",
       "      <td>39.0</td>\n",
       "      <td>29.50</td>\n",
       "    </tr>\n",
       "  </tbody>\n",
       "</table>\n",
       "</div>"
      ],
      "text/plain": [
       "                   A         B         C  D    E    F  new_col  science_score  \\\n",
       "2013-01-01  0.951072 -1.375628 -0.026954 -5  NaN  1.0     40.0           40.5   \n",
       "2013-01-06 -1.937858  1.893546 -1.763650 -5 -5.0  NaN     34.0           25.0   \n",
       "\n",
       "            english_score  avg_score  \n",
       "2013-01-01           48.5      40.25  \n",
       "2013-01-06           39.0      29.50  "
      ]
     },
     "execution_count": 1113,
     "metadata": {},
     "output_type": "execute_result"
    }
   ],
   "source": [
    "# wyżucanie po indexie\n",
    "df.drop(df.loc['2013-01-02':'2013-01-05'].index)"
   ]
  },
  {
   "cell_type": "code",
   "execution_count": 1114,
   "id": "c32aa74d",
   "metadata": {},
   "outputs": [
    {
     "data": {
      "text/html": [
       "<div>\n",
       "<style scoped>\n",
       "    .dataframe tbody tr th:only-of-type {\n",
       "        vertical-align: middle;\n",
       "    }\n",
       "\n",
       "    .dataframe tbody tr th {\n",
       "        vertical-align: top;\n",
       "    }\n",
       "\n",
       "    .dataframe thead th {\n",
       "        text-align: right;\n",
       "    }\n",
       "</style>\n",
       "<table border=\"1\" class=\"dataframe\">\n",
       "  <thead>\n",
       "    <tr style=\"text-align: right;\">\n",
       "      <th></th>\n",
       "      <th>index</th>\n",
       "      <th>A</th>\n",
       "      <th>B</th>\n",
       "      <th>C</th>\n",
       "      <th>D</th>\n",
       "      <th>E</th>\n",
       "      <th>F</th>\n",
       "      <th>new_col</th>\n",
       "      <th>science_score</th>\n",
       "      <th>english_score</th>\n",
       "      <th>avg_score</th>\n",
       "    </tr>\n",
       "  </thead>\n",
       "  <tbody>\n",
       "    <tr>\n",
       "      <th>0</th>\n",
       "      <td>2013-01-01</td>\n",
       "      <td>0.951072</td>\n",
       "      <td>-1.375628</td>\n",
       "      <td>-0.026954</td>\n",
       "      <td>-5</td>\n",
       "      <td>NaN</td>\n",
       "      <td>1.0</td>\n",
       "      <td>40.0</td>\n",
       "      <td>40.5</td>\n",
       "      <td>48.5</td>\n",
       "      <td>40.25</td>\n",
       "    </tr>\n",
       "    <tr>\n",
       "      <th>1</th>\n",
       "      <td>2013-01-02</td>\n",
       "      <td>-0.402485</td>\n",
       "      <td>0.082131</td>\n",
       "      <td>-0.246336</td>\n",
       "      <td>-5</td>\n",
       "      <td>-1.0</td>\n",
       "      <td>2.0</td>\n",
       "      <td>38.0</td>\n",
       "      <td>38.5</td>\n",
       "      <td>42.0</td>\n",
       "      <td>38.25</td>\n",
       "    </tr>\n",
       "    <tr>\n",
       "      <th>2</th>\n",
       "      <td>2013-01-03</td>\n",
       "      <td>-1.750698</td>\n",
       "      <td>0.342819</td>\n",
       "      <td>1.238192</td>\n",
       "      <td>-5</td>\n",
       "      <td>-2.0</td>\n",
       "      <td>NaN</td>\n",
       "      <td>32.5</td>\n",
       "      <td>33.0</td>\n",
       "      <td>41.0</td>\n",
       "      <td>32.75</td>\n",
       "    </tr>\n",
       "    <tr>\n",
       "      <th>3</th>\n",
       "      <td>2013-01-04</td>\n",
       "      <td>0.551771</td>\n",
       "      <td>-0.382915</td>\n",
       "      <td>-0.714890</td>\n",
       "      <td>-5</td>\n",
       "      <td>-3.0</td>\n",
       "      <td>NaN</td>\n",
       "      <td>27.0</td>\n",
       "      <td>28.0</td>\n",
       "      <td>37.0</td>\n",
       "      <td>27.50</td>\n",
       "    </tr>\n",
       "    <tr>\n",
       "      <th>4</th>\n",
       "      <td>2013-01-05</td>\n",
       "      <td>0.388377</td>\n",
       "      <td>1.190613</td>\n",
       "      <td>1.296023</td>\n",
       "      <td>-5</td>\n",
       "      <td>-4.0</td>\n",
       "      <td>NaN</td>\n",
       "      <td>33.0</td>\n",
       "      <td>26.0</td>\n",
       "      <td>40.0</td>\n",
       "      <td>29.50</td>\n",
       "    </tr>\n",
       "    <tr>\n",
       "      <th>5</th>\n",
       "      <td>2013-01-06</td>\n",
       "      <td>-1.937858</td>\n",
       "      <td>1.893546</td>\n",
       "      <td>-1.763650</td>\n",
       "      <td>-5</td>\n",
       "      <td>-5.0</td>\n",
       "      <td>NaN</td>\n",
       "      <td>34.0</td>\n",
       "      <td>25.0</td>\n",
       "      <td>39.0</td>\n",
       "      <td>29.50</td>\n",
       "    </tr>\n",
       "  </tbody>\n",
       "</table>\n",
       "</div>"
      ],
      "text/plain": [
       "       index         A         B         C  D    E    F  new_col  \\\n",
       "0 2013-01-01  0.951072 -1.375628 -0.026954 -5  NaN  1.0     40.0   \n",
       "1 2013-01-02 -0.402485  0.082131 -0.246336 -5 -1.0  2.0     38.0   \n",
       "2 2013-01-03 -1.750698  0.342819  1.238192 -5 -2.0  NaN     32.5   \n",
       "3 2013-01-04  0.551771 -0.382915 -0.714890 -5 -3.0  NaN     27.0   \n",
       "4 2013-01-05  0.388377  1.190613  1.296023 -5 -4.0  NaN     33.0   \n",
       "5 2013-01-06 -1.937858  1.893546 -1.763650 -5 -5.0  NaN     34.0   \n",
       "\n",
       "   science_score  english_score  avg_score  \n",
       "0           40.5           48.5      40.25  \n",
       "1           38.5           42.0      38.25  \n",
       "2           33.0           41.0      32.75  \n",
       "3           28.0           37.0      27.50  \n",
       "4           26.0           40.0      29.50  \n",
       "5           25.0           39.0      29.50  "
      ]
     },
     "execution_count": 1114,
     "metadata": {},
     "output_type": "execute_result"
    }
   ],
   "source": [
    "df2=df.reset_index()\n",
    "df2"
   ]
  },
  {
   "cell_type": "code",
   "execution_count": 1116,
   "id": "252b64c3",
   "metadata": {},
   "outputs": [
    {
     "data": {
      "text/html": [
       "<div>\n",
       "<style scoped>\n",
       "    .dataframe tbody tr th:only-of-type {\n",
       "        vertical-align: middle;\n",
       "    }\n",
       "\n",
       "    .dataframe tbody tr th {\n",
       "        vertical-align: top;\n",
       "    }\n",
       "\n",
       "    .dataframe thead th {\n",
       "        text-align: right;\n",
       "    }\n",
       "</style>\n",
       "<table border=\"1\" class=\"dataframe\">\n",
       "  <thead>\n",
       "    <tr style=\"text-align: right;\">\n",
       "      <th></th>\n",
       "      <th>index</th>\n",
       "      <th>A</th>\n",
       "      <th>B</th>\n",
       "      <th>C</th>\n",
       "      <th>D</th>\n",
       "      <th>E</th>\n",
       "      <th>F</th>\n",
       "      <th>new_col</th>\n",
       "      <th>science_score</th>\n",
       "      <th>english_score</th>\n",
       "      <th>avg_score</th>\n",
       "    </tr>\n",
       "  </thead>\n",
       "  <tbody>\n",
       "    <tr>\n",
       "      <th>2</th>\n",
       "      <td>2013-01-03</td>\n",
       "      <td>-1.750698</td>\n",
       "      <td>0.342819</td>\n",
       "      <td>1.238192</td>\n",
       "      <td>-5</td>\n",
       "      <td>-2.0</td>\n",
       "      <td>NaN</td>\n",
       "      <td>32.5</td>\n",
       "      <td>33.0</td>\n",
       "      <td>41.0</td>\n",
       "      <td>32.75</td>\n",
       "    </tr>\n",
       "  </tbody>\n",
       "</table>\n",
       "</div>"
      ],
      "text/plain": [
       "       index         A         B         C  D    E   F  new_col  \\\n",
       "2 2013-01-03 -1.750698  0.342819  1.238192 -5 -2.0 NaN     32.5   \n",
       "\n",
       "   science_score  english_score  avg_score  \n",
       "2           33.0           41.0      32.75  "
      ]
     },
     "execution_count": 1116,
     "metadata": {},
     "output_type": "execute_result"
    }
   ],
   "source": [
    "df2[(df2['index']>'2013-01-02') &(df2['index']<'2013-01-04')]"
   ]
  },
  {
   "cell_type": "code",
   "execution_count": 1117,
   "id": "b1c77c7c",
   "metadata": {},
   "outputs": [],
   "source": [
    "df_groupby = pd.DataFrame(np.random.randn(10, 4))"
   ]
  },
  {
   "cell_type": "code",
   "execution_count": 1118,
   "id": "cf971921",
   "metadata": {},
   "outputs": [
    {
     "data": {
      "text/html": [
       "<div>\n",
       "<style scoped>\n",
       "    .dataframe tbody tr th:only-of-type {\n",
       "        vertical-align: middle;\n",
       "    }\n",
       "\n",
       "    .dataframe tbody tr th {\n",
       "        vertical-align: top;\n",
       "    }\n",
       "\n",
       "    .dataframe thead th {\n",
       "        text-align: right;\n",
       "    }\n",
       "</style>\n",
       "<table border=\"1\" class=\"dataframe\">\n",
       "  <thead>\n",
       "    <tr style=\"text-align: right;\">\n",
       "      <th></th>\n",
       "      <th>0</th>\n",
       "      <th>1</th>\n",
       "      <th>2</th>\n",
       "      <th>3</th>\n",
       "    </tr>\n",
       "  </thead>\n",
       "  <tbody>\n",
       "    <tr>\n",
       "      <th>0</th>\n",
       "      <td>-0.872065</td>\n",
       "      <td>-0.126579</td>\n",
       "      <td>1.882798</td>\n",
       "      <td>-0.087141</td>\n",
       "    </tr>\n",
       "    <tr>\n",
       "      <th>1</th>\n",
       "      <td>-1.331283</td>\n",
       "      <td>-0.829787</td>\n",
       "      <td>1.145245</td>\n",
       "      <td>1.193201</td>\n",
       "    </tr>\n",
       "    <tr>\n",
       "      <th>2</th>\n",
       "      <td>0.594406</td>\n",
       "      <td>0.038604</td>\n",
       "      <td>0.459038</td>\n",
       "      <td>1.016351</td>\n",
       "    </tr>\n",
       "    <tr>\n",
       "      <th>3</th>\n",
       "      <td>0.286301</td>\n",
       "      <td>3.053721</td>\n",
       "      <td>0.242944</td>\n",
       "      <td>0.153104</td>\n",
       "    </tr>\n",
       "    <tr>\n",
       "      <th>4</th>\n",
       "      <td>0.316799</td>\n",
       "      <td>2.223852</td>\n",
       "      <td>-0.873440</td>\n",
       "      <td>-1.886522</td>\n",
       "    </tr>\n",
       "    <tr>\n",
       "      <th>5</th>\n",
       "      <td>-0.169857</td>\n",
       "      <td>-0.093063</td>\n",
       "      <td>-0.261737</td>\n",
       "      <td>-0.587110</td>\n",
       "    </tr>\n",
       "    <tr>\n",
       "      <th>6</th>\n",
       "      <td>0.188681</td>\n",
       "      <td>-0.744585</td>\n",
       "      <td>2.300025</td>\n",
       "      <td>-0.078163</td>\n",
       "    </tr>\n",
       "    <tr>\n",
       "      <th>7</th>\n",
       "      <td>0.419011</td>\n",
       "      <td>-0.922970</td>\n",
       "      <td>-0.784983</td>\n",
       "      <td>-0.979689</td>\n",
       "    </tr>\n",
       "    <tr>\n",
       "      <th>8</th>\n",
       "      <td>0.936528</td>\n",
       "      <td>0.981305</td>\n",
       "      <td>-0.313161</td>\n",
       "      <td>1.726778</td>\n",
       "    </tr>\n",
       "    <tr>\n",
       "      <th>9</th>\n",
       "      <td>0.968349</td>\n",
       "      <td>-0.767991</td>\n",
       "      <td>-1.247064</td>\n",
       "      <td>0.406504</td>\n",
       "    </tr>\n",
       "  </tbody>\n",
       "</table>\n",
       "</div>"
      ],
      "text/plain": [
       "          0         1         2         3\n",
       "0 -0.872065 -0.126579  1.882798 -0.087141\n",
       "1 -1.331283 -0.829787  1.145245  1.193201\n",
       "2  0.594406  0.038604  0.459038  1.016351\n",
       "3  0.286301  3.053721  0.242944  0.153104\n",
       "4  0.316799  2.223852 -0.873440 -1.886522\n",
       "5 -0.169857 -0.093063 -0.261737 -0.587110\n",
       "6  0.188681 -0.744585  2.300025 -0.078163\n",
       "7  0.419011 -0.922970 -0.784983 -0.979689\n",
       "8  0.936528  0.981305 -0.313161  1.726778\n",
       "9  0.968349 -0.767991 -1.247064  0.406504"
      ]
     },
     "execution_count": 1118,
     "metadata": {},
     "output_type": "execute_result"
    }
   ],
   "source": [
    "# łączenie i grupowanie\n",
    "df_groupby"
   ]
  },
  {
   "cell_type": "code",
   "execution_count": 1119,
   "id": "7944c669",
   "metadata": {},
   "outputs": [
    {
     "data": {
      "text/html": [
       "<div>\n",
       "<style scoped>\n",
       "    .dataframe tbody tr th:only-of-type {\n",
       "        vertical-align: middle;\n",
       "    }\n",
       "\n",
       "    .dataframe tbody tr th {\n",
       "        vertical-align: top;\n",
       "    }\n",
       "\n",
       "    .dataframe thead th {\n",
       "        text-align: right;\n",
       "    }\n",
       "</style>\n",
       "<table border=\"1\" class=\"dataframe\">\n",
       "  <thead>\n",
       "    <tr style=\"text-align: right;\">\n",
       "      <th></th>\n",
       "      <th>0</th>\n",
       "      <th>1</th>\n",
       "      <th>2</th>\n",
       "      <th>3</th>\n",
       "    </tr>\n",
       "  </thead>\n",
       "  <tbody>\n",
       "    <tr>\n",
       "      <th>0</th>\n",
       "      <td>-0.872065</td>\n",
       "      <td>-0.126579</td>\n",
       "      <td>1.882798</td>\n",
       "      <td>-0.087141</td>\n",
       "    </tr>\n",
       "    <tr>\n",
       "      <th>1</th>\n",
       "      <td>-1.331283</td>\n",
       "      <td>-0.829787</td>\n",
       "      <td>1.145245</td>\n",
       "      <td>1.193201</td>\n",
       "    </tr>\n",
       "    <tr>\n",
       "      <th>2</th>\n",
       "      <td>0.594406</td>\n",
       "      <td>0.038604</td>\n",
       "      <td>0.459038</td>\n",
       "      <td>1.016351</td>\n",
       "    </tr>\n",
       "  </tbody>\n",
       "</table>\n",
       "</div>"
      ],
      "text/plain": [
       "          0         1         2         3\n",
       "0 -0.872065 -0.126579  1.882798 -0.087141\n",
       "1 -1.331283 -0.829787  1.145245  1.193201\n",
       "2  0.594406  0.038604  0.459038  1.016351"
      ]
     },
     "execution_count": 1119,
     "metadata": {},
     "output_type": "execute_result"
    }
   ],
   "source": [
    "df_groupby[:3]"
   ]
  },
  {
   "cell_type": "code",
   "execution_count": 1120,
   "id": "14a31726",
   "metadata": {},
   "outputs": [
    {
     "data": {
      "text/html": [
       "<div>\n",
       "<style scoped>\n",
       "    .dataframe tbody tr th:only-of-type {\n",
       "        vertical-align: middle;\n",
       "    }\n",
       "\n",
       "    .dataframe tbody tr th {\n",
       "        vertical-align: top;\n",
       "    }\n",
       "\n",
       "    .dataframe thead th {\n",
       "        text-align: right;\n",
       "    }\n",
       "</style>\n",
       "<table border=\"1\" class=\"dataframe\">\n",
       "  <thead>\n",
       "    <tr style=\"text-align: right;\">\n",
       "      <th></th>\n",
       "      <th>0</th>\n",
       "      <th>1</th>\n",
       "      <th>2</th>\n",
       "      <th>3</th>\n",
       "    </tr>\n",
       "  </thead>\n",
       "  <tbody>\n",
       "    <tr>\n",
       "      <th>3</th>\n",
       "      <td>0.286301</td>\n",
       "      <td>3.053721</td>\n",
       "      <td>0.242944</td>\n",
       "      <td>0.153104</td>\n",
       "    </tr>\n",
       "    <tr>\n",
       "      <th>4</th>\n",
       "      <td>0.316799</td>\n",
       "      <td>2.223852</td>\n",
       "      <td>-0.873440</td>\n",
       "      <td>-1.886522</td>\n",
       "    </tr>\n",
       "    <tr>\n",
       "      <th>5</th>\n",
       "      <td>-0.169857</td>\n",
       "      <td>-0.093063</td>\n",
       "      <td>-0.261737</td>\n",
       "      <td>-0.587110</td>\n",
       "    </tr>\n",
       "  </tbody>\n",
       "</table>\n",
       "</div>"
      ],
      "text/plain": [
       "          0         1         2         3\n",
       "3  0.286301  3.053721  0.242944  0.153104\n",
       "4  0.316799  2.223852 -0.873440 -1.886522\n",
       "5 -0.169857 -0.093063 -0.261737 -0.587110"
      ]
     },
     "execution_count": 1120,
     "metadata": {},
     "output_type": "execute_result"
    }
   ],
   "source": [
    "df_groupby[3:6]"
   ]
  },
  {
   "cell_type": "code",
   "execution_count": 1121,
   "id": "a8ac54ef",
   "metadata": {},
   "outputs": [],
   "source": [
    "pieces = [df_groupby[:3], df_groupby[3:7], df_groupby[7:]]  # podział wg wierszy"
   ]
  },
  {
   "cell_type": "code",
   "execution_count": 1122,
   "id": "b9ada687",
   "metadata": {},
   "outputs": [
    {
     "data": {
      "text/plain": [
       "list"
      ]
     },
     "execution_count": 1122,
     "metadata": {},
     "output_type": "execute_result"
    }
   ],
   "source": [
    "type(pieces)"
   ]
  },
  {
   "cell_type": "code",
   "execution_count": 1126,
   "id": "db6d1108",
   "metadata": {},
   "outputs": [
    {
     "data": {
      "text/plain": [
       "[          0         1         2         3\n",
       " 0 -0.872065 -0.126579  1.882798 -0.087141\n",
       " 1 -1.331283 -0.829787  1.145245  1.193201\n",
       " 2  0.594406  0.038604  0.459038  1.016351,\n",
       "           0         1         2         3\n",
       " 3  0.286301  3.053721  0.242944  0.153104\n",
       " 4  0.316799  2.223852 -0.873440 -1.886522\n",
       " 5 -0.169857 -0.093063 -0.261737 -0.587110\n",
       " 6  0.188681 -0.744585  2.300025 -0.078163,\n",
       "           0         1         2         3\n",
       " 7  0.419011 -0.922970 -0.784983 -0.979689\n",
       " 8  0.936528  0.981305 -0.313161  1.726778\n",
       " 9  0.968349 -0.767991 -1.247064  0.406504]"
      ]
     },
     "execution_count": 1126,
     "metadata": {},
     "output_type": "execute_result"
    }
   ],
   "source": [
    "pieces"
   ]
  },
  {
   "cell_type": "code",
   "execution_count": 1127,
   "id": "d2f463a3",
   "metadata": {},
   "outputs": [
    {
     "data": {
      "text/html": [
       "<div>\n",
       "<style scoped>\n",
       "    .dataframe tbody tr th:only-of-type {\n",
       "        vertical-align: middle;\n",
       "    }\n",
       "\n",
       "    .dataframe tbody tr th {\n",
       "        vertical-align: top;\n",
       "    }\n",
       "\n",
       "    .dataframe thead th {\n",
       "        text-align: right;\n",
       "    }\n",
       "</style>\n",
       "<table border=\"1\" class=\"dataframe\">\n",
       "  <thead>\n",
       "    <tr style=\"text-align: right;\">\n",
       "      <th></th>\n",
       "      <th>0</th>\n",
       "      <th>1</th>\n",
       "      <th>2</th>\n",
       "      <th>3</th>\n",
       "    </tr>\n",
       "  </thead>\n",
       "  <tbody>\n",
       "    <tr>\n",
       "      <th>0</th>\n",
       "      <td>-0.872065</td>\n",
       "      <td>-0.126579</td>\n",
       "      <td>1.882798</td>\n",
       "      <td>-0.087141</td>\n",
       "    </tr>\n",
       "    <tr>\n",
       "      <th>1</th>\n",
       "      <td>-1.331283</td>\n",
       "      <td>-0.829787</td>\n",
       "      <td>1.145245</td>\n",
       "      <td>1.193201</td>\n",
       "    </tr>\n",
       "    <tr>\n",
       "      <th>2</th>\n",
       "      <td>0.594406</td>\n",
       "      <td>0.038604</td>\n",
       "      <td>0.459038</td>\n",
       "      <td>1.016351</td>\n",
       "    </tr>\n",
       "    <tr>\n",
       "      <th>3</th>\n",
       "      <td>0.286301</td>\n",
       "      <td>3.053721</td>\n",
       "      <td>0.242944</td>\n",
       "      <td>0.153104</td>\n",
       "    </tr>\n",
       "    <tr>\n",
       "      <th>4</th>\n",
       "      <td>0.316799</td>\n",
       "      <td>2.223852</td>\n",
       "      <td>-0.873440</td>\n",
       "      <td>-1.886522</td>\n",
       "    </tr>\n",
       "    <tr>\n",
       "      <th>5</th>\n",
       "      <td>-0.169857</td>\n",
       "      <td>-0.093063</td>\n",
       "      <td>-0.261737</td>\n",
       "      <td>-0.587110</td>\n",
       "    </tr>\n",
       "    <tr>\n",
       "      <th>6</th>\n",
       "      <td>0.188681</td>\n",
       "      <td>-0.744585</td>\n",
       "      <td>2.300025</td>\n",
       "      <td>-0.078163</td>\n",
       "    </tr>\n",
       "    <tr>\n",
       "      <th>7</th>\n",
       "      <td>0.419011</td>\n",
       "      <td>-0.922970</td>\n",
       "      <td>-0.784983</td>\n",
       "      <td>-0.979689</td>\n",
       "    </tr>\n",
       "    <tr>\n",
       "      <th>8</th>\n",
       "      <td>0.936528</td>\n",
       "      <td>0.981305</td>\n",
       "      <td>-0.313161</td>\n",
       "      <td>1.726778</td>\n",
       "    </tr>\n",
       "    <tr>\n",
       "      <th>9</th>\n",
       "      <td>0.968349</td>\n",
       "      <td>-0.767991</td>\n",
       "      <td>-1.247064</td>\n",
       "      <td>0.406504</td>\n",
       "    </tr>\n",
       "  </tbody>\n",
       "</table>\n",
       "</div>"
      ],
      "text/plain": [
       "          0         1         2         3\n",
       "0 -0.872065 -0.126579  1.882798 -0.087141\n",
       "1 -1.331283 -0.829787  1.145245  1.193201\n",
       "2  0.594406  0.038604  0.459038  1.016351\n",
       "3  0.286301  3.053721  0.242944  0.153104\n",
       "4  0.316799  2.223852 -0.873440 -1.886522\n",
       "5 -0.169857 -0.093063 -0.261737 -0.587110\n",
       "6  0.188681 -0.744585  2.300025 -0.078163\n",
       "7  0.419011 -0.922970 -0.784983 -0.979689\n",
       "8  0.936528  0.981305 -0.313161  1.726778\n",
       "9  0.968349 -0.767991 -1.247064  0.406504"
      ]
     },
     "execution_count": 1127,
     "metadata": {},
     "output_type": "execute_result"
    }
   ],
   "source": [
    "pd.concat(pieces)"
   ]
  },
  {
   "cell_type": "code",
   "execution_count": 1130,
   "id": "b0fbf428",
   "metadata": {},
   "outputs": [
    {
     "data": {
      "text/html": [
       "<div>\n",
       "<style scoped>\n",
       "    .dataframe tbody tr th:only-of-type {\n",
       "        vertical-align: middle;\n",
       "    }\n",
       "\n",
       "    .dataframe tbody tr th {\n",
       "        vertical-align: top;\n",
       "    }\n",
       "\n",
       "    .dataframe thead th {\n",
       "        text-align: right;\n",
       "    }\n",
       "</style>\n",
       "<table border=\"1\" class=\"dataframe\">\n",
       "  <thead>\n",
       "    <tr style=\"text-align: right;\">\n",
       "      <th></th>\n",
       "      <th>key</th>\n",
       "      <th>lval</th>\n",
       "    </tr>\n",
       "  </thead>\n",
       "  <tbody>\n",
       "    <tr>\n",
       "      <th>0</th>\n",
       "      <td>foo</td>\n",
       "      <td>1</td>\n",
       "    </tr>\n",
       "    <tr>\n",
       "      <th>1</th>\n",
       "      <td>foo</td>\n",
       "      <td>2</td>\n",
       "    </tr>\n",
       "  </tbody>\n",
       "</table>\n",
       "</div>"
      ],
      "text/plain": [
       "   key  lval\n",
       "0  foo     1\n",
       "1  foo     2"
      ]
     },
     "execution_count": 1130,
     "metadata": {},
     "output_type": "execute_result"
    }
   ],
   "source": [
    "#merge\n",
    "left = pd.DataFrame({'key': ['foo', 'foo'], 'lval': [1, 2]})\n",
    "left"
   ]
  },
  {
   "cell_type": "code",
   "execution_count": 1131,
   "id": "c7c628da",
   "metadata": {},
   "outputs": [
    {
     "data": {
      "text/html": [
       "<div>\n",
       "<style scoped>\n",
       "    .dataframe tbody tr th:only-of-type {\n",
       "        vertical-align: middle;\n",
       "    }\n",
       "\n",
       "    .dataframe tbody tr th {\n",
       "        vertical-align: top;\n",
       "    }\n",
       "\n",
       "    .dataframe thead th {\n",
       "        text-align: right;\n",
       "    }\n",
       "</style>\n",
       "<table border=\"1\" class=\"dataframe\">\n",
       "  <thead>\n",
       "    <tr style=\"text-align: right;\">\n",
       "      <th></th>\n",
       "      <th>key</th>\n",
       "      <th>rval</th>\n",
       "    </tr>\n",
       "  </thead>\n",
       "  <tbody>\n",
       "    <tr>\n",
       "      <th>0</th>\n",
       "      <td>foo</td>\n",
       "      <td>4</td>\n",
       "    </tr>\n",
       "    <tr>\n",
       "      <th>1</th>\n",
       "      <td>foo</td>\n",
       "      <td>5</td>\n",
       "    </tr>\n",
       "  </tbody>\n",
       "</table>\n",
       "</div>"
      ],
      "text/plain": [
       "   key  rval\n",
       "0  foo     4\n",
       "1  foo     5"
      ]
     },
     "execution_count": 1131,
     "metadata": {},
     "output_type": "execute_result"
    }
   ],
   "source": [
    "right = pd.DataFrame({'key': ['foo', 'foo'], 'rval': [4, 5]}) \n",
    "right"
   ]
  },
  {
   "cell_type": "code",
   "execution_count": 1133,
   "id": "ba3064e6",
   "metadata": {},
   "outputs": [
    {
     "data": {
      "text/html": [
       "<div>\n",
       "<style scoped>\n",
       "    .dataframe tbody tr th:only-of-type {\n",
       "        vertical-align: middle;\n",
       "    }\n",
       "\n",
       "    .dataframe tbody tr th {\n",
       "        vertical-align: top;\n",
       "    }\n",
       "\n",
       "    .dataframe thead th {\n",
       "        text-align: right;\n",
       "    }\n",
       "</style>\n",
       "<table border=\"1\" class=\"dataframe\">\n",
       "  <thead>\n",
       "    <tr style=\"text-align: right;\">\n",
       "      <th></th>\n",
       "      <th>key</th>\n",
       "      <th>lval</th>\n",
       "      <th>rval</th>\n",
       "    </tr>\n",
       "  </thead>\n",
       "  <tbody>\n",
       "    <tr>\n",
       "      <th>0</th>\n",
       "      <td>foo</td>\n",
       "      <td>1</td>\n",
       "      <td>4</td>\n",
       "    </tr>\n",
       "    <tr>\n",
       "      <th>1</th>\n",
       "      <td>foo</td>\n",
       "      <td>1</td>\n",
       "      <td>5</td>\n",
       "    </tr>\n",
       "    <tr>\n",
       "      <th>2</th>\n",
       "      <td>foo</td>\n",
       "      <td>2</td>\n",
       "      <td>4</td>\n",
       "    </tr>\n",
       "    <tr>\n",
       "      <th>3</th>\n",
       "      <td>foo</td>\n",
       "      <td>2</td>\n",
       "      <td>5</td>\n",
       "    </tr>\n",
       "  </tbody>\n",
       "</table>\n",
       "</div>"
      ],
      "text/plain": [
       "   key  lval  rval\n",
       "0  foo     1     4\n",
       "1  foo     1     5\n",
       "2  foo     2     4\n",
       "3  foo     2     5"
      ]
     },
     "execution_count": 1133,
     "metadata": {},
     "output_type": "execute_result"
    }
   ],
   "source": [
    "merged = pd.merge(left, right, on='key')  # łączenie wg wspólnej kolumny\n",
    "merged\n",
    "# domyslnie how = \"inner\""
   ]
  },
  {
   "cell_type": "code",
   "execution_count": 1136,
   "id": "96f3636e",
   "metadata": {},
   "outputs": [],
   "source": [
    "df1 = pd.DataFrame({'a': ['foo', 'bar'], 'b': [1, 2]})\n",
    "df2 = pd.DataFrame({'c': ['foo', 'baz'], 'b': [2, 4]})"
   ]
  },
  {
   "cell_type": "code",
   "execution_count": 1137,
   "id": "6fa83d12",
   "metadata": {},
   "outputs": [
    {
     "data": {
      "text/html": [
       "<div>\n",
       "<style scoped>\n",
       "    .dataframe tbody tr th:only-of-type {\n",
       "        vertical-align: middle;\n",
       "    }\n",
       "\n",
       "    .dataframe tbody tr th {\n",
       "        vertical-align: top;\n",
       "    }\n",
       "\n",
       "    .dataframe thead th {\n",
       "        text-align: right;\n",
       "    }\n",
       "</style>\n",
       "<table border=\"1\" class=\"dataframe\">\n",
       "  <thead>\n",
       "    <tr style=\"text-align: right;\">\n",
       "      <th></th>\n",
       "      <th>a</th>\n",
       "      <th>b</th>\n",
       "    </tr>\n",
       "  </thead>\n",
       "  <tbody>\n",
       "    <tr>\n",
       "      <th>0</th>\n",
       "      <td>foo</td>\n",
       "      <td>1</td>\n",
       "    </tr>\n",
       "    <tr>\n",
       "      <th>1</th>\n",
       "      <td>bar</td>\n",
       "      <td>2</td>\n",
       "    </tr>\n",
       "  </tbody>\n",
       "</table>\n",
       "</div>"
      ],
      "text/plain": [
       "     a  b\n",
       "0  foo  1\n",
       "1  bar  2"
      ]
     },
     "execution_count": 1137,
     "metadata": {},
     "output_type": "execute_result"
    }
   ],
   "source": [
    "df1"
   ]
  },
  {
   "cell_type": "code",
   "execution_count": 1138,
   "id": "4c01dbd4",
   "metadata": {
    "scrolled": true
   },
   "outputs": [
    {
     "data": {
      "text/html": [
       "<div>\n",
       "<style scoped>\n",
       "    .dataframe tbody tr th:only-of-type {\n",
       "        vertical-align: middle;\n",
       "    }\n",
       "\n",
       "    .dataframe tbody tr th {\n",
       "        vertical-align: top;\n",
       "    }\n",
       "\n",
       "    .dataframe thead th {\n",
       "        text-align: right;\n",
       "    }\n",
       "</style>\n",
       "<table border=\"1\" class=\"dataframe\">\n",
       "  <thead>\n",
       "    <tr style=\"text-align: right;\">\n",
       "      <th></th>\n",
       "      <th>c</th>\n",
       "      <th>b</th>\n",
       "    </tr>\n",
       "  </thead>\n",
       "  <tbody>\n",
       "    <tr>\n",
       "      <th>0</th>\n",
       "      <td>foo</td>\n",
       "      <td>2</td>\n",
       "    </tr>\n",
       "    <tr>\n",
       "      <th>1</th>\n",
       "      <td>baz</td>\n",
       "      <td>4</td>\n",
       "    </tr>\n",
       "  </tbody>\n",
       "</table>\n",
       "</div>"
      ],
      "text/plain": [
       "     c  b\n",
       "0  foo  2\n",
       "1  baz  4"
      ]
     },
     "execution_count": 1138,
     "metadata": {},
     "output_type": "execute_result"
    }
   ],
   "source": [
    "df2"
   ]
  },
  {
   "cell_type": "code",
   "execution_count": 1139,
   "id": "b92602d2",
   "metadata": {},
   "outputs": [
    {
     "data": {
      "text/html": [
       "<div>\n",
       "<style scoped>\n",
       "    .dataframe tbody tr th:only-of-type {\n",
       "        vertical-align: middle;\n",
       "    }\n",
       "\n",
       "    .dataframe tbody tr th {\n",
       "        vertical-align: top;\n",
       "    }\n",
       "\n",
       "    .dataframe thead th {\n",
       "        text-align: right;\n",
       "    }\n",
       "</style>\n",
       "<table border=\"1\" class=\"dataframe\">\n",
       "  <thead>\n",
       "    <tr style=\"text-align: right;\">\n",
       "      <th></th>\n",
       "      <th>a</th>\n",
       "      <th>b</th>\n",
       "      <th>c</th>\n",
       "    </tr>\n",
       "  </thead>\n",
       "  <tbody>\n",
       "    <tr>\n",
       "      <th>0</th>\n",
       "      <td>foo</td>\n",
       "      <td>1</td>\n",
       "      <td>NaN</td>\n",
       "    </tr>\n",
       "    <tr>\n",
       "      <th>1</th>\n",
       "      <td>bar</td>\n",
       "      <td>2</td>\n",
       "      <td>foo</td>\n",
       "    </tr>\n",
       "  </tbody>\n",
       "</table>\n",
       "</div>"
      ],
      "text/plain": [
       "     a  b    c\n",
       "0  foo  1  NaN\n",
       "1  bar  2  foo"
      ]
     },
     "execution_count": 1139,
     "metadata": {},
     "output_type": "execute_result"
    }
   ],
   "source": [
    "df1.merge(df2, how='left', on='b') #dolacz df2 do df1(jako, ze left, df1 jest wazniejsze) po kluczu z kolumny b"
   ]
  },
  {
   "cell_type": "code",
   "execution_count": 1140,
   "id": "9a58060f",
   "metadata": {},
   "outputs": [
    {
     "data": {
      "text/html": [
       "<div>\n",
       "<style scoped>\n",
       "    .dataframe tbody tr th:only-of-type {\n",
       "        vertical-align: middle;\n",
       "    }\n",
       "\n",
       "    .dataframe tbody tr th {\n",
       "        vertical-align: top;\n",
       "    }\n",
       "\n",
       "    .dataframe thead th {\n",
       "        text-align: right;\n",
       "    }\n",
       "</style>\n",
       "<table border=\"1\" class=\"dataframe\">\n",
       "  <thead>\n",
       "    <tr style=\"text-align: right;\">\n",
       "      <th></th>\n",
       "      <th>a</th>\n",
       "      <th>b</th>\n",
       "      <th>c</th>\n",
       "    </tr>\n",
       "  </thead>\n",
       "  <tbody>\n",
       "    <tr>\n",
       "      <th>0</th>\n",
       "      <td>bar</td>\n",
       "      <td>2</td>\n",
       "      <td>foo</td>\n",
       "    </tr>\n",
       "    <tr>\n",
       "      <th>1</th>\n",
       "      <td>NaN</td>\n",
       "      <td>4</td>\n",
       "      <td>baz</td>\n",
       "    </tr>\n",
       "  </tbody>\n",
       "</table>\n",
       "</div>"
      ],
      "text/plain": [
       "     a  b    c\n",
       "0  bar  2  foo\n",
       "1  NaN  4  baz"
      ]
     },
     "execution_count": 1140,
     "metadata": {},
     "output_type": "execute_result"
    }
   ],
   "source": [
    "df1.merge(df2, how='right', on='b')  #dolacz df1 do df2(jako, ze right) po kluczu z kolumny b"
   ]
  },
  {
   "cell_type": "code",
   "execution_count": 1141,
   "id": "17a0f4a1",
   "metadata": {},
   "outputs": [
    {
     "data": {
      "text/html": [
       "<div>\n",
       "<style scoped>\n",
       "    .dataframe tbody tr th:only-of-type {\n",
       "        vertical-align: middle;\n",
       "    }\n",
       "\n",
       "    .dataframe tbody tr th {\n",
       "        vertical-align: top;\n",
       "    }\n",
       "\n",
       "    .dataframe thead th {\n",
       "        text-align: right;\n",
       "    }\n",
       "</style>\n",
       "<table border=\"1\" class=\"dataframe\">\n",
       "  <thead>\n",
       "    <tr style=\"text-align: right;\">\n",
       "      <th></th>\n",
       "      <th>a</th>\n",
       "      <th>b</th>\n",
       "      <th>c</th>\n",
       "    </tr>\n",
       "  </thead>\n",
       "  <tbody>\n",
       "    <tr>\n",
       "      <th>0</th>\n",
       "      <td>bar</td>\n",
       "      <td>2</td>\n",
       "      <td>foo</td>\n",
       "    </tr>\n",
       "  </tbody>\n",
       "</table>\n",
       "</div>"
      ],
      "text/plain": [
       "     a  b    c\n",
       "0  bar  2  foo"
      ]
     },
     "execution_count": 1141,
     "metadata": {},
     "output_type": "execute_result"
    }
   ],
   "source": [
    "df1.merge(df2, how='inner', on='b') # łączy to co jest w obu df"
   ]
  },
  {
   "cell_type": "code",
   "execution_count": 1142,
   "id": "85a09115",
   "metadata": {},
   "outputs": [
    {
     "data": {
      "text/html": [
       "<div>\n",
       "<style scoped>\n",
       "    .dataframe tbody tr th:only-of-type {\n",
       "        vertical-align: middle;\n",
       "    }\n",
       "\n",
       "    .dataframe tbody tr th {\n",
       "        vertical-align: top;\n",
       "    }\n",
       "\n",
       "    .dataframe thead th {\n",
       "        text-align: right;\n",
       "    }\n",
       "</style>\n",
       "<table border=\"1\" class=\"dataframe\">\n",
       "  <thead>\n",
       "    <tr style=\"text-align: right;\">\n",
       "      <th></th>\n",
       "      <th>a</th>\n",
       "      <th>b</th>\n",
       "      <th>c</th>\n",
       "    </tr>\n",
       "  </thead>\n",
       "  <tbody>\n",
       "    <tr>\n",
       "      <th>0</th>\n",
       "      <td>foo</td>\n",
       "      <td>1</td>\n",
       "      <td>NaN</td>\n",
       "    </tr>\n",
       "    <tr>\n",
       "      <th>1</th>\n",
       "      <td>bar</td>\n",
       "      <td>2</td>\n",
       "      <td>foo</td>\n",
       "    </tr>\n",
       "    <tr>\n",
       "      <th>2</th>\n",
       "      <td>NaN</td>\n",
       "      <td>4</td>\n",
       "      <td>baz</td>\n",
       "    </tr>\n",
       "  </tbody>\n",
       "</table>\n",
       "</div>"
      ],
      "text/plain": [
       "     a  b    c\n",
       "0  foo  1  NaN\n",
       "1  bar  2  foo\n",
       "2  NaN  4  baz"
      ]
     },
     "execution_count": 1142,
     "metadata": {},
     "output_type": "execute_result"
    }
   ],
   "source": [
    "df1.merge(df2, how='outer', on='b') # łączy wszystko"
   ]
  },
  {
   "cell_type": "code",
   "execution_count": 1143,
   "id": "4f8c0048",
   "metadata": {},
   "outputs": [
    {
     "data": {
      "text/html": [
       "<div>\n",
       "<style scoped>\n",
       "    .dataframe tbody tr th:only-of-type {\n",
       "        vertical-align: middle;\n",
       "    }\n",
       "\n",
       "    .dataframe tbody tr th {\n",
       "        vertical-align: top;\n",
       "    }\n",
       "\n",
       "    .dataframe thead th {\n",
       "        text-align: right;\n",
       "    }\n",
       "</style>\n",
       "<table border=\"1\" class=\"dataframe\">\n",
       "  <thead>\n",
       "    <tr style=\"text-align: right;\">\n",
       "      <th></th>\n",
       "      <th>A</th>\n",
       "      <th>B</th>\n",
       "      <th>C</th>\n",
       "      <th>D</th>\n",
       "    </tr>\n",
       "  </thead>\n",
       "  <tbody>\n",
       "    <tr>\n",
       "      <th>0</th>\n",
       "      <td>foo</td>\n",
       "      <td>one</td>\n",
       "      <td>0.250279</td>\n",
       "      <td>-1.017874</td>\n",
       "    </tr>\n",
       "    <tr>\n",
       "      <th>1</th>\n",
       "      <td>bar</td>\n",
       "      <td>one</td>\n",
       "      <td>0.194329</td>\n",
       "      <td>1.059356</td>\n",
       "    </tr>\n",
       "    <tr>\n",
       "      <th>2</th>\n",
       "      <td>foo</td>\n",
       "      <td>two</td>\n",
       "      <td>-0.950594</td>\n",
       "      <td>0.130751</td>\n",
       "    </tr>\n",
       "    <tr>\n",
       "      <th>3</th>\n",
       "      <td>bar</td>\n",
       "      <td>three</td>\n",
       "      <td>1.102380</td>\n",
       "      <td>0.985458</td>\n",
       "    </tr>\n",
       "    <tr>\n",
       "      <th>4</th>\n",
       "      <td>foo</td>\n",
       "      <td>two</td>\n",
       "      <td>0.686446</td>\n",
       "      <td>-0.625655</td>\n",
       "    </tr>\n",
       "    <tr>\n",
       "      <th>5</th>\n",
       "      <td>bar</td>\n",
       "      <td>two</td>\n",
       "      <td>-1.942265</td>\n",
       "      <td>-1.732113</td>\n",
       "    </tr>\n",
       "    <tr>\n",
       "      <th>6</th>\n",
       "      <td>foo</td>\n",
       "      <td>one</td>\n",
       "      <td>0.923479</td>\n",
       "      <td>-0.284494</td>\n",
       "    </tr>\n",
       "    <tr>\n",
       "      <th>7</th>\n",
       "      <td>foo</td>\n",
       "      <td>three</td>\n",
       "      <td>-0.821839</td>\n",
       "      <td>-2.065417</td>\n",
       "    </tr>\n",
       "  </tbody>\n",
       "</table>\n",
       "</div>"
      ],
      "text/plain": [
       "     A      B         C         D\n",
       "0  foo    one  0.250279 -1.017874\n",
       "1  bar    one  0.194329  1.059356\n",
       "2  foo    two -0.950594  0.130751\n",
       "3  bar  three  1.102380  0.985458\n",
       "4  foo    two  0.686446 -0.625655\n",
       "5  bar    two -1.942265 -1.732113\n",
       "6  foo    one  0.923479 -0.284494\n",
       "7  foo  three -0.821839 -2.065417"
      ]
     },
     "execution_count": 1143,
     "metadata": {},
     "output_type": "execute_result"
    }
   ],
   "source": [
    "df = pd.DataFrame({'A': ['foo', 'bar', 'foo', 'bar',\n",
    "                         'foo', 'bar', 'foo', 'foo'],\n",
    "                   'B': ['one', 'one', 'two', 'three',\n",
    "                         'two', 'two', 'one', 'three'],\n",
    "                   'C': np.random.randn(8),\n",
    "                   'D': np.random.randn(8)})\n",
    "df"
   ]
  },
  {
   "cell_type": "code",
   "execution_count": 1145,
   "id": "5df894b9",
   "metadata": {},
   "outputs": [
    {
     "name": "stderr",
     "output_type": "stream",
     "text": [
      "C:\\Users\\AsusF512ua-ej269t\\AppData\\Local\\Temp\\ipykernel_16512\\1885751491.py:1: FutureWarning: The default value of numeric_only in DataFrameGroupBy.sum is deprecated. In a future version, numeric_only will default to False. Either specify numeric_only or select only columns which should be valid for the function.\n",
      "  df.groupby('A').sum()\n"
     ]
    },
    {
     "data": {
      "text/html": [
       "<div>\n",
       "<style scoped>\n",
       "    .dataframe tbody tr th:only-of-type {\n",
       "        vertical-align: middle;\n",
       "    }\n",
       "\n",
       "    .dataframe tbody tr th {\n",
       "        vertical-align: top;\n",
       "    }\n",
       "\n",
       "    .dataframe thead th {\n",
       "        text-align: right;\n",
       "    }\n",
       "</style>\n",
       "<table border=\"1\" class=\"dataframe\">\n",
       "  <thead>\n",
       "    <tr style=\"text-align: right;\">\n",
       "      <th></th>\n",
       "      <th>C</th>\n",
       "      <th>D</th>\n",
       "    </tr>\n",
       "    <tr>\n",
       "      <th>A</th>\n",
       "      <th></th>\n",
       "      <th></th>\n",
       "    </tr>\n",
       "  </thead>\n",
       "  <tbody>\n",
       "    <tr>\n",
       "      <th>bar</th>\n",
       "      <td>-0.645556</td>\n",
       "      <td>0.312701</td>\n",
       "    </tr>\n",
       "    <tr>\n",
       "      <th>foo</th>\n",
       "      <td>0.087771</td>\n",
       "      <td>-3.862688</td>\n",
       "    </tr>\n",
       "  </tbody>\n",
       "</table>\n",
       "</div>"
      ],
      "text/plain": [
       "            C         D\n",
       "A                      \n",
       "bar -0.645556  0.312701\n",
       "foo  0.087771 -3.862688"
      ]
     },
     "execution_count": 1145,
     "metadata": {},
     "output_type": "execute_result"
    }
   ],
   "source": [
    "df.groupby('A').sum()"
   ]
  },
  {
   "cell_type": "code",
   "execution_count": 1146,
   "id": "cd8c5dd4",
   "metadata": {},
   "outputs": [
    {
     "data": {
      "text/html": [
       "<div>\n",
       "<style scoped>\n",
       "    .dataframe tbody tr th:only-of-type {\n",
       "        vertical-align: middle;\n",
       "    }\n",
       "\n",
       "    .dataframe tbody tr th {\n",
       "        vertical-align: top;\n",
       "    }\n",
       "\n",
       "    .dataframe thead th {\n",
       "        text-align: right;\n",
       "    }\n",
       "</style>\n",
       "<table border=\"1\" class=\"dataframe\">\n",
       "  <thead>\n",
       "    <tr style=\"text-align: right;\">\n",
       "      <th></th>\n",
       "      <th>B</th>\n",
       "      <th>C</th>\n",
       "      <th>D</th>\n",
       "    </tr>\n",
       "    <tr>\n",
       "      <th>A</th>\n",
       "      <th></th>\n",
       "      <th></th>\n",
       "      <th></th>\n",
       "    </tr>\n",
       "  </thead>\n",
       "  <tbody>\n",
       "    <tr>\n",
       "      <th>bar</th>\n",
       "      <td>one</td>\n",
       "      <td>-1.942265</td>\n",
       "      <td>-1.732113</td>\n",
       "    </tr>\n",
       "    <tr>\n",
       "      <th>foo</th>\n",
       "      <td>one</td>\n",
       "      <td>-0.950594</td>\n",
       "      <td>-2.065417</td>\n",
       "    </tr>\n",
       "  </tbody>\n",
       "</table>\n",
       "</div>"
      ],
      "text/plain": [
       "       B         C         D\n",
       "A                           \n",
       "bar  one -1.942265 -1.732113\n",
       "foo  one -0.950594 -2.065417"
      ]
     },
     "execution_count": 1146,
     "metadata": {},
     "output_type": "execute_result"
    }
   ],
   "source": [
    "df.groupby('A').min()"
   ]
  },
  {
   "cell_type": "code",
   "execution_count": 1147,
   "id": "f18971f9",
   "metadata": {},
   "outputs": [
    {
     "name": "stderr",
     "output_type": "stream",
     "text": [
      "C:\\Users\\AsusF512ua-ej269t\\AppData\\Local\\Temp\\ipykernel_16512\\714605139.py:1: FutureWarning: The default value of numeric_only in DataFrameGroupBy.mean is deprecated. In a future version, numeric_only will default to False. Either specify numeric_only or select only columns which should be valid for the function.\n",
      "  df.groupby('A').mean()\n"
     ]
    },
    {
     "data": {
      "text/html": [
       "<div>\n",
       "<style scoped>\n",
       "    .dataframe tbody tr th:only-of-type {\n",
       "        vertical-align: middle;\n",
       "    }\n",
       "\n",
       "    .dataframe tbody tr th {\n",
       "        vertical-align: top;\n",
       "    }\n",
       "\n",
       "    .dataframe thead th {\n",
       "        text-align: right;\n",
       "    }\n",
       "</style>\n",
       "<table border=\"1\" class=\"dataframe\">\n",
       "  <thead>\n",
       "    <tr style=\"text-align: right;\">\n",
       "      <th></th>\n",
       "      <th>C</th>\n",
       "      <th>D</th>\n",
       "    </tr>\n",
       "    <tr>\n",
       "      <th>A</th>\n",
       "      <th></th>\n",
       "      <th></th>\n",
       "    </tr>\n",
       "  </thead>\n",
       "  <tbody>\n",
       "    <tr>\n",
       "      <th>bar</th>\n",
       "      <td>-0.215185</td>\n",
       "      <td>0.104234</td>\n",
       "    </tr>\n",
       "    <tr>\n",
       "      <th>foo</th>\n",
       "      <td>0.017554</td>\n",
       "      <td>-0.772538</td>\n",
       "    </tr>\n",
       "  </tbody>\n",
       "</table>\n",
       "</div>"
      ],
      "text/plain": [
       "            C         D\n",
       "A                      \n",
       "bar -0.215185  0.104234\n",
       "foo  0.017554 -0.772538"
      ]
     },
     "execution_count": 1147,
     "metadata": {},
     "output_type": "execute_result"
    }
   ],
   "source": [
    "df.groupby('A').mean()"
   ]
  },
  {
   "cell_type": "code",
   "execution_count": 1148,
   "id": "88d358fe",
   "metadata": {},
   "outputs": [
    {
     "name": "stderr",
     "output_type": "stream",
     "text": [
      "C:\\Users\\AsusF512ua-ej269t\\AppData\\Local\\Temp\\ipykernel_16512\\3136877984.py:1: FutureWarning: The default value of numeric_only in DataFrameGroupBy.std is deprecated. In a future version, numeric_only will default to False. Either specify numeric_only or select only columns which should be valid for the function.\n",
      "  df.groupby('A').std()\n"
     ]
    },
    {
     "data": {
      "text/html": [
       "<div>\n",
       "<style scoped>\n",
       "    .dataframe tbody tr th:only-of-type {\n",
       "        vertical-align: middle;\n",
       "    }\n",
       "\n",
       "    .dataframe tbody tr th {\n",
       "        vertical-align: top;\n",
       "    }\n",
       "\n",
       "    .dataframe thead th {\n",
       "        text-align: right;\n",
       "    }\n",
       "</style>\n",
       "<table border=\"1\" class=\"dataframe\">\n",
       "  <thead>\n",
       "    <tr style=\"text-align: right;\">\n",
       "      <th></th>\n",
       "      <th>C</th>\n",
       "      <th>D</th>\n",
       "    </tr>\n",
       "    <tr>\n",
       "      <th>A</th>\n",
       "      <th></th>\n",
       "      <th></th>\n",
       "    </tr>\n",
       "  </thead>\n",
       "  <tbody>\n",
       "    <tr>\n",
       "      <th>bar</th>\n",
       "      <td>1.563087</td>\n",
       "      <td>1.590752</td>\n",
       "    </tr>\n",
       "    <tr>\n",
       "      <th>foo</th>\n",
       "      <td>0.860838</td>\n",
       "      <td>0.837768</td>\n",
       "    </tr>\n",
       "  </tbody>\n",
       "</table>\n",
       "</div>"
      ],
      "text/plain": [
       "            C         D\n",
       "A                      \n",
       "bar  1.563087  1.590752\n",
       "foo  0.860838  0.837768"
      ]
     },
     "execution_count": 1148,
     "metadata": {},
     "output_type": "execute_result"
    }
   ],
   "source": [
    "df.groupby('A').std()"
   ]
  },
  {
   "cell_type": "code",
   "execution_count": 1149,
   "id": "1e81d394",
   "metadata": {},
   "outputs": [
    {
     "data": {
      "text/html": [
       "<div>\n",
       "<style scoped>\n",
       "    .dataframe tbody tr th:only-of-type {\n",
       "        vertical-align: middle;\n",
       "    }\n",
       "\n",
       "    .dataframe tbody tr th {\n",
       "        vertical-align: top;\n",
       "    }\n",
       "\n",
       "    .dataframe thead th {\n",
       "        text-align: right;\n",
       "    }\n",
       "</style>\n",
       "<table border=\"1\" class=\"dataframe\">\n",
       "  <thead>\n",
       "    <tr style=\"text-align: right;\">\n",
       "      <th></th>\n",
       "      <th>A</th>\n",
       "      <th>B</th>\n",
       "      <th>C</th>\n",
       "      <th>D</th>\n",
       "    </tr>\n",
       "  </thead>\n",
       "  <tbody>\n",
       "    <tr>\n",
       "      <th>0</th>\n",
       "      <td>foo</td>\n",
       "      <td>one</td>\n",
       "      <td>0.250279</td>\n",
       "      <td>-1.017874</td>\n",
       "    </tr>\n",
       "    <tr>\n",
       "      <th>1</th>\n",
       "      <td>bar</td>\n",
       "      <td>one</td>\n",
       "      <td>0.194329</td>\n",
       "      <td>1.059356</td>\n",
       "    </tr>\n",
       "    <tr>\n",
       "      <th>2</th>\n",
       "      <td>foo</td>\n",
       "      <td>two</td>\n",
       "      <td>-0.950594</td>\n",
       "      <td>0.130751</td>\n",
       "    </tr>\n",
       "    <tr>\n",
       "      <th>3</th>\n",
       "      <td>bar</td>\n",
       "      <td>three</td>\n",
       "      <td>1.102380</td>\n",
       "      <td>0.985458</td>\n",
       "    </tr>\n",
       "    <tr>\n",
       "      <th>4</th>\n",
       "      <td>foo</td>\n",
       "      <td>two</td>\n",
       "      <td>0.686446</td>\n",
       "      <td>-0.625655</td>\n",
       "    </tr>\n",
       "    <tr>\n",
       "      <th>5</th>\n",
       "      <td>bar</td>\n",
       "      <td>two</td>\n",
       "      <td>-1.942265</td>\n",
       "      <td>-1.732113</td>\n",
       "    </tr>\n",
       "    <tr>\n",
       "      <th>6</th>\n",
       "      <td>foo</td>\n",
       "      <td>one</td>\n",
       "      <td>0.923479</td>\n",
       "      <td>-0.284494</td>\n",
       "    </tr>\n",
       "    <tr>\n",
       "      <th>7</th>\n",
       "      <td>foo</td>\n",
       "      <td>three</td>\n",
       "      <td>-0.821839</td>\n",
       "      <td>-2.065417</td>\n",
       "    </tr>\n",
       "  </tbody>\n",
       "</table>\n",
       "</div>"
      ],
      "text/plain": [
       "     A      B         C         D\n",
       "0  foo    one  0.250279 -1.017874\n",
       "1  bar    one  0.194329  1.059356\n",
       "2  foo    two -0.950594  0.130751\n",
       "3  bar  three  1.102380  0.985458\n",
       "4  foo    two  0.686446 -0.625655\n",
       "5  bar    two -1.942265 -1.732113\n",
       "6  foo    one  0.923479 -0.284494\n",
       "7  foo  three -0.821839 -2.065417"
      ]
     },
     "execution_count": 1149,
     "metadata": {},
     "output_type": "execute_result"
    }
   ],
   "source": [
    "df"
   ]
  },
  {
   "cell_type": "code",
   "execution_count": 1150,
   "id": "a42214e7",
   "metadata": {},
   "outputs": [
    {
     "data": {
      "text/html": [
       "<div>\n",
       "<style scoped>\n",
       "    .dataframe tbody tr th:only-of-type {\n",
       "        vertical-align: middle;\n",
       "    }\n",
       "\n",
       "    .dataframe tbody tr th {\n",
       "        vertical-align: top;\n",
       "    }\n",
       "\n",
       "    .dataframe thead th {\n",
       "        text-align: right;\n",
       "    }\n",
       "</style>\n",
       "<table border=\"1\" class=\"dataframe\">\n",
       "  <thead>\n",
       "    <tr style=\"text-align: right;\">\n",
       "      <th></th>\n",
       "      <th></th>\n",
       "      <th>C</th>\n",
       "      <th>D</th>\n",
       "    </tr>\n",
       "    <tr>\n",
       "      <th>A</th>\n",
       "      <th>B</th>\n",
       "      <th></th>\n",
       "      <th></th>\n",
       "    </tr>\n",
       "  </thead>\n",
       "  <tbody>\n",
       "    <tr>\n",
       "      <th rowspan=\"3\" valign=\"top\">bar</th>\n",
       "      <th>one</th>\n",
       "      <td>0.194329</td>\n",
       "      <td>1.059356</td>\n",
       "    </tr>\n",
       "    <tr>\n",
       "      <th>three</th>\n",
       "      <td>1.102380</td>\n",
       "      <td>0.985458</td>\n",
       "    </tr>\n",
       "    <tr>\n",
       "      <th>two</th>\n",
       "      <td>-1.942265</td>\n",
       "      <td>-1.732113</td>\n",
       "    </tr>\n",
       "    <tr>\n",
       "      <th rowspan=\"3\" valign=\"top\">foo</th>\n",
       "      <th>one</th>\n",
       "      <td>1.173758</td>\n",
       "      <td>-1.302368</td>\n",
       "    </tr>\n",
       "    <tr>\n",
       "      <th>three</th>\n",
       "      <td>-0.821839</td>\n",
       "      <td>-2.065417</td>\n",
       "    </tr>\n",
       "    <tr>\n",
       "      <th>two</th>\n",
       "      <td>-0.264149</td>\n",
       "      <td>-0.494904</td>\n",
       "    </tr>\n",
       "  </tbody>\n",
       "</table>\n",
       "</div>"
      ],
      "text/plain": [
       "                  C         D\n",
       "A   B                        \n",
       "bar one    0.194329  1.059356\n",
       "    three  1.102380  0.985458\n",
       "    two   -1.942265 -1.732113\n",
       "foo one    1.173758 -1.302368\n",
       "    three -0.821839 -2.065417\n",
       "    two   -0.264149 -0.494904"
      ]
     },
     "execution_count": 1150,
     "metadata": {},
     "output_type": "execute_result"
    }
   ],
   "source": [
    "df.groupby(['A','B']).sum()"
   ]
  },
  {
   "cell_type": "code",
   "execution_count": 1151,
   "id": "c9ad4930",
   "metadata": {},
   "outputs": [],
   "source": [
    "df2 = df.groupby(['A','B']).sum() # multy index"
   ]
  },
  {
   "cell_type": "code",
   "execution_count": 1153,
   "id": "b00602bc",
   "metadata": {},
   "outputs": [
    {
     "data": {
      "text/plain": [
       "C    0.194329\n",
       "D    1.059356\n",
       "Name: (bar, one), dtype: float64"
      ]
     },
     "execution_count": 1153,
     "metadata": {},
     "output_type": "execute_result"
    }
   ],
   "source": [
    "df2.loc['bar','one']"
   ]
  },
  {
   "cell_type": "code",
   "execution_count": 1156,
   "id": "a633867b",
   "metadata": {},
   "outputs": [
    {
     "data": {
      "text/html": [
       "<div>\n",
       "<style scoped>\n",
       "    .dataframe tbody tr th:only-of-type {\n",
       "        vertical-align: middle;\n",
       "    }\n",
       "\n",
       "    .dataframe tbody tr th {\n",
       "        vertical-align: top;\n",
       "    }\n",
       "\n",
       "    .dataframe thead th {\n",
       "        text-align: right;\n",
       "    }\n",
       "</style>\n",
       "<table border=\"1\" class=\"dataframe\">\n",
       "  <thead>\n",
       "    <tr style=\"text-align: right;\">\n",
       "      <th></th>\n",
       "      <th>A</th>\n",
       "      <th>B</th>\n",
       "      <th>C</th>\n",
       "      <th>D</th>\n",
       "    </tr>\n",
       "  </thead>\n",
       "  <tbody>\n",
       "    <tr>\n",
       "      <th>0</th>\n",
       "      <td>bar</td>\n",
       "      <td>one</td>\n",
       "      <td>0.194329</td>\n",
       "      <td>1.059356</td>\n",
       "    </tr>\n",
       "    <tr>\n",
       "      <th>1</th>\n",
       "      <td>bar</td>\n",
       "      <td>three</td>\n",
       "      <td>1.102380</td>\n",
       "      <td>0.985458</td>\n",
       "    </tr>\n",
       "    <tr>\n",
       "      <th>2</th>\n",
       "      <td>bar</td>\n",
       "      <td>two</td>\n",
       "      <td>-1.942265</td>\n",
       "      <td>-1.732113</td>\n",
       "    </tr>\n",
       "    <tr>\n",
       "      <th>3</th>\n",
       "      <td>foo</td>\n",
       "      <td>one</td>\n",
       "      <td>1.173758</td>\n",
       "      <td>-1.302368</td>\n",
       "    </tr>\n",
       "    <tr>\n",
       "      <th>4</th>\n",
       "      <td>foo</td>\n",
       "      <td>three</td>\n",
       "      <td>-0.821839</td>\n",
       "      <td>-2.065417</td>\n",
       "    </tr>\n",
       "    <tr>\n",
       "      <th>5</th>\n",
       "      <td>foo</td>\n",
       "      <td>two</td>\n",
       "      <td>-0.264149</td>\n",
       "      <td>-0.494904</td>\n",
       "    </tr>\n",
       "  </tbody>\n",
       "</table>\n",
       "</div>"
      ],
      "text/plain": [
       "     A      B         C         D\n",
       "0  bar    one  0.194329  1.059356\n",
       "1  bar  three  1.102380  0.985458\n",
       "2  bar    two -1.942265 -1.732113\n",
       "3  foo    one  1.173758 -1.302368\n",
       "4  foo  three -0.821839 -2.065417\n",
       "5  foo    two -0.264149 -0.494904"
      ]
     },
     "execution_count": 1156,
     "metadata": {},
     "output_type": "execute_result"
    }
   ],
   "source": [
    "df2.reset_index(drop=False)"
   ]
  },
  {
   "cell_type": "code",
   "execution_count": 1159,
   "id": "41a797ed",
   "metadata": {
    "scrolled": true
   },
   "outputs": [
    {
     "data": {
      "text/html": [
       "<div>\n",
       "<style scoped>\n",
       "    .dataframe tbody tr th:only-of-type {\n",
       "        vertical-align: middle;\n",
       "    }\n",
       "\n",
       "    .dataframe tbody tr th {\n",
       "        vertical-align: top;\n",
       "    }\n",
       "\n",
       "    .dataframe thead th {\n",
       "        text-align: right;\n",
       "    }\n",
       "</style>\n",
       "<table border=\"1\" class=\"dataframe\">\n",
       "  <thead>\n",
       "    <tr style=\"text-align: right;\">\n",
       "      <th></th>\n",
       "      <th></th>\n",
       "      <th>0</th>\n",
       "      <th>1</th>\n",
       "    </tr>\n",
       "  </thead>\n",
       "  <tbody>\n",
       "    <tr>\n",
       "      <th rowspan=\"2\" valign=\"top\">one</th>\n",
       "      <th>y</th>\n",
       "      <td>0.117032</td>\n",
       "      <td>0.270261</td>\n",
       "    </tr>\n",
       "    <tr>\n",
       "      <th>x</th>\n",
       "      <td>0.896854</td>\n",
       "      <td>-1.906231</td>\n",
       "    </tr>\n",
       "    <tr>\n",
       "      <th rowspan=\"2\" valign=\"top\">zero2</th>\n",
       "      <th>y</th>\n",
       "      <td>-1.375876</td>\n",
       "      <td>-1.198866</td>\n",
       "    </tr>\n",
       "    <tr>\n",
       "      <th>x</th>\n",
       "      <td>-0.658391</td>\n",
       "      <td>0.959522</td>\n",
       "    </tr>\n",
       "  </tbody>\n",
       "</table>\n",
       "</div>"
      ],
      "text/plain": [
       "                0         1\n",
       "one   y  0.117032  0.270261\n",
       "      x  0.896854 -1.906231\n",
       "zero2 y -1.375876 -1.198866\n",
       "      x -0.658391  0.959522"
      ]
     },
     "execution_count": 1159,
     "metadata": {},
     "output_type": "execute_result"
    }
   ],
   "source": [
    "midx = pd.MultiIndex(\n",
    "    levels=[[\"zero2\", \"one\"],\n",
    "            [\"x\", \"y\"]], \n",
    "    codes=[[1, 1, 0, 0], [1, 0, 1, 0]]\n",
    ")\n",
    "\n",
    "\n",
    "df_indeksy = pd.DataFrame(np.random.randn(4, 2), index=midx)\n",
    "df_indeksy"
   ]
  },
  {
   "cell_type": "code",
   "execution_count": 1160,
   "id": "3405dadf",
   "metadata": {},
   "outputs": [
    {
     "data": {
      "text/plain": [
       "one    y    0.117032\n",
       "       x    0.896854\n",
       "zero2  y   -1.375876\n",
       "       x   -0.658391\n",
       "Name: 0, dtype: float64"
      ]
     },
     "execution_count": 1160,
     "metadata": {},
     "output_type": "execute_result"
    }
   ],
   "source": [
    "df_indeksy[0]"
   ]
  },
  {
   "cell_type": "code",
   "execution_count": 1163,
   "id": "0e6e6da8",
   "metadata": {
    "scrolled": false
   },
   "outputs": [
    {
     "data": {
      "text/plain": [
       "one    y    0.270261\n",
       "       x   -1.906231\n",
       "zero2  y   -1.198866\n",
       "       x    0.959522\n",
       "Name: 1, dtype: float64"
      ]
     },
     "execution_count": 1163,
     "metadata": {},
     "output_type": "execute_result"
    }
   ],
   "source": [
    "df_indeksy.loc[:, 1] # wez wszystko z 1wszej kolumny"
   ]
  },
  {
   "cell_type": "code",
   "execution_count": 1164,
   "id": "a913e257",
   "metadata": {},
   "outputs": [
    {
     "data": {
      "text/plain": [
       "0    0.117032\n",
       "1    0.270261\n",
       "Name: (one, y), dtype: float64"
      ]
     },
     "execution_count": 1164,
     "metadata": {},
     "output_type": "execute_result"
    }
   ],
   "source": [
    "df_indeksy.loc['one', 'y']"
   ]
  },
  {
   "cell_type": "code",
   "execution_count": 1165,
   "id": "f23410fa",
   "metadata": {},
   "outputs": [
    {
     "name": "stderr",
     "output_type": "stream",
     "text": [
      "C:\\Users\\AsusF512ua-ej269t\\AppData\\Local\\Programs\\Python\\Python311\\Lib\\site-packages\\IPython\\core\\displayhook.py:281: UserWarning: Output cache limit (currently 1000 entries) hit.\n",
      "Flushing oldest 200 entries.\n",
      "  warn('Output cache limit (currently {sz} entries) hit.\\n'\n"
     ]
    },
    {
     "data": {
      "text/html": [
       "<div>\n",
       "<style scoped>\n",
       "    .dataframe tbody tr th:only-of-type {\n",
       "        vertical-align: middle;\n",
       "    }\n",
       "\n",
       "    .dataframe tbody tr th {\n",
       "        vertical-align: top;\n",
       "    }\n",
       "\n",
       "    .dataframe thead th {\n",
       "        text-align: right;\n",
       "    }\n",
       "</style>\n",
       "<table border=\"1\" class=\"dataframe\">\n",
       "  <thead>\n",
       "    <tr style=\"text-align: right;\">\n",
       "      <th></th>\n",
       "      <th></th>\n",
       "      <th>jeden</th>\n",
       "      <th>dwa</th>\n",
       "    </tr>\n",
       "  </thead>\n",
       "  <tbody>\n",
       "    <tr>\n",
       "      <th rowspan=\"2\" valign=\"top\">one</th>\n",
       "      <th>y</th>\n",
       "      <td>0.117032</td>\n",
       "      <td>0.270261</td>\n",
       "    </tr>\n",
       "    <tr>\n",
       "      <th>x</th>\n",
       "      <td>0.896854</td>\n",
       "      <td>-1.906231</td>\n",
       "    </tr>\n",
       "    <tr>\n",
       "      <th rowspan=\"2\" valign=\"top\">zero2</th>\n",
       "      <th>y</th>\n",
       "      <td>-1.375876</td>\n",
       "      <td>-1.198866</td>\n",
       "    </tr>\n",
       "    <tr>\n",
       "      <th>x</th>\n",
       "      <td>-0.658391</td>\n",
       "      <td>0.959522</td>\n",
       "    </tr>\n",
       "  </tbody>\n",
       "</table>\n",
       "</div>"
      ],
      "text/plain": [
       "            jeden       dwa\n",
       "one   y  0.117032  0.270261\n",
       "      x  0.896854 -1.906231\n",
       "zero2 y -1.375876 -1.198866\n",
       "      x -0.658391  0.959522"
      ]
     },
     "execution_count": 1165,
     "metadata": {},
     "output_type": "execute_result"
    }
   ],
   "source": [
    "df_indeksy.columns = ['jeden', 'dwa']\n",
    "df_indeksy"
   ]
  },
  {
   "cell_type": "code",
   "execution_count": 1166,
   "id": "e991b8f9",
   "metadata": {},
   "outputs": [
    {
     "data": {
      "text/plain": [
       "jeden    0.117032\n",
       "dwa      0.270261\n",
       "Name: (one, y), dtype: float64"
      ]
     },
     "execution_count": 1166,
     "metadata": {},
     "output_type": "execute_result"
    }
   ],
   "source": [
    "df_indeksy.loc['one', 'y']"
   ]
  },
  {
   "cell_type": "code",
   "execution_count": 1167,
   "id": "4e12243b",
   "metadata": {},
   "outputs": [
    {
     "data": {
      "text/plain": [
       "one    y    0.117032\n",
       "       x    0.896854\n",
       "zero2  y   -1.375876\n",
       "       x   -0.658391\n",
       "Name: jeden, dtype: float64"
      ]
     },
     "execution_count": 1167,
     "metadata": {},
     "output_type": "execute_result"
    }
   ],
   "source": [
    "df_indeksy.loc[:, 'jeden'] # show all for column 'jeden'"
   ]
  },
  {
   "cell_type": "code",
   "execution_count": 1168,
   "id": "9e3030f5",
   "metadata": {},
   "outputs": [
    {
     "data": {
      "text/html": [
       "<div>\n",
       "<style scoped>\n",
       "    .dataframe tbody tr th:only-of-type {\n",
       "        vertical-align: middle;\n",
       "    }\n",
       "\n",
       "    .dataframe tbody tr th {\n",
       "        vertical-align: top;\n",
       "    }\n",
       "\n",
       "    .dataframe thead th {\n",
       "        text-align: right;\n",
       "    }\n",
       "</style>\n",
       "<table border=\"1\" class=\"dataframe\">\n",
       "  <thead>\n",
       "    <tr style=\"text-align: right;\">\n",
       "      <th></th>\n",
       "      <th></th>\n",
       "      <th>jeden</th>\n",
       "      <th>dwa</th>\n",
       "    </tr>\n",
       "  </thead>\n",
       "  <tbody>\n",
       "    <tr>\n",
       "      <th rowspan=\"2\" valign=\"top\">one</th>\n",
       "      <th>y</th>\n",
       "      <td>0.117032</td>\n",
       "      <td>0.270261</td>\n",
       "    </tr>\n",
       "    <tr>\n",
       "      <th>x</th>\n",
       "      <td>0.896854</td>\n",
       "      <td>-1.906231</td>\n",
       "    </tr>\n",
       "    <tr>\n",
       "      <th rowspan=\"2\" valign=\"top\">zero2</th>\n",
       "      <th>y</th>\n",
       "      <td>-1.375876</td>\n",
       "      <td>-1.198866</td>\n",
       "    </tr>\n",
       "    <tr>\n",
       "      <th>x</th>\n",
       "      <td>-0.658391</td>\n",
       "      <td>0.959522</td>\n",
       "    </tr>\n",
       "  </tbody>\n",
       "</table>\n",
       "</div>"
      ],
      "text/plain": [
       "            jeden       dwa\n",
       "one   y  0.117032  0.270261\n",
       "      x  0.896854 -1.906231\n",
       "zero2 y -1.375876 -1.198866\n",
       "      x -0.658391  0.959522"
      ]
     },
     "execution_count": 1168,
     "metadata": {},
     "output_type": "execute_result"
    }
   ],
   "source": [
    "df_indeksy.loc[:, ['jeden', 'dwa']]"
   ]
  },
  {
   "cell_type": "code",
   "execution_count": 1172,
   "id": "9f25ca28",
   "metadata": {},
   "outputs": [
    {
     "data": {
      "text/html": [
       "<div>\n",
       "<style scoped>\n",
       "    .dataframe tbody tr th:only-of-type {\n",
       "        vertical-align: middle;\n",
       "    }\n",
       "\n",
       "    .dataframe tbody tr th {\n",
       "        vertical-align: top;\n",
       "    }\n",
       "\n",
       "    .dataframe thead th {\n",
       "        text-align: right;\n",
       "    }\n",
       "</style>\n",
       "<table border=\"1\" class=\"dataframe\">\n",
       "  <thead>\n",
       "    <tr style=\"text-align: right;\">\n",
       "      <th></th>\n",
       "      <th></th>\n",
       "      <th>jeden</th>\n",
       "      <th>dwa</th>\n",
       "    </tr>\n",
       "  </thead>\n",
       "  <tbody>\n",
       "    <tr>\n",
       "      <th rowspan=\"2\" valign=\"top\">one</th>\n",
       "      <th>y</th>\n",
       "      <td>0.117032</td>\n",
       "      <td>0.270261</td>\n",
       "    </tr>\n",
       "    <tr>\n",
       "      <th>x</th>\n",
       "      <td>0.896854</td>\n",
       "      <td>-1.906231</td>\n",
       "    </tr>\n",
       "    <tr>\n",
       "      <th rowspan=\"2\" valign=\"top\">zero2</th>\n",
       "      <th>y</th>\n",
       "      <td>-1.375876</td>\n",
       "      <td>-1.198866</td>\n",
       "    </tr>\n",
       "    <tr>\n",
       "      <th>x</th>\n",
       "      <td>-0.658391</td>\n",
       "      <td>0.959522</td>\n",
       "    </tr>\n",
       "  </tbody>\n",
       "</table>\n",
       "</div>"
      ],
      "text/plain": [
       "            jeden       dwa\n",
       "one   y  0.117032  0.270261\n",
       "      x  0.896854 -1.906231\n",
       "zero2 y -1.375876 -1.198866\n",
       "      x -0.658391  0.959522"
      ]
     },
     "execution_count": 1172,
     "metadata": {},
     "output_type": "execute_result"
    }
   ],
   "source": [
    "df_indeksy[['jeden', 'dwa']]"
   ]
  },
  {
   "cell_type": "code",
   "execution_count": null,
   "id": "fcf54ae7",
   "metadata": {},
   "outputs": [],
   "source": []
  }
 ],
 "metadata": {
  "kernelspec": {
   "display_name": "Python 3 (ipykernel)",
   "language": "python",
   "name": "python3"
  },
  "language_info": {
   "codemirror_mode": {
    "name": "ipython",
    "version": 3
   },
   "file_extension": ".py",
   "mimetype": "text/x-python",
   "name": "python",
   "nbconvert_exporter": "python",
   "pygments_lexer": "ipython3",
   "version": "3.11.2"
  }
 },
 "nbformat": 4,
 "nbformat_minor": 5
}
