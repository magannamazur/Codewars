{
 "cells": [
  {
   "cell_type": "markdown",
   "id": "65f04276",
   "metadata": {},
   "source": [
    "\"\"\"\n",
    "**1. Porównywanie pd.Series**\n",
    "\n",
    "Utwórz dwa obiekty typu `pd.Series`, zawierające 100 wartości 0 lub 1. Wykorzystaj w tym celu generator liczb losowych z biblioteki NumPy [np.random.randint](https://docs.scipy.org/doc/numpy-1.15.1/reference/generated/numpy.random.randint.html#numpy-random-randint).\n",
    "\n",
    "Następnie wyświetl wszystkie indeksy, na których wartości w obu Series się zgadzają.\n",
    "\"\"\""
   ]
  },
  {
   "cell_type": "code",
   "execution_count": 1,
   "id": "3dbbe12d",
   "metadata": {},
   "outputs": [],
   "source": [
    "### wczytaj biblioteki\n",
    "import pandas as pd\n",
    "import numpy as np"
   ]
  },
  {
   "cell_type": "code",
   "execution_count": 8,
   "id": "ebddbd7c",
   "metadata": {},
   "outputs": [
    {
     "data": {
      "text/plain": [
       "0     1\n",
       "1     0\n",
       "2     0\n",
       "3     0\n",
       "4     1\n",
       "     ..\n",
       "95    1\n",
       "96    0\n",
       "97    0\n",
       "98    1\n",
       "99    0\n",
       "Length: 100, dtype: int32"
      ]
     },
     "execution_count": 8,
     "metadata": {},
     "output_type": "execute_result"
    }
   ],
   "source": [
    "### przypisz do obiektu a za pomoca pd.Series z funkcja w srodku \n",
    "a = pd.Series(np.random.randint(0,2, size=100))\n",
    "a"
   ]
  },
  {
   "cell_type": "code",
   "execution_count": 15,
   "id": "145186c3",
   "metadata": {},
   "outputs": [
    {
     "data": {
      "text/plain": [
       "0     1\n",
       "1     0\n",
       "2     0\n",
       "3     0\n",
       "4     0\n",
       "     ..\n",
       "95    0\n",
       "96    1\n",
       "97    0\n",
       "98    1\n",
       "99    0\n",
       "Length: 100, dtype: int32"
      ]
     },
     "execution_count": 15,
     "metadata": {},
     "output_type": "execute_result"
    }
   ],
   "source": [
    "### przypisz do obiektu b za pomoca pd.Series z funkcja w srodku \n",
    "b = pd.Series(np.random.randint(2, size=100))\n",
    "b"
   ]
  },
  {
   "cell_type": "code",
   "execution_count": 16,
   "id": "d450495e",
   "metadata": {},
   "outputs": [
    {
     "data": {
      "text/plain": [
       "Int64Index([ 0,  1,  2,  3,  6,  8, 11, 12, 13, 15, 16, 20, 22, 23, 24, 26, 27,\n",
       "            28, 31, 32, 33, 34, 35, 36, 38, 40, 42, 43, 45, 46, 47, 57, 58, 59,\n",
       "            61, 62, 63, 64, 65, 68, 69, 70, 72, 73, 74, 76, 77, 78, 79, 82, 85,\n",
       "            86, 88, 89, 97, 98, 99],\n",
       "           dtype='int64')"
      ]
     },
     "execution_count": 16,
     "metadata": {},
     "output_type": "execute_result"
    }
   ],
   "source": [
    "### dla obiektu a wpisz w nawiasach kwadratowych warunek rowności a i b oraz dodaj atrybut index\n",
    "a[a==b].index"
   ]
  },
  {
   "cell_type": "code",
   "execution_count": null,
   "id": "e75e2b09",
   "metadata": {},
   "outputs": [],
   "source": []
  }
 ],
 "metadata": {
  "kernelspec": {
   "display_name": "Python 3 (ipykernel)",
   "language": "python",
   "name": "python3"
  },
  "language_info": {
   "codemirror_mode": {
    "name": "ipython",
    "version": 3
   },
   "file_extension": ".py",
   "mimetype": "text/x-python",
   "name": "python",
   "nbconvert_exporter": "python",
   "pygments_lexer": "ipython3",
   "version": "3.11.2"
  }
 },
 "nbformat": 4,
 "nbformat_minor": 5
}
