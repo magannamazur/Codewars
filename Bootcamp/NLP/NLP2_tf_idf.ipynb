{
 "cells": [
  {
   "cell_type": "code",
   "execution_count": null,
   "metadata": {
    "colab": {
     "base_uri": "https://localhost:8080/"
    },
    "id": "TrPkN4Ar9uKW",
    "outputId": "6513a283-e1a9-4750-f6fd-087684757b2e"
   },
   "outputs": [
    {
     "name": "stdout",
     "output_type": "stream",
     "text": [
      "(4, 9)\n"
     ]
    }
   ],
   "source": [
    "from sklearn.feature_extraction.text import TfidfVectorizer\n",
    "corpus = [\n",
    "    'This is the first document.',\n",
    "    'This document is the second document.',\n",
    "    'And this is the third one.',\n",
    "    'Is this the first document?',\n",
    "]\n",
    "vectorizer = TfidfVectorizer()\n",
    "X = vectorizer.fit_transform(corpus)\n",
    "feature_names = vectorizer.get_feature_names_out()\n",
    "\n",
    "print(X.shape)"
   ]
  },
  {
   "cell_type": "code",
   "execution_count": null,
   "metadata": {
    "colab": {
     "base_uri": "https://localhost:8080/"
    },
    "id": "RbhnzaPt_tbQ",
    "outputId": "b7a48333-e93a-4648-95c2-4ee43ada9661"
   },
   "outputs": [
    {
     "data": {
      "text/plain": [
       "array(['and', 'document', 'first', 'is', 'one', 'second', 'the', 'third',\n",
       "       'this'], dtype=object)"
      ]
     },
     "execution_count": 8,
     "metadata": {},
     "output_type": "execute_result"
    }
   ],
   "source": [
    "feature_names"
   ]
  },
  {
   "cell_type": "code",
   "execution_count": null,
   "metadata": {
    "colab": {
     "base_uri": "https://localhost:8080/"
    },
    "id": "NvVS4fdr_2yV",
    "outputId": "9f9cfce6-1e57-4624-a97d-1fe5494ba35d"
   },
   "outputs": [
    {
     "data": {
      "text/plain": [
       "matrix([[0.        , 0.46979139, 0.58028582, 0.38408524, 0.        ,\n",
       "         0.        , 0.38408524, 0.        , 0.38408524],\n",
       "        [0.        , 0.6876236 , 0.        , 0.28108867, 0.        ,\n",
       "         0.53864762, 0.28108867, 0.        , 0.28108867],\n",
       "        [0.51184851, 0.        , 0.        , 0.26710379, 0.51184851,\n",
       "         0.        , 0.26710379, 0.51184851, 0.26710379],\n",
       "        [0.        , 0.46979139, 0.58028582, 0.38408524, 0.        ,\n",
       "         0.        , 0.38408524, 0.        , 0.38408524]])"
      ]
     },
     "execution_count": 12,
     "metadata": {},
     "output_type": "execute_result"
    }
   ],
   "source": [
    "X.todense()"
   ]
  },
  {
   "cell_type": "code",
   "execution_count": null,
   "metadata": {
    "id": "Mtv35rzgAG2c"
   },
   "outputs": [],
   "source": []
  },
  {
   "cell_type": "code",
   "execution_count": null,
   "metadata": {
    "id": "ZkdDH6S5LJFx"
   },
   "outputs": [],
   "source": []
  },
  {
   "cell_type": "code",
   "execution_count": null,
   "metadata": {
    "id": "mDfutRRbLOGn"
   },
   "outputs": [],
   "source": []
  },
  {
   "cell_type": "code",
   "execution_count": null,
   "metadata": {
    "id": "92WdjijSLOj2"
   },
   "outputs": [],
   "source": []
  },
  {
   "cell_type": "code",
   "execution_count": null,
   "metadata": {
    "id": "o0GgTc6MLOse"
   },
   "outputs": [],
   "source": []
  },
  {
   "cell_type": "code",
   "execution_count": null,
   "metadata": {
    "id": "-EO7tMTULOzR"
   },
   "outputs": [],
   "source": []
  },
  {
   "cell_type": "code",
   "execution_count": null,
   "metadata": {
    "id": "tqgCXd7ZLO7k"
   },
   "outputs": [],
   "source": []
  },
  {
   "cell_type": "code",
   "execution_count": null,
   "metadata": {
    "id": "rtR0b2N9LPDz"
   },
   "outputs": [],
   "source": []
  },
  {
   "cell_type": "code",
   "execution_count": null,
   "metadata": {
    "id": "jmNREpkMLPMJ"
   },
   "outputs": [],
   "source": []
  },
  {
   "cell_type": "code",
   "execution_count": null,
   "metadata": {
    "id": "mSXKRwWeLPWs"
   },
   "outputs": [],
   "source": [
    "import math"
   ]
  },
  {
   "cell_type": "code",
   "execution_count": null,
   "metadata": {
    "id": "dBCSe0vnLPjs"
   },
   "outputs": [],
   "source": []
  },
  {
   "cell_type": "code",
   "execution_count": null,
   "metadata": {
    "id": "YoleMTIDLPtZ"
   },
   "outputs": [],
   "source": [
    "corpus = [\n",
    "    \"Ala ma kota, wybierają się na wakacje.\",\n",
    "    \"Bartosz ma psa. Jego pies nazywa się Kubuś. Kubuś dobrze aportuje\",\n",
    "    \"Stanisław lubi spędzać wakacje nad morzem, stanisław ma psa Reksia\",\n",
    "]"
   ]
  },
  {
   "cell_type": "code",
   "execution_count": null,
   "metadata": {
    "id": "WSo7zS15LP2e"
   },
   "outputs": [],
   "source": [
    "corpus = [\n",
    "    t.replace(',', '').replace('.', '')  for t in corpus\n",
    "]"
   ]
  },
  {
   "cell_type": "code",
   "execution_count": null,
   "metadata": {
    "colab": {
     "base_uri": "https://localhost:8080/"
    },
    "id": "3-ZXGDIdLQBL",
    "outputId": "8f15c332-4ab5-4e5e-cd0f-96218393b2c9"
   },
   "outputs": [
    {
     "data": {
      "text/plain": [
       "['Ala ma kota wybierają się na wakacje',\n",
       " 'Bartosz ma psa Jego pies nazywa się Kubuś Kubuś dobrze aportuje',\n",
       " 'Stanisław lubi spędzać wakacje nad morzem stanisław ma psa Reksia']"
      ]
     },
     "execution_count": 4,
     "metadata": {},
     "output_type": "execute_result"
    }
   ],
   "source": [
    "corpus"
   ]
  },
  {
   "cell_type": "code",
   "execution_count": null,
   "metadata": {
    "id": "vnCMF78oLQJa"
   },
   "outputs": [],
   "source": [
    "corpus = [\n",
    "    t.lower() for t in corpus\n",
    "]"
   ]
  },
  {
   "cell_type": "code",
   "execution_count": null,
   "metadata": {
    "colab": {
     "base_uri": "https://localhost:8080/"
    },
    "id": "d6UNxWonLQU3",
    "outputId": "81e601bb-c9ad-43a3-e7fa-01cd383664a7"
   },
   "outputs": [
    {
     "data": {
      "text/plain": [
       "['ala ma kota wybierają się na wakacje',\n",
       " 'bartosz ma psa jego pies nazywa się kubuś kubuś dobrze aportuje',\n",
       " 'stanisław lubi spędzać wakacje nad morzem stanisław ma psa reksia']"
      ]
     },
     "execution_count": 6,
     "metadata": {},
     "output_type": "execute_result"
    }
   ],
   "source": [
    "corpus"
   ]
  },
  {
   "cell_type": "code",
   "execution_count": null,
   "metadata": {
    "id": "s_-EVnwXLQjO"
   },
   "outputs": [],
   "source": [
    "corpus_splitted = []\n",
    "for text in corpus:\n",
    "  word_list = text.split(' ')\n",
    "  corpus_splitted.append(word_list)"
   ]
  },
  {
   "cell_type": "code",
   "execution_count": null,
   "metadata": {
    "colab": {
     "base_uri": "https://localhost:8080/"
    },
    "id": "P9CseNuiOMhx",
    "outputId": "26d331e2-627f-4a30-faf6-009b3d688d77"
   },
   "outputs": [
    {
     "data": {
      "text/plain": [
       "3"
      ]
     },
     "execution_count": 8,
     "metadata": {},
     "output_type": "execute_result"
    }
   ],
   "source": [
    "len(corpus_splitted)"
   ]
  },
  {
   "cell_type": "code",
   "execution_count": null,
   "metadata": {
    "id": "owAG_wjlONq-"
   },
   "outputs": [],
   "source": [
    "corpus = corpus_splitted"
   ]
  },
  {
   "cell_type": "code",
   "execution_count": null,
   "metadata": {
    "colab": {
     "base_uri": "https://localhost:8080/"
    },
    "id": "axw5_oFcOhJb",
    "outputId": "7b17764c-69e9-42a6-dc41-211848fde663"
   },
   "outputs": [
    {
     "data": {
      "text/plain": [
       "[['ala', 'ma', 'kota', 'wybierają', 'się', 'na', 'wakacje'],\n",
       " ['bartosz',\n",
       "  'ma',\n",
       "  'psa',\n",
       "  'jego',\n",
       "  'pies',\n",
       "  'nazywa',\n",
       "  'się',\n",
       "  'kubuś',\n",
       "  'kubuś',\n",
       "  'dobrze',\n",
       "  'aportuje'],\n",
       " ['stanisław',\n",
       "  'lubi',\n",
       "  'spędzać',\n",
       "  'wakacje',\n",
       "  'nad',\n",
       "  'morzem',\n",
       "  'stanisław',\n",
       "  'ma',\n",
       "  'psa',\n",
       "  'reksia']]"
      ]
     },
     "execution_count": 10,
     "metadata": {},
     "output_type": "execute_result"
    }
   ],
   "source": [
    "corpus"
   ]
  },
  {
   "cell_type": "code",
   "execution_count": null,
   "metadata": {
    "id": "M0zhFEk_QSCl"
   },
   "outputs": [],
   "source": []
  },
  {
   "cell_type": "code",
   "execution_count": null,
   "metadata": {
    "id": "0WkEq2UFQS_V"
   },
   "outputs": [],
   "source": [
    "list_of_all_words = []"
   ]
  },
  {
   "cell_type": "code",
   "execution_count": null,
   "metadata": {
    "colab": {
     "base_uri": "https://localhost:8080/"
    },
    "id": "KsadSv82QTg-",
    "outputId": "85937950-1d64-47aa-ba23-a6c0a23b744d"
   },
   "outputs": [
    {
     "data": {
      "text/plain": [
       "[]"
      ]
     },
     "execution_count": 12,
     "metadata": {},
     "output_type": "execute_result"
    }
   ],
   "source": [
    "list_of_all_words"
   ]
  },
  {
   "cell_type": "code",
   "execution_count": null,
   "metadata": {
    "id": "5F2oHM7qQToQ"
   },
   "outputs": [],
   "source": [
    "from itertools import chain"
   ]
  },
  {
   "cell_type": "code",
   "execution_count": null,
   "metadata": {
    "colab": {
     "base_uri": "https://localhost:8080/"
    },
    "id": "eakAvNxwQhOr",
    "outputId": "0e557edb-928a-4fee-ed67-fd91361cff9b"
   },
   "outputs": [
    {
     "data": {
      "text/plain": [
       "['ala',\n",
       " 'ma',\n",
       " 'kota',\n",
       " 'wybierają',\n",
       " 'się',\n",
       " 'na',\n",
       " 'wakacje',\n",
       " 'bartosz',\n",
       " 'ma',\n",
       " 'psa',\n",
       " 'jego',\n",
       " 'pies',\n",
       " 'nazywa',\n",
       " 'się',\n",
       " 'kubuś',\n",
       " 'kubuś',\n",
       " 'dobrze',\n",
       " 'aportuje',\n",
       " 'stanisław',\n",
       " 'lubi',\n",
       " 'spędzać',\n",
       " 'wakacje',\n",
       " 'nad',\n",
       " 'morzem',\n",
       " 'stanisław',\n",
       " 'ma',\n",
       " 'psa',\n",
       " 'reksia']"
      ]
     },
     "execution_count": 14,
     "metadata": {},
     "output_type": "execute_result"
    }
   ],
   "source": [
    "list(chain(*corpus))"
   ]
  },
  {
   "cell_type": "code",
   "execution_count": null,
   "metadata": {
    "id": "QQDll5Z-Qg8i"
   },
   "outputs": [],
   "source": []
  },
  {
   "cell_type": "code",
   "execution_count": null,
   "metadata": {
    "id": "MoeqzUPrQgo-"
   },
   "outputs": [],
   "source": []
  },
  {
   "cell_type": "code",
   "execution_count": null,
   "metadata": {
    "id": "SAulC0LbQTtG"
   },
   "outputs": [],
   "source": []
  },
  {
   "cell_type": "code",
   "execution_count": null,
   "metadata": {
    "id": "sq1EmrjFPhh7"
   },
   "outputs": [],
   "source": [
    "list_of_all_words = []\n",
    "for word_list in corpus:\n",
    "  list_of_all_words += word_list\n"
   ]
  },
  {
   "cell_type": "code",
   "execution_count": null,
   "metadata": {
    "id": "EFBQuYmtPgnA"
   },
   "outputs": [],
   "source": [
    "list_of_all_words = list(set(list_of_all_words))"
   ]
  },
  {
   "cell_type": "code",
   "execution_count": null,
   "metadata": {
    "colab": {
     "base_uri": "https://localhost:8080/"
    },
    "id": "F_Z2ey_LP4KH",
    "outputId": "a05f315f-1db6-4dd5-fdbe-76552681e2fd"
   },
   "outputs": [
    {
     "data": {
      "text/plain": [
       "['kubuś',\n",
       " 'pies',\n",
       " 'kota',\n",
       " 'morzem',\n",
       " 'ma',\n",
       " 'wybierają',\n",
       " 'psa',\n",
       " 'się',\n",
       " 'na',\n",
       " 'dobrze',\n",
       " 'lubi',\n",
       " 'nazywa',\n",
       " 'nad',\n",
       " 'spędzać',\n",
       " 'bartosz',\n",
       " 'jego',\n",
       " 'stanisław',\n",
       " 'ala',\n",
       " 'wakacje',\n",
       " 'reksia',\n",
       " 'aportuje']"
      ]
     },
     "execution_count": 17,
     "metadata": {},
     "output_type": "execute_result"
    }
   ],
   "source": [
    "list_of_all_words"
   ]
  },
  {
   "cell_type": "code",
   "execution_count": null,
   "metadata": {
    "colab": {
     "base_uri": "https://localhost:8080/"
    },
    "id": "XYOFRmpUP4WN",
    "outputId": "e52490e7-c7d7-4db3-cacf-cae93368483c"
   },
   "outputs": [
    {
     "data": {
      "text/plain": [
       "21"
      ]
     },
     "execution_count": 18,
     "metadata": {},
     "output_type": "execute_result"
    }
   ],
   "source": [
    "len(list_of_all_words)"
   ]
  },
  {
   "cell_type": "code",
   "execution_count": null,
   "metadata": {
    "id": "rtCmUbG0SPMQ"
   },
   "outputs": [],
   "source": [
    "from typing import List"
   ]
  },
  {
   "cell_type": "code",
   "execution_count": null,
   "metadata": {
    "id": "jRMHGGo6RxVK"
   },
   "outputs": [],
   "source": [
    "def num_occurrances(word: str, text: List[str]):\n",
    "  n = 0\n",
    "  for w2 in text:\n",
    "    if w2 == word:\n",
    "      n += 1\n",
    "  return n\n"
   ]
  },
  {
   "cell_type": "code",
   "execution_count": null,
   "metadata": {
    "id": "K4WTc4noOlRK"
   },
   "outputs": [],
   "source": [
    "def num_of_words_vectorizer(text, list_of_all_words):\n",
    "  vector = [0]*len(list_of_all_words)\n",
    "  for i, word in enumerate(list_of_all_words):\n",
    "    n = num_occurrances(word, text)\n",
    "    vector[i] = n\n",
    "  return vector"
   ]
  },
  {
   "cell_type": "code",
   "execution_count": null,
   "metadata": {
    "id": "v5hBVjJ2Om-D"
   },
   "outputs": [],
   "source": [
    "vector = num_of_words_vectorizer(corpus[2], list_of_all_words)"
   ]
  },
  {
   "cell_type": "code",
   "execution_count": null,
   "metadata": {
    "colab": {
     "base_uri": "https://localhost:8080/"
    },
    "id": "u6toiCW0OnFT",
    "outputId": "36357e17-aeea-4459-c02c-27108681809a"
   },
   "outputs": [
    {
     "data": {
      "text/plain": [
       "[0, 0, 0, 1, 1, 0, 1, 0, 0, 0, 1, 0, 1, 1, 0, 0, 2, 0, 1, 1, 0]"
      ]
     },
     "execution_count": 25,
     "metadata": {},
     "output_type": "execute_result"
    }
   ],
   "source": [
    "vector"
   ]
  },
  {
   "cell_type": "code",
   "execution_count": null,
   "metadata": {
    "colab": {
     "base_uri": "https://localhost:8080/"
    },
    "id": "tvEGFjaxOnNk",
    "outputId": "a41b6729-4dd0-4257-8ac9-29899eedd529"
   },
   "outputs": [
    {
     "name": "stdout",
     "output_type": "stream",
     "text": [
      "1 morzem\n",
      "1 ma\n",
      "1 psa\n",
      "1 lubi\n",
      "1 nad\n",
      "1 spędzać\n",
      "2 stanisław\n",
      "1 wakacje\n",
      "1 reksia\n"
     ]
    }
   ],
   "source": [
    "for word, count in zip(list_of_all_words, vector):\n",
    "  if count > 0:\n",
    "    print(count, word)"
   ]
  },
  {
   "cell_type": "code",
   "execution_count": null,
   "metadata": {
    "colab": {
     "base_uri": "https://localhost:8080/"
    },
    "id": "h5CfAdhzOnV8",
    "outputId": "fab3b61e-e638-4fdd-d3cf-9efedc55da97"
   },
   "outputs": [
    {
     "data": {
      "text/plain": [
       "['stanisław',\n",
       " 'lubi',\n",
       " 'spędzać',\n",
       " 'wakacje',\n",
       " 'nad',\n",
       " 'morzem',\n",
       " 'stanisław',\n",
       " 'ma',\n",
       " 'psa',\n",
       " 'reksia']"
      ]
     },
     "execution_count": 27,
     "metadata": {},
     "output_type": "execute_result"
    }
   ],
   "source": [
    "corpus[2]"
   ]
  },
  {
   "cell_type": "code",
   "execution_count": null,
   "metadata": {
    "id": "R615MiLQOney"
   },
   "outputs": [],
   "source": [
    "def tf_vectorizer(text, list_of_all_words):\n",
    "  vector = num_of_words_vectorizer(text, list_of_all_words)\n",
    "  num_words = len(text)\n",
    "  tf_vector = [n/num_words for n in vector]\n",
    "  return tf_vector"
   ]
  },
  {
   "cell_type": "code",
   "execution_count": null,
   "metadata": {
    "id": "T8LxK8sVOnpO"
   },
   "outputs": [],
   "source": [
    "tf_vector = tf_vectorizer(corpus[2], list_of_all_words)"
   ]
  },
  {
   "cell_type": "code",
   "execution_count": null,
   "metadata": {
    "colab": {
     "base_uri": "https://localhost:8080/"
    },
    "id": "VMMNpYTaOnzS",
    "outputId": "9d5f97ae-df73-4724-8633-c8a121ea75f3"
   },
   "outputs": [
    {
     "data": {
      "text/plain": [
       "[0.0,\n",
       " 0.0,\n",
       " 0.0,\n",
       " 0.1,\n",
       " 0.1,\n",
       " 0.0,\n",
       " 0.1,\n",
       " 0.0,\n",
       " 0.0,\n",
       " 0.0,\n",
       " 0.1,\n",
       " 0.0,\n",
       " 0.1,\n",
       " 0.1,\n",
       " 0.0,\n",
       " 0.0,\n",
       " 0.2,\n",
       " 0.0,\n",
       " 0.1,\n",
       " 0.1,\n",
       " 0.0]"
      ]
     },
     "execution_count": 30,
     "metadata": {},
     "output_type": "execute_result"
    }
   ],
   "source": [
    "tf_vector"
   ]
  },
  {
   "cell_type": "code",
   "execution_count": null,
   "metadata": {
    "colab": {
     "base_uri": "https://localhost:8080/"
    },
    "id": "zuK0coBsU_e1",
    "outputId": "89dfe123-b257-49d4-8567-5a4c729a2d6c"
   },
   "outputs": [
    {
     "data": {
      "text/plain": [
       "10"
      ]
     },
     "execution_count": 31,
     "metadata": {},
     "output_type": "execute_result"
    }
   ],
   "source": [
    "len(corpus[2])"
   ]
  },
  {
   "cell_type": "code",
   "execution_count": null,
   "metadata": {
    "id": "tE8qIVVIVCdF"
   },
   "outputs": [],
   "source": [
    "def df(word: str, corpus: List[List[str]]):\n",
    "    n = 0\n",
    "    for text in corpus:\n",
    "      if word in text:\n",
    "        n += 1\n",
    "    return n"
   ]
  },
  {
   "cell_type": "code",
   "execution_count": null,
   "metadata": {
    "id": "L5f3d14nIkNL"
   },
   "outputs": [],
   "source": [
    "def idf(word: str, corpus: List[List[str]]):\n",
    "  df_value = df(word, corpus)\n",
    "  n = len(corpus)\n",
    "  idf = math.log(n/df_value)\n",
    "  return idf"
   ]
  },
  {
   "cell_type": "code",
   "execution_count": null,
   "metadata": {
    "colab": {
     "base_uri": "https://localhost:8080/",
     "height": 35
    },
    "id": "NEoQWvQIKVPv",
    "outputId": "1ef60e27-25f1-4cce-d3c6-0d7c91b15e6c"
   },
   "outputs": [
    {
     "data": {
      "application/vnd.google.colaboratory.intrinsic+json": {
       "type": "string"
      },
      "text/plain": [
       "'ma'"
      ]
     },
     "execution_count": 64,
     "metadata": {},
     "output_type": "execute_result"
    }
   ],
   "source": [
    "list_of_all_words[4]"
   ]
  },
  {
   "cell_type": "code",
   "execution_count": null,
   "metadata": {
    "colab": {
     "base_uri": "https://localhost:8080/"
    },
    "id": "tNNh455fIm7m",
    "outputId": "5dce0280-9845-4e1b-adbf-933916fffdfa"
   },
   "outputs": [
    {
     "name": "stdout",
     "output_type": "stream",
     "text": [
      "kubuś 1.0986122886681098\n",
      "pies 1.0986122886681098\n",
      "kota 1.0986122886681098\n",
      "morzem 1.0986122886681098\n",
      "ma 0.0\n",
      "wybierają 1.0986122886681098\n",
      "psa 0.4054651081081644\n",
      "się 0.4054651081081644\n",
      "na 1.0986122886681098\n",
      "dobrze 1.0986122886681098\n",
      "lubi 1.0986122886681098\n",
      "nazywa 1.0986122886681098\n",
      "nad 1.0986122886681098\n",
      "spędzać 1.0986122886681098\n",
      "bartosz 1.0986122886681098\n",
      "jego 1.0986122886681098\n",
      "stanisław 1.0986122886681098\n",
      "ala 1.0986122886681098\n",
      "wakacje 0.4054651081081644\n",
      "reksia 1.0986122886681098\n",
      "aportuje 1.0986122886681098\n"
     ]
    }
   ],
   "source": [
    "for word in list_of_all_words:\n",
    "    print(word, idf(word, corpus))"
   ]
  },
  {
   "cell_type": "code",
   "execution_count": null,
   "metadata": {
    "colab": {
     "base_uri": "https://localhost:8080/"
    },
    "id": "D8uDVI8SJyjA",
    "outputId": "2ceeefa3-0f11-4c91-85bd-068ab3b5dd09"
   },
   "outputs": [
    {
     "name": "stdout",
     "output_type": "stream",
     "text": [
      "slowo kubuś wystepuje w 1 dokumentach\n",
      "slowo pies wystepuje w 1 dokumentach\n",
      "slowo kota wystepuje w 1 dokumentach\n",
      "slowo morzem wystepuje w 1 dokumentach\n",
      "slowo ma wystepuje w 3 dokumentach\n",
      "slowo wybierają wystepuje w 1 dokumentach\n",
      "slowo psa wystepuje w 2 dokumentach\n",
      "slowo się wystepuje w 2 dokumentach\n",
      "slowo na wystepuje w 1 dokumentach\n",
      "slowo dobrze wystepuje w 1 dokumentach\n",
      "slowo lubi wystepuje w 1 dokumentach\n",
      "slowo nazywa wystepuje w 1 dokumentach\n",
      "slowo nad wystepuje w 1 dokumentach\n",
      "slowo spędzać wystepuje w 1 dokumentach\n",
      "slowo bartosz wystepuje w 1 dokumentach\n",
      "slowo jego wystepuje w 1 dokumentach\n",
      "slowo stanisław wystepuje w 1 dokumentach\n",
      "slowo ala wystepuje w 1 dokumentach\n",
      "slowo wakacje wystepuje w 2 dokumentach\n",
      "slowo reksia wystepuje w 1 dokumentach\n",
      "slowo aportuje wystepuje w 1 dokumentach\n"
     ]
    }
   ],
   "source": [
    "for word in list_of_all_words:\n",
    "  document_frequency = df(word, corpus)\n",
    "  print(f'slowo {word} wystepuje w {document_frequency} dokumentach')"
   ]
  },
  {
   "cell_type": "code",
   "execution_count": null,
   "metadata": {
    "id": "Aj84Kdu_NGaF"
   },
   "outputs": [],
   "source": []
  },
  {
   "cell_type": "code",
   "execution_count": null,
   "metadata": {
    "id": "SRXowvQfNGg8"
   },
   "outputs": [],
   "source": [
    "def tf_idf(\n",
    "    word: str,\n",
    "    corpus: List[List[str]],\n",
    "    text: str,\n",
    "    list_of_all_words: List[str]\n",
    "):\n",
    "  tf_vector = tf_vectorizer(text, list_of_all_words)\n",
    "  tf_value = tf_vector[list_of_all_words.index(word)]\n",
    "  idf_value = idf(word, corpus)\n",
    "  return tf_value * idf_value"
   ]
  },
  {
   "cell_type": "code",
   "execution_count": null,
   "metadata": {
    "colab": {
     "base_uri": "https://localhost:8080/"
    },
    "id": "mm6efRk3NGmy",
    "outputId": "48f2e530-5870-4022-e250-cc794d795fd8"
   },
   "outputs": [
    {
     "name": "stdout",
     "output_type": "stream",
     "text": [
      "ala 0.15694461266687282\n",
      "ma 0.0\n",
      "kota 0.15694461266687282\n",
      "wybierają 0.15694461266687282\n",
      "się 0.05792358687259491\n",
      "na 0.15694461266687282\n",
      "wakacje 0.05792358687259491\n"
     ]
    }
   ],
   "source": [
    "for word in corpus[0]:\n",
    "    print(word, tf_idf(word, corpus, corpus[0], list_of_all_words))"
   ]
  },
  {
   "cell_type": "code",
   "execution_count": null,
   "metadata": {
    "id": "OqUTIHtQQr8Z"
   },
   "outputs": [],
   "source": [
    "def tf_idf_vectorizer(text: List[str], corpus: List[List[str]], list_of_all_words: List[str]):\n",
    "  tf_idf_vector = [0]*len(list_of_all_words)\n",
    "  for word in text:\n",
    "      tf_idf_value = tf_idf(word, corpus, text, list_of_all_words)\n",
    "      tf_idf_vector[list_of_all_words.index(word)] = tf_idf_value\n",
    "  return tf_idf_vector"
   ]
  },
  {
   "cell_type": "code",
   "execution_count": null,
   "metadata": {
    "id": "0uDD1WhEQryR"
   },
   "outputs": [],
   "source": []
  },
  {
   "cell_type": "code",
   "execution_count": null,
   "metadata": {
    "colab": {
     "base_uri": "https://localhost:8080/"
    },
    "id": "Z_uss9WyQrlX",
    "outputId": "a6dfb732-3ebf-4efa-be87-1eefefc3e07d"
   },
   "outputs": [
    {
     "name": "stdout",
     "output_type": "stream",
     "text": [
      "[0, 0, 0.15694461266687282, 0, 0.0, 0.15694461266687282, 0, 0.05792358687259491, 0.15694461266687282, 0, 0, 0, 0, 0, 0, 0, 0, 0.15694461266687282, 0.05792358687259491, 0, 0]\n"
     ]
    }
   ],
   "source": [
    "tf_idf_vector = tf_idf_vectorizer(corpus[0], corpus, list_of_all_words)\n",
    "print(tf_idf_vector)"
   ]
  },
  {
   "cell_type": "code",
   "execution_count": null,
   "metadata": {
    "colab": {
     "base_uri": "https://localhost:8080/"
    },
    "id": "S_ZB1qccQoJS",
    "outputId": "33841897-afeb-4f60-fe0f-ba85d0086e16"
   },
   "outputs": [
    {
     "name": "stdout",
     "output_type": "stream",
     "text": [
      "TF-IDF dla slowa   kubuś  w tekscie  ['ala', 'ma', 'kota', 'wybierają', 'się', 'na', 'wakacje']  wynosi 0\n",
      "TF-IDF dla slowa   pies  w tekscie  ['ala', 'ma', 'kota', 'wybierają', 'się', 'na', 'wakacje']  wynosi 0\n",
      "TF-IDF dla slowa   kota  w tekscie  ['ala', 'ma', 'kota', 'wybierają', 'się', 'na', 'wakacje']  wynosi 0.15694461266687282\n",
      "TF-IDF dla slowa   morzem  w tekscie  ['ala', 'ma', 'kota', 'wybierają', 'się', 'na', 'wakacje']  wynosi 0\n",
      "TF-IDF dla slowa   ma  w tekscie  ['ala', 'ma', 'kota', 'wybierają', 'się', 'na', 'wakacje']  wynosi 0.0\n",
      "TF-IDF dla slowa   wybierają  w tekscie  ['ala', 'ma', 'kota', 'wybierają', 'się', 'na', 'wakacje']  wynosi 0.15694461266687282\n",
      "TF-IDF dla slowa   psa  w tekscie  ['ala', 'ma', 'kota', 'wybierają', 'się', 'na', 'wakacje']  wynosi 0\n",
      "TF-IDF dla slowa   się  w tekscie  ['ala', 'ma', 'kota', 'wybierają', 'się', 'na', 'wakacje']  wynosi 0.05792358687259491\n",
      "TF-IDF dla slowa   na  w tekscie  ['ala', 'ma', 'kota', 'wybierają', 'się', 'na', 'wakacje']  wynosi 0.15694461266687282\n",
      "TF-IDF dla slowa   dobrze  w tekscie  ['ala', 'ma', 'kota', 'wybierają', 'się', 'na', 'wakacje']  wynosi 0\n",
      "TF-IDF dla slowa   lubi  w tekscie  ['ala', 'ma', 'kota', 'wybierają', 'się', 'na', 'wakacje']  wynosi 0\n",
      "TF-IDF dla slowa   nazywa  w tekscie  ['ala', 'ma', 'kota', 'wybierają', 'się', 'na', 'wakacje']  wynosi 0\n",
      "TF-IDF dla slowa   nad  w tekscie  ['ala', 'ma', 'kota', 'wybierają', 'się', 'na', 'wakacje']  wynosi 0\n",
      "TF-IDF dla slowa   spędzać  w tekscie  ['ala', 'ma', 'kota', 'wybierają', 'się', 'na', 'wakacje']  wynosi 0\n",
      "TF-IDF dla slowa   bartosz  w tekscie  ['ala', 'ma', 'kota', 'wybierają', 'się', 'na', 'wakacje']  wynosi 0\n",
      "TF-IDF dla slowa   jego  w tekscie  ['ala', 'ma', 'kota', 'wybierają', 'się', 'na', 'wakacje']  wynosi 0\n",
      "TF-IDF dla slowa   stanisław  w tekscie  ['ala', 'ma', 'kota', 'wybierają', 'się', 'na', 'wakacje']  wynosi 0\n",
      "TF-IDF dla slowa   ala  w tekscie  ['ala', 'ma', 'kota', 'wybierają', 'się', 'na', 'wakacje']  wynosi 0.15694461266687282\n",
      "TF-IDF dla slowa   wakacje  w tekscie  ['ala', 'ma', 'kota', 'wybierają', 'się', 'na', 'wakacje']  wynosi 0.05792358687259491\n",
      "TF-IDF dla slowa   reksia  w tekscie  ['ala', 'ma', 'kota', 'wybierają', 'się', 'na', 'wakacje']  wynosi 0\n",
      "TF-IDF dla slowa   aportuje  w tekscie  ['ala', 'ma', 'kota', 'wybierają', 'się', 'na', 'wakacje']  wynosi 0\n"
     ]
    }
   ],
   "source": [
    "for word, value in zip(list_of_all_words, tf_idf_vector):\n",
    "  print(f'TF-IDF dla slowa   {word}  w tekscie  {corpus[0]}  wynosi {value}')"
   ]
  },
  {
   "cell_type": "code",
   "execution_count": null,
   "metadata": {
    "id": "76JOeJbYTG3g"
   },
   "outputs": [],
   "source": []
  },
  {
   "cell_type": "code",
   "execution_count": null,
   "metadata": {
    "id": "sozidUdQTHBt"
   },
   "outputs": [],
   "source": []
  },
  {
   "cell_type": "code",
   "execution_count": null,
   "metadata": {
    "id": "lUQV32FGTHK-"
   },
   "outputs": [],
   "source": []
  },
  {
   "cell_type": "code",
   "execution_count": null,
   "metadata": {
    "id": "RXgMQGPVTHUP"
   },
   "outputs": [],
   "source": []
  },
  {
   "cell_type": "code",
   "execution_count": null,
   "metadata": {
    "id": "naXwwvyQTHqC"
   },
   "outputs": [],
   "source": []
  },
  {
   "cell_type": "code",
   "execution_count": null,
   "metadata": {
    "id": "FpSV-Cz4RT0C"
   },
   "outputs": [],
   "source": []
  },
  {
   "cell_type": "code",
   "execution_count": null,
   "metadata": {
    "id": "grHb3Q1zRT_Q"
   },
   "outputs": [],
   "source": [
    "def add(a,b):\n",
    "   return a + b"
   ]
  },
  {
   "cell_type": "code",
   "execution_count": null,
   "metadata": {
    "id": "fk1ODJ6tRUKV"
   },
   "outputs": [],
   "source": [
    "def test_add():\n",
    "  test_a = 9\n",
    "  test_b = 12\n",
    "  expected_result = 21\n",
    "  actual_result = add(test_a, test_b)\n",
    "  if expected_result != actual_result:\n",
    "    raise Exception(f'Powinno byc {expected_result}, a jest {actual_result}')"
   ]
  },
  {
   "cell_type": "code",
   "execution_count": null,
   "metadata": {
    "id": "RgvVx0ZVRUYN"
   },
   "outputs": [],
   "source": [
    "test_add()"
   ]
  },
  {
   "cell_type": "code",
   "execution_count": null,
   "metadata": {
    "id": "qxPLRUC9RUmz"
   },
   "outputs": [],
   "source": []
  },
  {
   "cell_type": "code",
   "execution_count": null,
   "metadata": {
    "id": "_gQdqs4-RU2G"
   },
   "outputs": [],
   "source": []
  },
  {
   "cell_type": "code",
   "execution_count": null,
   "metadata": {
    "id": "cANICsScNGtU"
   },
   "outputs": [],
   "source": [
    "lista_test = ['ala', 'ma', 'kota', 'kot', 'chwycil', 'mysz']"
   ]
  },
  {
   "cell_type": "code",
   "execution_count": null,
   "metadata": {
    "colab": {
     "base_uri": "https://localhost:8080/"
    },
    "id": "NjpbQKznNGzr",
    "outputId": "1416d97c-ac3d-4022-886a-aa93392117d3"
   },
   "outputs": [
    {
     "data": {
      "text/plain": [
       "4"
      ]
     },
     "execution_count": 69,
     "metadata": {},
     "output_type": "execute_result"
    }
   ],
   "source": [
    "lista_test.index('chwycil')"
   ]
  },
  {
   "cell_type": "code",
   "execution_count": null,
   "metadata": {
    "id": "_2n1KKc9PuRA"
   },
   "outputs": [],
   "source": []
  }
 ],
 "metadata": {
  "colab": {
   "provenance": []
  },
  "kernelspec": {
   "display_name": "Python 3 (ipykernel)",
   "language": "python",
   "name": "python3"
  },
  "language_info": {
   "codemirror_mode": {
    "name": "ipython",
    "version": 3
   },
   "file_extension": ".py",
   "mimetype": "text/x-python",
   "name": "python",
   "nbconvert_exporter": "python",
   "pygments_lexer": "ipython3",
   "version": "3.11.2"
  }
 },
 "nbformat": 4,
 "nbformat_minor": 1
}
