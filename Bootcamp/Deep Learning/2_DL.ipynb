{
  "cells": [
    {
      "cell_type": "code",
      "execution_count": null,
      "metadata": {
        "colab": {
          "base_uri": "https://localhost:8080/",
          "height": 35
        },
        "id": "swHNn-yE6pVA",
        "outputId": "df073292-4ece-4319-8f6c-6c2e01d478ab"
      },
      "outputs": [
        {
          "output_type": "execute_result",
          "data": {
            "text/plain": [
              "'2.12.0'"
            ],
            "application/vnd.google.colaboratory.intrinsic+json": {
              "type": "string"
            }
          },
          "metadata": {},
          "execution_count": 1
        }
      ],
      "source": [
        "import keras\n",
        "keras.__version__"
      ]
    },
    {
      "cell_type": "markdown",
      "metadata": {
        "id": "EJOEpnWc6pVH"
      },
      "source": [
        "# Nadmierne dopasowanie i zbyt słabe dopasowanie\n",
        "\n",
        "We wszystkich trzech zaprezentowanych wcześniej przykładach — przewidywaniu oceny filmu, klasyfikacji tematycznej i regresji ceny mieszkań — wydajność modelu podczas przetwarzania odłożonego na bok walidacyjnego zbioru danych zawsze po kilku epokach osiągała wartość szczytową, a następnie ulegała degradacji — modele zaczynały ulegać nadmiernemu dopasowaniu do danych treningowych. Do nadmiernego dopasowania może dojść podczas pracy nad dowolnym problemem uczenia maszynowego. Pracując z algorytmami uczenia maszynowego, musimy wiedzieć, jak radzić sobie z tym problemem.\n",
        "\n",
        "Podstawowym problemem uczenia maszynowego jest kompromis między optymalizacją a uogólnianiem. Optymalizacja jest procesem dostrajania modelu w celu uzyskania najlepszej możliwej wydajności na danych treningowych (jest to proces uczenia, od którego wzięła się nazwa uczenie maszynowe), a uogólnianie odwołuje się do tego, jak dobrze wytrenowany model sprawdza się podczas przetwarzania danych, których nigdy nie widział. Oczywiście chcemy uzyskać jak najlepszą zdolność modelu do uogólniania, ale nie mamy na to wpływu w sposób bezpośredni, ponieważ model możemy modyfikować tylko na danych treningowych.\n",
        "\n",
        "Na początku trenowania optymalizacja i uogólnianie są ze sobą skorelowane — im mniejsza strata na danych treningowych, tym mniejsza strata na danych testowych. Gdy taka sytuacja ma miejsce, mamy do czynienia ze zbyt słabym dopasowaniem — model może zostać lepiej dopasowany, ponieważ sieć nie dokonała jeszcze modelowania wszystkich wzorców znajdujących się w danych treningowych, ale po pewnej liczbie iteracji algorytmu przetwarzającego dane treningowe uogólnianie przestaje ulegać poprawie, a metryka walidacji przyjmuje wartość stałą lub pogarsza się — wówczas model zaczyna dopasowywać się nadmiernie, a więc zaczyna uczyć się wzorców, które są specyficzne dla danych treningowych i wprowadzają w błąd lub są nieprzydatne podczas przetwarzania nowych danych.\n",
        "\n",
        "Aby zapobiec uczeniu się przez model błędnych lub zbędnych wzorców treningowego zbioru danych, najlepiej jest zebrać więcej danych treningowych. To dość oczywiste, że model trenowany na większej liczbie obserwacji będzie zdolny do lepszego uogólniania. Jeśli takie rozwiązanie nie jest możliwe, możemy modulować ilość informacji, które model może przechowywać, lub dodać ograniczenia co do możliwości przechowywania informacji przez model. Jeżeli sieć może zapamiętać tylko niewielką liczbę wzorców, to proces optymalizacji wymusi skupienie się na najważniejszych wzorcach, które najprawdopodobniej lepiej sprawdzą się przy uogólnianiu.\n",
        "\n",
        "Proces walki z nadmiernym dopasowaniem określamy mianem regularyzacji. Chciałbym opisać najpopularniejsze techniki regularyzacji i zastosować je w praktyce w celu poprawy działania modelu klasyfikacji filmów opisanego w podrozdziale 3.4.\n"
      ]
    },
    {
      "cell_type": "markdown",
      "metadata": {
        "id": "nyy_iVMN6pVN"
      },
      "source": [
        "Uwaga: W charakterze zbioru walidacyjnego będziemy krozystać ze zbioru testowego IMDB. W tym przypadku nie jest to żadnym problemem.\n",
        "\n",
        "Przygotujmy dane do analizy korzystając z kodu przedstawionego w sekcji 3.5.:"
      ]
    },
    {
      "cell_type": "code",
      "source": [
        "from keras.datasets import imdb\n",
        "import numpy as np\n",
        "\n",
        "(train_data, train_labels), (test_data, test_labels) = imdb.load_data(num_words=10000)"
      ],
      "metadata": {
        "id": "MUOABjf-yaJo"
      },
      "execution_count": null,
      "outputs": []
    },
    {
      "cell_type": "code",
      "source": [
        "train_data.shape"
      ],
      "metadata": {
        "colab": {
          "base_uri": "https://localhost:8080/"
        },
        "id": "2SAzi2onzelj",
        "outputId": "1950a987-a903-47a2-b2d5-623f5a87d3ed"
      },
      "execution_count": null,
      "outputs": [
        {
          "output_type": "execute_result",
          "data": {
            "text/plain": [
              "(25000,)"
            ]
          },
          "metadata": {},
          "execution_count": 7
        }
      ]
    },
    {
      "cell_type": "code",
      "source": [
        "train_data[0]"
      ],
      "metadata": {
        "colab": {
          "base_uri": "https://localhost:8080/"
        },
        "id": "Fd3GXGFdydw6",
        "outputId": "a8c6eaa1-97e4-4343-a78b-3b331950faea"
      },
      "execution_count": null,
      "outputs": [
        {
          "output_type": "execute_result",
          "data": {
            "text/plain": [
              "[1,\n",
              " 14,\n",
              " 22,\n",
              " 16,\n",
              " 43,\n",
              " 530,\n",
              " 973,\n",
              " 1622,\n",
              " 1385,\n",
              " 65,\n",
              " 458,\n",
              " 4468,\n",
              " 66,\n",
              " 3941,\n",
              " 4,\n",
              " 173,\n",
              " 36,\n",
              " 256,\n",
              " 5,\n",
              " 25,\n",
              " 100,\n",
              " 43,\n",
              " 838,\n",
              " 112,\n",
              " 50,\n",
              " 670,\n",
              " 2,\n",
              " 9,\n",
              " 35,\n",
              " 480,\n",
              " 284,\n",
              " 5,\n",
              " 150,\n",
              " 4,\n",
              " 172,\n",
              " 112,\n",
              " 167,\n",
              " 2,\n",
              " 336,\n",
              " 385,\n",
              " 39,\n",
              " 4,\n",
              " 172,\n",
              " 4536,\n",
              " 1111,\n",
              " 17,\n",
              " 546,\n",
              " 38,\n",
              " 13,\n",
              " 447,\n",
              " 4,\n",
              " 192,\n",
              " 50,\n",
              " 16,\n",
              " 6,\n",
              " 147,\n",
              " 2025,\n",
              " 19,\n",
              " 14,\n",
              " 22,\n",
              " 4,\n",
              " 1920,\n",
              " 4613,\n",
              " 469,\n",
              " 4,\n",
              " 22,\n",
              " 71,\n",
              " 87,\n",
              " 12,\n",
              " 16,\n",
              " 43,\n",
              " 530,\n",
              " 38,\n",
              " 76,\n",
              " 15,\n",
              " 13,\n",
              " 1247,\n",
              " 4,\n",
              " 22,\n",
              " 17,\n",
              " 515,\n",
              " 17,\n",
              " 12,\n",
              " 16,\n",
              " 626,\n",
              " 18,\n",
              " 2,\n",
              " 5,\n",
              " 62,\n",
              " 386,\n",
              " 12,\n",
              " 8,\n",
              " 316,\n",
              " 8,\n",
              " 106,\n",
              " 5,\n",
              " 4,\n",
              " 2223,\n",
              " 5244,\n",
              " 16,\n",
              " 480,\n",
              " 66,\n",
              " 3785,\n",
              " 33,\n",
              " 4,\n",
              " 130,\n",
              " 12,\n",
              " 16,\n",
              " 38,\n",
              " 619,\n",
              " 5,\n",
              " 25,\n",
              " 124,\n",
              " 51,\n",
              " 36,\n",
              " 135,\n",
              " 48,\n",
              " 25,\n",
              " 1415,\n",
              " 33,\n",
              " 6,\n",
              " 22,\n",
              " 12,\n",
              " 215,\n",
              " 28,\n",
              " 77,\n",
              " 52,\n",
              " 5,\n",
              " 14,\n",
              " 407,\n",
              " 16,\n",
              " 82,\n",
              " 2,\n",
              " 8,\n",
              " 4,\n",
              " 107,\n",
              " 117,\n",
              " 5952,\n",
              " 15,\n",
              " 256,\n",
              " 4,\n",
              " 2,\n",
              " 7,\n",
              " 3766,\n",
              " 5,\n",
              " 723,\n",
              " 36,\n",
              " 71,\n",
              " 43,\n",
              " 530,\n",
              " 476,\n",
              " 26,\n",
              " 400,\n",
              " 317,\n",
              " 46,\n",
              " 7,\n",
              " 4,\n",
              " 2,\n",
              " 1029,\n",
              " 13,\n",
              " 104,\n",
              " 88,\n",
              " 4,\n",
              " 381,\n",
              " 15,\n",
              " 297,\n",
              " 98,\n",
              " 32,\n",
              " 2071,\n",
              " 56,\n",
              " 26,\n",
              " 141,\n",
              " 6,\n",
              " 194,\n",
              " 7486,\n",
              " 18,\n",
              " 4,\n",
              " 226,\n",
              " 22,\n",
              " 21,\n",
              " 134,\n",
              " 476,\n",
              " 26,\n",
              " 480,\n",
              " 5,\n",
              " 144,\n",
              " 30,\n",
              " 5535,\n",
              " 18,\n",
              " 51,\n",
              " 36,\n",
              " 28,\n",
              " 224,\n",
              " 92,\n",
              " 25,\n",
              " 104,\n",
              " 4,\n",
              " 226,\n",
              " 65,\n",
              " 16,\n",
              " 38,\n",
              " 1334,\n",
              " 88,\n",
              " 12,\n",
              " 16,\n",
              " 283,\n",
              " 5,\n",
              " 16,\n",
              " 4472,\n",
              " 113,\n",
              " 103,\n",
              " 32,\n",
              " 15,\n",
              " 16,\n",
              " 5345,\n",
              " 19,\n",
              " 178,\n",
              " 32]"
            ]
          },
          "metadata": {},
          "execution_count": 12
        }
      ]
    },
    {
      "cell_type": "code",
      "source": [
        "train_labels"
      ],
      "metadata": {
        "colab": {
          "base_uri": "https://localhost:8080/"
        },
        "id": "t-_xWJLyzG2A",
        "outputId": "a9e4a950-31cb-4700-c317-eabb621168e3"
      },
      "execution_count": null,
      "outputs": [
        {
          "output_type": "execute_result",
          "data": {
            "text/plain": [
              "array([1, 0, 0, ..., 0, 1, 0])"
            ]
          },
          "metadata": {},
          "execution_count": 6
        }
      ]
    },
    {
      "cell_type": "code",
      "execution_count": null,
      "metadata": {
        "collapsed": true,
        "id": "AdyTfzZ_6pVP"
      },
      "outputs": [],
      "source": [
        "def vectorize_sequences(sequences, dimension=10000):\n",
        "    # Create an all-zero matrix of shape (len(sequences), dimension)\n",
        "    results = np.zeros((len(sequences), dimension))\n",
        "    for i, sequence in enumerate(sequences):\n",
        "        results[i, sequence] = 1.  # set specific indices of results[i] to 1s\n",
        "    return results\n",
        "\n",
        "# Zbiór treningowy w postaci wektora.\n",
        "x_train = vectorize_sequences(train_data)\n",
        "# Zbiór testowy w postaci wektora.\n",
        "x_test = vectorize_sequences(test_data)\n",
        "# Etykiety w postaci wektorów.\n",
        "y_train = np.asarray(train_labels).astype('float32')\n",
        "y_test = np.asarray(test_labels).astype('float32')"
      ]
    },
    {
      "cell_type": "code",
      "source": [
        "x_train.shape"
      ],
      "metadata": {
        "colab": {
          "base_uri": "https://localhost:8080/"
        },
        "id": "3pkAXu_Y0jR0",
        "outputId": "3739c26a-0754-4d3b-e8ef-5a520568d191"
      },
      "execution_count": null,
      "outputs": [
        {
          "output_type": "execute_result",
          "data": {
            "text/plain": [
              "(25000, 10000)"
            ]
          },
          "metadata": {},
          "execution_count": 10
        }
      ]
    },
    {
      "cell_type": "code",
      "source": [
        "x_train[0]"
      ],
      "metadata": {
        "colab": {
          "base_uri": "https://localhost:8080/"
        },
        "id": "fYM8TAWs0pDI",
        "outputId": "b8d527e8-6925-49c8-f99a-92e2ace9eadf"
      },
      "execution_count": null,
      "outputs": [
        {
          "output_type": "execute_result",
          "data": {
            "text/plain": [
              "array([0., 1., 1., ..., 0., 0., 0.])"
            ]
          },
          "metadata": {},
          "execution_count": 11
        }
      ]
    },
    {
      "cell_type": "code",
      "source": [
        "y_train[0]"
      ],
      "metadata": {
        "colab": {
          "base_uri": "https://localhost:8080/"
        },
        "id": "9Jv5_Ljc02wM",
        "outputId": "967827a9-8412-4410-ffb0-0c7a0ded0692"
      },
      "execution_count": null,
      "outputs": [
        {
          "output_type": "execute_result",
          "data": {
            "text/plain": [
              "1.0"
            ]
          },
          "metadata": {},
          "execution_count": 13
        }
      ]
    },
    {
      "cell_type": "markdown",
      "metadata": {
        "id": "UsgYcGMm6pVR"
      },
      "source": [
        "# Zmniejszanie nadmiernego dopasowania\n",
        "\n",
        "## Redukcja rozmiaru sieci\n",
        "\n",
        "\n",
        "Najprostszym sposobem zapobiegania powstawaniu nadmiernego dopasowania jest zmniejszenie rozmiaru modelu: zmniejszenie liczby uczonych parametrów, na którą wpływa liczba warstw i liczba jednostek je tworzących. W uczeniu głębokim uczone parametry modelu często określa się mianem pojemności modelu. Model dysponujący większą liczbą parametrów charakteryzuje się większą pojemnością pamięci, a więc może łatwiej uczyć się doskonałego mapowania danych przypominającego swym działaniem słownik. Mapowanie takie nie ma żadnej zdolności uogólniania. Przykładowy model z 500 000 parametrów binarnych mógłby z łatwością nauczyć się klasy każdej cyfry wchodzącej w skład treningowego zbioru danych MNIST: każda z 50 000 cyfr mogłaby zostać opisana przy użyciu zaledwie 10 parametrów binarnych, ale taki model byłby zupełnie nieprzydatny podczas klasyfikacji nowych próbek. Musisz pamiętać o tym, że modele uczenia głębokiego mają tendencję do dopasowywania się do danych treningowych, ale Twoim celem jest osiągnięcie modelu zdolnego do jak najlepszych uogólnień, a nie modelu maksymalnie dopasowanego do danych treningowych.\n",
        "\n",
        "Jeżeli sieć dysponuje zbyt małą zdolnością zapamiętywania, to nie będzie w stanie tak łatwo nauczyć się bezpośredniego mapowania, a więc w celu minimalizacji strat będzie musiała uczyć się skompresowanych reprezentacji, co pozwoli modelowi nabyć umiejętności przewidywania, a o to nam właśnie chodzi. Jednocześnie należy pamiętać o tym, że modele powinny mieć na tyle dużo parametrów, aby nie ulec zbyt słabemu dopasowaniu — model nie powinien cierpieć z powodu braku możliwości zapamiętywania kolejnych cech. Trzeba znaleźć kompromis między zbyt dużą pojemnością a zbyt małą pojemnością.\n",
        "\n",
        "Niestety nie ma żadnego magicznego wzoru umożliwiającego określenie właściwej liczby warstw i odpowiednich rozmiarów poszczególnych warstw. W celu znalezienia modelu optymalnego z punktu widzenia analizowanych danych należy sprawdzić działanie zestawu różnych architektur (oczywiście trzeba to robić na zbiorze walidacyjnym, a nie testowym). Szukanie odpowiedniego modelu należy zacząć od niewielkiej liczby warstw i parametrów, a następnie zwiększać rozmiary istniejących warstw i stopniowo dodawać nowe, obserwując spadek wartości straty określanej w procesie walidacji.\n",
        "\n",
        "Spróbujmy zastosować to rozwiązanie w kontekście sieci klasyfikującej recenzje filmów. Oto kod oryginalnej sieci:\n"
      ]
    },
    {
      "cell_type": "code",
      "execution_count": null,
      "metadata": {
        "collapsed": true,
        "id": "e69zjDyG6pVU"
      },
      "outputs": [],
      "source": [
        "from keras import models\n",
        "from keras import layers\n",
        "\n",
        "original_model = models.Sequential()\n",
        "original_model.add(layers.Dense(16, activation='relu', input_shape=(10000,)))\n",
        "original_model.add(layers.Dense(16, activation='relu'))\n",
        "original_model.add(layers.Dense(1, activation='sigmoid'))\n",
        "\n",
        "original_model.compile(optimizer='rmsprop',\n",
        "                       loss='binary_crossentropy',\n",
        "                       metrics=['acc'])"
      ]
    },
    {
      "cell_type": "markdown",
      "metadata": {
        "id": "FDPNVhqD6pVV"
      },
      "source": [
        "Spróbujmy zastąpić ten model prostszą siecią neuronową:"
      ]
    },
    {
      "cell_type": "code",
      "execution_count": null,
      "metadata": {
        "collapsed": true,
        "id": "USEHBIF56pVW"
      },
      "outputs": [],
      "source": [
        "smaller_model = models.Sequential()\n",
        "smaller_model.add(layers.Dense(4, activation='relu', input_shape=(10000,)))\n",
        "smaller_model.add(layers.Dense(4, activation='relu'))\n",
        "smaller_model.add(layers.Dense(1, activation='sigmoid'))\n",
        "\n",
        "smaller_model.compile(optimizer='rmsprop',\n",
        "                      loss='binary_crossentropy',\n",
        "                      metrics=['acc'])"
      ]
    },
    {
      "cell_type": "markdown",
      "metadata": {
        "id": "0aoLajOS6pVX"
      },
      "source": [
        "\n",
        "Oto porównanie straty walidacji oryginalnej sieci i mniejszej sieci. Kropkami oznaczono wartości straty walidacji mniejszej sieci, a krzyżykami oznaczono wartości straty oryginalnej sieci (przypominam, że mniejsza wartość straty walidacji świadczy o tym, że model jest lepszy)."
      ]
    },
    {
      "cell_type": "code",
      "execution_count": null,
      "metadata": {
        "colab": {
          "base_uri": "https://localhost:8080/"
        },
        "id": "jTk07iv06pVY",
        "scrolled": true,
        "outputId": "4adbbe8f-9fbd-43e7-ae5e-6ae6ef2b1327"
      },
      "outputs": [
        {
          "output_type": "stream",
          "name": "stdout",
          "text": [
            "Epoch 1/10\n",
            "49/49 [==============================] - 12s 120ms/step - loss: 0.4620 - acc: 0.8104 - val_loss: 0.3426 - val_acc: 0.8777\n",
            "Epoch 2/10\n",
            "49/49 [==============================] - 2s 49ms/step - loss: 0.2709 - acc: 0.9052 - val_loss: 0.3125 - val_acc: 0.8732\n",
            "Epoch 3/10\n",
            "49/49 [==============================] - 3s 58ms/step - loss: 0.2134 - acc: 0.9250 - val_loss: 0.2804 - val_acc: 0.8881\n",
            "Epoch 4/10\n",
            "49/49 [==============================] - 2s 35ms/step - loss: 0.1798 - acc: 0.9365 - val_loss: 0.2871 - val_acc: 0.8862\n",
            "Epoch 5/10\n",
            "49/49 [==============================] - 2s 37ms/step - loss: 0.1581 - acc: 0.9434 - val_loss: 0.3347 - val_acc: 0.8691\n",
            "Epoch 6/10\n",
            "49/49 [==============================] - 2s 40ms/step - loss: 0.1430 - acc: 0.9500 - val_loss: 0.3366 - val_acc: 0.8741\n",
            "Epoch 7/10\n",
            "49/49 [==============================] - 2s 48ms/step - loss: 0.1270 - acc: 0.9567 - val_loss: 0.3322 - val_acc: 0.8752\n",
            "Epoch 8/10\n",
            "49/49 [==============================] - 1s 29ms/step - loss: 0.1139 - acc: 0.9612 - val_loss: 0.3629 - val_acc: 0.8708\n",
            "Epoch 9/10\n",
            "49/49 [==============================] - 2s 42ms/step - loss: 0.1026 - acc: 0.9665 - val_loss: 0.3986 - val_acc: 0.8663\n",
            "Epoch 10/10\n",
            "49/49 [==============================] - 2s 34ms/step - loss: 0.0904 - acc: 0.9709 - val_loss: 0.4133 - val_acc: 0.8655\n"
          ]
        }
      ],
      "source": [
        "original_hist = original_model.fit(x_train, y_train,\n",
        "                                   epochs=10,\n",
        "                                   batch_size=512,\n",
        "                                   validation_data=(x_test, y_test))"
      ]
    },
    {
      "cell_type": "code",
      "source": [
        "original_hist.history.keys()"
      ],
      "metadata": {
        "colab": {
          "base_uri": "https://localhost:8080/"
        },
        "id": "VviujVek7XkG",
        "outputId": "a2b5e200-9488-4cbf-c99b-fc18f56eec69"
      },
      "execution_count": null,
      "outputs": [
        {
          "output_type": "execute_result",
          "data": {
            "text/plain": [
              "dict_keys(['loss', 'acc', 'val_loss', 'val_acc'])"
            ]
          },
          "metadata": {},
          "execution_count": 20
        }
      ]
    },
    {
      "cell_type": "code",
      "source": [
        "original_hist.history['acc']"
      ],
      "metadata": {
        "colab": {
          "base_uri": "https://localhost:8080/"
        },
        "id": "ncKCEpse7te8",
        "outputId": "558cb7d2-4456-41ad-c89b-606814056b64"
      },
      "execution_count": null,
      "outputs": [
        {
          "output_type": "execute_result",
          "data": {
            "text/plain": [
              "[0.8113999962806702,\n",
              " 0.9048799872398376,\n",
              " 0.9241200089454651,\n",
              " 0.9336000084877014,\n",
              " 0.9424399733543396,\n",
              " 0.9509199857711792,\n",
              " 0.9544399976730347,\n",
              " 0.9594799876213074,\n",
              " 0.9643999934196472,\n",
              " 0.9683200120925903]"
            ]
          },
          "metadata": {},
          "execution_count": 21
        }
      ]
    },
    {
      "cell_type": "code",
      "execution_count": null,
      "metadata": {
        "colab": {
          "base_uri": "https://localhost:8080/"
        },
        "id": "8gz0uyMS6pVa",
        "outputId": "cad5dce8-a48a-4e8c-fe3a-f852696ac41c"
      },
      "outputs": [
        {
          "output_type": "stream",
          "name": "stdout",
          "text": [
            "Epoch 1/10\n",
            "49/49 [==============================] - 5s 80ms/step - loss: 0.5994 - acc: 0.6996 - val_loss: 0.5454 - val_acc: 0.7496\n",
            "Epoch 2/10\n",
            "49/49 [==============================] - 1s 27ms/step - loss: 0.4955 - acc: 0.8378 - val_loss: 0.4846 - val_acc: 0.8280\n",
            "Epoch 3/10\n",
            "49/49 [==============================] - 1s 26ms/step - loss: 0.4352 - acc: 0.8858 - val_loss: 0.4432 - val_acc: 0.8804\n",
            "Epoch 4/10\n",
            "49/49 [==============================] - 1s 26ms/step - loss: 0.3891 - acc: 0.9112 - val_loss: 0.4125 - val_acc: 0.8800\n",
            "Epoch 5/10\n",
            "49/49 [==============================] - 1s 28ms/step - loss: 0.3494 - acc: 0.9258 - val_loss: 0.3927 - val_acc: 0.8777\n",
            "Epoch 6/10\n",
            "49/49 [==============================] - 1s 28ms/step - loss: 0.3143 - acc: 0.9359 - val_loss: 0.3784 - val_acc: 0.8763\n",
            "Epoch 7/10\n",
            "49/49 [==============================] - 1s 28ms/step - loss: 0.2820 - acc: 0.9442 - val_loss: 0.3608 - val_acc: 0.8803\n",
            "Epoch 8/10\n",
            "49/49 [==============================] - 2s 36ms/step - loss: 0.2525 - acc: 0.9514 - val_loss: 0.3445 - val_acc: 0.8827\n",
            "Epoch 9/10\n",
            "49/49 [==============================] - 2s 32ms/step - loss: 0.2259 - acc: 0.9554 - val_loss: 0.3500 - val_acc: 0.8779\n",
            "Epoch 10/10\n",
            "49/49 [==============================] - 1s 27ms/step - loss: 0.2016 - acc: 0.9597 - val_loss: 0.3477 - val_acc: 0.8761\n"
          ]
        }
      ],
      "source": [
        "smaller_model_hist = smaller_model.fit(x_train, y_train,\n",
        "                                       epochs=10,\n",
        "                                       batch_size=512,\n",
        "                                       validation_data=(x_test, y_test))"
      ]
    },
    {
      "cell_type": "code",
      "execution_count": null,
      "metadata": {
        "colab": {
          "base_uri": "https://localhost:8080/",
          "height": 200
        },
        "collapsed": true,
        "id": "QLOTKlhR6pVc",
        "outputId": "32b3d280-92ad-4850-9020-37d41068a899"
      },
      "outputs": [
        {
          "output_type": "error",
          "ename": "NameError",
          "evalue": "ignored",
          "traceback": [
            "\u001b[0;31m---------------------------------------------------------------------------\u001b[0m",
            "\u001b[0;31mNameError\u001b[0m                                 Traceback (most recent call last)",
            "\u001b[0;32m<ipython-input-10-c976c998c875>\u001b[0m in \u001b[0;36m<cell line: 3>\u001b[0;34m()\u001b[0m\n\u001b[1;32m      1\u001b[0m \u001b[0mepochs\u001b[0m \u001b[0;34m=\u001b[0m \u001b[0mrange\u001b[0m\u001b[0;34m(\u001b[0m\u001b[0;36m1\u001b[0m\u001b[0;34m,\u001b[0m \u001b[0;36m11\u001b[0m\u001b[0;34m)\u001b[0m\u001b[0;34m\u001b[0m\u001b[0;34m\u001b[0m\u001b[0m\n\u001b[1;32m      2\u001b[0m \u001b[0moriginal_val_loss\u001b[0m \u001b[0;34m=\u001b[0m \u001b[0moriginal_hist\u001b[0m\u001b[0;34m.\u001b[0m\u001b[0mhistory\u001b[0m\u001b[0;34m[\u001b[0m\u001b[0;34m'val_loss'\u001b[0m\u001b[0;34m]\u001b[0m\u001b[0;34m\u001b[0m\u001b[0;34m\u001b[0m\u001b[0m\n\u001b[0;32m----> 3\u001b[0;31m \u001b[0msmaller_model_val_loss\u001b[0m \u001b[0;34m=\u001b[0m \u001b[0msmaller_model_hist\u001b[0m\u001b[0;34m.\u001b[0m\u001b[0mhistory\u001b[0m\u001b[0;34m[\u001b[0m\u001b[0;34m'val_loss'\u001b[0m\u001b[0;34m]\u001b[0m\u001b[0;34m\u001b[0m\u001b[0;34m\u001b[0m\u001b[0m\n\u001b[0m",
            "\u001b[0;31mNameError\u001b[0m: name 'smaller_model_hist' is not defined"
          ]
        }
      ],
      "source": [
        "epochs = range(1, 11)\n",
        "original_val_loss = original_hist.history['val_loss']\n",
        "smaller_model_val_loss = smaller_model_hist.history['val_loss']"
      ]
    },
    {
      "cell_type": "code",
      "execution_count": null,
      "metadata": {
        "colab": {
          "base_uri": "https://localhost:8080/",
          "height": 235
        },
        "id": "h5vIEzAr6pVe",
        "scrolled": true,
        "outputId": "ba0bab9b-e66e-43ab-8eaf-3e764a0df73c"
      },
      "outputs": [
        {
          "output_type": "error",
          "ename": "NameError",
          "evalue": "ignored",
          "traceback": [
            "\u001b[0;31m---------------------------------------------------------------------------\u001b[0m",
            "\u001b[0;31mNameError\u001b[0m                                 Traceback (most recent call last)",
            "\u001b[0;32m<ipython-input-9-130c8c524bfc>\u001b[0m in \u001b[0;36m<cell line: 4>\u001b[0;34m()\u001b[0m\n\u001b[1;32m      2\u001b[0m \u001b[0;34m\u001b[0m\u001b[0m\n\u001b[1;32m      3\u001b[0m \u001b[0;31m# b+ to niebieskie krzyżyki\u001b[0m\u001b[0;34m\u001b[0m\u001b[0;34m\u001b[0m\u001b[0m\n\u001b[0;32m----> 4\u001b[0;31m \u001b[0mplt\u001b[0m\u001b[0;34m.\u001b[0m\u001b[0mplot\u001b[0m\u001b[0;34m(\u001b[0m\u001b[0mepochs\u001b[0m\u001b[0;34m,\u001b[0m \u001b[0moriginal_val_loss\u001b[0m\u001b[0;34m,\u001b[0m \u001b[0;34m'b+'\u001b[0m\u001b[0;34m,\u001b[0m \u001b[0mlabel\u001b[0m\u001b[0;34m=\u001b[0m\u001b[0;34m'Oryginalny model'\u001b[0m\u001b[0;34m)\u001b[0m\u001b[0;34m\u001b[0m\u001b[0;34m\u001b[0m\u001b[0m\n\u001b[0m\u001b[1;32m      5\u001b[0m \u001b[0;31m# bo to niebieskie kropki\u001b[0m\u001b[0;34m\u001b[0m\u001b[0;34m\u001b[0m\u001b[0m\n\u001b[1;32m      6\u001b[0m \u001b[0mplt\u001b[0m\u001b[0;34m.\u001b[0m\u001b[0mplot\u001b[0m\u001b[0;34m(\u001b[0m\u001b[0mepochs\u001b[0m\u001b[0;34m,\u001b[0m \u001b[0msmaller_model_val_loss\u001b[0m\u001b[0;34m,\u001b[0m \u001b[0;34m'bo'\u001b[0m\u001b[0;34m,\u001b[0m \u001b[0mlabel\u001b[0m\u001b[0;34m=\u001b[0m\u001b[0;34m'Mniejszy model'\u001b[0m\u001b[0;34m)\u001b[0m\u001b[0;34m\u001b[0m\u001b[0;34m\u001b[0m\u001b[0m\n",
            "\u001b[0;31mNameError\u001b[0m: name 'epochs' is not defined"
          ]
        }
      ],
      "source": [
        "import matplotlib.pyplot as plt\n",
        "\n",
        "# b+ to niebieskie krzyżyki\n",
        "plt.plot(epochs, original_val_loss, 'b+', label='Oryginalny model')\n",
        "# bo to niebieskie kropki\n",
        "plt.plot(epochs, smaller_model_val_loss, 'bo', label='Mniejszy model')\n",
        "\n",
        "# zbiór treningowy\n",
        "plt.plot(epochs, original_hist.history['loss'], 'r+', label='Oryginalny model - treningowe')\n",
        "plt.plot(epochs, smaller_model_hist.history['loss'], 'ro', label='Mniejszy model - treningowe')\n",
        "\n",
        "plt.xlabel('Epoki')\n",
        "plt.ylabel('Strata walidacji')\n",
        "plt.legend()\n",
        "\n",
        "plt.show()"
      ]
    },
    {
      "cell_type": "markdown",
      "metadata": {
        "id": "dCY1TMos6pVg"
      },
      "source": [
        "\n",
        "Jak widać, mniejsza sieć zaczęła ulegać nadmiernemu dopasowaniu (przeuczeniu) później niż nasz początkowy model (po sześciu, a nie po czterech epokach), a dodatkowo po przekroczeniu punktu przeuczenia wydajność mniejszego modelu ulega wolniejszej degradacji.\n",
        "\n",
        "Spróbujmy przeanalizować w tym kontekście działanie sieci o znacznie większej pojemności (przekraczającej potrzeby problemu)."
      ]
    },
    {
      "cell_type": "code",
      "execution_count": null,
      "metadata": {
        "collapsed": true,
        "id": "jLI3dmHl6pVh"
      },
      "outputs": [],
      "source": [
        "bigger_model = models.Sequential()\n",
        "bigger_model.add(layers.Dense(512, activation='relu', input_shape=(10000,)))\n",
        "bigger_model.add(layers.Dense(512, activation='relu'))\n",
        "bigger_model.add(layers.Dense(1, activation='sigmoid'))\n",
        "\n",
        "bigger_model.compile(optimizer='rmsprop',\n",
        "                     loss='binary_crossentropy',\n",
        "                     metrics=['acc'])"
      ]
    },
    {
      "cell_type": "code",
      "execution_count": null,
      "metadata": {
        "colab": {
          "base_uri": "https://localhost:8080/"
        },
        "id": "E7cCZnbt6pVj",
        "outputId": "c854780a-4868-4f61-c23d-df2a69ef519b"
      },
      "outputs": [
        {
          "output_type": "stream",
          "name": "stdout",
          "text": [
            "Epoch 1/30\n",
            "49/49 [==============================] - 4s 73ms/step - loss: 0.0596 - acc: 0.9885 - val_loss: 0.4862 - val_acc: 0.8790\n",
            "Epoch 2/30\n",
            "49/49 [==============================] - 2s 32ms/step - loss: 0.0018 - acc: 1.0000 - val_loss: 0.6114 - val_acc: 0.8788\n",
            "Epoch 3/30\n",
            "49/49 [==============================] - 2s 34ms/step - loss: 0.0560 - acc: 0.9899 - val_loss: 0.4970 - val_acc: 0.8781\n",
            "Epoch 4/30\n",
            "49/49 [==============================] - 3s 60ms/step - loss: 0.0013 - acc: 1.0000 - val_loss: 0.6259 - val_acc: 0.8796\n",
            "Epoch 5/30\n",
            "49/49 [==============================] - 3s 52ms/step - loss: 5.6229e-04 - acc: 1.0000 - val_loss: 0.6971 - val_acc: 0.8746\n",
            "Epoch 6/30\n",
            "49/49 [==============================] - 2s 32ms/step - loss: 3.2463e-04 - acc: 1.0000 - val_loss: 0.7322 - val_acc: 0.8787\n",
            "Epoch 7/30\n",
            "49/49 [==============================] - 2s 45ms/step - loss: 2.1014e-04 - acc: 1.0000 - val_loss: 0.7606 - val_acc: 0.8787\n",
            "Epoch 8/30\n",
            "49/49 [==============================] - 2s 33ms/step - loss: 1.6160e-04 - acc: 1.0000 - val_loss: 0.7844 - val_acc: 0.8785\n",
            "Epoch 9/30\n",
            "49/49 [==============================] - 2s 33ms/step - loss: 1.3047e-04 - acc: 1.0000 - val_loss: 0.8017 - val_acc: 0.8786\n",
            "Epoch 10/30\n",
            "49/49 [==============================] - 2s 49ms/step - loss: 1.0896e-04 - acc: 1.0000 - val_loss: 0.8118 - val_acc: 0.8783\n",
            "Epoch 11/30\n",
            "49/49 [==============================] - 2s 32ms/step - loss: 9.3923e-05 - acc: 1.0000 - val_loss: 0.8294 - val_acc: 0.8785\n",
            "Epoch 12/30\n",
            "49/49 [==============================] - 2s 44ms/step - loss: 8.2511e-05 - acc: 1.0000 - val_loss: 0.8371 - val_acc: 0.8783\n",
            "Epoch 13/30\n",
            "49/49 [==============================] - 2s 45ms/step - loss: 7.3240e-05 - acc: 1.0000 - val_loss: 0.8468 - val_acc: 0.8783\n",
            "Epoch 14/30\n",
            "49/49 [==============================] - 2s 32ms/step - loss: 6.5854e-05 - acc: 1.0000 - val_loss: 0.8576 - val_acc: 0.8782\n",
            "Epoch 15/30\n",
            "49/49 [==============================] - 2s 32ms/step - loss: 5.9716e-05 - acc: 1.0000 - val_loss: 0.8631 - val_acc: 0.8783\n",
            "Epoch 16/30\n",
            "49/49 [==============================] - 2s 35ms/step - loss: 5.4636e-05 - acc: 1.0000 - val_loss: 0.8715 - val_acc: 0.8782\n",
            "Epoch 17/30\n",
            "49/49 [==============================] - 2s 36ms/step - loss: 5.0335e-05 - acc: 1.0000 - val_loss: 0.8793 - val_acc: 0.8782\n",
            "Epoch 18/30\n",
            "49/49 [==============================] - 2s 44ms/step - loss: 4.6703e-05 - acc: 1.0000 - val_loss: 0.8860 - val_acc: 0.8782\n",
            "Epoch 19/30\n",
            "49/49 [==============================] - 2s 31ms/step - loss: 4.3476e-05 - acc: 1.0000 - val_loss: 0.8912 - val_acc: 0.8782\n",
            "Epoch 20/30\n",
            "49/49 [==============================] - 2s 31ms/step - loss: 4.0635e-05 - acc: 1.0000 - val_loss: 0.8969 - val_acc: 0.8781\n",
            "Epoch 21/30\n",
            "49/49 [==============================] - 2s 32ms/step - loss: 3.8168e-05 - acc: 1.0000 - val_loss: 0.9025 - val_acc: 0.8781\n",
            "Epoch 22/30\n",
            "49/49 [==============================] - 2s 31ms/step - loss: 3.5964e-05 - acc: 1.0000 - val_loss: 0.9067 - val_acc: 0.8781\n",
            "Epoch 23/30\n",
            "49/49 [==============================] - 2s 44ms/step - loss: 3.3948e-05 - acc: 1.0000 - val_loss: 0.9121 - val_acc: 0.8782\n",
            "Epoch 24/30\n",
            "49/49 [==============================] - 2s 37ms/step - loss: 3.2212e-05 - acc: 1.0000 - val_loss: 0.9162 - val_acc: 0.8781\n",
            "Epoch 25/30\n",
            "49/49 [==============================] - 2s 45ms/step - loss: 3.0602e-05 - acc: 1.0000 - val_loss: 0.9209 - val_acc: 0.8780\n",
            "Epoch 26/30\n",
            "49/49 [==============================] - 2s 45ms/step - loss: 2.9099e-05 - acc: 1.0000 - val_loss: 0.9249 - val_acc: 0.8780\n",
            "Epoch 27/30\n",
            "49/49 [==============================] - 2s 45ms/step - loss: 2.7786e-05 - acc: 1.0000 - val_loss: 0.9282 - val_acc: 0.8780\n",
            "Epoch 28/30\n",
            "49/49 [==============================] - 2s 45ms/step - loss: 2.6564e-05 - acc: 1.0000 - val_loss: 0.9328 - val_acc: 0.8781\n",
            "Epoch 29/30\n",
            "49/49 [==============================] - 2s 36ms/step - loss: 2.5445e-05 - acc: 1.0000 - val_loss: 0.9357 - val_acc: 0.8782\n",
            "Epoch 30/30\n",
            "49/49 [==============================] - 2s 36ms/step - loss: 2.4406e-05 - acc: 1.0000 - val_loss: 0.9391 - val_acc: 0.8781\n"
          ]
        }
      ],
      "source": [
        "bigger_model_hist = bigger_model.fit(x_train, y_train,\n",
        "                                     epochs=30,\n",
        "                                     batch_size=512,\n",
        "                                     validation_data=(x_test, y_test))"
      ]
    },
    {
      "cell_type": "markdown",
      "metadata": {
        "id": "cYD-S41o6pVl"
      },
      "source": [
        "Oto rysnek, na którym porównano wydajność zbyt dużej sieci i naszego początkowego modelu. Kropkami oznaczono stratę walidacji większej sieci, a krzyżykami oznaczono stratę walidacji początkowej wersji sieci."
      ]
    },
    {
      "cell_type": "code",
      "execution_count": null,
      "metadata": {
        "colab": {
          "base_uri": "https://localhost:8080/",
          "height": 454
        },
        "id": "lmkqo28u6pVm",
        "scrolled": true,
        "outputId": "6093dfa0-cc99-469a-d2fc-2fdaebc74bb9"
      },
      "outputs": [
        {
          "output_type": "display_data",
          "data": {
            "text/plain": [
              "<Figure size 640x480 with 1 Axes>"
            ],
            "image/png": "[encoded data removed]"
          },
          "metadata": {}
        }
      ],
      "source": [
        "import matplotlib.pyplot as plt\n",
        "\n",
        "bigger_model_val_loss = bigger_model_hist.history['val_loss']\n",
        "\n",
        "plt.plot(epochs, original_val_loss, 'b+', label='Oryginalny model')\n",
        "plt.plot(epochs, bigger_model_val_loss, 'bo', label='Wiekszy model')\n",
        "plt.xlabel('Epoki')\n",
        "plt.ylabel('Strata walidacji')\n",
        "plt.legend()\n",
        "\n",
        "plt.show()"
      ]
    },
    {
      "cell_type": "markdown",
      "metadata": {
        "id": "85UIy3sp6pVq"
      },
      "source": [
        "\n",
        "porównano wydajność zbyt dużej sieci i naszego początkowego modelu. Kropkami oznaczono stratę walidacji większej sieci, a krzyżykami oznaczono stratę walidacji początkowej wersji sieci.\n",
        "\n",
        "Oto rysunek, na którym porównano straty procesu trenowania dwóch sieci.\n"
      ]
    },
    {
      "cell_type": "code",
      "execution_count": null,
      "metadata": {
        "colab": {
          "base_uri": "https://localhost:8080/",
          "height": 449
        },
        "id": "XqLbAIfo6pVr",
        "scrolled": true,
        "outputId": "dfa0ffe4-6c2c-498a-c879-b13d58ba7285"
      },
      "outputs": [
        {
          "output_type": "display_data",
          "data": {
            "text/plain": [
              "<Figure size 640x480 with 1 Axes>"
            ],
            "image/png": "[encoded data removed]"
          },
          "metadata": {}
        }
      ],
      "source": [
        "original_train_loss = original_hist.history['loss']\n",
        "bigger_model_train_loss = bigger_model_hist.history['loss']\n",
        "\n",
        "plt.plot(epochs, original_train_loss, 'b+', label='Oryginalny model')\n",
        "plt.plot(epochs, bigger_model_train_loss, 'bo', label='Wiekszy model')\n",
        "plt.xlabel('Epoki')\n",
        "plt.ylabel('Strata treninogwa')\n",
        "plt.legend()\n",
        "\n",
        "plt.show()"
      ]
    },
    {
      "cell_type": "markdown",
      "metadata": {
        "id": "h2IRsvdy6pVu"
      },
      "source": [
        "Widać, że większa sieć bardzo szybko uzyskuje praktycznie zerową wartość straty treningowej. Im większa jest pojemność sieci, tym szybciej modelowane są dane treningowe (uzyskiwana jest niska wartość straty treningowej), ale wzrasta wówczas podatność na nadmierne dopasowanie (powstaje duża różnica między stratą treningową a stratą walidacji)."
      ]
    },
    {
      "cell_type": "markdown",
      "metadata": {
        "id": "5ellzReE6pVx"
      },
      "source": [
        "## Dodawanie regularyzacji wag\n",
        "\n",
        "\n",
        "Czy znasz zasadę brzytwy Ockhama? Według niej, jeżeli istnieją dwa wyjaśnienia jakiejś teorii, to najprawdopodobniej poprawnym wyjaśnieniem jest to, które jest prostsze — to, które czyni mniej założeń. Zasada ta sprawdza się również w kontekście modeli sieci neuronowych: jeżeli mamy dane treningowe, architekturę sieci i wiele zbiorów wartości wag (wiele modeli) opisujących dane, to prostsze modele są mniej podatne na nadmierne dopasowanie od tych, które są bardziej złożone.\n",
        "\n",
        "Przyjmijmy, że za prostszy model uważamy model, którego rozkład wartości parametrów charakteryzuje się mniejsza entropią, lub model, który ma mniej parametrów. W związku z tym popularną techniką unikania nadmiernego dopasowania jest wymuszenie na modelu ograniczenia złożoności poprzez przyjmowanie tylko małych wartości wag, co sprawia, że rozkład wartości wag jest bardziej regularny. Zabieg ten określamy mianem regularyzacji wag. Implementuje się go poprzez dodanie do funkcji straty sieci kosztu związanego z dużymi wartościami wag. W praktyce można to zrobić na dwa sposoby:\n",
        "\n",
        "\n",
        "* Regularyzacja L1 — koszt jest dodawany proporcjonalnie do bezwzględnej wartości współczynników wag (normy L1 wag).\n",
        "\n",
        "* Regularyzacja L2 — koszt jest dodawany proporcjonalnie do kwadratu wartości współczynników wag (normy L2 wag). W kontekście sieci neuronowych regularyzacja L2 jest również określana mianem rozkładu wag. Pomimo innej nazwy jest to ten sam proces, który w matematyce określamy jako regularyzacja L2.\n",
        "\n",
        "W pakiecie Keras regularyzację wag dodaje się poprzez przekazanie instancji regularyzatora wagi do warstw sieci za pomocą argumentu w formie słowa kluczowego. Dodajmy regularyzację L2 wag do sieci klasyfikatora recenzji filmów."
      ]
    },
    {
      "cell_type": "code",
      "execution_count": null,
      "metadata": {
        "collapsed": true,
        "id": "lxoR0g8f6pV0"
      },
      "outputs": [],
      "source": [
        "from keras import regularizers\n",
        "\n",
        "l2_model = models.Sequential()\n",
        "l2_model.add(layers.Dense(16, kernel_regularizer=regularizers.l2(0.01),\n",
        "                          activation='relu', input_shape=(10000,)))\n",
        "l2_model.add(layers.Dense(16, kernel_regularizer=regularizers.l1_l2(l1=0.01, l2=0.01),\n",
        "                          activation='relu'))\n",
        "l2_model.add(layers.Dense(1, activation='sigmoid'))"
      ]
    },
    {
      "cell_type": "code",
      "execution_count": null,
      "metadata": {
        "collapsed": true,
        "id": "31RBxTw86pV1"
      },
      "outputs": [],
      "source": [
        "l2_model.compile(optimizer='rmsprop',\n",
        "                 loss='binary_crossentropy',\n",
        "                 metrics=['acc'])"
      ]
    },
    {
      "cell_type": "markdown",
      "metadata": {
        "id": "W3xX8XM36pV2"
      },
      "source": [
        "Argument l2(0.001) oznacza, że każdy współczynnik macierzy wag warstwy doda wartość równą 0.001 * weight_coefficient_value (0,001 razy wartość współczynnika wagi) do całkowitej straty sieci. Kara ta jest dodawana tylko podczas trenowania, a więc strata sieci w czasie trenowania będzie o wiele wyższa niż w czasie testowania.\n",
        "\n",
        "Oto wykres, na którym pokazano wpływ kary w postaci regularyzacji L2:"
      ]
    },
    {
      "cell_type": "code",
      "execution_count": null,
      "metadata": {
        "colab": {
          "base_uri": "https://localhost:8080/"
        },
        "id": "ZpNNizcz6pV3",
        "scrolled": true,
        "outputId": "5a443f49-4255-4696-ad53-fcc0115eef74"
      },
      "outputs": [
        {
          "output_type": "stream",
          "name": "stdout",
          "text": [
            "Epoch 1/30\n",
            "49/49 [==============================] - 7s 85ms/step - loss: 1.2374 - acc: 0.8056 - val_loss: 1.0351 - val_acc: 0.8548\n",
            "Epoch 2/30\n",
            "49/49 [==============================] - 1s 28ms/step - loss: 0.9433 - acc: 0.8701 - val_loss: 0.8884 - val_acc: 0.8615\n",
            "Epoch 3/30\n",
            "49/49 [==============================] - 1s 28ms/step - loss: 0.8140 - acc: 0.8800 - val_loss: 0.7740 - val_acc: 0.8720\n",
            "Epoch 4/30\n",
            "49/49 [==============================] - 1s 28ms/step - loss: 0.7167 - acc: 0.8811 - val_loss: 0.6905 - val_acc: 0.8750\n",
            "Epoch 5/30\n",
            "49/49 [==============================] - 2s 35ms/step - loss: 0.6412 - acc: 0.8830 - val_loss: 0.6231 - val_acc: 0.8781\n",
            "Epoch 6/30\n",
            "49/49 [==============================] - 1s 30ms/step - loss: 0.5821 - acc: 0.8858 - val_loss: 0.5745 - val_acc: 0.8777\n",
            "Epoch 7/30\n",
            "49/49 [==============================] - 1s 28ms/step - loss: 0.5367 - acc: 0.8894 - val_loss: 0.5489 - val_acc: 0.8694\n",
            "Epoch 8/30\n",
            "49/49 [==============================] - 1s 28ms/step - loss: 0.5063 - acc: 0.8878 - val_loss: 0.5196 - val_acc: 0.8747\n",
            "Epoch 9/30\n",
            "49/49 [==============================] - 1s 29ms/step - loss: 0.4889 - acc: 0.8887 - val_loss: 0.5041 - val_acc: 0.8785\n",
            "Epoch 10/30\n",
            "49/49 [==============================] - 1s 29ms/step - loss: 0.4752 - acc: 0.8934 - val_loss: 0.5101 - val_acc: 0.8683\n",
            "Epoch 11/30\n",
            "49/49 [==============================] - 2s 42ms/step - loss: 0.4694 - acc: 0.8923 - val_loss: 0.4890 - val_acc: 0.8810\n",
            "Epoch 12/30\n",
            "49/49 [==============================] - 1s 28ms/step - loss: 0.4639 - acc: 0.8942 - val_loss: 0.4888 - val_acc: 0.8772\n",
            "Epoch 13/30\n",
            "49/49 [==============================] - 2s 33ms/step - loss: 0.4545 - acc: 0.8972 - val_loss: 0.4897 - val_acc: 0.8739\n",
            "Epoch 14/30\n",
            "49/49 [==============================] - 1s 30ms/step - loss: 0.4484 - acc: 0.8977 - val_loss: 0.4721 - val_acc: 0.8811\n",
            "Epoch 15/30\n",
            "49/49 [==============================] - 1s 29ms/step - loss: 0.4428 - acc: 0.8984 - val_loss: 0.4759 - val_acc: 0.8765\n",
            "Epoch 16/30\n",
            "49/49 [==============================] - 1s 29ms/step - loss: 0.4329 - acc: 0.9015 - val_loss: 0.4632 - val_acc: 0.8821\n",
            "Epoch 17/30\n",
            "49/49 [==============================] - 1s 29ms/step - loss: 0.4284 - acc: 0.9009 - val_loss: 0.4565 - val_acc: 0.8833\n",
            "Epoch 18/30\n",
            "49/49 [==============================] - 1s 29ms/step - loss: 0.4201 - acc: 0.9032 - val_loss: 0.4552 - val_acc: 0.8804\n",
            "Epoch 19/30\n",
            "49/49 [==============================] - 1s 28ms/step - loss: 0.4140 - acc: 0.9045 - val_loss: 0.4527 - val_acc: 0.8798\n",
            "Epoch 20/30\n",
            "49/49 [==============================] - 2s 42ms/step - loss: 0.4081 - acc: 0.9064 - val_loss: 0.4448 - val_acc: 0.8829\n",
            "Epoch 21/30\n",
            "49/49 [==============================] - 2s 45ms/step - loss: 0.4016 - acc: 0.9084 - val_loss: 0.4523 - val_acc: 0.8766\n",
            "Epoch 22/30\n",
            "49/49 [==============================] - 1s 27ms/step - loss: 0.3970 - acc: 0.9068 - val_loss: 0.4374 - val_acc: 0.8835\n",
            "Epoch 23/30\n",
            "49/49 [==============================] - 1s 28ms/step - loss: 0.3907 - acc: 0.9102 - val_loss: 0.4358 - val_acc: 0.8832\n",
            "Epoch 24/30\n",
            "49/49 [==============================] - 1s 28ms/step - loss: 0.3855 - acc: 0.9114 - val_loss: 0.4293 - val_acc: 0.8841\n",
            "Epoch 25/30\n",
            "49/49 [==============================] - 1s 28ms/step - loss: 0.3793 - acc: 0.9123 - val_loss: 0.4324 - val_acc: 0.8799\n",
            "Epoch 26/30\n",
            "49/49 [==============================] - 1s 28ms/step - loss: 0.3747 - acc: 0.9142 - val_loss: 0.4408 - val_acc: 0.8737\n",
            "Epoch 27/30\n",
            "49/49 [==============================] - 1s 29ms/step - loss: 0.3692 - acc: 0.9138 - val_loss: 0.4210 - val_acc: 0.8848\n",
            "Epoch 28/30\n",
            "49/49 [==============================] - 1s 29ms/step - loss: 0.3661 - acc: 0.9143 - val_loss: 0.4334 - val_acc: 0.8753\n",
            "Epoch 29/30\n",
            "49/49 [==============================] - 2s 34ms/step - loss: 0.3637 - acc: 0.9160 - val_loss: 0.4175 - val_acc: 0.8843\n",
            "Epoch 30/30\n",
            "49/49 [==============================] - 1s 29ms/step - loss: 0.3581 - acc: 0.9166 - val_loss: 0.4155 - val_acc: 0.8847\n"
          ]
        }
      ],
      "source": [
        "l2_model_hist = l2_model.fit(x_train, y_train,\n",
        "                             epochs=30,\n",
        "                             batch_size=512,\n",
        "                             validation_data=(x_test, y_test))"
      ]
    },
    {
      "cell_type": "code",
      "execution_count": null,
      "metadata": {
        "colab": {
          "base_uri": "https://localhost:8080/",
          "height": 449
        },
        "id": "lO0JoiRX6pV4",
        "outputId": "d4fe49a6-56aa-4ba1-b9bc-902f21a2c580"
      },
      "outputs": [
        {
          "output_type": "display_data",
          "data": {
            "text/plain": [
              "<Figure size 640x480 with 1 Axes>"
            ],
            "image/png": "[encoded data removed]"
          },
          "metadata": {}
        }
      ],
      "source": [
        "import matplotlib.pyplot as plt\n",
        "\n",
        "l2_model_val_loss = l2_model_hist.history['val_loss']\n",
        "epochs=range(1,31)\n",
        "plt.plot(epochs, l2_model_hist.history['loss'], 'b+', label='Strata treningowa')\n",
        "plt.plot(epochs, l2_model_val_loss, 'bo', label='Strata walidacyjna')\n",
        "plt.xlabel('Epoki')\n",
        "plt.ylabel('Strata walidacji')\n",
        "plt.legend()\n",
        "\n",
        "plt.show()"
      ]
    },
    {
      "cell_type": "markdown",
      "metadata": {
        "id": "iQsoEp9o6pV5"
      },
      "source": [
        "\n",
        "\n",
        "Jak widać, model z regularyzacją L2 (kropki) stał się o wiele bardziej odporny na nadmierne dopasowanie od modelu referencyjnego (krzyżyki) pomimo tego, że oba modele charakteryzują się identyczną liczbą parametrów.\n",
        "\n",
        "Zamiast regularyzacji L2 możesz korzystać również z innych mechanizmów regularyzacji obsługiwanych przez pakiet Keras."
      ]
    },
    {
      "cell_type": "code",
      "execution_count": null,
      "metadata": {
        "colab": {
          "base_uri": "https://localhost:8080/"
        },
        "collapsed": true,
        "id": "xQq-WU7i6pV6",
        "outputId": "e74979c8-e0cd-4d7b-e39b-00d41ea39db7"
      },
      "outputs": [
        {
          "output_type": "execute_result",
          "data": {
            "text/plain": [
              "<keras.regularizers.L1L2 at 0x7f2f8c003cd0>"
            ]
          },
          "metadata": {},
          "execution_count": 45
        }
      ],
      "source": [
        "from keras import regularizers\n",
        "\n",
        "# Regularyzacja L1.\n",
        "regularizers.l1(0.001)\n",
        "\n",
        "# Regularyzacja L2.\n",
        "regularizers.l2(0.001)\n",
        "\n",
        "# Jednoczesna regularyzacja L1 i L2.\n",
        "regularizers.l1_l2(l1=0.001, l2=0.001)"
      ]
    },
    {
      "cell_type": "markdown",
      "metadata": {
        "id": "8gZHoIsn6pV7"
      },
      "source": [
        "## Porzucanie — technika dropout\n",
        "\n",
        "\n",
        "Porzucanie (ang. droput) jest jedną z najbardziej skutecznych i najpopularniejszych technik regularyzacji sieci neuronowych. Opracował ją Geoff Hinton podczas współpracy ze swoimi studentami na Uniwersytecie w Toronto. Technika ta polega na losowym wybieraniu pewnej liczby cech wyjściowych warstwy podczas trenowania (wartości tych warstw są zastępowane zerami). Załóżmy, że w czasie trenowania warstwa sieci normalnie zwraca wektor [0.2, 0.5, 1.3, 0.8, 1.1]. Po przeprowadzeniu operacji porzucania w wektorze tym (w losowo wybranych miejscach) pojawią się zera i uzyska on np. formę [0, 0.5, 1.3, 0, 1.1]. Ułamek określający część wyzerowanych cech nazywamy współczynnikiem porzucania (ang. dropout rate). Zwykle parametr ten przyjmuje wartość znajdującą się w przedziale od 0,2 do 0,5. Podczas testowania żadne jednostki nie są porzucane — wartości wyjściowe warstwy sieci są skalowane o współczynnik równy współczynnikowi porzucania. Równoważy to aktywność większej liczby jednostek podczas testowania niż trenowania.\n",
        "\n",
        "Przyjrzyjmy się macierzy Numpy zawierającej warstwę wyjściową layer_output o kształcie (rozmiar_wsadu, liczba_cech). W czasie trenowania wyzerowaliśmy losową część wartości tej macierzy:"
      ]
    },
    {
      "cell_type": "code",
      "execution_count": null,
      "metadata": {
        "collapsed": true,
        "id": "G79BwlIn6pV7"
      },
      "outputs": [],
      "source": [
        "# Podczas trenowania porzucane jest 50% jednostek wyjściowych.\n",
        "layer_output = np.random.randint(0, high=2)"
      ]
    },
    {
      "cell_type": "markdown",
      "metadata": {
        "id": "zAuCUYF-6pV9"
      },
      "source": [
        "\n",
        "Podczas testowania skalujemy wartości wyjściowe o współczynnik porzucania. W tym przypadku przeprowadzamy skalowanie o współczynnik 0,5 (wcześniej odrzucaliśmy połowę jednostek):"
      ]
    },
    {
      "cell_type": "code",
      "execution_count": null,
      "metadata": {
        "collapsed": true,
        "id": "SDf9QcA36pV-"
      },
      "outputs": [],
      "source": [
        "# W czasie testowania:\n",
        "layer_output *= 0.5"
      ]
    },
    {
      "cell_type": "markdown",
      "metadata": {
        "id": "J_67bs7N6pV_"
      },
      "source": [
        "\n",
        "Zauważ, że proces ten można zaimplementować, wykonując obie operacje podczas trenowania i pozostawiając dane wyjściowe bez zmian w czasie testowania. Rozwiązanie takie jest często używane w praktyce (zobacz rysunek 4.8):"
      ]
    },
    {
      "cell_type": "code",
      "execution_count": null,
      "metadata": {
        "collapsed": true,
        "id": "BV0e-iPI6pWA"
      },
      "outputs": [],
      "source": [
        "# W czasie trenowania.\n",
        "#layer_output *= np.randint(0, high=2, size=layer_output.shape)\n",
        "# Zwróć wuagę na to, że w tym przypadku skalujemy raczej w górę niż w dół.\n",
        "#layer_output /= 0.5"
      ]
    },
    {
      "cell_type": "markdown",
      "metadata": {
        "id": "X6UrTNQs6pWB"
      },
      "source": [
        "\n",
        "Technika ta może wydawać się dziwna i chaotyczna. Jak ma pomóc w zmniejszeniu nadmiernego dopasowania? Hinton tworząc ją, inspirował się mechanizmami zapobiegającymi nadużyciom stosowanym przez banki. Stwierdził: „Pewnego dnia, gdy poszedłem do banku, zauważyłem, że osoby w okienkach często zmieniają swoje miejsca; pracownicy banku nie potrafili powiedzieć, dlaczego to robią, ale doszedłem do wniosku, że przy takiej rotacji wyłudzenie pieniędzy z banku wymagałoby współpracy wielu pracowników; wówczas zdałem sobie sprawę, że losowe usuwanie różnych podzbiorów neuronów podczas przetwarzania każdego przykładu zapobiegnie konspiracji i zredukuje nadmierne dopasowanie”. Główną ideą tej techniki jest wprowadzenie szumu do wartości wyjściowych warstwy w celu pozbycia się nieznaczących wzorców (Hinton określił je mianem „konspiracji”) — wprowadzenie szumu zapobiega zapamiętywaniu takich wzorców przez sieć.\n",
        "\n",
        "W pakiecie Keras technikę tę można zastosować przy użyciu warstwy Dropout, którą umieszcza się bezpośrednio za wyjściem znajdującej się wcześniej warstwy:\n"
      ]
    },
    {
      "cell_type": "code",
      "execution_count": null,
      "metadata": {
        "collapsed": true,
        "id": "rA9A7tip6pWC"
      },
      "outputs": [],
      "source": [
        "model.add(layers.Dropout(0.5))"
      ]
    },
    {
      "cell_type": "markdown",
      "metadata": {
        "id": "6v-991Us6pWC"
      },
      "source": [
        "Dodajmy dwie warstwy Dropout do sieci IMDB i zobaczmy, czy pomogą one w zredukowaniu nadmiernego dopasowania:"
      ]
    },
    {
      "cell_type": "code",
      "execution_count": null,
      "metadata": {
        "collapsed": true,
        "id": "jUMs9d8j6pWD"
      },
      "outputs": [],
      "source": [
        "from keras import models\n",
        "from keras import layers\n",
        "\n",
        "dpt_model = models.Sequential()\n",
        "dpt_model.add(layers.Dense(64, activation='relu',input_shape=(10000,)))\n",
        "dpt_model.add(layers.Dropout(0.3))\n",
        "dpt_model.add(layers.Dense(64, activation='relu'))\n",
        "dpt_model.add(layers.Dropout(0.3))\n",
        "dpt_model.add(layers.Dense(1, activation='sigmoid'))\n",
        "\n",
        "dpt_model.compile(optimizer='rmsprop',\n",
        "                  loss='binary_crossentropy',\n",
        "                  metrics=['acc'])"
      ]
    },
    {
      "cell_type": "code",
      "execution_count": null,
      "metadata": {
        "colab": {
          "base_uri": "https://localhost:8080/"
        },
        "id": "V2eyXv1T6pWE",
        "outputId": "bf7783c4-2539-45bc-bbdb-fc423d558280"
      },
      "outputs": [
        {
          "output_type": "stream",
          "name": "stdout",
          "text": [
            "Epoch 1/10\n",
            "49/49 [==============================] - 10s 91ms/step - loss: 0.4656 - acc: 0.7894 - val_loss: 0.3212 - val_acc: 0.8719\n",
            "Epoch 2/10\n",
            "49/49 [==============================] - 1s 28ms/step - loss: 0.2886 - acc: 0.8892 - val_loss: 0.2770 - val_acc: 0.8878\n",
            "Epoch 3/10\n",
            "49/49 [==============================] - 1s 28ms/step - loss: 0.2217 - acc: 0.9166 - val_loss: 0.2866 - val_acc: 0.8824\n",
            "Epoch 4/10\n",
            "49/49 [==============================] - 2s 42ms/step - loss: 0.1821 - acc: 0.9318 - val_loss: 0.2857 - val_acc: 0.8848\n",
            "Epoch 5/10\n",
            "49/49 [==============================] - 2s 33ms/step - loss: 0.1523 - acc: 0.9430 - val_loss: 0.2999 - val_acc: 0.8829\n",
            "Epoch 6/10\n",
            "49/49 [==============================] - 1s 29ms/step - loss: 0.1230 - acc: 0.9552 - val_loss: 0.3283 - val_acc: 0.8816\n",
            "Epoch 7/10\n",
            "49/49 [==============================] - 1s 27ms/step - loss: 0.1020 - acc: 0.9653 - val_loss: 0.3520 - val_acc: 0.8803\n",
            "Epoch 8/10\n",
            "49/49 [==============================] - 1s 28ms/step - loss: 0.0847 - acc: 0.9716 - val_loss: 0.4146 - val_acc: 0.8701\n",
            "Epoch 9/10\n",
            "49/49 [==============================] - 1s 27ms/step - loss: 0.0635 - acc: 0.9791 - val_loss: 0.4347 - val_acc: 0.8768\n",
            "Epoch 10/10\n",
            "49/49 [==============================] - 1s 28ms/step - loss: 0.0469 - acc: 0.9857 - val_loss: 0.4764 - val_acc: 0.8750\n"
          ]
        }
      ],
      "source": [
        "dpt_model_hist = dpt_model.fit(x_train, y_train,\n",
        "                               epochs=10,\n",
        "                               batch_size=512,\n",
        "                               validation_data=(x_test, y_test))"
      ]
    },
    {
      "cell_type": "markdown",
      "metadata": {
        "id": "93nQwWzW6pWF"
      },
      "source": [
        "Czas przedstawić wyniki na wykresie:"
      ]
    },
    {
      "cell_type": "code",
      "execution_count": null,
      "metadata": {
        "colab": {
          "base_uri": "https://localhost:8080/",
          "height": 449
        },
        "id": "_VFHJfm56pWG",
        "scrolled": true,
        "outputId": "b2fb24f8-c229-4bd9-8045-4e977c24d09a"
      },
      "outputs": [
        {
          "output_type": "display_data",
          "data": {
            "text/plain": [
              "<Figure size 640x480 with 1 Axes>"
            ],
            "image/png": "[encoded data removed]"
          },
          "metadata": {}
        }
      ],
      "source": [
        "dpt_model_val_loss = dpt_model_hist.history['val_loss']\n",
        "\n",
        "import matplotlib.pyplot as plt\n",
        "epochs = range(1,11)\n",
        "\n",
        "plt.plot(epochs, original_val_loss, 'b+', label='Oryginalny model')\n",
        "plt.plot(epochs, dpt_model_val_loss, 'bo', label='Model z regularyzacja dropout')\n",
        "\n",
        "# zbiór treningowy\n",
        "plt.plot(epochs, original_hist.history['loss'], 'r+', label='Oryginalny model - treningowe')\n",
        "plt.plot(epochs, dpt_model_hist.history['loss'], 'ro', label='Dropout model - treningowe')\n",
        "\n",
        "plt.xlabel('Epoki')\n",
        "plt.ylabel('Strata walidacji')\n",
        "plt.legend()\n",
        "\n",
        "plt.show()"
      ]
    },
    {
      "cell_type": "markdown",
      "metadata": {
        "id": "ey854c2h6pWH"
      },
      "source": [
        "\n",
        "Ponownie widać poprawę względem sieci referencyjnej.\n",
        "\n",
        "Reasumując, oto najczęściej stosowane techniki mające zapobiec nadmiernemu dopasowaniu sieci neuronowych:\n",
        "\n",
        "* Zdobycie większej ilości danych treningowych.\n",
        "* Redukcja pojemności sieci.\n",
        "* Dodanie regularyzacji wag.\n",
        "* Dodanie mechanizmu porzucania."
      ]
    },
    {
      "cell_type": "markdown",
      "source": [
        "# Mój model"
      ],
      "metadata": {
        "id": "yPoMIq1JF1pd"
      }
    },
    {
      "cell_type": "code",
      "source": [
        "from keras import models\n",
        "from keras import layers\n",
        "from keras import regularizers\n",
        "\n",
        "my_model = models.Sequential()\n",
        "my_model.add(layers.Dense(32, activation='relu',input_shape=(10000,)))\n",
        "my_model.add(layers.Dropout(0.3))\n",
        "my_model.add(layers.Dense(16, activation='relu'))\n",
        "my_model.add(layers.Dropout(0.2))\n",
        "my_model.add(layers.Dense(1, activation='sigmoid'))\n",
        "\n",
        "my_model.compile(optimizer='adam',\n",
        "                  loss='binary_crossentropy',\n",
        "                  metrics=['acc'])\n",
        "\n",
        "my_model.summary() #podsumowanie"
      ],
      "metadata": {
        "colab": {
          "base_uri": "https://localhost:8080/"
        },
        "id": "mno7HRXXF2v9",
        "outputId": "4f272c68-46b6-4c8e-fc24-de591bf2a3fa"
      },
      "execution_count": null,
      "outputs": [
        {
          "output_type": "stream",
          "name": "stdout",
          "text": [
            "Model: \"sequential_1\"\n",
            "_________________________________________________________________\n",
            " Layer (type)                Output Shape              Param #   \n",
            "=================================================================\n",
            " dense_3 (Dense)             (None, 32)                320032    \n",
            "                                                                 \n",
            " dropout_2 (Dropout)         (None, 32)                0         \n",
            "                                                                 \n",
            " dense_4 (Dense)             (None, 16)                528       \n",
            "                                                                 \n",
            " dropout_3 (Dropout)         (None, 16)                0         \n",
            "                                                                 \n",
            " dense_5 (Dense)             (None, 1)                 17        \n",
            "                                                                 \n",
            "=================================================================\n",
            "Total params: 320,577\n",
            "Trainable params: 320,577\n",
            "Non-trainable params: 0\n",
            "_________________________________________________________________\n"
          ]
        }
      ]
    },
    {
      "cell_type": "code",
      "source": [
        "my_model_hist = my_model.fit(x_train, y_train,\n",
        "                               epochs=30,\n",
        "                               batch_size=512,\n",
        "                               validation_data=(x_test, y_test))"
      ],
      "metadata": {
        "colab": {
          "base_uri": "https://localhost:8080/"
        },
        "id": "3NkBoDmJGN4D",
        "outputId": "45856a4d-d5e6-4482-b375-b924df678ad5"
      },
      "execution_count": null,
      "outputs": [
        {
          "output_type": "stream",
          "name": "stdout",
          "text": [
            "Epoch 1/30\n",
            "49/49 [==============================] - 7s 97ms/step - loss: 0.5117 - acc: 0.7604 - val_loss: 0.3396 - val_acc: 0.8762\n",
            "Epoch 2/30\n",
            "49/49 [==============================] - 2s 42ms/step - loss: 0.2945 - acc: 0.8904 - val_loss: 0.2802 - val_acc: 0.8870\n",
            "Epoch 3/30\n",
            "49/49 [==============================] - 1s 29ms/step - loss: 0.2205 - acc: 0.9216 - val_loss: 0.2884 - val_acc: 0.8808\n",
            "Epoch 4/30\n",
            "49/49 [==============================] - 1s 28ms/step - loss: 0.1726 - acc: 0.9410 - val_loss: 0.2910 - val_acc: 0.8839\n",
            "Epoch 5/30\n",
            "49/49 [==============================] - 1s 28ms/step - loss: 0.1406 - acc: 0.9527 - val_loss: 0.3238 - val_acc: 0.8778\n",
            "Epoch 6/30\n",
            "49/49 [==============================] - 2s 45ms/step - loss: 0.1112 - acc: 0.9645 - val_loss: 0.3391 - val_acc: 0.8786\n",
            "Epoch 7/30\n",
            "49/49 [==============================] - 2s 44ms/step - loss: 0.0908 - acc: 0.9714 - val_loss: 0.3745 - val_acc: 0.8723\n",
            "Epoch 8/30\n",
            "49/49 [==============================] - 1s 29ms/step - loss: 0.0714 - acc: 0.9785 - val_loss: 0.4037 - val_acc: 0.8732\n",
            "Epoch 9/30\n",
            "49/49 [==============================] - 1s 29ms/step - loss: 0.0580 - acc: 0.9832 - val_loss: 0.4376 - val_acc: 0.8725\n",
            "Epoch 10/30\n",
            "49/49 [==============================] - 1s 29ms/step - loss: 0.0476 - acc: 0.9859 - val_loss: 0.4769 - val_acc: 0.8712\n",
            "Epoch 11/30\n",
            "49/49 [==============================] - 1s 29ms/step - loss: 0.0391 - acc: 0.9896 - val_loss: 0.5003 - val_acc: 0.8705\n",
            "Epoch 12/30\n",
            "49/49 [==============================] - 1s 29ms/step - loss: 0.0330 - acc: 0.9908 - val_loss: 0.5341 - val_acc: 0.8681\n",
            "Epoch 13/30\n",
            "49/49 [==============================] - 2s 43ms/step - loss: 0.0264 - acc: 0.9929 - val_loss: 0.5616 - val_acc: 0.8686\n",
            "Epoch 14/30\n",
            "49/49 [==============================] - 2s 47ms/step - loss: 0.0242 - acc: 0.9931 - val_loss: 0.5898 - val_acc: 0.8665\n",
            "Epoch 15/30\n",
            "49/49 [==============================] - 1s 29ms/step - loss: 0.0205 - acc: 0.9947 - val_loss: 0.6247 - val_acc: 0.8659\n",
            "Epoch 16/30\n",
            "49/49 [==============================] - 1s 29ms/step - loss: 0.0180 - acc: 0.9952 - val_loss: 0.6485 - val_acc: 0.8645\n",
            "Epoch 17/30\n",
            "49/49 [==============================] - 1s 29ms/step - loss: 0.0175 - acc: 0.9954 - val_loss: 0.6585 - val_acc: 0.8670\n",
            "Epoch 18/30\n",
            "49/49 [==============================] - 1s 29ms/step - loss: 0.0144 - acc: 0.9962 - val_loss: 0.6618 - val_acc: 0.8660\n",
            "Epoch 19/30\n",
            "49/49 [==============================] - 1s 29ms/step - loss: 0.0148 - acc: 0.9954 - val_loss: 0.6716 - val_acc: 0.8652\n",
            "Epoch 20/30\n",
            "49/49 [==============================] - 1s 30ms/step - loss: 0.0125 - acc: 0.9965 - val_loss: 0.7296 - val_acc: 0.8662\n",
            "Epoch 21/30\n",
            "49/49 [==============================] - 2s 44ms/step - loss: 0.0120 - acc: 0.9970 - val_loss: 0.7446 - val_acc: 0.8654\n",
            "Epoch 22/30\n",
            "49/49 [==============================] - 2s 47ms/step - loss: 0.0108 - acc: 0.9970 - val_loss: 0.7630 - val_acc: 0.8651\n",
            "Epoch 23/30\n",
            "49/49 [==============================] - 1s 29ms/step - loss: 0.0111 - acc: 0.9965 - val_loss: 0.7786 - val_acc: 0.8658\n",
            "Epoch 24/30\n",
            "49/49 [==============================] - 1s 29ms/step - loss: 0.0112 - acc: 0.9969 - val_loss: 0.8100 - val_acc: 0.8659\n",
            "Epoch 25/30\n",
            "49/49 [==============================] - 1s 29ms/step - loss: 0.0099 - acc: 0.9972 - val_loss: 0.8326 - val_acc: 0.8655\n",
            "Epoch 26/30\n",
            "49/49 [==============================] - 1s 30ms/step - loss: 0.0107 - acc: 0.9968 - val_loss: 0.8146 - val_acc: 0.8651\n",
            "Epoch 27/30\n",
            "49/49 [==============================] - 1s 29ms/step - loss: 0.0090 - acc: 0.9974 - val_loss: 0.8436 - val_acc: 0.8656\n",
            "Epoch 28/30\n",
            "49/49 [==============================] - 1s 29ms/step - loss: 0.0088 - acc: 0.9973 - val_loss: 0.8588 - val_acc: 0.8656\n",
            "Epoch 29/30\n",
            "49/49 [==============================] - 2s 37ms/step - loss: 0.0089 - acc: 0.9972 - val_loss: 0.8811 - val_acc: 0.8655\n",
            "Epoch 30/30\n",
            "49/49 [==============================] - 2s 32ms/step - loss: 0.0096 - acc: 0.9970 - val_loss: 0.8226 - val_acc: 0.8637\n"
          ]
        }
      ]
    }
  ],
  "metadata": {
    "accelerator": "GPU",
    "colab": {
      "provenance": []
    },
    "kernelspec": {
      "display_name": "Python 3",
      "language": "python",
      "name": "python3"
    },
    "language_info": {
      "codemirror_mode": {
        "name": "ipython",
        "version": 3
      },
      "file_extension": ".py",
      "mimetype": "text/x-python",
      "name": "python",
      "nbconvert_exporter": "python",
      "pygments_lexer": "ipython3",
      "version": "3.6.5"
    }
  },
  "nbformat": 4,
  "nbformat_minor": 0
}