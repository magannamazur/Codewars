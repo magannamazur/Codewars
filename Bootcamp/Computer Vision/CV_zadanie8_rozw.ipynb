{
  "nbformat": 4,
  "nbformat_minor": 0,
  "metadata": {
    "colab": {
      "provenance": [],
      "gpuType": "T4"
    },
    "kernelspec": {
      "name": "python3",
      "display_name": "Python 3"
    },
    "language_info": {
      "name": "python"
    },
    "accelerator": "GPU"
  },
  "cells": [
    {
      "cell_type": "markdown",
      "source": [
        "# Zadanie 8. Oszukiwanie CNN\n",
        "\n",
        "1. Weź zdjęcie ze zbioru walidacyjnego CIFAR10.\n",
        "2. Dodaj do zdjęcia szum (np. szum gaussowski).\n",
        "3. Wykorzystaj sieć wyuczoną w którymś z poprzednich kroków (lub wyucz sieć od nowa) i sprawdź, jak sobie radzi ze zdjęciem z szumem.\n",
        "4. *Dodaj szum do wszystkich zdjęć w zbiorze walidacyjnym i sprawdź różnice accuracy."
      ],
      "metadata": {
        "id": "eoLOlBYNZguK"
      }
    },
    {
      "cell_type": "code",
      "source": [
        "import numpy as np\n",
        "from matplotlib import pyplot as plt\n",
        "from tensorflow.keras.utils import to_categorical\n",
        "import keras\n",
        "from tensorflow.keras.models import Sequential\n",
        "from tensorflow.keras.layers import Dense\n"
      ],
      "metadata": {
        "id": "toYRgPL8aZ-2"
      },
      "execution_count": null,
      "outputs": []
    },
    {
      "cell_type": "code",
      "source": [
        "(train_x, train_y), (test_x, test_y) = keras.datasets.cifar10.load_data()\n",
        "\n",
        "# 0-255 to 0-1\n",
        "train_x = train_x/255\n",
        "test_x = test_x/255\n",
        "\n",
        "# Change the labels from integer to categorical data\n",
        "train_y_one_hot = to_categorical(train_y)\n",
        "test_y_one_hot = to_categorical(test_y)"
      ],
      "metadata": {
        "id": "YchbeaZWaWsF",
        "colab": {
          "base_uri": "https://localhost:8080/"
        },
        "outputId": "338390c2-cfb1-4dee-86c5-0408b72825c7"
      },
      "execution_count": null,
      "outputs": [
        {
          "output_type": "stream",
          "name": "stdout",
          "text": [
            "Downloading data from https://www.cs.toronto.edu/~kriz/cifar-10-python.tar.gz\n",
            "170498071/170498071 [==============================] - 2s 0us/step\n"
          ]
        }
      ]
    },
    {
      "cell_type": "code",
      "execution_count": null,
      "metadata": {
        "colab": {
          "base_uri": "https://localhost:8080/"
        },
        "id": "BiNXIm4OZaw2",
        "outputId": "5f7ec6e7-8f49-4a24-efa5-0d662cc20b52"
      },
      "outputs": [
        {
          "output_type": "stream",
          "name": "stderr",
          "text": [
            "WARNING:absl:`lr` is deprecated in Keras optimizer, please use `learning_rate` or use the legacy optimizer, e.g.,tf.keras.optimizers.legacy.SGD.\n"
          ]
        },
        {
          "output_type": "stream",
          "name": "stdout",
          "text": [
            "782/782 [==============================] - 27s 14ms/step - loss: 1.6201 - accuracy: 0.4177 - val_loss: 1.9706 - val_accuracy: 0.3578\n"
          ]
        }
      ],
      "source": [
        "from tensorflow.keras.layers import Conv2D, MaxPooling2D, Flatten, Dense, BatchNormalization, Dropout\n",
        "from tensorflow.keras.models import Sequential\n",
        "import tensorflow as tf\n",
        "\n",
        "#budowa modelu\n",
        "model = Sequential()\n",
        "model.add(Conv2D(32, (3,3), activation='relu', kernel_initializer='he_uniform', padding='same',\n",
        "                 input_shape=(32,32,3)))\n",
        "model.add(BatchNormalization())\n",
        "model.add(Conv2D(32, (3,3), activation='relu', kernel_initializer='he_uniform', padding='same'))\n",
        "model.add(BatchNormalization())\n",
        "model.add(MaxPooling2D((2,2)))\n",
        "model.add(Dropout(0.2))\n",
        "\n",
        "model.add(Conv2D(64, (3,3), activation='relu', kernel_initializer='he_uniform', padding='same'))\n",
        "model.add(BatchNormalization())\n",
        "model.add(Conv2D(64, (3,3), activation='relu', kernel_initializer='he_uniform', padding='same'))\n",
        "model.add(BatchNormalization())\n",
        "model.add(MaxPooling2D((2,2)))\n",
        "model.add(Dropout(0.3))\n",
        "\n",
        "model.add(Conv2D(128, (3,3), activation='relu', kernel_initializer='he_uniform', padding='same'))\n",
        "model.add(BatchNormalization())\n",
        "model.add(Conv2D(128, (3,3), activation='relu', kernel_initializer='he_uniform', padding='same'))\n",
        "model.add(BatchNormalization())\n",
        "model.add(MaxPooling2D((2,2)))\n",
        "model.add(Dropout(0.4))\n",
        "\n",
        "model.add(Flatten())\n",
        "model.add(Dense(128, activation='relu', kernel_initializer='he_uniform'))\n",
        "model.add(BatchNormalization())\n",
        "model.add(Dropout(0.5))\n",
        "\n",
        "model.add(Dense(10, activation='softmax'))\n",
        "\n",
        "#kompilacja modelu\n",
        "opt = tf.keras.optimizers.SGD(lr=0.001, momentum=0.9)\n",
        "model.compile(optimizer=opt, loss='categorical_crossentropy', metrics=['accuracy'])\n",
        "\n",
        "#trenowanie\n",
        "history = model.fit(train_x, train_y_one_hot,\n",
        "                   batch_size=64, epochs=1, verbose=True,\n",
        "                   validation_data=(test_x, test_y_one_hot))\n"
      ]
    },
    {
      "cell_type": "code",
      "source": [
        "model.evaluate(test_x, test_y_one_hot)"
      ],
      "metadata": {
        "colab": {
          "base_uri": "https://localhost:8080/"
        },
        "id": "gzQr5eXmaSZD",
        "outputId": "d2747d84-5b72-4d0f-e92a-b23bc1748011"
      },
      "execution_count": null,
      "outputs": [
        {
          "output_type": "stream",
          "name": "stdout",
          "text": [
            "313/313 [==============================] - 1s 4ms/step - loss: 1.9706 - accuracy: 0.3578\n"
          ]
        },
        {
          "output_type": "execute_result",
          "data": {
            "text/plain": [
              "[1.9705801010131836, 0.3578000068664551]"
            ]
          },
          "metadata": {},
          "execution_count": 4
        }
      ]
    },
    {
      "cell_type": "code",
      "source": [
        "import numpy as np"
      ],
      "metadata": {
        "id": "BBJ8FhFUc3Ur"
      },
      "execution_count": null,
      "outputs": []
    },
    {
      "cell_type": "code",
      "source": [
        "# szum gaussowski - średnia 0, std 1/10\n",
        "random_noise = np.random.randn(*test_x[0].shape)/10"
      ],
      "metadata": {
        "id": "OX0vEY4idCX8"
      },
      "execution_count": null,
      "outputs": []
    },
    {
      "cell_type": "code",
      "source": [
        "np.mean(random_noise), np.std(random_noise)"
      ],
      "metadata": {
        "colab": {
          "base_uri": "https://localhost:8080/"
        },
        "id": "oczZTNwVdTGM",
        "outputId": "9720a94c-6c31-4d75-bc76-9efa3412dc4d"
      },
      "execution_count": null,
      "outputs": [
        {
          "output_type": "execute_result",
          "data": {
            "text/plain": [
              "(0.0015201325510621527, 0.10016644299330789)"
            ]
          },
          "metadata": {},
          "execution_count": 7
        }
      ]
    },
    {
      "cell_type": "code",
      "source": [
        "# dodanie szumu do obrazu\n",
        "noisy_img = np.add(test_x[0], random_noise)"
      ],
      "metadata": {
        "id": "q9GtcfkTdZCf"
      },
      "execution_count": null,
      "outputs": []
    },
    {
      "cell_type": "code",
      "source": [
        "# obraz z szumem\n",
        "plt.imshow(noisy_img, cmap='gray')"
      ],
      "metadata": {
        "colab": {
          "base_uri": "https://localhost:8080/",
          "height": 465
        },
        "id": "dzOBXfb7kutp",
        "outputId": "9f71c20d-f31f-489c-86d2-10b6243deed5"
      },
      "execution_count": null,
      "outputs": [
        {
          "output_type": "stream",
          "name": "stderr",
          "text": [
            "WARNING:matplotlib.image:Clipping input data to the valid range for imshow with RGB data ([0..1] for floats or [0..255] for integers).\n"
          ]
        },
        {
          "output_type": "execute_result",
          "data": {
            "text/plain": [
              "<matplotlib.image.AxesImage at 0x7fa2f030f490>"
            ]
          },
          "metadata": {},
          "execution_count": 9
        },
        {
          "output_type": "display_data",
          "data": {
            "text/plain": [
              "<Figure size 640x480 with 1 Axes>"
            ],
            "image/png": "[encoded data removed]"
          },
          "metadata": {}
        }
      ]
    },
    {
      "cell_type": "code",
      "source": [
        "# oryginalny obraz\n",
        "plt.imshow(test_x[0], cmap='gray')"
      ],
      "metadata": {
        "colab": {
          "base_uri": "https://localhost:8080/",
          "height": 447
        },
        "id": "ZtIFsN_LkzrT",
        "outputId": "0bbde567-210e-491d-dd8c-a69caa02f1c8"
      },
      "execution_count": null,
      "outputs": [
        {
          "output_type": "execute_result",
          "data": {
            "text/plain": [
              "<matplotlib.image.AxesImage at 0x7fa2f00a86a0>"
            ]
          },
          "metadata": {},
          "execution_count": 10
        },
        {
          "output_type": "display_data",
          "data": {
            "text/plain": [
              "<Figure size 640x480 with 1 Axes>"
            ],
            "image/png": "[encoded data removed]"
          },
          "metadata": {}
        }
      ]
    },
    {
      "cell_type": "code",
      "source": [
        "# klasa oryginalnego obrazu\n",
        "np.argmax(model(np.reshape(test_x[0], (-1, *test_x[0].shape))))"
      ],
      "metadata": {
        "colab": {
          "base_uri": "https://localhost:8080/"
        },
        "id": "kPr8pEvdcYc6",
        "outputId": "aaa756bc-e104-47bd-abfc-4b95301f5d1d"
      },
      "execution_count": null,
      "outputs": [
        {
          "output_type": "execute_result",
          "data": {
            "text/plain": [
              "3"
            ]
          },
          "metadata": {},
          "execution_count": 11
        }
      ]
    },
    {
      "cell_type": "code",
      "source": [
        "model(np.reshape(test_x[0], (-1, *test_x[0].shape)))"
      ],
      "metadata": {
        "colab": {
          "base_uri": "https://localhost:8080/"
        },
        "id": "cay7pXnp7TMB",
        "outputId": "48b85786-47a9-4cff-9e3a-3707e56a14b3"
      },
      "execution_count": null,
      "outputs": [
        {
          "output_type": "execute_result",
          "data": {
            "text/plain": [
              "<tf.Tensor: shape=(1, 10), dtype=float32, numpy=\n",
              "array([[0.00240321, 0.00074046, 0.0323435 , 0.53878736, 0.02386259,\n",
              "        0.31248915, 0.03598696, 0.04711585, 0.00378748, 0.00248342]],\n",
              "      dtype=float32)>"
            ]
          },
          "metadata": {},
          "execution_count": 12
        }
      ]
    },
    {
      "cell_type": "code",
      "source": [
        "test_x[0].shape"
      ],
      "metadata": {
        "colab": {
          "base_uri": "https://localhost:8080/"
        },
        "id": "qFy6Qf817u-V",
        "outputId": "2a446e54-b70e-4787-a476-3f2a39e5da62"
      },
      "execution_count": null,
      "outputs": [
        {
          "output_type": "execute_result",
          "data": {
            "text/plain": [
              "(32, 32, 3)"
            ]
          },
          "metadata": {},
          "execution_count": 16
        }
      ]
    },
    {
      "cell_type": "code",
      "source": [
        "# klasa obrazu z szumem\n",
        "np.argmax(model(np.reshape(noisy_img, (-1, *noisy_img.shape))))"
      ],
      "metadata": {
        "colab": {
          "base_uri": "https://localhost:8080/"
        },
        "id": "yEWaqPWObEqi",
        "outputId": "f5eb1469-59c7-47c1-cc8d-6db391cdff2c"
      },
      "execution_count": null,
      "outputs": [
        {
          "output_type": "execute_result",
          "data": {
            "text/plain": [
              "6"
            ]
          },
          "metadata": {},
          "execution_count": 57
        }
      ]
    },
    {
      "cell_type": "code",
      "source": [
        "# dodanie szumu do wszystkich obrazów w zbiorze testowym\n",
        "test_x_noisy = []\n",
        "for x_sample in test_x:\n",
        "  random_noise = np.random.randn(*test_x[0].shape)/20\n",
        "  noisy_img = np.add(x_sample, random_noise)\n",
        "  test_x_noisy.append(noisy_img)\n",
        "test_x_noisy = np.stack(test_x_noisy)"
      ],
      "metadata": {
        "id": "QOGNXE7VlqLT"
      },
      "execution_count": null,
      "outputs": []
    },
    {
      "cell_type": "code",
      "source": [
        "# ewaluacja\n",
        "model.evaluate(test_x_noisy, test_y_one_hot)"
      ],
      "metadata": {
        "colab": {
          "base_uri": "https://localhost:8080/"
        },
        "id": "7YiJC-6dllPl",
        "outputId": "7a4736d6-bbd2-4a1c-e2c1-1457540aa3a5"
      },
      "execution_count": null,
      "outputs": [
        {
          "output_type": "stream",
          "name": "stdout",
          "text": [
            "313/313 [==============================] - 1s 4ms/step - loss: 1.1737 - accuracy: 0.6664\n"
          ]
        },
        {
          "output_type": "execute_result",
          "data": {
            "text/plain": [
              "[1.173704743385315, 0.6664000153541565]"
            ]
          },
          "metadata": {},
          "execution_count": 63
        }
      ]
    },
    {
      "cell_type": "code",
      "source": [],
      "metadata": {
        "id": "Gqnvb-ZKoN2r"
      },
      "execution_count": null,
      "outputs": []
    }
  ]
}