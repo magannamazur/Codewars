{
  "nbformat": 4,
  "nbformat_minor": 0,
  "metadata": {
    "colab": {
      "provenance": [],
      "gpuType": "T4"
    },
    "kernelspec": {
      "name": "python3",
      "display_name": "Python 3"
    },
    "language_info": {
      "name": "python"
    },
    "accelerator": "GPU"
  },
  "cells": [
    {
      "cell_type": "markdown",
      "source": [
        "# Zadanie 9. Regularyzacja\n",
        "\n",
        "1. Wyucz dowolną sieć CNN na zbiorze Cifar10. Zapisz wyniki ewaluacji.\n",
        "2. Dodaj do tej sieci warstwy Batch Normalization. Porównaj wyniki.\n",
        "3. Dodaj do pierwszej sieci Dropout. Porównaj wyniki.\n",
        "4. Dodaj Batch Normalization i Dropout. Porównaj wyniki."
      ],
      "metadata": {
        "id": "btvp7Bh9t41x"
      }
    },
    {
      "cell_type": "code",
      "source": [],
      "metadata": {
        "id": "t0ha0QDnincw"
      },
      "execution_count": null,
      "outputs": []
    },
    {
      "cell_type": "code",
      "execution_count": null,
      "metadata": {
        "id": "OPO1s1HatnFx"
      },
      "outputs": [],
      "source": [
        "import numpy as np\n",
        "from matplotlib import pyplot as plt\n",
        "from tensorflow.keras.utils import to_categorical\n",
        "import keras\n"
      ]
    },
    {
      "cell_type": "code",
      "source": [
        "num_epochs = 20"
      ],
      "metadata": {
        "id": "yGw30UMtVDRF"
      },
      "execution_count": null,
      "outputs": []
    },
    {
      "cell_type": "code",
      "source": [
        "(train_x, train_y), (test_x, test_y) = keras.datasets.cifar10.load_data()\n",
        "\n",
        "# 0-255 to 0-1\n",
        "train_x = train_x/255\n",
        "test_x = test_x/255\n",
        "\n",
        "# Change the labels from integer to categorical data\n",
        "train_y_one_hot = to_categorical(train_y)\n",
        "test_y_one_hot = to_categorical(test_y)"
      ],
      "metadata": {
        "colab": {
          "base_uri": "https://localhost:8080/"
        },
        "id": "ILbHyPbyupRl",
        "outputId": "f24c068c-1e1e-4f6e-d169-7d1604e515f7"
      },
      "execution_count": null,
      "outputs": [
        {
          "output_type": "stream",
          "name": "stdout",
          "text": [
            "Downloading data from https://www.cs.toronto.edu/~kriz/cifar-10-python.tar.gz\n",
            "170498071/170498071 [==============================] - 3s 0us/step\n"
          ]
        }
      ]
    },
    {
      "cell_type": "code",
      "source": [
        "from tensorflow.keras.layers import Conv2D, MaxPooling2D, Flatten, Dense\n",
        "import tensorflow as tf\n",
        "from tensorflow.keras.models import Sequential\n",
        "\n",
        "#budowa modelu\n",
        "model = Sequential()\n",
        "model.add(Conv2D(32, (3,3), activation='relu', kernel_initializer='he_uniform', padding='same',\n",
        "                 input_shape=(32,32,3)))\n",
        "model.add(Conv2D(32, (3,3), activation='relu', kernel_initializer='he_uniform', padding='same'))\n",
        "model.add(MaxPooling2D((2,2)))\n",
        "\n",
        "model.add(Conv2D(64, (3,3), activation='relu', kernel_initializer='he_uniform', padding='same'))\n",
        "model.add(Conv2D(64, (3,3), activation='relu', kernel_initializer='he_uniform', padding='same'))\n",
        "model.add(MaxPooling2D((2,2)))\n",
        "\n",
        "model.add(Conv2D(128, (3,3), activation='relu', kernel_initializer='he_uniform', padding='same'))\n",
        "model.add(Conv2D(128, (3,3), activation='relu', kernel_initializer='he_uniform', padding='same'))\n",
        "model.add(MaxPooling2D((2,2)))\n",
        "\n",
        "model.add(Flatten())\n",
        "model.add(Dense(128, activation='relu', kernel_initializer='he_uniform'))\n",
        "model.add(Dense(10, activation='softmax'))\n",
        "\n",
        "#kompilacja modelu\n",
        "opt = tf.keras.optimizers.SGD(lr=0.001, momentum=0.9)\n",
        "model.compile(optimizer=opt, loss='categorical_crossentropy', metrics=['accuracy'])\n",
        "\n",
        "#trenowanie\n",
        "history = model.fit(train_x, train_y_one_hot,\n",
        "                   batch_size=64, epochs=num_epochs, verbose=True,\n",
        "                   validation_data=(test_x, test_y_one_hot))\n",
        "\n"
      ],
      "metadata": {
        "colab": {
          "base_uri": "https://localhost:8080/"
        },
        "id": "qG0FdBauuwno",
        "outputId": "8b2ab708-526c-4d3e-a09c-0928541b7840"
      },
      "execution_count": null,
      "outputs": [
        {
          "output_type": "stream",
          "name": "stderr",
          "text": [
            "WARNING:absl:`lr` is deprecated in Keras optimizer, please use `learning_rate` or use the legacy optimizer, e.g.,tf.keras.optimizers.legacy.SGD.\n"
          ]
        },
        {
          "output_type": "stream",
          "name": "stdout",
          "text": [
            "Epoch 1/20\n",
            "782/782 [==============================] - 20s 12ms/step - loss: 1.5335 - accuracy: 0.4430 - val_loss: 1.1419 - val_accuracy: 0.5949\n",
            "Epoch 2/20\n",
            "782/782 [==============================] - 6s 8ms/step - loss: 1.0586 - accuracy: 0.6258 - val_loss: 1.0582 - val_accuracy: 0.6315\n",
            "Epoch 3/20\n",
            "782/782 [==============================] - 7s 9ms/step - loss: 0.8550 - accuracy: 0.6985 - val_loss: 0.8862 - val_accuracy: 0.6925\n",
            "Epoch 4/20\n",
            "782/782 [==============================] - 7s 8ms/step - loss: 0.7209 - accuracy: 0.7488 - val_loss: 0.8249 - val_accuracy: 0.7136\n",
            "Epoch 5/20\n",
            "782/782 [==============================] - 7s 8ms/step - loss: 0.6214 - accuracy: 0.7839 - val_loss: 0.8003 - val_accuracy: 0.7301\n",
            "Epoch 6/20\n",
            "782/782 [==============================] - 7s 9ms/step - loss: 0.5257 - accuracy: 0.8154 - val_loss: 0.7523 - val_accuracy: 0.7538\n",
            "Epoch 7/20\n",
            "782/782 [==============================] - 6s 8ms/step - loss: 0.4414 - accuracy: 0.8455 - val_loss: 0.7864 - val_accuracy: 0.7366\n",
            "Epoch 8/20\n",
            "782/782 [==============================] - 7s 9ms/step - loss: 0.3807 - accuracy: 0.8649 - val_loss: 0.8619 - val_accuracy: 0.7473\n",
            "Epoch 9/20\n",
            "782/782 [==============================] - 7s 9ms/step - loss: 0.3318 - accuracy: 0.8832 - val_loss: 0.8524 - val_accuracy: 0.7501\n",
            "Epoch 10/20\n",
            "782/782 [==============================] - 7s 9ms/step - loss: 0.2894 - accuracy: 0.8969 - val_loss: 0.8884 - val_accuracy: 0.7494\n",
            "Epoch 11/20\n",
            "782/782 [==============================] - 6s 8ms/step - loss: 0.2521 - accuracy: 0.9119 - val_loss: 0.9148 - val_accuracy: 0.7561\n",
            "Epoch 12/20\n",
            "782/782 [==============================] - 7s 9ms/step - loss: 0.2364 - accuracy: 0.9158 - val_loss: 0.9779 - val_accuracy: 0.7559\n",
            "Epoch 13/20\n",
            "782/782 [==============================] - 6s 8ms/step - loss: 0.2195 - accuracy: 0.9230 - val_loss: 1.0482 - val_accuracy: 0.7432\n",
            "Epoch 14/20\n",
            "782/782 [==============================] - 7s 8ms/step - loss: 0.2027 - accuracy: 0.9292 - val_loss: 1.1911 - val_accuracy: 0.7397\n",
            "Epoch 15/20\n",
            "782/782 [==============================] - 6s 8ms/step - loss: 0.1794 - accuracy: 0.9372 - val_loss: 1.1332 - val_accuracy: 0.7548\n",
            "Epoch 16/20\n",
            "782/782 [==============================] - 7s 8ms/step - loss: 0.1765 - accuracy: 0.9399 - val_loss: 1.1644 - val_accuracy: 0.7598\n",
            "Epoch 17/20\n",
            "782/782 [==============================] - 6s 8ms/step - loss: 0.1755 - accuracy: 0.9407 - val_loss: 1.2295 - val_accuracy: 0.7437\n",
            "Epoch 18/20\n",
            "782/782 [==============================] - 7s 8ms/step - loss: 0.1728 - accuracy: 0.9420 - val_loss: 1.1959 - val_accuracy: 0.7442\n",
            "Epoch 19/20\n",
            "782/782 [==============================] - 7s 8ms/step - loss: 0.1814 - accuracy: 0.9379 - val_loss: 1.2050 - val_accuracy: 0.7515\n",
            "Epoch 20/20\n",
            "782/782 [==============================] - 6s 8ms/step - loss: 0.1607 - accuracy: 0.9462 - val_loss: 1.2894 - val_accuracy: 0.7430\n"
          ]
        }
      ]
    },
    {
      "cell_type": "code",
      "source": [
        "model.evaluate(test_x, test_y_one_hot)"
      ],
      "metadata": {
        "colab": {
          "base_uri": "https://localhost:8080/"
        },
        "id": "heSQj9mvuz-y",
        "outputId": "2ed669e0-1de3-408c-bb0e-abc0bef4d8ce"
      },
      "execution_count": null,
      "outputs": [
        {
          "output_type": "stream",
          "name": "stdout",
          "text": [
            "313/313 [==============================] - 1s 3ms/step - loss: 1.2894 - accuracy: 0.7430\n"
          ]
        },
        {
          "output_type": "execute_result",
          "data": {
            "text/plain": [
              "[1.2894152402877808, 0.7429999709129333]"
            ]
          },
          "metadata": {},
          "execution_count": 5
        }
      ]
    },
    {
      "cell_type": "markdown",
      "source": [
        "## Batch Normalization"
      ],
      "metadata": {
        "id": "HZNAzU7cu9x2"
      }
    },
    {
      "cell_type": "code",
      "source": [
        "from tensorflow.keras.layers import BatchNormalization, Dropout"
      ],
      "metadata": {
        "id": "-2j8K4nXvF3U"
      },
      "execution_count": null,
      "outputs": []
    },
    {
      "cell_type": "code",
      "source": [
        "#budowa modelu\n",
        "model = Sequential()\n",
        "model.add(Conv2D(32, (3,3), activation='relu', kernel_initializer='he_uniform', padding='same',\n",
        "                 input_shape=(32,32,3)))\n",
        "model.add(BatchNormalization())\n",
        "model.add(Conv2D(32, (3,3), activation='relu', kernel_initializer='he_uniform', padding='same'))\n",
        "model.add(BatchNormalization())\n",
        "model.add(MaxPooling2D((2,2)))\n",
        "\n",
        "model.add(Conv2D(64, (3,3), activation='relu', kernel_initializer='he_uniform', padding='same'))\n",
        "model.add(BatchNormalization())\n",
        "model.add(Conv2D(64, (3,3), activation='relu', kernel_initializer='he_uniform', padding='same'))\n",
        "model.add(BatchNormalization())\n",
        "model.add(MaxPooling2D((2,2)))\n",
        "\n",
        "model.add(Conv2D(128, (3,3), activation='relu', kernel_initializer='he_uniform', padding='same'))\n",
        "model.add(BatchNormalization())\n",
        "model.add(Conv2D(128, (3,3), activation='relu', kernel_initializer='he_uniform', padding='same'))\n",
        "model.add(BatchNormalization())\n",
        "model.add(MaxPooling2D((2,2)))\n",
        "\n",
        "model.add(Flatten())\n",
        "model.add(Dense(128, activation='relu', kernel_initializer='he_uniform'))\n",
        "model.add(BatchNormalization())\n",
        "model.add(Dense(10, activation='softmax'))\n",
        "\n",
        "#kompilacja modelu\n",
        "opt = tf.keras.optimizers.SGD(lr=0.001, momentum=0.9)\n",
        "model.compile(optimizer=opt, loss='categorical_crossentropy', metrics=['accuracy'])\n",
        "\n",
        "#trenowanie\n",
        "history = model.fit(train_x, train_y_one_hot,\n",
        "                   batch_size=64, epochs=num_epochs, verbose=True,\n",
        "                   validation_data=(test_x, test_y_one_hot))"
      ],
      "metadata": {
        "colab": {
          "base_uri": "https://localhost:8080/"
        },
        "id": "rYKGVs2fu5by",
        "outputId": "ee455e0f-c02f-42ee-dd58-062c0e9d5ea3"
      },
      "execution_count": null,
      "outputs": [
        {
          "output_type": "stream",
          "name": "stderr",
          "text": [
            "WARNING:absl:`lr` is deprecated in Keras optimizer, please use `learning_rate` or use the legacy optimizer, e.g.,tf.keras.optimizers.legacy.SGD.\n"
          ]
        },
        {
          "output_type": "stream",
          "name": "stdout",
          "text": [
            "Epoch 1/20\n",
            "782/782 [==============================] - 11s 11ms/step - loss: 1.1885 - accuracy: 0.5766 - val_loss: 1.0338 - val_accuracy: 0.6390\n",
            "Epoch 2/20\n",
            "782/782 [==============================] - 8s 10ms/step - loss: 0.7579 - accuracy: 0.7344 - val_loss: 0.7774 - val_accuracy: 0.7246\n",
            "Epoch 3/20\n",
            "782/782 [==============================] - 8s 10ms/step - loss: 0.5927 - accuracy: 0.7928 - val_loss: 0.7436 - val_accuracy: 0.7432\n",
            "Epoch 4/20\n",
            "782/782 [==============================] - 8s 10ms/step - loss: 0.4770 - accuracy: 0.8346 - val_loss: 0.7086 - val_accuracy: 0.7619\n",
            "Epoch 5/20\n",
            "782/782 [==============================] - 8s 10ms/step - loss: 0.3795 - accuracy: 0.8683 - val_loss: 0.7564 - val_accuracy: 0.7561\n",
            "Epoch 6/20\n",
            "782/782 [==============================] - 8s 10ms/step - loss: 0.2990 - accuracy: 0.8972 - val_loss: 0.7819 - val_accuracy: 0.7664\n",
            "Epoch 7/20\n",
            "782/782 [==============================] - 8s 10ms/step - loss: 0.2339 - accuracy: 0.9177 - val_loss: 0.8285 - val_accuracy: 0.7644\n",
            "Epoch 8/20\n",
            "782/782 [==============================] - 8s 10ms/step - loss: 0.1859 - accuracy: 0.9336 - val_loss: 0.8296 - val_accuracy: 0.7735\n",
            "Epoch 9/20\n",
            "782/782 [==============================] - 8s 10ms/step - loss: 0.1415 - accuracy: 0.9513 - val_loss: 0.9382 - val_accuracy: 0.7748\n",
            "Epoch 10/20\n",
            "782/782 [==============================] - 8s 11ms/step - loss: 0.1226 - accuracy: 0.9565 - val_loss: 0.9364 - val_accuracy: 0.7703\n",
            "Epoch 11/20\n",
            "782/782 [==============================] - 8s 10ms/step - loss: 0.0993 - accuracy: 0.9660 - val_loss: 0.9973 - val_accuracy: 0.7732\n",
            "Epoch 12/20\n",
            "782/782 [==============================] - 8s 10ms/step - loss: 0.0746 - accuracy: 0.9746 - val_loss: 1.0202 - val_accuracy: 0.7709\n",
            "Epoch 13/20\n",
            "782/782 [==============================] - 8s 10ms/step - loss: 0.0604 - accuracy: 0.9793 - val_loss: 0.9894 - val_accuracy: 0.7858\n",
            "Epoch 14/20\n",
            "782/782 [==============================] - 9s 11ms/step - loss: 0.0442 - accuracy: 0.9853 - val_loss: 1.0368 - val_accuracy: 0.7845\n",
            "Epoch 15/20\n",
            "782/782 [==============================] - 8s 10ms/step - loss: 0.0526 - accuracy: 0.9818 - val_loss: 1.0381 - val_accuracy: 0.7861\n",
            "Epoch 16/20\n",
            "782/782 [==============================] - 8s 10ms/step - loss: 0.0417 - accuracy: 0.9857 - val_loss: 1.0577 - val_accuracy: 0.7870\n",
            "Epoch 17/20\n",
            "782/782 [==============================] - 8s 10ms/step - loss: 0.0424 - accuracy: 0.9856 - val_loss: 1.0649 - val_accuracy: 0.7935\n",
            "Epoch 18/20\n",
            "782/782 [==============================] - 8s 10ms/step - loss: 0.0298 - accuracy: 0.9900 - val_loss: 1.1384 - val_accuracy: 0.7888\n",
            "Epoch 19/20\n",
            "782/782 [==============================] - 8s 11ms/step - loss: 0.0242 - accuracy: 0.9919 - val_loss: 1.1013 - val_accuracy: 0.7946\n",
            "Epoch 20/20\n",
            "782/782 [==============================] - 9s 11ms/step - loss: 0.0211 - accuracy: 0.9934 - val_loss: 1.1604 - val_accuracy: 0.7938\n"
          ]
        }
      ]
    },
    {
      "cell_type": "code",
      "source": [
        "model.evaluate(test_x, test_y_one_hot)"
      ],
      "metadata": {
        "colab": {
          "base_uri": "https://localhost:8080/"
        },
        "id": "LzliX4z_vWpr",
        "outputId": "9cd5f29c-1c72-4440-c636-09b7c820e317"
      },
      "execution_count": null,
      "outputs": [
        {
          "output_type": "stream",
          "name": "stdout",
          "text": [
            "313/313 [==============================] - 1s 4ms/step - loss: 1.1604 - accuracy: 0.7938\n"
          ]
        },
        {
          "output_type": "execute_result",
          "data": {
            "text/plain": [
              "[1.16038179397583, 0.7937999963760376]"
            ]
          },
          "metadata": {},
          "execution_count": 8
        }
      ]
    },
    {
      "cell_type": "markdown",
      "source": [
        "## Dropout"
      ],
      "metadata": {
        "id": "VjpzUQXsvYAh"
      }
    },
    {
      "cell_type": "code",
      "source": [
        "#budowa modelu\n",
        "model = Sequential()\n",
        "model.add(Conv2D(32, (3,3), activation='relu', kernel_initializer='he_uniform', padding='same',\n",
        "                 input_shape=(32,32,3)))\n",
        "model.add(Conv2D(32, (3,3), activation='relu', kernel_initializer='he_uniform', padding='same'))\n",
        "model.add(MaxPooling2D((2,2)))\n",
        "model.add(Dropout(0.2))\n",
        "\n",
        "model.add(Conv2D(64, (3,3), activation='relu', kernel_initializer='he_uniform', padding='same'))\n",
        "model.add(Conv2D(64, (3,3), activation='relu', kernel_initializer='he_uniform', padding='same'))\n",
        "model.add(MaxPooling2D((2,2)))\n",
        "model.add(Dropout(0.2))\n",
        "\n",
        "model.add(Conv2D(128, (3,3), activation='relu', kernel_initializer='he_uniform', padding='same'))\n",
        "model.add(Conv2D(128, (3,3), activation='relu', kernel_initializer='he_uniform', padding='same'))\n",
        "model.add(MaxPooling2D((2,2)))\n",
        "model.add(Dropout(0.2))\n",
        "\n",
        "model.add(Flatten())\n",
        "model.add(Dense(128, activation='relu', kernel_initializer='he_uniform'))\n",
        "model.add(Dropout(0.2))\n",
        "\n",
        "model.add(Dense(10, activation='softmax'))\n",
        "\n",
        "#kompilacja modelu\n",
        "opt = tf.keras.optimizers.SGD(lr=0.001, momentum=0.9)\n",
        "model.compile(optimizer=opt, loss='categorical_crossentropy', metrics=['accuracy'])\n",
        "\n",
        "#trenowanie\n",
        "history = model.fit(train_x, train_y_one_hot,\n",
        "                   batch_size=64, epochs=num_epochs, verbose=True,\n",
        "                   validation_data=(test_x, test_y_one_hot))"
      ],
      "metadata": {
        "colab": {
          "base_uri": "https://localhost:8080/"
        },
        "id": "IvUCwOsmvnlp",
        "outputId": "94d1bcc9-9777-45b2-afed-57899ee6dbdb"
      },
      "execution_count": null,
      "outputs": [
        {
          "output_type": "stream",
          "name": "stderr",
          "text": [
            "WARNING:absl:`lr` is deprecated in Keras optimizer, please use `learning_rate` or use the legacy optimizer, e.g.,tf.keras.optimizers.legacy.SGD.\n"
          ]
        },
        {
          "output_type": "stream",
          "name": "stdout",
          "text": [
            "Epoch 1/20\n",
            "782/782 [==============================] - 10s 11ms/step - loss: 1.7977 - accuracy: 0.3356 - val_loss: 1.4377 - val_accuracy: 0.4857\n",
            "Epoch 2/20\n",
            "782/782 [==============================] - 8s 10ms/step - loss: 1.3338 - accuracy: 0.5195 - val_loss: 1.0938 - val_accuracy: 0.6074\n",
            "Epoch 3/20\n",
            "782/782 [==============================] - 8s 10ms/step - loss: 1.1272 - accuracy: 0.5973 - val_loss: 1.0721 - val_accuracy: 0.6285\n",
            "Epoch 4/20\n",
            "782/782 [==============================] - 8s 10ms/step - loss: 1.0226 - accuracy: 0.6389 - val_loss: 0.9030 - val_accuracy: 0.6827\n",
            "Epoch 5/20\n",
            "782/782 [==============================] - 8s 10ms/step - loss: 0.9228 - accuracy: 0.6740 - val_loss: 0.8242 - val_accuracy: 0.7083\n",
            "Epoch 6/20\n",
            "782/782 [==============================] - 8s 10ms/step - loss: 0.8601 - accuracy: 0.6965 - val_loss: 0.8150 - val_accuracy: 0.7120\n",
            "Epoch 7/20\n",
            "782/782 [==============================] - 7s 10ms/step - loss: 0.7927 - accuracy: 0.7237 - val_loss: 0.7193 - val_accuracy: 0.7517\n",
            "Epoch 8/20\n",
            "782/782 [==============================] - 8s 10ms/step - loss: 0.7438 - accuracy: 0.7402 - val_loss: 0.7557 - val_accuracy: 0.7409\n",
            "Epoch 9/20\n",
            "782/782 [==============================] - 8s 10ms/step - loss: 0.6984 - accuracy: 0.7560 - val_loss: 0.6974 - val_accuracy: 0.7601\n",
            "Epoch 10/20\n",
            "782/782 [==============================] - 8s 10ms/step - loss: 0.6613 - accuracy: 0.7699 - val_loss: 0.6614 - val_accuracy: 0.7740\n",
            "Epoch 11/20\n",
            "782/782 [==============================] - 8s 10ms/step - loss: 0.6324 - accuracy: 0.7783 - val_loss: 0.6802 - val_accuracy: 0.7628\n",
            "Epoch 12/20\n",
            "782/782 [==============================] - 8s 10ms/step - loss: 0.5998 - accuracy: 0.7898 - val_loss: 0.6473 - val_accuracy: 0.7797\n",
            "Epoch 13/20\n",
            "782/782 [==============================] - 8s 10ms/step - loss: 0.5720 - accuracy: 0.7996 - val_loss: 0.6333 - val_accuracy: 0.7852\n",
            "Epoch 14/20\n",
            "782/782 [==============================] - 8s 10ms/step - loss: 0.5524 - accuracy: 0.8056 - val_loss: 0.6535 - val_accuracy: 0.7811\n",
            "Epoch 15/20\n",
            "782/782 [==============================] - 8s 10ms/step - loss: 0.5326 - accuracy: 0.8118 - val_loss: 0.6192 - val_accuracy: 0.7909\n",
            "Epoch 16/20\n",
            "782/782 [==============================] - 8s 10ms/step - loss: 0.5159 - accuracy: 0.8168 - val_loss: 0.6521 - val_accuracy: 0.7784\n",
            "Epoch 17/20\n",
            "782/782 [==============================] - 8s 10ms/step - loss: 0.4967 - accuracy: 0.8257 - val_loss: 0.6278 - val_accuracy: 0.7949\n",
            "Epoch 18/20\n",
            "782/782 [==============================] - 8s 10ms/step - loss: 0.4910 - accuracy: 0.8258 - val_loss: 0.6316 - val_accuracy: 0.7958\n",
            "Epoch 19/20\n",
            "782/782 [==============================] - 8s 10ms/step - loss: 0.4652 - accuracy: 0.8354 - val_loss: 0.6129 - val_accuracy: 0.7958\n",
            "Epoch 20/20\n",
            "782/782 [==============================] - 8s 10ms/step - loss: 0.4552 - accuracy: 0.8380 - val_loss: 0.6336 - val_accuracy: 0.7981\n"
          ]
        }
      ]
    },
    {
      "cell_type": "code",
      "source": [
        "model.evaluate(test_x, test_y_one_hot)"
      ],
      "metadata": {
        "colab": {
          "base_uri": "https://localhost:8080/"
        },
        "id": "zHIeWrVpvw-_",
        "outputId": "5d24641d-3c73-41fd-f7e2-e074186ef0ad"
      },
      "execution_count": null,
      "outputs": [
        {
          "output_type": "stream",
          "name": "stdout",
          "text": [
            "313/313 [==============================] - 1s 4ms/step - loss: 0.6336 - accuracy: 0.7981\n"
          ]
        },
        {
          "output_type": "execute_result",
          "data": {
            "text/plain": [
              "[0.6335831880569458, 0.7980999946594238]"
            ]
          },
          "metadata": {},
          "execution_count": 10
        }
      ]
    },
    {
      "cell_type": "markdown",
      "source": [
        "## Batch Normalizartion & Dropout"
      ],
      "metadata": {
        "id": "oycdSkRPvagH"
      }
    },
    {
      "cell_type": "code",
      "source": [
        "#budowa modelu\n",
        "model = Sequential()\n",
        "model.add(Conv2D(32, (3,3), activation='relu', kernel_initializer='he_uniform', padding='same',\n",
        "                 input_shape=(32,32,3)))\n",
        "model.add(BatchNormalization())\n",
        "model.add(Conv2D(32, (3,3), activation='relu', kernel_initializer='he_uniform', padding='same'))\n",
        "model.add(BatchNormalization())\n",
        "model.add(MaxPooling2D((2,2)))\n",
        "model.add(Dropout(0.2))\n",
        "\n",
        "model.add(Conv2D(64, (3,3), activation='relu', kernel_initializer='he_uniform', padding='same'))\n",
        "model.add(BatchNormalization())\n",
        "model.add(Conv2D(64, (3,3), activation='relu', kernel_initializer='he_uniform', padding='same'))\n",
        "model.add(BatchNormalization())\n",
        "model.add(MaxPooling2D((2,2)))\n",
        "model.add(Dropout(0.2))\n",
        "\n",
        "model.add(Conv2D(128, (3,3), activation='relu', kernel_initializer='he_uniform', padding='same'))\n",
        "model.add(BatchNormalization())\n",
        "model.add(Conv2D(128, (3,3), activation='relu', kernel_initializer='he_uniform', padding='same'))\n",
        "model.add(BatchNormalization())\n",
        "model.add(MaxPooling2D((2,2)))\n",
        "model.add(Dropout(0.2))\n",
        "\n",
        "model.add(Flatten())\n",
        "model.add(Dense(128, activation='relu', kernel_initializer='he_uniform'))\n",
        "model.add(BatchNormalization())\n",
        "model.add(Dropout(0.2))\n",
        "\n",
        "model.add(Dense(10, activation='softmax'))\n",
        "\n",
        "#kompilacja modelu\n",
        "opt = tf.keras.optimizers.SGD(lr=0.001, momentum=0.9)\n",
        "model.compile(optimizer=opt, loss='categorical_crossentropy', metrics=['accuracy'])\n",
        "\n",
        "#trenowanie\n",
        "history = model.fit(train_x, train_y_one_hot,\n",
        "                   batch_size=64, epochs=num_epochs, verbose=True,\n",
        "                   validation_data=(test_x, test_y_one_hot))"
      ],
      "metadata": {
        "colab": {
          "base_uri": "https://localhost:8080/"
        },
        "id": "JEUSnPa6vdNO",
        "outputId": "b4540391-7c20-4f1c-a09c-c46a18470ee8"
      },
      "execution_count": null,
      "outputs": [
        {
          "output_type": "stream",
          "name": "stderr",
          "text": [
            "WARNING:absl:`lr` is deprecated in Keras optimizer, please use `learning_rate` or use the legacy optimizer, e.g.,tf.keras.optimizers.legacy.SGD.\n"
          ]
        },
        {
          "output_type": "stream",
          "name": "stdout",
          "text": [
            "Epoch 1/20\n",
            "782/782 [==============================] - 13s 14ms/step - loss: 1.4144 - accuracy: 0.4932 - val_loss: 1.2232 - val_accuracy: 0.5698\n",
            "Epoch 2/20\n",
            "782/782 [==============================] - 10s 13ms/step - loss: 0.9680 - accuracy: 0.6562 - val_loss: 1.1762 - val_accuracy: 0.6008\n",
            "Epoch 3/20\n",
            "782/782 [==============================] - 10s 13ms/step - loss: 0.8110 - accuracy: 0.7144 - val_loss: 0.7093 - val_accuracy: 0.7523\n",
            "Epoch 4/20\n",
            "782/782 [==============================] - 10s 13ms/step - loss: 0.7138 - accuracy: 0.7505 - val_loss: 0.7042 - val_accuracy: 0.7584\n",
            "Epoch 5/20\n",
            "782/782 [==============================] - 10s 13ms/step - loss: 0.6547 - accuracy: 0.7702 - val_loss: 0.6873 - val_accuracy: 0.7621\n",
            "Epoch 6/20\n",
            "782/782 [==============================] - 10s 13ms/step - loss: 0.5953 - accuracy: 0.7911 - val_loss: 0.6181 - val_accuracy: 0.7821\n",
            "Epoch 7/20\n",
            "782/782 [==============================] - 10s 13ms/step - loss: 0.5496 - accuracy: 0.8075 - val_loss: 0.6388 - val_accuracy: 0.7768\n",
            "Epoch 8/20\n",
            "782/782 [==============================] - 10s 13ms/step - loss: 0.5087 - accuracy: 0.8206 - val_loss: 0.5572 - val_accuracy: 0.8069\n",
            "Epoch 9/20\n",
            "782/782 [==============================] - 11s 14ms/step - loss: 0.4748 - accuracy: 0.8335 - val_loss: 0.5394 - val_accuracy: 0.8151\n",
            "Epoch 10/20\n",
            "782/782 [==============================] - 10s 13ms/step - loss: 0.4435 - accuracy: 0.8436 - val_loss: 0.6560 - val_accuracy: 0.7884\n",
            "Epoch 11/20\n",
            "782/782 [==============================] - 10s 13ms/step - loss: 0.4206 - accuracy: 0.8512 - val_loss: 0.5805 - val_accuracy: 0.8132\n",
            "Epoch 12/20\n",
            "782/782 [==============================] - 10s 13ms/step - loss: 0.3974 - accuracy: 0.8598 - val_loss: 0.5215 - val_accuracy: 0.8247\n",
            "Epoch 13/20\n",
            "782/782 [==============================] - 10s 13ms/step - loss: 0.3687 - accuracy: 0.8691 - val_loss: 0.5510 - val_accuracy: 0.8250\n",
            "Epoch 14/20\n",
            "782/782 [==============================] - 10s 13ms/step - loss: 0.3530 - accuracy: 0.8754 - val_loss: 0.5390 - val_accuracy: 0.8278\n",
            "Epoch 15/20\n",
            "782/782 [==============================] - 10s 13ms/step - loss: 0.3320 - accuracy: 0.8823 - val_loss: 0.5842 - val_accuracy: 0.8130\n",
            "Epoch 16/20\n",
            "782/782 [==============================] - 10s 13ms/step - loss: 0.3128 - accuracy: 0.8877 - val_loss: 0.5135 - val_accuracy: 0.8370\n",
            "Epoch 17/20\n",
            "782/782 [==============================] - 10s 13ms/step - loss: 0.2955 - accuracy: 0.8933 - val_loss: 0.5686 - val_accuracy: 0.8250\n",
            "Epoch 18/20\n",
            "782/782 [==============================] - 10s 13ms/step - loss: 0.2880 - accuracy: 0.8975 - val_loss: 0.5709 - val_accuracy: 0.8236\n",
            "Epoch 19/20\n",
            "782/782 [==============================] - 10s 13ms/step - loss: 0.2762 - accuracy: 0.9023 - val_loss: 0.5494 - val_accuracy: 0.8326\n",
            "Epoch 20/20\n",
            "782/782 [==============================] - 10s 13ms/step - loss: 0.2572 - accuracy: 0.9074 - val_loss: 0.5400 - val_accuracy: 0.8373\n"
          ]
        }
      ]
    },
    {
      "cell_type": "code",
      "source": [
        "model.evaluate(test_x, test_y_one_hot)"
      ],
      "metadata": {
        "colab": {
          "base_uri": "https://localhost:8080/"
        },
        "id": "UijGq_Aovl_C",
        "outputId": "ccd59600-99cd-4c41-9077-bc8a5bbc05af"
      },
      "execution_count": null,
      "outputs": [
        {
          "output_type": "stream",
          "name": "stdout",
          "text": [
            "313/313 [==============================] - 1s 4ms/step - loss: 0.5400 - accuracy: 0.8373\n"
          ]
        },
        {
          "output_type": "execute_result",
          "data": {
            "text/plain": [
              "[0.5399760007858276, 0.8373000025749207]"
            ]
          },
          "metadata": {},
          "execution_count": 12
        }
      ]
    },
    {
      "cell_type": "code",
      "source": [],
      "metadata": {
        "id": "todbLQrSvmEf"
      },
      "execution_count": null,
      "outputs": []
    }
  ]
}