{
 "cells": [
  {
   "cell_type": "markdown",
   "metadata": {
    "id": "k2emMmlS9nQd"
   },
   "source": [
    "### Jak zapisywać modele, by wytrenować je raz, a potem na produkcji tylko ładować?"
   ]
  },
  {
   "cell_type": "markdown",
   "metadata": {
    "id": "-WHWLxw6-cjt"
   },
   "source": [
    "Skorzystamy z biblioteki joblib."
   ]
  },
  {
   "cell_type": "code",
   "execution_count": 1,
   "metadata": {
    "colab": {
     "base_uri": "https://localhost:8080/"
    },
    "executionInfo": {
     "elapsed": 880,
     "status": "ok",
     "timestamp": 1616229832962,
     "user": {
      "displayName": "Michał Więtczak",
      "photoUrl": "",
      "userId": "11169546932359314903"
     },
     "user_tz": -60
    },
    "id": "15X187c_-fwg",
    "outputId": "b1b0ffc3-0cf4-4972-fcc2-c9988a439367"
   },
   "outputs": [
    {
     "data": {
      "text/html": [
       "<style>#sk-container-id-1 {color: black;background-color: white;}#sk-container-id-1 pre{padding: 0;}#sk-container-id-1 div.sk-toggleable {background-color: white;}#sk-container-id-1 label.sk-toggleable__label {cursor: pointer;display: block;width: 100%;margin-bottom: 0;padding: 0.3em;box-sizing: border-box;text-align: center;}#sk-container-id-1 label.sk-toggleable__label-arrow:before {content: \"▸\";float: left;margin-right: 0.25em;color: #696969;}#sk-container-id-1 label.sk-toggleable__label-arrow:hover:before {color: black;}#sk-container-id-1 div.sk-estimator:hover label.sk-toggleable__label-arrow:before {color: black;}#sk-container-id-1 div.sk-toggleable__content {max-height: 0;max-width: 0;overflow: hidden;text-align: left;background-color: #f0f8ff;}#sk-container-id-1 div.sk-toggleable__content pre {margin: 0.2em;color: black;border-radius: 0.25em;background-color: #f0f8ff;}#sk-container-id-1 input.sk-toggleable__control:checked~div.sk-toggleable__content {max-height: 200px;max-width: 100%;overflow: auto;}#sk-container-id-1 input.sk-toggleable__control:checked~label.sk-toggleable__label-arrow:before {content: \"▾\";}#sk-container-id-1 div.sk-estimator input.sk-toggleable__control:checked~label.sk-toggleable__label {background-color: #d4ebff;}#sk-container-id-1 div.sk-label input.sk-toggleable__control:checked~label.sk-toggleable__label {background-color: #d4ebff;}#sk-container-id-1 input.sk-hidden--visually {border: 0;clip: rect(1px 1px 1px 1px);clip: rect(1px, 1px, 1px, 1px);height: 1px;margin: -1px;overflow: hidden;padding: 0;position: absolute;width: 1px;}#sk-container-id-1 div.sk-estimator {font-family: monospace;background-color: #f0f8ff;border: 1px dotted black;border-radius: 0.25em;box-sizing: border-box;margin-bottom: 0.5em;}#sk-container-id-1 div.sk-estimator:hover {background-color: #d4ebff;}#sk-container-id-1 div.sk-parallel-item::after {content: \"\";width: 100%;border-bottom: 1px solid gray;flex-grow: 1;}#sk-container-id-1 div.sk-label:hover label.sk-toggleable__label {background-color: #d4ebff;}#sk-container-id-1 div.sk-serial::before {content: \"\";position: absolute;border-left: 1px solid gray;box-sizing: border-box;top: 0;bottom: 0;left: 50%;z-index: 0;}#sk-container-id-1 div.sk-serial {display: flex;flex-direction: column;align-items: center;background-color: white;padding-right: 0.2em;padding-left: 0.2em;position: relative;}#sk-container-id-1 div.sk-item {position: relative;z-index: 1;}#sk-container-id-1 div.sk-parallel {display: flex;align-items: stretch;justify-content: center;background-color: white;position: relative;}#sk-container-id-1 div.sk-item::before, #sk-container-id-1 div.sk-parallel-item::before {content: \"\";position: absolute;border-left: 1px solid gray;box-sizing: border-box;top: 0;bottom: 0;left: 50%;z-index: -1;}#sk-container-id-1 div.sk-parallel-item {display: flex;flex-direction: column;z-index: 1;position: relative;background-color: white;}#sk-container-id-1 div.sk-parallel-item:first-child::after {align-self: flex-end;width: 50%;}#sk-container-id-1 div.sk-parallel-item:last-child::after {align-self: flex-start;width: 50%;}#sk-container-id-1 div.sk-parallel-item:only-child::after {width: 0;}#sk-container-id-1 div.sk-dashed-wrapped {border: 1px dashed gray;margin: 0 0.4em 0.5em 0.4em;box-sizing: border-box;padding-bottom: 0.4em;background-color: white;}#sk-container-id-1 div.sk-label label {font-family: monospace;font-weight: bold;display: inline-block;line-height: 1.2em;}#sk-container-id-1 div.sk-label-container {text-align: center;}#sk-container-id-1 div.sk-container {/* jupyter's `normalize.less` sets `[hidden] { display: none; }` but bootstrap.min.css set `[hidden] { display: none !important; }` so we also need the `!important` here to be able to override the default hidden behavior on the sphinx rendered scikit-learn.org. See: https://github.com/scikit-learn/scikit-learn/issues/21755 */display: inline-block !important;position: relative;}#sk-container-id-1 div.sk-text-repr-fallback {display: none;}</style><div id=\"sk-container-id-1\" class=\"sk-top-container\"><div class=\"sk-text-repr-fallback\"><pre>SVC(C=0.1, kernel=&#x27;linear&#x27;, max_iter=1000)</pre><b>In a Jupyter environment, please rerun this cell to show the HTML representation or trust the notebook. <br />On GitHub, the HTML representation is unable to render, please try loading this page with nbviewer.org.</b></div><div class=\"sk-container\" hidden><div class=\"sk-item\"><div class=\"sk-estimator sk-toggleable\"><input class=\"sk-toggleable__control sk-hidden--visually\" id=\"sk-estimator-id-1\" type=\"checkbox\" checked><label for=\"sk-estimator-id-1\" class=\"sk-toggleable__label sk-toggleable__label-arrow\">SVC</label><div class=\"sk-toggleable__content\"><pre>SVC(C=0.1, kernel=&#x27;linear&#x27;, max_iter=1000)</pre></div></div></div></div></div>"
      ],
      "text/plain": [
       "SVC(C=0.1, kernel='linear', max_iter=1000)"
      ]
     },
     "execution_count": 1,
     "metadata": {},
     "output_type": "execute_result"
    }
   ],
   "source": [
    "from sklearn.svm import SVC\n",
    "from sklearn.model_selection import  train_test_split\n",
    "from sklearn.metrics import f1_score\n",
    "from sklearn.datasets import load_iris\n",
    "\n",
    "iris_data = load_iris()\n",
    "X, y = iris_data.data, iris_data.target\n",
    "X_train, X_test, y_train, y_test = train_test_split(X, y, stratify=y, random_state=42)\n",
    "\n",
    "model = SVC(C=0.1, kernel='linear', max_iter=1000)\n",
    "model.fit(X_train, y_train)"
   ]
  },
  {
   "cell_type": "code",
   "execution_count": 2,
   "metadata": {
    "colab": {
     "base_uri": "https://localhost:8080/"
    },
    "executionInfo": {
     "elapsed": 1900,
     "status": "ok",
     "timestamp": 1616229833992,
     "user": {
      "displayName": "Michał Więtczak",
      "photoUrl": "",
      "userId": "11169546932359314903"
     },
     "user_tz": -60
    },
    "id": "M_XRrNWb-2RE",
    "outputId": "f790f7db-68d9-42ba-b766-20cda33ff265"
   },
   "outputs": [
    {
     "data": {
      "text/plain": [
       "0.9487179487179488"
      ]
     },
     "execution_count": 2,
     "metadata": {},
     "output_type": "execute_result"
    }
   ],
   "source": [
    "y_pred = model.predict(X_test)\n",
    "f1_score(y_test, y_pred, average='macro')"
   ]
  },
  {
   "cell_type": "code",
   "execution_count": 3,
   "metadata": {},
   "outputs": [
    {
     "data": {
      "text/plain": [
       "['model_svc.pkl']"
      ]
     },
     "execution_count": 3,
     "metadata": {},
     "output_type": "execute_result"
    }
   ],
   "source": [
    "import joblib\n",
    "\n",
    "model_filename = \"model_svc.pkl\"\n",
    "joblib.dump(model, model_filename)"
   ]
  },
  {
   "cell_type": "code",
   "execution_count": 4,
   "metadata": {},
   "outputs": [
    {
     "data": {
      "text/html": [
       "<style>#sk-container-id-2 {color: black;background-color: white;}#sk-container-id-2 pre{padding: 0;}#sk-container-id-2 div.sk-toggleable {background-color: white;}#sk-container-id-2 label.sk-toggleable__label {cursor: pointer;display: block;width: 100%;margin-bottom: 0;padding: 0.3em;box-sizing: border-box;text-align: center;}#sk-container-id-2 label.sk-toggleable__label-arrow:before {content: \"▸\";float: left;margin-right: 0.25em;color: #696969;}#sk-container-id-2 label.sk-toggleable__label-arrow:hover:before {color: black;}#sk-container-id-2 div.sk-estimator:hover label.sk-toggleable__label-arrow:before {color: black;}#sk-container-id-2 div.sk-toggleable__content {max-height: 0;max-width: 0;overflow: hidden;text-align: left;background-color: #f0f8ff;}#sk-container-id-2 div.sk-toggleable__content pre {margin: 0.2em;color: black;border-radius: 0.25em;background-color: #f0f8ff;}#sk-container-id-2 input.sk-toggleable__control:checked~div.sk-toggleable__content {max-height: 200px;max-width: 100%;overflow: auto;}#sk-container-id-2 input.sk-toggleable__control:checked~label.sk-toggleable__label-arrow:before {content: \"▾\";}#sk-container-id-2 div.sk-estimator input.sk-toggleable__control:checked~label.sk-toggleable__label {background-color: #d4ebff;}#sk-container-id-2 div.sk-label input.sk-toggleable__control:checked~label.sk-toggleable__label {background-color: #d4ebff;}#sk-container-id-2 input.sk-hidden--visually {border: 0;clip: rect(1px 1px 1px 1px);clip: rect(1px, 1px, 1px, 1px);height: 1px;margin: -1px;overflow: hidden;padding: 0;position: absolute;width: 1px;}#sk-container-id-2 div.sk-estimator {font-family: monospace;background-color: #f0f8ff;border: 1px dotted black;border-radius: 0.25em;box-sizing: border-box;margin-bottom: 0.5em;}#sk-container-id-2 div.sk-estimator:hover {background-color: #d4ebff;}#sk-container-id-2 div.sk-parallel-item::after {content: \"\";width: 100%;border-bottom: 1px solid gray;flex-grow: 1;}#sk-container-id-2 div.sk-label:hover label.sk-toggleable__label {background-color: #d4ebff;}#sk-container-id-2 div.sk-serial::before {content: \"\";position: absolute;border-left: 1px solid gray;box-sizing: border-box;top: 0;bottom: 0;left: 50%;z-index: 0;}#sk-container-id-2 div.sk-serial {display: flex;flex-direction: column;align-items: center;background-color: white;padding-right: 0.2em;padding-left: 0.2em;position: relative;}#sk-container-id-2 div.sk-item {position: relative;z-index: 1;}#sk-container-id-2 div.sk-parallel {display: flex;align-items: stretch;justify-content: center;background-color: white;position: relative;}#sk-container-id-2 div.sk-item::before, #sk-container-id-2 div.sk-parallel-item::before {content: \"\";position: absolute;border-left: 1px solid gray;box-sizing: border-box;top: 0;bottom: 0;left: 50%;z-index: -1;}#sk-container-id-2 div.sk-parallel-item {display: flex;flex-direction: column;z-index: 1;position: relative;background-color: white;}#sk-container-id-2 div.sk-parallel-item:first-child::after {align-self: flex-end;width: 50%;}#sk-container-id-2 div.sk-parallel-item:last-child::after {align-self: flex-start;width: 50%;}#sk-container-id-2 div.sk-parallel-item:only-child::after {width: 0;}#sk-container-id-2 div.sk-dashed-wrapped {border: 1px dashed gray;margin: 0 0.4em 0.5em 0.4em;box-sizing: border-box;padding-bottom: 0.4em;background-color: white;}#sk-container-id-2 div.sk-label label {font-family: monospace;font-weight: bold;display: inline-block;line-height: 1.2em;}#sk-container-id-2 div.sk-label-container {text-align: center;}#sk-container-id-2 div.sk-container {/* jupyter's `normalize.less` sets `[hidden] { display: none; }` but bootstrap.min.css set `[hidden] { display: none !important; }` so we also need the `!important` here to be able to override the default hidden behavior on the sphinx rendered scikit-learn.org. See: https://github.com/scikit-learn/scikit-learn/issues/21755 */display: inline-block !important;position: relative;}#sk-container-id-2 div.sk-text-repr-fallback {display: none;}</style><div id=\"sk-container-id-2\" class=\"sk-top-container\"><div class=\"sk-text-repr-fallback\"><pre>SVC(C=0.1, kernel=&#x27;linear&#x27;, max_iter=1000)</pre><b>In a Jupyter environment, please rerun this cell to show the HTML representation or trust the notebook. <br />On GitHub, the HTML representation is unable to render, please try loading this page with nbviewer.org.</b></div><div class=\"sk-container\" hidden><div class=\"sk-item\"><div class=\"sk-estimator sk-toggleable\"><input class=\"sk-toggleable__control sk-hidden--visually\" id=\"sk-estimator-id-2\" type=\"checkbox\" checked><label for=\"sk-estimator-id-2\" class=\"sk-toggleable__label sk-toggleable__label-arrow\">SVC</label><div class=\"sk-toggleable__content\"><pre>SVC(C=0.1, kernel=&#x27;linear&#x27;, max_iter=1000)</pre></div></div></div></div></div>"
      ],
      "text/plain": [
       "SVC(C=0.1, kernel='linear', max_iter=1000)"
      ]
     },
     "execution_count": 4,
     "metadata": {},
     "output_type": "execute_result"
    }
   ],
   "source": [
    "model"
   ]
  },
  {
   "cell_type": "code",
   "execution_count": 9,
   "metadata": {},
   "outputs": [],
   "source": [
    "model_filename = \"model_svc.pkl\"\n",
    "model = joblib.load(model_filename)"
   ]
  },
  {
   "cell_type": "code",
   "execution_count": 10,
   "metadata": {},
   "outputs": [
    {
     "data": {
      "text/html": [
       "<style>#sk-container-id-3 {color: black;background-color: white;}#sk-container-id-3 pre{padding: 0;}#sk-container-id-3 div.sk-toggleable {background-color: white;}#sk-container-id-3 label.sk-toggleable__label {cursor: pointer;display: block;width: 100%;margin-bottom: 0;padding: 0.3em;box-sizing: border-box;text-align: center;}#sk-container-id-3 label.sk-toggleable__label-arrow:before {content: \"▸\";float: left;margin-right: 0.25em;color: #696969;}#sk-container-id-3 label.sk-toggleable__label-arrow:hover:before {color: black;}#sk-container-id-3 div.sk-estimator:hover label.sk-toggleable__label-arrow:before {color: black;}#sk-container-id-3 div.sk-toggleable__content {max-height: 0;max-width: 0;overflow: hidden;text-align: left;background-color: #f0f8ff;}#sk-container-id-3 div.sk-toggleable__content pre {margin: 0.2em;color: black;border-radius: 0.25em;background-color: #f0f8ff;}#sk-container-id-3 input.sk-toggleable__control:checked~div.sk-toggleable__content {max-height: 200px;max-width: 100%;overflow: auto;}#sk-container-id-3 input.sk-toggleable__control:checked~label.sk-toggleable__label-arrow:before {content: \"▾\";}#sk-container-id-3 div.sk-estimator input.sk-toggleable__control:checked~label.sk-toggleable__label {background-color: #d4ebff;}#sk-container-id-3 div.sk-label input.sk-toggleable__control:checked~label.sk-toggleable__label {background-color: #d4ebff;}#sk-container-id-3 input.sk-hidden--visually {border: 0;clip: rect(1px 1px 1px 1px);clip: rect(1px, 1px, 1px, 1px);height: 1px;margin: -1px;overflow: hidden;padding: 0;position: absolute;width: 1px;}#sk-container-id-3 div.sk-estimator {font-family: monospace;background-color: #f0f8ff;border: 1px dotted black;border-radius: 0.25em;box-sizing: border-box;margin-bottom: 0.5em;}#sk-container-id-3 div.sk-estimator:hover {background-color: #d4ebff;}#sk-container-id-3 div.sk-parallel-item::after {content: \"\";width: 100%;border-bottom: 1px solid gray;flex-grow: 1;}#sk-container-id-3 div.sk-label:hover label.sk-toggleable__label {background-color: #d4ebff;}#sk-container-id-3 div.sk-serial::before {content: \"\";position: absolute;border-left: 1px solid gray;box-sizing: border-box;top: 0;bottom: 0;left: 50%;z-index: 0;}#sk-container-id-3 div.sk-serial {display: flex;flex-direction: column;align-items: center;background-color: white;padding-right: 0.2em;padding-left: 0.2em;position: relative;}#sk-container-id-3 div.sk-item {position: relative;z-index: 1;}#sk-container-id-3 div.sk-parallel {display: flex;align-items: stretch;justify-content: center;background-color: white;position: relative;}#sk-container-id-3 div.sk-item::before, #sk-container-id-3 div.sk-parallel-item::before {content: \"\";position: absolute;border-left: 1px solid gray;box-sizing: border-box;top: 0;bottom: 0;left: 50%;z-index: -1;}#sk-container-id-3 div.sk-parallel-item {display: flex;flex-direction: column;z-index: 1;position: relative;background-color: white;}#sk-container-id-3 div.sk-parallel-item:first-child::after {align-self: flex-end;width: 50%;}#sk-container-id-3 div.sk-parallel-item:last-child::after {align-self: flex-start;width: 50%;}#sk-container-id-3 div.sk-parallel-item:only-child::after {width: 0;}#sk-container-id-3 div.sk-dashed-wrapped {border: 1px dashed gray;margin: 0 0.4em 0.5em 0.4em;box-sizing: border-box;padding-bottom: 0.4em;background-color: white;}#sk-container-id-3 div.sk-label label {font-family: monospace;font-weight: bold;display: inline-block;line-height: 1.2em;}#sk-container-id-3 div.sk-label-container {text-align: center;}#sk-container-id-3 div.sk-container {/* jupyter's `normalize.less` sets `[hidden] { display: none; }` but bootstrap.min.css set `[hidden] { display: none !important; }` so we also need the `!important` here to be able to override the default hidden behavior on the sphinx rendered scikit-learn.org. See: https://github.com/scikit-learn/scikit-learn/issues/21755 */display: inline-block !important;position: relative;}#sk-container-id-3 div.sk-text-repr-fallback {display: none;}</style><div id=\"sk-container-id-3\" class=\"sk-top-container\"><div class=\"sk-text-repr-fallback\"><pre>SVC(C=0.1, kernel=&#x27;linear&#x27;, max_iter=1000)</pre><b>In a Jupyter environment, please rerun this cell to show the HTML representation or trust the notebook. <br />On GitHub, the HTML representation is unable to render, please try loading this page with nbviewer.org.</b></div><div class=\"sk-container\" hidden><div class=\"sk-item\"><div class=\"sk-estimator sk-toggleable\"><input class=\"sk-toggleable__control sk-hidden--visually\" id=\"sk-estimator-id-3\" type=\"checkbox\" checked><label for=\"sk-estimator-id-3\" class=\"sk-toggleable__label sk-toggleable__label-arrow\">SVC</label><div class=\"sk-toggleable__content\"><pre>SVC(C=0.1, kernel=&#x27;linear&#x27;, max_iter=1000)</pre></div></div></div></div></div>"
      ],
      "text/plain": [
       "SVC(C=0.1, kernel='linear', max_iter=1000)"
      ]
     },
     "execution_count": 10,
     "metadata": {},
     "output_type": "execute_result"
    }
   ],
   "source": [
    "model"
   ]
  },
  {
   "cell_type": "markdown",
   "metadata": {
    "id": "_h0mMqPJ9uqF"
   },
   "source": [
    "**Ciekawostka:** [Jak zrobić TO (tj. dumpować model) przy użyciu biblioteki pickle](https://machinelearningmastery.com/save-load-machine-learning-models-python-scikit-learn/)"
   ]
  },
  {
   "cell_type": "markdown",
   "metadata": {
    "id": "s2c5Zh4KDLdC"
   },
   "source": [
    "### Jak radzić sobie z wartościami kategorycznymi?"
   ]
  },
  {
   "cell_type": "code",
   "execution_count": 5,
   "metadata": {},
   "outputs": [],
   "source": [
    "import pandas as pd\n",
    "\n",
    "def load_dataset(filename, class_column, index_col=None):\n",
    "    dataset = pd.read_csv(f'ML-datasets/{filename}.csv', index_col=index_col)\n",
    "    dataset['class'] = dataset[class_column].astype('category').cat.codes\n",
    "    classes = dataset.pop(class_column).unique()\n",
    "    return dataset, classes"
   ]
  },
  {
   "cell_type": "code",
   "execution_count": 20,
   "metadata": {},
   "outputs": [
    {
     "name": "stdout",
     "output_type": "stream",
     "text": [
      "['one' 'two' 'three']\n"
     ]
    }
   ],
   "source": [
    "wine, wine_classes = load_dataset('wine', 'Class')\n",
    "print(wine_classes)\n",
    "\n",
    "y = wine.pop('class')\n",
    "X = wine"
   ]
  },
  {
   "cell_type": "code",
   "execution_count": 21,
   "metadata": {},
   "outputs": [
    {
     "data": {
      "text/html": [
       "<div>\n",
       "<style scoped>\n",
       "    .dataframe tbody tr th:only-of-type {\n",
       "        vertical-align: middle;\n",
       "    }\n",
       "\n",
       "    .dataframe tbody tr th {\n",
       "        vertical-align: top;\n",
       "    }\n",
       "\n",
       "    .dataframe thead th {\n",
       "        text-align: right;\n",
       "    }\n",
       "</style>\n",
       "<table border=\"1\" class=\"dataframe\">\n",
       "  <thead>\n",
       "    <tr style=\"text-align: right;\">\n",
       "      <th></th>\n",
       "      <th>Alcohol</th>\n",
       "      <th>Malic acid</th>\n",
       "      <th>Ash</th>\n",
       "      <th>Alcalinity of ash</th>\n",
       "      <th>Magnesium</th>\n",
       "      <th>Total phenols</th>\n",
       "      <th>Flavanoids</th>\n",
       "      <th>Nonflavanoid phenols</th>\n",
       "      <th>Proanthocyanins</th>\n",
       "      <th>Color intensity</th>\n",
       "      <th>Hue</th>\n",
       "      <th>OD280/OD315 of diluted wines</th>\n",
       "      <th>Proline</th>\n",
       "    </tr>\n",
       "  </thead>\n",
       "  <tbody>\n",
       "    <tr>\n",
       "      <th>0</th>\n",
       "      <td>14.23</td>\n",
       "      <td>1.71</td>\n",
       "      <td>2.43</td>\n",
       "      <td>15.6</td>\n",
       "      <td>127</td>\n",
       "      <td>2.80</td>\n",
       "      <td>3.06</td>\n",
       "      <td>0.28</td>\n",
       "      <td>2.29</td>\n",
       "      <td>5.64</td>\n",
       "      <td>1.04</td>\n",
       "      <td>3.92</td>\n",
       "      <td>1065</td>\n",
       "    </tr>\n",
       "    <tr>\n",
       "      <th>1</th>\n",
       "      <td>13.20</td>\n",
       "      <td>1.78</td>\n",
       "      <td>2.14</td>\n",
       "      <td>11.2</td>\n",
       "      <td>100</td>\n",
       "      <td>2.65</td>\n",
       "      <td>2.76</td>\n",
       "      <td>0.26</td>\n",
       "      <td>1.28</td>\n",
       "      <td>4.38</td>\n",
       "      <td>1.05</td>\n",
       "      <td>3.40</td>\n",
       "      <td>1050</td>\n",
       "    </tr>\n",
       "    <tr>\n",
       "      <th>2</th>\n",
       "      <td>13.16</td>\n",
       "      <td>2.36</td>\n",
       "      <td>2.67</td>\n",
       "      <td>18.6</td>\n",
       "      <td>101</td>\n",
       "      <td>2.80</td>\n",
       "      <td>3.24</td>\n",
       "      <td>0.30</td>\n",
       "      <td>2.81</td>\n",
       "      <td>5.68</td>\n",
       "      <td>1.03</td>\n",
       "      <td>3.17</td>\n",
       "      <td>1185</td>\n",
       "    </tr>\n",
       "    <tr>\n",
       "      <th>3</th>\n",
       "      <td>14.37</td>\n",
       "      <td>1.95</td>\n",
       "      <td>2.50</td>\n",
       "      <td>16.8</td>\n",
       "      <td>113</td>\n",
       "      <td>3.85</td>\n",
       "      <td>3.49</td>\n",
       "      <td>0.24</td>\n",
       "      <td>2.18</td>\n",
       "      <td>7.80</td>\n",
       "      <td>0.86</td>\n",
       "      <td>3.45</td>\n",
       "      <td>1480</td>\n",
       "    </tr>\n",
       "    <tr>\n",
       "      <th>4</th>\n",
       "      <td>13.24</td>\n",
       "      <td>2.59</td>\n",
       "      <td>2.87</td>\n",
       "      <td>21.0</td>\n",
       "      <td>118</td>\n",
       "      <td>2.80</td>\n",
       "      <td>2.69</td>\n",
       "      <td>0.39</td>\n",
       "      <td>1.82</td>\n",
       "      <td>4.32</td>\n",
       "      <td>1.04</td>\n",
       "      <td>2.93</td>\n",
       "      <td>735</td>\n",
       "    </tr>\n",
       "  </tbody>\n",
       "</table>\n",
       "</div>"
      ],
      "text/plain": [
       "   Alcohol  Malic acid   Ash  Alcalinity of ash  Magnesium  Total phenols  \\\n",
       "0    14.23        1.71  2.43               15.6        127           2.80   \n",
       "1    13.20        1.78  2.14               11.2        100           2.65   \n",
       "2    13.16        2.36  2.67               18.6        101           2.80   \n",
       "3    14.37        1.95  2.50               16.8        113           3.85   \n",
       "4    13.24        2.59  2.87               21.0        118           2.80   \n",
       "\n",
       "   Flavanoids  Nonflavanoid phenols  Proanthocyanins  Color intensity   Hue  \\\n",
       "0        3.06                  0.28             2.29             5.64  1.04   \n",
       "1        2.76                  0.26             1.28             4.38  1.05   \n",
       "2        3.24                  0.30             2.81             5.68  1.03   \n",
       "3        3.49                  0.24             2.18             7.80  0.86   \n",
       "4        2.69                  0.39             1.82             4.32  1.04   \n",
       "\n",
       "   OD280/OD315 of diluted wines  Proline  \n",
       "0                          3.92     1065  \n",
       "1                          3.40     1050  \n",
       "2                          3.17     1185  \n",
       "3                          3.45     1480  \n",
       "4                          2.93      735  "
      ]
     },
     "execution_count": 21,
     "metadata": {},
     "output_type": "execute_result"
    }
   ],
   "source": [
    "X.head()"
   ]
  },
  {
   "cell_type": "markdown",
   "metadata": {},
   "source": [
    "Stwórzmy sobie najpierw zmienne typowo kategoryczne:"
   ]
  },
  {
   "cell_type": "code",
   "execution_count": 22,
   "metadata": {},
   "outputs": [],
   "source": [
    "X['Moc'] = pd.cut(X['Alcohol'], 3, labels=['słabe', 'średnie', 'mocne'], duplicates='drop')\n",
    "X['Kolor'] = pd.cut(X['Color intensity'], 3, labels=['białe', 'różowe', 'czerwone'], duplicates='drop')\n",
    "X['Kwas jabłkowy'] = pd.cut(X['Malic acid'], 2, labels=['tak', 'nie'], duplicates='drop')"
   ]
  },
  {
   "cell_type": "code",
   "execution_count": 23,
   "metadata": {},
   "outputs": [
    {
     "data": {
      "text/html": [
       "<div>\n",
       "<style scoped>\n",
       "    .dataframe tbody tr th:only-of-type {\n",
       "        vertical-align: middle;\n",
       "    }\n",
       "\n",
       "    .dataframe tbody tr th {\n",
       "        vertical-align: top;\n",
       "    }\n",
       "\n",
       "    .dataframe thead th {\n",
       "        text-align: right;\n",
       "    }\n",
       "</style>\n",
       "<table border=\"1\" class=\"dataframe\">\n",
       "  <thead>\n",
       "    <tr style=\"text-align: right;\">\n",
       "      <th></th>\n",
       "      <th>Alcohol</th>\n",
       "      <th>Malic acid</th>\n",
       "      <th>Ash</th>\n",
       "      <th>Alcalinity of ash</th>\n",
       "      <th>Magnesium</th>\n",
       "      <th>Total phenols</th>\n",
       "      <th>Flavanoids</th>\n",
       "      <th>Nonflavanoid phenols</th>\n",
       "      <th>Proanthocyanins</th>\n",
       "      <th>Color intensity</th>\n",
       "      <th>Hue</th>\n",
       "      <th>OD280/OD315 of diluted wines</th>\n",
       "      <th>Proline</th>\n",
       "      <th>Moc</th>\n",
       "      <th>Kolor</th>\n",
       "      <th>Kwas jabłkowy</th>\n",
       "    </tr>\n",
       "  </thead>\n",
       "  <tbody>\n",
       "    <tr>\n",
       "      <th>0</th>\n",
       "      <td>14.23</td>\n",
       "      <td>1.71</td>\n",
       "      <td>2.43</td>\n",
       "      <td>15.6</td>\n",
       "      <td>127</td>\n",
       "      <td>2.80</td>\n",
       "      <td>3.06</td>\n",
       "      <td>0.28</td>\n",
       "      <td>2.29</td>\n",
       "      <td>5.64</td>\n",
       "      <td>1.04</td>\n",
       "      <td>3.92</td>\n",
       "      <td>1065</td>\n",
       "      <td>mocne</td>\n",
       "      <td>różowe</td>\n",
       "      <td>tak</td>\n",
       "    </tr>\n",
       "    <tr>\n",
       "      <th>1</th>\n",
       "      <td>13.20</td>\n",
       "      <td>1.78</td>\n",
       "      <td>2.14</td>\n",
       "      <td>11.2</td>\n",
       "      <td>100</td>\n",
       "      <td>2.65</td>\n",
       "      <td>2.76</td>\n",
       "      <td>0.26</td>\n",
       "      <td>1.28</td>\n",
       "      <td>4.38</td>\n",
       "      <td>1.05</td>\n",
       "      <td>3.40</td>\n",
       "      <td>1050</td>\n",
       "      <td>średnie</td>\n",
       "      <td>białe</td>\n",
       "      <td>tak</td>\n",
       "    </tr>\n",
       "    <tr>\n",
       "      <th>2</th>\n",
       "      <td>13.16</td>\n",
       "      <td>2.36</td>\n",
       "      <td>2.67</td>\n",
       "      <td>18.6</td>\n",
       "      <td>101</td>\n",
       "      <td>2.80</td>\n",
       "      <td>3.24</td>\n",
       "      <td>0.30</td>\n",
       "      <td>2.81</td>\n",
       "      <td>5.68</td>\n",
       "      <td>1.03</td>\n",
       "      <td>3.17</td>\n",
       "      <td>1185</td>\n",
       "      <td>średnie</td>\n",
       "      <td>różowe</td>\n",
       "      <td>tak</td>\n",
       "    </tr>\n",
       "    <tr>\n",
       "      <th>3</th>\n",
       "      <td>14.37</td>\n",
       "      <td>1.95</td>\n",
       "      <td>2.50</td>\n",
       "      <td>16.8</td>\n",
       "      <td>113</td>\n",
       "      <td>3.85</td>\n",
       "      <td>3.49</td>\n",
       "      <td>0.24</td>\n",
       "      <td>2.18</td>\n",
       "      <td>7.80</td>\n",
       "      <td>0.86</td>\n",
       "      <td>3.45</td>\n",
       "      <td>1480</td>\n",
       "      <td>mocne</td>\n",
       "      <td>różowe</td>\n",
       "      <td>tak</td>\n",
       "    </tr>\n",
       "    <tr>\n",
       "      <th>4</th>\n",
       "      <td>13.24</td>\n",
       "      <td>2.59</td>\n",
       "      <td>2.87</td>\n",
       "      <td>21.0</td>\n",
       "      <td>118</td>\n",
       "      <td>2.80</td>\n",
       "      <td>2.69</td>\n",
       "      <td>0.39</td>\n",
       "      <td>1.82</td>\n",
       "      <td>4.32</td>\n",
       "      <td>1.04</td>\n",
       "      <td>2.93</td>\n",
       "      <td>735</td>\n",
       "      <td>średnie</td>\n",
       "      <td>białe</td>\n",
       "      <td>tak</td>\n",
       "    </tr>\n",
       "  </tbody>\n",
       "</table>\n",
       "</div>"
      ],
      "text/plain": [
       "   Alcohol  Malic acid   Ash  Alcalinity of ash  Magnesium  Total phenols  \\\n",
       "0    14.23        1.71  2.43               15.6        127           2.80   \n",
       "1    13.20        1.78  2.14               11.2        100           2.65   \n",
       "2    13.16        2.36  2.67               18.6        101           2.80   \n",
       "3    14.37        1.95  2.50               16.8        113           3.85   \n",
       "4    13.24        2.59  2.87               21.0        118           2.80   \n",
       "\n",
       "   Flavanoids  Nonflavanoid phenols  Proanthocyanins  Color intensity   Hue  \\\n",
       "0        3.06                  0.28             2.29             5.64  1.04   \n",
       "1        2.76                  0.26             1.28             4.38  1.05   \n",
       "2        3.24                  0.30             2.81             5.68  1.03   \n",
       "3        3.49                  0.24             2.18             7.80  0.86   \n",
       "4        2.69                  0.39             1.82             4.32  1.04   \n",
       "\n",
       "   OD280/OD315 of diluted wines  Proline      Moc   Kolor Kwas jabłkowy  \n",
       "0                          3.92     1065    mocne  różowe           tak  \n",
       "1                          3.40     1050  średnie   białe           tak  \n",
       "2                          3.17     1185  średnie  różowe           tak  \n",
       "3                          3.45     1480    mocne  różowe           tak  \n",
       "4                          2.93      735  średnie   białe           tak  "
      ]
     },
     "execution_count": 23,
     "metadata": {},
     "output_type": "execute_result"
    }
   ],
   "source": [
    "X.head()"
   ]
  },
  {
   "cell_type": "markdown",
   "metadata": {
    "id": "FwLKYaqEMCT0"
   },
   "source": [
    "A następnie wszystkie cechy zamieńmy na one hot vectors"
   ]
  },
  {
   "cell_type": "code",
   "execution_count": 24,
   "metadata": {},
   "outputs": [],
   "source": [
    "X = pd.get_dummies(X, columns=['Moc', 'Kolor', 'Kwas jabłkowy'], drop_first=True)"
   ]
  },
  {
   "cell_type": "code",
   "execution_count": 13,
   "metadata": {},
   "outputs": [
    {
     "data": {
      "text/html": [
       "<div>\n",
       "<style scoped>\n",
       "    .dataframe tbody tr th:only-of-type {\n",
       "        vertical-align: middle;\n",
       "    }\n",
       "\n",
       "    .dataframe tbody tr th {\n",
       "        vertical-align: top;\n",
       "    }\n",
       "\n",
       "    .dataframe thead th {\n",
       "        text-align: right;\n",
       "    }\n",
       "</style>\n",
       "<table border=\"1\" class=\"dataframe\">\n",
       "  <thead>\n",
       "    <tr style=\"text-align: right;\">\n",
       "      <th></th>\n",
       "      <th>Alcohol</th>\n",
       "      <th>Malic acid</th>\n",
       "      <th>Ash</th>\n",
       "      <th>Alcalinity of ash</th>\n",
       "      <th>Magnesium</th>\n",
       "      <th>Total phenols</th>\n",
       "      <th>Flavanoids</th>\n",
       "      <th>Nonflavanoid phenols</th>\n",
       "      <th>Proanthocyanins</th>\n",
       "      <th>Color intensity</th>\n",
       "      <th>Hue</th>\n",
       "      <th>OD280/OD315 of diluted wines</th>\n",
       "      <th>Proline</th>\n",
       "      <th>Moc_średnie</th>\n",
       "      <th>Moc_mocne</th>\n",
       "      <th>Kolor_różowe</th>\n",
       "      <th>Kolor_czerwone</th>\n",
       "      <th>Kwas jabłkowy_nie</th>\n",
       "    </tr>\n",
       "  </thead>\n",
       "  <tbody>\n",
       "    <tr>\n",
       "      <th>0</th>\n",
       "      <td>14.23</td>\n",
       "      <td>1.71</td>\n",
       "      <td>2.43</td>\n",
       "      <td>15.6</td>\n",
       "      <td>127</td>\n",
       "      <td>2.80</td>\n",
       "      <td>3.06</td>\n",
       "      <td>0.28</td>\n",
       "      <td>2.29</td>\n",
       "      <td>5.64</td>\n",
       "      <td>1.04</td>\n",
       "      <td>3.92</td>\n",
       "      <td>1065</td>\n",
       "      <td>0</td>\n",
       "      <td>1</td>\n",
       "      <td>1</td>\n",
       "      <td>0</td>\n",
       "      <td>0</td>\n",
       "    </tr>\n",
       "    <tr>\n",
       "      <th>1</th>\n",
       "      <td>13.20</td>\n",
       "      <td>1.78</td>\n",
       "      <td>2.14</td>\n",
       "      <td>11.2</td>\n",
       "      <td>100</td>\n",
       "      <td>2.65</td>\n",
       "      <td>2.76</td>\n",
       "      <td>0.26</td>\n",
       "      <td>1.28</td>\n",
       "      <td>4.38</td>\n",
       "      <td>1.05</td>\n",
       "      <td>3.40</td>\n",
       "      <td>1050</td>\n",
       "      <td>1</td>\n",
       "      <td>0</td>\n",
       "      <td>0</td>\n",
       "      <td>0</td>\n",
       "      <td>0</td>\n",
       "    </tr>\n",
       "    <tr>\n",
       "      <th>2</th>\n",
       "      <td>13.16</td>\n",
       "      <td>2.36</td>\n",
       "      <td>2.67</td>\n",
       "      <td>18.6</td>\n",
       "      <td>101</td>\n",
       "      <td>2.80</td>\n",
       "      <td>3.24</td>\n",
       "      <td>0.30</td>\n",
       "      <td>2.81</td>\n",
       "      <td>5.68</td>\n",
       "      <td>1.03</td>\n",
       "      <td>3.17</td>\n",
       "      <td>1185</td>\n",
       "      <td>1</td>\n",
       "      <td>0</td>\n",
       "      <td>1</td>\n",
       "      <td>0</td>\n",
       "      <td>0</td>\n",
       "    </tr>\n",
       "    <tr>\n",
       "      <th>3</th>\n",
       "      <td>14.37</td>\n",
       "      <td>1.95</td>\n",
       "      <td>2.50</td>\n",
       "      <td>16.8</td>\n",
       "      <td>113</td>\n",
       "      <td>3.85</td>\n",
       "      <td>3.49</td>\n",
       "      <td>0.24</td>\n",
       "      <td>2.18</td>\n",
       "      <td>7.80</td>\n",
       "      <td>0.86</td>\n",
       "      <td>3.45</td>\n",
       "      <td>1480</td>\n",
       "      <td>0</td>\n",
       "      <td>1</td>\n",
       "      <td>1</td>\n",
       "      <td>0</td>\n",
       "      <td>0</td>\n",
       "    </tr>\n",
       "    <tr>\n",
       "      <th>4</th>\n",
       "      <td>13.24</td>\n",
       "      <td>2.59</td>\n",
       "      <td>2.87</td>\n",
       "      <td>21.0</td>\n",
       "      <td>118</td>\n",
       "      <td>2.80</td>\n",
       "      <td>2.69</td>\n",
       "      <td>0.39</td>\n",
       "      <td>1.82</td>\n",
       "      <td>4.32</td>\n",
       "      <td>1.04</td>\n",
       "      <td>2.93</td>\n",
       "      <td>735</td>\n",
       "      <td>1</td>\n",
       "      <td>0</td>\n",
       "      <td>0</td>\n",
       "      <td>0</td>\n",
       "      <td>0</td>\n",
       "    </tr>\n",
       "  </tbody>\n",
       "</table>\n",
       "</div>"
      ],
      "text/plain": [
       "   Alcohol  Malic acid   Ash  Alcalinity of ash  Magnesium  Total phenols  \\\n",
       "0    14.23        1.71  2.43               15.6        127           2.80   \n",
       "1    13.20        1.78  2.14               11.2        100           2.65   \n",
       "2    13.16        2.36  2.67               18.6        101           2.80   \n",
       "3    14.37        1.95  2.50               16.8        113           3.85   \n",
       "4    13.24        2.59  2.87               21.0        118           2.80   \n",
       "\n",
       "   Flavanoids  Nonflavanoid phenols  Proanthocyanins  Color intensity   Hue  \\\n",
       "0        3.06                  0.28             2.29             5.64  1.04   \n",
       "1        2.76                  0.26             1.28             4.38  1.05   \n",
       "2        3.24                  0.30             2.81             5.68  1.03   \n",
       "3        3.49                  0.24             2.18             7.80  0.86   \n",
       "4        2.69                  0.39             1.82             4.32  1.04   \n",
       "\n",
       "   OD280/OD315 of diluted wines  Proline  Moc_średnie  Moc_mocne  \\\n",
       "0                          3.92     1065            0          1   \n",
       "1                          3.40     1050            1          0   \n",
       "2                          3.17     1185            1          0   \n",
       "3                          3.45     1480            0          1   \n",
       "4                          2.93      735            1          0   \n",
       "\n",
       "   Kolor_różowe  Kolor_czerwone  Kwas jabłkowy_nie  \n",
       "0             1               0                  0  \n",
       "1             0               0                  0  \n",
       "2             1               0                  0  \n",
       "3             1               0                  0  \n",
       "4             0               0                  0  "
      ]
     },
     "execution_count": 13,
     "metadata": {},
     "output_type": "execute_result"
    }
   ],
   "source": [
    "X.head()"
   ]
  },
  {
   "cell_type": "markdown",
   "metadata": {},
   "source": [
    "Możemy to też zrobić przy użyciu OneHotEncodera ze sklearna:"
   ]
  },
  {
   "cell_type": "code",
   "execution_count": 26,
   "metadata": {},
   "outputs": [],
   "source": [
    "wine, wine_classes = load_dataset('wine', 'Class')\n",
    "\n",
    "y = wine.pop('class')\n",
    "X = wine\n",
    "\n",
    "X['Moc'] = pd.cut(X['Alcohol'], 3, labels=['słabe', 'średnie', 'mocne'], duplicates='drop')\n",
    "X['Kolor'] = pd.cut(X['Color intensity'], 3, labels=['białe', 'różowe', 'czerwone'], duplicates='drop')\n",
    "X['Kwas jabłkowy'] = pd.cut(X['Malic acid'], 2, labels=['tak', 'nie'], duplicates='drop')"
   ]
  },
  {
   "cell_type": "code",
   "execution_count": 27,
   "metadata": {},
   "outputs": [],
   "source": [
    "from sklearn.preprocessing import OneHotEncoder\n",
    "one_hot_encoder = OneHotEncoder(sparse_output = False)\n",
    "# zwraca macierz\n",
    "X_onehot = one_hot_encoder.fit_transform(X[['Moc', 'Kolor', 'Kwas jabłkowy']])\n",
    "# przypisanie do df\n",
    "X_onehot_df = pd.DataFrame(X_onehot, \n",
    "                           columns=one_hot_encoder.get_feature_names_out(['Moc', 'Kolor', 'Kwas jabłkowy']))"
   ]
  },
  {
   "cell_type": "markdown",
   "metadata": {},
   "source": [
    "Target encoding:"
   ]
  },
  {
   "cell_type": "code",
   "execution_count": 28,
   "metadata": {},
   "outputs": [
    {
     "data": {
      "text/html": [
       "<div>\n",
       "<style scoped>\n",
       "    .dataframe tbody tr th:only-of-type {\n",
       "        vertical-align: middle;\n",
       "    }\n",
       "\n",
       "    .dataframe tbody tr th {\n",
       "        vertical-align: top;\n",
       "    }\n",
       "\n",
       "    .dataframe thead th {\n",
       "        text-align: right;\n",
       "    }\n",
       "</style>\n",
       "<table border=\"1\" class=\"dataframe\">\n",
       "  <thead>\n",
       "    <tr style=\"text-align: right;\">\n",
       "      <th></th>\n",
       "      <th>Alcohol</th>\n",
       "      <th>Malic acid</th>\n",
       "      <th>Ash</th>\n",
       "      <th>Alcalinity of ash</th>\n",
       "      <th>Magnesium</th>\n",
       "      <th>Total phenols</th>\n",
       "      <th>Flavanoids</th>\n",
       "      <th>Nonflavanoid phenols</th>\n",
       "      <th>Proanthocyanins</th>\n",
       "      <th>Color intensity</th>\n",
       "      <th>Hue</th>\n",
       "      <th>OD280/OD315 of diluted wines</th>\n",
       "      <th>Proline</th>\n",
       "      <th>Moc</th>\n",
       "      <th>Kolor</th>\n",
       "      <th>Kwas jabłkowy</th>\n",
       "      <th>class</th>\n",
       "    </tr>\n",
       "  </thead>\n",
       "  <tbody>\n",
       "    <tr>\n",
       "      <th>0</th>\n",
       "      <td>14.23</td>\n",
       "      <td>1.71</td>\n",
       "      <td>2.43</td>\n",
       "      <td>15.6</td>\n",
       "      <td>127</td>\n",
       "      <td>2.80</td>\n",
       "      <td>3.06</td>\n",
       "      <td>0.28</td>\n",
       "      <td>2.29</td>\n",
       "      <td>5.64</td>\n",
       "      <td>1.04</td>\n",
       "      <td>3.92</td>\n",
       "      <td>1065</td>\n",
       "      <td>0.294118</td>\n",
       "      <td>różowe</td>\n",
       "      <td>tak</td>\n",
       "      <td>0</td>\n",
       "    </tr>\n",
       "    <tr>\n",
       "      <th>1</th>\n",
       "      <td>13.20</td>\n",
       "      <td>1.78</td>\n",
       "      <td>2.14</td>\n",
       "      <td>11.2</td>\n",
       "      <td>100</td>\n",
       "      <td>2.65</td>\n",
       "      <td>2.76</td>\n",
       "      <td>0.26</td>\n",
       "      <td>1.28</td>\n",
       "      <td>4.38</td>\n",
       "      <td>1.05</td>\n",
       "      <td>3.40</td>\n",
       "      <td>1050</td>\n",
       "      <td>1.116279</td>\n",
       "      <td>białe</td>\n",
       "      <td>tak</td>\n",
       "      <td>0</td>\n",
       "    </tr>\n",
       "    <tr>\n",
       "      <th>2</th>\n",
       "      <td>13.16</td>\n",
       "      <td>2.36</td>\n",
       "      <td>2.67</td>\n",
       "      <td>18.6</td>\n",
       "      <td>101</td>\n",
       "      <td>2.80</td>\n",
       "      <td>3.24</td>\n",
       "      <td>0.30</td>\n",
       "      <td>2.81</td>\n",
       "      <td>5.68</td>\n",
       "      <td>1.03</td>\n",
       "      <td>3.17</td>\n",
       "      <td>1185</td>\n",
       "      <td>1.116279</td>\n",
       "      <td>różowe</td>\n",
       "      <td>tak</td>\n",
       "      <td>0</td>\n",
       "    </tr>\n",
       "    <tr>\n",
       "      <th>3</th>\n",
       "      <td>14.37</td>\n",
       "      <td>1.95</td>\n",
       "      <td>2.50</td>\n",
       "      <td>16.8</td>\n",
       "      <td>113</td>\n",
       "      <td>3.85</td>\n",
       "      <td>3.49</td>\n",
       "      <td>0.24</td>\n",
       "      <td>2.18</td>\n",
       "      <td>7.80</td>\n",
       "      <td>0.86</td>\n",
       "      <td>3.45</td>\n",
       "      <td>1480</td>\n",
       "      <td>0.294118</td>\n",
       "      <td>różowe</td>\n",
       "      <td>tak</td>\n",
       "      <td>0</td>\n",
       "    </tr>\n",
       "    <tr>\n",
       "      <th>4</th>\n",
       "      <td>13.24</td>\n",
       "      <td>2.59</td>\n",
       "      <td>2.87</td>\n",
       "      <td>21.0</td>\n",
       "      <td>118</td>\n",
       "      <td>2.80</td>\n",
       "      <td>2.69</td>\n",
       "      <td>0.39</td>\n",
       "      <td>1.82</td>\n",
       "      <td>4.32</td>\n",
       "      <td>1.04</td>\n",
       "      <td>2.93</td>\n",
       "      <td>735</td>\n",
       "      <td>1.116279</td>\n",
       "      <td>białe</td>\n",
       "      <td>tak</td>\n",
       "      <td>0</td>\n",
       "    </tr>\n",
       "    <tr>\n",
       "      <th>...</th>\n",
       "      <td>...</td>\n",
       "      <td>...</td>\n",
       "      <td>...</td>\n",
       "      <td>...</td>\n",
       "      <td>...</td>\n",
       "      <td>...</td>\n",
       "      <td>...</td>\n",
       "      <td>...</td>\n",
       "      <td>...</td>\n",
       "      <td>...</td>\n",
       "      <td>...</td>\n",
       "      <td>...</td>\n",
       "      <td>...</td>\n",
       "      <td>...</td>\n",
       "      <td>...</td>\n",
       "      <td>...</td>\n",
       "      <td>...</td>\n",
       "    </tr>\n",
       "    <tr>\n",
       "      <th>173</th>\n",
       "      <td>13.71</td>\n",
       "      <td>5.65</td>\n",
       "      <td>2.45</td>\n",
       "      <td>20.5</td>\n",
       "      <td>95</td>\n",
       "      <td>1.68</td>\n",
       "      <td>0.61</td>\n",
       "      <td>0.52</td>\n",
       "      <td>1.06</td>\n",
       "      <td>7.70</td>\n",
       "      <td>0.64</td>\n",
       "      <td>1.74</td>\n",
       "      <td>740</td>\n",
       "      <td>0.294118</td>\n",
       "      <td>różowe</td>\n",
       "      <td>nie</td>\n",
       "      <td>1</td>\n",
       "    </tr>\n",
       "    <tr>\n",
       "      <th>174</th>\n",
       "      <td>13.40</td>\n",
       "      <td>3.91</td>\n",
       "      <td>2.48</td>\n",
       "      <td>23.0</td>\n",
       "      <td>102</td>\n",
       "      <td>1.80</td>\n",
       "      <td>0.75</td>\n",
       "      <td>0.43</td>\n",
       "      <td>1.41</td>\n",
       "      <td>7.30</td>\n",
       "      <td>0.70</td>\n",
       "      <td>1.56</td>\n",
       "      <td>750</td>\n",
       "      <td>1.116279</td>\n",
       "      <td>różowe</td>\n",
       "      <td>nie</td>\n",
       "      <td>1</td>\n",
       "    </tr>\n",
       "    <tr>\n",
       "      <th>175</th>\n",
       "      <td>13.27</td>\n",
       "      <td>4.28</td>\n",
       "      <td>2.26</td>\n",
       "      <td>20.0</td>\n",
       "      <td>120</td>\n",
       "      <td>1.59</td>\n",
       "      <td>0.69</td>\n",
       "      <td>0.43</td>\n",
       "      <td>1.35</td>\n",
       "      <td>10.20</td>\n",
       "      <td>0.59</td>\n",
       "      <td>1.56</td>\n",
       "      <td>835</td>\n",
       "      <td>1.116279</td>\n",
       "      <td>czerwone</td>\n",
       "      <td>nie</td>\n",
       "      <td>1</td>\n",
       "    </tr>\n",
       "    <tr>\n",
       "      <th>176</th>\n",
       "      <td>13.17</td>\n",
       "      <td>2.59</td>\n",
       "      <td>2.37</td>\n",
       "      <td>20.0</td>\n",
       "      <td>120</td>\n",
       "      <td>1.65</td>\n",
       "      <td>0.68</td>\n",
       "      <td>0.53</td>\n",
       "      <td>1.46</td>\n",
       "      <td>9.30</td>\n",
       "      <td>0.60</td>\n",
       "      <td>1.62</td>\n",
       "      <td>840</td>\n",
       "      <td>1.116279</td>\n",
       "      <td>czerwone</td>\n",
       "      <td>tak</td>\n",
       "      <td>1</td>\n",
       "    </tr>\n",
       "    <tr>\n",
       "      <th>177</th>\n",
       "      <td>14.13</td>\n",
       "      <td>4.10</td>\n",
       "      <td>2.74</td>\n",
       "      <td>24.5</td>\n",
       "      <td>96</td>\n",
       "      <td>2.05</td>\n",
       "      <td>0.76</td>\n",
       "      <td>0.56</td>\n",
       "      <td>1.35</td>\n",
       "      <td>9.20</td>\n",
       "      <td>0.61</td>\n",
       "      <td>1.60</td>\n",
       "      <td>560</td>\n",
       "      <td>0.294118</td>\n",
       "      <td>czerwone</td>\n",
       "      <td>nie</td>\n",
       "      <td>1</td>\n",
       "    </tr>\n",
       "  </tbody>\n",
       "</table>\n",
       "<p>178 rows × 17 columns</p>\n",
       "</div>"
      ],
      "text/plain": [
       "     Alcohol  Malic acid   Ash  Alcalinity of ash  Magnesium  Total phenols  \\\n",
       "0      14.23        1.71  2.43               15.6        127           2.80   \n",
       "1      13.20        1.78  2.14               11.2        100           2.65   \n",
       "2      13.16        2.36  2.67               18.6        101           2.80   \n",
       "3      14.37        1.95  2.50               16.8        113           3.85   \n",
       "4      13.24        2.59  2.87               21.0        118           2.80   \n",
       "..       ...         ...   ...                ...        ...            ...   \n",
       "173    13.71        5.65  2.45               20.5         95           1.68   \n",
       "174    13.40        3.91  2.48               23.0        102           1.80   \n",
       "175    13.27        4.28  2.26               20.0        120           1.59   \n",
       "176    13.17        2.59  2.37               20.0        120           1.65   \n",
       "177    14.13        4.10  2.74               24.5         96           2.05   \n",
       "\n",
       "     Flavanoids  Nonflavanoid phenols  Proanthocyanins  Color intensity   Hue  \\\n",
       "0          3.06                  0.28             2.29             5.64  1.04   \n",
       "1          2.76                  0.26             1.28             4.38  1.05   \n",
       "2          3.24                  0.30             2.81             5.68  1.03   \n",
       "3          3.49                  0.24             2.18             7.80  0.86   \n",
       "4          2.69                  0.39             1.82             4.32  1.04   \n",
       "..          ...                   ...              ...              ...   ...   \n",
       "173        0.61                  0.52             1.06             7.70  0.64   \n",
       "174        0.75                  0.43             1.41             7.30  0.70   \n",
       "175        0.69                  0.43             1.35            10.20  0.59   \n",
       "176        0.68                  0.53             1.46             9.30  0.60   \n",
       "177        0.76                  0.56             1.35             9.20  0.61   \n",
       "\n",
       "     OD280/OD315 of diluted wines  Proline       Moc     Kolor Kwas jabłkowy  \\\n",
       "0                            3.92     1065  0.294118    różowe           tak   \n",
       "1                            3.40     1050  1.116279     białe           tak   \n",
       "2                            3.17     1185  1.116279    różowe           tak   \n",
       "3                            3.45     1480  0.294118    różowe           tak   \n",
       "4                            2.93      735  1.116279     białe           tak   \n",
       "..                            ...      ...       ...       ...           ...   \n",
       "173                          1.74      740  0.294118    różowe           nie   \n",
       "174                          1.56      750  1.116279    różowe           nie   \n",
       "175                          1.56      835  1.116279  czerwone           nie   \n",
       "176                          1.62      840  1.116279  czerwone           tak   \n",
       "177                          1.60      560  0.294118  czerwone           nie   \n",
       "\n",
       "     class  \n",
       "0        0  \n",
       "1        0  \n",
       "2        0  \n",
       "3        0  \n",
       "4        0  \n",
       "..     ...  \n",
       "173      1  \n",
       "174      1  \n",
       "175      1  \n",
       "176      1  \n",
       "177      1  \n",
       "\n",
       "[178 rows x 17 columns]"
      ]
     },
     "metadata": {},
     "output_type": "display_data"
    }
   ],
   "source": [
    "df = pd.concat([X,y], axis = 1)\n",
    "\n",
    "means = df.groupby('Moc')['class'].mean()\n",
    "# po średniej ze zgrupowanych \"moc po klasach\"\n",
    "# może wystąpić wyciek, leak ze wzgledu na wziecie pod uwagę wartosci klass z Y\n",
    "df['Moc'] = df['Moc'].map(means)\n",
    "\n",
    "display(df)"
   ]
  },
  {
   "cell_type": "markdown",
   "metadata": {
    "id": "AD7MRXl2IqAw"
   },
   "source": [
    "### Jak radzić sobie z niezbalansowanym zbiorem?"
   ]
  },
  {
   "cell_type": "markdown",
   "metadata": {
    "id": "EbZ0dWbVIw1B"
   },
   "source": [
    "![resampling.png](data:image/png;base64,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)"
   ]
  },
  {
   "cell_type": "markdown",
   "metadata": {},
   "source": [
    "Random oversampling duplicates examples from the minority class in the training dataset and can result in overfitting for some models.\n",
    "\n",
    "Random undersampling deletes examples from the majority class and can result in losing information invaluable to a model."
   ]
  },
  {
   "cell_type": "markdown",
   "metadata": {
    "id": "Yrp5e9OMJMel"
   },
   "source": [
    "Stwórzmy syntetyczny niezbalansowany zbiór:"
   ]
  },
  {
   "cell_type": "code",
   "execution_count": 29,
   "metadata": {},
   "outputs": [],
   "source": [
    "from sklearn.datasets import make_classification\n",
    "\n",
    "X, y = make_classification(n_samples=1000, n_features=20,  weights=[0.8, 0.2], random_state=42)\n",
    "df = pd.DataFrame(X, columns=[f\"feat_{i}\" for i in range(20)])\n",
    "df['class'] = y"
   ]
  },
  {
   "cell_type": "code",
   "execution_count": 30,
   "metadata": {},
   "outputs": [
    {
     "data": {
      "text/html": [
       "<div>\n",
       "<style scoped>\n",
       "    .dataframe tbody tr th:only-of-type {\n",
       "        vertical-align: middle;\n",
       "    }\n",
       "\n",
       "    .dataframe tbody tr th {\n",
       "        vertical-align: top;\n",
       "    }\n",
       "\n",
       "    .dataframe thead th {\n",
       "        text-align: right;\n",
       "    }\n",
       "</style>\n",
       "<table border=\"1\" class=\"dataframe\">\n",
       "  <thead>\n",
       "    <tr style=\"text-align: right;\">\n",
       "      <th></th>\n",
       "      <th>feat_0</th>\n",
       "      <th>feat_1</th>\n",
       "      <th>feat_2</th>\n",
       "      <th>feat_3</th>\n",
       "      <th>feat_4</th>\n",
       "      <th>feat_5</th>\n",
       "      <th>feat_6</th>\n",
       "      <th>feat_7</th>\n",
       "      <th>feat_8</th>\n",
       "      <th>feat_9</th>\n",
       "      <th>...</th>\n",
       "      <th>feat_11</th>\n",
       "      <th>feat_12</th>\n",
       "      <th>feat_13</th>\n",
       "      <th>feat_14</th>\n",
       "      <th>feat_15</th>\n",
       "      <th>feat_16</th>\n",
       "      <th>feat_17</th>\n",
       "      <th>feat_18</th>\n",
       "      <th>feat_19</th>\n",
       "      <th>class</th>\n",
       "    </tr>\n",
       "  </thead>\n",
       "  <tbody>\n",
       "    <tr>\n",
       "      <th>0</th>\n",
       "      <td>-0.669356</td>\n",
       "      <td>-0.198069</td>\n",
       "      <td>-0.870766</td>\n",
       "      <td>1.141831</td>\n",
       "      <td>0.021606</td>\n",
       "      <td>-1.086403</td>\n",
       "      <td>-1.251698</td>\n",
       "      <td>0.289305</td>\n",
       "      <td>0.357163</td>\n",
       "      <td>-0.196811</td>\n",
       "      <td>...</td>\n",
       "      <td>0.154850</td>\n",
       "      <td>-0.219970</td>\n",
       "      <td>-0.739137</td>\n",
       "      <td>1.646000</td>\n",
       "      <td>1.634606</td>\n",
       "      <td>-0.938180</td>\n",
       "      <td>-1.267337</td>\n",
       "      <td>0.261736</td>\n",
       "      <td>1.016643</td>\n",
       "      <td>0</td>\n",
       "    </tr>\n",
       "    <tr>\n",
       "      <th>1</th>\n",
       "      <td>0.093372</td>\n",
       "      <td>0.785848</td>\n",
       "      <td>0.105754</td>\n",
       "      <td>1.272354</td>\n",
       "      <td>-0.846316</td>\n",
       "      <td>-0.979093</td>\n",
       "      <td>1.263707</td>\n",
       "      <td>0.264020</td>\n",
       "      <td>2.411677</td>\n",
       "      <td>-0.960046</td>\n",
       "      <td>...</td>\n",
       "      <td>0.199810</td>\n",
       "      <td>0.288724</td>\n",
       "      <td>0.732492</td>\n",
       "      <td>-0.872002</td>\n",
       "      <td>-1.654887</td>\n",
       "      <td>-1.130204</td>\n",
       "      <td>-0.122709</td>\n",
       "      <td>0.693431</td>\n",
       "      <td>0.911363</td>\n",
       "      <td>0</td>\n",
       "    </tr>\n",
       "    <tr>\n",
       "      <th>2</th>\n",
       "      <td>-0.905797</td>\n",
       "      <td>-0.608341</td>\n",
       "      <td>0.295141</td>\n",
       "      <td>0.943716</td>\n",
       "      <td>0.092936</td>\n",
       "      <td>1.370397</td>\n",
       "      <td>-0.064772</td>\n",
       "      <td>0.287273</td>\n",
       "      <td>-0.533004</td>\n",
       "      <td>-0.032504</td>\n",
       "      <td>...</td>\n",
       "      <td>-0.510064</td>\n",
       "      <td>-0.868768</td>\n",
       "      <td>-0.598279</td>\n",
       "      <td>0.019832</td>\n",
       "      <td>0.613460</td>\n",
       "      <td>-1.779439</td>\n",
       "      <td>0.830498</td>\n",
       "      <td>-0.737332</td>\n",
       "      <td>-0.578212</td>\n",
       "      <td>1</td>\n",
       "    </tr>\n",
       "    <tr>\n",
       "      <th>3</th>\n",
       "      <td>-0.585793</td>\n",
       "      <td>0.572040</td>\n",
       "      <td>0.698816</td>\n",
       "      <td>0.436236</td>\n",
       "      <td>-0.315082</td>\n",
       "      <td>-0.471095</td>\n",
       "      <td>1.448820</td>\n",
       "      <td>0.505558</td>\n",
       "      <td>-1.440982</td>\n",
       "      <td>-1.134020</td>\n",
       "      <td>...</td>\n",
       "      <td>1.466783</td>\n",
       "      <td>0.678728</td>\n",
       "      <td>-1.190917</td>\n",
       "      <td>-0.893229</td>\n",
       "      <td>-0.929136</td>\n",
       "      <td>-0.221600</td>\n",
       "      <td>-0.346772</td>\n",
       "      <td>0.425658</td>\n",
       "      <td>-1.040199</td>\n",
       "      <td>0</td>\n",
       "    </tr>\n",
       "    <tr>\n",
       "      <th>4</th>\n",
       "      <td>1.146441</td>\n",
       "      <td>0.515579</td>\n",
       "      <td>-1.222895</td>\n",
       "      <td>-0.396230</td>\n",
       "      <td>-1.293508</td>\n",
       "      <td>-0.352428</td>\n",
       "      <td>0.071254</td>\n",
       "      <td>1.239584</td>\n",
       "      <td>1.007133</td>\n",
       "      <td>-1.479444</td>\n",
       "      <td>...</td>\n",
       "      <td>-0.918127</td>\n",
       "      <td>0.604121</td>\n",
       "      <td>1.068379</td>\n",
       "      <td>-0.882271</td>\n",
       "      <td>2.303639</td>\n",
       "      <td>-0.973379</td>\n",
       "      <td>1.259233</td>\n",
       "      <td>0.360015</td>\n",
       "      <td>1.920368</td>\n",
       "      <td>0</td>\n",
       "    </tr>\n",
       "  </tbody>\n",
       "</table>\n",
       "<p>5 rows × 21 columns</p>\n",
       "</div>"
      ],
      "text/plain": [
       "     feat_0    feat_1    feat_2    feat_3    feat_4    feat_5    feat_6  \\\n",
       "0 -0.669356 -0.198069 -0.870766  1.141831  0.021606 -1.086403 -1.251698   \n",
       "1  0.093372  0.785848  0.105754  1.272354 -0.846316 -0.979093  1.263707   \n",
       "2 -0.905797 -0.608341  0.295141  0.943716  0.092936  1.370397 -0.064772   \n",
       "3 -0.585793  0.572040  0.698816  0.436236 -0.315082 -0.471095  1.448820   \n",
       "4  1.146441  0.515579 -1.222895 -0.396230 -1.293508 -0.352428  0.071254   \n",
       "\n",
       "     feat_7    feat_8    feat_9  ...   feat_11   feat_12   feat_13   feat_14  \\\n",
       "0  0.289305  0.357163 -0.196811  ...  0.154850 -0.219970 -0.739137  1.646000   \n",
       "1  0.264020  2.411677 -0.960046  ...  0.199810  0.288724  0.732492 -0.872002   \n",
       "2  0.287273 -0.533004 -0.032504  ... -0.510064 -0.868768 -0.598279  0.019832   \n",
       "3  0.505558 -1.440982 -1.134020  ...  1.466783  0.678728 -1.190917 -0.893229   \n",
       "4  1.239584  1.007133 -1.479444  ... -0.918127  0.604121  1.068379 -0.882271   \n",
       "\n",
       "    feat_15   feat_16   feat_17   feat_18   feat_19  class  \n",
       "0  1.634606 -0.938180 -1.267337  0.261736  1.016643      0  \n",
       "1 -1.654887 -1.130204 -0.122709  0.693431  0.911363      0  \n",
       "2  0.613460 -1.779439  0.830498 -0.737332 -0.578212      1  \n",
       "3 -0.929136 -0.221600 -0.346772  0.425658 -1.040199      0  \n",
       "4  2.303639 -0.973379  1.259233  0.360015  1.920368      0  \n",
       "\n",
       "[5 rows x 21 columns]"
      ]
     },
     "execution_count": 30,
     "metadata": {},
     "output_type": "execute_result"
    }
   ],
   "source": [
    "df.head()"
   ]
  },
  {
   "cell_type": "code",
   "execution_count": 31,
   "metadata": {},
   "outputs": [
    {
     "data": {
      "text/plain": [
       "0    798\n",
       "1    202\n",
       "Name: class, dtype: int64"
      ]
     },
     "execution_count": 31,
     "metadata": {},
     "output_type": "execute_result"
    }
   ],
   "source": [
    "df['class'].value_counts()"
   ]
  },
  {
   "cell_type": "markdown",
   "metadata": {
    "id": "6A7X6xkcMVMy"
   },
   "source": [
    "Wytrenujmy na tym model SVM"
   ]
  },
  {
   "cell_type": "code",
   "execution_count": 34,
   "metadata": {},
   "outputs": [],
   "source": [
    "from sklearn.model_selection import StratifiedKFold, train_test_split\n",
    "from sklearn.svm import SVC\n",
    "from sklearn.metrics import classification_report, confusion_matrix"
   ]
  },
  {
   "cell_type": "code",
   "execution_count": 35,
   "metadata": {},
   "outputs": [],
   "source": [
    "X = df[[f\"feat_{i}\" for i in range(20)]]\n",
    "y = df['class']"
   ]
  },
  {
   "cell_type": "code",
   "execution_count": 36,
   "metadata": {},
   "outputs": [],
   "source": [
    "X = df[[f\"feat_{i}\" for i in range(20)]]\n",
    "y = df['class']\n",
    "\n",
    "X_rest, X_final, y_rest, y_final = train_test_split(X, y, stratify=y, test_size=0.2, random_state=42)"
   ]
  },
  {
   "cell_type": "markdown",
   "metadata": {},
   "source": [
    "Metoda extend() w Pythonie jest używana do dodawania elementów z listy (lub dowolnego iterowalnego) do innej listy. Różnica między extend() a append() polega na tym, że extend() dodaje elementy z listy jako pojedyncze elementy, podczas gdy append() dodaje całą listę jako jeden element."
   ]
  },
  {
   "cell_type": "code",
   "execution_count": 37,
   "metadata": {},
   "outputs": [
    {
     "name": "stdout",
     "output_type": "stream",
     "text": [
      "              precision    recall  f1-score   support\n",
      "\n",
      "           0       0.93      0.97      0.95       636\n",
      "           1       0.85      0.71      0.77       164\n",
      "\n",
      "    accuracy                           0.91       800\n",
      "   macro avg       0.89      0.84      0.86       800\n",
      "weighted avg       0.91      0.91      0.91       800\n",
      "\n"
     ]
    }
   ],
   "source": [
    "true, predicted = [], []\n",
    "\n",
    "for train_index, test_index in StratifiedKFold(5).split(X_rest, y_rest):\n",
    "    X_train, X_test = X.iloc[train_index], X.iloc[test_index]\n",
    "    y_train, y_test = y.iloc[train_index], y.iloc[test_index]\n",
    "    model_svm = SVC()\n",
    "    model_svm.fit(X_train, y_train)\n",
    "    true.extend(y_test)\n",
    "    predicted.extend(model_svm.predict(X_test))\n",
    "\n",
    "print(classification_report(true, predicted))"
   ]
  },
  {
   "cell_type": "code",
   "execution_count": 38,
   "metadata": {},
   "outputs": [
    {
     "name": "stdout",
     "output_type": "stream",
     "text": [
      "              precision    recall  f1-score   support\n",
      "\n",
      "           0       0.94      0.96      0.95       160\n",
      "           1       0.82      0.78      0.79        40\n",
      "\n",
      "    accuracy                           0.92       200\n",
      "   macro avg       0.88      0.87      0.87       200\n",
      "weighted avg       0.92      0.92      0.92       200\n",
      "\n"
     ]
    }
   ],
   "source": [
    "model_svm = SVC()\n",
    "model_svm.fit(X_rest, y_rest)\n",
    "y_pred = model_svm.predict(X_final)\n",
    "print(classification_report(y_final, y_pred))"
   ]
  },
  {
   "cell_type": "code",
   "execution_count": 39,
   "metadata": {},
   "outputs": [
    {
     "data": {
      "text/plain": [
       "<Axes: >"
      ]
     },
     "execution_count": 39,
     "metadata": {},
     "output_type": "execute_result"
    },
    {
     "data": {
      "image/png": "[encoded data removed]",
      "text/plain": [
       "<Figure size 640x480 with 2 Axes>"
      ]
     },
     "metadata": {},
     "output_type": "display_data"
    }
   ],
   "source": [
    "import seaborn as sns\n",
    "cm = confusion_matrix(y_final, y_pred)\n",
    "sns.heatmap(cm, annot=True, fmt='d')"
   ]
  },
  {
   "cell_type": "markdown",
   "metadata": {
    "id": "9CEw3JIhM6iF"
   },
   "source": [
    "#### Oversampling"
   ]
  },
  {
   "cell_type": "code",
   "execution_count": 40,
   "metadata": {},
   "outputs": [],
   "source": [
    "# modyfikujemy tylko zbiór treningowy\n",
    "# testujemy na wartościach właściwych bez zmiany"
   ]
  },
  {
   "cell_type": "code",
   "execution_count": 41,
   "metadata": {},
   "outputs": [],
   "source": [
    "from sklearn.utils import resample"
   ]
  },
  {
   "cell_type": "code",
   "execution_count": 42,
   "metadata": {},
   "outputs": [],
   "source": [
    "df = pd.DataFrame(X_rest, columns=[f\"feat_{i}\" for i in range(20)])\n",
    "df['class'] = y_rest"
   ]
  },
  {
   "cell_type": "code",
   "execution_count": 43,
   "metadata": {},
   "outputs": [
    {
     "data": {
      "text/plain": [
       "0    638\n",
       "1    162\n",
       "Name: class, dtype: int64"
      ]
     },
     "execution_count": 43,
     "metadata": {},
     "output_type": "execute_result"
    }
   ],
   "source": [
    "df['class'].value_counts()"
   ]
  },
  {
   "cell_type": "code",
   "execution_count": 45,
   "metadata": {},
   "outputs": [
    {
     "data": {
      "text/plain": [
       "0    638\n",
       "1    638\n",
       "Name: class, dtype: int64"
      ]
     },
     "execution_count": 45,
     "metadata": {},
     "output_type": "execute_result"
    }
   ],
   "source": [
    "df_majority = df[df['class'] == 0]\n",
    "df_minority = df[df['class'] == 1]\n",
    "\n",
    "# Upsample minority class\n",
    "df_minority_upsampled = resample(df_minority, \n",
    "                                 replace=True,    # sample with replacement\n",
    "                                 n_samples=638,    # to match majority class\n",
    "                                 random_state=42) # reproducible results\n",
    " \n",
    "# Combine majority class with upsampled minority class\n",
    "df_upsampled = pd.concat([df_majority, df_minority_upsampled])\n",
    " \n",
    "# Display new class counts\n",
    "df_upsampled['class'].value_counts()"
   ]
  },
  {
   "cell_type": "code",
   "execution_count": 46,
   "metadata": {},
   "outputs": [
    {
     "data": {
      "text/html": [
       "<div>\n",
       "<style scoped>\n",
       "    .dataframe tbody tr th:only-of-type {\n",
       "        vertical-align: middle;\n",
       "    }\n",
       "\n",
       "    .dataframe tbody tr th {\n",
       "        vertical-align: top;\n",
       "    }\n",
       "\n",
       "    .dataframe thead th {\n",
       "        text-align: right;\n",
       "    }\n",
       "</style>\n",
       "<table border=\"1\" class=\"dataframe\">\n",
       "  <thead>\n",
       "    <tr style=\"text-align: right;\">\n",
       "      <th></th>\n",
       "      <th>feat_0</th>\n",
       "      <th>feat_1</th>\n",
       "      <th>feat_2</th>\n",
       "      <th>feat_3</th>\n",
       "      <th>feat_4</th>\n",
       "      <th>feat_5</th>\n",
       "      <th>feat_6</th>\n",
       "      <th>feat_7</th>\n",
       "      <th>feat_8</th>\n",
       "      <th>feat_9</th>\n",
       "      <th>...</th>\n",
       "      <th>feat_12</th>\n",
       "      <th>feat_13</th>\n",
       "      <th>feat_14</th>\n",
       "      <th>feat_15</th>\n",
       "      <th>feat_16</th>\n",
       "      <th>feat_17</th>\n",
       "      <th>feat_18</th>\n",
       "      <th>feat_19</th>\n",
       "      <th>class_x</th>\n",
       "      <th>class_y</th>\n",
       "    </tr>\n",
       "  </thead>\n",
       "  <tbody>\n",
       "    <tr>\n",
       "      <th>0</th>\n",
       "      <td>-0.234508</td>\n",
       "      <td>0.163804</td>\n",
       "      <td>0.227405</td>\n",
       "      <td>-1.034598</td>\n",
       "      <td>-0.960780</td>\n",
       "      <td>0.157920</td>\n",
       "      <td>-0.889845</td>\n",
       "      <td>0.391881</td>\n",
       "      <td>0.501129</td>\n",
       "      <td>-0.784321</td>\n",
       "      <td>...</td>\n",
       "      <td>0.425911</td>\n",
       "      <td>0.650668</td>\n",
       "      <td>-0.569031</td>\n",
       "      <td>-1.070666</td>\n",
       "      <td>1.589147</td>\n",
       "      <td>0.688496</td>\n",
       "      <td>0.026012</td>\n",
       "      <td>0.867805</td>\n",
       "      <td>1</td>\n",
       "      <td>1</td>\n",
       "    </tr>\n",
       "    <tr>\n",
       "      <th>1</th>\n",
       "      <td>-1.228945</td>\n",
       "      <td>-0.612212</td>\n",
       "      <td>-0.717499</td>\n",
       "      <td>0.106435</td>\n",
       "      <td>-0.107127</td>\n",
       "      <td>0.733345</td>\n",
       "      <td>-0.965575</td>\n",
       "      <td>-0.182315</td>\n",
       "      <td>0.596794</td>\n",
       "      <td>0.720357</td>\n",
       "      <td>...</td>\n",
       "      <td>0.936806</td>\n",
       "      <td>1.268359</td>\n",
       "      <td>0.710796</td>\n",
       "      <td>1.219943</td>\n",
       "      <td>0.149872</td>\n",
       "      <td>0.332613</td>\n",
       "      <td>-0.530584</td>\n",
       "      <td>0.707106</td>\n",
       "      <td>1</td>\n",
       "      <td>1</td>\n",
       "    </tr>\n",
       "    <tr>\n",
       "      <th>2</th>\n",
       "      <td>-0.818525</td>\n",
       "      <td>-1.015682</td>\n",
       "      <td>0.751091</td>\n",
       "      <td>1.312549</td>\n",
       "      <td>-0.152377</td>\n",
       "      <td>1.153597</td>\n",
       "      <td>0.041386</td>\n",
       "      <td>0.196272</td>\n",
       "      <td>0.526548</td>\n",
       "      <td>0.328767</td>\n",
       "      <td>...</td>\n",
       "      <td>0.623600</td>\n",
       "      <td>0.344134</td>\n",
       "      <td>1.246686</td>\n",
       "      <td>1.583718</td>\n",
       "      <td>2.022213</td>\n",
       "      <td>-0.122655</td>\n",
       "      <td>-0.859614</td>\n",
       "      <td>0.586453</td>\n",
       "      <td>1</td>\n",
       "      <td>1</td>\n",
       "    </tr>\n",
       "    <tr>\n",
       "      <th>3</th>\n",
       "      <td>1.676455</td>\n",
       "      <td>-0.078133</td>\n",
       "      <td>1.587401</td>\n",
       "      <td>1.071476</td>\n",
       "      <td>0.165859</td>\n",
       "      <td>0.494788</td>\n",
       "      <td>0.399997</td>\n",
       "      <td>-0.457677</td>\n",
       "      <td>-0.600887</td>\n",
       "      <td>0.203944</td>\n",
       "      <td>...</td>\n",
       "      <td>0.323247</td>\n",
       "      <td>-1.109750</td>\n",
       "      <td>-0.338478</td>\n",
       "      <td>-1.547570</td>\n",
       "      <td>-1.564974</td>\n",
       "      <td>0.192990</td>\n",
       "      <td>-0.199075</td>\n",
       "      <td>-0.302097</td>\n",
       "      <td>1</td>\n",
       "      <td>1</td>\n",
       "    </tr>\n",
       "    <tr>\n",
       "      <th>4</th>\n",
       "      <td>0.336500</td>\n",
       "      <td>-0.549477</td>\n",
       "      <td>-0.307048</td>\n",
       "      <td>-2.521605</td>\n",
       "      <td>0.106494</td>\n",
       "      <td>3.547011</td>\n",
       "      <td>1.143566</td>\n",
       "      <td>0.197676</td>\n",
       "      <td>0.407090</td>\n",
       "      <td>0.891701</td>\n",
       "      <td>...</td>\n",
       "      <td>0.391829</td>\n",
       "      <td>0.428353</td>\n",
       "      <td>-2.452455</td>\n",
       "      <td>0.020121</td>\n",
       "      <td>-1.566959</td>\n",
       "      <td>-0.672394</td>\n",
       "      <td>-1.422074</td>\n",
       "      <td>-0.462737</td>\n",
       "      <td>1</td>\n",
       "      <td>1</td>\n",
       "    </tr>\n",
       "    <tr>\n",
       "      <th>...</th>\n",
       "      <td>...</td>\n",
       "      <td>...</td>\n",
       "      <td>...</td>\n",
       "      <td>...</td>\n",
       "      <td>...</td>\n",
       "      <td>...</td>\n",
       "      <td>...</td>\n",
       "      <td>...</td>\n",
       "      <td>...</td>\n",
       "      <td>...</td>\n",
       "      <td>...</td>\n",
       "      <td>...</td>\n",
       "      <td>...</td>\n",
       "      <td>...</td>\n",
       "      <td>...</td>\n",
       "      <td>...</td>\n",
       "      <td>...</td>\n",
       "      <td>...</td>\n",
       "      <td>...</td>\n",
       "      <td>...</td>\n",
       "      <td>...</td>\n",
       "    </tr>\n",
       "    <tr>\n",
       "      <th>153</th>\n",
       "      <td>0.482534</td>\n",
       "      <td>-0.429443</td>\n",
       "      <td>0.444968</td>\n",
       "      <td>-0.331865</td>\n",
       "      <td>-0.161767</td>\n",
       "      <td>1.714153</td>\n",
       "      <td>0.031063</td>\n",
       "      <td>0.609239</td>\n",
       "      <td>0.747546</td>\n",
       "      <td>0.168231</td>\n",
       "      <td>...</td>\n",
       "      <td>0.479940</td>\n",
       "      <td>0.324782</td>\n",
       "      <td>-0.784869</td>\n",
       "      <td>-1.007195</td>\n",
       "      <td>0.660343</td>\n",
       "      <td>-2.161304</td>\n",
       "      <td>-0.765005</td>\n",
       "      <td>1.396760</td>\n",
       "      <td>1</td>\n",
       "      <td>1</td>\n",
       "    </tr>\n",
       "    <tr>\n",
       "      <th>154</th>\n",
       "      <td>0.037647</td>\n",
       "      <td>0.448819</td>\n",
       "      <td>0.404049</td>\n",
       "      <td>0.885527</td>\n",
       "      <td>-0.852768</td>\n",
       "      <td>-0.472745</td>\n",
       "      <td>1.798415</td>\n",
       "      <td>-1.542193</td>\n",
       "      <td>1.608077</td>\n",
       "      <td>-0.685473</td>\n",
       "      <td>...</td>\n",
       "      <td>0.283678</td>\n",
       "      <td>0.463270</td>\n",
       "      <td>-0.590499</td>\n",
       "      <td>0.426790</td>\n",
       "      <td>1.161211</td>\n",
       "      <td>-1.005695</td>\n",
       "      <td>0.367734</td>\n",
       "      <td>0.521004</td>\n",
       "      <td>1</td>\n",
       "      <td>1</td>\n",
       "    </tr>\n",
       "    <tr>\n",
       "      <th>155</th>\n",
       "      <td>0.063702</td>\n",
       "      <td>0.708144</td>\n",
       "      <td>-0.097311</td>\n",
       "      <td>1.496880</td>\n",
       "      <td>-0.692065</td>\n",
       "      <td>1.193560</td>\n",
       "      <td>-0.298153</td>\n",
       "      <td>-0.076239</td>\n",
       "      <td>-0.292758</td>\n",
       "      <td>0.374062</td>\n",
       "      <td>...</td>\n",
       "      <td>-0.240724</td>\n",
       "      <td>-0.611085</td>\n",
       "      <td>-3.006486</td>\n",
       "      <td>-1.701140</td>\n",
       "      <td>-0.216827</td>\n",
       "      <td>0.264482</td>\n",
       "      <td>-0.054811</td>\n",
       "      <td>2.004423</td>\n",
       "      <td>1</td>\n",
       "      <td>1</td>\n",
       "    </tr>\n",
       "    <tr>\n",
       "      <th>156</th>\n",
       "      <td>1.590835</td>\n",
       "      <td>-1.068700</td>\n",
       "      <td>1.318608</td>\n",
       "      <td>0.532596</td>\n",
       "      <td>-0.784112</td>\n",
       "      <td>1.170129</td>\n",
       "      <td>-1.117894</td>\n",
       "      <td>-1.521433</td>\n",
       "      <td>-0.408500</td>\n",
       "      <td>0.160259</td>\n",
       "      <td>...</td>\n",
       "      <td>1.789791</td>\n",
       "      <td>-0.547218</td>\n",
       "      <td>1.358496</td>\n",
       "      <td>0.296185</td>\n",
       "      <td>0.358554</td>\n",
       "      <td>-0.369244</td>\n",
       "      <td>-0.890183</td>\n",
       "      <td>1.031043</td>\n",
       "      <td>1</td>\n",
       "      <td>1</td>\n",
       "    </tr>\n",
       "    <tr>\n",
       "      <th>157</th>\n",
       "      <td>1.046713</td>\n",
       "      <td>0.320114</td>\n",
       "      <td>0.187942</td>\n",
       "      <td>1.152349</td>\n",
       "      <td>0.650966</td>\n",
       "      <td>2.033645</td>\n",
       "      <td>0.572471</td>\n",
       "      <td>-0.682075</td>\n",
       "      <td>-0.495706</td>\n",
       "      <td>0.336583</td>\n",
       "      <td>...</td>\n",
       "      <td>0.143418</td>\n",
       "      <td>-0.484629</td>\n",
       "      <td>-2.957441</td>\n",
       "      <td>-1.075650</td>\n",
       "      <td>0.773558</td>\n",
       "      <td>-0.457685</td>\n",
       "      <td>-0.513978</td>\n",
       "      <td>-1.460302</td>\n",
       "      <td>1</td>\n",
       "      <td>1</td>\n",
       "    </tr>\n",
       "  </tbody>\n",
       "</table>\n",
       "<p>158 rows × 22 columns</p>\n",
       "</div>"
      ],
      "text/plain": [
       "       feat_0    feat_1    feat_2    feat_3    feat_4    feat_5    feat_6  \\\n",
       "0   -0.234508  0.163804  0.227405 -1.034598 -0.960780  0.157920 -0.889845   \n",
       "1   -1.228945 -0.612212 -0.717499  0.106435 -0.107127  0.733345 -0.965575   \n",
       "2   -0.818525 -1.015682  0.751091  1.312549 -0.152377  1.153597  0.041386   \n",
       "3    1.676455 -0.078133  1.587401  1.071476  0.165859  0.494788  0.399997   \n",
       "4    0.336500 -0.549477 -0.307048 -2.521605  0.106494  3.547011  1.143566   \n",
       "..        ...       ...       ...       ...       ...       ...       ...   \n",
       "153  0.482534 -0.429443  0.444968 -0.331865 -0.161767  1.714153  0.031063   \n",
       "154  0.037647  0.448819  0.404049  0.885527 -0.852768 -0.472745  1.798415   \n",
       "155  0.063702  0.708144 -0.097311  1.496880 -0.692065  1.193560 -0.298153   \n",
       "156  1.590835 -1.068700  1.318608  0.532596 -0.784112  1.170129 -1.117894   \n",
       "157  1.046713  0.320114  0.187942  1.152349  0.650966  2.033645  0.572471   \n",
       "\n",
       "       feat_7    feat_8    feat_9  ...   feat_12   feat_13   feat_14  \\\n",
       "0    0.391881  0.501129 -0.784321  ...  0.425911  0.650668 -0.569031   \n",
       "1   -0.182315  0.596794  0.720357  ...  0.936806  1.268359  0.710796   \n",
       "2    0.196272  0.526548  0.328767  ...  0.623600  0.344134  1.246686   \n",
       "3   -0.457677 -0.600887  0.203944  ...  0.323247 -1.109750 -0.338478   \n",
       "4    0.197676  0.407090  0.891701  ...  0.391829  0.428353 -2.452455   \n",
       "..        ...       ...       ...  ...       ...       ...       ...   \n",
       "153  0.609239  0.747546  0.168231  ...  0.479940  0.324782 -0.784869   \n",
       "154 -1.542193  1.608077 -0.685473  ...  0.283678  0.463270 -0.590499   \n",
       "155 -0.076239 -0.292758  0.374062  ... -0.240724 -0.611085 -3.006486   \n",
       "156 -1.521433 -0.408500  0.160259  ...  1.789791 -0.547218  1.358496   \n",
       "157 -0.682075 -0.495706  0.336583  ...  0.143418 -0.484629 -2.957441   \n",
       "\n",
       "      feat_15   feat_16   feat_17   feat_18   feat_19  class_x  class_y  \n",
       "0   -1.070666  1.589147  0.688496  0.026012  0.867805        1        1  \n",
       "1    1.219943  0.149872  0.332613 -0.530584  0.707106        1        1  \n",
       "2    1.583718  2.022213 -0.122655 -0.859614  0.586453        1        1  \n",
       "3   -1.547570 -1.564974  0.192990 -0.199075 -0.302097        1        1  \n",
       "4    0.020121 -1.566959 -0.672394 -1.422074 -0.462737        1        1  \n",
       "..        ...       ...       ...       ...       ...      ...      ...  \n",
       "153 -1.007195  0.660343 -2.161304 -0.765005  1.396760        1        1  \n",
       "154  0.426790  1.161211 -1.005695  0.367734  0.521004        1        1  \n",
       "155 -1.701140 -0.216827  0.264482 -0.054811  2.004423        1        1  \n",
       "156  0.296185  0.358554 -0.369244 -0.890183  1.031043        1        1  \n",
       "157 -1.075650  0.773558 -0.457685 -0.513978 -1.460302        1        1  \n",
       "\n",
       "[158 rows x 22 columns]"
      ]
     },
     "execution_count": 46,
     "metadata": {},
     "output_type": "execute_result"
    }
   ],
   "source": [
    "df.merge(df_upsampled[df_upsampled['class'] == 1].drop_duplicates(), on = list(df.columns[:-1]), how = 'right')"
   ]
  },
  {
   "cell_type": "code",
   "execution_count": 47,
   "metadata": {},
   "outputs": [
    {
     "data": {
      "text/plain": [
       "0    638\n",
       "1    162\n",
       "Name: class, dtype: int64"
      ]
     },
     "execution_count": 47,
     "metadata": {},
     "output_type": "execute_result"
    }
   ],
   "source": [
    "df['class'].value_counts()"
   ]
  },
  {
   "cell_type": "code",
   "execution_count": 48,
   "metadata": {},
   "outputs": [
    {
     "data": {
      "text/plain": [
       "0    638\n",
       "1    638\n",
       "Name: class, dtype: int64"
      ]
     },
     "execution_count": 48,
     "metadata": {},
     "output_type": "execute_result"
    }
   ],
   "source": [
    "df_upsampled['class'].value_counts()"
   ]
  },
  {
   "cell_type": "markdown",
   "metadata": {
    "id": "U0fKaPULOPmy"
   },
   "source": [
    "Sprawdźmy, czy nasz model na takim zbiorze zwróci lepsze rezultaty"
   ]
  },
  {
   "cell_type": "code",
   "execution_count": 50,
   "metadata": {},
   "outputs": [
    {
     "name": "stdout",
     "output_type": "stream",
     "text": [
      "              precision    recall  f1-score   support\n",
      "\n",
      "           0       0.95      0.93      0.94       638\n",
      "           1       0.93      0.95      0.94       638\n",
      "\n",
      "    accuracy                           0.94      1276\n",
      "   macro avg       0.94      0.94      0.94      1276\n",
      "weighted avg       0.94      0.94      0.94      1276\n",
      "\n"
     ]
    }
   ],
   "source": [
    "X = df_upsampled[[f\"feat_{i}\" for i in range(20)]]\n",
    "y = df_upsampled['class']\n",
    "\n",
    "true, predicted = [], []\n",
    "\n",
    "for train_index, test_index in StratifiedKFold(5).split(X, y):\n",
    "    X_train, X_test = X.iloc[train_index], X.iloc[test_index]\n",
    "    y_train, y_test = y.iloc[train_index], y.iloc[test_index]\n",
    "    model_svm = SVC()\n",
    "    model_svm.fit(X_train, y_train)\n",
    "    true.extend(y_test)\n",
    "    predicted.extend(model_svm.predict(X_test))\n",
    "\n",
    "print(classification_report(true, predicted))"
   ]
  },
  {
   "cell_type": "code",
   "execution_count": 51,
   "metadata": {},
   "outputs": [
    {
     "name": "stdout",
     "output_type": "stream",
     "text": [
      "              precision    recall  f1-score   support\n",
      "\n",
      "           0       0.97      0.91      0.94       160\n",
      "           1       0.71      0.88      0.79        40\n",
      "\n",
      "    accuracy                           0.91       200\n",
      "   macro avg       0.84      0.89      0.86       200\n",
      "weighted avg       0.92      0.91      0.91       200\n",
      "\n"
     ]
    }
   ],
   "source": [
    "model_svm = SVC()\n",
    "model_svm.fit(X, y)\n",
    "y_pred = model_svm.predict(X_final)\n",
    "print(classification_report(y_final, y_pred))"
   ]
  },
  {
   "cell_type": "code",
   "execution_count": 52,
   "metadata": {},
   "outputs": [
    {
     "data": {
      "text/plain": [
       "<Axes: >"
      ]
     },
     "execution_count": 52,
     "metadata": {},
     "output_type": "execute_result"
    },
    {
     "data": {
      "image/png": "[encoded data removed]",
      "text/plain": [
       "<Figure size 640x480 with 2 Axes>"
      ]
     },
     "metadata": {},
     "output_type": "display_data"
    }
   ],
   "source": [
    "cm = confusion_matrix(y_final, y_pred)\n",
    "sns.heatmap(cm, annot=True, fmt='d')"
   ]
  },
  {
   "cell_type": "markdown",
   "metadata": {
    "id": "o4tpypOzOfj6"
   },
   "source": [
    "#### Undersampling"
   ]
  },
  {
   "cell_type": "code",
   "execution_count": 53,
   "metadata": {},
   "outputs": [],
   "source": [
    "df = pd.DataFrame(X_rest, columns=[f\"feat_{i}\" for i in range(20)])\n",
    "df['class'] = y_rest"
   ]
  },
  {
   "cell_type": "code",
   "execution_count": 54,
   "metadata": {},
   "outputs": [
    {
     "data": {
      "text/plain": [
       "0    638\n",
       "1    162\n",
       "Name: class, dtype: int64"
      ]
     },
     "execution_count": 54,
     "metadata": {},
     "output_type": "execute_result"
    }
   ],
   "source": [
    "df['class'].value_counts()"
   ]
  },
  {
   "cell_type": "code",
   "execution_count": 55,
   "metadata": {},
   "outputs": [
    {
     "data": {
      "text/plain": [
       "1    162\n",
       "0    162\n",
       "Name: class, dtype: int64"
      ]
     },
     "execution_count": 55,
     "metadata": {},
     "output_type": "execute_result"
    }
   ],
   "source": [
    "df_majority = df[df['class'] == 0]\n",
    "df_minority = df[df['class'] == 1]\n",
    "\n",
    "# Downsample majority class\n",
    "df_majority_downsampled = resample(df_majority, \n",
    "                                   replace=False,    # sample with replacement\n",
    "                                   n_samples=162,    # to match majority class\n",
    "                                   random_state=42)  # reproducible results\n",
    " \n",
    "# Combine majority class with upsampled minority class\n",
    "df_downsampled = pd.concat([df_minority, df_majority_downsampled])\n",
    " \n",
    "# Display new class counts\n",
    "df_downsampled['class'].value_counts()"
   ]
  },
  {
   "cell_type": "markdown",
   "metadata": {
    "id": "bUGDc-dJO53x"
   },
   "source": [
    "Sprawdźmy, czy nasz model na takim zbiorze zwróci lepsze rezultaty"
   ]
  },
  {
   "cell_type": "code",
   "execution_count": 56,
   "metadata": {},
   "outputs": [
    {
     "name": "stdout",
     "output_type": "stream",
     "text": [
      "              precision    recall  f1-score   support\n",
      "\n",
      "           0       0.84      0.91      0.87       162\n",
      "           1       0.90      0.82      0.86       162\n",
      "\n",
      "    accuracy                           0.87       324\n",
      "   macro avg       0.87      0.87      0.87       324\n",
      "weighted avg       0.87      0.87      0.87       324\n",
      "\n"
     ]
    }
   ],
   "source": [
    "X = df_downsampled[[f\"feat_{i}\" for i in range(20)]]\n",
    "y = df_downsampled['class']\n",
    "\n",
    "true, predicted = [], []\n",
    "\n",
    "for train_index, test_index in StratifiedKFold(5).split(X, y):\n",
    "    X_train, X_test = X.iloc[train_index], X.iloc[test_index]\n",
    "    y_train, y_test = y.iloc[train_index], y.iloc[test_index]\n",
    "    model_svm = SVC()\n",
    "    model_svm.fit(X_train, y_train)\n",
    "    true.extend(y_test)\n",
    "    predicted.extend(model_svm.predict(X_test))\n",
    "\n",
    "print(classification_report(true, predicted))"
   ]
  },
  {
   "cell_type": "code",
   "execution_count": 57,
   "metadata": {},
   "outputs": [
    {
     "name": "stdout",
     "output_type": "stream",
     "text": [
      "              precision    recall  f1-score   support\n",
      "\n",
      "           0       0.98      0.88      0.93       160\n",
      "           1       0.66      0.93      0.77        40\n",
      "\n",
      "    accuracy                           0.89       200\n",
      "   macro avg       0.82      0.90      0.85       200\n",
      "weighted avg       0.92      0.89      0.90       200\n",
      "\n"
     ]
    }
   ],
   "source": [
    "model_svm = SVC()\n",
    "model_svm.fit(X, y)\n",
    "y_pred = model_svm.predict(X_final)\n",
    "print(classification_report(y_final, y_pred))"
   ]
  },
  {
   "cell_type": "code",
   "execution_count": 58,
   "metadata": {},
   "outputs": [
    {
     "data": {
      "text/plain": [
       "<Axes: >"
      ]
     },
     "execution_count": 58,
     "metadata": {},
     "output_type": "execute_result"
    },
    {
     "data": {
      "image/png": "[encoded data removed]",
      "text/plain": [
       "<Figure size 640x480 with 2 Axes>"
      ]
     },
     "metadata": {},
     "output_type": "display_data"
    }
   ],
   "source": [
    "cm = confusion_matrix(y_final, y_pred)\n",
    "sns.heatmap(cm, annot=True, fmt='d')"
   ]
  }
 ],
 "metadata": {
  "colab": {
   "name": "Dodatkowe_materialy.ipynb",
   "provenance": []
  },
  "kernelspec": {
   "display_name": "Python 3 (ipykernel)",
   "language": "python",
   "name": "python3"
  },
  "language_info": {
   "codemirror_mode": {
    "name": "ipython",
    "version": 3
   },
   "file_extension": ".py",
   "mimetype": "text/x-python",
   "name": "python",
   "nbconvert_exporter": "python",
   "pygments_lexer": "ipython3",
   "version": "3.11.2"
  }
 },
 "nbformat": 4,
 "nbformat_minor": 1
}
