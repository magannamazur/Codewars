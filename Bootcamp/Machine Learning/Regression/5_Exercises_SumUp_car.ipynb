{
 "cells": [
  {
   "cell_type": "code",
   "execution_count": 533,
   "id": "29a2bc30",
   "metadata": {},
   "outputs": [],
   "source": [
    "import pandas as pd\n",
    "import numpy as np\n",
    "import matplotlib.pyplot as plt\n",
    "\n",
    "\n",
    "from sklearn.metrics import mean_squared_error as mse\n",
    "from sklearn.metrics import mean_absolute_error as mae\n",
    "from sklearn.metrics import r2_score\n",
    "\n",
    "from sklearn.tree import DecisionTreeRegressor\n",
    "from sklearn.linear_model import LinearRegression\n",
    "\n",
    "from sklearn.model_selection import GridSearchCV"
   ]
  },
  {
   "cell_type": "code",
   "execution_count": 534,
   "id": "362c1465",
   "metadata": {},
   "outputs": [],
   "source": [
    "df=pd.read_csv('car.csv')\n",
    "df.head()"
   ]
  },
  {
   "cell_type": "code",
   "execution_count": 535,
   "id": "60a85144",
   "metadata": {},
   "outputs": [
    {
     "data": {
      "text/html": [
       "<div>\n",
       "<style scoped>\n",
       "    .dataframe tbody tr th:only-of-type {\n",
       "        vertical-align: middle;\n",
       "    }\n",
       "\n",
       "    .dataframe tbody tr th {\n",
       "        vertical-align: top;\n",
       "    }\n",
       "\n",
       "    .dataframe thead th {\n",
       "        text-align: right;\n",
       "    }\n",
       "</style>\n",
       "<table border=\"1\" class=\"dataframe\">\n",
       "  <thead>\n",
       "    <tr style=\"text-align: right;\">\n",
       "      <th></th>\n",
       "      <th>year</th>\n",
       "      <th>selling_price</th>\n",
       "      <th>km_driven</th>\n",
       "      <th>fuel</th>\n",
       "      <th>seller_type</th>\n",
       "      <th>transmission</th>\n",
       "      <th>owner</th>\n",
       "    </tr>\n",
       "  </thead>\n",
       "  <tbody>\n",
       "    <tr>\n",
       "      <th>0</th>\n",
       "      <td>2007</td>\n",
       "      <td>60000</td>\n",
       "      <td>70000</td>\n",
       "      <td>Petrol</td>\n",
       "      <td>Individual</td>\n",
       "      <td>Manual</td>\n",
       "      <td>First Owner</td>\n",
       "    </tr>\n",
       "    <tr>\n",
       "      <th>1</th>\n",
       "      <td>2007</td>\n",
       "      <td>135000</td>\n",
       "      <td>50000</td>\n",
       "      <td>Petrol</td>\n",
       "      <td>Individual</td>\n",
       "      <td>Manual</td>\n",
       "      <td>First Owner</td>\n",
       "    </tr>\n",
       "    <tr>\n",
       "      <th>2</th>\n",
       "      <td>2012</td>\n",
       "      <td>600000</td>\n",
       "      <td>100000</td>\n",
       "      <td>Diesel</td>\n",
       "      <td>Individual</td>\n",
       "      <td>Manual</td>\n",
       "      <td>First Owner</td>\n",
       "    </tr>\n",
       "    <tr>\n",
       "      <th>3</th>\n",
       "      <td>2017</td>\n",
       "      <td>250000</td>\n",
       "      <td>46000</td>\n",
       "      <td>Petrol</td>\n",
       "      <td>Individual</td>\n",
       "      <td>Manual</td>\n",
       "      <td>First Owner</td>\n",
       "    </tr>\n",
       "    <tr>\n",
       "      <th>4</th>\n",
       "      <td>2014</td>\n",
       "      <td>450000</td>\n",
       "      <td>141000</td>\n",
       "      <td>Diesel</td>\n",
       "      <td>Individual</td>\n",
       "      <td>Manual</td>\n",
       "      <td>Second Owner</td>\n",
       "    </tr>\n",
       "  </tbody>\n",
       "</table>\n",
       "</div>"
      ],
      "text/plain": [
       "   year  selling_price  km_driven    fuel seller_type transmission  \\\n",
       "0  2007          60000      70000  Petrol  Individual       Manual   \n",
       "1  2007         135000      50000  Petrol  Individual       Manual   \n",
       "2  2012         600000     100000  Diesel  Individual       Manual   \n",
       "3  2017         250000      46000  Petrol  Individual       Manual   \n",
       "4  2014         450000     141000  Diesel  Individual       Manual   \n",
       "\n",
       "          owner  \n",
       "0   First Owner  \n",
       "1   First Owner  \n",
       "2   First Owner  \n",
       "3   First Owner  \n",
       "4  Second Owner  "
      ]
     },
     "execution_count": 535,
     "metadata": {},
     "output_type": "execute_result"
    }
   ],
   "source": [
    "df=df.drop('name',axis=1) # columns = 'name'\n",
    "df.head()"
   ]
  },
  {
   "cell_type": "markdown",
   "id": "6bc0577e",
   "metadata": {},
   "source": [
    "### One-hot encoding"
   ]
  },
  {
   "cell_type": "code",
   "execution_count": 536,
   "id": "34393494",
   "metadata": {},
   "outputs": [
    {
     "data": {
      "text/html": [
       "<div>\n",
       "<style scoped>\n",
       "    .dataframe tbody tr th:only-of-type {\n",
       "        vertical-align: middle;\n",
       "    }\n",
       "\n",
       "    .dataframe tbody tr th {\n",
       "        vertical-align: top;\n",
       "    }\n",
       "\n",
       "    .dataframe thead th {\n",
       "        text-align: right;\n",
       "    }\n",
       "</style>\n",
       "<table border=\"1\" class=\"dataframe\">\n",
       "  <thead>\n",
       "    <tr style=\"text-align: right;\">\n",
       "      <th></th>\n",
       "      <th>year</th>\n",
       "      <th>selling_price</th>\n",
       "      <th>km_driven</th>\n",
       "      <th>fuel_Diesel</th>\n",
       "      <th>fuel_Electric</th>\n",
       "      <th>fuel_LPG</th>\n",
       "      <th>fuel_Petrol</th>\n",
       "      <th>seller_type_Individual</th>\n",
       "      <th>seller_type_Trustmark Dealer</th>\n",
       "      <th>transmission_Manual</th>\n",
       "      <th>owner_Fourth &amp; Above Owner</th>\n",
       "      <th>owner_Second Owner</th>\n",
       "      <th>owner_Test Drive Car</th>\n",
       "      <th>owner_Third Owner</th>\n",
       "    </tr>\n",
       "  </thead>\n",
       "  <tbody>\n",
       "    <tr>\n",
       "      <th>0</th>\n",
       "      <td>2007</td>\n",
       "      <td>60000</td>\n",
       "      <td>70000</td>\n",
       "      <td>0</td>\n",
       "      <td>0</td>\n",
       "      <td>0</td>\n",
       "      <td>1</td>\n",
       "      <td>1</td>\n",
       "      <td>0</td>\n",
       "      <td>1</td>\n",
       "      <td>0</td>\n",
       "      <td>0</td>\n",
       "      <td>0</td>\n",
       "      <td>0</td>\n",
       "    </tr>\n",
       "    <tr>\n",
       "      <th>1</th>\n",
       "      <td>2007</td>\n",
       "      <td>135000</td>\n",
       "      <td>50000</td>\n",
       "      <td>0</td>\n",
       "      <td>0</td>\n",
       "      <td>0</td>\n",
       "      <td>1</td>\n",
       "      <td>1</td>\n",
       "      <td>0</td>\n",
       "      <td>1</td>\n",
       "      <td>0</td>\n",
       "      <td>0</td>\n",
       "      <td>0</td>\n",
       "      <td>0</td>\n",
       "    </tr>\n",
       "    <tr>\n",
       "      <th>2</th>\n",
       "      <td>2012</td>\n",
       "      <td>600000</td>\n",
       "      <td>100000</td>\n",
       "      <td>1</td>\n",
       "      <td>0</td>\n",
       "      <td>0</td>\n",
       "      <td>0</td>\n",
       "      <td>1</td>\n",
       "      <td>0</td>\n",
       "      <td>1</td>\n",
       "      <td>0</td>\n",
       "      <td>0</td>\n",
       "      <td>0</td>\n",
       "      <td>0</td>\n",
       "    </tr>\n",
       "    <tr>\n",
       "      <th>3</th>\n",
       "      <td>2017</td>\n",
       "      <td>250000</td>\n",
       "      <td>46000</td>\n",
       "      <td>0</td>\n",
       "      <td>0</td>\n",
       "      <td>0</td>\n",
       "      <td>1</td>\n",
       "      <td>1</td>\n",
       "      <td>0</td>\n",
       "      <td>1</td>\n",
       "      <td>0</td>\n",
       "      <td>0</td>\n",
       "      <td>0</td>\n",
       "      <td>0</td>\n",
       "    </tr>\n",
       "    <tr>\n",
       "      <th>4</th>\n",
       "      <td>2014</td>\n",
       "      <td>450000</td>\n",
       "      <td>141000</td>\n",
       "      <td>1</td>\n",
       "      <td>0</td>\n",
       "      <td>0</td>\n",
       "      <td>0</td>\n",
       "      <td>1</td>\n",
       "      <td>0</td>\n",
       "      <td>1</td>\n",
       "      <td>0</td>\n",
       "      <td>1</td>\n",
       "      <td>0</td>\n",
       "      <td>0</td>\n",
       "    </tr>\n",
       "  </tbody>\n",
       "</table>\n",
       "</div>"
      ],
      "text/plain": [
       "   year  selling_price  km_driven  fuel_Diesel  fuel_Electric  fuel_LPG  \\\n",
       "0  2007          60000      70000            0              0         0   \n",
       "1  2007         135000      50000            0              0         0   \n",
       "2  2012         600000     100000            1              0         0   \n",
       "3  2017         250000      46000            0              0         0   \n",
       "4  2014         450000     141000            1              0         0   \n",
       "\n",
       "   fuel_Petrol  seller_type_Individual  seller_type_Trustmark Dealer  \\\n",
       "0            1                       1                             0   \n",
       "1            1                       1                             0   \n",
       "2            0                       1                             0   \n",
       "3            1                       1                             0   \n",
       "4            0                       1                             0   \n",
       "\n",
       "   transmission_Manual  owner_Fourth & Above Owner  owner_Second Owner  \\\n",
       "0                    1                           0                   0   \n",
       "1                    1                           0                   0   \n",
       "2                    1                           0                   0   \n",
       "3                    1                           0                   0   \n",
       "4                    1                           0                   1   \n",
       "\n",
       "   owner_Test Drive Car  owner_Third Owner  \n",
       "0                     0                  0  \n",
       "1                     0                  0  \n",
       "2                     0                  0  \n",
       "3                     0                  0  \n",
       "4                     0                  0  "
      ]
     },
     "execution_count": 536,
     "metadata": {},
     "output_type": "execute_result"
    }
   ],
   "source": [
    "#dummy variables\n",
    "df_cat=df[['fuel','seller_type','transmission','owner']]\n",
    "df_cat=pd.get_dummies(data=df_cat,drop_first=True)\n",
    "df=df[['year','selling_price','km_driven']].join(df_cat)\n",
    "df.head()"
   ]
  },
  {
   "cell_type": "code",
   "execution_count": 537,
   "id": "b60624ec",
   "metadata": {},
   "outputs": [],
   "source": [
    "#podzial na zmienną zależną i zmienne niezależne\n",
    "y=df['selling_price']\n",
    "X=df.drop('selling_price',axis=1)"
   ]
  },
  {
   "cell_type": "code",
   "execution_count": 538,
   "id": "a81782c3",
   "metadata": {},
   "outputs": [],
   "source": [
    "#zbuduj 2 modele\n",
    "#drzewo decyzyjne\n",
    "#regresja liniowa\n",
    "\n",
    "#regresja\n",
    "reg_model=LinearRegression()\n",
    "reg_model.fit(X,y)\n",
    "reg_pred=reg_model.predict(X)\n",
    "\n",
    "#drzewo decyzyjne\n",
    "tree_model=DecisionTreeRegressor(random_state=111,min_samples_split=400)\n",
    "tree_model.fit(X,y)\n",
    "tree_pred=tree_model.predict(X)"
   ]
  },
  {
   "cell_type": "code",
   "execution_count": 539,
   "id": "97b89a27",
   "metadata": {},
   "outputs": [],
   "source": [
    "#sprawdz skutecznosc modeli na podstawie nastepujacych metryk"
   ]
  },
  {
   "cell_type": "code",
   "execution_count": 540,
   "id": "2c786fc4",
   "metadata": {},
   "outputs": [
    {
     "name": "stdout",
     "output_type": "stream",
     "text": [
      "Linear Regression R2 score: 0.46\n",
      "Decision Tree R2 score: 0.5\n"
     ]
    }
   ],
   "source": [
    "#R2\n",
    "print('Linear Regression R2 score: '+str(round(r2_score(y,reg_pred),2)))\n",
    "print('Decision Tree R2 score: '+str(round(r2_score(y,tree_pred),2)))"
   ]
  },
  {
   "cell_type": "code",
   "execution_count": 541,
   "id": "9de472db",
   "metadata": {},
   "outputs": [
    {
     "name": "stdout",
     "output_type": "stream",
     "text": [
      "Linear Regression MAE score: 229254.77\n",
      "Decision Tree MAE score: 198304.84\n"
     ]
    }
   ],
   "source": [
    "#MAE\n",
    "print('Linear Regression MAE score: '+str(round(mae(y,reg_pred),2)))\n",
    "print('Decision Tree MAE score: '+str(round(mae(y,tree_pred),2)))"
   ]
  },
  {
   "cell_type": "code",
   "execution_count": 542,
   "id": "0339c092",
   "metadata": {},
   "outputs": [
    {
     "name": "stdout",
     "output_type": "stream",
     "text": [
      "Linear Regression RMSE score: 425388.24\n",
      "Decision Tree RMSE score: 410557.26\n"
     ]
    }
   ],
   "source": [
    "#RMSE\n",
    "print('Linear Regression RMSE score: '+str(round(mse(y,reg_pred,squared=False),2)))\n",
    "print('Decision Tree RMSE score: '+str(round(mse(y,tree_pred,squared=False),2)))"
   ]
  },
  {
   "cell_type": "markdown",
   "id": "9ebaca14",
   "metadata": {},
   "source": [
    "### Skuteczność modeli dla samochodów napedzanych benzyną"
   ]
  },
  {
   "cell_type": "code",
   "execution_count": 543,
   "id": "c0cb5eb8",
   "metadata": {},
   "outputs": [
    {
     "name": "stdout",
     "output_type": "stream",
     "text": [
      "Linear Regression R2 score: 0.11\n",
      "Decision Tree R2 score: 0.3\n",
      "\n",
      "Linear Regression MAE score: 188267.63\n",
      "Decision Tree MAE score: 134524.7\n",
      "\n",
      "Linear Regression RMSE score: 343680.95\n",
      "Decision Tree RMSE score: 303619.18\n"
     ]
    }
   ],
   "source": [
    "#sprawdz skuteczność modeli dla samochodów napedzanych benzyną\n",
    "\n",
    "#jeśli fuel ==1 to pokaze selling_price\n",
    "y_petrol=df[df['fuel_Petrol']==1]['selling_price']\n",
    "\n",
    "# pokaz df, gdzie fuel=1 i drop selling_price\n",
    "X_petrol=df[df['fuel_Petrol']==1].drop('selling_price',axis=1)\n",
    "\n",
    "reg_pred_petrol = reg_model.predict(X_petrol)\n",
    "tree_pred_petrol = tree_model.predict(X_petrol)\n",
    "\n",
    "print('Linear Regression R2 score: '+ str(round(r2_score(y_petrol, reg_pred_petrol),2)))\n",
    "print('Decision Tree R2 score: '+ str(round(r2_score(y_petrol, tree_pred_petrol),2)))\n",
    "print('')\n",
    "print('Linear Regression MAE score: '+ str(round(mae(y_petrol, reg_pred_petrol),2)))\n",
    "print('Decision Tree MAE score: '+ str(round(mae(y_petrol, tree_pred_petrol),2)))\n",
    "print('')\n",
    "print('Linear Regression RMSE score: '+ str(round(mse(y_petrol, reg_pred_petrol, squared=False),2)))\n",
    "print('Decision Tree RMSE score: '+ str(round(mse(y_petrol, tree_pred_petrol, squared=False),2)))"
   ]
  },
  {
   "cell_type": "markdown",
   "id": "13fa0b85",
   "metadata": {},
   "source": [
    "### Zbiór treningowy i testowy"
   ]
  },
  {
   "cell_type": "code",
   "execution_count": 544,
   "id": "c1d787dc",
   "metadata": {},
   "outputs": [],
   "source": [
    "#podziel zbiór na treningowy i testowy\n",
    "from sklearn.model_selection import train_test_split\n",
    "\n",
    "# Podział na dane treningowe i testowe.\n",
    "X_train, X_test, y_train, y_test = train_test_split(X,y,test_size=0.2,random_state=111)"
   ]
  },
  {
   "cell_type": "code",
   "execution_count": 545,
   "id": "31415ce0",
   "metadata": {},
   "outputs": [
    {
     "data": {
      "text/html": [
       "<style>#sk-container-id-21 {color: black;background-color: white;}#sk-container-id-21 pre{padding: 0;}#sk-container-id-21 div.sk-toggleable {background-color: white;}#sk-container-id-21 label.sk-toggleable__label {cursor: pointer;display: block;width: 100%;margin-bottom: 0;padding: 0.3em;box-sizing: border-box;text-align: center;}#sk-container-id-21 label.sk-toggleable__label-arrow:before {content: \"▸\";float: left;margin-right: 0.25em;color: #696969;}#sk-container-id-21 label.sk-toggleable__label-arrow:hover:before {color: black;}#sk-container-id-21 div.sk-estimator:hover label.sk-toggleable__label-arrow:before {color: black;}#sk-container-id-21 div.sk-toggleable__content {max-height: 0;max-width: 0;overflow: hidden;text-align: left;background-color: #f0f8ff;}#sk-container-id-21 div.sk-toggleable__content pre {margin: 0.2em;color: black;border-radius: 0.25em;background-color: #f0f8ff;}#sk-container-id-21 input.sk-toggleable__control:checked~div.sk-toggleable__content {max-height: 200px;max-width: 100%;overflow: auto;}#sk-container-id-21 input.sk-toggleable__control:checked~label.sk-toggleable__label-arrow:before {content: \"▾\";}#sk-container-id-21 div.sk-estimator input.sk-toggleable__control:checked~label.sk-toggleable__label {background-color: #d4ebff;}#sk-container-id-21 div.sk-label input.sk-toggleable__control:checked~label.sk-toggleable__label {background-color: #d4ebff;}#sk-container-id-21 input.sk-hidden--visually {border: 0;clip: rect(1px 1px 1px 1px);clip: rect(1px, 1px, 1px, 1px);height: 1px;margin: -1px;overflow: hidden;padding: 0;position: absolute;width: 1px;}#sk-container-id-21 div.sk-estimator {font-family: monospace;background-color: #f0f8ff;border: 1px dotted black;border-radius: 0.25em;box-sizing: border-box;margin-bottom: 0.5em;}#sk-container-id-21 div.sk-estimator:hover {background-color: #d4ebff;}#sk-container-id-21 div.sk-parallel-item::after {content: \"\";width: 100%;border-bottom: 1px solid gray;flex-grow: 1;}#sk-container-id-21 div.sk-label:hover label.sk-toggleable__label {background-color: #d4ebff;}#sk-container-id-21 div.sk-serial::before {content: \"\";position: absolute;border-left: 1px solid gray;box-sizing: border-box;top: 0;bottom: 0;left: 50%;z-index: 0;}#sk-container-id-21 div.sk-serial {display: flex;flex-direction: column;align-items: center;background-color: white;padding-right: 0.2em;padding-left: 0.2em;position: relative;}#sk-container-id-21 div.sk-item {position: relative;z-index: 1;}#sk-container-id-21 div.sk-parallel {display: flex;align-items: stretch;justify-content: center;background-color: white;position: relative;}#sk-container-id-21 div.sk-item::before, #sk-container-id-21 div.sk-parallel-item::before {content: \"\";position: absolute;border-left: 1px solid gray;box-sizing: border-box;top: 0;bottom: 0;left: 50%;z-index: -1;}#sk-container-id-21 div.sk-parallel-item {display: flex;flex-direction: column;z-index: 1;position: relative;background-color: white;}#sk-container-id-21 div.sk-parallel-item:first-child::after {align-self: flex-end;width: 50%;}#sk-container-id-21 div.sk-parallel-item:last-child::after {align-self: flex-start;width: 50%;}#sk-container-id-21 div.sk-parallel-item:only-child::after {width: 0;}#sk-container-id-21 div.sk-dashed-wrapped {border: 1px dashed gray;margin: 0 0.4em 0.5em 0.4em;box-sizing: border-box;padding-bottom: 0.4em;background-color: white;}#sk-container-id-21 div.sk-label label {font-family: monospace;font-weight: bold;display: inline-block;line-height: 1.2em;}#sk-container-id-21 div.sk-label-container {text-align: center;}#sk-container-id-21 div.sk-container {/* jupyter's `normalize.less` sets `[hidden] { display: none; }` but bootstrap.min.css set `[hidden] { display: none !important; }` so we also need the `!important` here to be able to override the default hidden behavior on the sphinx rendered scikit-learn.org. See: https://github.com/scikit-learn/scikit-learn/issues/21755 */display: inline-block !important;position: relative;}#sk-container-id-21 div.sk-text-repr-fallback {display: none;}</style><div id=\"sk-container-id-21\" class=\"sk-top-container\"><div class=\"sk-text-repr-fallback\"><pre>GridSearchCV(cv=10, estimator=DecisionTreeRegressor(),\n",
       "             param_grid={&#x27;max_depth&#x27;: range(1, 20),\n",
       "                         &#x27;min_samples_split&#x27;: range(50, 100, 10)},\n",
       "             scoring=&#x27;neg_mean_absolute_error&#x27;)</pre><b>In a Jupyter environment, please rerun this cell to show the HTML representation or trust the notebook. <br />On GitHub, the HTML representation is unable to render, please try loading this page with nbviewer.org.</b></div><div class=\"sk-container\" hidden><div class=\"sk-item sk-dashed-wrapped\"><div class=\"sk-label-container\"><div class=\"sk-label sk-toggleable\"><input class=\"sk-toggleable__control sk-hidden--visually\" id=\"sk-estimator-id-35\" type=\"checkbox\" ><label for=\"sk-estimator-id-35\" class=\"sk-toggleable__label sk-toggleable__label-arrow\">GridSearchCV</label><div class=\"sk-toggleable__content\"><pre>GridSearchCV(cv=10, estimator=DecisionTreeRegressor(),\n",
       "             param_grid={&#x27;max_depth&#x27;: range(1, 20),\n",
       "                         &#x27;min_samples_split&#x27;: range(50, 100, 10)},\n",
       "             scoring=&#x27;neg_mean_absolute_error&#x27;)</pre></div></div></div><div class=\"sk-parallel\"><div class=\"sk-parallel-item\"><div class=\"sk-item\"><div class=\"sk-label-container\"><div class=\"sk-label sk-toggleable\"><input class=\"sk-toggleable__control sk-hidden--visually\" id=\"sk-estimator-id-36\" type=\"checkbox\" ><label for=\"sk-estimator-id-36\" class=\"sk-toggleable__label sk-toggleable__label-arrow\">estimator: DecisionTreeRegressor</label><div class=\"sk-toggleable__content\"><pre>DecisionTreeRegressor()</pre></div></div></div><div class=\"sk-serial\"><div class=\"sk-item\"><div class=\"sk-estimator sk-toggleable\"><input class=\"sk-toggleable__control sk-hidden--visually\" id=\"sk-estimator-id-37\" type=\"checkbox\" ><label for=\"sk-estimator-id-37\" class=\"sk-toggleable__label sk-toggleable__label-arrow\">DecisionTreeRegressor</label><div class=\"sk-toggleable__content\"><pre>DecisionTreeRegressor()</pre></div></div></div></div></div></div></div></div></div></div>"
      ],
      "text/plain": [
       "GridSearchCV(cv=10, estimator=DecisionTreeRegressor(),\n",
       "             param_grid={'max_depth': range(1, 20),\n",
       "                         'min_samples_split': range(50, 100, 10)},\n",
       "             scoring='neg_mean_absolute_error')"
      ]
     },
     "execution_count": 545,
     "metadata": {},
     "output_type": "execute_result"
    }
   ],
   "source": [
    "#na podstawie zbioru treningowego wybierz hiperparametry dla modelu drzewa decyzyjnego\n",
    "model=DecisionTreeRegressor()\n",
    "gs=GridSearchCV(model,\n",
    "                param_grid={'max_depth':range(1,20),\n",
    "                            'min_samples_split':range(50,100,10)},\n",
    "                cv=10,\n",
    "                scoring='neg_mean_absolute_error')\n",
    "gs.fit(X_train,y_train)"
   ]
  },
  {
   "cell_type": "code",
   "execution_count": 546,
   "id": "0e1a467f",
   "metadata": {},
   "outputs": [
    {
     "name": "stdout",
     "output_type": "stream",
     "text": [
      "{'max_depth': 7, 'min_samples_split': 50}\n"
     ]
    }
   ],
   "source": [
    "print(gs.best_params_)"
   ]
  },
  {
   "cell_type": "code",
   "execution_count": 547,
   "id": "69a67af0",
   "metadata": {},
   "outputs": [
    {
     "data": {
      "text/html": [
       "<style>#sk-container-id-22 {color: black;background-color: white;}#sk-container-id-22 pre{padding: 0;}#sk-container-id-22 div.sk-toggleable {background-color: white;}#sk-container-id-22 label.sk-toggleable__label {cursor: pointer;display: block;width: 100%;margin-bottom: 0;padding: 0.3em;box-sizing: border-box;text-align: center;}#sk-container-id-22 label.sk-toggleable__label-arrow:before {content: \"▸\";float: left;margin-right: 0.25em;color: #696969;}#sk-container-id-22 label.sk-toggleable__label-arrow:hover:before {color: black;}#sk-container-id-22 div.sk-estimator:hover label.sk-toggleable__label-arrow:before {color: black;}#sk-container-id-22 div.sk-toggleable__content {max-height: 0;max-width: 0;overflow: hidden;text-align: left;background-color: #f0f8ff;}#sk-container-id-22 div.sk-toggleable__content pre {margin: 0.2em;color: black;border-radius: 0.25em;background-color: #f0f8ff;}#sk-container-id-22 input.sk-toggleable__control:checked~div.sk-toggleable__content {max-height: 200px;max-width: 100%;overflow: auto;}#sk-container-id-22 input.sk-toggleable__control:checked~label.sk-toggleable__label-arrow:before {content: \"▾\";}#sk-container-id-22 div.sk-estimator input.sk-toggleable__control:checked~label.sk-toggleable__label {background-color: #d4ebff;}#sk-container-id-22 div.sk-label input.sk-toggleable__control:checked~label.sk-toggleable__label {background-color: #d4ebff;}#sk-container-id-22 input.sk-hidden--visually {border: 0;clip: rect(1px 1px 1px 1px);clip: rect(1px, 1px, 1px, 1px);height: 1px;margin: -1px;overflow: hidden;padding: 0;position: absolute;width: 1px;}#sk-container-id-22 div.sk-estimator {font-family: monospace;background-color: #f0f8ff;border: 1px dotted black;border-radius: 0.25em;box-sizing: border-box;margin-bottom: 0.5em;}#sk-container-id-22 div.sk-estimator:hover {background-color: #d4ebff;}#sk-container-id-22 div.sk-parallel-item::after {content: \"\";width: 100%;border-bottom: 1px solid gray;flex-grow: 1;}#sk-container-id-22 div.sk-label:hover label.sk-toggleable__label {background-color: #d4ebff;}#sk-container-id-22 div.sk-serial::before {content: \"\";position: absolute;border-left: 1px solid gray;box-sizing: border-box;top: 0;bottom: 0;left: 50%;z-index: 0;}#sk-container-id-22 div.sk-serial {display: flex;flex-direction: column;align-items: center;background-color: white;padding-right: 0.2em;padding-left: 0.2em;position: relative;}#sk-container-id-22 div.sk-item {position: relative;z-index: 1;}#sk-container-id-22 div.sk-parallel {display: flex;align-items: stretch;justify-content: center;background-color: white;position: relative;}#sk-container-id-22 div.sk-item::before, #sk-container-id-22 div.sk-parallel-item::before {content: \"\";position: absolute;border-left: 1px solid gray;box-sizing: border-box;top: 0;bottom: 0;left: 50%;z-index: -1;}#sk-container-id-22 div.sk-parallel-item {display: flex;flex-direction: column;z-index: 1;position: relative;background-color: white;}#sk-container-id-22 div.sk-parallel-item:first-child::after {align-self: flex-end;width: 50%;}#sk-container-id-22 div.sk-parallel-item:last-child::after {align-self: flex-start;width: 50%;}#sk-container-id-22 div.sk-parallel-item:only-child::after {width: 0;}#sk-container-id-22 div.sk-dashed-wrapped {border: 1px dashed gray;margin: 0 0.4em 0.5em 0.4em;box-sizing: border-box;padding-bottom: 0.4em;background-color: white;}#sk-container-id-22 div.sk-label label {font-family: monospace;font-weight: bold;display: inline-block;line-height: 1.2em;}#sk-container-id-22 div.sk-label-container {text-align: center;}#sk-container-id-22 div.sk-container {/* jupyter's `normalize.less` sets `[hidden] { display: none; }` but bootstrap.min.css set `[hidden] { display: none !important; }` so we also need the `!important` here to be able to override the default hidden behavior on the sphinx rendered scikit-learn.org. See: https://github.com/scikit-learn/scikit-learn/issues/21755 */display: inline-block !important;position: relative;}#sk-container-id-22 div.sk-text-repr-fallback {display: none;}</style><div id=\"sk-container-id-22\" class=\"sk-top-container\"><div class=\"sk-text-repr-fallback\"><pre>DecisionTreeRegressor(max_depth=7, min_samples_split=50, random_state=111)</pre><b>In a Jupyter environment, please rerun this cell to show the HTML representation or trust the notebook. <br />On GitHub, the HTML representation is unable to render, please try loading this page with nbviewer.org.</b></div><div class=\"sk-container\" hidden><div class=\"sk-item\"><div class=\"sk-estimator sk-toggleable\"><input class=\"sk-toggleable__control sk-hidden--visually\" id=\"sk-estimator-id-38\" type=\"checkbox\" checked><label for=\"sk-estimator-id-38\" class=\"sk-toggleable__label sk-toggleable__label-arrow\">DecisionTreeRegressor</label><div class=\"sk-toggleable__content\"><pre>DecisionTreeRegressor(max_depth=7, min_samples_split=50, random_state=111)</pre></div></div></div></div></div>"
      ],
      "text/plain": [
       "DecisionTreeRegressor(max_depth=7, min_samples_split=50, random_state=111)"
      ]
     },
     "execution_count": 547,
     "metadata": {},
     "output_type": "execute_result"
    }
   ],
   "source": [
    "#przetrenuj model z wybranymi hiperparametrami\n",
    "tree_model=DecisionTreeRegressor(random_state=111,min_samples_split=50,max_depth=7)\n",
    "tree_model.fit(X_train,y_train)"
   ]
  },
  {
   "cell_type": "code",
   "execution_count": 548,
   "id": "d285f43c",
   "metadata": {},
   "outputs": [
    {
     "data": {
      "text/plain": [
       "172579.00489160747"
      ]
     },
     "execution_count": 548,
     "metadata": {},
     "output_type": "execute_result"
    }
   ],
   "source": [
    "#sprawdz wyniki na zbiorze testowym\n",
    "tree_pred=tree_model.predict(X_test)\n",
    "mae(y_test,tree_pred)"
   ]
  },
  {
   "cell_type": "markdown",
   "id": "0cf963d4",
   "metadata": {},
   "source": [
    "# Zadanie 2: Mieszkania"
   ]
  },
  {
   "cell_type": "code",
   "execution_count": 549,
   "id": "93f5e412",
   "metadata": {
    "scrolled": true
   },
   "outputs": [
    {
     "data": {
      "text/html": [
       "<div>\n",
       "<style scoped>\n",
       "    .dataframe tbody tr th:only-of-type {\n",
       "        vertical-align: middle;\n",
       "    }\n",
       "\n",
       "    .dataframe tbody tr th {\n",
       "        vertical-align: top;\n",
       "    }\n",
       "\n",
       "    .dataframe thead th {\n",
       "        text-align: right;\n",
       "    }\n",
       "</style>\n",
       "<table border=\"1\" class=\"dataframe\">\n",
       "  <thead>\n",
       "    <tr style=\"text-align: right;\">\n",
       "      <th></th>\n",
       "      <th>Unnamed: 0</th>\n",
       "      <th>price</th>\n",
       "      <th>rent_price</th>\n",
       "      <th>area_m2</th>\n",
       "      <th>room_number</th>\n",
       "      <th>year</th>\n",
       "      <th>floor_number</th>\n",
       "      <th>features</th>\n",
       "    </tr>\n",
       "  </thead>\n",
       "  <tbody>\n",
       "    <tr>\n",
       "      <th>0</th>\n",
       "      <td>0</td>\n",
       "      <td>950000.0</td>\n",
       "      <td>400.0</td>\n",
       "      <td>64.0</td>\n",
       "      <td>2.0</td>\n",
       "      <td>2013.0</td>\n",
       "      <td>floor_2</td>\n",
       "      <td>['meble', 'balkon', 'garaż/miejsce parkingowe'...</td>\n",
       "    </tr>\n",
       "    <tr>\n",
       "      <th>1</th>\n",
       "      <td>1</td>\n",
       "      <td>439000.0</td>\n",
       "      <td>400.0</td>\n",
       "      <td>37.0</td>\n",
       "      <td>2.0</td>\n",
       "      <td>2022.0</td>\n",
       "      <td>floor_1</td>\n",
       "      <td>['telewizja kablowa', 'internet', 'telefon', '...</td>\n",
       "    </tr>\n",
       "    <tr>\n",
       "      <th>2</th>\n",
       "      <td>2</td>\n",
       "      <td>464500.0</td>\n",
       "      <td>NaN</td>\n",
       "      <td>50.0</td>\n",
       "      <td>2.0</td>\n",
       "      <td>2023.0</td>\n",
       "      <td>floor_2</td>\n",
       "      <td>['monitoring / ochrona', 'drzwi / okna antywła...</td>\n",
       "    </tr>\n",
       "    <tr>\n",
       "      <th>3</th>\n",
       "      <td>3</td>\n",
       "      <td>391900.0</td>\n",
       "      <td>NaN</td>\n",
       "      <td>46.5</td>\n",
       "      <td>3.0</td>\n",
       "      <td>2023.0</td>\n",
       "      <td>floor_3</td>\n",
       "      <td>['telewizja kablowa', 'internet', 'telefon', '...</td>\n",
       "    </tr>\n",
       "    <tr>\n",
       "      <th>4</th>\n",
       "      <td>4</td>\n",
       "      <td>650000.0</td>\n",
       "      <td>NaN</td>\n",
       "      <td>54.0</td>\n",
       "      <td>3.0</td>\n",
       "      <td>2021.0</td>\n",
       "      <td>floor_4</td>\n",
       "      <td>['monitoring / ochrona', 'meble', 'garaż/miejs...</td>\n",
       "    </tr>\n",
       "  </tbody>\n",
       "</table>\n",
       "</div>"
      ],
      "text/plain": [
       "   Unnamed: 0     price  rent_price  area_m2  room_number    year  \\\n",
       "0           0  950000.0       400.0     64.0          2.0  2013.0   \n",
       "1           1  439000.0       400.0     37.0          2.0  2022.0   \n",
       "2           2  464500.0         NaN     50.0          2.0  2023.0   \n",
       "3           3  391900.0         NaN     46.5          3.0  2023.0   \n",
       "4           4  650000.0         NaN     54.0          3.0  2021.0   \n",
       "\n",
       "  floor_number                                           features  \n",
       "0      floor_2  ['meble', 'balkon', 'garaż/miejsce parkingowe'...  \n",
       "1      floor_1  ['telewizja kablowa', 'internet', 'telefon', '...  \n",
       "2      floor_2  ['monitoring / ochrona', 'drzwi / okna antywła...  \n",
       "3      floor_3  ['telewizja kablowa', 'internet', 'telefon', '...  \n",
       "4      floor_4  ['monitoring / ochrona', 'meble', 'garaż/miejs...  "
      ]
     },
     "execution_count": 549,
     "metadata": {},
     "output_type": "execute_result"
    }
   ],
   "source": [
    "dane=pd.read_csv('dane_sda_mieszkania.csv')\n",
    "dane.head(5)"
   ]
  },
  {
   "cell_type": "code",
   "execution_count": 550,
   "id": "21ff8303",
   "metadata": {},
   "outputs": [
    {
     "data": {
      "text/plain": [
       "Unnamed: 0        int64\n",
       "price           float64\n",
       "rent_price      float64\n",
       "area_m2         float64\n",
       "room_number     float64\n",
       "year            float64\n",
       "floor_number     object\n",
       "features         object\n",
       "dtype: object"
      ]
     },
     "execution_count": 550,
     "metadata": {},
     "output_type": "execute_result"
    }
   ],
   "source": [
    "dane.dtypes"
   ]
  },
  {
   "cell_type": "markdown",
   "id": "eacfd737",
   "metadata": {},
   "source": [
    "### Filter out null values for price"
   ]
  },
  {
   "cell_type": "code",
   "execution_count": 551,
   "id": "11914a7c",
   "metadata": {},
   "outputs": [
    {
     "data": {
      "text/plain": [
       "(2670, 8)"
      ]
     },
     "execution_count": 551,
     "metadata": {},
     "output_type": "execute_result"
    }
   ],
   "source": [
    "dane[dane.price.isnull()].shape # te które mają price null"
   ]
  },
  {
   "cell_type": "code",
   "execution_count": 552,
   "id": "99eb7e47",
   "metadata": {},
   "outputs": [
    {
     "data": {
      "text/plain": [
       "(8894, 8)"
      ]
     },
     "execution_count": 552,
     "metadata": {},
     "output_type": "execute_result"
    }
   ],
   "source": [
    "dane.shape"
   ]
  },
  {
   "cell_type": "code",
   "execution_count": 553,
   "id": "c207a48b",
   "metadata": {},
   "outputs": [],
   "source": [
    "dane=dane[~dane.price.isnull()] # price without nulls"
   ]
  },
  {
   "cell_type": "code",
   "execution_count": 554,
   "id": "eae1767e",
   "metadata": {},
   "outputs": [
    {
     "data": {
      "text/plain": [
       "(6224, 8)"
      ]
     },
     "execution_count": 554,
     "metadata": {},
     "output_type": "execute_result"
    }
   ],
   "source": [
    "dane.shape"
   ]
  },
  {
   "cell_type": "markdown",
   "id": "98842a7e",
   "metadata": {},
   "source": [
    "### Features manipulation"
   ]
  },
  {
   "cell_type": "code",
   "execution_count": 555,
   "id": "7563df31",
   "metadata": {},
   "outputs": [
    {
     "data": {
      "text/plain": [
       "array(['floor_2', 'floor_1', 'floor_3', 'floor_4', 'ground_floor',\n",
       "       'floor_5', nan, 'floor_9', 'floor_10', 'floor_7', 'floor_6',\n",
       "       'floor_8', 'floor_higher_10'], dtype=object)"
      ]
     },
     "execution_count": 555,
     "metadata": {},
     "output_type": "execute_result"
    }
   ],
   "source": [
    "dane.floor_number.unique()"
   ]
  },
  {
   "cell_type": "code",
   "execution_count": 556,
   "id": "95376cd8",
   "metadata": {},
   "outputs": [
    {
     "data": {
      "text/plain": [
       "floor_1            1435\n",
       "ground_floor       1258\n",
       "floor_2            1123\n",
       "floor_3            1045\n",
       "floor_4             648\n",
       "floor_5             250\n",
       "floor_6             133\n",
       "floor_7              86\n",
       "floor_higher_10      80\n",
       "floor_10             52\n",
       "floor_8              51\n",
       "floor_9              37\n",
       "Name: floor_number, dtype: int64"
      ]
     },
     "execution_count": 556,
     "metadata": {},
     "output_type": "execute_result"
    }
   ],
   "source": [
    "dane.floor_number.value_counts()"
   ]
  },
  {
   "cell_type": "code",
   "execution_count": 557,
   "id": "46f35c5d",
   "metadata": {},
   "outputs": [],
   "source": [
    "floor_dict={'floor_1':1,'floor_2':2,'floor_3':3,'floor_4':4,'floor_5':5,'floor_6':6,'floor_7':7,\n",
    "            'floor_8':8,'floor_9':9,'floor_10':10,'ground_floor':0,'floor_higher_10':11}"
   ]
  },
  {
   "cell_type": "code",
   "execution_count": 558,
   "id": "316dc9db",
   "metadata": {},
   "outputs": [],
   "source": [
    "dane['floor_number']=dane['floor_number'].map(floor_dict)"
   ]
  },
  {
   "cell_type": "code",
   "execution_count": 559,
   "id": "5d5b7d1d",
   "metadata": {},
   "outputs": [
    {
     "data": {
      "text/plain": [
       "2.0    2478\n",
       "3.0    2384\n",
       "4.0     813\n",
       "1.0     400\n",
       "5.0     120\n",
       "6.0      25\n",
       "7.0       3\n",
       "8.0       1\n",
       "Name: room_number, dtype: int64"
      ]
     },
     "execution_count": 559,
     "metadata": {},
     "output_type": "execute_result"
    }
   ],
   "source": [
    "dane['room_number'].value_counts()"
   ]
  },
  {
   "cell_type": "markdown",
   "id": "83996a77",
   "metadata": {},
   "source": [
    "### Features - manual one-hot encoding"
   ]
  },
  {
   "cell_type": "code",
   "execution_count": 560,
   "id": "752d033b",
   "metadata": {},
   "outputs": [
    {
     "data": {
      "text/plain": [
       "0       ['meble', 'balkon', 'garaż/miejsce parkingowe'...\n",
       "1       ['telewizja kablowa', 'internet', 'telefon', '...\n",
       "2       ['monitoring / ochrona', 'drzwi / okna antywła...\n",
       "3       ['telewizja kablowa', 'internet', 'telefon', '...\n",
       "4       ['monitoring / ochrona', 'meble', 'garaż/miejs...\n",
       "                              ...                        \n",
       "8889    ['domofon / wideofon', 'balkon', 'piwnica', 'd...\n",
       "8890    ['telewizja kablowa', 'internet', 'telefon', '...\n",
       "8891    ['telewizja kablowa', 'internet', 'drzwi / okn...\n",
       "8892                                  ['balkon', 'winda']\n",
       "8893      ['garaż/miejsce parkingowe', 'balkon', 'winda']\n",
       "Name: features, Length: 6224, dtype: object"
      ]
     },
     "execution_count": 560,
     "metadata": {},
     "output_type": "execute_result"
    }
   ],
   "source": [
    "dane['features']"
   ]
  },
  {
   "cell_type": "code",
   "execution_count": 561,
   "id": "67a5de8f",
   "metadata": {},
   "outputs": [],
   "source": [
    "dane=dane.reset_index()"
   ]
  },
  {
   "cell_type": "code",
   "execution_count": 562,
   "id": "266837fd",
   "metadata": {},
   "outputs": [],
   "source": [
    "features_list=[]\n",
    "\n",
    "for i in range(len(dane['features'])):\n",
    "  for j in range(len(dane['features'][i].replace('[','').replace(']','').split(','))):\n",
    "    features_list.append(dane['features'][i].replace('[','').replace(']','').split(',')[j])"
   ]
  },
  {
   "cell_type": "code",
   "execution_count": 563,
   "id": "7f29098d",
   "metadata": {},
   "outputs": [],
   "source": [
    "# features_list"
   ]
  },
  {
   "cell_type": "code",
   "execution_count": 564,
   "id": "5c116f7d",
   "metadata": {},
   "outputs": [
    {
     "data": {
      "text/plain": [
       "['',\n",
       " 'telefon',\n",
       " 'systemalarmowy',\n",
       " 'domofon/wideofon',\n",
       " 'balkon',\n",
       " 'garaż/miejsceparkingowe',\n",
       " 'lodówka',\n",
       " 'pom.użytkowe',\n",
       " 'drzwi/oknaantywłamaniowe',\n",
       " 'piwnica',\n",
       " 'zmywarka',\n",
       " 'meble',\n",
       " 'terenzamknięty',\n",
       " 'telewizor',\n",
       " 'piekarnik',\n",
       " 'kuchenka',\n",
       " 'pralka',\n",
       " 'monitoring/ochrona',\n",
       " 'klimatyzacja',\n",
       " 'roletyantywłamaniowe',\n",
       " 'internet',\n",
       " 'ogródek',\n",
       " 'taras',\n",
       " 'dwupoziomowe',\n",
       " 'oddzielnakuchnia',\n",
       " 'telewizjakablowa',\n",
       " 'winda']"
      ]
     },
     "execution_count": 564,
     "metadata": {},
     "output_type": "execute_result"
    }
   ],
   "source": [
    "list(set(list(set(features_list))[i].replace(\"'\",'').replace(' ','') for i in range(len(set(features_list)))))"
   ]
  },
  {
   "cell_type": "code",
   "execution_count": 565,
   "id": "d81df774",
   "metadata": {},
   "outputs": [],
   "source": [
    "features_new=[]\n",
    "for i in range(len(dane['features'])):\n",
    "  features_new.append(dane['features'][i].replace('[','').replace(']','').replace(\"'\",'').replace(' ','').split(','))"
   ]
  },
  {
   "cell_type": "code",
   "execution_count": 566,
   "id": "62b18fc7",
   "metadata": {},
   "outputs": [],
   "source": [
    "dane['features_new']=features_new"
   ]
  },
  {
   "cell_type": "code",
   "execution_count": 567,
   "id": "0e5d2a4e",
   "metadata": {},
   "outputs": [
    {
     "data": {
      "text/plain": [
       "0    [meble, balkon, garaż/miejsceparkingowe, winda...\n",
       "1    [telewizjakablowa, internet, telefon, domofon/...\n",
       "2    [monitoring/ochrona, drzwi/oknaantywłamaniowe,...\n",
       "3    [telewizjakablowa, internet, telefon, drzwi/ok...\n",
       "4    [monitoring/ochrona, meble, garaż/miejsceparki...\n",
       "Name: features_new, dtype: object"
      ]
     },
     "execution_count": 567,
     "metadata": {},
     "output_type": "execute_result"
    }
   ],
   "source": [
    "dane['features_new'][:5]"
   ]
  },
  {
   "cell_type": "code",
   "execution_count": 568,
   "id": "da650c4c",
   "metadata": {},
   "outputs": [],
   "source": [
    "def column_based_on_feature(x,feature):\n",
    "  if feature in x:\n",
    "    return 1\n",
    "  else:\n",
    "    return 0"
   ]
  },
  {
   "cell_type": "code",
   "execution_count": 569,
   "id": "7c4a0f2d",
   "metadata": {},
   "outputs": [],
   "source": [
    "for f in list(set(list(set(features_list))[i].replace(\"'\",'').replace(' ','') for i in range(len(set(features_list))))):\n",
    "    dane[f]=dane['features_new'].apply(column_based_on_feature,feature=f)"
   ]
  },
  {
   "cell_type": "code",
   "execution_count": 570,
   "id": "3192c461",
   "metadata": {},
   "outputs": [
    {
     "data": {
      "text/plain": [
       "Index(['index', 'Unnamed: 0', 'price', 'rent_price', 'area_m2', 'room_number',\n",
       "       'year', 'floor_number', 'features', 'features_new', '', 'telefon',\n",
       "       'systemalarmowy', 'domofon/wideofon', 'balkon',\n",
       "       'garaż/miejsceparkingowe', 'lodówka', 'pom.użytkowe',\n",
       "       'drzwi/oknaantywłamaniowe', 'piwnica', 'zmywarka', 'meble',\n",
       "       'terenzamknięty', 'telewizor', 'piekarnik', 'kuchenka', 'pralka',\n",
       "       'monitoring/ochrona', 'klimatyzacja', 'roletyantywłamaniowe',\n",
       "       'internet', 'ogródek', 'taras', 'dwupoziomowe', 'oddzielnakuchnia',\n",
       "       'telewizjakablowa', 'winda'],\n",
       "      dtype='object')"
      ]
     },
     "execution_count": 570,
     "metadata": {},
     "output_type": "execute_result"
    }
   ],
   "source": [
    "dane.columns"
   ]
  },
  {
   "cell_type": "code",
   "execution_count": 571,
   "id": "737f92a3",
   "metadata": {},
   "outputs": [],
   "source": [
    "dane=dane[[ 'price', 'rent_price', 'area_m2', 'room_number',\n",
    "       'year', 'floor_number',\n",
    "       'oddzielnakuchnia', 'telewizjakablowa', 'meble', 'dwupoziomowe',\n",
    "       'terenzamknięty', 'telewizor', 'lodówka', 'systemalarmowy', 'telefon',\n",
    "       'roletyantywłamaniowe', 'internet', 'zmywarka', 'balkon', 'kuchenka',\n",
    "       'piekarnik', 'piwnica', 'winda', 'pralka', 'garaż/miejsceparkingowe',\n",
    "       'klimatyzacja', 'taras', 'monitoring/ochrona', 'ogródek',\n",
    "       'domofon/wideofon', 'drzwi/oknaantywłamaniowe', 'pom.użytkowe']]"
   ]
  },
  {
   "cell_type": "markdown",
   "id": "79103222",
   "metadata": {},
   "source": [
    "### Rent price - full fill with '-99', Year - remove null"
   ]
  },
  {
   "cell_type": "code",
   "execution_count": 572,
   "id": "1624b81e",
   "metadata": {},
   "outputs": [
    {
     "data": {
      "text/plain": [
       "2      NaN\n",
       "3      NaN\n",
       "4      NaN\n",
       "6      NaN\n",
       "7      NaN\n",
       "        ..\n",
       "6214   NaN\n",
       "6216   NaN\n",
       "6219   NaN\n",
       "6222   NaN\n",
       "6223   NaN\n",
       "Name: rent_price, Length: 3496, dtype: float64"
      ]
     },
     "execution_count": 572,
     "metadata": {},
     "output_type": "execute_result"
    }
   ],
   "source": [
    "# Elementy mające wartość null\n",
    "dane['rent_price'][dane.rent_price.isnull()]"
   ]
  },
  {
   "cell_type": "code",
   "execution_count": 573,
   "id": "26e0191e",
   "metadata": {},
   "outputs": [],
   "source": [
    " dane['rent_price'][dane.rent_price.isnull()]=-99"
   ]
  },
  {
   "cell_type": "code",
   "execution_count": 574,
   "id": "7220d345",
   "metadata": {},
   "outputs": [
    {
     "data": {
      "text/plain": [
       "0       400.0\n",
       "1       400.0\n",
       "2       -99.0\n",
       "3       -99.0\n",
       "4       -99.0\n",
       "        ...  \n",
       "6219    -99.0\n",
       "6220    400.0\n",
       "6221    600.0\n",
       "6222    -99.0\n",
       "6223    -99.0\n",
       "Name: rent_price, Length: 6224, dtype: float64"
      ]
     },
     "execution_count": 574,
     "metadata": {},
     "output_type": "execute_result"
    }
   ],
   "source": [
    "dane['rent_price']"
   ]
  },
  {
   "cell_type": "code",
   "execution_count": 575,
   "id": "202bf3cb",
   "metadata": {},
   "outputs": [],
   "source": [
    "dane['floor_number'][dane['floor_number'].isnull()]=-1"
   ]
  },
  {
   "cell_type": "code",
   "execution_count": 576,
   "id": "dbe98dd4",
   "metadata": {},
   "outputs": [],
   "source": [
    "dane=dane[~dane['year'].isnull()]"
   ]
  },
  {
   "cell_type": "code",
   "execution_count": 577,
   "id": "f5195e9f",
   "metadata": {},
   "outputs": [
    {
     "data": {
      "text/html": [
       "<div>\n",
       "<style scoped>\n",
       "    .dataframe tbody tr th:only-of-type {\n",
       "        vertical-align: middle;\n",
       "    }\n",
       "\n",
       "    .dataframe tbody tr th {\n",
       "        vertical-align: top;\n",
       "    }\n",
       "\n",
       "    .dataframe thead th {\n",
       "        text-align: right;\n",
       "    }\n",
       "</style>\n",
       "<table border=\"1\" class=\"dataframe\">\n",
       "  <thead>\n",
       "    <tr style=\"text-align: right;\">\n",
       "      <th></th>\n",
       "      <th>price</th>\n",
       "      <th>rent_price</th>\n",
       "      <th>area_m2</th>\n",
       "      <th>room_number</th>\n",
       "      <th>year</th>\n",
       "      <th>floor_number</th>\n",
       "      <th>oddzielnakuchnia</th>\n",
       "      <th>telewizjakablowa</th>\n",
       "      <th>meble</th>\n",
       "      <th>dwupoziomowe</th>\n",
       "      <th>...</th>\n",
       "      <th>winda</th>\n",
       "      <th>pralka</th>\n",
       "      <th>garaż/miejsceparkingowe</th>\n",
       "      <th>klimatyzacja</th>\n",
       "      <th>taras</th>\n",
       "      <th>monitoring/ochrona</th>\n",
       "      <th>ogródek</th>\n",
       "      <th>domofon/wideofon</th>\n",
       "      <th>drzwi/oknaantywłamaniowe</th>\n",
       "      <th>pom.użytkowe</th>\n",
       "    </tr>\n",
       "  </thead>\n",
       "  <tbody>\n",
       "    <tr>\n",
       "      <th>0</th>\n",
       "      <td>950000.0</td>\n",
       "      <td>400.0</td>\n",
       "      <td>64.0</td>\n",
       "      <td>2.0</td>\n",
       "      <td>2013.0</td>\n",
       "      <td>2.0</td>\n",
       "      <td>0</td>\n",
       "      <td>0</td>\n",
       "      <td>1</td>\n",
       "      <td>0</td>\n",
       "      <td>...</td>\n",
       "      <td>1</td>\n",
       "      <td>0</td>\n",
       "      <td>1</td>\n",
       "      <td>0</td>\n",
       "      <td>0</td>\n",
       "      <td>0</td>\n",
       "      <td>0</td>\n",
       "      <td>0</td>\n",
       "      <td>0</td>\n",
       "      <td>1</td>\n",
       "    </tr>\n",
       "    <tr>\n",
       "      <th>1</th>\n",
       "      <td>439000.0</td>\n",
       "      <td>400.0</td>\n",
       "      <td>37.0</td>\n",
       "      <td>2.0</td>\n",
       "      <td>2022.0</td>\n",
       "      <td>1.0</td>\n",
       "      <td>0</td>\n",
       "      <td>1</td>\n",
       "      <td>1</td>\n",
       "      <td>0</td>\n",
       "      <td>...</td>\n",
       "      <td>0</td>\n",
       "      <td>0</td>\n",
       "      <td>1</td>\n",
       "      <td>0</td>\n",
       "      <td>0</td>\n",
       "      <td>0</td>\n",
       "      <td>0</td>\n",
       "      <td>1</td>\n",
       "      <td>0</td>\n",
       "      <td>0</td>\n",
       "    </tr>\n",
       "    <tr>\n",
       "      <th>2</th>\n",
       "      <td>464500.0</td>\n",
       "      <td>-99.0</td>\n",
       "      <td>50.0</td>\n",
       "      <td>2.0</td>\n",
       "      <td>2023.0</td>\n",
       "      <td>2.0</td>\n",
       "      <td>0</td>\n",
       "      <td>0</td>\n",
       "      <td>0</td>\n",
       "      <td>0</td>\n",
       "      <td>...</td>\n",
       "      <td>1</td>\n",
       "      <td>0</td>\n",
       "      <td>0</td>\n",
       "      <td>0</td>\n",
       "      <td>0</td>\n",
       "      <td>1</td>\n",
       "      <td>0</td>\n",
       "      <td>1</td>\n",
       "      <td>1</td>\n",
       "      <td>0</td>\n",
       "    </tr>\n",
       "    <tr>\n",
       "      <th>3</th>\n",
       "      <td>391900.0</td>\n",
       "      <td>-99.0</td>\n",
       "      <td>46.5</td>\n",
       "      <td>3.0</td>\n",
       "      <td>2023.0</td>\n",
       "      <td>3.0</td>\n",
       "      <td>0</td>\n",
       "      <td>1</td>\n",
       "      <td>0</td>\n",
       "      <td>0</td>\n",
       "      <td>...</td>\n",
       "      <td>0</td>\n",
       "      <td>0</td>\n",
       "      <td>1</td>\n",
       "      <td>0</td>\n",
       "      <td>0</td>\n",
       "      <td>1</td>\n",
       "      <td>0</td>\n",
       "      <td>1</td>\n",
       "      <td>1</td>\n",
       "      <td>1</td>\n",
       "    </tr>\n",
       "    <tr>\n",
       "      <th>4</th>\n",
       "      <td>650000.0</td>\n",
       "      <td>-99.0</td>\n",
       "      <td>54.0</td>\n",
       "      <td>3.0</td>\n",
       "      <td>2021.0</td>\n",
       "      <td>4.0</td>\n",
       "      <td>0</td>\n",
       "      <td>0</td>\n",
       "      <td>1</td>\n",
       "      <td>0</td>\n",
       "      <td>...</td>\n",
       "      <td>1</td>\n",
       "      <td>0</td>\n",
       "      <td>1</td>\n",
       "      <td>0</td>\n",
       "      <td>0</td>\n",
       "      <td>1</td>\n",
       "      <td>0</td>\n",
       "      <td>0</td>\n",
       "      <td>0</td>\n",
       "      <td>0</td>\n",
       "    </tr>\n",
       "  </tbody>\n",
       "</table>\n",
       "<p>5 rows × 32 columns</p>\n",
       "</div>"
      ],
      "text/plain": [
       "      price  rent_price  area_m2  room_number    year  floor_number  \\\n",
       "0  950000.0       400.0     64.0          2.0  2013.0           2.0   \n",
       "1  439000.0       400.0     37.0          2.0  2022.0           1.0   \n",
       "2  464500.0       -99.0     50.0          2.0  2023.0           2.0   \n",
       "3  391900.0       -99.0     46.5          3.0  2023.0           3.0   \n",
       "4  650000.0       -99.0     54.0          3.0  2021.0           4.0   \n",
       "\n",
       "   oddzielnakuchnia  telewizjakablowa  meble  dwupoziomowe  ...  winda  \\\n",
       "0                 0                 0      1             0  ...      1   \n",
       "1                 0                 1      1             0  ...      0   \n",
       "2                 0                 0      0             0  ...      1   \n",
       "3                 0                 1      0             0  ...      0   \n",
       "4                 0                 0      1             0  ...      1   \n",
       "\n",
       "   pralka  garaż/miejsceparkingowe  klimatyzacja  taras  monitoring/ochrona  \\\n",
       "0       0                        1             0      0                   0   \n",
       "1       0                        1             0      0                   0   \n",
       "2       0                        0             0      0                   1   \n",
       "3       0                        1             0      0                   1   \n",
       "4       0                        1             0      0                   1   \n",
       "\n",
       "   ogródek  domofon/wideofon  drzwi/oknaantywłamaniowe  pom.użytkowe  \n",
       "0        0                 0                         0             1  \n",
       "1        0                 1                         0             0  \n",
       "2        0                 1                         1             0  \n",
       "3        0                 1                         1             1  \n",
       "4        0                 0                         0             0  \n",
       "\n",
       "[5 rows x 32 columns]"
      ]
     },
     "execution_count": 577,
     "metadata": {},
     "output_type": "execute_result"
    }
   ],
   "source": [
    "dane.head()"
   ]
  },
  {
   "cell_type": "code",
   "execution_count": 578,
   "id": "b1f3ed16",
   "metadata": {},
   "outputs": [
    {
     "name": "stderr",
     "output_type": "stream",
     "text": [
      "C:\\Users\\AsusF512ua-ej269t\\AppData\\Local\\Temp\\ipykernel_7952\\4260084310.py:1: FutureWarning: In a future version of pandas all arguments of DataFrame.drop except for the argument 'labels' will be keyword-only.\n",
      "  X=dane.drop('price', 1)# axis=1\n"
     ]
    }
   ],
   "source": [
    "X=dane.drop('price', 1)# axis=1\n",
    "y=dane['price']"
   ]
  },
  {
   "cell_type": "code",
   "execution_count": 579,
   "id": "9dd3af77",
   "metadata": {},
   "outputs": [
    {
     "data": {
      "text/html": [
       "<style>#sk-container-id-23 {color: black;background-color: white;}#sk-container-id-23 pre{padding: 0;}#sk-container-id-23 div.sk-toggleable {background-color: white;}#sk-container-id-23 label.sk-toggleable__label {cursor: pointer;display: block;width: 100%;margin-bottom: 0;padding: 0.3em;box-sizing: border-box;text-align: center;}#sk-container-id-23 label.sk-toggleable__label-arrow:before {content: \"▸\";float: left;margin-right: 0.25em;color: #696969;}#sk-container-id-23 label.sk-toggleable__label-arrow:hover:before {color: black;}#sk-container-id-23 div.sk-estimator:hover label.sk-toggleable__label-arrow:before {color: black;}#sk-container-id-23 div.sk-toggleable__content {max-height: 0;max-width: 0;overflow: hidden;text-align: left;background-color: #f0f8ff;}#sk-container-id-23 div.sk-toggleable__content pre {margin: 0.2em;color: black;border-radius: 0.25em;background-color: #f0f8ff;}#sk-container-id-23 input.sk-toggleable__control:checked~div.sk-toggleable__content {max-height: 200px;max-width: 100%;overflow: auto;}#sk-container-id-23 input.sk-toggleable__control:checked~label.sk-toggleable__label-arrow:before {content: \"▾\";}#sk-container-id-23 div.sk-estimator input.sk-toggleable__control:checked~label.sk-toggleable__label {background-color: #d4ebff;}#sk-container-id-23 div.sk-label input.sk-toggleable__control:checked~label.sk-toggleable__label {background-color: #d4ebff;}#sk-container-id-23 input.sk-hidden--visually {border: 0;clip: rect(1px 1px 1px 1px);clip: rect(1px, 1px, 1px, 1px);height: 1px;margin: -1px;overflow: hidden;padding: 0;position: absolute;width: 1px;}#sk-container-id-23 div.sk-estimator {font-family: monospace;background-color: #f0f8ff;border: 1px dotted black;border-radius: 0.25em;box-sizing: border-box;margin-bottom: 0.5em;}#sk-container-id-23 div.sk-estimator:hover {background-color: #d4ebff;}#sk-container-id-23 div.sk-parallel-item::after {content: \"\";width: 100%;border-bottom: 1px solid gray;flex-grow: 1;}#sk-container-id-23 div.sk-label:hover label.sk-toggleable__label {background-color: #d4ebff;}#sk-container-id-23 div.sk-serial::before {content: \"\";position: absolute;border-left: 1px solid gray;box-sizing: border-box;top: 0;bottom: 0;left: 50%;z-index: 0;}#sk-container-id-23 div.sk-serial {display: flex;flex-direction: column;align-items: center;background-color: white;padding-right: 0.2em;padding-left: 0.2em;position: relative;}#sk-container-id-23 div.sk-item {position: relative;z-index: 1;}#sk-container-id-23 div.sk-parallel {display: flex;align-items: stretch;justify-content: center;background-color: white;position: relative;}#sk-container-id-23 div.sk-item::before, #sk-container-id-23 div.sk-parallel-item::before {content: \"\";position: absolute;border-left: 1px solid gray;box-sizing: border-box;top: 0;bottom: 0;left: 50%;z-index: -1;}#sk-container-id-23 div.sk-parallel-item {display: flex;flex-direction: column;z-index: 1;position: relative;background-color: white;}#sk-container-id-23 div.sk-parallel-item:first-child::after {align-self: flex-end;width: 50%;}#sk-container-id-23 div.sk-parallel-item:last-child::after {align-self: flex-start;width: 50%;}#sk-container-id-23 div.sk-parallel-item:only-child::after {width: 0;}#sk-container-id-23 div.sk-dashed-wrapped {border: 1px dashed gray;margin: 0 0.4em 0.5em 0.4em;box-sizing: border-box;padding-bottom: 0.4em;background-color: white;}#sk-container-id-23 div.sk-label label {font-family: monospace;font-weight: bold;display: inline-block;line-height: 1.2em;}#sk-container-id-23 div.sk-label-container {text-align: center;}#sk-container-id-23 div.sk-container {/* jupyter's `normalize.less` sets `[hidden] { display: none; }` but bootstrap.min.css set `[hidden] { display: none !important; }` so we also need the `!important` here to be able to override the default hidden behavior on the sphinx rendered scikit-learn.org. See: https://github.com/scikit-learn/scikit-learn/issues/21755 */display: inline-block !important;position: relative;}#sk-container-id-23 div.sk-text-repr-fallback {display: none;}</style><div id=\"sk-container-id-23\" class=\"sk-top-container\"><div class=\"sk-text-repr-fallback\"><pre>LinearRegression()</pre><b>In a Jupyter environment, please rerun this cell to show the HTML representation or trust the notebook. <br />On GitHub, the HTML representation is unable to render, please try loading this page with nbviewer.org.</b></div><div class=\"sk-container\" hidden><div class=\"sk-item\"><div class=\"sk-estimator sk-toggleable\"><input class=\"sk-toggleable__control sk-hidden--visually\" id=\"sk-estimator-id-39\" type=\"checkbox\" checked><label for=\"sk-estimator-id-39\" class=\"sk-toggleable__label sk-toggleable__label-arrow\">LinearRegression</label><div class=\"sk-toggleable__content\"><pre>LinearRegression()</pre></div></div></div></div></div>"
      ],
      "text/plain": [
       "LinearRegression()"
      ]
     },
     "execution_count": 579,
     "metadata": {},
     "output_type": "execute_result"
    }
   ],
   "source": [
    "model=LinearRegression()\n",
    "model.fit(X,y)"
   ]
  },
  {
   "cell_type": "code",
   "execution_count": 580,
   "id": "b599c853",
   "metadata": {},
   "outputs": [
    {
     "data": {
      "text/plain": [
       "383799.6282289954"
      ]
     },
     "execution_count": 580,
     "metadata": {},
     "output_type": "execute_result"
    }
   ],
   "source": [
    "model.intercept_"
   ]
  },
  {
   "cell_type": "code",
   "execution_count": 581,
   "id": "b9b753f6",
   "metadata": {},
   "outputs": [
    {
     "data": {
      "text/plain": [
       "array([ 1.66088171e+02,  2.13449932e-02,  2.28599305e+05, -1.70849081e+02,\n",
       "        2.14908355e+04, -9.52208285e+03, -1.86780103e+05,  3.37082409e+04,\n",
       "       -8.18188369e+04,  8.18999654e+04,  2.00128677e+05, -1.74953671e+04,\n",
       "        1.37364659e+05, -8.80453300e+03,  7.60663314e+04,  9.84320204e+04,\n",
       "        9.71859409e+04, -1.04996427e+05, -4.53036399e+04, -4.89313529e+04,\n",
       "       -7.81814428e+04,  5.60280441e+04,  1.79799973e+04,  2.88017817e+04,\n",
       "        3.07622150e+05,  1.39947257e+05,  1.63098026e+05, -7.21126930e+04,\n",
       "       -2.97295936e+04, -2.78373436e+04,  3.08447443e+04])"
      ]
     },
     "execution_count": 581,
     "metadata": {},
     "output_type": "execute_result"
    }
   ],
   "source": [
    "model.coef_"
   ]
  },
  {
   "cell_type": "code",
   "execution_count": 582,
   "id": "bf3627da",
   "metadata": {},
   "outputs": [],
   "source": [
    "reg_predict=model.predict(X)"
   ]
  },
  {
   "cell_type": "code",
   "execution_count": 583,
   "id": "c1e79349",
   "metadata": {},
   "outputs": [
    {
     "data": {
      "text/html": [
       "<style>#sk-container-id-24 {color: black;background-color: white;}#sk-container-id-24 pre{padding: 0;}#sk-container-id-24 div.sk-toggleable {background-color: white;}#sk-container-id-24 label.sk-toggleable__label {cursor: pointer;display: block;width: 100%;margin-bottom: 0;padding: 0.3em;box-sizing: border-box;text-align: center;}#sk-container-id-24 label.sk-toggleable__label-arrow:before {content: \"▸\";float: left;margin-right: 0.25em;color: #696969;}#sk-container-id-24 label.sk-toggleable__label-arrow:hover:before {color: black;}#sk-container-id-24 div.sk-estimator:hover label.sk-toggleable__label-arrow:before {color: black;}#sk-container-id-24 div.sk-toggleable__content {max-height: 0;max-width: 0;overflow: hidden;text-align: left;background-color: #f0f8ff;}#sk-container-id-24 div.sk-toggleable__content pre {margin: 0.2em;color: black;border-radius: 0.25em;background-color: #f0f8ff;}#sk-container-id-24 input.sk-toggleable__control:checked~div.sk-toggleable__content {max-height: 200px;max-width: 100%;overflow: auto;}#sk-container-id-24 input.sk-toggleable__control:checked~label.sk-toggleable__label-arrow:before {content: \"▾\";}#sk-container-id-24 div.sk-estimator input.sk-toggleable__control:checked~label.sk-toggleable__label {background-color: #d4ebff;}#sk-container-id-24 div.sk-label input.sk-toggleable__control:checked~label.sk-toggleable__label {background-color: #d4ebff;}#sk-container-id-24 input.sk-hidden--visually {border: 0;clip: rect(1px 1px 1px 1px);clip: rect(1px, 1px, 1px, 1px);height: 1px;margin: -1px;overflow: hidden;padding: 0;position: absolute;width: 1px;}#sk-container-id-24 div.sk-estimator {font-family: monospace;background-color: #f0f8ff;border: 1px dotted black;border-radius: 0.25em;box-sizing: border-box;margin-bottom: 0.5em;}#sk-container-id-24 div.sk-estimator:hover {background-color: #d4ebff;}#sk-container-id-24 div.sk-parallel-item::after {content: \"\";width: 100%;border-bottom: 1px solid gray;flex-grow: 1;}#sk-container-id-24 div.sk-label:hover label.sk-toggleable__label {background-color: #d4ebff;}#sk-container-id-24 div.sk-serial::before {content: \"\";position: absolute;border-left: 1px solid gray;box-sizing: border-box;top: 0;bottom: 0;left: 50%;z-index: 0;}#sk-container-id-24 div.sk-serial {display: flex;flex-direction: column;align-items: center;background-color: white;padding-right: 0.2em;padding-left: 0.2em;position: relative;}#sk-container-id-24 div.sk-item {position: relative;z-index: 1;}#sk-container-id-24 div.sk-parallel {display: flex;align-items: stretch;justify-content: center;background-color: white;position: relative;}#sk-container-id-24 div.sk-item::before, #sk-container-id-24 div.sk-parallel-item::before {content: \"\";position: absolute;border-left: 1px solid gray;box-sizing: border-box;top: 0;bottom: 0;left: 50%;z-index: -1;}#sk-container-id-24 div.sk-parallel-item {display: flex;flex-direction: column;z-index: 1;position: relative;background-color: white;}#sk-container-id-24 div.sk-parallel-item:first-child::after {align-self: flex-end;width: 50%;}#sk-container-id-24 div.sk-parallel-item:last-child::after {align-self: flex-start;width: 50%;}#sk-container-id-24 div.sk-parallel-item:only-child::after {width: 0;}#sk-container-id-24 div.sk-dashed-wrapped {border: 1px dashed gray;margin: 0 0.4em 0.5em 0.4em;box-sizing: border-box;padding-bottom: 0.4em;background-color: white;}#sk-container-id-24 div.sk-label label {font-family: monospace;font-weight: bold;display: inline-block;line-height: 1.2em;}#sk-container-id-24 div.sk-label-container {text-align: center;}#sk-container-id-24 div.sk-container {/* jupyter's `normalize.less` sets `[hidden] { display: none; }` but bootstrap.min.css set `[hidden] { display: none !important; }` so we also need the `!important` here to be able to override the default hidden behavior on the sphinx rendered scikit-learn.org. See: https://github.com/scikit-learn/scikit-learn/issues/21755 */display: inline-block !important;position: relative;}#sk-container-id-24 div.sk-text-repr-fallback {display: none;}</style><div id=\"sk-container-id-24\" class=\"sk-top-container\"><div class=\"sk-text-repr-fallback\"><pre>DecisionTreeRegressor(max_depth=5, min_samples_leaf=300)</pre><b>In a Jupyter environment, please rerun this cell to show the HTML representation or trust the notebook. <br />On GitHub, the HTML representation is unable to render, please try loading this page with nbviewer.org.</b></div><div class=\"sk-container\" hidden><div class=\"sk-item\"><div class=\"sk-estimator sk-toggleable\"><input class=\"sk-toggleable__control sk-hidden--visually\" id=\"sk-estimator-id-40\" type=\"checkbox\" checked><label for=\"sk-estimator-id-40\" class=\"sk-toggleable__label sk-toggleable__label-arrow\">DecisionTreeRegressor</label><div class=\"sk-toggleable__content\"><pre>DecisionTreeRegressor(max_depth=5, min_samples_leaf=300)</pre></div></div></div></div></div>"
      ],
      "text/plain": [
       "DecisionTreeRegressor(max_depth=5, min_samples_leaf=300)"
      ]
     },
     "execution_count": 583,
     "metadata": {},
     "output_type": "execute_result"
    }
   ],
   "source": [
    "tree_model=DecisionTreeRegressor(max_depth=5,min_samples_leaf=300)\n",
    "tree_model.fit(X,y)"
   ]
  },
  {
   "cell_type": "code",
   "execution_count": 584,
   "id": "458e78b2",
   "metadata": {},
   "outputs": [],
   "source": [
    "tree_predict=tree_model.predict(X)"
   ]
  },
  {
   "cell_type": "code",
   "execution_count": 585,
   "id": "6bef3d6f",
   "metadata": {},
   "outputs": [
    {
     "name": "stdout",
     "output_type": "stream",
     "text": [
      "Linear Regression R2 score: 0.34\n",
      "Decision Tree R2 score: 0.43\n"
     ]
    }
   ],
   "source": [
    "#R2\n",
    "print('Linear Regression R2 score: '+str(round(r2_score(y,reg_predict),2)))\n",
    "print('Decision Tree R2 score: '+str(round(r2_score(y,tree_predict),2)))"
   ]
  },
  {
   "cell_type": "code",
   "execution_count": 586,
   "id": "0d87ceb7",
   "metadata": {},
   "outputs": [
    {
     "name": "stdout",
     "output_type": "stream",
     "text": [
      "Linear Regression MAE score: 239698.07\n",
      "Decision Tree MAE score: 209356.19\n"
     ]
    }
   ],
   "source": [
    "#MAE\n",
    "print('Linear Regression MAE score: '+str(round(mae(y,reg_predict),2)))\n",
    "print('Decision Tree MAE score: '+str(round(mae(y,tree_predict),2)))"
   ]
  },
  {
   "cell_type": "code",
   "execution_count": 587,
   "id": "2ec07da3",
   "metadata": {},
   "outputs": [
    {
     "name": "stdout",
     "output_type": "stream",
     "text": [
      "Linear Regression RMSE score: 397632.47\n",
      "Decision Tree RMSE score: 370369.17\n"
     ]
    }
   ],
   "source": [
    "#RMSE\n",
    "print('Linear Regression RMSE score: '+str(round(mse(y,reg_predict,squared=False),2)))\n",
    "print('Decision Tree RMSE score: '+str(round(mse(y,tree_predict,squared=False),2)))"
   ]
  },
  {
   "cell_type": "markdown",
   "id": "492b426d",
   "metadata": {},
   "source": [
    "Rozkład zmiennej objaśnianej\n",
    "\n",
    "Dla danych ciągłych:\n",
    "- wykresy scatterplot zmienna y vs zmienna ciagla x\n",
    "- heatmapa zmienne ciagle x vs zmienna y\n",
    "- rozklady zmiennych ciaglych x (sprawdzenie obserwacji odstających)\n",
    "\n",
    "Dla danych binarnych:\n",
    "- boxploty zmienna binarna vs zmienna y"
   ]
  }
 ],
 "metadata": {
  "kernelspec": {
   "display_name": "Python 3 (ipykernel)",
   "language": "python",
   "name": "python3"
  },
  "language_info": {
   "codemirror_mode": {
    "name": "ipython",
    "version": 3
   },
   "file_extension": ".py",
   "mimetype": "text/x-python",
   "name": "python",
   "nbconvert_exporter": "python",
   "pygments_lexer": "ipython3",
   "version": "3.11.2"
  }
 },
 "nbformat": 4,
 "nbformat_minor": 5
}
