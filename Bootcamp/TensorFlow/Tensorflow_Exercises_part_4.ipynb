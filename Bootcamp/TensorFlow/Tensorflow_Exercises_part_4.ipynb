{
 "cells": [
  {
   "cell_type": "markdown",
   "metadata": {
    "id": "skP3AJxrCU_T"
   },
   "source": [
    "# Tensorflow - Models training process - Fourth Exercise (25 minutes)\n",
    "@author Tomasz Skrzypczyk"
   ]
  },
  {
   "cell_type": "markdown",
   "metadata": {
    "id": "THgKUdbTDGNo"
   },
   "source": [
    "# Data import"
   ]
  },
  {
   "cell_type": "code",
   "execution_count": 1,
   "metadata": {
    "id": "f8IzBDPVCLcW"
   },
   "outputs": [],
   "source": [
    "# do not modify this cell\n",
    "import tensorflow as tf\n",
    "import numpy as np\n",
    "import pandas as pd\n",
    "from sklearn.datasets import load_iris\n",
    "from sklearn.model_selection import train_test_split\n",
    "from sklearn.preprocessing import StandardScaler\n",
    "\n",
    "data = load_iris()\n",
    "columns = data.feature_names\n",
    "\n",
    "X = data.data\n",
    "y = data.target\n",
    "\n",
    "\n",
    "X_train, X_test, y_train, y_test = train_test_split(X, y,test_size= 0.1)\n",
    "X_train, X_val, y_train, y_val = train_test_split(X_train, y_train,test_size=0.1)\n",
    "\n",
    "scaler = StandardScaler()\n",
    "X_train = scaler.fit_transform(X_train)\n",
    "X_val = scaler.transform(X_val)\n",
    "X_test = scaler.transform(X_test)"
   ]
  },
  {
   "cell_type": "markdown",
   "metadata": {
    "id": "xN4Z33qcDIy9"
   },
   "source": [
    "# Model definition"
   ]
  },
  {
   "cell_type": "code",
   "execution_count": 2,
   "metadata": {
    "id": "AUHyamxLDL1z"
   },
   "outputs": [],
   "source": [
    "# do not modify this cell\n",
    "model = tf.keras.Sequential([tf.keras.layers.Dense(3, input_shape=(4,))])\n",
    "# 3 neurony\n",
    "# 4 cechy/parametry"
   ]
  },
  {
   "cell_type": "markdown",
   "metadata": {
    "id": "Gks49ln5DmbX"
   },
   "source": [
    "# Model compiling"
   ]
  },
  {
   "cell_type": "markdown",
   "metadata": {
    "id": "pzpbMJzkFYOp"
   },
   "source": [
    "What you have to do first is to **compile** your model. This is different than what you are used to using sklearn or even using other DeepLearning libraries.\n",
    "\n",
    "\n",
    "The training procedure is as follows:\n",
    "* define your model\n",
    "* compile it\n",
    "* train using fit method\n",
    "\n",
    "\n",
    "```\n",
    "compile(\n",
    "    optimizer='rmsprop',\n",
    "    loss=None,\n",
    "    metrics=None,\n",
    "    loss_weights=None,\n",
    "    weighted_metrics=None,\n",
    "    run_eagerly=None,\n",
    "    steps_per_execution=None,\n",
    "    jit_compile=None,\n",
    "    **kwargs\n",
    ")\n",
    "```\n",
    "\n",
    "At this step you should at least pass the *loss* parameter. The loss function of your model. This could be 'mse' in case of a regression model or 'categorical_crossentropy' in case of the classification.\n",
    "\n",
    "What you want to pass next is the *optimizer*. Setting the optimizer to 'adam' or using the default 'rmsprop' are frequent choices. You will learn about different optimizers later on.\n",
    "\n",
    "The last important parameter to define are the *metrics*. You should always pass a list of metric's objects or strings. Ex. `metrics=[\"accuracy\"]` or `metrics = [\"mae\"]`.\n",
    "\n",
    "\n",
    "\n"
   ]
  },
  {
   "cell_type": "code",
   "execution_count": 3,
   "metadata": {
    "id": "z8WuhzrgHZbw"
   },
   "outputs": [],
   "source": [
    "# compile your model, remember that this is a classification model\n",
    "# define the 'adam' optimizer, use accuracy as a metric and set the loss to 'sparse_categorical_crossentropy'\n",
    "model.compile(optimizer=\"adam\", metrics=[\"accuracy\"], loss=\"sparse_categorical_crossentropy\")\n"
   ]
  },
  {
   "cell_type": "markdown",
   "metadata": {
    "id": "YIx6_FaIDoyr"
   },
   "source": [
    "# Model training"
   ]
  },
  {
   "cell_type": "markdown",
   "metadata": {
    "id": "vynJum51JOqF"
   },
   "source": [
    "fit method\n",
    "\n",
    "```\n",
    "fit(\n",
    "    x=None,\n",
    "    y=None,\n",
    "    batch_size=None,\n",
    "    epochs=1,\n",
    "    verbose='auto',\n",
    "    callbacks=None,\n",
    "    validation_split=0.0,\n",
    "    validation_data=None,\n",
    "    shuffle=True,\n",
    "    class_weight=None,\n",
    "    sample_weight=None,\n",
    "    initial_epoch=0,\n",
    "    steps_per_epoch=None,\n",
    "    validation_steps=None,\n",
    "    validation_batch_size=None,\n",
    "    validation_freq=1,\n",
    "    max_queue_size=10,\n",
    "    workers=1,\n",
    "    use_multiprocessing=False\n",
    ")\n",
    "\n",
    "```\n",
    "\n",
    "You really don't need to care about all the parameters!!\n",
    "\n",
    "Tip: pass your validation data as a tuple (X,y) !!!"
   ]
  },
  {
   "cell_type": "code",
   "execution_count": 4,
   "metadata": {
    "colab": {
     "base_uri": "https://localhost:8080/"
    },
    "id": "LobE2l29IDhA",
    "outputId": "9fc3f25c-013a-4f37-9c25-df75d0c8ccd8"
   },
   "outputs": [
    {
     "name": "stdout",
     "output_type": "stream",
     "text": [
      "Epoch 1/100\n",
      "4/4 [==============================] - 3s 154ms/step - loss: 4.3441 - accuracy: 0.6281 - val_loss: 6.0743 - val_accuracy: 0.4286\n",
      "Epoch 2/100\n",
      "4/4 [==============================] - 0s 29ms/step - loss: 4.3345 - accuracy: 0.6281 - val_loss: 6.0648 - val_accuracy: 0.4286\n",
      "Epoch 3/100\n",
      "4/4 [==============================] - 0s 24ms/step - loss: 4.2575 - accuracy: 0.6281 - val_loss: 6.0558 - val_accuracy: 0.4286\n",
      "Epoch 4/100\n",
      "4/4 [==============================] - 0s 24ms/step - loss: 4.2247 - accuracy: 0.6281 - val_loss: 6.0481 - val_accuracy: 0.4286\n",
      "Epoch 5/100\n",
      "4/4 [==============================] - 0s 24ms/step - loss: 4.2145 - accuracy: 0.6281 - val_loss: 6.0411 - val_accuracy: 0.4286\n",
      "Epoch 6/100\n",
      "4/4 [==============================] - 0s 21ms/step - loss: 4.2065 - accuracy: 0.6281 - val_loss: 6.0343 - val_accuracy: 0.4286\n",
      "Epoch 7/100\n",
      "4/4 [==============================] - 0s 23ms/step - loss: 4.1997 - accuracy: 0.6281 - val_loss: 6.0280 - val_accuracy: 0.4286\n",
      "Epoch 8/100\n",
      "4/4 [==============================] - 0s 23ms/step - loss: 4.1933 - accuracy: 0.6281 - val_loss: 6.0216 - val_accuracy: 0.4286\n",
      "Epoch 9/100\n",
      "4/4 [==============================] - 0s 30ms/step - loss: 4.1879 - accuracy: 0.6364 - val_loss: 5.2774 - val_accuracy: 0.4286\n",
      "Epoch 10/100\n",
      "4/4 [==============================] - 0s 33ms/step - loss: 4.1824 - accuracy: 0.6446 - val_loss: 5.2201 - val_accuracy: 0.4286\n",
      "Epoch 11/100\n",
      "4/4 [==============================] - 0s 29ms/step - loss: 4.1765 - accuracy: 0.6446 - val_loss: 5.1910 - val_accuracy: 0.4286\n",
      "Epoch 12/100\n",
      "4/4 [==============================] - 0s 35ms/step - loss: 4.1709 - accuracy: 0.6529 - val_loss: 5.1654 - val_accuracy: 0.4286\n",
      "Epoch 13/100\n",
      "4/4 [==============================] - 0s 28ms/step - loss: 4.1658 - accuracy: 0.6529 - val_loss: 5.1449 - val_accuracy: 0.4286\n",
      "Epoch 14/100\n",
      "4/4 [==============================] - 0s 40ms/step - loss: 4.1599 - accuracy: 0.6529 - val_loss: 5.1296 - val_accuracy: 0.5000\n",
      "Epoch 15/100\n",
      "4/4 [==============================] - 0s 28ms/step - loss: 4.1548 - accuracy: 0.6529 - val_loss: 5.1116 - val_accuracy: 0.5000\n",
      "Epoch 16/100\n",
      "4/4 [==============================] - 0s 24ms/step - loss: 4.1480 - accuracy: 0.6612 - val_loss: 5.0991 - val_accuracy: 0.5000\n",
      "Epoch 17/100\n",
      "4/4 [==============================] - 0s 27ms/step - loss: 4.1421 - accuracy: 0.6612 - val_loss: 5.0884 - val_accuracy: 0.5000\n",
      "Epoch 18/100\n",
      "4/4 [==============================] - 0s 23ms/step - loss: 4.1359 - accuracy: 0.6612 - val_loss: 5.0773 - val_accuracy: 0.5000\n",
      "Epoch 19/100\n",
      "4/4 [==============================] - 0s 30ms/step - loss: 4.1300 - accuracy: 0.6612 - val_loss: 5.0658 - val_accuracy: 0.5000\n",
      "Epoch 20/100\n",
      "4/4 [==============================] - 0s 27ms/step - loss: 4.1236 - accuracy: 0.6612 - val_loss: 5.0544 - val_accuracy: 0.5000\n",
      "Epoch 21/100\n",
      "4/4 [==============================] - 0s 25ms/step - loss: 4.1170 - accuracy: 0.6612 - val_loss: 5.0442 - val_accuracy: 0.5000\n",
      "Epoch 22/100\n",
      "4/4 [==============================] - 0s 27ms/step - loss: 4.1107 - accuracy: 0.6612 - val_loss: 5.0353 - val_accuracy: 0.5000\n",
      "Epoch 23/100\n",
      "4/4 [==============================] - 0s 28ms/step - loss: 4.1038 - accuracy: 0.6612 - val_loss: 5.0256 - val_accuracy: 0.5000\n",
      "Epoch 24/100\n",
      "4/4 [==============================] - 0s 27ms/step - loss: 4.0972 - accuracy: 0.6612 - val_loss: 5.0153 - val_accuracy: 0.5714\n",
      "Epoch 25/100\n",
      "4/4 [==============================] - 0s 27ms/step - loss: 4.0903 - accuracy: 0.6612 - val_loss: 5.0051 - val_accuracy: 0.5714\n",
      "Epoch 26/100\n",
      "4/4 [==============================] - 0s 26ms/step - loss: 4.0833 - accuracy: 0.6612 - val_loss: 4.9956 - val_accuracy: 0.5714\n",
      "Epoch 27/100\n",
      "4/4 [==============================] - 0s 24ms/step - loss: 4.0763 - accuracy: 0.6612 - val_loss: 4.9848 - val_accuracy: 0.5714\n",
      "Epoch 28/100\n",
      "4/4 [==============================] - 0s 44ms/step - loss: 4.0685 - accuracy: 0.6612 - val_loss: 4.9749 - val_accuracy: 0.5714\n",
      "Epoch 29/100\n",
      "4/4 [==============================] - 0s 26ms/step - loss: 4.0605 - accuracy: 0.6612 - val_loss: 4.9648 - val_accuracy: 0.5714\n",
      "Epoch 30/100\n",
      "4/4 [==============================] - 0s 43ms/step - loss: 4.0523 - accuracy: 0.6694 - val_loss: 4.9545 - val_accuracy: 0.5714\n",
      "Epoch 31/100\n",
      "4/4 [==============================] - 0s 28ms/step - loss: 4.0441 - accuracy: 0.6694 - val_loss: 4.9446 - val_accuracy: 0.5714\n",
      "Epoch 32/100\n",
      "4/4 [==============================] - 0s 29ms/step - loss: 4.0352 - accuracy: 0.6694 - val_loss: 4.9347 - val_accuracy: 0.5000\n",
      "Epoch 33/100\n",
      "4/4 [==============================] - 0s 25ms/step - loss: 4.0269 - accuracy: 0.6694 - val_loss: 4.9237 - val_accuracy: 0.5000\n",
      "Epoch 34/100\n",
      "4/4 [==============================] - 0s 25ms/step - loss: 4.0183 - accuracy: 0.6694 - val_loss: 4.9127 - val_accuracy: 0.5000\n",
      "Epoch 35/100\n",
      "4/4 [==============================] - 0s 27ms/step - loss: 4.0090 - accuracy: 0.6694 - val_loss: 4.9015 - val_accuracy: 0.4286\n",
      "Epoch 36/100\n",
      "4/4 [==============================] - 0s 32ms/step - loss: 4.0005 - accuracy: 0.6777 - val_loss: 4.8890 - val_accuracy: 0.4286\n",
      "Epoch 37/100\n",
      "4/4 [==============================] - 0s 23ms/step - loss: 3.9904 - accuracy: 0.6942 - val_loss: 4.8765 - val_accuracy: 0.4286\n",
      "Epoch 38/100\n",
      "4/4 [==============================] - 0s 22ms/step - loss: 3.9802 - accuracy: 0.6942 - val_loss: 4.8638 - val_accuracy: 0.4286\n",
      "Epoch 39/100\n",
      "4/4 [==============================] - 0s 29ms/step - loss: 3.9696 - accuracy: 0.6942 - val_loss: 4.8505 - val_accuracy: 0.4286\n",
      "Epoch 40/100\n",
      "4/4 [==============================] - 0s 42ms/step - loss: 3.9587 - accuracy: 0.6860 - val_loss: 4.8367 - val_accuracy: 0.4286\n",
      "Epoch 41/100\n",
      "4/4 [==============================] - 0s 32ms/step - loss: 3.9464 - accuracy: 0.6860 - val_loss: 4.8220 - val_accuracy: 0.4286\n",
      "Epoch 42/100\n",
      "4/4 [==============================] - 0s 25ms/step - loss: 3.9330 - accuracy: 0.6860 - val_loss: 4.8046 - val_accuracy: 0.4286\n",
      "Epoch 43/100\n",
      "4/4 [==============================] - 0s 26ms/step - loss: 3.9179 - accuracy: 0.6860 - val_loss: 4.7877 - val_accuracy: 0.4286\n",
      "Epoch 44/100\n",
      "4/4 [==============================] - 0s 25ms/step - loss: 3.8986 - accuracy: 0.6860 - val_loss: 4.7677 - val_accuracy: 0.5000\n",
      "Epoch 45/100\n",
      "4/4 [==============================] - 0s 22ms/step - loss: 3.7950 - accuracy: 0.6942 - val_loss: 4.7445 - val_accuracy: 0.5000\n",
      "Epoch 46/100\n",
      "4/4 [==============================] - 0s 24ms/step - loss: 3.7711 - accuracy: 0.6942 - val_loss: 4.7100 - val_accuracy: 0.5000\n",
      "Epoch 47/100\n",
      "4/4 [==============================] - 0s 26ms/step - loss: 3.7447 - accuracy: 0.6942 - val_loss: 4.7052 - val_accuracy: 0.5000\n",
      "Epoch 48/100\n",
      "4/4 [==============================] - 0s 26ms/step - loss: 3.6608 - accuracy: 0.6860 - val_loss: 4.7018 - val_accuracy: 0.4286\n",
      "Epoch 49/100\n",
      "4/4 [==============================] - 0s 23ms/step - loss: 3.6295 - accuracy: 0.6942 - val_loss: 4.6989 - val_accuracy: 0.4286\n",
      "Epoch 50/100\n",
      "4/4 [==============================] - 0s 22ms/step - loss: 3.5479 - accuracy: 0.6860 - val_loss: 4.6970 - val_accuracy: 0.4286\n",
      "Epoch 51/100\n",
      "4/4 [==============================] - 0s 29ms/step - loss: 3.5383 - accuracy: 0.6942 - val_loss: 4.6962 - val_accuracy: 0.4286\n",
      "Epoch 52/100\n",
      "4/4 [==============================] - 0s 27ms/step - loss: 3.5321 - accuracy: 0.6942 - val_loss: 4.6959 - val_accuracy: 0.4286\n",
      "Epoch 53/100\n",
      "4/4 [==============================] - 0s 26ms/step - loss: 3.5248 - accuracy: 0.6942 - val_loss: 4.6959 - val_accuracy: 0.4286\n",
      "Epoch 54/100\n",
      "4/4 [==============================] - 0s 24ms/step - loss: 3.5185 - accuracy: 0.6942 - val_loss: 4.6965 - val_accuracy: 0.4286\n",
      "Epoch 55/100\n",
      "4/4 [==============================] - 0s 26ms/step - loss: 3.5128 - accuracy: 0.6942 - val_loss: 4.6973 - val_accuracy: 0.4286\n",
      "Epoch 56/100\n",
      "4/4 [==============================] - 0s 21ms/step - loss: 3.5052 - accuracy: 0.6942 - val_loss: 4.7771 - val_accuracy: 0.4286\n",
      "Epoch 57/100\n",
      "4/4 [==============================] - 0s 26ms/step - loss: 3.4992 - accuracy: 0.6942 - val_loss: 4.7791 - val_accuracy: 0.4286\n",
      "Epoch 58/100\n",
      "4/4 [==============================] - 0s 27ms/step - loss: 3.4919 - accuracy: 0.6942 - val_loss: 4.7819 - val_accuracy: 0.4286\n",
      "Epoch 59/100\n"
     ]
    },
    {
     "name": "stdout",
     "output_type": "stream",
     "text": [
      "4/4 [==============================] - 0s 24ms/step - loss: 3.4814 - accuracy: 0.6942 - val_loss: 4.7857 - val_accuracy: 0.4286\n",
      "Epoch 60/100\n",
      "4/4 [==============================] - 0s 23ms/step - loss: 3.4742 - accuracy: 0.6942 - val_loss: 4.7902 - val_accuracy: 0.4286\n",
      "Epoch 61/100\n",
      "4/4 [==============================] - 0s 21ms/step - loss: 3.4610 - accuracy: 0.6942 - val_loss: 4.7960 - val_accuracy: 0.4286\n",
      "Epoch 62/100\n",
      "4/4 [==============================] - 0s 21ms/step - loss: 3.4391 - accuracy: 0.6942 - val_loss: 4.8061 - val_accuracy: 0.4286\n",
      "Epoch 63/100\n",
      "4/4 [==============================] - 0s 25ms/step - loss: 3.3899 - accuracy: 0.6942 - val_loss: 4.8176 - val_accuracy: 0.4286\n",
      "Epoch 64/100\n",
      "4/4 [==============================] - 0s 19ms/step - loss: 3.2281 - accuracy: 0.7025 - val_loss: 4.8391 - val_accuracy: 0.4286\n",
      "Epoch 65/100\n",
      "4/4 [==============================] - 0s 22ms/step - loss: 3.1320 - accuracy: 0.7025 - val_loss: 4.9434 - val_accuracy: 0.4286\n",
      "Epoch 66/100\n",
      "4/4 [==============================] - 0s 19ms/step - loss: 3.1149 - accuracy: 0.7025 - val_loss: 5.6180 - val_accuracy: 0.4286\n",
      "Epoch 67/100\n",
      "4/4 [==============================] - 0s 20ms/step - loss: 3.0300 - accuracy: 0.7025 - val_loss: 5.6025 - val_accuracy: 0.4286\n",
      "Epoch 68/100\n",
      "4/4 [==============================] - 0s 24ms/step - loss: 3.0198 - accuracy: 0.7025 - val_loss: 5.5841 - val_accuracy: 0.4286\n",
      "Epoch 69/100\n",
      "4/4 [==============================] - 0s 21ms/step - loss: 3.0049 - accuracy: 0.7025 - val_loss: 5.5623 - val_accuracy: 0.4286\n",
      "Epoch 70/100\n",
      "4/4 [==============================] - 0s 19ms/step - loss: 2.9290 - accuracy: 0.7025 - val_loss: 5.5300 - val_accuracy: 0.4286\n",
      "Epoch 71/100\n",
      "4/4 [==============================] - 0s 21ms/step - loss: 2.9210 - accuracy: 0.7025 - val_loss: 5.4813 - val_accuracy: 0.4286\n",
      "Epoch 72/100\n",
      "4/4 [==============================] - 0s 21ms/step - loss: 2.9141 - accuracy: 0.7025 - val_loss: 5.2771 - val_accuracy: 0.4286\n",
      "Epoch 73/100\n",
      "4/4 [==============================] - 0s 23ms/step - loss: 2.9085 - accuracy: 0.7025 - val_loss: 4.8355 - val_accuracy: 0.4286\n",
      "Epoch 74/100\n",
      "4/4 [==============================] - 0s 20ms/step - loss: 2.8885 - accuracy: 0.7025 - val_loss: 4.8452 - val_accuracy: 0.4286\n",
      "Epoch 75/100\n",
      "4/4 [==============================] - 0s 22ms/step - loss: 2.8154 - accuracy: 0.7025 - val_loss: 4.9100 - val_accuracy: 0.4286\n",
      "Epoch 76/100\n",
      "4/4 [==============================] - 0s 23ms/step - loss: 2.8093 - accuracy: 0.7025 - val_loss: 5.6456 - val_accuracy: 0.4286\n",
      "Epoch 77/100\n",
      "4/4 [==============================] - 0s 25ms/step - loss: 2.8039 - accuracy: 0.7025 - val_loss: 5.6345 - val_accuracy: 0.4286\n",
      "Epoch 78/100\n",
      "4/4 [==============================] - 0s 22ms/step - loss: 2.8000 - accuracy: 0.7025 - val_loss: 5.6238 - val_accuracy: 0.4286\n",
      "Epoch 79/100\n",
      "4/4 [==============================] - 0s 27ms/step - loss: 2.7965 - accuracy: 0.6942 - val_loss: 5.6147 - val_accuracy: 0.4286\n",
      "Epoch 80/100\n",
      "4/4 [==============================] - 0s 35ms/step - loss: 2.7930 - accuracy: 0.6942 - val_loss: 5.6080 - val_accuracy: 0.4286\n",
      "Epoch 81/100\n",
      "4/4 [==============================] - 0s 28ms/step - loss: 2.7909 - accuracy: 0.6942 - val_loss: 5.6020 - val_accuracy: 0.4286\n",
      "Epoch 82/100\n",
      "4/4 [==============================] - 0s 31ms/step - loss: 2.7890 - accuracy: 0.6942 - val_loss: 5.5972 - val_accuracy: 0.4286\n",
      "Epoch 83/100\n",
      "4/4 [==============================] - 0s 25ms/step - loss: 2.7873 - accuracy: 0.6942 - val_loss: 5.5935 - val_accuracy: 0.4286\n",
      "Epoch 84/100\n",
      "4/4 [==============================] - 0s 23ms/step - loss: 2.7856 - accuracy: 0.6942 - val_loss: 5.5884 - val_accuracy: 0.4286\n",
      "Epoch 85/100\n",
      "4/4 [==============================] - 0s 51ms/step - loss: 2.7827 - accuracy: 0.6942 - val_loss: 5.5850 - val_accuracy: 0.4286\n",
      "Epoch 86/100\n",
      "4/4 [==============================] - 0s 46ms/step - loss: 2.7810 - accuracy: 0.6942 - val_loss: 5.5821 - val_accuracy: 0.4286\n",
      "Epoch 87/100\n",
      "4/4 [==============================] - 0s 22ms/step - loss: 2.7781 - accuracy: 0.6942 - val_loss: 5.5793 - val_accuracy: 0.4286\n",
      "Epoch 88/100\n",
      "4/4 [==============================] - 0s 22ms/step - loss: 2.7763 - accuracy: 0.6942 - val_loss: 5.5723 - val_accuracy: 0.4286\n",
      "Epoch 89/100\n",
      "4/4 [==============================] - 0s 26ms/step - loss: 2.7727 - accuracy: 0.6942 - val_loss: 5.5658 - val_accuracy: 0.4286\n",
      "Epoch 90/100\n",
      "4/4 [==============================] - 0s 27ms/step - loss: 2.7680 - accuracy: 0.7025 - val_loss: 5.5573 - val_accuracy: 0.4286\n",
      "Epoch 91/100\n",
      "4/4 [==============================] - 0s 22ms/step - loss: 2.7624 - accuracy: 0.7025 - val_loss: 5.5444 - val_accuracy: 0.4286\n",
      "Epoch 92/100\n",
      "4/4 [==============================] - 0s 27ms/step - loss: 2.7591 - accuracy: 0.7025 - val_loss: 5.5216 - val_accuracy: 0.4286\n",
      "Epoch 93/100\n",
      "4/4 [==============================] - 0s 21ms/step - loss: 2.6715 - accuracy: 0.7107 - val_loss: 5.4951 - val_accuracy: 0.4286\n",
      "Epoch 94/100\n",
      "4/4 [==============================] - 0s 23ms/step - loss: 2.6688 - accuracy: 0.7107 - val_loss: 5.4402 - val_accuracy: 0.4286\n",
      "Epoch 95/100\n",
      "4/4 [==============================] - 0s 28ms/step - loss: 2.6585 - accuracy: 0.7107 - val_loss: 4.7269 - val_accuracy: 0.4286\n",
      "Epoch 96/100\n",
      "4/4 [==============================] - 0s 24ms/step - loss: 2.6430 - accuracy: 0.7107 - val_loss: 4.7315 - val_accuracy: 0.4286\n",
      "Epoch 97/100\n",
      "4/4 [==============================] - 0s 21ms/step - loss: 2.4948 - accuracy: 0.7107 - val_loss: 4.7331 - val_accuracy: 0.4286\n",
      "Epoch 98/100\n",
      "4/4 [==============================] - 0s 27ms/step - loss: 2.4943 - accuracy: 0.7107 - val_loss: 4.7286 - val_accuracy: 0.4286\n",
      "Epoch 99/100\n",
      "4/4 [==============================] - 0s 23ms/step - loss: 2.5001 - accuracy: 0.7107 - val_loss: 4.7193 - val_accuracy: 0.4286\n",
      "Epoch 100/100\n",
      "4/4 [==============================] - 0s 22ms/step - loss: 2.4956 - accuracy: 0.7025 - val_loss: 4.7055 - val_accuracy: 0.4286\n"
     ]
    }
   ],
   "source": [
    "# run you training, pass the training data, training labels, validation data, set batch size to 32 and epochs to 100\n",
    "history = model.fit(x=X_train, y=y_train, validation_data=(X_val, y_val), batch_size=32, epochs=100)"
   ]
  },
  {
   "cell_type": "code",
   "execution_count": 5,
   "metadata": {
    "colab": {
     "base_uri": "https://localhost:8080/",
     "height": 282
    },
    "id": "Cj9mpQrTI12G",
    "outputId": "0f07a3cd-aae5-43c7-a1f7-0a3ca063c6aa"
   },
   "outputs": [
    {
     "data": {
      "image/png": "[encoded data removed]",
      "text/plain": [
       "<Figure size 640x480 with 1 Axes>"
      ]
     },
     "metadata": {},
     "output_type": "display_data"
    }
   ],
   "source": [
    "# if you create a dataframe using the history.history object you can easily plot the learning curves by using the plot method.\n",
    "# Try it out\n",
    "\n",
    "df = pd.DataFrame(history.history).plot()\n",
    "\n",
    "# if you are not sure how to do it see the tutorial:\n",
    "# https://machinelearningmastery.com/display-deep-learning-model-training-history-in-keras/"
   ]
  },
  {
   "cell_type": "markdown",
   "metadata": {
    "id": "woWBeQ2QDq0W"
   },
   "source": [
    "# Model usage"
   ]
  },
  {
   "cell_type": "markdown",
   "metadata": {
    "id": "6esCRXKyJ2U6"
   },
   "source": [
    "If you want to make predictions an the test set, simplu use the predict method.\n",
    "\n",
    "\n",
    "\n",
    "```\n",
    "predict(\n",
    "    x,\n",
    "    batch_size=None,\n",
    "    verbose='auto',\n",
    "    steps=None,\n",
    "    callbacks=None,\n",
    "    max_queue_size=10,\n",
    "    workers=1,\n",
    "    use_multiprocessing=False\n",
    ")\n",
    "```\n",
    "\n",
    "The only argument you should care about is the x - your data\n"
   ]
  },
  {
   "cell_type": "code",
   "execution_count": 6,
   "metadata": {
    "colab": {
     "base_uri": "https://localhost:8080/"
    },
    "id": "Y5yGp7jHKIRX",
    "outputId": "429909bf-86e4-41dd-e6ed-00d6dbfda17e"
   },
   "outputs": [
    {
     "name": "stdout",
     "output_type": "stream",
     "text": [
      "1/1 [==============================] - 0s 154ms/step\n"
     ]
    },
    {
     "data": {
      "text/plain": [
       "array([[-3.04337   ,  0.28848678,  0.45714125],\n",
       "       [ 2.0323935 , -0.17484705, -1.15469   ],\n",
       "       [-4.0203648 ,  0.6770626 ,  0.3116177 ],\n",
       "       [-2.4495769 ,  0.37252533,  0.43183812],\n",
       "       [ 2.1243176 , -0.5394298 , -1.0301987 ],\n",
       "       [-1.029856  , -0.30028486,  0.29016337],\n",
       "       [-0.71887153, -0.75901014,  0.5214366 ],\n",
       "       [-1.2576743 , -0.36931303,  0.26647773],\n",
       "       [-2.337594  , -0.19111171,  0.6362505 ],\n",
       "       [-1.6823395 , -0.17538178,  0.20212433],\n",
       "       [-3.62139   ,  0.4624954 ,  0.60731244],\n",
       "       [-1.5773914 ,  0.47065234, -0.33561027],\n",
       "       [ 1.2766597 ,  0.13245304, -1.0763266 ],\n",
       "       [-0.73430866, -0.55809534,  0.14147267],\n",
       "       [-0.8866415 ,  0.08641307, -0.30985153]], dtype=float32)"
      ]
     },
     "execution_count": 6,
     "metadata": {},
     "output_type": "execute_result"
    }
   ],
   "source": [
    "# make predictions on the test set\n",
    "\n",
    "predictions = model.predict(X_test)\n",
    "predictions # logits\n",
    "# klasyfukuje na taka klase, na ktorej predykcja jest najsilniejsza,\n",
    "# kaza z kolumn to jedna klasa - neuron"
   ]
  },
  {
   "cell_type": "markdown",
   "metadata": {
    "id": "JzADOL-FDt50"
   },
   "source": [
    "# Model evaluation"
   ]
  },
  {
   "cell_type": "markdown",
   "metadata": {
    "id": "XTyQt3RWNPiM"
   },
   "source": [
    "To evaluate your model, use the evaluate method. It will print the loss function value first and the metrics you passed to the model while compiling it.\n",
    "\n",
    "\n",
    "```\n",
    "evaluate(\n",
    "    x=None,\n",
    "    y=None,\n",
    "    batch_size=None,\n",
    "    verbose='auto',\n",
    "    sample_weight=None,\n",
    "    steps=None,\n",
    "    callbacks=None,\n",
    "    max_queue_size=10,\n",
    "    workers=1,\n",
    "    use_multiprocessing=False,\n",
    "    return_dict=False,\n",
    "    **kwargs\n",
    ")\n",
    "```\n",
    "\n",
    "Again, the only parameters you need to pass, and really care baout, are x and y\n",
    "\n",
    "\n",
    "\n",
    "\n"
   ]
  },
  {
   "cell_type": "code",
   "execution_count": 7,
   "metadata": {
    "colab": {
     "base_uri": "https://localhost:8080/"
    },
    "id": "_ydHWzeNC-6s",
    "outputId": "fce895f1-22b6-44b9-b183-d8fec0244fe3"
   },
   "outputs": [
    {
     "name": "stdout",
     "output_type": "stream",
     "text": [
      "1/1 [==============================] - 0s 51ms/step - loss: 2.1276 - accuracy: 0.8000\n"
     ]
    },
    {
     "data": {
      "text/plain": [
       "[2.1276326179504395, 0.800000011920929]"
      ]
     },
     "execution_count": 7,
     "metadata": {},
     "output_type": "execute_result"
    }
   ],
   "source": [
    "# evaluate your model using the test set\n",
    "\n",
    "model.evaluate(X_test, y_test)"
   ]
  },
  {
   "cell_type": "code",
   "execution_count": null,
   "metadata": {},
   "outputs": [],
   "source": []
  }
 ],
 "metadata": {
  "colab": {
   "provenance": []
  },
  "kernelspec": {
   "display_name": "Python 3 (ipykernel)",
   "language": "python",
   "name": "python3"
  },
  "language_info": {
   "codemirror_mode": {
    "name": "ipython",
    "version": 3
   },
   "file_extension": ".py",
   "mimetype": "text/x-python",
   "name": "python",
   "nbconvert_exporter": "python",
   "pygments_lexer": "ipython3",
   "version": "3.11.2"
  }
 },
 "nbformat": 4,
 "nbformat_minor": 1
}
