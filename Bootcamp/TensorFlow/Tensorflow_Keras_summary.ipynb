{
 "cells": [
  {
   "cell_type": "markdown",
   "metadata": {
    "id": "eH96vadX2Nww"
   },
   "source": [
    "# Tensorflow - podstawy\n",
    "\n",
    "\n",
    "Podstawowym typem danych są Tensory.\n",
    "\n",
    "Definiowanie tensorów na najniższym poziomie nie wiele różni się od definiowania tablic biblioteki numpy.\n",
    "\n",
    "\n",
    "Biblioteka Tensorflow udostępnia narzędzia do automatycznego liczenia pochodnej, co pomaga w optymalizacji modeli.\n",
    "\n",
    "\n",
    "# Definiowanie Modeli\n",
    "\n",
    "Mamy 3 podstawowe metody definiowania modeli.\n",
    "\n",
    "Sequential API:\n",
    "* modele sekwencyjne - buidowanie sieci z warstw o strukturze listy.\n",
    "\n",
    "Functional API\n",
    "* model funkcyjny - tutaj mamy już większą dowolność w łączeniu warstw. \n",
    "* jest też nieco trudniej ale elastyczniej\n",
    "* modele przyjmują niemal każdą strukturę\n",
    "* warstwy sieci traktujemy jak funkcje - stąd nazwa\n",
    "* każda wartwa musi być zapisana do zmiennej\n",
    "\n",
    "Model subclassing\n",
    "\n",
    "* najtrudniejsza opcja, ale też dająca pełen zakres możliwości\n",
    "* polega na tworzeniu własnej klasy np. `MyModel` dziedziczącej po `tf.keras.Model`\n",
    "* umożliwa np. wielokrotne użycie tej samej warstwy\n",
    "* bardzo często używane w praktyce podejście, wiodące w innych bibliotekach do definiowania sieci neuronowych\n",
    "\n",
    "# Pewne użyteczne metody/fukcje dla modeli\n",
    "\n",
    "* `model.summary()` drukuje schemat sieci w postaci bloku z informacjami o nazwach warstw, strukturze połączeń, liczbie wag i rozmiarach między warstwami.\n",
    "* `tf.keras.utils.plot_model()` grafika reprezuntująca strukturę modelu\n",
    "\n",
    "# Cykl życia modelu\n",
    "\n",
    "1. **Definiowanie** modelu (na jeden z opisanych wyżej sposobów)\n",
    "2. **Kompilowanie** modelu - za pomocą metody `model.compile(...)`. Na tym etapie powinniśmy:\n",
    "* podać odpowiednią funkcję straty\n",
    "* określić jak będziemy optymalizować model podając wybrany optymalizator\n",
    "* określić metryki dla modelu\n",
    "\n",
    "* funkcja straty - jest jedna, funkcję straty minimalizujemy, jest dla komputera, łatwa dla komputera do policzenia pochodnej, musi dobrze pasować pod optymalizator, mui dobrze pracować z algorytmem optymalizacji\n",
    "* metryki - jest wiele, metryki optymalizują się pośrednio, są dla nas, metryka nie musi mieć pochodnej, musi być łątwo interpretowalna przez człowieka, zazwyczaj wyrażona w procentach\n",
    "3. **Trenowanie** modelu - za pomocą metody `model.fit()`. Na tym etapie podajemy:\n",
    "* dane treningowe - x i y osobno lub razem w postaci obiektu `tf.data.Dataset`\n",
    "* dane walidacyjne - zawsze razem, albo w postaci tupli albo w postaci obiektu\n",
    "* liczbę epok\n",
    "* rozmiar batcha, jeśli nasze dane nie są już podzielone na batche\n",
    "* dodatkowe funkcje do wykonania w trakcie treningu\n",
    "* można też podać wiele więcej\n",
    "4. **Evaluacja** modelu na zbiorze testowym metodą `model.evaluate(...)`\n",
    "5. **Inferencja** metodą `model.predict(...)`\n",
    "\n"
   ]
  },
  {
   "cell_type": "code",
   "execution_count": null,
   "metadata": {
    "id": "0EJQ-kQN7-Io"
   },
   "outputs": [],
   "source": []
  }
 ],
 "metadata": {
  "colab": {
   "provenance": []
  },
  "kernelspec": {
   "display_name": "Python 3 (ipykernel)",
   "language": "python",
   "name": "python3"
  },
  "language_info": {
   "codemirror_mode": {
    "name": "ipython",
    "version": 3
   },
   "file_extension": ".py",
   "mimetype": "text/x-python",
   "name": "python",
   "nbconvert_exporter": "python",
   "pygments_lexer": "ipython3",
   "version": "3.11.2"
  }
 },
 "nbformat": 4,
 "nbformat_minor": 1
}
