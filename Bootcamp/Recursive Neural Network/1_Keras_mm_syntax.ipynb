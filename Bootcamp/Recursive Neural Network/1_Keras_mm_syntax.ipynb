{
 "cells": [
  {
   "cell_type": "code",
   "execution_count": 3,
   "id": "77327bc7",
   "metadata": {},
   "outputs": [],
   "source": [
    "import numpy as np\n",
    "import tensorflow as tf\n",
    "from tensorflow import keras\n",
    "from tensorflow.keras import layers\n",
    "import matplotlib.pyplot as plt"
   ]
  },
  {
   "cell_type": "code",
   "execution_count": 4,
   "id": "7f787a65",
   "metadata": {},
   "outputs": [],
   "source": [
    "def factorial_loop(n):\n",
    "    result = 1\n",
    "    for number in range(n):\n",
    "        result *=(number +1)\n",
    "    return result"
   ]
  },
  {
   "cell_type": "code",
   "execution_count": 5,
   "id": "be86df92",
   "metadata": {},
   "outputs": [
    {
     "data": {
      "text/plain": [
       "720"
      ]
     },
     "execution_count": 5,
     "metadata": {},
     "output_type": "execute_result"
    }
   ],
   "source": [
    "factorial_loop(6)"
   ]
  },
  {
   "cell_type": "code",
   "execution_count": 6,
   "id": "e13cdf38",
   "metadata": {},
   "outputs": [],
   "source": [
    "# rekurencja\n",
    "def factorial(n):\n",
    "    if n ==1:\n",
    "        return 1\n",
    "    else:\n",
    "        return n* factorial(n-1)"
   ]
  },
  {
   "cell_type": "code",
   "execution_count": 7,
   "id": "6638b2be",
   "metadata": {},
   "outputs": [
    {
     "data": {
      "text/plain": [
       "720"
      ]
     },
     "execution_count": 7,
     "metadata": {},
     "output_type": "execute_result"
    }
   ],
   "source": [
    "factorial(6)"
   ]
  },
  {
   "cell_type": "code",
   "execution_count": 8,
   "id": "053ec8b2",
   "metadata": {},
   "outputs": [],
   "source": [
    "#fibonnaci\n",
    "def fibb(n):\n",
    "    if n == 1:\n",
    "        return 1\n",
    "    elif n == 2:\n",
    "        return 1\n",
    "    else:\n",
    "        return fibb(n-1) + fibb(n-2)"
   ]
  },
  {
   "cell_type": "code",
   "execution_count": 10,
   "id": "ddcac86e",
   "metadata": {},
   "outputs": [
    {
     "data": {
      "text/plain": [
       "8"
      ]
     },
     "execution_count": 10,
     "metadata": {},
     "output_type": "execute_result"
    }
   ],
   "source": [
    "fibb(6)"
   ]
  },
  {
   "cell_type": "markdown",
   "id": "21287dd0",
   "metadata": {},
   "source": [
    "# Generowanie danych\n",
    "Na poczatek wygenerujemy przykładowe dane. Niech będzie to pomiar pewnej wartości. Dane powinnny mieć format 1xTx1 gdzie T to ilość próbek."
   ]
  },
  {
   "cell_type": "code",
   "execution_count": null,
   "id": "a3f43e35",
   "metadata": {},
   "outputs": [],
   "source": [
    "T = 300\n",
    "time"
   ]
  }
 ],
 "metadata": {
  "kernelspec": {
   "display_name": "Python 3 (ipykernel)",
   "language": "python",
   "name": "python3"
  },
  "language_info": {
   "codemirror_mode": {
    "name": "ipython",
    "version": 3
   },
   "file_extension": ".py",
   "mimetype": "text/x-python",
   "name": "python",
   "nbconvert_exporter": "python",
   "pygments_lexer": "ipython3",
   "version": "3.11.2"
  }
 },
 "nbformat": 4,
 "nbformat_minor": 5
}
