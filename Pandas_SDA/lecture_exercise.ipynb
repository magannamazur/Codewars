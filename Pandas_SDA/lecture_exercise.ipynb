{
 "cells": [
  {
   "cell_type": "code",
   "execution_count": 1,
   "id": "a2c692ba",
   "metadata": {},
   "outputs": [],
   "source": [
    "import pandas as pd\n",
    "import numpy as np"
   ]
  },
  {
   "cell_type": "code",
   "execution_count": 3,
   "id": "ee6be40a",
   "metadata": {},
   "outputs": [
    {
     "data": {
      "text/plain": [
       "'1.5.3'"
      ]
     },
     "execution_count": 3,
     "metadata": {},
     "output_type": "execute_result"
    }
   ],
   "source": [
    "pd.__version__"
   ]
  },
  {
   "cell_type": "code",
   "execution_count": 9,
   "id": "b4aa2b41",
   "metadata": {},
   "outputs": [
    {
     "data": {
      "text/plain": [
       "(None, nan)"
      ]
     },
     "execution_count": 9,
     "metadata": {},
     "output_type": "execute_result"
    }
   ],
   "source": [
    "None,np.nan # np.nan - jest zmiennoprzecinkowa"
   ]
  },
  {
   "cell_type": "code",
   "execution_count": 6,
   "id": "484cb7fb",
   "metadata": {},
   "outputs": [
    {
     "data": {
      "text/plain": [
       "0    1.0\n",
       "1    3.0\n",
       "2    4.0\n",
       "3    NaN\n",
       "4    6.0\n",
       "5    8.0\n",
       "dtype: float64"
      ]
     },
     "execution_count": 6,
     "metadata": {},
     "output_type": "execute_result"
    }
   ],
   "source": [
    "s = pd.Series([1,3,4,np.nan,6,8]) #lista\n",
    "s"
   ]
  },
  {
   "cell_type": "code",
   "execution_count": 7,
   "id": "9009a1e4",
   "metadata": {},
   "outputs": [
    {
     "data": {
      "text/plain": [
       "pandas.core.series.Series"
      ]
     },
     "execution_count": 7,
     "metadata": {},
     "output_type": "execute_result"
    }
   ],
   "source": [
    "type(s)"
   ]
  },
  {
   "cell_type": "code",
   "execution_count": 12,
   "id": "2fa26463",
   "metadata": {},
   "outputs": [
    {
     "data": {
      "text/plain": [
       "DatetimeIndex(['2013-01-01', '2013-01-02', '2013-01-03', '2013-01-04',\n",
       "               '2013-01-05', '2013-01-06'],\n",
       "              dtype='datetime64[ns]', freq='D')"
      ]
     },
     "execution_count": 12,
     "metadata": {},
     "output_type": "execute_result"
    }
   ],
   "source": [
    "dates = pd.date_range('20130101', periods =6)\n",
    "dates"
   ]
  },
  {
   "cell_type": "code",
   "execution_count": 11,
   "id": "a3204327",
   "metadata": {},
   "outputs": [
    {
     "data": {
      "text/plain": [
       "pandas.core.indexes.datetimes.DatetimeIndex"
      ]
     },
     "execution_count": 11,
     "metadata": {},
     "output_type": "execute_result"
    }
   ],
   "source": [
    "type(dates)"
   ]
  },
  {
   "cell_type": "code",
   "execution_count": 17,
   "id": "c0fe2c27",
   "metadata": {},
   "outputs": [
    {
     "data": {
      "text/html": [
       "<div>\n",
       "<style scoped>\n",
       "    .dataframe tbody tr th:only-of-type {\n",
       "        vertical-align: middle;\n",
       "    }\n",
       "\n",
       "    .dataframe tbody tr th {\n",
       "        vertical-align: top;\n",
       "    }\n",
       "\n",
       "    .dataframe thead th {\n",
       "        text-align: right;\n",
       "    }\n",
       "</style>\n",
       "<table border=\"1\" class=\"dataframe\">\n",
       "  <thead>\n",
       "    <tr style=\"text-align: right;\">\n",
       "      <th></th>\n",
       "      <th>A</th>\n",
       "      <th>B</th>\n",
       "    </tr>\n",
       "  </thead>\n",
       "  <tbody>\n",
       "    <tr>\n",
       "      <th>0</th>\n",
       "      <td>1</td>\n",
       "      <td>4</td>\n",
       "    </tr>\n",
       "    <tr>\n",
       "      <th>1</th>\n",
       "      <td>2</td>\n",
       "      <td>5</td>\n",
       "    </tr>\n",
       "    <tr>\n",
       "      <th>2</th>\n",
       "      <td>3</td>\n",
       "      <td>6</td>\n",
       "    </tr>\n",
       "  </tbody>\n",
       "</table>\n",
       "</div>"
      ],
      "text/plain": [
       "   A  B\n",
       "0  1  4\n",
       "1  2  5\n",
       "2  3  6"
      ]
     },
     "execution_count": 17,
     "metadata": {},
     "output_type": "execute_result"
    }
   ],
   "source": [
    "df = pd.DataFrame({'A':[1,2,3],\n",
    "                  'B':[4,5,6]})\n",
    "df"
   ]
  },
  {
   "cell_type": "code",
   "execution_count": 18,
   "id": "52bf5891",
   "metadata": {},
   "outputs": [
    {
     "data": {
      "text/plain": [
       "pandas.core.frame.DataFrame"
      ]
     },
     "execution_count": 18,
     "metadata": {},
     "output_type": "execute_result"
    }
   ],
   "source": [
    "type(df)"
   ]
  },
  {
   "cell_type": "code",
   "execution_count": 65,
   "id": "7be5fa68",
   "metadata": {},
   "outputs": [
    {
     "data": {
      "text/html": [
       "<div>\n",
       "<style scoped>\n",
       "    .dataframe tbody tr th:only-of-type {\n",
       "        vertical-align: middle;\n",
       "    }\n",
       "\n",
       "    .dataframe tbody tr th {\n",
       "        vertical-align: top;\n",
       "    }\n",
       "\n",
       "    .dataframe thead th {\n",
       "        text-align: right;\n",
       "    }\n",
       "</style>\n",
       "<table border=\"1\" class=\"dataframe\">\n",
       "  <thead>\n",
       "    <tr style=\"text-align: right;\">\n",
       "      <th></th>\n",
       "      <th>A</th>\n",
       "      <th>B</th>\n",
       "      <th>C</th>\n",
       "      <th>D</th>\n",
       "    </tr>\n",
       "  </thead>\n",
       "  <tbody>\n",
       "    <tr>\n",
       "      <th>2013-01-01</th>\n",
       "      <td>0.193275</td>\n",
       "      <td>-0.133109</td>\n",
       "      <td>0.013696</td>\n",
       "      <td>0.761218</td>\n",
       "    </tr>\n",
       "    <tr>\n",
       "      <th>2013-01-02</th>\n",
       "      <td>-1.656763</td>\n",
       "      <td>-0.124516</td>\n",
       "      <td>-0.093946</td>\n",
       "      <td>-0.095457</td>\n",
       "    </tr>\n",
       "    <tr>\n",
       "      <th>2013-01-03</th>\n",
       "      <td>0.831219</td>\n",
       "      <td>-1.237616</td>\n",
       "      <td>-0.156205</td>\n",
       "      <td>-1.449449</td>\n",
       "    </tr>\n",
       "    <tr>\n",
       "      <th>2013-01-04</th>\n",
       "      <td>-0.292412</td>\n",
       "      <td>0.172284</td>\n",
       "      <td>0.314251</td>\n",
       "      <td>-0.994351</td>\n",
       "    </tr>\n",
       "    <tr>\n",
       "      <th>2013-01-05</th>\n",
       "      <td>0.235916</td>\n",
       "      <td>-0.625086</td>\n",
       "      <td>0.362070</td>\n",
       "      <td>1.782928</td>\n",
       "    </tr>\n",
       "    <tr>\n",
       "      <th>2013-01-06</th>\n",
       "      <td>-0.418294</td>\n",
       "      <td>-0.284447</td>\n",
       "      <td>-0.041210</td>\n",
       "      <td>0.077003</td>\n",
       "    </tr>\n",
       "  </tbody>\n",
       "</table>\n",
       "</div>"
      ],
      "text/plain": [
       "                   A         B         C         D\n",
       "2013-01-01  0.193275 -0.133109  0.013696  0.761218\n",
       "2013-01-02 -1.656763 -0.124516 -0.093946 -0.095457\n",
       "2013-01-03  0.831219 -1.237616 -0.156205 -1.449449\n",
       "2013-01-04 -0.292412  0.172284  0.314251 -0.994351\n",
       "2013-01-05  0.235916 -0.625086  0.362070  1.782928\n",
       "2013-01-06 -0.418294 -0.284447 -0.041210  0.077003"
      ]
     },
     "execution_count": 65,
     "metadata": {},
     "output_type": "execute_result"
    }
   ],
   "source": [
    "df = pd.DataFrame(np.random.randn(6,4),\n",
    "                 index=dates,\n",
    "                 columns =list('ABCD'))\n",
    "df"
   ]
  },
  {
   "cell_type": "code",
   "execution_count": 22,
   "id": "7a942712",
   "metadata": {},
   "outputs": [
    {
     "data": {
      "text/plain": [
       "array([[ 0.50655447,  0.44203963,  0.65850916,  0.10734922],\n",
       "       [ 0.00519433, -2.26612183, -0.91280369, -0.19486448],\n",
       "       [ 0.82825871,  1.38062422, -1.04215087, -0.18837006],\n",
       "       [ 1.51443609, -1.48306582, -0.56856706, -1.79733474],\n",
       "       [-0.18426356, -0.61389694, -2.4464107 ,  0.43978299],\n",
       "       [ 0.69149574, -0.70288865,  0.29311771,  0.58422928]])"
      ]
     },
     "execution_count": 22,
     "metadata": {},
     "output_type": "execute_result"
    }
   ],
   "source": [
    "np.random.randn(6,4)"
   ]
  },
  {
   "cell_type": "code",
   "execution_count": 23,
   "id": "0af7f339",
   "metadata": {},
   "outputs": [
    {
     "data": {
      "text/plain": [
       "numpy.ndarray"
      ]
     },
     "execution_count": 23,
     "metadata": {},
     "output_type": "execute_result"
    }
   ],
   "source": [
    "type(np.random.randn(6,4))"
   ]
  },
  {
   "cell_type": "code",
   "execution_count": 25,
   "id": "34f19563",
   "metadata": {},
   "outputs": [
    {
     "data": {
      "text/html": [
       "<div>\n",
       "<style scoped>\n",
       "    .dataframe tbody tr th:only-of-type {\n",
       "        vertical-align: middle;\n",
       "    }\n",
       "\n",
       "    .dataframe tbody tr th {\n",
       "        vertical-align: top;\n",
       "    }\n",
       "\n",
       "    .dataframe thead th {\n",
       "        text-align: right;\n",
       "    }\n",
       "</style>\n",
       "<table border=\"1\" class=\"dataframe\">\n",
       "  <thead>\n",
       "    <tr style=\"text-align: right;\">\n",
       "      <th></th>\n",
       "      <th>A</th>\n",
       "      <th>B</th>\n",
       "      <th>C</th>\n",
       "      <th>D</th>\n",
       "      <th>E</th>\n",
       "      <th>F</th>\n",
       "      <th>G</th>\n",
       "    </tr>\n",
       "  </thead>\n",
       "  <tbody>\n",
       "    <tr>\n",
       "      <th>0</th>\n",
       "      <td>1.0</td>\n",
       "      <td>2013-01-02</td>\n",
       "      <td>1.0</td>\n",
       "      <td>3</td>\n",
       "      <td>test</td>\n",
       "      <td>foo</td>\n",
       "      <td>False</td>\n",
       "    </tr>\n",
       "    <tr>\n",
       "      <th>1</th>\n",
       "      <td>1.0</td>\n",
       "      <td>2013-01-02</td>\n",
       "      <td>1.0</td>\n",
       "      <td>3</td>\n",
       "      <td>train</td>\n",
       "      <td>foo</td>\n",
       "      <td>True</td>\n",
       "    </tr>\n",
       "    <tr>\n",
       "      <th>2</th>\n",
       "      <td>1.0</td>\n",
       "      <td>2013-01-02</td>\n",
       "      <td>1.0</td>\n",
       "      <td>3</td>\n",
       "      <td>test</td>\n",
       "      <td>foo</td>\n",
       "      <td>True</td>\n",
       "    </tr>\n",
       "    <tr>\n",
       "      <th>3</th>\n",
       "      <td>1.0</td>\n",
       "      <td>2013-01-02</td>\n",
       "      <td>1.0</td>\n",
       "      <td>3</td>\n",
       "      <td>train</td>\n",
       "      <td>foo</td>\n",
       "      <td>False</td>\n",
       "    </tr>\n",
       "  </tbody>\n",
       "</table>\n",
       "</div>"
      ],
      "text/plain": [
       "     A          B    C  D      E    F      G\n",
       "0  1.0 2013-01-02  1.0  3   test  foo  False\n",
       "1  1.0 2013-01-02  1.0  3  train  foo   True\n",
       "2  1.0 2013-01-02  1.0  3   test  foo   True\n",
       "3  1.0 2013-01-02  1.0  3  train  foo  False"
      ]
     },
     "execution_count": 25,
     "metadata": {},
     "output_type": "execute_result"
    }
   ],
   "source": [
    "df2 = pd.DataFrame({\n",
    "                    'A': 1.,\n",
    "                    'B': pd.Timestamp('20130102'),\n",
    "                    'C': pd.Series(1, index=list(range(4)), dtype='float32'),\n",
    "                    'D': np.array([3] * 4, dtype='int32'),\n",
    "                    'E': pd.Categorical([\"test\", \"train\", \"test\", \"train\"]),\n",
    "                    'F': 'foo',\n",
    "                    'G' : [False, True,True,False]\n",
    "                   })\n",
    "df2"
   ]
  },
  {
   "cell_type": "code",
   "execution_count": 26,
   "id": "e54ea778",
   "metadata": {},
   "outputs": [
    {
     "name": "stdout",
     "output_type": "stream",
     "text": [
      "<class 'pandas.core.frame.DataFrame'>\n",
      "Int64Index: 4 entries, 0 to 3\n",
      "Data columns (total 7 columns):\n",
      " #   Column  Non-Null Count  Dtype         \n",
      "---  ------  --------------  -----         \n",
      " 0   A       4 non-null      float64       \n",
      " 1   B       4 non-null      datetime64[ns]\n",
      " 2   C       4 non-null      float32       \n",
      " 3   D       4 non-null      int32         \n",
      " 4   E       4 non-null      category      \n",
      " 5   F       4 non-null      object        \n",
      " 6   G       4 non-null      bool          \n",
      "dtypes: bool(1), category(1), datetime64[ns](1), float32(1), float64(1), int32(1), object(1)\n",
      "memory usage: 292.0+ bytes\n"
     ]
    }
   ],
   "source": [
    "df2.info()"
   ]
  },
  {
   "cell_type": "code",
   "execution_count": 27,
   "id": "221fe38d",
   "metadata": {},
   "outputs": [
    {
     "data": {
      "text/plain": [
       "pandas._libs.tslibs.timestamps.Timestamp"
      ]
     },
     "execution_count": 27,
     "metadata": {},
     "output_type": "execute_result"
    }
   ],
   "source": [
    "type(pd.Timestamp('20130102'))"
   ]
  },
  {
   "cell_type": "code",
   "execution_count": 29,
   "id": "18d35cb9",
   "metadata": {},
   "outputs": [
    {
     "data": {
      "text/plain": [
       "numpy.datetime64('2013-01-02T00:00:00.000000000')"
      ]
     },
     "execution_count": 29,
     "metadata": {},
     "output_type": "execute_result"
    }
   ],
   "source": [
    "df2['B'].values[0] # wartość kolumny B, wiersza 0"
   ]
  },
  {
   "cell_type": "code",
   "execution_count": 30,
   "id": "cef23670",
   "metadata": {},
   "outputs": [
    {
     "data": {
      "text/plain": [
       "list"
      ]
     },
     "execution_count": 30,
     "metadata": {},
     "output_type": "execute_result"
    }
   ],
   "source": [
    "type([False, True,True,False])"
   ]
  },
  {
   "cell_type": "code",
   "execution_count": 32,
   "id": "d60fe326",
   "metadata": {},
   "outputs": [
    {
     "data": {
      "text/plain": [
       "False"
      ]
     },
     "execution_count": 32,
     "metadata": {},
     "output_type": "execute_result"
    }
   ],
   "source": [
    "df2['G'].values[0] # wartość kolumny G, wiersza 0"
   ]
  },
  {
   "cell_type": "code",
   "execution_count": 36,
   "id": "af189c2e",
   "metadata": {},
   "outputs": [
    {
     "data": {
      "text/html": [
       "<div>\n",
       "<style scoped>\n",
       "    .dataframe tbody tr th:only-of-type {\n",
       "        vertical-align: middle;\n",
       "    }\n",
       "\n",
       "    .dataframe tbody tr th {\n",
       "        vertical-align: top;\n",
       "    }\n",
       "\n",
       "    .dataframe thead th {\n",
       "        text-align: right;\n",
       "    }\n",
       "</style>\n",
       "<table border=\"1\" class=\"dataframe\">\n",
       "  <thead>\n",
       "    <tr style=\"text-align: right;\">\n",
       "      <th></th>\n",
       "      <th>A</th>\n",
       "      <th>B</th>\n",
       "    </tr>\n",
       "  </thead>\n",
       "  <tbody>\n",
       "    <tr>\n",
       "      <th>0</th>\n",
       "      <td>1</td>\n",
       "      <td>4</td>\n",
       "    </tr>\n",
       "    <tr>\n",
       "      <th>1</th>\n",
       "      <td>2</td>\n",
       "      <td>5</td>\n",
       "    </tr>\n",
       "    <tr>\n",
       "      <th>2</th>\n",
       "      <td>3</td>\n",
       "      <td>6</td>\n",
       "    </tr>\n",
       "  </tbody>\n",
       "</table>\n",
       "</div>"
      ],
      "text/plain": [
       "   A  B\n",
       "0  1  4\n",
       "1  2  5\n",
       "2  3  6"
      ]
     },
     "execution_count": 36,
     "metadata": {},
     "output_type": "execute_result"
    }
   ],
   "source": [
    "df = pd.DataFrame({'A':[1,'2',3],\n",
    "                  'B':[4,5,6]})\n",
    "df"
   ]
  },
  {
   "cell_type": "code",
   "execution_count": 38,
   "id": "18314ef1",
   "metadata": {},
   "outputs": [
    {
     "name": "stdout",
     "output_type": "stream",
     "text": [
      "<class 'pandas.core.frame.DataFrame'>\n",
      "RangeIndex: 3 entries, 0 to 2\n",
      "Data columns (total 2 columns):\n",
      " #   Column  Non-Null Count  Dtype \n",
      "---  ------  --------------  ----- \n",
      " 0   A       3 non-null      object\n",
      " 1   B       3 non-null      int64 \n",
      "dtypes: int64(1), object(1)\n",
      "memory usage: 180.0+ bytes\n"
     ]
    }
   ],
   "source": [
    "df.info() # type object utożsamiamy ze stringiem, pod stringiem może być wszystko"
   ]
  },
  {
   "cell_type": "code",
   "execution_count": null,
   "id": "efaa59bd",
   "metadata": {},
   "outputs": [],
   "source": [
    "df['A'].sum() # nie może policzyć, bo 2 jest stringiem/obiektem a nie int/float"
   ]
  },
  {
   "cell_type": "code",
   "execution_count": 43,
   "id": "a9e6c9ff",
   "metadata": {},
   "outputs": [
    {
     "data": {
      "text/html": [
       "<div>\n",
       "<style scoped>\n",
       "    .dataframe tbody tr th:only-of-type {\n",
       "        vertical-align: middle;\n",
       "    }\n",
       "\n",
       "    .dataframe tbody tr th {\n",
       "        vertical-align: top;\n",
       "    }\n",
       "\n",
       "    .dataframe thead th {\n",
       "        text-align: right;\n",
       "    }\n",
       "</style>\n",
       "<table border=\"1\" class=\"dataframe\">\n",
       "  <thead>\n",
       "    <tr style=\"text-align: right;\">\n",
       "      <th></th>\n",
       "      <th>DZIEN_DATA</th>\n",
       "      <th>SKL_ID</th>\n",
       "      <th>TOW_ID</th>\n",
       "      <th>SPRZ_NETTO</th>\n",
       "      <th>ZYSK_PROCENT</th>\n",
       "      <th>ZYSK_WART</th>\n",
       "    </tr>\n",
       "  </thead>\n",
       "  <tbody>\n",
       "    <tr>\n",
       "      <th>0</th>\n",
       "      <td>01.05.2022</td>\n",
       "      <td>1</td>\n",
       "      <td>1</td>\n",
       "      <td>416.0</td>\n",
       "      <td>9</td>\n",
       "      <td>37,44</td>\n",
       "    </tr>\n",
       "    <tr>\n",
       "      <th>1</th>\n",
       "      <td>02.05.2022</td>\n",
       "      <td>1</td>\n",
       "      <td>1</td>\n",
       "      <td>454.0</td>\n",
       "      <td>2</td>\n",
       "      <td>9,08</td>\n",
       "    </tr>\n",
       "    <tr>\n",
       "      <th>2</th>\n",
       "      <td>03.05.2022</td>\n",
       "      <td>1</td>\n",
       "      <td>1</td>\n",
       "      <td>392.0</td>\n",
       "      <td>13</td>\n",
       "      <td>50,96</td>\n",
       "    </tr>\n",
       "    <tr>\n",
       "      <th>3</th>\n",
       "      <td>04.05.2022</td>\n",
       "      <td>1</td>\n",
       "      <td>1</td>\n",
       "      <td>498.0</td>\n",
       "      <td>9</td>\n",
       "      <td>44,82</td>\n",
       "    </tr>\n",
       "    <tr>\n",
       "      <th>4</th>\n",
       "      <td>05.05.2022</td>\n",
       "      <td>1</td>\n",
       "      <td>1</td>\n",
       "      <td>341.0</td>\n",
       "      <td>15</td>\n",
       "      <td>51,15</td>\n",
       "    </tr>\n",
       "    <tr>\n",
       "      <th>...</th>\n",
       "      <td>...</td>\n",
       "      <td>...</td>\n",
       "      <td>...</td>\n",
       "      <td>...</td>\n",
       "      <td>...</td>\n",
       "      <td>...</td>\n",
       "    </tr>\n",
       "    <tr>\n",
       "      <th>130</th>\n",
       "      <td>11.05.2022</td>\n",
       "      <td>3</td>\n",
       "      <td>3</td>\n",
       "      <td>374.0</td>\n",
       "      <td>7</td>\n",
       "      <td>26,18</td>\n",
       "    </tr>\n",
       "    <tr>\n",
       "      <th>131</th>\n",
       "      <td>12.05.2022</td>\n",
       "      <td>3</td>\n",
       "      <td>3</td>\n",
       "      <td>390.0</td>\n",
       "      <td>4</td>\n",
       "      <td>15,6</td>\n",
       "    </tr>\n",
       "    <tr>\n",
       "      <th>132</th>\n",
       "      <td>13.05.2022</td>\n",
       "      <td>3</td>\n",
       "      <td>3</td>\n",
       "      <td>485.0</td>\n",
       "      <td>10</td>\n",
       "      <td>48,5</td>\n",
       "    </tr>\n",
       "    <tr>\n",
       "      <th>133</th>\n",
       "      <td>14.05.2022</td>\n",
       "      <td>3</td>\n",
       "      <td>3</td>\n",
       "      <td>479.0</td>\n",
       "      <td>3</td>\n",
       "      <td>14,37</td>\n",
       "    </tr>\n",
       "    <tr>\n",
       "      <th>134</th>\n",
       "      <td>15.05.2022</td>\n",
       "      <td>3</td>\n",
       "      <td>3</td>\n",
       "      <td>366.0</td>\n",
       "      <td>13</td>\n",
       "      <td>47,58</td>\n",
       "    </tr>\n",
       "  </tbody>\n",
       "</table>\n",
       "<p>135 rows × 6 columns</p>\n",
       "</div>"
      ],
      "text/plain": [
       "     DZIEN_DATA  SKL_ID  TOW_ID  SPRZ_NETTO  ZYSK_PROCENT ZYSK_WART\n",
       "0    01.05.2022       1       1       416.0             9     37,44\n",
       "1    02.05.2022       1       1       454.0             2      9,08\n",
       "2    03.05.2022       1       1       392.0            13     50,96\n",
       "3    04.05.2022       1       1       498.0             9     44,82\n",
       "4    05.05.2022       1       1       341.0            15     51,15\n",
       "..          ...     ...     ...         ...           ...       ...\n",
       "130  11.05.2022       3       3       374.0             7     26,18\n",
       "131  12.05.2022       3       3       390.0             4      15,6\n",
       "132  13.05.2022       3       3       485.0            10      48,5\n",
       "133  14.05.2022       3       3       479.0             3     14,37\n",
       "134  15.05.2022       3       3       366.0            13     47,58\n",
       "\n",
       "[135 rows x 6 columns]"
      ]
     },
     "execution_count": 43,
     "metadata": {},
     "output_type": "execute_result"
    }
   ],
   "source": [
    "dane_sprzedaz_df = pd.read_csv('dane_sprzedaz.csv', sep=',', encoding='utf-8')\n",
    "dane_sprzedaz_df"
   ]
  },
  {
   "cell_type": "code",
   "execution_count": 45,
   "id": "931749ca",
   "metadata": {},
   "outputs": [
    {
     "data": {
      "text/html": [
       "<div>\n",
       "<style scoped>\n",
       "    .dataframe tbody tr th:only-of-type {\n",
       "        vertical-align: middle;\n",
       "    }\n",
       "\n",
       "    .dataframe tbody tr th {\n",
       "        vertical-align: top;\n",
       "    }\n",
       "\n",
       "    .dataframe thead th {\n",
       "        text-align: right;\n",
       "    }\n",
       "</style>\n",
       "<table border=\"1\" class=\"dataframe\">\n",
       "  <thead>\n",
       "    <tr style=\"text-align: right;\">\n",
       "      <th></th>\n",
       "      <th>A</th>\n",
       "      <th>B</th>\n",
       "      <th>C</th>\n",
       "      <th>D</th>\n",
       "    </tr>\n",
       "  </thead>\n",
       "  <tbody>\n",
       "    <tr>\n",
       "      <th>2013-01-01</th>\n",
       "      <td>-0.241625</td>\n",
       "      <td>-0.960784</td>\n",
       "      <td>-0.997829</td>\n",
       "      <td>-0.936463</td>\n",
       "    </tr>\n",
       "    <tr>\n",
       "      <th>2013-01-02</th>\n",
       "      <td>0.132536</td>\n",
       "      <td>-0.380936</td>\n",
       "      <td>-0.462789</td>\n",
       "      <td>0.366983</td>\n",
       "    </tr>\n",
       "    <tr>\n",
       "      <th>2013-01-03</th>\n",
       "      <td>0.484500</td>\n",
       "      <td>-0.537427</td>\n",
       "      <td>-1.217189</td>\n",
       "      <td>0.529330</td>\n",
       "    </tr>\n",
       "    <tr>\n",
       "      <th>2013-01-04</th>\n",
       "      <td>1.449372</td>\n",
       "      <td>0.233478</td>\n",
       "      <td>-0.190024</td>\n",
       "      <td>1.206300</td>\n",
       "    </tr>\n",
       "    <tr>\n",
       "      <th>2013-01-05</th>\n",
       "      <td>0.427434</td>\n",
       "      <td>0.073050</td>\n",
       "      <td>0.395850</td>\n",
       "      <td>-0.880997</td>\n",
       "    </tr>\n",
       "    <tr>\n",
       "      <th>2013-01-06</th>\n",
       "      <td>-2.408341</td>\n",
       "      <td>-0.776620</td>\n",
       "      <td>1.017928</td>\n",
       "      <td>1.551650</td>\n",
       "    </tr>\n",
       "  </tbody>\n",
       "</table>\n",
       "</div>"
      ],
      "text/plain": [
       "                   A         B         C         D\n",
       "2013-01-01 -0.241625 -0.960784 -0.997829 -0.936463\n",
       "2013-01-02  0.132536 -0.380936 -0.462789  0.366983\n",
       "2013-01-03  0.484500 -0.537427 -1.217189  0.529330\n",
       "2013-01-04  1.449372  0.233478 -0.190024  1.206300\n",
       "2013-01-05  0.427434  0.073050  0.395850 -0.880997\n",
       "2013-01-06 -2.408341 -0.776620  1.017928  1.551650"
      ]
     },
     "execution_count": 45,
     "metadata": {},
     "output_type": "execute_result"
    }
   ],
   "source": [
    "df = pd.DataFrame(np.random.randn(6,4),\n",
    "                 index=dates,\n",
    "                 columns =list('ABCD'))\n",
    "df"
   ]
  },
  {
   "cell_type": "code",
   "execution_count": 46,
   "id": "82d94777",
   "metadata": {},
   "outputs": [
    {
     "data": {
      "text/html": [
       "<div>\n",
       "<style scoped>\n",
       "    .dataframe tbody tr th:only-of-type {\n",
       "        vertical-align: middle;\n",
       "    }\n",
       "\n",
       "    .dataframe tbody tr th {\n",
       "        vertical-align: top;\n",
       "    }\n",
       "\n",
       "    .dataframe thead th {\n",
       "        text-align: right;\n",
       "    }\n",
       "</style>\n",
       "<table border=\"1\" class=\"dataframe\">\n",
       "  <thead>\n",
       "    <tr style=\"text-align: right;\">\n",
       "      <th></th>\n",
       "      <th>A</th>\n",
       "      <th>B</th>\n",
       "      <th>C</th>\n",
       "      <th>D</th>\n",
       "    </tr>\n",
       "  </thead>\n",
       "  <tbody>\n",
       "    <tr>\n",
       "      <th>2013-01-01</th>\n",
       "      <td>-0.241625</td>\n",
       "      <td>-0.960784</td>\n",
       "      <td>-0.997829</td>\n",
       "      <td>-0.936463</td>\n",
       "    </tr>\n",
       "    <tr>\n",
       "      <th>2013-01-02</th>\n",
       "      <td>0.132536</td>\n",
       "      <td>-0.380936</td>\n",
       "      <td>-0.462789</td>\n",
       "      <td>0.366983</td>\n",
       "    </tr>\n",
       "    <tr>\n",
       "      <th>2013-01-03</th>\n",
       "      <td>0.484500</td>\n",
       "      <td>-0.537427</td>\n",
       "      <td>-1.217189</td>\n",
       "      <td>0.529330</td>\n",
       "    </tr>\n",
       "  </tbody>\n",
       "</table>\n",
       "</div>"
      ],
      "text/plain": [
       "                   A         B         C         D\n",
       "2013-01-01 -0.241625 -0.960784 -0.997829 -0.936463\n",
       "2013-01-02  0.132536 -0.380936 -0.462789  0.366983\n",
       "2013-01-03  0.484500 -0.537427 -1.217189  0.529330"
      ]
     },
     "execution_count": 46,
     "metadata": {},
     "output_type": "execute_result"
    }
   ],
   "source": [
    "df.head(3)"
   ]
  },
  {
   "cell_type": "code",
   "execution_count": 47,
   "id": "229f8e58",
   "metadata": {},
   "outputs": [
    {
     "data": {
      "text/html": [
       "<div>\n",
       "<style scoped>\n",
       "    .dataframe tbody tr th:only-of-type {\n",
       "        vertical-align: middle;\n",
       "    }\n",
       "\n",
       "    .dataframe tbody tr th {\n",
       "        vertical-align: top;\n",
       "    }\n",
       "\n",
       "    .dataframe thead th {\n",
       "        text-align: right;\n",
       "    }\n",
       "</style>\n",
       "<table border=\"1\" class=\"dataframe\">\n",
       "  <thead>\n",
       "    <tr style=\"text-align: right;\">\n",
       "      <th></th>\n",
       "      <th>A</th>\n",
       "      <th>B</th>\n",
       "      <th>C</th>\n",
       "      <th>D</th>\n",
       "    </tr>\n",
       "  </thead>\n",
       "  <tbody>\n",
       "    <tr>\n",
       "      <th>2013-01-04</th>\n",
       "      <td>1.449372</td>\n",
       "      <td>0.233478</td>\n",
       "      <td>-0.190024</td>\n",
       "      <td>1.206300</td>\n",
       "    </tr>\n",
       "    <tr>\n",
       "      <th>2013-01-05</th>\n",
       "      <td>0.427434</td>\n",
       "      <td>0.073050</td>\n",
       "      <td>0.395850</td>\n",
       "      <td>-0.880997</td>\n",
       "    </tr>\n",
       "    <tr>\n",
       "      <th>2013-01-06</th>\n",
       "      <td>-2.408341</td>\n",
       "      <td>-0.776620</td>\n",
       "      <td>1.017928</td>\n",
       "      <td>1.551650</td>\n",
       "    </tr>\n",
       "  </tbody>\n",
       "</table>\n",
       "</div>"
      ],
      "text/plain": [
       "                   A         B         C         D\n",
       "2013-01-04  1.449372  0.233478 -0.190024  1.206300\n",
       "2013-01-05  0.427434  0.073050  0.395850 -0.880997\n",
       "2013-01-06 -2.408341 -0.776620  1.017928  1.551650"
      ]
     },
     "execution_count": 47,
     "metadata": {},
     "output_type": "execute_result"
    }
   ],
   "source": [
    "df.tail(3)"
   ]
  },
  {
   "cell_type": "code",
   "execution_count": 48,
   "id": "743c2219",
   "metadata": {},
   "outputs": [
    {
     "data": {
      "text/plain": [
       "DatetimeIndex(['2013-01-01', '2013-01-02', '2013-01-03', '2013-01-04',\n",
       "               '2013-01-05', '2013-01-06'],\n",
       "              dtype='datetime64[ns]', freq='D')"
      ]
     },
     "execution_count": 48,
     "metadata": {},
     "output_type": "execute_result"
    }
   ],
   "source": [
    "df.index"
   ]
  },
  {
   "cell_type": "code",
   "execution_count": 49,
   "id": "20e7bb5b",
   "metadata": {},
   "outputs": [
    {
     "data": {
      "text/plain": [
       "array([[-0.24162518, -0.96078368, -0.99782914, -0.93646258],\n",
       "       [ 0.13253577, -0.38093585, -0.4627888 ,  0.36698348],\n",
       "       [ 0.48450033, -0.53742739, -1.21718939,  0.52933029],\n",
       "       [ 1.44937179,  0.23347775, -0.19002379,  1.20629974],\n",
       "       [ 0.42743437,  0.07305007,  0.39584969, -0.88099669],\n",
       "       [-2.40834146, -0.77661963,  1.01792827,  1.55165   ]])"
      ]
     },
     "execution_count": 49,
     "metadata": {},
     "output_type": "execute_result"
    }
   ],
   "source": [
    "df.values"
   ]
  },
  {
   "cell_type": "code",
   "execution_count": 50,
   "id": "cd3ac776",
   "metadata": {},
   "outputs": [
    {
     "data": {
      "text/plain": [
       "Index(['A', 'B', 'C', 'D'], dtype='object')"
      ]
     },
     "execution_count": 50,
     "metadata": {},
     "output_type": "execute_result"
    }
   ],
   "source": [
    "df.columns"
   ]
  },
  {
   "cell_type": "code",
   "execution_count": 51,
   "id": "f1837b18",
   "metadata": {},
   "outputs": [
    {
     "name": "stdout",
     "output_type": "stream",
     "text": [
      "   Column_A  Column_B  Column_C\n",
      "0        11        22        33\n",
      "1        44        55        66\n",
      "<class 'pandas.core.frame.DataFrame'>\n"
     ]
    }
   ],
   "source": [
    "# z macierza\n",
    "my_array = np.array([[11,22,33],[44,55,66]])\n",
    "\n",
    "df_numpy = pd.DataFrame(my_array, columns = ['Column_A','Column_B','Column_C'])\n",
    "\n",
    "print(df_numpy)\n",
    "print(type(df_numpy))"
   ]
  },
  {
   "cell_type": "code",
   "execution_count": 52,
   "id": "5726ec0e",
   "metadata": {},
   "outputs": [
    {
     "data": {
      "text/html": [
       "<div>\n",
       "<style scoped>\n",
       "    .dataframe tbody tr th:only-of-type {\n",
       "        vertical-align: middle;\n",
       "    }\n",
       "\n",
       "    .dataframe tbody tr th {\n",
       "        vertical-align: top;\n",
       "    }\n",
       "\n",
       "    .dataframe thead th {\n",
       "        text-align: right;\n",
       "    }\n",
       "</style>\n",
       "<table border=\"1\" class=\"dataframe\">\n",
       "  <thead>\n",
       "    <tr style=\"text-align: right;\">\n",
       "      <th></th>\n",
       "      <th>col_1</th>\n",
       "      <th>col_2</th>\n",
       "    </tr>\n",
       "  </thead>\n",
       "  <tbody>\n",
       "    <tr>\n",
       "      <th>0</th>\n",
       "      <td>3</td>\n",
       "      <td>a</td>\n",
       "    </tr>\n",
       "    <tr>\n",
       "      <th>1</th>\n",
       "      <td>2</td>\n",
       "      <td>b</td>\n",
       "    </tr>\n",
       "    <tr>\n",
       "      <th>2</th>\n",
       "      <td>1</td>\n",
       "      <td>c</td>\n",
       "    </tr>\n",
       "    <tr>\n",
       "      <th>3</th>\n",
       "      <td>0</td>\n",
       "      <td>d</td>\n",
       "    </tr>\n",
       "  </tbody>\n",
       "</table>\n",
       "</div>"
      ],
      "text/plain": [
       "   col_1 col_2\n",
       "0      3     a\n",
       "1      2     b\n",
       "2      1     c\n",
       "3      0     d"
      ]
     },
     "execution_count": 52,
     "metadata": {},
     "output_type": "execute_result"
    }
   ],
   "source": [
    "# ze słownika\n",
    "data = {\n",
    "        'col_1': [3, 2, 1, 0], \n",
    "        'col_2': ['a', 'b', 'c', 'd']\n",
    "        }\n",
    "pd.DataFrame.from_dict(data)"
   ]
  },
  {
   "cell_type": "code",
   "execution_count": 53,
   "id": "ac1ded2b",
   "metadata": {},
   "outputs": [
    {
     "data": {
      "text/html": [
       "<div>\n",
       "<style scoped>\n",
       "    .dataframe tbody tr th:only-of-type {\n",
       "        vertical-align: middle;\n",
       "    }\n",
       "\n",
       "    .dataframe tbody tr th {\n",
       "        vertical-align: top;\n",
       "    }\n",
       "\n",
       "    .dataframe thead th {\n",
       "        text-align: right;\n",
       "    }\n",
       "</style>\n",
       "<table border=\"1\" class=\"dataframe\">\n",
       "  <thead>\n",
       "    <tr style=\"text-align: right;\">\n",
       "      <th></th>\n",
       "      <th>A</th>\n",
       "      <th>B</th>\n",
       "      <th>C</th>\n",
       "      <th>D</th>\n",
       "    </tr>\n",
       "  </thead>\n",
       "  <tbody>\n",
       "    <tr>\n",
       "      <th>2013-01-01</th>\n",
       "      <td>-0.241625</td>\n",
       "      <td>-0.960784</td>\n",
       "      <td>-0.997829</td>\n",
       "      <td>-0.936463</td>\n",
       "    </tr>\n",
       "    <tr>\n",
       "      <th>2013-01-02</th>\n",
       "      <td>0.132536</td>\n",
       "      <td>-0.380936</td>\n",
       "      <td>-0.462789</td>\n",
       "      <td>0.366983</td>\n",
       "    </tr>\n",
       "    <tr>\n",
       "      <th>2013-01-03</th>\n",
       "      <td>0.484500</td>\n",
       "      <td>-0.537427</td>\n",
       "      <td>-1.217189</td>\n",
       "      <td>0.529330</td>\n",
       "    </tr>\n",
       "    <tr>\n",
       "      <th>2013-01-04</th>\n",
       "      <td>1.449372</td>\n",
       "      <td>0.233478</td>\n",
       "      <td>-0.190024</td>\n",
       "      <td>1.206300</td>\n",
       "    </tr>\n",
       "    <tr>\n",
       "      <th>2013-01-05</th>\n",
       "      <td>0.427434</td>\n",
       "      <td>0.073050</td>\n",
       "      <td>0.395850</td>\n",
       "      <td>-0.880997</td>\n",
       "    </tr>\n",
       "    <tr>\n",
       "      <th>2013-01-06</th>\n",
       "      <td>-2.408341</td>\n",
       "      <td>-0.776620</td>\n",
       "      <td>1.017928</td>\n",
       "      <td>1.551650</td>\n",
       "    </tr>\n",
       "  </tbody>\n",
       "</table>\n",
       "</div>"
      ],
      "text/plain": [
       "                   A         B         C         D\n",
       "2013-01-01 -0.241625 -0.960784 -0.997829 -0.936463\n",
       "2013-01-02  0.132536 -0.380936 -0.462789  0.366983\n",
       "2013-01-03  0.484500 -0.537427 -1.217189  0.529330\n",
       "2013-01-04  1.449372  0.233478 -0.190024  1.206300\n",
       "2013-01-05  0.427434  0.073050  0.395850 -0.880997\n",
       "2013-01-06 -2.408341 -0.776620  1.017928  1.551650"
      ]
     },
     "execution_count": 53,
     "metadata": {},
     "output_type": "execute_result"
    }
   ],
   "source": [
    "df"
   ]
  },
  {
   "cell_type": "code",
   "execution_count": 54,
   "id": "f29226c9",
   "metadata": {},
   "outputs": [
    {
     "data": {
      "text/plain": [
       "(6, 4)"
      ]
     },
     "execution_count": 54,
     "metadata": {},
     "output_type": "execute_result"
    }
   ],
   "source": [
    "df.shape # wierszy, column"
   ]
  },
  {
   "cell_type": "code",
   "execution_count": 55,
   "id": "20eaedee",
   "metadata": {},
   "outputs": [
    {
     "data": {
      "text/plain": [
       "24"
      ]
     },
     "execution_count": 55,
     "metadata": {},
     "output_type": "execute_result"
    }
   ],
   "source": [
    "df.size"
   ]
  },
  {
   "cell_type": "code",
   "execution_count": 56,
   "id": "a58b688e",
   "metadata": {},
   "outputs": [
    {
     "data": {
      "text/plain": [
       "6"
      ]
     },
     "execution_count": 56,
     "metadata": {},
     "output_type": "execute_result"
    }
   ],
   "source": [
    "len(df) # do pętli"
   ]
  },
  {
   "cell_type": "code",
   "execution_count": 57,
   "id": "6977059d",
   "metadata": {},
   "outputs": [
    {
     "data": {
      "text/html": [
       "<div>\n",
       "<style scoped>\n",
       "    .dataframe tbody tr th:only-of-type {\n",
       "        vertical-align: middle;\n",
       "    }\n",
       "\n",
       "    .dataframe tbody tr th {\n",
       "        vertical-align: top;\n",
       "    }\n",
       "\n",
       "    .dataframe thead th {\n",
       "        text-align: right;\n",
       "    }\n",
       "</style>\n",
       "<table border=\"1\" class=\"dataframe\">\n",
       "  <thead>\n",
       "    <tr style=\"text-align: right;\">\n",
       "      <th></th>\n",
       "      <th>A</th>\n",
       "      <th>B</th>\n",
       "      <th>C</th>\n",
       "      <th>D</th>\n",
       "    </tr>\n",
       "  </thead>\n",
       "  <tbody>\n",
       "    <tr>\n",
       "      <th>2013-01-03</th>\n",
       "      <td>0.484500</td>\n",
       "      <td>-0.537427</td>\n",
       "      <td>-1.217189</td>\n",
       "      <td>0.52933</td>\n",
       "    </tr>\n",
       "    <tr>\n",
       "      <th>2013-01-06</th>\n",
       "      <td>-2.408341</td>\n",
       "      <td>-0.776620</td>\n",
       "      <td>1.017928</td>\n",
       "      <td>1.55165</td>\n",
       "    </tr>\n",
       "  </tbody>\n",
       "</table>\n",
       "</div>"
      ],
      "text/plain": [
       "                   A         B         C        D\n",
       "2013-01-03  0.484500 -0.537427 -1.217189  0.52933\n",
       "2013-01-06 -2.408341 -0.776620  1.017928  1.55165"
      ]
     },
     "execution_count": 57,
     "metadata": {},
     "output_type": "execute_result"
    }
   ],
   "source": [
    "df.sample(2) # do testów, wybieramy ilość wierszy"
   ]
  },
  {
   "cell_type": "code",
   "execution_count": 58,
   "id": "5ef15e0a",
   "metadata": {},
   "outputs": [
    {
     "data": {
      "text/plain": [
       "A    float64\n",
       "B    float64\n",
       "C    float64\n",
       "D    float64\n",
       "dtype: object"
      ]
     },
     "execution_count": 58,
     "metadata": {},
     "output_type": "execute_result"
    }
   ],
   "source": [
    "df.dtypes"
   ]
  },
  {
   "cell_type": "code",
   "execution_count": 59,
   "id": "83d614ca",
   "metadata": {},
   "outputs": [
    {
     "data": {
      "text/plain": [
       "pandas.core.frame.DataFrame"
      ]
     },
     "execution_count": 59,
     "metadata": {},
     "output_type": "execute_result"
    }
   ],
   "source": [
    "type(df)"
   ]
  },
  {
   "cell_type": "code",
   "execution_count": 60,
   "id": "660442db",
   "metadata": {},
   "outputs": [
    {
     "data": {
      "text/plain": [
       "2013-01-01   -0.241625\n",
       "2013-01-02    0.132536\n",
       "2013-01-03    0.484500\n",
       "2013-01-04    1.449372\n",
       "2013-01-05    0.427434\n",
       "2013-01-06   -2.408341\n",
       "Freq: D, Name: A, dtype: float64"
      ]
     },
     "execution_count": 60,
     "metadata": {},
     "output_type": "execute_result"
    }
   ],
   "source": [
    "df.A # pokaz nam kolumne A"
   ]
  },
  {
   "cell_type": "code",
   "execution_count": 61,
   "id": "8c3149bc",
   "metadata": {},
   "outputs": [
    {
     "data": {
      "text/plain": [
       "pandas.core.series.Series"
      ]
     },
     "execution_count": 61,
     "metadata": {},
     "output_type": "execute_result"
    }
   ],
   "source": [
    "type(df.A) # type tylko kolumny A"
   ]
  },
  {
   "cell_type": "code",
   "execution_count": 62,
   "id": "1c3a5ccc",
   "metadata": {},
   "outputs": [
    {
     "data": {
      "text/html": [
       "<div>\n",
       "<style scoped>\n",
       "    .dataframe tbody tr th:only-of-type {\n",
       "        vertical-align: middle;\n",
       "    }\n",
       "\n",
       "    .dataframe tbody tr th {\n",
       "        vertical-align: top;\n",
       "    }\n",
       "\n",
       "    .dataframe thead th {\n",
       "        text-align: right;\n",
       "    }\n",
       "</style>\n",
       "<table border=\"1\" class=\"dataframe\">\n",
       "  <thead>\n",
       "    <tr style=\"text-align: right;\">\n",
       "      <th></th>\n",
       "      <th>2013-01-01</th>\n",
       "      <th>2013-01-02</th>\n",
       "      <th>2013-01-03</th>\n",
       "      <th>2013-01-04</th>\n",
       "      <th>2013-01-05</th>\n",
       "      <th>2013-01-06</th>\n",
       "    </tr>\n",
       "  </thead>\n",
       "  <tbody>\n",
       "    <tr>\n",
       "      <th>A</th>\n",
       "      <td>-0.241625</td>\n",
       "      <td>0.132536</td>\n",
       "      <td>0.484500</td>\n",
       "      <td>1.449372</td>\n",
       "      <td>0.427434</td>\n",
       "      <td>-2.408341</td>\n",
       "    </tr>\n",
       "    <tr>\n",
       "      <th>B</th>\n",
       "      <td>-0.960784</td>\n",
       "      <td>-0.380936</td>\n",
       "      <td>-0.537427</td>\n",
       "      <td>0.233478</td>\n",
       "      <td>0.073050</td>\n",
       "      <td>-0.776620</td>\n",
       "    </tr>\n",
       "    <tr>\n",
       "      <th>C</th>\n",
       "      <td>-0.997829</td>\n",
       "      <td>-0.462789</td>\n",
       "      <td>-1.217189</td>\n",
       "      <td>-0.190024</td>\n",
       "      <td>0.395850</td>\n",
       "      <td>1.017928</td>\n",
       "    </tr>\n",
       "    <tr>\n",
       "      <th>D</th>\n",
       "      <td>-0.936463</td>\n",
       "      <td>0.366983</td>\n",
       "      <td>0.529330</td>\n",
       "      <td>1.206300</td>\n",
       "      <td>-0.880997</td>\n",
       "      <td>1.551650</td>\n",
       "    </tr>\n",
       "  </tbody>\n",
       "</table>\n",
       "</div>"
      ],
      "text/plain": [
       "   2013-01-01  2013-01-02  2013-01-03  2013-01-04  2013-01-05  2013-01-06\n",
       "A   -0.241625    0.132536    0.484500    1.449372    0.427434   -2.408341\n",
       "B   -0.960784   -0.380936   -0.537427    0.233478    0.073050   -0.776620\n",
       "C   -0.997829   -0.462789   -1.217189   -0.190024    0.395850    1.017928\n",
       "D   -0.936463    0.366983    0.529330    1.206300   -0.880997    1.551650"
      ]
     },
     "execution_count": 62,
     "metadata": {},
     "output_type": "execute_result"
    }
   ],
   "source": [
    "# transpozyvja, zamina kolumn z wierszami\n",
    "# piwoty, czesciowa zamiana kolumn z wierszami\n",
    "df.T"
   ]
  },
  {
   "cell_type": "code",
   "execution_count": 68,
   "id": "0678cdb2",
   "metadata": {},
   "outputs": [],
   "source": [
    "df2 = df.sample(2)"
   ]
  },
  {
   "cell_type": "code",
   "execution_count": 69,
   "id": "73ef6ca5",
   "metadata": {},
   "outputs": [
    {
     "data": {
      "text/html": [
       "<div>\n",
       "<style scoped>\n",
       "    .dataframe tbody tr th:only-of-type {\n",
       "        vertical-align: middle;\n",
       "    }\n",
       "\n",
       "    .dataframe tbody tr th {\n",
       "        vertical-align: top;\n",
       "    }\n",
       "\n",
       "    .dataframe thead th {\n",
       "        text-align: right;\n",
       "    }\n",
       "</style>\n",
       "<table border=\"1\" class=\"dataframe\">\n",
       "  <thead>\n",
       "    <tr style=\"text-align: right;\">\n",
       "      <th></th>\n",
       "      <th>A</th>\n",
       "      <th>B</th>\n",
       "      <th>C</th>\n",
       "      <th>D</th>\n",
       "    </tr>\n",
       "  </thead>\n",
       "  <tbody>\n",
       "    <tr>\n",
       "      <th>2013-01-03</th>\n",
       "      <td>0.831219</td>\n",
       "      <td>-1.237616</td>\n",
       "      <td>-0.156205</td>\n",
       "      <td>-1.449449</td>\n",
       "    </tr>\n",
       "    <tr>\n",
       "      <th>2013-01-01</th>\n",
       "      <td>0.193275</td>\n",
       "      <td>-0.133109</td>\n",
       "      <td>0.013696</td>\n",
       "      <td>0.761218</td>\n",
       "    </tr>\n",
       "  </tbody>\n",
       "</table>\n",
       "</div>"
      ],
      "text/plain": [
       "                   A         B         C         D\n",
       "2013-01-03  0.831219 -1.237616 -0.156205 -1.449449\n",
       "2013-01-01  0.193275 -0.133109  0.013696  0.761218"
      ]
     },
     "execution_count": 69,
     "metadata": {},
     "output_type": "execute_result"
    }
   ],
   "source": [
    "df2"
   ]
  },
  {
   "cell_type": "code",
   "execution_count": 71,
   "id": "ea9c59e5",
   "metadata": {},
   "outputs": [
    {
     "data": {
      "text/html": [
       "<div>\n",
       "<style scoped>\n",
       "    .dataframe tbody tr th:only-of-type {\n",
       "        vertical-align: middle;\n",
       "    }\n",
       "\n",
       "    .dataframe tbody tr th {\n",
       "        vertical-align: top;\n",
       "    }\n",
       "\n",
       "    .dataframe thead th {\n",
       "        text-align: right;\n",
       "    }\n",
       "</style>\n",
       "<table border=\"1\" class=\"dataframe\">\n",
       "  <thead>\n",
       "    <tr style=\"text-align: right;\">\n",
       "      <th></th>\n",
       "      <th>A</th>\n",
       "      <th>B</th>\n",
       "      <th>C</th>\n",
       "      <th>D</th>\n",
       "    </tr>\n",
       "  </thead>\n",
       "  <tbody>\n",
       "    <tr>\n",
       "      <th>2013-01-04</th>\n",
       "      <td>-0.292412</td>\n",
       "      <td>0.172284</td>\n",
       "      <td>0.314251</td>\n",
       "      <td>-0.994351</td>\n",
       "    </tr>\n",
       "    <tr>\n",
       "      <th>2013-01-02</th>\n",
       "      <td>-1.656763</td>\n",
       "      <td>-0.124516</td>\n",
       "      <td>-0.093946</td>\n",
       "      <td>-0.095457</td>\n",
       "    </tr>\n",
       "    <tr>\n",
       "      <th>2013-01-01</th>\n",
       "      <td>0.193275</td>\n",
       "      <td>-0.133109</td>\n",
       "      <td>0.013696</td>\n",
       "      <td>0.761218</td>\n",
       "    </tr>\n",
       "    <tr>\n",
       "      <th>2013-01-06</th>\n",
       "      <td>-0.418294</td>\n",
       "      <td>-0.284447</td>\n",
       "      <td>-0.041210</td>\n",
       "      <td>0.077003</td>\n",
       "    </tr>\n",
       "    <tr>\n",
       "      <th>2013-01-05</th>\n",
       "      <td>0.235916</td>\n",
       "      <td>-0.625086</td>\n",
       "      <td>0.362070</td>\n",
       "      <td>1.782928</td>\n",
       "    </tr>\n",
       "    <tr>\n",
       "      <th>2013-01-03</th>\n",
       "      <td>0.831219</td>\n",
       "      <td>-1.237616</td>\n",
       "      <td>-0.156205</td>\n",
       "      <td>-1.449449</td>\n",
       "    </tr>\n",
       "  </tbody>\n",
       "</table>\n",
       "</div>"
      ],
      "text/plain": [
       "                   A         B         C         D\n",
       "2013-01-04 -0.292412  0.172284  0.314251 -0.994351\n",
       "2013-01-02 -1.656763 -0.124516 -0.093946 -0.095457\n",
       "2013-01-01  0.193275 -0.133109  0.013696  0.761218\n",
       "2013-01-06 -0.418294 -0.284447 -0.041210  0.077003\n",
       "2013-01-05  0.235916 -0.625086  0.362070  1.782928\n",
       "2013-01-03  0.831219 -1.237616 -0.156205 -1.449449"
      ]
     },
     "execution_count": 71,
     "metadata": {},
     "output_type": "execute_result"
    }
   ],
   "source": [
    "df.sort_values(by='B', ascending=False)"
   ]
  },
  {
   "cell_type": "code",
   "execution_count": 73,
   "id": "a6c9a7e7",
   "metadata": {},
   "outputs": [
    {
     "data": {
      "text/html": [
       "<div>\n",
       "<style scoped>\n",
       "    .dataframe tbody tr th:only-of-type {\n",
       "        vertical-align: middle;\n",
       "    }\n",
       "\n",
       "    .dataframe tbody tr th {\n",
       "        vertical-align: top;\n",
       "    }\n",
       "\n",
       "    .dataframe thead th {\n",
       "        text-align: right;\n",
       "    }\n",
       "</style>\n",
       "<table border=\"1\" class=\"dataframe\">\n",
       "  <thead>\n",
       "    <tr style=\"text-align: right;\">\n",
       "      <th></th>\n",
       "      <th>index</th>\n",
       "      <th>A</th>\n",
       "      <th>B</th>\n",
       "      <th>C</th>\n",
       "      <th>D</th>\n",
       "    </tr>\n",
       "  </thead>\n",
       "  <tbody>\n",
       "    <tr>\n",
       "      <th>0</th>\n",
       "      <td>2013-01-01</td>\n",
       "      <td>0.193275</td>\n",
       "      <td>-0.133109</td>\n",
       "      <td>0.013696</td>\n",
       "      <td>0.761218</td>\n",
       "    </tr>\n",
       "    <tr>\n",
       "      <th>1</th>\n",
       "      <td>2013-01-02</td>\n",
       "      <td>-1.656763</td>\n",
       "      <td>-0.124516</td>\n",
       "      <td>-0.093946</td>\n",
       "      <td>-0.095457</td>\n",
       "    </tr>\n",
       "    <tr>\n",
       "      <th>2</th>\n",
       "      <td>2013-01-03</td>\n",
       "      <td>0.831219</td>\n",
       "      <td>-1.237616</td>\n",
       "      <td>-0.156205</td>\n",
       "      <td>-1.449449</td>\n",
       "    </tr>\n",
       "    <tr>\n",
       "      <th>3</th>\n",
       "      <td>2013-01-04</td>\n",
       "      <td>-0.292412</td>\n",
       "      <td>0.172284</td>\n",
       "      <td>0.314251</td>\n",
       "      <td>-0.994351</td>\n",
       "    </tr>\n",
       "    <tr>\n",
       "      <th>4</th>\n",
       "      <td>2013-01-05</td>\n",
       "      <td>0.235916</td>\n",
       "      <td>-0.625086</td>\n",
       "      <td>0.362070</td>\n",
       "      <td>1.782928</td>\n",
       "    </tr>\n",
       "    <tr>\n",
       "      <th>5</th>\n",
       "      <td>2013-01-06</td>\n",
       "      <td>-0.418294</td>\n",
       "      <td>-0.284447</td>\n",
       "      <td>-0.041210</td>\n",
       "      <td>0.077003</td>\n",
       "    </tr>\n",
       "  </tbody>\n",
       "</table>\n",
       "</div>"
      ],
      "text/plain": [
       "       index         A         B         C         D\n",
       "0 2013-01-01  0.193275 -0.133109  0.013696  0.761218\n",
       "1 2013-01-02 -1.656763 -0.124516 -0.093946 -0.095457\n",
       "2 2013-01-03  0.831219 -1.237616 -0.156205 -1.449449\n",
       "3 2013-01-04 -0.292412  0.172284  0.314251 -0.994351\n",
       "4 2013-01-05  0.235916 -0.625086  0.362070  1.782928\n",
       "5 2013-01-06 -0.418294 -0.284447 -0.041210  0.077003"
      ]
     },
     "execution_count": 73,
     "metadata": {},
     "output_type": "execute_result"
    }
   ],
   "source": [
    "df.reset_index() # bez przypisania df sie nie zmienia"
   ]
  },
  {
   "cell_type": "code",
   "execution_count": 76,
   "id": "977e2d6d",
   "metadata": {},
   "outputs": [
    {
     "data": {
      "text/html": [
       "<div>\n",
       "<style scoped>\n",
       "    .dataframe tbody tr th:only-of-type {\n",
       "        vertical-align: middle;\n",
       "    }\n",
       "\n",
       "    .dataframe tbody tr th {\n",
       "        vertical-align: top;\n",
       "    }\n",
       "\n",
       "    .dataframe thead th {\n",
       "        text-align: right;\n",
       "    }\n",
       "</style>\n",
       "<table border=\"1\" class=\"dataframe\">\n",
       "  <thead>\n",
       "    <tr style=\"text-align: right;\">\n",
       "      <th></th>\n",
       "      <th>A</th>\n",
       "      <th>B</th>\n",
       "      <th>C</th>\n",
       "      <th>D</th>\n",
       "    </tr>\n",
       "  </thead>\n",
       "  <tbody>\n",
       "    <tr>\n",
       "      <th>0</th>\n",
       "      <td>0.193275</td>\n",
       "      <td>-0.133109</td>\n",
       "      <td>0.013696</td>\n",
       "      <td>0.761218</td>\n",
       "    </tr>\n",
       "    <tr>\n",
       "      <th>1</th>\n",
       "      <td>-1.656763</td>\n",
       "      <td>-0.124516</td>\n",
       "      <td>-0.093946</td>\n",
       "      <td>-0.095457</td>\n",
       "    </tr>\n",
       "    <tr>\n",
       "      <th>2</th>\n",
       "      <td>0.831219</td>\n",
       "      <td>-1.237616</td>\n",
       "      <td>-0.156205</td>\n",
       "      <td>-1.449449</td>\n",
       "    </tr>\n",
       "    <tr>\n",
       "      <th>3</th>\n",
       "      <td>-0.292412</td>\n",
       "      <td>0.172284</td>\n",
       "      <td>0.314251</td>\n",
       "      <td>-0.994351</td>\n",
       "    </tr>\n",
       "    <tr>\n",
       "      <th>4</th>\n",
       "      <td>0.235916</td>\n",
       "      <td>-0.625086</td>\n",
       "      <td>0.362070</td>\n",
       "      <td>1.782928</td>\n",
       "    </tr>\n",
       "    <tr>\n",
       "      <th>5</th>\n",
       "      <td>-0.418294</td>\n",
       "      <td>-0.284447</td>\n",
       "      <td>-0.041210</td>\n",
       "      <td>0.077003</td>\n",
       "    </tr>\n",
       "  </tbody>\n",
       "</table>\n",
       "</div>"
      ],
      "text/plain": [
       "          A         B         C         D\n",
       "0  0.193275 -0.133109  0.013696  0.761218\n",
       "1 -1.656763 -0.124516 -0.093946 -0.095457\n",
       "2  0.831219 -1.237616 -0.156205 -1.449449\n",
       "3 -0.292412  0.172284  0.314251 -0.994351\n",
       "4  0.235916 -0.625086  0.362070  1.782928\n",
       "5 -0.418294 -0.284447 -0.041210  0.077003"
      ]
     },
     "execution_count": 76,
     "metadata": {},
     "output_type": "execute_result"
    }
   ],
   "source": [
    "df.reset_index(drop=True) #resetuj indeks i wyrzuc go"
   ]
  },
  {
   "cell_type": "code",
   "execution_count": 78,
   "id": "8c698d54",
   "metadata": {},
   "outputs": [
    {
     "data": {
      "text/html": [
       "<div>\n",
       "<style scoped>\n",
       "    .dataframe tbody tr th:only-of-type {\n",
       "        vertical-align: middle;\n",
       "    }\n",
       "\n",
       "    .dataframe tbody tr th {\n",
       "        vertical-align: top;\n",
       "    }\n",
       "\n",
       "    .dataframe thead th {\n",
       "        text-align: right;\n",
       "    }\n",
       "</style>\n",
       "<table border=\"1\" class=\"dataframe\">\n",
       "  <thead>\n",
       "    <tr style=\"text-align: right;\">\n",
       "      <th></th>\n",
       "      <th>index</th>\n",
       "      <th>A</th>\n",
       "      <th>B</th>\n",
       "      <th>C</th>\n",
       "      <th>D</th>\n",
       "    </tr>\n",
       "  </thead>\n",
       "  <tbody>\n",
       "    <tr>\n",
       "      <th>0</th>\n",
       "      <td>2013-01-01</td>\n",
       "      <td>0.193275</td>\n",
       "      <td>-0.133109</td>\n",
       "      <td>0.013696</td>\n",
       "      <td>0.761218</td>\n",
       "    </tr>\n",
       "    <tr>\n",
       "      <th>1</th>\n",
       "      <td>2013-01-02</td>\n",
       "      <td>-1.656763</td>\n",
       "      <td>-0.124516</td>\n",
       "      <td>-0.093946</td>\n",
       "      <td>-0.095457</td>\n",
       "    </tr>\n",
       "    <tr>\n",
       "      <th>2</th>\n",
       "      <td>2013-01-03</td>\n",
       "      <td>0.831219</td>\n",
       "      <td>-1.237616</td>\n",
       "      <td>-0.156205</td>\n",
       "      <td>-1.449449</td>\n",
       "    </tr>\n",
       "    <tr>\n",
       "      <th>3</th>\n",
       "      <td>2013-01-04</td>\n",
       "      <td>-0.292412</td>\n",
       "      <td>0.172284</td>\n",
       "      <td>0.314251</td>\n",
       "      <td>-0.994351</td>\n",
       "    </tr>\n",
       "    <tr>\n",
       "      <th>4</th>\n",
       "      <td>2013-01-05</td>\n",
       "      <td>0.235916</td>\n",
       "      <td>-0.625086</td>\n",
       "      <td>0.362070</td>\n",
       "      <td>1.782928</td>\n",
       "    </tr>\n",
       "    <tr>\n",
       "      <th>5</th>\n",
       "      <td>2013-01-06</td>\n",
       "      <td>-0.418294</td>\n",
       "      <td>-0.284447</td>\n",
       "      <td>-0.041210</td>\n",
       "      <td>0.077003</td>\n",
       "    </tr>\n",
       "  </tbody>\n",
       "</table>\n",
       "</div>"
      ],
      "text/plain": [
       "       index         A         B         C         D\n",
       "0 2013-01-01  0.193275 -0.133109  0.013696  0.761218\n",
       "1 2013-01-02 -1.656763 -0.124516 -0.093946 -0.095457\n",
       "2 2013-01-03  0.831219 -1.237616 -0.156205 -1.449449\n",
       "3 2013-01-04 -0.292412  0.172284  0.314251 -0.994351\n",
       "4 2013-01-05  0.235916 -0.625086  0.362070  1.782928\n",
       "5 2013-01-06 -0.418294 -0.284447 -0.041210  0.077003"
      ]
     },
     "execution_count": 78,
     "metadata": {},
     "output_type": "execute_result"
    }
   ],
   "source": [
    "df.reset_index(drop=False) #resetuj indeks i nie wyrzucaj go"
   ]
  },
  {
   "cell_type": "code",
   "execution_count": 79,
   "id": "692d22fa",
   "metadata": {},
   "outputs": [],
   "source": [
    "# agregacja na df"
   ]
  },
  {
   "cell_type": "code",
   "execution_count": 80,
   "id": "7ce3931f",
   "metadata": {},
   "outputs": [
    {
     "data": {
      "text/html": [
       "<div>\n",
       "<style scoped>\n",
       "    .dataframe tbody tr th:only-of-type {\n",
       "        vertical-align: middle;\n",
       "    }\n",
       "\n",
       "    .dataframe tbody tr th {\n",
       "        vertical-align: top;\n",
       "    }\n",
       "\n",
       "    .dataframe thead th {\n",
       "        text-align: right;\n",
       "    }\n",
       "</style>\n",
       "<table border=\"1\" class=\"dataframe\">\n",
       "  <thead>\n",
       "    <tr style=\"text-align: right;\">\n",
       "      <th></th>\n",
       "      <th>A</th>\n",
       "      <th>B</th>\n",
       "      <th>C</th>\n",
       "      <th>D</th>\n",
       "    </tr>\n",
       "  </thead>\n",
       "  <tbody>\n",
       "    <tr>\n",
       "      <th>2013-01-01</th>\n",
       "      <td>0.193275</td>\n",
       "      <td>-0.133109</td>\n",
       "      <td>0.013696</td>\n",
       "      <td>0.761218</td>\n",
       "    </tr>\n",
       "    <tr>\n",
       "      <th>2013-01-02</th>\n",
       "      <td>-1.656763</td>\n",
       "      <td>-0.124516</td>\n",
       "      <td>-0.093946</td>\n",
       "      <td>-0.095457</td>\n",
       "    </tr>\n",
       "    <tr>\n",
       "      <th>2013-01-03</th>\n",
       "      <td>0.831219</td>\n",
       "      <td>-1.237616</td>\n",
       "      <td>-0.156205</td>\n",
       "      <td>-1.449449</td>\n",
       "    </tr>\n",
       "    <tr>\n",
       "      <th>2013-01-04</th>\n",
       "      <td>-0.292412</td>\n",
       "      <td>0.172284</td>\n",
       "      <td>0.314251</td>\n",
       "      <td>-0.994351</td>\n",
       "    </tr>\n",
       "    <tr>\n",
       "      <th>2013-01-05</th>\n",
       "      <td>0.235916</td>\n",
       "      <td>-0.625086</td>\n",
       "      <td>0.362070</td>\n",
       "      <td>1.782928</td>\n",
       "    </tr>\n",
       "    <tr>\n",
       "      <th>2013-01-06</th>\n",
       "      <td>-0.418294</td>\n",
       "      <td>-0.284447</td>\n",
       "      <td>-0.041210</td>\n",
       "      <td>0.077003</td>\n",
       "    </tr>\n",
       "  </tbody>\n",
       "</table>\n",
       "</div>"
      ],
      "text/plain": [
       "                   A         B         C         D\n",
       "2013-01-01  0.193275 -0.133109  0.013696  0.761218\n",
       "2013-01-02 -1.656763 -0.124516 -0.093946 -0.095457\n",
       "2013-01-03  0.831219 -1.237616 -0.156205 -1.449449\n",
       "2013-01-04 -0.292412  0.172284  0.314251 -0.994351\n",
       "2013-01-05  0.235916 -0.625086  0.362070  1.782928\n",
       "2013-01-06 -0.418294 -0.284447 -0.041210  0.077003"
      ]
     },
     "execution_count": 80,
     "metadata": {},
     "output_type": "execute_result"
    }
   ],
   "source": [
    "df"
   ]
  },
  {
   "cell_type": "code",
   "execution_count": 81,
   "id": "3a7001ac",
   "metadata": {},
   "outputs": [
    {
     "data": {
      "text/plain": [
       "A   -1.107060\n",
       "B   -2.232490\n",
       "C    0.398656\n",
       "D    0.081892\n",
       "dtype: float64"
      ]
     },
     "execution_count": 81,
     "metadata": {},
     "output_type": "execute_result"
    }
   ],
   "source": [
    "df.sum()"
   ]
  },
  {
   "cell_type": "code",
   "execution_count": 82,
   "id": "e3916a3d",
   "metadata": {},
   "outputs": [
    {
     "data": {
      "text/plain": [
       "A   -1.656763\n",
       "B   -1.237616\n",
       "C   -0.156205\n",
       "D   -1.449449\n",
       "dtype: float64"
      ]
     },
     "execution_count": 82,
     "metadata": {},
     "output_type": "execute_result"
    }
   ],
   "source": [
    "df.min()"
   ]
  },
  {
   "cell_type": "code",
   "execution_count": 83,
   "id": "8e61989e",
   "metadata": {},
   "outputs": [
    {
     "data": {
      "text/plain": [
       "A   -0.184510\n",
       "B   -0.372082\n",
       "C    0.066443\n",
       "D    0.013649\n",
       "dtype: float64"
      ]
     },
     "execution_count": 83,
     "metadata": {},
     "output_type": "execute_result"
    }
   ],
   "source": [
    "df.mean()"
   ]
  },
  {
   "cell_type": "code",
   "execution_count": 84,
   "id": "24a39142",
   "metadata": {},
   "outputs": [
    {
     "data": {
      "text/plain": [
       "2013-01-01    0.193275\n",
       "2013-01-02   -1.656763\n",
       "2013-01-03    0.831219\n",
       "2013-01-04   -0.292412\n",
       "2013-01-05    0.235916\n",
       "2013-01-06   -0.418294\n",
       "Freq: D, Name: A, dtype: float64"
      ]
     },
     "execution_count": 84,
     "metadata": {},
     "output_type": "execute_result"
    }
   ],
   "source": [
    "df['A'] # prawdzamy kolumne A, or df[['A']] or df.A"
   ]
  },
  {
   "cell_type": "code",
   "execution_count": 85,
   "id": "a3110f82",
   "metadata": {},
   "outputs": [
    {
     "data": {
      "text/html": [
       "<div>\n",
       "<style scoped>\n",
       "    .dataframe tbody tr th:only-of-type {\n",
       "        vertical-align: middle;\n",
       "    }\n",
       "\n",
       "    .dataframe tbody tr th {\n",
       "        vertical-align: top;\n",
       "    }\n",
       "\n",
       "    .dataframe thead th {\n",
       "        text-align: right;\n",
       "    }\n",
       "</style>\n",
       "<table border=\"1\" class=\"dataframe\">\n",
       "  <thead>\n",
       "    <tr style=\"text-align: right;\">\n",
       "      <th></th>\n",
       "      <th>A</th>\n",
       "      <th>B</th>\n",
       "    </tr>\n",
       "  </thead>\n",
       "  <tbody>\n",
       "    <tr>\n",
       "      <th>2013-01-01</th>\n",
       "      <td>0.193275</td>\n",
       "      <td>-0.133109</td>\n",
       "    </tr>\n",
       "    <tr>\n",
       "      <th>2013-01-02</th>\n",
       "      <td>-1.656763</td>\n",
       "      <td>-0.124516</td>\n",
       "    </tr>\n",
       "    <tr>\n",
       "      <th>2013-01-03</th>\n",
       "      <td>0.831219</td>\n",
       "      <td>-1.237616</td>\n",
       "    </tr>\n",
       "    <tr>\n",
       "      <th>2013-01-04</th>\n",
       "      <td>-0.292412</td>\n",
       "      <td>0.172284</td>\n",
       "    </tr>\n",
       "    <tr>\n",
       "      <th>2013-01-05</th>\n",
       "      <td>0.235916</td>\n",
       "      <td>-0.625086</td>\n",
       "    </tr>\n",
       "    <tr>\n",
       "      <th>2013-01-06</th>\n",
       "      <td>-0.418294</td>\n",
       "      <td>-0.284447</td>\n",
       "    </tr>\n",
       "  </tbody>\n",
       "</table>\n",
       "</div>"
      ],
      "text/plain": [
       "                   A         B\n",
       "2013-01-01  0.193275 -0.133109\n",
       "2013-01-02 -1.656763 -0.124516\n",
       "2013-01-03  0.831219 -1.237616\n",
       "2013-01-04 -0.292412  0.172284\n",
       "2013-01-05  0.235916 -0.625086\n",
       "2013-01-06 -0.418294 -0.284447"
      ]
     },
     "execution_count": 85,
     "metadata": {},
     "output_type": "execute_result"
    }
   ],
   "source": [
    "df[['A', 'B']] # prawdzamy kilka kolumn, poprzez podanie listy"
   ]
  },
  {
   "cell_type": "code",
   "execution_count": 86,
   "id": "7b9312e1",
   "metadata": {},
   "outputs": [
    {
     "data": {
      "text/plain": [
       "A   -1.10706\n",
       "B   -2.23249\n",
       "dtype: float64"
      ]
     },
     "execution_count": 86,
     "metadata": {},
     "output_type": "execute_result"
    }
   ],
   "source": [
    "df[['A', 'B']].sum()"
   ]
  },
  {
   "cell_type": "code",
   "execution_count": 87,
   "id": "2cf527b9",
   "metadata": {},
   "outputs": [
    {
     "data": {
      "text/plain": [
       "0.1932749028836507"
      ]
     },
     "execution_count": 87,
     "metadata": {},
     "output_type": "execute_result"
    }
   ],
   "source": [
    "df['A'][0] # pierwsza wartosc z kolumny A"
   ]
  },
  {
   "cell_type": "code",
   "execution_count": 88,
   "id": "29c63338",
   "metadata": {},
   "outputs": [
    {
     "data": {
      "text/html": [
       "<div>\n",
       "<style scoped>\n",
       "    .dataframe tbody tr th:only-of-type {\n",
       "        vertical-align: middle;\n",
       "    }\n",
       "\n",
       "    .dataframe tbody tr th {\n",
       "        vertical-align: top;\n",
       "    }\n",
       "\n",
       "    .dataframe thead th {\n",
       "        text-align: right;\n",
       "    }\n",
       "</style>\n",
       "<table border=\"1\" class=\"dataframe\">\n",
       "  <thead>\n",
       "    <tr style=\"text-align: right;\">\n",
       "      <th></th>\n",
       "      <th>A</th>\n",
       "      <th>B</th>\n",
       "      <th>C</th>\n",
       "      <th>D</th>\n",
       "    </tr>\n",
       "  </thead>\n",
       "  <tbody>\n",
       "    <tr>\n",
       "      <th>2013-01-01</th>\n",
       "      <td>0.193275</td>\n",
       "      <td>-0.133109</td>\n",
       "      <td>0.013696</td>\n",
       "      <td>0.761218</td>\n",
       "    </tr>\n",
       "    <tr>\n",
       "      <th>2013-01-02</th>\n",
       "      <td>-1.656763</td>\n",
       "      <td>-0.124516</td>\n",
       "      <td>-0.093946</td>\n",
       "      <td>-0.095457</td>\n",
       "    </tr>\n",
       "    <tr>\n",
       "      <th>2013-01-03</th>\n",
       "      <td>0.831219</td>\n",
       "      <td>-1.237616</td>\n",
       "      <td>-0.156205</td>\n",
       "      <td>-1.449449</td>\n",
       "    </tr>\n",
       "    <tr>\n",
       "      <th>2013-01-04</th>\n",
       "      <td>-0.292412</td>\n",
       "      <td>0.172284</td>\n",
       "      <td>0.314251</td>\n",
       "      <td>-0.994351</td>\n",
       "    </tr>\n",
       "    <tr>\n",
       "      <th>2013-01-05</th>\n",
       "      <td>0.235916</td>\n",
       "      <td>-0.625086</td>\n",
       "      <td>0.362070</td>\n",
       "      <td>1.782928</td>\n",
       "    </tr>\n",
       "    <tr>\n",
       "      <th>2013-01-06</th>\n",
       "      <td>-0.418294</td>\n",
       "      <td>-0.284447</td>\n",
       "      <td>-0.041210</td>\n",
       "      <td>0.077003</td>\n",
       "    </tr>\n",
       "  </tbody>\n",
       "</table>\n",
       "</div>"
      ],
      "text/plain": [
       "                   A         B         C         D\n",
       "2013-01-01  0.193275 -0.133109  0.013696  0.761218\n",
       "2013-01-02 -1.656763 -0.124516 -0.093946 -0.095457\n",
       "2013-01-03  0.831219 -1.237616 -0.156205 -1.449449\n",
       "2013-01-04 -0.292412  0.172284  0.314251 -0.994351\n",
       "2013-01-05  0.235916 -0.625086  0.362070  1.782928\n",
       "2013-01-06 -0.418294 -0.284447 -0.041210  0.077003"
      ]
     },
     "execution_count": 88,
     "metadata": {},
     "output_type": "execute_result"
    }
   ],
   "source": [
    "df"
   ]
  },
  {
   "cell_type": "code",
   "execution_count": 89,
   "id": "65f759d4",
   "metadata": {},
   "outputs": [
    {
     "data": {
      "text/html": [
       "<div>\n",
       "<style scoped>\n",
       "    .dataframe tbody tr th:only-of-type {\n",
       "        vertical-align: middle;\n",
       "    }\n",
       "\n",
       "    .dataframe tbody tr th {\n",
       "        vertical-align: top;\n",
       "    }\n",
       "\n",
       "    .dataframe thead th {\n",
       "        text-align: right;\n",
       "    }\n",
       "</style>\n",
       "<table border=\"1\" class=\"dataframe\">\n",
       "  <thead>\n",
       "    <tr style=\"text-align: right;\">\n",
       "      <th></th>\n",
       "      <th>A</th>\n",
       "      <th>B</th>\n",
       "      <th>C</th>\n",
       "      <th>D</th>\n",
       "    </tr>\n",
       "  </thead>\n",
       "  <tbody>\n",
       "    <tr>\n",
       "      <th>2013-01-01</th>\n",
       "      <td>0.193275</td>\n",
       "      <td>-0.133109</td>\n",
       "      <td>0.013696</td>\n",
       "      <td>0.761218</td>\n",
       "    </tr>\n",
       "    <tr>\n",
       "      <th>2013-01-02</th>\n",
       "      <td>-1.656763</td>\n",
       "      <td>-0.124516</td>\n",
       "      <td>-0.093946</td>\n",
       "      <td>-0.095457</td>\n",
       "    </tr>\n",
       "    <tr>\n",
       "      <th>2013-01-03</th>\n",
       "      <td>0.831219</td>\n",
       "      <td>-1.237616</td>\n",
       "      <td>-0.156205</td>\n",
       "      <td>-1.449449</td>\n",
       "    </tr>\n",
       "  </tbody>\n",
       "</table>\n",
       "</div>"
      ],
      "text/plain": [
       "                   A         B         C         D\n",
       "2013-01-01  0.193275 -0.133109  0.013696  0.761218\n",
       "2013-01-02 -1.656763 -0.124516 -0.093946 -0.095457\n",
       "2013-01-03  0.831219 -1.237616 -0.156205 -1.449449"
      ]
     },
     "execution_count": 89,
     "metadata": {},
     "output_type": "execute_result"
    }
   ],
   "source": [
    "df[0:3] # wyswietla 3 pierwsze wiersze"
   ]
  },
  {
   "cell_type": "code",
   "execution_count": 90,
   "id": "3e41f3eb",
   "metadata": {},
   "outputs": [
    {
     "data": {
      "text/html": [
       "<div>\n",
       "<style scoped>\n",
       "    .dataframe tbody tr th:only-of-type {\n",
       "        vertical-align: middle;\n",
       "    }\n",
       "\n",
       "    .dataframe tbody tr th {\n",
       "        vertical-align: top;\n",
       "    }\n",
       "\n",
       "    .dataframe thead th {\n",
       "        text-align: right;\n",
       "    }\n",
       "</style>\n",
       "<table border=\"1\" class=\"dataframe\">\n",
       "  <thead>\n",
       "    <tr style=\"text-align: right;\">\n",
       "      <th></th>\n",
       "      <th>A</th>\n",
       "      <th>B</th>\n",
       "      <th>C</th>\n",
       "      <th>D</th>\n",
       "    </tr>\n",
       "  </thead>\n",
       "  <tbody>\n",
       "    <tr>\n",
       "      <th>2013-01-01</th>\n",
       "      <td>0.193275</td>\n",
       "      <td>-0.133109</td>\n",
       "      <td>0.013696</td>\n",
       "      <td>0.761218</td>\n",
       "    </tr>\n",
       "    <tr>\n",
       "      <th>2013-01-02</th>\n",
       "      <td>-1.656763</td>\n",
       "      <td>-0.124516</td>\n",
       "      <td>-0.093946</td>\n",
       "      <td>-0.095457</td>\n",
       "    </tr>\n",
       "    <tr>\n",
       "      <th>2013-01-03</th>\n",
       "      <td>0.831219</td>\n",
       "      <td>-1.237616</td>\n",
       "      <td>-0.156205</td>\n",
       "      <td>-1.449449</td>\n",
       "    </tr>\n",
       "  </tbody>\n",
       "</table>\n",
       "</div>"
      ],
      "text/plain": [
       "                   A         B         C         D\n",
       "2013-01-01  0.193275 -0.133109  0.013696  0.761218\n",
       "2013-01-02 -1.656763 -0.124516 -0.093946 -0.095457\n",
       "2013-01-03  0.831219 -1.237616 -0.156205 -1.449449"
      ]
     },
     "execution_count": 90,
     "metadata": {},
     "output_type": "execute_result"
    }
   ],
   "source": [
    "df['20130101':'20130103']"
   ]
  },
  {
   "cell_type": "code",
   "execution_count": 92,
   "id": "2ab36062",
   "metadata": {},
   "outputs": [],
   "source": [
    "# Label vs. Location\n",
    "# The main distinction between the two methods is:\n",
    "\n",
    "# loc gets rows (and/or columns) with particular labels. label = 20130101\n",
    "\n",
    "# iloc gets rows (and/or columns) at integer locations."
   ]
  },
  {
   "cell_type": "code",
   "execution_count": 93,
   "id": "e0f5e224",
   "metadata": {},
   "outputs": [
    {
     "data": {
      "text/plain": [
       "1    0.42\n",
       "8    0.45\n",
       "0    0.90\n",
       "4    0.62\n",
       "6    0.02\n",
       "9    0.17\n",
       "2    0.79\n",
       "5    0.63\n",
       "7    0.98\n",
       "3    0.72\n",
       "dtype: float64"
      ]
     },
     "execution_count": 93,
     "metadata": {},
     "output_type": "execute_result"
    }
   ],
   "source": [
    "b = pd.Series(np.round(np.random.uniform(0,1,10),2))\n",
    "i = np.r_[0:10]\n",
    "np.random.shuffle(i)\n",
    "b.index = i\n",
    "b"
   ]
  },
  {
   "cell_type": "code",
   "execution_count": 94,
   "id": "2351a119",
   "metadata": {},
   "outputs": [
    {
     "data": {
      "text/plain": [
       "0.9"
      ]
     },
     "execution_count": 94,
     "metadata": {},
     "output_type": "execute_result"
    }
   ],
   "source": [
    "b.iloc[2] # 3 numer wiersza, leci od 0"
   ]
  },
  {
   "cell_type": "code",
   "execution_count": 95,
   "id": "7b08b63f",
   "metadata": {},
   "outputs": [
    {
     "data": {
      "text/plain": [
       "0.79"
      ]
     },
     "execution_count": 95,
     "metadata": {},
     "output_type": "execute_result"
    }
   ],
   "source": [
    "b.loc[2] # wartosc z labelem \"2\""
   ]
  },
  {
   "cell_type": "code",
   "execution_count": 96,
   "id": "56ef6d97",
   "metadata": {
    "scrolled": true
   },
   "outputs": [
    {
     "data": {
      "text/plain": [
       "0    0.90\n",
       "4    0.62\n",
       "6    0.02\n",
       "9    0.17\n",
       "2    0.79\n",
       "dtype: float64"
      ]
     },
     "execution_count": 96,
     "metadata": {},
     "output_type": "execute_result"
    }
   ],
   "source": [
    "b.loc[0:2] # od labela 0 do 2"
   ]
  },
  {
   "cell_type": "code",
   "execution_count": 97,
   "id": "16b0b203",
   "metadata": {},
   "outputs": [
    {
     "data": {
      "text/plain": [
       "1    0.42\n",
       "8    0.45\n",
       "dtype: float64"
      ]
     },
     "execution_count": 97,
     "metadata": {},
     "output_type": "execute_result"
    }
   ],
   "source": [
    "b.iloc[0:2] #od pozycji 0 do 1 po indexie"
   ]
  },
  {
   "cell_type": "code",
   "execution_count": 98,
   "id": "61e995f0",
   "metadata": {},
   "outputs": [
    {
     "data": {
      "text/html": [
       "<div>\n",
       "<style scoped>\n",
       "    .dataframe tbody tr th:only-of-type {\n",
       "        vertical-align: middle;\n",
       "    }\n",
       "\n",
       "    .dataframe tbody tr th {\n",
       "        vertical-align: top;\n",
       "    }\n",
       "\n",
       "    .dataframe thead th {\n",
       "        text-align: right;\n",
       "    }\n",
       "</style>\n",
       "<table border=\"1\" class=\"dataframe\">\n",
       "  <thead>\n",
       "    <tr style=\"text-align: right;\">\n",
       "      <th></th>\n",
       "      <th>A</th>\n",
       "      <th>B</th>\n",
       "      <th>C</th>\n",
       "      <th>D</th>\n",
       "    </tr>\n",
       "  </thead>\n",
       "  <tbody>\n",
       "    <tr>\n",
       "      <th>2013-01-01</th>\n",
       "      <td>0.193275</td>\n",
       "      <td>-0.133109</td>\n",
       "      <td>0.013696</td>\n",
       "      <td>0.761218</td>\n",
       "    </tr>\n",
       "    <tr>\n",
       "      <th>2013-01-02</th>\n",
       "      <td>-1.656763</td>\n",
       "      <td>-0.124516</td>\n",
       "      <td>-0.093946</td>\n",
       "      <td>-0.095457</td>\n",
       "    </tr>\n",
       "    <tr>\n",
       "      <th>2013-01-03</th>\n",
       "      <td>0.831219</td>\n",
       "      <td>-1.237616</td>\n",
       "      <td>-0.156205</td>\n",
       "      <td>-1.449449</td>\n",
       "    </tr>\n",
       "    <tr>\n",
       "      <th>2013-01-04</th>\n",
       "      <td>-0.292412</td>\n",
       "      <td>0.172284</td>\n",
       "      <td>0.314251</td>\n",
       "      <td>-0.994351</td>\n",
       "    </tr>\n",
       "    <tr>\n",
       "      <th>2013-01-05</th>\n",
       "      <td>0.235916</td>\n",
       "      <td>-0.625086</td>\n",
       "      <td>0.362070</td>\n",
       "      <td>1.782928</td>\n",
       "    </tr>\n",
       "    <tr>\n",
       "      <th>2013-01-06</th>\n",
       "      <td>-0.418294</td>\n",
       "      <td>-0.284447</td>\n",
       "      <td>-0.041210</td>\n",
       "      <td>0.077003</td>\n",
       "    </tr>\n",
       "  </tbody>\n",
       "</table>\n",
       "</div>"
      ],
      "text/plain": [
       "                   A         B         C         D\n",
       "2013-01-01  0.193275 -0.133109  0.013696  0.761218\n",
       "2013-01-02 -1.656763 -0.124516 -0.093946 -0.095457\n",
       "2013-01-03  0.831219 -1.237616 -0.156205 -1.449449\n",
       "2013-01-04 -0.292412  0.172284  0.314251 -0.994351\n",
       "2013-01-05  0.235916 -0.625086  0.362070  1.782928\n",
       "2013-01-06 -0.418294 -0.284447 -0.041210  0.077003"
      ]
     },
     "execution_count": 98,
     "metadata": {},
     "output_type": "execute_result"
    }
   ],
   "source": [
    "df"
   ]
  },
  {
   "cell_type": "code",
   "execution_count": 100,
   "id": "7da9b2fd",
   "metadata": {},
   "outputs": [],
   "source": [
    "# df.loc[2:4] nie uda się, bo labele to daty"
   ]
  },
  {
   "cell_type": "code",
   "execution_count": 101,
   "id": "14d532ba",
   "metadata": {},
   "outputs": [
    {
     "data": {
      "text/html": [
       "<div>\n",
       "<style scoped>\n",
       "    .dataframe tbody tr th:only-of-type {\n",
       "        vertical-align: middle;\n",
       "    }\n",
       "\n",
       "    .dataframe tbody tr th {\n",
       "        vertical-align: top;\n",
       "    }\n",
       "\n",
       "    .dataframe thead th {\n",
       "        text-align: right;\n",
       "    }\n",
       "</style>\n",
       "<table border=\"1\" class=\"dataframe\">\n",
       "  <thead>\n",
       "    <tr style=\"text-align: right;\">\n",
       "      <th></th>\n",
       "      <th>A</th>\n",
       "      <th>B</th>\n",
       "      <th>C</th>\n",
       "      <th>D</th>\n",
       "    </tr>\n",
       "  </thead>\n",
       "  <tbody>\n",
       "    <tr>\n",
       "      <th>2013-01-03</th>\n",
       "      <td>0.831219</td>\n",
       "      <td>-1.237616</td>\n",
       "      <td>-0.156205</td>\n",
       "      <td>-1.449449</td>\n",
       "    </tr>\n",
       "    <tr>\n",
       "      <th>2013-01-04</th>\n",
       "      <td>-0.292412</td>\n",
       "      <td>0.172284</td>\n",
       "      <td>0.314251</td>\n",
       "      <td>-0.994351</td>\n",
       "    </tr>\n",
       "  </tbody>\n",
       "</table>\n",
       "</div>"
      ],
      "text/plain": [
       "                   A         B         C         D\n",
       "2013-01-03  0.831219 -1.237616 -0.156205 -1.449449\n",
       "2013-01-04 -0.292412  0.172284  0.314251 -0.994351"
      ]
     },
     "execution_count": 101,
     "metadata": {},
     "output_type": "execute_result"
    }
   ],
   "source": [
    "df.iloc[2:4]"
   ]
  },
  {
   "cell_type": "code",
   "execution_count": 102,
   "id": "9ab3c09a",
   "metadata": {},
   "outputs": [
    {
     "data": {
      "text/html": [
       "<div>\n",
       "<style scoped>\n",
       "    .dataframe tbody tr th:only-of-type {\n",
       "        vertical-align: middle;\n",
       "    }\n",
       "\n",
       "    .dataframe tbody tr th {\n",
       "        vertical-align: top;\n",
       "    }\n",
       "\n",
       "    .dataframe thead th {\n",
       "        text-align: right;\n",
       "    }\n",
       "</style>\n",
       "<table border=\"1\" class=\"dataframe\">\n",
       "  <thead>\n",
       "    <tr style=\"text-align: right;\">\n",
       "      <th></th>\n",
       "      <th>A</th>\n",
       "      <th>B</th>\n",
       "      <th>C</th>\n",
       "      <th>D</th>\n",
       "    </tr>\n",
       "  </thead>\n",
       "  <tbody>\n",
       "    <tr>\n",
       "      <th>2013-01-01</th>\n",
       "      <td>0.193275</td>\n",
       "      <td>-0.133109</td>\n",
       "      <td>0.013696</td>\n",
       "      <td>0.761218</td>\n",
       "    </tr>\n",
       "    <tr>\n",
       "      <th>2013-01-02</th>\n",
       "      <td>-1.656763</td>\n",
       "      <td>-0.124516</td>\n",
       "      <td>-0.093946</td>\n",
       "      <td>-0.095457</td>\n",
       "    </tr>\n",
       "    <tr>\n",
       "      <th>2013-01-03</th>\n",
       "      <td>0.831219</td>\n",
       "      <td>-1.237616</td>\n",
       "      <td>-0.156205</td>\n",
       "      <td>-1.449449</td>\n",
       "    </tr>\n",
       "  </tbody>\n",
       "</table>\n",
       "</div>"
      ],
      "text/plain": [
       "                   A         B         C         D\n",
       "2013-01-01  0.193275 -0.133109  0.013696  0.761218\n",
       "2013-01-02 -1.656763 -0.124516 -0.093946 -0.095457\n",
       "2013-01-03  0.831219 -1.237616 -0.156205 -1.449449"
      ]
     },
     "execution_count": 102,
     "metadata": {},
     "output_type": "execute_result"
    }
   ],
   "source": [
    "df.loc[dates[0]:dates[2]] # w locu nie ma wykluczania ostatniej wartości"
   ]
  },
  {
   "cell_type": "code",
   "execution_count": 103,
   "id": "707dbb73",
   "metadata": {},
   "outputs": [
    {
     "data": {
      "text/html": [
       "<div>\n",
       "<style scoped>\n",
       "    .dataframe tbody tr th:only-of-type {\n",
       "        vertical-align: middle;\n",
       "    }\n",
       "\n",
       "    .dataframe tbody tr th {\n",
       "        vertical-align: top;\n",
       "    }\n",
       "\n",
       "    .dataframe thead th {\n",
       "        text-align: right;\n",
       "    }\n",
       "</style>\n",
       "<table border=\"1\" class=\"dataframe\">\n",
       "  <thead>\n",
       "    <tr style=\"text-align: right;\">\n",
       "      <th></th>\n",
       "      <th>A</th>\n",
       "      <th>B</th>\n",
       "      <th>C</th>\n",
       "      <th>D</th>\n",
       "    </tr>\n",
       "  </thead>\n",
       "  <tbody>\n",
       "  </tbody>\n",
       "</table>\n",
       "</div>"
      ],
      "text/plain": [
       "Empty DataFrame\n",
       "Columns: [A, B, C, D]\n",
       "Index: []"
      ]
     },
     "execution_count": 103,
     "metadata": {},
     "output_type": "execute_result"
    }
   ],
   "source": [
    "df.loc[dates[1]:dates[0]] # nic nie wyświetli bo po dates[1] nie napotka dates[0]"
   ]
  },
  {
   "cell_type": "code",
   "execution_count": 104,
   "id": "ff818bee",
   "metadata": {},
   "outputs": [],
   "source": [
    "# zakres wierszowo-kolumnowy"
   ]
  },
  {
   "cell_type": "code",
   "execution_count": 106,
   "id": "4e315430",
   "metadata": {},
   "outputs": [
    {
     "data": {
      "text/html": [
       "<div>\n",
       "<style scoped>\n",
       "    .dataframe tbody tr th:only-of-type {\n",
       "        vertical-align: middle;\n",
       "    }\n",
       "\n",
       "    .dataframe tbody tr th {\n",
       "        vertical-align: top;\n",
       "    }\n",
       "\n",
       "    .dataframe thead th {\n",
       "        text-align: right;\n",
       "    }\n",
       "</style>\n",
       "<table border=\"1\" class=\"dataframe\">\n",
       "  <thead>\n",
       "    <tr style=\"text-align: right;\">\n",
       "      <th></th>\n",
       "      <th>A</th>\n",
       "      <th>B</th>\n",
       "      <th>C</th>\n",
       "      <th>D</th>\n",
       "    </tr>\n",
       "  </thead>\n",
       "  <tbody>\n",
       "    <tr>\n",
       "      <th>2013-01-01</th>\n",
       "      <td>0.193275</td>\n",
       "      <td>-0.133109</td>\n",
       "      <td>0.013696</td>\n",
       "      <td>0.761218</td>\n",
       "    </tr>\n",
       "    <tr>\n",
       "      <th>2013-01-02</th>\n",
       "      <td>-1.656763</td>\n",
       "      <td>-0.124516</td>\n",
       "      <td>-0.093946</td>\n",
       "      <td>-0.095457</td>\n",
       "    </tr>\n",
       "    <tr>\n",
       "      <th>2013-01-03</th>\n",
       "      <td>0.831219</td>\n",
       "      <td>-1.237616</td>\n",
       "      <td>-0.156205</td>\n",
       "      <td>-1.449449</td>\n",
       "    </tr>\n",
       "  </tbody>\n",
       "</table>\n",
       "</div>"
      ],
      "text/plain": [
       "                   A         B         C         D\n",
       "2013-01-01  0.193275 -0.133109  0.013696  0.761218\n",
       "2013-01-02 -1.656763 -0.124516 -0.093946 -0.095457\n",
       "2013-01-03  0.831219 -1.237616 -0.156205 -1.449449"
      ]
     },
     "execution_count": 106,
     "metadata": {},
     "output_type": "execute_result"
    }
   ],
   "source": [
    "df[0:3]"
   ]
  },
  {
   "cell_type": "code",
   "execution_count": 107,
   "id": "1b596c7a",
   "metadata": {},
   "outputs": [
    {
     "data": {
      "text/html": [
       "<div>\n",
       "<style scoped>\n",
       "    .dataframe tbody tr th:only-of-type {\n",
       "        vertical-align: middle;\n",
       "    }\n",
       "\n",
       "    .dataframe tbody tr th {\n",
       "        vertical-align: top;\n",
       "    }\n",
       "\n",
       "    .dataframe thead th {\n",
       "        text-align: right;\n",
       "    }\n",
       "</style>\n",
       "<table border=\"1\" class=\"dataframe\">\n",
       "  <thead>\n",
       "    <tr style=\"text-align: right;\">\n",
       "      <th></th>\n",
       "      <th>A</th>\n",
       "      <th>B</th>\n",
       "      <th>C</th>\n",
       "      <th>D</th>\n",
       "    </tr>\n",
       "  </thead>\n",
       "  <tbody>\n",
       "    <tr>\n",
       "      <th>2013-01-04</th>\n",
       "      <td>-0.292412</td>\n",
       "      <td>0.172284</td>\n",
       "      <td>0.314251</td>\n",
       "      <td>-0.994351</td>\n",
       "    </tr>\n",
       "    <tr>\n",
       "      <th>2013-01-03</th>\n",
       "      <td>0.831219</td>\n",
       "      <td>-1.237616</td>\n",
       "      <td>-0.156205</td>\n",
       "      <td>-1.449449</td>\n",
       "    </tr>\n",
       "    <tr>\n",
       "      <th>2013-01-02</th>\n",
       "      <td>-1.656763</td>\n",
       "      <td>-0.124516</td>\n",
       "      <td>-0.093946</td>\n",
       "      <td>-0.095457</td>\n",
       "    </tr>\n",
       "  </tbody>\n",
       "</table>\n",
       "</div>"
      ],
      "text/plain": [
       "                   A         B         C         D\n",
       "2013-01-04 -0.292412  0.172284  0.314251 -0.994351\n",
       "2013-01-03  0.831219 -1.237616 -0.156205 -1.449449\n",
       "2013-01-02 -1.656763 -0.124516 -0.093946 -0.095457"
      ]
     },
     "execution_count": 107,
     "metadata": {},
     "output_type": "execute_result"
    }
   ],
   "source": [
    "# zmiana kierunku\n",
    "df[3:0:-1]"
   ]
  },
  {
   "cell_type": "code",
   "execution_count": 108,
   "id": "03419daf",
   "metadata": {},
   "outputs": [
    {
     "data": {
      "text/html": [
       "<div>\n",
       "<style scoped>\n",
       "    .dataframe tbody tr th:only-of-type {\n",
       "        vertical-align: middle;\n",
       "    }\n",
       "\n",
       "    .dataframe tbody tr th {\n",
       "        vertical-align: top;\n",
       "    }\n",
       "\n",
       "    .dataframe thead th {\n",
       "        text-align: right;\n",
       "    }\n",
       "</style>\n",
       "<table border=\"1\" class=\"dataframe\">\n",
       "  <thead>\n",
       "    <tr style=\"text-align: right;\">\n",
       "      <th></th>\n",
       "      <th>A</th>\n",
       "      <th>B</th>\n",
       "      <th>C</th>\n",
       "      <th>D</th>\n",
       "    </tr>\n",
       "  </thead>\n",
       "  <tbody>\n",
       "    <tr>\n",
       "      <th>2013-01-04</th>\n",
       "      <td>-0.292412</td>\n",
       "      <td>0.172284</td>\n",
       "      <td>0.314251</td>\n",
       "      <td>-0.994351</td>\n",
       "    </tr>\n",
       "    <tr>\n",
       "      <th>2013-01-05</th>\n",
       "      <td>0.235916</td>\n",
       "      <td>-0.625086</td>\n",
       "      <td>0.362070</td>\n",
       "      <td>1.782928</td>\n",
       "    </tr>\n",
       "    <tr>\n",
       "      <th>2013-01-06</th>\n",
       "      <td>-0.418294</td>\n",
       "      <td>-0.284447</td>\n",
       "      <td>-0.041210</td>\n",
       "      <td>0.077003</td>\n",
       "    </tr>\n",
       "  </tbody>\n",
       "</table>\n",
       "</div>"
      ],
      "text/plain": [
       "                   A         B         C         D\n",
       "2013-01-04 -0.292412  0.172284  0.314251 -0.994351\n",
       "2013-01-05  0.235916 -0.625086  0.362070  1.782928\n",
       "2013-01-06 -0.418294 -0.284447 -0.041210  0.077003"
      ]
     },
     "execution_count": 108,
     "metadata": {},
     "output_type": "execute_result"
    }
   ],
   "source": [
    "df[-3:] # od 3 od końca do końca"
   ]
  },
  {
   "cell_type": "code",
   "execution_count": null,
   "id": "5fb9a2ee",
   "metadata": {},
   "outputs": [],
   "source": []
  }
 ],
 "metadata": {
  "kernelspec": {
   "display_name": "Python 3 (ipykernel)",
   "language": "python",
   "name": "python3"
  },
  "language_info": {
   "codemirror_mode": {
    "name": "ipython",
    "version": 3
   },
   "file_extension": ".py",
   "mimetype": "text/x-python",
   "name": "python",
   "nbconvert_exporter": "python",
   "pygments_lexer": "ipython3",
   "version": "3.11.2"
  }
 },
 "nbformat": 4,
 "nbformat_minor": 5
}
